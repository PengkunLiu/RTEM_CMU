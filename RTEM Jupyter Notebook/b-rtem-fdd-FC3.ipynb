{
 "cells": [
  {
   "cell_type": "markdown",
   "id": "817cdfd7",
   "metadata": {
    "papermill": {
     "duration": 0.082603,
     "end_time": "2022-05-13T16:22:11.477159",
     "exception": false,
     "start_time": "2022-05-13T16:22:11.394556",
     "status": "completed"
    },
    "tags": []
   },
   "source": [
    "# Time Series Analysis Examples\n",
    "In this notebook we will be transforming and exploring time-series data from Onboard API. Make sure to run the following chunk of code first in order to install it.\n",
    "\n",
    "How to query time-series from data points, process and visually explore them. This notebook is outlined in several YouTube videos that discuss:\n",
    "- how [to load and filter time-series data](https://youtu.be/KDThdyes8kc) from sensors\n",
    "- [resample and transform time-series data](https://youtu.be/VlQNGwiSSKM)\n",
    "- and [create heat maps and boxplots of data](https://youtu.be/QMr0y9LOlr8) for exploration"
   ]
  },
  {
   "cell_type": "code",
   "execution_count": 1,
   "id": "a4fef4cd",
   "metadata": {
    "execution": {
     "iopub.execute_input": "2022-05-13T16:22:25.248391Z",
     "iopub.status.busy": "2022-05-13T16:22:25.247721Z",
     "iopub.status.idle": "2022-05-13T16:22:25.387229Z",
     "shell.execute_reply": "2022-05-13T16:22:25.388051Z",
     "shell.execute_reply.started": "2022-05-04T01:29:00.25444Z"
    },
    "papermill": {
     "duration": 0.23365,
     "end_time": "2022-05-13T16:22:25.388267",
     "exception": false,
     "start_time": "2022-05-13T16:22:25.154617",
     "status": "completed"
    },
    "tags": []
   },
   "outputs": [],
   "source": [
    "import pandas as pd\n",
    "from onboard.client import RtemClient"
   ]
  },
  {
   "cell_type": "markdown",
   "id": "a0d7e703",
   "metadata": {
    "papermill": {
     "duration": 0.087019,
     "end_time": "2022-05-13T16:22:25.562206",
     "exception": false,
     "start_time": "2022-05-13T16:22:25.475187",
     "status": "completed"
    },
    "tags": []
   },
   "source": [
    "# Create the client"
   ]
  },
  {
   "cell_type": "markdown",
   "id": "b6200e78",
   "metadata": {
    "papermill": {
     "duration": 0.085554,
     "end_time": "2022-05-13T16:22:25.736877",
     "exception": false,
     "start_time": "2022-05-13T16:22:25.651323",
     "status": "completed"
    },
    "tags": []
   },
   "source": [
    "For this notebook, you need to use the API Key with acces to the general scope and building:read scope. Let's create the client:"
   ]
  },
  {
   "cell_type": "code",
   "execution_count": 2,
   "id": "f6d9b8e0",
   "metadata": {
    "execution": {
     "iopub.execute_input": "2022-05-13T16:22:25.913818Z",
     "iopub.status.busy": "2022-05-13T16:22:25.913100Z",
     "iopub.status.idle": "2022-05-13T16:22:25.915977Z",
     "shell.execute_reply": "2022-05-13T16:22:25.916657Z",
     "shell.execute_reply.started": "2022-05-04T01:29:05.439395Z"
    },
    "papermill": {
     "duration": 0.093458,
     "end_time": "2022-05-13T16:22:25.916844",
     "exception": false,
     "start_time": "2022-05-13T16:22:25.823386",
     "status": "completed"
    },
    "tags": []
   },
   "outputs": [],
   "source": [
    "api_key = 'ob-p-_KnPccpVFOwKvS5u_SpKixHjKKq6H1JvrzwjxISOfPiNKKZ56_EeE5ORVJOGGtx0d_k'"
   ]
  },
  {
   "cell_type": "code",
   "execution_count": 3,
   "id": "8d1c427f",
   "metadata": {
    "execution": {
     "iopub.execute_input": "2022-05-13T16:22:26.844180Z",
     "iopub.status.busy": "2022-05-13T16:22:26.843356Z",
     "iopub.status.idle": "2022-05-13T16:22:26.848246Z",
     "shell.execute_reply": "2022-05-13T16:22:26.847722Z",
     "shell.execute_reply.started": "2022-05-04T01:29:08.893873Z"
    },
    "papermill": {
     "duration": 0.095438,
     "end_time": "2022-05-13T16:22:26.848389",
     "exception": false,
     "start_time": "2022-05-13T16:22:26.752951",
     "status": "completed"
    },
    "tags": []
   },
   "outputs": [],
   "source": [
    "client = RtemClient(api_key=api_key)"
   ]
  },
  {
   "cell_type": "markdown",
   "id": "49f0b671",
   "metadata": {
    "papermill": {
     "duration": 0.088361,
     "end_time": "2022-05-13T16:22:27.024529",
     "exception": false,
     "start_time": "2022-05-13T16:22:26.936168",
     "status": "completed"
    },
    "tags": []
   },
   "source": [
    "# Load & filter data"
   ]
  },
  {
   "cell_type": "markdown",
   "id": "98249007",
   "metadata": {
    "papermill": {
     "duration": 0.086231,
     "end_time": "2022-05-13T16:22:27.197739",
     "exception": false,
     "start_time": "2022-05-13T16:22:27.111508",
     "status": "completed"
    },
    "tags": []
   },
   "source": [
    "We will be using the metadata file we obtained from Onboard API in the previous notebook. Of course you can query these points again, but let's learn how to load and filter the data using *pandas*:"
   ]
  },
  {
   "cell_type": "code",
   "execution_count": 4,
   "id": "3581a594",
   "metadata": {
    "execution": {
     "iopub.execute_input": "2022-05-13T16:22:27.378162Z",
     "iopub.status.busy": "2022-05-13T16:22:27.377526Z",
     "iopub.status.idle": "2022-05-13T16:22:27.859725Z",
     "shell.execute_reply": "2022-05-13T16:22:27.860215Z",
     "shell.execute_reply.started": "2022-05-04T01:30:24.572709Z"
    },
    "papermill": {
     "duration": 0.575997,
     "end_time": "2022-05-13T16:22:27.860423",
     "exception": false,
     "start_time": "2022-05-13T16:22:27.284426",
     "status": "completed"
    },
    "tags": []
   },
   "outputs": [],
   "source": [
    "metadata = pd.read_csv(\"./rtem_all_points_metadata.csv\")"
   ]
  },
  {
   "cell_type": "markdown",
   "id": "80661e22",
   "metadata": {
    "papermill": {
     "duration": 0.086013,
     "end_time": "2022-05-13T16:22:28.033894",
     "exception": false,
     "start_time": "2022-05-13T16:22:27.947881",
     "status": "completed"
    },
    "tags": []
   },
   "source": [
    "Let's check the data types:"
   ]
  },
  {
   "cell_type": "code",
   "execution_count": 5,
   "id": "cd19242c",
   "metadata": {
    "execution": {
     "iopub.execute_input": "2022-05-13T16:22:28.219997Z",
     "iopub.status.busy": "2022-05-13T16:22:28.218982Z",
     "iopub.status.idle": "2022-05-13T16:22:28.290668Z",
     "shell.execute_reply": "2022-05-13T16:22:28.291377Z",
     "shell.execute_reply.started": "2022-05-04T01:30:27.006363Z"
    },
    "papermill": {
     "duration": 0.168678,
     "end_time": "2022-05-13T16:22:28.291630",
     "exception": false,
     "start_time": "2022-05-13T16:22:28.122952",
     "status": "completed"
    },
    "tags": []
   },
   "outputs": [
    {
     "name": "stdout",
     "output_type": "stream",
     "text": [
      "<class 'pandas.core.frame.DataFrame'>\n",
      "RangeIndex: 44390 entries, 0 to 44389\n",
      "Data columns (total 24 columns):\n",
      " #   Column            Non-Null Count  Dtype  \n",
      "---  ------            --------------  -----  \n",
      " 0   id_point          44390 non-null  int64  \n",
      " 1   building_id       44390 non-null  int64  \n",
      " 2   last_updated      44342 non-null  float64\n",
      " 3   first_updated     44342 non-null  float64\n",
      " 4   device            0 non-null      float64\n",
      " 5   objectId          0 non-null      float64\n",
      " 6   name_point        14658 non-null  object \n",
      " 7   description       31843 non-null  object \n",
      " 8   units             31687 non-null  object \n",
      " 9   tagged_units      14654 non-null  object \n",
      " 10  raw_unit_id       44390 non-null  int64  \n",
      " 11  value             44274 non-null  object \n",
      " 12  type              44390 non-null  object \n",
      " 13  point_type_id     44390 non-null  int64  \n",
      " 14  measurement_id    44390 non-null  int64  \n",
      " 15  datasource_hash   44390 non-null  object \n",
      " 16  topic             44390 non-null  object \n",
      " 17  equip_id          44390 non-null  int64  \n",
      " 18  id_bdg            44390 non-null  int64  \n",
      " 19  name_bdg          44390 non-null  int64  \n",
      " 20  equip_type_abbr   44390 non-null  object \n",
      " 21  equip_type_name   44390 non-null  object \n",
      " 22  area_served_desc  0 non-null      float64\n",
      " 23  tags              44390 non-null  object \n",
      "dtypes: float64(5), int64(8), object(11)\n",
      "memory usage: 8.1+ MB\n"
     ]
    }
   ],
   "source": [
    "metadata.info()"
   ]
  },
  {
   "cell_type": "code",
   "execution_count": 6,
   "id": "8aa79e61",
   "metadata": {
    "execution": {
     "iopub.execute_input": "2022-05-13T16:22:28.472523Z",
     "iopub.status.busy": "2022-05-13T16:22:28.470051Z",
     "iopub.status.idle": "2022-05-13T16:22:28.507993Z",
     "shell.execute_reply": "2022-05-13T16:22:28.508549Z",
     "shell.execute_reply.started": "2022-05-04T01:30:46.750421Z"
    },
    "papermill": {
     "duration": 0.1292,
     "end_time": "2022-05-13T16:22:28.508729",
     "exception": false,
     "start_time": "2022-05-13T16:22:28.379529",
     "status": "completed"
    },
    "tags": []
   },
   "outputs": [
    {
     "data": {
      "text/html": [
       "<div>\n",
       "<style scoped>\n",
       "    .dataframe tbody tr th:only-of-type {\n",
       "        vertical-align: middle;\n",
       "    }\n",
       "\n",
       "    .dataframe tbody tr th {\n",
       "        vertical-align: top;\n",
       "    }\n",
       "\n",
       "    .dataframe thead th {\n",
       "        text-align: right;\n",
       "    }\n",
       "</style>\n",
       "<table border=\"1\" class=\"dataframe\">\n",
       "  <thead>\n",
       "    <tr style=\"text-align: right;\">\n",
       "      <th></th>\n",
       "      <th>id_point</th>\n",
       "      <th>building_id</th>\n",
       "      <th>last_updated</th>\n",
       "      <th>first_updated</th>\n",
       "      <th>device</th>\n",
       "      <th>objectId</th>\n",
       "      <th>name_point</th>\n",
       "      <th>description</th>\n",
       "      <th>units</th>\n",
       "      <th>tagged_units</th>\n",
       "      <th>...</th>\n",
       "      <th>measurement_id</th>\n",
       "      <th>datasource_hash</th>\n",
       "      <th>topic</th>\n",
       "      <th>equip_id</th>\n",
       "      <th>id_bdg</th>\n",
       "      <th>name_bdg</th>\n",
       "      <th>equip_type_abbr</th>\n",
       "      <th>equip_type_name</th>\n",
       "      <th>area_served_desc</th>\n",
       "      <th>tags</th>\n",
       "    </tr>\n",
       "  </thead>\n",
       "  <tbody>\n",
       "    <tr>\n",
       "      <th>0</th>\n",
       "      <td>310029</td>\n",
       "      <td>441</td>\n",
       "      <td>1.560571e+12</td>\n",
       "      <td>1.550542e+12</td>\n",
       "      <td>NaN</td>\n",
       "      <td>NaN</td>\n",
       "      <td>245 E 149th St. Boiler-1 Fault Code</td>\n",
       "      <td>NaN</td>\n",
       "      <td>?</td>\n",
       "      <td>?</td>\n",
       "      <td>...</td>\n",
       "      <td>18</td>\n",
       "      <td>b115b5053493748f7076ad09f69c4456</td>\n",
       "      <td>nyserda+0000088737+boiler-1+245 E 149th St. Bo...</td>\n",
       "      <td>28797</td>\n",
       "      <td>441</td>\n",
       "      <td>88737</td>\n",
       "      <td>BLR</td>\n",
       "      <td>Boiler</td>\n",
       "      <td>NaN</td>\n",
       "      <td>['boiler', 'hvac']</td>\n",
       "    </tr>\n",
       "    <tr>\n",
       "      <th>1</th>\n",
       "      <td>310009</td>\n",
       "      <td>441</td>\n",
       "      <td>1.560485e+12</td>\n",
       "      <td>1.550701e+12</td>\n",
       "      <td>NaN</td>\n",
       "      <td>NaN</td>\n",
       "      <td>225 E 149th St. Boiler-1 Exhaust Temp</td>\n",
       "      <td>NaN</td>\n",
       "      <td>F</td>\n",
       "      <td>f</td>\n",
       "      <td>...</td>\n",
       "      <td>1</td>\n",
       "      <td>4a1a11502acee3078352da312c40c262</td>\n",
       "      <td>nyserda+0000088737+boiler-1+225 E 149th St. Bo...</td>\n",
       "      <td>28797</td>\n",
       "      <td>441</td>\n",
       "      <td>88737</td>\n",
       "      <td>BLR</td>\n",
       "      <td>Boiler</td>\n",
       "      <td>NaN</td>\n",
       "      <td>['boiler', 'hvac']</td>\n",
       "    </tr>\n",
       "    <tr>\n",
       "      <th>2</th>\n",
       "      <td>310010</td>\n",
       "      <td>441</td>\n",
       "      <td>1.560571e+12</td>\n",
       "      <td>1.550504e+12</td>\n",
       "      <td>NaN</td>\n",
       "      <td>NaN</td>\n",
       "      <td>225 E 149th St. Boiler-1 Fault Code</td>\n",
       "      <td>NaN</td>\n",
       "      <td>?</td>\n",
       "      <td>?</td>\n",
       "      <td>...</td>\n",
       "      <td>18</td>\n",
       "      <td>55882633fe8fb5aac7dac643c99b1af5</td>\n",
       "      <td>nyserda+0000088737+boiler-1+225 E 149th St. Bo...</td>\n",
       "      <td>28797</td>\n",
       "      <td>441</td>\n",
       "      <td>88737</td>\n",
       "      <td>BLR</td>\n",
       "      <td>Boiler</td>\n",
       "      <td>NaN</td>\n",
       "      <td>['boiler', 'hvac']</td>\n",
       "    </tr>\n",
       "    <tr>\n",
       "      <th>3</th>\n",
       "      <td>310011</td>\n",
       "      <td>441</td>\n",
       "      <td>1.560485e+12</td>\n",
       "      <td>1.550504e+12</td>\n",
       "      <td>NaN</td>\n",
       "      <td>NaN</td>\n",
       "      <td>225 E 149th St. Boiler-1 FFWD Temp</td>\n",
       "      <td>NaN</td>\n",
       "      <td>?</td>\n",
       "      <td>?</td>\n",
       "      <td>...</td>\n",
       "      <td>18</td>\n",
       "      <td>831a8df09b848f53e807fa0204c45eaa</td>\n",
       "      <td>nyserda+0000088737+boiler-1+225 E 149th St. Bo...</td>\n",
       "      <td>28797</td>\n",
       "      <td>441</td>\n",
       "      <td>88737</td>\n",
       "      <td>BLR</td>\n",
       "      <td>Boiler</td>\n",
       "      <td>NaN</td>\n",
       "      <td>['boiler', 'hvac']</td>\n",
       "    </tr>\n",
       "    <tr>\n",
       "      <th>4</th>\n",
       "      <td>310012</td>\n",
       "      <td>441</td>\n",
       "      <td>1.560485e+12</td>\n",
       "      <td>1.550504e+12</td>\n",
       "      <td>NaN</td>\n",
       "      <td>NaN</td>\n",
       "      <td>225 E 149th St. Boiler-1 Fire Rate In</td>\n",
       "      <td>NaN</td>\n",
       "      <td>?</td>\n",
       "      <td>?</td>\n",
       "      <td>...</td>\n",
       "      <td>18</td>\n",
       "      <td>aa147c829c7ed55b6e93cdbbb8b43d55</td>\n",
       "      <td>nyserda+0000088737+boiler-1+225 E 149th St. Bo...</td>\n",
       "      <td>28797</td>\n",
       "      <td>441</td>\n",
       "      <td>88737</td>\n",
       "      <td>BLR</td>\n",
       "      <td>Boiler</td>\n",
       "      <td>NaN</td>\n",
       "      <td>['boiler', 'hvac']</td>\n",
       "    </tr>\n",
       "  </tbody>\n",
       "</table>\n",
       "<p>5 rows × 24 columns</p>\n",
       "</div>"
      ],
      "text/plain": [
       "   id_point  building_id  last_updated  first_updated  device  objectId  \\\n",
       "0    310029          441  1.560571e+12   1.550542e+12     NaN       NaN   \n",
       "1    310009          441  1.560485e+12   1.550701e+12     NaN       NaN   \n",
       "2    310010          441  1.560571e+12   1.550504e+12     NaN       NaN   \n",
       "3    310011          441  1.560485e+12   1.550504e+12     NaN       NaN   \n",
       "4    310012          441  1.560485e+12   1.550504e+12     NaN       NaN   \n",
       "\n",
       "                              name_point description units tagged_units  ...  \\\n",
       "0    245 E 149th St. Boiler-1 Fault Code         NaN     ?            ?  ...   \n",
       "1  225 E 149th St. Boiler-1 Exhaust Temp         NaN     F            f  ...   \n",
       "2    225 E 149th St. Boiler-1 Fault Code         NaN     ?            ?  ...   \n",
       "3     225 E 149th St. Boiler-1 FFWD Temp         NaN     ?            ?  ...   \n",
       "4  225 E 149th St. Boiler-1 Fire Rate In         NaN     ?            ?  ...   \n",
       "\n",
       "   measurement_id                   datasource_hash  \\\n",
       "0              18  b115b5053493748f7076ad09f69c4456   \n",
       "1               1  4a1a11502acee3078352da312c40c262   \n",
       "2              18  55882633fe8fb5aac7dac643c99b1af5   \n",
       "3              18  831a8df09b848f53e807fa0204c45eaa   \n",
       "4              18  aa147c829c7ed55b6e93cdbbb8b43d55   \n",
       "\n",
       "                                               topic  equip_id  id_bdg  \\\n",
       "0  nyserda+0000088737+boiler-1+245 E 149th St. Bo...     28797     441   \n",
       "1  nyserda+0000088737+boiler-1+225 E 149th St. Bo...     28797     441   \n",
       "2  nyserda+0000088737+boiler-1+225 E 149th St. Bo...     28797     441   \n",
       "3  nyserda+0000088737+boiler-1+225 E 149th St. Bo...     28797     441   \n",
       "4  nyserda+0000088737+boiler-1+225 E 149th St. Bo...     28797     441   \n",
       "\n",
       "  name_bdg equip_type_abbr  equip_type_name  area_served_desc  \\\n",
       "0    88737             BLR           Boiler               NaN   \n",
       "1    88737             BLR           Boiler               NaN   \n",
       "2    88737             BLR           Boiler               NaN   \n",
       "3    88737             BLR           Boiler               NaN   \n",
       "4    88737             BLR           Boiler               NaN   \n",
       "\n",
       "                 tags  \n",
       "0  ['boiler', 'hvac']  \n",
       "1  ['boiler', 'hvac']  \n",
       "2  ['boiler', 'hvac']  \n",
       "3  ['boiler', 'hvac']  \n",
       "4  ['boiler', 'hvac']  \n",
       "\n",
       "[5 rows x 24 columns]"
      ]
     },
     "execution_count": 6,
     "metadata": {},
     "output_type": "execute_result"
    }
   ],
   "source": [
    "metadata.head()"
   ]
  },
  {
   "cell_type": "markdown",
   "id": "41328735",
   "metadata": {
    "papermill": {
     "duration": 0.088525,
     "end_time": "2022-05-13T16:22:28.686552",
     "exception": false,
     "start_time": "2022-05-13T16:22:28.598027",
     "status": "completed"
    },
    "tags": []
   },
   "source": [
    "We have a lot of points here:"
   ]
  },
  {
   "cell_type": "code",
   "execution_count": 7,
   "id": "bc50f5ba",
   "metadata": {
    "execution": {
     "iopub.execute_input": "2022-05-13T16:22:28.869339Z",
     "iopub.status.busy": "2022-05-13T16:22:28.868279Z",
     "iopub.status.idle": "2022-05-13T16:22:28.872357Z",
     "shell.execute_reply": "2022-05-13T16:22:28.871813Z",
     "shell.execute_reply.started": "2022-05-04T01:31:10.656197Z"
    },
    "papermill": {
     "duration": 0.096718,
     "end_time": "2022-05-13T16:22:28.872557",
     "exception": false,
     "start_time": "2022-05-13T16:22:28.775839",
     "status": "completed"
    },
    "tags": []
   },
   "outputs": [
    {
     "data": {
      "text/plain": [
       "44390"
      ]
     },
     "execution_count": 7,
     "metadata": {},
     "output_type": "execute_result"
    }
   ],
   "source": [
    "len(metadata.id_point)"
   ]
  },
  {
   "cell_type": "markdown",
   "id": "05f82df7",
   "metadata": {
    "papermill": {
     "duration": 0.089319,
     "end_time": "2022-05-13T16:22:29.049750",
     "exception": false,
     "start_time": "2022-05-13T16:22:28.960431",
     "status": "completed"
    },
    "tags": []
   },
   "source": [
    "Let's filter out only the Zone Temperature sensors -that's the `type_id` 77, you can confirm this querying the ontology data, like we did in the previous notebook ;)- and that are Fan Coil Units:"
   ]
  },
  {
   "cell_type": "code",
   "execution_count": 8,
   "id": "b5d759ba",
   "metadata": {
    "execution": {
     "iopub.execute_input": "2022-05-13T16:22:29.231313Z",
     "iopub.status.busy": "2022-05-13T16:22:29.230324Z",
     "iopub.status.idle": "2022-05-13T16:22:29.245501Z",
     "shell.execute_reply": "2022-05-13T16:22:29.246015Z",
     "shell.execute_reply.started": "2022-05-04T01:32:03.014508Z"
    },
    "papermill": {
     "duration": 0.108664,
     "end_time": "2022-05-13T16:22:29.246189",
     "exception": false,
     "start_time": "2022-05-13T16:22:29.137525",
     "status": "completed"
    },
    "tags": []
   },
   "outputs": [],
   "source": [
    "# boiler_data = metadata[(metadata.equip_type_name == \"Boiler\")]\n",
    "# pump_data = metadata[(metadata.equip_type_name == \"Pump\")]\n",
    "# hws_data = metadata[(metadata.equip_type_name == \"Hot Water Plant\")]"
   ]
  },
  {
   "cell_type": "code",
   "execution_count": 9,
   "id": "41a30518",
   "metadata": {},
   "outputs": [],
   "source": [
    "ahu_data = metadata[(metadata.equip_type_name == \"Air Handling Unit\")]"
   ]
  },
  {
   "cell_type": "code",
   "execution_count": 10,
   "id": "efe11db1",
   "metadata": {},
   "outputs": [],
   "source": [
    "ahu_data.head()\n",
    "ahu_data.to_csv('sample.csv')"
   ]
  },
  {
   "cell_type": "code",
   "execution_count": 11,
   "id": "2cf51085",
   "metadata": {},
   "outputs": [
    {
     "data": {
      "text/plain": [
       "array([18092, 18093, 18094, ..., 22747, 32352, 32353], dtype=int64)"
      ]
     },
     "execution_count": 11,
     "metadata": {},
     "output_type": "execute_result"
    }
   ],
   "source": [
    "ahu_data['equip_id'].unique()"
   ]
  },
  {
   "cell_type": "code",
   "execution_count": 12,
   "id": "a00f29d6",
   "metadata": {
    "scrolled": true
   },
   "outputs": [
    {
     "data": {
      "text/html": [
       "<div>\n",
       "<style scoped>\n",
       "    .dataframe tbody tr th:only-of-type {\n",
       "        vertical-align: middle;\n",
       "    }\n",
       "\n",
       "    .dataframe tbody tr th {\n",
       "        vertical-align: top;\n",
       "    }\n",
       "\n",
       "    .dataframe thead th {\n",
       "        text-align: right;\n",
       "    }\n",
       "</style>\n",
       "<table border=\"1\" class=\"dataframe\">\n",
       "  <thead>\n",
       "    <tr style=\"text-align: right;\">\n",
       "      <th></th>\n",
       "      <th>id_point</th>\n",
       "      <th>building_id</th>\n",
       "      <th>last_updated</th>\n",
       "      <th>first_updated</th>\n",
       "      <th>device</th>\n",
       "      <th>objectId</th>\n",
       "      <th>name_point</th>\n",
       "      <th>description</th>\n",
       "      <th>units</th>\n",
       "      <th>tagged_units</th>\n",
       "      <th>...</th>\n",
       "      <th>measurement_id</th>\n",
       "      <th>datasource_hash</th>\n",
       "      <th>topic</th>\n",
       "      <th>equip_id</th>\n",
       "      <th>id_bdg</th>\n",
       "      <th>name_bdg</th>\n",
       "      <th>equip_type_abbr</th>\n",
       "      <th>equip_type_name</th>\n",
       "      <th>area_served_desc</th>\n",
       "      <th>tags</th>\n",
       "    </tr>\n",
       "  </thead>\n",
       "  <tbody>\n",
       "    <tr>\n",
       "      <th>1326</th>\n",
       "      <td>198131</td>\n",
       "      <td>140</td>\n",
       "      <td>1.551416e+12</td>\n",
       "      <td>1.509509e+12</td>\n",
       "      <td>NaN</td>\n",
       "      <td>NaN</td>\n",
       "      <td>NaN</td>\n",
       "      <td>UPCM-1 AH-1 Gallery_Mixed Air Temp</td>\n",
       "      <td>F</td>\n",
       "      <td>NaN</td>\n",
       "      <td>...</td>\n",
       "      <td>1</td>\n",
       "      <td>603cdedfc8c6efd774c2ebe9a62b33a8</td>\n",
       "      <td>nyserda+0000083483+ahu1-gallery+UPCM-1 AH-1 Ga...</td>\n",
       "      <td>18092</td>\n",
       "      <td>140</td>\n",
       "      <td>83483</td>\n",
       "      <td>AHU</td>\n",
       "      <td>Air Handling Unit</td>\n",
       "      <td>NaN</td>\n",
       "      <td>['ahu', 'hvac']</td>\n",
       "    </tr>\n",
       "    <tr>\n",
       "      <th>1397</th>\n",
       "      <td>198220</td>\n",
       "      <td>140</td>\n",
       "      <td>1.551416e+12</td>\n",
       "      <td>1.509509e+12</td>\n",
       "      <td>NaN</td>\n",
       "      <td>NaN</td>\n",
       "      <td>NaN</td>\n",
       "      <td>UPCM-2 AH-2 2nd Floor_Mixed Air Temp</td>\n",
       "      <td>F</td>\n",
       "      <td>NaN</td>\n",
       "      <td>...</td>\n",
       "      <td>1</td>\n",
       "      <td>3e9a73baa2a23bb6d2512641a0deda36</td>\n",
       "      <td>nyserda+0000083483+ahu2-floor2+UPCM-2 AH-2 2nd...</td>\n",
       "      <td>18094</td>\n",
       "      <td>140</td>\n",
       "      <td>83483</td>\n",
       "      <td>AHU</td>\n",
       "      <td>Air Handling Unit</td>\n",
       "      <td>NaN</td>\n",
       "      <td>['ahu', 'hvac']</td>\n",
       "    </tr>\n",
       "    <tr>\n",
       "      <th>2213</th>\n",
       "      <td>267505</td>\n",
       "      <td>419</td>\n",
       "      <td>1.567915e+12</td>\n",
       "      <td>1.551967e+12</td>\n",
       "      <td>NaN</td>\n",
       "      <td>NaN</td>\n",
       "      <td>NaN</td>\n",
       "      <td>221 E 71st St Mechanical Room Marymount  AHU-1...</td>\n",
       "      <td>F</td>\n",
       "      <td>NaN</td>\n",
       "      <td>...</td>\n",
       "      <td>1</td>\n",
       "      <td>9cb7b76801c0073bedf1d5fea96b8110</td>\n",
       "      <td>nyserda+0000116399+ahu-1+221 E 71st St Mechani...</td>\n",
       "      <td>25962</td>\n",
       "      <td>419</td>\n",
       "      <td>116399</td>\n",
       "      <td>AHU</td>\n",
       "      <td>Air Handling Unit</td>\n",
       "      <td>NaN</td>\n",
       "      <td>['ahu', 'hvac']</td>\n",
       "    </tr>\n",
       "    <tr>\n",
       "      <th>2227</th>\n",
       "      <td>267522</td>\n",
       "      <td>419</td>\n",
       "      <td>1.567916e+12</td>\n",
       "      <td>1.551967e+12</td>\n",
       "      <td>NaN</td>\n",
       "      <td>NaN</td>\n",
       "      <td>NaN</td>\n",
       "      <td>221 E 71st St AHU-10 Mixed Air Temp</td>\n",
       "      <td>F</td>\n",
       "      <td>NaN</td>\n",
       "      <td>...</td>\n",
       "      <td>1</td>\n",
       "      <td>273ce8975e94a7567937781e039e695a</td>\n",
       "      <td>nyserda+0000116399+ahu-10+221 E 71st St AHU-10...</td>\n",
       "      <td>25963</td>\n",
       "      <td>419</td>\n",
       "      <td>116399</td>\n",
       "      <td>AHU</td>\n",
       "      <td>Air Handling Unit</td>\n",
       "      <td>NaN</td>\n",
       "      <td>['ahu', 'hvac']</td>\n",
       "    </tr>\n",
       "    <tr>\n",
       "      <th>2244</th>\n",
       "      <td>267544</td>\n",
       "      <td>419</td>\n",
       "      <td>1.567916e+12</td>\n",
       "      <td>1.551967e+12</td>\n",
       "      <td>NaN</td>\n",
       "      <td>NaN</td>\n",
       "      <td>NaN</td>\n",
       "      <td>221 E 71st St AHU-2 Mixed Air Temp</td>\n",
       "      <td>F</td>\n",
       "      <td>NaN</td>\n",
       "      <td>...</td>\n",
       "      <td>1</td>\n",
       "      <td>cb3f889c867ebee5f0e305ebe6442dc1</td>\n",
       "      <td>nyserda+0000116399+ahu-2+221 E 71st St AHU-2 M...</td>\n",
       "      <td>25964</td>\n",
       "      <td>419</td>\n",
       "      <td>116399</td>\n",
       "      <td>AHU</td>\n",
       "      <td>Air Handling Unit</td>\n",
       "      <td>NaN</td>\n",
       "      <td>['ahu', 'hvac']</td>\n",
       "    </tr>\n",
       "    <tr>\n",
       "      <th>...</th>\n",
       "      <td>...</td>\n",
       "      <td>...</td>\n",
       "      <td>...</td>\n",
       "      <td>...</td>\n",
       "      <td>...</td>\n",
       "      <td>...</td>\n",
       "      <td>...</td>\n",
       "      <td>...</td>\n",
       "      <td>...</td>\n",
       "      <td>...</td>\n",
       "      <td>...</td>\n",
       "      <td>...</td>\n",
       "      <td>...</td>\n",
       "      <td>...</td>\n",
       "      <td>...</td>\n",
       "      <td>...</td>\n",
       "      <td>...</td>\n",
       "      <td>...</td>\n",
       "      <td>...</td>\n",
       "      <td>...</td>\n",
       "      <td>...</td>\n",
       "    </tr>\n",
       "    <tr>\n",
       "      <th>42550</th>\n",
       "      <td>229883</td>\n",
       "      <td>391</td>\n",
       "      <td>1.577768e+12</td>\n",
       "      <td>1.560782e+12</td>\n",
       "      <td>NaN</td>\n",
       "      <td>NaN</td>\n",
       "      <td>NaN</td>\n",
       "      <td>L_AH3_MAT</td>\n",
       "      <td>F</td>\n",
       "      <td>NaN</td>\n",
       "      <td>...</td>\n",
       "      <td>1</td>\n",
       "      <td>8a695e4671ceebec5a84c3b0dec1506d</td>\n",
       "      <td>nyserda+0000123698+ahu3+L_AH3_MAT</td>\n",
       "      <td>22589</td>\n",
       "      <td>391</td>\n",
       "      <td>123698</td>\n",
       "      <td>AHU</td>\n",
       "      <td>Air Handling Unit</td>\n",
       "      <td>NaN</td>\n",
       "      <td>['ahu', 'hvac']</td>\n",
       "    </tr>\n",
       "    <tr>\n",
       "      <th>42769</th>\n",
       "      <td>230095</td>\n",
       "      <td>394</td>\n",
       "      <td>1.546318e+12</td>\n",
       "      <td>1.514783e+12</td>\n",
       "      <td>NaN</td>\n",
       "      <td>NaN</td>\n",
       "      <td>NaN</td>\n",
       "      <td>HVAC AC1 MAT</td>\n",
       "      <td>F</td>\n",
       "      <td>NaN</td>\n",
       "      <td>...</td>\n",
       "      <td>1</td>\n",
       "      <td>ffd8a42e22442211f2742cb5a42325da</td>\n",
       "      <td>nyserda+0000080880+ac1+HVAC AC1 MAT</td>\n",
       "      <td>22630</td>\n",
       "      <td>394</td>\n",
       "      <td>80880</td>\n",
       "      <td>AHU</td>\n",
       "      <td>Air Handling Unit</td>\n",
       "      <td>NaN</td>\n",
       "      <td>['ahu', 'hvac']</td>\n",
       "    </tr>\n",
       "    <tr>\n",
       "      <th>44243</th>\n",
       "      <td>230969</td>\n",
       "      <td>398</td>\n",
       "      <td>1.577768e+12</td>\n",
       "      <td>1.554845e+12</td>\n",
       "      <td>NaN</td>\n",
       "      <td>NaN</td>\n",
       "      <td>NaN</td>\n",
       "      <td>AC-25-1_MaTmp</td>\n",
       "      <td>F</td>\n",
       "      <td>NaN</td>\n",
       "      <td>...</td>\n",
       "      <td>1</td>\n",
       "      <td>0333f2263b2291bdb6e8d511e8ae47da</td>\n",
       "      <td>nyserda+0000109188+ac25-1+AC-25-1_MaTmp</td>\n",
       "      <td>22734</td>\n",
       "      <td>398</td>\n",
       "      <td>109188</td>\n",
       "      <td>AHU</td>\n",
       "      <td>Air Handling Unit</td>\n",
       "      <td>NaN</td>\n",
       "      <td>['ahu', 'hvac']</td>\n",
       "    </tr>\n",
       "    <tr>\n",
       "      <th>44260</th>\n",
       "      <td>231000</td>\n",
       "      <td>398</td>\n",
       "      <td>1.577768e+12</td>\n",
       "      <td>1.554845e+12</td>\n",
       "      <td>NaN</td>\n",
       "      <td>NaN</td>\n",
       "      <td>NaN</td>\n",
       "      <td>AC-4-1_MaTmp</td>\n",
       "      <td>F</td>\n",
       "      <td>NaN</td>\n",
       "      <td>...</td>\n",
       "      <td>1</td>\n",
       "      <td>5bc07319ee8a1f22dec9f34ad698d934</td>\n",
       "      <td>nyserda+0000109188+ac4-1+AC-4-1_MaTmp</td>\n",
       "      <td>22735</td>\n",
       "      <td>398</td>\n",
       "      <td>109188</td>\n",
       "      <td>AHU</td>\n",
       "      <td>Air Handling Unit</td>\n",
       "      <td>NaN</td>\n",
       "      <td>['ahu', 'hvac']</td>\n",
       "    </tr>\n",
       "    <tr>\n",
       "      <th>44295</th>\n",
       "      <td>231030</td>\n",
       "      <td>398</td>\n",
       "      <td>1.577768e+12</td>\n",
       "      <td>1.554845e+12</td>\n",
       "      <td>NaN</td>\n",
       "      <td>NaN</td>\n",
       "      <td>NaN</td>\n",
       "      <td>AC-9-1_MaTmp</td>\n",
       "      <td>F</td>\n",
       "      <td>NaN</td>\n",
       "      <td>...</td>\n",
       "      <td>1</td>\n",
       "      <td>2e7b9cb55b578177e7e896e484b1ced7</td>\n",
       "      <td>nyserda+0000109188+ac9-1+AC-9-1_MaTmp</td>\n",
       "      <td>22736</td>\n",
       "      <td>398</td>\n",
       "      <td>109188</td>\n",
       "      <td>AHU</td>\n",
       "      <td>Air Handling Unit</td>\n",
       "      <td>NaN</td>\n",
       "      <td>['ahu', 'hvac']</td>\n",
       "    </tr>\n",
       "  </tbody>\n",
       "</table>\n",
       "<p>232 rows × 24 columns</p>\n",
       "</div>"
      ],
      "text/plain": [
       "       id_point  building_id  last_updated  first_updated  device  objectId  \\\n",
       "1326     198131          140  1.551416e+12   1.509509e+12     NaN       NaN   \n",
       "1397     198220          140  1.551416e+12   1.509509e+12     NaN       NaN   \n",
       "2213     267505          419  1.567915e+12   1.551967e+12     NaN       NaN   \n",
       "2227     267522          419  1.567916e+12   1.551967e+12     NaN       NaN   \n",
       "2244     267544          419  1.567916e+12   1.551967e+12     NaN       NaN   \n",
       "...         ...          ...           ...            ...     ...       ...   \n",
       "42550    229883          391  1.577768e+12   1.560782e+12     NaN       NaN   \n",
       "42769    230095          394  1.546318e+12   1.514783e+12     NaN       NaN   \n",
       "44243    230969          398  1.577768e+12   1.554845e+12     NaN       NaN   \n",
       "44260    231000          398  1.577768e+12   1.554845e+12     NaN       NaN   \n",
       "44295    231030          398  1.577768e+12   1.554845e+12     NaN       NaN   \n",
       "\n",
       "      name_point                                        description units  \\\n",
       "1326         NaN                 UPCM-1 AH-1 Gallery_Mixed Air Temp     F   \n",
       "1397         NaN               UPCM-2 AH-2 2nd Floor_Mixed Air Temp     F   \n",
       "2213         NaN  221 E 71st St Mechanical Room Marymount  AHU-1...     F   \n",
       "2227         NaN                221 E 71st St AHU-10 Mixed Air Temp     F   \n",
       "2244         NaN                 221 E 71st St AHU-2 Mixed Air Temp     F   \n",
       "...          ...                                                ...   ...   \n",
       "42550        NaN                                          L_AH3_MAT     F   \n",
       "42769        NaN                                       HVAC AC1 MAT     F   \n",
       "44243        NaN                                      AC-25-1_MaTmp     F   \n",
       "44260        NaN                                       AC-4-1_MaTmp     F   \n",
       "44295        NaN                                       AC-9-1_MaTmp     F   \n",
       "\n",
       "      tagged_units  ...  measurement_id                   datasource_hash  \\\n",
       "1326           NaN  ...               1  603cdedfc8c6efd774c2ebe9a62b33a8   \n",
       "1397           NaN  ...               1  3e9a73baa2a23bb6d2512641a0deda36   \n",
       "2213           NaN  ...               1  9cb7b76801c0073bedf1d5fea96b8110   \n",
       "2227           NaN  ...               1  273ce8975e94a7567937781e039e695a   \n",
       "2244           NaN  ...               1  cb3f889c867ebee5f0e305ebe6442dc1   \n",
       "...            ...  ...             ...                               ...   \n",
       "42550          NaN  ...               1  8a695e4671ceebec5a84c3b0dec1506d   \n",
       "42769          NaN  ...               1  ffd8a42e22442211f2742cb5a42325da   \n",
       "44243          NaN  ...               1  0333f2263b2291bdb6e8d511e8ae47da   \n",
       "44260          NaN  ...               1  5bc07319ee8a1f22dec9f34ad698d934   \n",
       "44295          NaN  ...               1  2e7b9cb55b578177e7e896e484b1ced7   \n",
       "\n",
       "                                                   topic  equip_id  id_bdg  \\\n",
       "1326   nyserda+0000083483+ahu1-gallery+UPCM-1 AH-1 Ga...     18092     140   \n",
       "1397   nyserda+0000083483+ahu2-floor2+UPCM-2 AH-2 2nd...     18094     140   \n",
       "2213   nyserda+0000116399+ahu-1+221 E 71st St Mechani...     25962     419   \n",
       "2227   nyserda+0000116399+ahu-10+221 E 71st St AHU-10...     25963     419   \n",
       "2244   nyserda+0000116399+ahu-2+221 E 71st St AHU-2 M...     25964     419   \n",
       "...                                                  ...       ...     ...   \n",
       "42550                  nyserda+0000123698+ahu3+L_AH3_MAT     22589     391   \n",
       "42769                nyserda+0000080880+ac1+HVAC AC1 MAT     22630     394   \n",
       "44243            nyserda+0000109188+ac25-1+AC-25-1_MaTmp     22734     398   \n",
       "44260              nyserda+0000109188+ac4-1+AC-4-1_MaTmp     22735     398   \n",
       "44295              nyserda+0000109188+ac9-1+AC-9-1_MaTmp     22736     398   \n",
       "\n",
       "      name_bdg equip_type_abbr    equip_type_name  area_served_desc  \\\n",
       "1326     83483             AHU  Air Handling Unit               NaN   \n",
       "1397     83483             AHU  Air Handling Unit               NaN   \n",
       "2213    116399             AHU  Air Handling Unit               NaN   \n",
       "2227    116399             AHU  Air Handling Unit               NaN   \n",
       "2244    116399             AHU  Air Handling Unit               NaN   \n",
       "...        ...             ...                ...               ...   \n",
       "42550   123698             AHU  Air Handling Unit               NaN   \n",
       "42769    80880             AHU  Air Handling Unit               NaN   \n",
       "44243   109188             AHU  Air Handling Unit               NaN   \n",
       "44260   109188             AHU  Air Handling Unit               NaN   \n",
       "44295   109188             AHU  Air Handling Unit               NaN   \n",
       "\n",
       "                  tags  \n",
       "1326   ['ahu', 'hvac']  \n",
       "1397   ['ahu', 'hvac']  \n",
       "2213   ['ahu', 'hvac']  \n",
       "2227   ['ahu', 'hvac']  \n",
       "2244   ['ahu', 'hvac']  \n",
       "...                ...  \n",
       "42550  ['ahu', 'hvac']  \n",
       "42769  ['ahu', 'hvac']  \n",
       "44243  ['ahu', 'hvac']  \n",
       "44260  ['ahu', 'hvac']  \n",
       "44295  ['ahu', 'hvac']  \n",
       "\n",
       "[232 rows x 24 columns]"
      ]
     },
     "execution_count": 12,
     "metadata": {},
     "output_type": "execute_result"
    }
   ],
   "source": [
    "ahu_mat_data = ahu_data[(ahu_data.type == \"Mixed Air Temperature\")]\n",
    "ahu_mat_data"
   ]
  },
  {
   "cell_type": "code",
   "execution_count": 13,
   "id": "74b6675f",
   "metadata": {},
   "outputs": [
    {
     "data": {
      "text/html": [
       "<div>\n",
       "<style scoped>\n",
       "    .dataframe tbody tr th:only-of-type {\n",
       "        vertical-align: middle;\n",
       "    }\n",
       "\n",
       "    .dataframe tbody tr th {\n",
       "        vertical-align: top;\n",
       "    }\n",
       "\n",
       "    .dataframe thead th {\n",
       "        text-align: right;\n",
       "    }\n",
       "</style>\n",
       "<table border=\"1\" class=\"dataframe\">\n",
       "  <thead>\n",
       "    <tr style=\"text-align: right;\">\n",
       "      <th></th>\n",
       "      <th>id_point</th>\n",
       "      <th>building_id</th>\n",
       "      <th>last_updated</th>\n",
       "      <th>first_updated</th>\n",
       "      <th>device</th>\n",
       "      <th>objectId</th>\n",
       "      <th>name_point</th>\n",
       "      <th>description</th>\n",
       "      <th>units</th>\n",
       "      <th>tagged_units</th>\n",
       "      <th>...</th>\n",
       "      <th>measurement_id</th>\n",
       "      <th>datasource_hash</th>\n",
       "      <th>topic</th>\n",
       "      <th>equip_id</th>\n",
       "      <th>id_bdg</th>\n",
       "      <th>name_bdg</th>\n",
       "      <th>equip_type_abbr</th>\n",
       "      <th>equip_type_name</th>\n",
       "      <th>area_served_desc</th>\n",
       "      <th>tags</th>\n",
       "    </tr>\n",
       "  </thead>\n",
       "  <tbody>\n",
       "    <tr>\n",
       "      <th>7008</th>\n",
       "      <td>358423</td>\n",
       "      <td>477</td>\n",
       "      <td>1.622519e+12</td>\n",
       "      <td>1.594786e+12</td>\n",
       "      <td>NaN</td>\n",
       "      <td>NaN</td>\n",
       "      <td>GX-M1-3 Exhaust Static Pressure Setpoint_GM13DS</td>\n",
       "      <td>NaN</td>\n",
       "      <td>NaN</td>\n",
       "      <td>in w.c.</td>\n",
       "      <td>...</td>\n",
       "      <td>37</td>\n",
       "      <td>7a9e09eef99abebb0a733480388dc6ec</td>\n",
       "      <td>nyserda+0000159950+site-Sensor+GX-M1-3 Exhaust...</td>\n",
       "      <td>31798</td>\n",
       "      <td>477</td>\n",
       "      <td>159950</td>\n",
       "      <td>SITE</td>\n",
       "      <td>Site Sensors</td>\n",
       "      <td>NaN</td>\n",
       "      <td>['site']</td>\n",
       "    </tr>\n",
       "  </tbody>\n",
       "</table>\n",
       "<p>1 rows × 24 columns</p>\n",
       "</div>"
      ],
      "text/plain": [
       "      id_point  building_id  last_updated  first_updated  device  objectId  \\\n",
       "7008    358423          477  1.622519e+12   1.594786e+12     NaN       NaN   \n",
       "\n",
       "                                           name_point description units  \\\n",
       "7008  GX-M1-3 Exhaust Static Pressure Setpoint_GM13DS         NaN   NaN   \n",
       "\n",
       "     tagged_units  ...  measurement_id                   datasource_hash  \\\n",
       "7008      in w.c.  ...              37  7a9e09eef99abebb0a733480388dc6ec   \n",
       "\n",
       "                                                  topic  equip_id  id_bdg  \\\n",
       "7008  nyserda+0000159950+site-Sensor+GX-M1-3 Exhaust...     31798     477   \n",
       "\n",
       "     name_bdg equip_type_abbr  equip_type_name  area_served_desc      tags  \n",
       "7008   159950            SITE     Site Sensors               NaN  ['site']  \n",
       "\n",
       "[1 rows x 24 columns]"
      ]
     },
     "execution_count": 13,
     "metadata": {},
     "output_type": "execute_result"
    }
   ],
   "source": [
    "ahu_easps_data = metadata[(metadata.type == \"Exhaust Air Static Pressure Setpoint\")]\n",
    "ahu_easps_data"
   ]
  },
  {
   "cell_type": "code",
   "execution_count": 14,
   "id": "de20a505",
   "metadata": {},
   "outputs": [
    {
     "data": {
      "text/html": [
       "<div>\n",
       "<style scoped>\n",
       "    .dataframe tbody tr th:only-of-type {\n",
       "        vertical-align: middle;\n",
       "    }\n",
       "\n",
       "    .dataframe tbody tr th {\n",
       "        vertical-align: top;\n",
       "    }\n",
       "\n",
       "    .dataframe thead th {\n",
       "        text-align: right;\n",
       "    }\n",
       "</style>\n",
       "<table border=\"1\" class=\"dataframe\">\n",
       "  <thead>\n",
       "    <tr style=\"text-align: right;\">\n",
       "      <th></th>\n",
       "      <th>id_point</th>\n",
       "      <th>building_id</th>\n",
       "      <th>last_updated</th>\n",
       "      <th>first_updated</th>\n",
       "      <th>device</th>\n",
       "      <th>objectId</th>\n",
       "      <th>name_point</th>\n",
       "      <th>description</th>\n",
       "      <th>units</th>\n",
       "      <th>tagged_units</th>\n",
       "      <th>...</th>\n",
       "      <th>measurement_id</th>\n",
       "      <th>datasource_hash</th>\n",
       "      <th>topic</th>\n",
       "      <th>equip_id</th>\n",
       "      <th>id_bdg</th>\n",
       "      <th>name_bdg</th>\n",
       "      <th>equip_type_abbr</th>\n",
       "      <th>equip_type_name</th>\n",
       "      <th>area_served_desc</th>\n",
       "      <th>tags</th>\n",
       "    </tr>\n",
       "  </thead>\n",
       "  <tbody>\n",
       "    <tr>\n",
       "      <th>1309</th>\n",
       "      <td>198149</td>\n",
       "      <td>140</td>\n",
       "      <td>1.551416e+12</td>\n",
       "      <td>1.536258e+12</td>\n",
       "      <td>NaN</td>\n",
       "      <td>NaN</td>\n",
       "      <td>NaN</td>\n",
       "      <td>UPCM-1 AH-1 Gallery_Return Air Temp</td>\n",
       "      <td>F</td>\n",
       "      <td>NaN</td>\n",
       "      <td>...</td>\n",
       "      <td>1</td>\n",
       "      <td>29a9514ea653ed9afbc43704e1230efd</td>\n",
       "      <td>nyserda+0000083483+ahu1-gallery+UPCM-1 AH-1 Ga...</td>\n",
       "      <td>18092</td>\n",
       "      <td>140</td>\n",
       "      <td>83483</td>\n",
       "      <td>AHU</td>\n",
       "      <td>Air Handling Unit</td>\n",
       "      <td>NaN</td>\n",
       "      <td>['ahu', 'hvac']</td>\n",
       "    </tr>\n",
       "    <tr>\n",
       "      <th>1361</th>\n",
       "      <td>198188</td>\n",
       "      <td>140</td>\n",
       "      <td>1.551416e+12</td>\n",
       "      <td>1.509509e+12</td>\n",
       "      <td>NaN</td>\n",
       "      <td>NaN</td>\n",
       "      <td>NaN</td>\n",
       "      <td>AH-1 Lobby_Return Air Temp</td>\n",
       "      <td>F</td>\n",
       "      <td>NaN</td>\n",
       "      <td>...</td>\n",
       "      <td>1</td>\n",
       "      <td>4d7c35460b418684bd7545239e72876c</td>\n",
       "      <td>nyserda+0000083483+ahu1-lobby+AH-1 Lobby_Retur...</td>\n",
       "      <td>18093</td>\n",
       "      <td>140</td>\n",
       "      <td>83483</td>\n",
       "      <td>AHU</td>\n",
       "      <td>Air Handling Unit</td>\n",
       "      <td>NaN</td>\n",
       "      <td>['ahu', 'hvac']</td>\n",
       "    </tr>\n",
       "    <tr>\n",
       "      <th>1382</th>\n",
       "      <td>198237</td>\n",
       "      <td>140</td>\n",
       "      <td>1.551416e+12</td>\n",
       "      <td>1.536258e+12</td>\n",
       "      <td>NaN</td>\n",
       "      <td>NaN</td>\n",
       "      <td>NaN</td>\n",
       "      <td>UPCM-2 AH-2 2nd Floor_Return Air Temp</td>\n",
       "      <td>F</td>\n",
       "      <td>NaN</td>\n",
       "      <td>...</td>\n",
       "      <td>1</td>\n",
       "      <td>6b9e0ebbd36ba727bdeb4437b012b877</td>\n",
       "      <td>nyserda+0000083483+ahu2-floor2+UPCM-2 AH-2 2nd...</td>\n",
       "      <td>18094</td>\n",
       "      <td>140</td>\n",
       "      <td>83483</td>\n",
       "      <td>AHU</td>\n",
       "      <td>Air Handling Unit</td>\n",
       "      <td>NaN</td>\n",
       "      <td>['ahu', 'hvac']</td>\n",
       "    </tr>\n",
       "    <tr>\n",
       "      <th>1446</th>\n",
       "      <td>198277</td>\n",
       "      <td>140</td>\n",
       "      <td>1.551416e+12</td>\n",
       "      <td>1.536592e+12</td>\n",
       "      <td>NaN</td>\n",
       "      <td>NaN</td>\n",
       "      <td>NaN</td>\n",
       "      <td>AHU-2-6TH-FLR_Return Air Temp</td>\n",
       "      <td>F</td>\n",
       "      <td>NaN</td>\n",
       "      <td>...</td>\n",
       "      <td>1</td>\n",
       "      <td>7ab8209ec890801c848af3ee4b601155</td>\n",
       "      <td>nyserda+0000083483+ahu2-floor6+AHU-2-6TH-FLR_R...</td>\n",
       "      <td>18095</td>\n",
       "      <td>140</td>\n",
       "      <td>83483</td>\n",
       "      <td>AHU</td>\n",
       "      <td>Air Handling Unit</td>\n",
       "      <td>NaN</td>\n",
       "      <td>['ahu', 'hvac']</td>\n",
       "    </tr>\n",
       "    <tr>\n",
       "      <th>1939</th>\n",
       "      <td>210910</td>\n",
       "      <td>271</td>\n",
       "      <td>1.551416e+12</td>\n",
       "      <td>1.527826e+12</td>\n",
       "      <td>NaN</td>\n",
       "      <td>NaN</td>\n",
       "      <td>NaN</td>\n",
       "      <td>3RD FL CSC_Return Air Temp</td>\n",
       "      <td>F</td>\n",
       "      <td>NaN</td>\n",
       "      <td>...</td>\n",
       "      <td>1</td>\n",
       "      <td>efd7b65c5c1670952dea0f90a6d509d4</td>\n",
       "      <td>nyserda+0000080324+csc3+3RD FL CSC_Return Air ...</td>\n",
       "      <td>20109</td>\n",
       "      <td>271</td>\n",
       "      <td>80324</td>\n",
       "      <td>AHU</td>\n",
       "      <td>Air Handling Unit</td>\n",
       "      <td>NaN</td>\n",
       "      <td>['ahu', 'hvac']</td>\n",
       "    </tr>\n",
       "    <tr>\n",
       "      <th>...</th>\n",
       "      <td>...</td>\n",
       "      <td>...</td>\n",
       "      <td>...</td>\n",
       "      <td>...</td>\n",
       "      <td>...</td>\n",
       "      <td>...</td>\n",
       "      <td>...</td>\n",
       "      <td>...</td>\n",
       "      <td>...</td>\n",
       "      <td>...</td>\n",
       "      <td>...</td>\n",
       "      <td>...</td>\n",
       "      <td>...</td>\n",
       "      <td>...</td>\n",
       "      <td>...</td>\n",
       "      <td>...</td>\n",
       "      <td>...</td>\n",
       "      <td>...</td>\n",
       "      <td>...</td>\n",
       "      <td>...</td>\n",
       "      <td>...</td>\n",
       "    </tr>\n",
       "    <tr>\n",
       "      <th>44220</th>\n",
       "      <td>230982</td>\n",
       "      <td>398</td>\n",
       "      <td>1.577768e+12</td>\n",
       "      <td>1.554845e+12</td>\n",
       "      <td>NaN</td>\n",
       "      <td>NaN</td>\n",
       "      <td>NaN</td>\n",
       "      <td>AC-25-1_RaTmp</td>\n",
       "      <td>F</td>\n",
       "      <td>NaN</td>\n",
       "      <td>...</td>\n",
       "      <td>1</td>\n",
       "      <td>95c8e3cbbd6081be1f8cb78a8e60f330</td>\n",
       "      <td>nyserda+0000109188+ac25-1+AC-25-1_RaTmp</td>\n",
       "      <td>22734</td>\n",
       "      <td>398</td>\n",
       "      <td>109188</td>\n",
       "      <td>AHU</td>\n",
       "      <td>Air Handling Unit</td>\n",
       "      <td>NaN</td>\n",
       "      <td>['ahu', 'hvac']</td>\n",
       "    </tr>\n",
       "    <tr>\n",
       "      <th>44253</th>\n",
       "      <td>231012</td>\n",
       "      <td>398</td>\n",
       "      <td>1.577768e+12</td>\n",
       "      <td>1.554845e+12</td>\n",
       "      <td>NaN</td>\n",
       "      <td>NaN</td>\n",
       "      <td>NaN</td>\n",
       "      <td>AC-4-1_RaTmp</td>\n",
       "      <td>F</td>\n",
       "      <td>NaN</td>\n",
       "      <td>...</td>\n",
       "      <td>1</td>\n",
       "      <td>7354b6fd64a4fac76eeb68382dee5a42</td>\n",
       "      <td>nyserda+0000109188+ac4-1+AC-4-1_RaTmp</td>\n",
       "      <td>22735</td>\n",
       "      <td>398</td>\n",
       "      <td>109188</td>\n",
       "      <td>AHU</td>\n",
       "      <td>Air Handling Unit</td>\n",
       "      <td>NaN</td>\n",
       "      <td>['ahu', 'hvac']</td>\n",
       "    </tr>\n",
       "    <tr>\n",
       "      <th>44284</th>\n",
       "      <td>231043</td>\n",
       "      <td>398</td>\n",
       "      <td>1.577768e+12</td>\n",
       "      <td>1.554845e+12</td>\n",
       "      <td>NaN</td>\n",
       "      <td>NaN</td>\n",
       "      <td>NaN</td>\n",
       "      <td>AC-9-1_RaTmp</td>\n",
       "      <td>F</td>\n",
       "      <td>NaN</td>\n",
       "      <td>...</td>\n",
       "      <td>1</td>\n",
       "      <td>e78398b47be19242f5e1a90d1ba3f96a</td>\n",
       "      <td>nyserda+0000109188+ac9-1+AC-9-1_RaTmp</td>\n",
       "      <td>22736</td>\n",
       "      <td>398</td>\n",
       "      <td>109188</td>\n",
       "      <td>AHU</td>\n",
       "      <td>Air Handling Unit</td>\n",
       "      <td>NaN</td>\n",
       "      <td>['ahu', 'hvac']</td>\n",
       "    </tr>\n",
       "    <tr>\n",
       "      <th>44314</th>\n",
       "      <td>231060</td>\n",
       "      <td>398</td>\n",
       "      <td>1.577768e+12</td>\n",
       "      <td>1.572568e+12</td>\n",
       "      <td>NaN</td>\n",
       "      <td>NaN</td>\n",
       "      <td>NaN</td>\n",
       "      <td>AHU_26_02_RATmp</td>\n",
       "      <td>F</td>\n",
       "      <td>NaN</td>\n",
       "      <td>...</td>\n",
       "      <td>1</td>\n",
       "      <td>bfffc10825012d93407e03a93fab5a77</td>\n",
       "      <td>nyserda+0000109188+ahu26-02+AHU_26_02_RATmp</td>\n",
       "      <td>22737</td>\n",
       "      <td>398</td>\n",
       "      <td>109188</td>\n",
       "      <td>AHU</td>\n",
       "      <td>Air Handling Unit</td>\n",
       "      <td>NaN</td>\n",
       "      <td>['ahu', 'hvac']</td>\n",
       "    </tr>\n",
       "    <tr>\n",
       "      <th>44321</th>\n",
       "      <td>231070</td>\n",
       "      <td>398</td>\n",
       "      <td>1.577768e+12</td>\n",
       "      <td>1.572568e+12</td>\n",
       "      <td>NaN</td>\n",
       "      <td>NaN</td>\n",
       "      <td>NaN</td>\n",
       "      <td>AHU_27_02_RATmp</td>\n",
       "      <td>F</td>\n",
       "      <td>NaN</td>\n",
       "      <td>...</td>\n",
       "      <td>1</td>\n",
       "      <td>00803ac45269e9c456ebaf9e121796a2</td>\n",
       "      <td>nyserda+0000109188+ahu27-02+AHU_27_02_RATmp</td>\n",
       "      <td>22738</td>\n",
       "      <td>398</td>\n",
       "      <td>109188</td>\n",
       "      <td>AHU</td>\n",
       "      <td>Air Handling Unit</td>\n",
       "      <td>NaN</td>\n",
       "      <td>['ahu', 'hvac']</td>\n",
       "    </tr>\n",
       "  </tbody>\n",
       "</table>\n",
       "<p>345 rows × 24 columns</p>\n",
       "</div>"
      ],
      "text/plain": [
       "       id_point  building_id  last_updated  first_updated  device  objectId  \\\n",
       "1309     198149          140  1.551416e+12   1.536258e+12     NaN       NaN   \n",
       "1361     198188          140  1.551416e+12   1.509509e+12     NaN       NaN   \n",
       "1382     198237          140  1.551416e+12   1.536258e+12     NaN       NaN   \n",
       "1446     198277          140  1.551416e+12   1.536592e+12     NaN       NaN   \n",
       "1939     210910          271  1.551416e+12   1.527826e+12     NaN       NaN   \n",
       "...         ...          ...           ...            ...     ...       ...   \n",
       "44220    230982          398  1.577768e+12   1.554845e+12     NaN       NaN   \n",
       "44253    231012          398  1.577768e+12   1.554845e+12     NaN       NaN   \n",
       "44284    231043          398  1.577768e+12   1.554845e+12     NaN       NaN   \n",
       "44314    231060          398  1.577768e+12   1.572568e+12     NaN       NaN   \n",
       "44321    231070          398  1.577768e+12   1.572568e+12     NaN       NaN   \n",
       "\n",
       "      name_point                            description units tagged_units  \\\n",
       "1309         NaN    UPCM-1 AH-1 Gallery_Return Air Temp     F          NaN   \n",
       "1361         NaN             AH-1 Lobby_Return Air Temp     F          NaN   \n",
       "1382         NaN  UPCM-2 AH-2 2nd Floor_Return Air Temp     F          NaN   \n",
       "1446         NaN          AHU-2-6TH-FLR_Return Air Temp     F          NaN   \n",
       "1939         NaN             3RD FL CSC_Return Air Temp     F          NaN   \n",
       "...          ...                                    ...   ...          ...   \n",
       "44220        NaN                          AC-25-1_RaTmp     F          NaN   \n",
       "44253        NaN                           AC-4-1_RaTmp     F          NaN   \n",
       "44284        NaN                           AC-9-1_RaTmp     F          NaN   \n",
       "44314        NaN                        AHU_26_02_RATmp     F          NaN   \n",
       "44321        NaN                        AHU_27_02_RATmp     F          NaN   \n",
       "\n",
       "       ...  measurement_id                   datasource_hash  \\\n",
       "1309   ...               1  29a9514ea653ed9afbc43704e1230efd   \n",
       "1361   ...               1  4d7c35460b418684bd7545239e72876c   \n",
       "1382   ...               1  6b9e0ebbd36ba727bdeb4437b012b877   \n",
       "1446   ...               1  7ab8209ec890801c848af3ee4b601155   \n",
       "1939   ...               1  efd7b65c5c1670952dea0f90a6d509d4   \n",
       "...    ...             ...                               ...   \n",
       "44220  ...               1  95c8e3cbbd6081be1f8cb78a8e60f330   \n",
       "44253  ...               1  7354b6fd64a4fac76eeb68382dee5a42   \n",
       "44284  ...               1  e78398b47be19242f5e1a90d1ba3f96a   \n",
       "44314  ...               1  bfffc10825012d93407e03a93fab5a77   \n",
       "44321  ...               1  00803ac45269e9c456ebaf9e121796a2   \n",
       "\n",
       "                                                   topic  equip_id  id_bdg  \\\n",
       "1309   nyserda+0000083483+ahu1-gallery+UPCM-1 AH-1 Ga...     18092     140   \n",
       "1361   nyserda+0000083483+ahu1-lobby+AH-1 Lobby_Retur...     18093     140   \n",
       "1382   nyserda+0000083483+ahu2-floor2+UPCM-2 AH-2 2nd...     18094     140   \n",
       "1446   nyserda+0000083483+ahu2-floor6+AHU-2-6TH-FLR_R...     18095     140   \n",
       "1939   nyserda+0000080324+csc3+3RD FL CSC_Return Air ...     20109     271   \n",
       "...                                                  ...       ...     ...   \n",
       "44220            nyserda+0000109188+ac25-1+AC-25-1_RaTmp     22734     398   \n",
       "44253              nyserda+0000109188+ac4-1+AC-4-1_RaTmp     22735     398   \n",
       "44284              nyserda+0000109188+ac9-1+AC-9-1_RaTmp     22736     398   \n",
       "44314        nyserda+0000109188+ahu26-02+AHU_26_02_RATmp     22737     398   \n",
       "44321        nyserda+0000109188+ahu27-02+AHU_27_02_RATmp     22738     398   \n",
       "\n",
       "      name_bdg equip_type_abbr    equip_type_name  area_served_desc  \\\n",
       "1309     83483             AHU  Air Handling Unit               NaN   \n",
       "1361     83483             AHU  Air Handling Unit               NaN   \n",
       "1382     83483             AHU  Air Handling Unit               NaN   \n",
       "1446     83483             AHU  Air Handling Unit               NaN   \n",
       "1939     80324             AHU  Air Handling Unit               NaN   \n",
       "...        ...             ...                ...               ...   \n",
       "44220   109188             AHU  Air Handling Unit               NaN   \n",
       "44253   109188             AHU  Air Handling Unit               NaN   \n",
       "44284   109188             AHU  Air Handling Unit               NaN   \n",
       "44314   109188             AHU  Air Handling Unit               NaN   \n",
       "44321   109188             AHU  Air Handling Unit               NaN   \n",
       "\n",
       "                  tags  \n",
       "1309   ['ahu', 'hvac']  \n",
       "1361   ['ahu', 'hvac']  \n",
       "1382   ['ahu', 'hvac']  \n",
       "1446   ['ahu', 'hvac']  \n",
       "1939   ['ahu', 'hvac']  \n",
       "...                ...  \n",
       "44220  ['ahu', 'hvac']  \n",
       "44253  ['ahu', 'hvac']  \n",
       "44284  ['ahu', 'hvac']  \n",
       "44314  ['ahu', 'hvac']  \n",
       "44321  ['ahu', 'hvac']  \n",
       "\n",
       "[345 rows x 24 columns]"
      ]
     },
     "execution_count": 14,
     "metadata": {},
     "output_type": "execute_result"
    }
   ],
   "source": [
    "ahu_rat_data = ahu_data[(ahu_data.type == \"Return Air Temperature\")]\n",
    "ahu_rat_data"
   ]
  },
  {
   "cell_type": "code",
   "execution_count": 15,
   "id": "705e614d",
   "metadata": {},
   "outputs": [
    {
     "data": {
      "text/html": [
       "<div>\n",
       "<style scoped>\n",
       "    .dataframe tbody tr th:only-of-type {\n",
       "        vertical-align: middle;\n",
       "    }\n",
       "\n",
       "    .dataframe tbody tr th {\n",
       "        vertical-align: top;\n",
       "    }\n",
       "\n",
       "    .dataframe thead th {\n",
       "        text-align: right;\n",
       "    }\n",
       "</style>\n",
       "<table border=\"1\" class=\"dataframe\">\n",
       "  <thead>\n",
       "    <tr style=\"text-align: right;\">\n",
       "      <th></th>\n",
       "      <th>id_point</th>\n",
       "      <th>building_id</th>\n",
       "      <th>last_updated</th>\n",
       "      <th>first_updated</th>\n",
       "      <th>device</th>\n",
       "      <th>objectId</th>\n",
       "      <th>name_point</th>\n",
       "      <th>description</th>\n",
       "      <th>units</th>\n",
       "      <th>tagged_units</th>\n",
       "      <th>...</th>\n",
       "      <th>measurement_id</th>\n",
       "      <th>datasource_hash</th>\n",
       "      <th>topic</th>\n",
       "      <th>equip_id</th>\n",
       "      <th>id_bdg</th>\n",
       "      <th>name_bdg</th>\n",
       "      <th>equip_type_abbr</th>\n",
       "      <th>equip_type_name</th>\n",
       "      <th>area_served_desc</th>\n",
       "      <th>tags</th>\n",
       "    </tr>\n",
       "  </thead>\n",
       "  <tbody>\n",
       "    <tr>\n",
       "      <th>3874</th>\n",
       "      <td>283206</td>\n",
       "      <td>426</td>\n",
       "      <td>1.606798e+12</td>\n",
       "      <td>1.512104e+12</td>\n",
       "      <td>NaN</td>\n",
       "      <td>NaN</td>\n",
       "      <td>480 W 42nd St - Signature Theatre HWC1 SATempHWC1</td>\n",
       "      <td>NaN</td>\n",
       "      <td>F</td>\n",
       "      <td>f</td>\n",
       "      <td>...</td>\n",
       "      <td>1</td>\n",
       "      <td>095c92d2928c31426041b483057df536</td>\n",
       "      <td>nyserda+000076513+fcu-hwc1+480 W 42nd St - Sig...</td>\n",
       "      <td>26941</td>\n",
       "      <td>426</td>\n",
       "      <td>76513</td>\n",
       "      <td>FCU</td>\n",
       "      <td>Fan Coil Unit</td>\n",
       "      <td>NaN</td>\n",
       "      <td>['fcu', 'hvac']</td>\n",
       "    </tr>\n",
       "    <tr>\n",
       "      <th>3875</th>\n",
       "      <td>283208</td>\n",
       "      <td>426</td>\n",
       "      <td>1.606798e+12</td>\n",
       "      <td>1.512104e+12</td>\n",
       "      <td>NaN</td>\n",
       "      <td>NaN</td>\n",
       "      <td>480 W 42nd St - Signature Theatre HWC2 SATempHWC2</td>\n",
       "      <td>NaN</td>\n",
       "      <td>F</td>\n",
       "      <td>f</td>\n",
       "      <td>...</td>\n",
       "      <td>1</td>\n",
       "      <td>8150953c75720751c7ce484d9181265f</td>\n",
       "      <td>nyserda+000076513+fcu-hwc2+480 W 42nd St - Sig...</td>\n",
       "      <td>26942</td>\n",
       "      <td>426</td>\n",
       "      <td>76513</td>\n",
       "      <td>FCU</td>\n",
       "      <td>Fan Coil Unit</td>\n",
       "      <td>NaN</td>\n",
       "      <td>['fcu', 'hvac']</td>\n",
       "    </tr>\n",
       "    <tr>\n",
       "      <th>3878</th>\n",
       "      <td>283210</td>\n",
       "      <td>426</td>\n",
       "      <td>1.606798e+12</td>\n",
       "      <td>1.512104e+12</td>\n",
       "      <td>NaN</td>\n",
       "      <td>NaN</td>\n",
       "      <td>480 W 42nd St - Signature Theatre HWC3 SATempHWC3</td>\n",
       "      <td>NaN</td>\n",
       "      <td>F</td>\n",
       "      <td>f</td>\n",
       "      <td>...</td>\n",
       "      <td>1</td>\n",
       "      <td>34a3350497937849b9c24e4cb2000a11</td>\n",
       "      <td>nyserda+000076513+fcu-hwc3+480 W 42nd St - Sig...</td>\n",
       "      <td>26943</td>\n",
       "      <td>426</td>\n",
       "      <td>76513</td>\n",
       "      <td>FCU</td>\n",
       "      <td>Fan Coil Unit</td>\n",
       "      <td>NaN</td>\n",
       "      <td>['fcu', 'hvac']</td>\n",
       "    </tr>\n",
       "    <tr>\n",
       "      <th>3879</th>\n",
       "      <td>283212</td>\n",
       "      <td>426</td>\n",
       "      <td>1.606798e+12</td>\n",
       "      <td>1.512104e+12</td>\n",
       "      <td>NaN</td>\n",
       "      <td>NaN</td>\n",
       "      <td>480 W 42nd St - Signature Theatre HWC4 SATempHWC4</td>\n",
       "      <td>NaN</td>\n",
       "      <td>F</td>\n",
       "      <td>f</td>\n",
       "      <td>...</td>\n",
       "      <td>1</td>\n",
       "      <td>6fd81fc5d65a84b9b0d239cd3efae8dd</td>\n",
       "      <td>nyserda+000076513+fcu-hwc4+480 W 42nd St - Sig...</td>\n",
       "      <td>26944</td>\n",
       "      <td>426</td>\n",
       "      <td>76513</td>\n",
       "      <td>FCU</td>\n",
       "      <td>Fan Coil Unit</td>\n",
       "      <td>NaN</td>\n",
       "      <td>['fcu', 'hvac']</td>\n",
       "    </tr>\n",
       "    <tr>\n",
       "      <th>3881</th>\n",
       "      <td>283213</td>\n",
       "      <td>426</td>\n",
       "      <td>1.606798e+12</td>\n",
       "      <td>1.512104e+12</td>\n",
       "      <td>NaN</td>\n",
       "      <td>NaN</td>\n",
       "      <td>480 W 42nd St - Signature Theatre HWC5 SATempHWC5</td>\n",
       "      <td>NaN</td>\n",
       "      <td>F</td>\n",
       "      <td>f</td>\n",
       "      <td>...</td>\n",
       "      <td>1</td>\n",
       "      <td>a7e9a961fbc8dbaec8e4f64b2d7e3739</td>\n",
       "      <td>nyserda+000076513+fcu-hwc5+480 W 42nd St - Sig...</td>\n",
       "      <td>26945</td>\n",
       "      <td>426</td>\n",
       "      <td>76513</td>\n",
       "      <td>FCU</td>\n",
       "      <td>Fan Coil Unit</td>\n",
       "      <td>NaN</td>\n",
       "      <td>['fcu', 'hvac']</td>\n",
       "    </tr>\n",
       "    <tr>\n",
       "      <th>...</th>\n",
       "      <td>...</td>\n",
       "      <td>...</td>\n",
       "      <td>...</td>\n",
       "      <td>...</td>\n",
       "      <td>...</td>\n",
       "      <td>...</td>\n",
       "      <td>...</td>\n",
       "      <td>...</td>\n",
       "      <td>...</td>\n",
       "      <td>...</td>\n",
       "      <td>...</td>\n",
       "      <td>...</td>\n",
       "      <td>...</td>\n",
       "      <td>...</td>\n",
       "      <td>...</td>\n",
       "      <td>...</td>\n",
       "      <td>...</td>\n",
       "      <td>...</td>\n",
       "      <td>...</td>\n",
       "      <td>...</td>\n",
       "      <td>...</td>\n",
       "    </tr>\n",
       "    <tr>\n",
       "      <th>39209</th>\n",
       "      <td>223239</td>\n",
       "      <td>354</td>\n",
       "      <td>1.535774e+12</td>\n",
       "      <td>1.517461e+12</td>\n",
       "      <td>NaN</td>\n",
       "      <td>NaN</td>\n",
       "      <td>NaN</td>\n",
       "      <td>FCU-05 Lower Atrium_Discharge Air Temp</td>\n",
       "      <td>F</td>\n",
       "      <td>NaN</td>\n",
       "      <td>...</td>\n",
       "      <td>1</td>\n",
       "      <td>2d44300d40ceaaba39e9208252f539ac</td>\n",
       "      <td>nyserda+0000082140+fcu5-lowerAtrium+FCU-05 Low...</td>\n",
       "      <td>21683</td>\n",
       "      <td>354</td>\n",
       "      <td>82140</td>\n",
       "      <td>FCU</td>\n",
       "      <td>Fan Coil Unit</td>\n",
       "      <td>NaN</td>\n",
       "      <td>['fcu', 'hvac']</td>\n",
       "    </tr>\n",
       "    <tr>\n",
       "      <th>39217</th>\n",
       "      <td>223250</td>\n",
       "      <td>354</td>\n",
       "      <td>1.535774e+12</td>\n",
       "      <td>1.517461e+12</td>\n",
       "      <td>NaN</td>\n",
       "      <td>NaN</td>\n",
       "      <td>NaN</td>\n",
       "      <td>FCU-6 East Vestibule_Discharge Air Temp</td>\n",
       "      <td>F</td>\n",
       "      <td>NaN</td>\n",
       "      <td>...</td>\n",
       "      <td>1</td>\n",
       "      <td>af8f11d50dbf85998219ac1306e956be</td>\n",
       "      <td>nyserda+0000082140+fcu6-eastVestibule+FCU-6 Ea...</td>\n",
       "      <td>21684</td>\n",
       "      <td>354</td>\n",
       "      <td>82140</td>\n",
       "      <td>FCU</td>\n",
       "      <td>Fan Coil Unit</td>\n",
       "      <td>NaN</td>\n",
       "      <td>['fcu', 'hvac']</td>\n",
       "    </tr>\n",
       "    <tr>\n",
       "      <th>39236</th>\n",
       "      <td>223261</td>\n",
       "      <td>354</td>\n",
       "      <td>1.535774e+12</td>\n",
       "      <td>1.517461e+12</td>\n",
       "      <td>NaN</td>\n",
       "      <td>NaN</td>\n",
       "      <td>NaN</td>\n",
       "      <td>FCU-07 West Middle School Wing_Discharge Air Temp</td>\n",
       "      <td>F</td>\n",
       "      <td>NaN</td>\n",
       "      <td>...</td>\n",
       "      <td>1</td>\n",
       "      <td>25ba68aba91f53632b5c200d5c933dea</td>\n",
       "      <td>nyserda+0000082140+fcu7-westWingMiddleSchool+F...</td>\n",
       "      <td>21685</td>\n",
       "      <td>354</td>\n",
       "      <td>82140</td>\n",
       "      <td>FCU</td>\n",
       "      <td>Fan Coil Unit</td>\n",
       "      <td>NaN</td>\n",
       "      <td>['fcu', 'hvac']</td>\n",
       "    </tr>\n",
       "    <tr>\n",
       "      <th>39245</th>\n",
       "      <td>223272</td>\n",
       "      <td>354</td>\n",
       "      <td>1.535774e+12</td>\n",
       "      <td>1.517461e+12</td>\n",
       "      <td>NaN</td>\n",
       "      <td>NaN</td>\n",
       "      <td>NaN</td>\n",
       "      <td>FCU-08 2nd Floor East Wing_Discharge Air Temp</td>\n",
       "      <td>F</td>\n",
       "      <td>NaN</td>\n",
       "      <td>...</td>\n",
       "      <td>1</td>\n",
       "      <td>80414405b9269db374df1cc12a18bc69</td>\n",
       "      <td>nyserda+0000082140+fcu8-eastWingSecondFloor+FC...</td>\n",
       "      <td>21686</td>\n",
       "      <td>354</td>\n",
       "      <td>82140</td>\n",
       "      <td>FCU</td>\n",
       "      <td>Fan Coil Unit</td>\n",
       "      <td>NaN</td>\n",
       "      <td>['fcu', 'hvac']</td>\n",
       "    </tr>\n",
       "    <tr>\n",
       "      <th>39251</th>\n",
       "      <td>223283</td>\n",
       "      <td>354</td>\n",
       "      <td>1.535774e+12</td>\n",
       "      <td>1.517461e+12</td>\n",
       "      <td>NaN</td>\n",
       "      <td>NaN</td>\n",
       "      <td>NaN</td>\n",
       "      <td>FCU-09 Upper Atrium_Discharge Air Temp</td>\n",
       "      <td>F</td>\n",
       "      <td>NaN</td>\n",
       "      <td>...</td>\n",
       "      <td>1</td>\n",
       "      <td>df356279d19402e7ea58f14814987685</td>\n",
       "      <td>nyserda+0000082140+fcu9-upperAtrium+FCU-09 Upp...</td>\n",
       "      <td>21687</td>\n",
       "      <td>354</td>\n",
       "      <td>82140</td>\n",
       "      <td>FCU</td>\n",
       "      <td>Fan Coil Unit</td>\n",
       "      <td>NaN</td>\n",
       "      <td>['fcu', 'hvac']</td>\n",
       "    </tr>\n",
       "  </tbody>\n",
       "</table>\n",
       "<p>113 rows × 24 columns</p>\n",
       "</div>"
      ],
      "text/plain": [
       "       id_point  building_id  last_updated  first_updated  device  objectId  \\\n",
       "3874     283206          426  1.606798e+12   1.512104e+12     NaN       NaN   \n",
       "3875     283208          426  1.606798e+12   1.512104e+12     NaN       NaN   \n",
       "3878     283210          426  1.606798e+12   1.512104e+12     NaN       NaN   \n",
       "3879     283212          426  1.606798e+12   1.512104e+12     NaN       NaN   \n",
       "3881     283213          426  1.606798e+12   1.512104e+12     NaN       NaN   \n",
       "...         ...          ...           ...            ...     ...       ...   \n",
       "39209    223239          354  1.535774e+12   1.517461e+12     NaN       NaN   \n",
       "39217    223250          354  1.535774e+12   1.517461e+12     NaN       NaN   \n",
       "39236    223261          354  1.535774e+12   1.517461e+12     NaN       NaN   \n",
       "39245    223272          354  1.535774e+12   1.517461e+12     NaN       NaN   \n",
       "39251    223283          354  1.535774e+12   1.517461e+12     NaN       NaN   \n",
       "\n",
       "                                              name_point  \\\n",
       "3874   480 W 42nd St - Signature Theatre HWC1 SATempHWC1   \n",
       "3875   480 W 42nd St - Signature Theatre HWC2 SATempHWC2   \n",
       "3878   480 W 42nd St - Signature Theatre HWC3 SATempHWC3   \n",
       "3879   480 W 42nd St - Signature Theatre HWC4 SATempHWC4   \n",
       "3881   480 W 42nd St - Signature Theatre HWC5 SATempHWC5   \n",
       "...                                                  ...   \n",
       "39209                                                NaN   \n",
       "39217                                                NaN   \n",
       "39236                                                NaN   \n",
       "39245                                                NaN   \n",
       "39251                                                NaN   \n",
       "\n",
       "                                             description units tagged_units  \\\n",
       "3874                                                 NaN     F            f   \n",
       "3875                                                 NaN     F            f   \n",
       "3878                                                 NaN     F            f   \n",
       "3879                                                 NaN     F            f   \n",
       "3881                                                 NaN     F            f   \n",
       "...                                                  ...   ...          ...   \n",
       "39209             FCU-05 Lower Atrium_Discharge Air Temp     F          NaN   \n",
       "39217            FCU-6 East Vestibule_Discharge Air Temp     F          NaN   \n",
       "39236  FCU-07 West Middle School Wing_Discharge Air Temp     F          NaN   \n",
       "39245      FCU-08 2nd Floor East Wing_Discharge Air Temp     F          NaN   \n",
       "39251             FCU-09 Upper Atrium_Discharge Air Temp     F          NaN   \n",
       "\n",
       "       ...  measurement_id                   datasource_hash  \\\n",
       "3874   ...               1  095c92d2928c31426041b483057df536   \n",
       "3875   ...               1  8150953c75720751c7ce484d9181265f   \n",
       "3878   ...               1  34a3350497937849b9c24e4cb2000a11   \n",
       "3879   ...               1  6fd81fc5d65a84b9b0d239cd3efae8dd   \n",
       "3881   ...               1  a7e9a961fbc8dbaec8e4f64b2d7e3739   \n",
       "...    ...             ...                               ...   \n",
       "39209  ...               1  2d44300d40ceaaba39e9208252f539ac   \n",
       "39217  ...               1  af8f11d50dbf85998219ac1306e956be   \n",
       "39236  ...               1  25ba68aba91f53632b5c200d5c933dea   \n",
       "39245  ...               1  80414405b9269db374df1cc12a18bc69   \n",
       "39251  ...               1  df356279d19402e7ea58f14814987685   \n",
       "\n",
       "                                                   topic  equip_id  id_bdg  \\\n",
       "3874   nyserda+000076513+fcu-hwc1+480 W 42nd St - Sig...     26941     426   \n",
       "3875   nyserda+000076513+fcu-hwc2+480 W 42nd St - Sig...     26942     426   \n",
       "3878   nyserda+000076513+fcu-hwc3+480 W 42nd St - Sig...     26943     426   \n",
       "3879   nyserda+000076513+fcu-hwc4+480 W 42nd St - Sig...     26944     426   \n",
       "3881   nyserda+000076513+fcu-hwc5+480 W 42nd St - Sig...     26945     426   \n",
       "...                                                  ...       ...     ...   \n",
       "39209  nyserda+0000082140+fcu5-lowerAtrium+FCU-05 Low...     21683     354   \n",
       "39217  nyserda+0000082140+fcu6-eastVestibule+FCU-6 Ea...     21684     354   \n",
       "39236  nyserda+0000082140+fcu7-westWingMiddleSchool+F...     21685     354   \n",
       "39245  nyserda+0000082140+fcu8-eastWingSecondFloor+FC...     21686     354   \n",
       "39251  nyserda+0000082140+fcu9-upperAtrium+FCU-09 Upp...     21687     354   \n",
       "\n",
       "      name_bdg equip_type_abbr  equip_type_name  area_served_desc  \\\n",
       "3874     76513             FCU    Fan Coil Unit               NaN   \n",
       "3875     76513             FCU    Fan Coil Unit               NaN   \n",
       "3878     76513             FCU    Fan Coil Unit               NaN   \n",
       "3879     76513             FCU    Fan Coil Unit               NaN   \n",
       "3881     76513             FCU    Fan Coil Unit               NaN   \n",
       "...        ...             ...              ...               ...   \n",
       "39209    82140             FCU    Fan Coil Unit               NaN   \n",
       "39217    82140             FCU    Fan Coil Unit               NaN   \n",
       "39236    82140             FCU    Fan Coil Unit               NaN   \n",
       "39245    82140             FCU    Fan Coil Unit               NaN   \n",
       "39251    82140             FCU    Fan Coil Unit               NaN   \n",
       "\n",
       "                  tags  \n",
       "3874   ['fcu', 'hvac']  \n",
       "3875   ['fcu', 'hvac']  \n",
       "3878   ['fcu', 'hvac']  \n",
       "3879   ['fcu', 'hvac']  \n",
       "3881   ['fcu', 'hvac']  \n",
       "...                ...  \n",
       "39209  ['fcu', 'hvac']  \n",
       "39217  ['fcu', 'hvac']  \n",
       "39236  ['fcu', 'hvac']  \n",
       "39245  ['fcu', 'hvac']  \n",
       "39251  ['fcu', 'hvac']  \n",
       "\n",
       "[113 rows x 24 columns]"
      ]
     },
     "execution_count": 15,
     "metadata": {},
     "output_type": "execute_result"
    }
   ],
   "source": [
    "fcu_data = metadata[(metadata.equip_type_name == \"Fan Coil Unit\")]\n",
    "fcu_dat_data = fcu_data[(fcu_data.type == \"Discharge Air Temperature\")]\n",
    "fcu_dat_data"
   ]
  },
  {
   "cell_type": "code",
   "execution_count": 16,
   "id": "881b4c36",
   "metadata": {},
   "outputs": [
    {
     "data": {
      "text/html": [
       "<div>\n",
       "<style scoped>\n",
       "    .dataframe tbody tr th:only-of-type {\n",
       "        vertical-align: middle;\n",
       "    }\n",
       "\n",
       "    .dataframe tbody tr th {\n",
       "        vertical-align: top;\n",
       "    }\n",
       "\n",
       "    .dataframe thead th {\n",
       "        text-align: right;\n",
       "    }\n",
       "</style>\n",
       "<table border=\"1\" class=\"dataframe\">\n",
       "  <thead>\n",
       "    <tr style=\"text-align: right;\">\n",
       "      <th></th>\n",
       "      <th>id_point</th>\n",
       "      <th>building_id</th>\n",
       "      <th>last_updated</th>\n",
       "      <th>first_updated</th>\n",
       "      <th>device</th>\n",
       "      <th>objectId</th>\n",
       "      <th>name_point</th>\n",
       "      <th>description</th>\n",
       "      <th>units</th>\n",
       "      <th>tagged_units</th>\n",
       "      <th>...</th>\n",
       "      <th>measurement_id</th>\n",
       "      <th>datasource_hash</th>\n",
       "      <th>topic</th>\n",
       "      <th>equip_id</th>\n",
       "      <th>id_bdg</th>\n",
       "      <th>name_bdg</th>\n",
       "      <th>equip_type_abbr</th>\n",
       "      <th>equip_type_name</th>\n",
       "      <th>area_served_desc</th>\n",
       "      <th>tags</th>\n",
       "    </tr>\n",
       "  </thead>\n",
       "  <tbody>\n",
       "    <tr>\n",
       "      <th>1313</th>\n",
       "      <td>198145</td>\n",
       "      <td>140</td>\n",
       "      <td>1.551416e+12</td>\n",
       "      <td>1.509509e+12</td>\n",
       "      <td>NaN</td>\n",
       "      <td>NaN</td>\n",
       "      <td>NaN</td>\n",
       "      <td>UPCM-1 AH-1 Gallery_Outdoor Air Temp</td>\n",
       "      <td>F</td>\n",
       "      <td>NaN</td>\n",
       "      <td>...</td>\n",
       "      <td>1</td>\n",
       "      <td>d4f8e8a9f1eebcf2ea5c08a68096aee0</td>\n",
       "      <td>nyserda+0000083483+ahu1-gallery+UPCM-1 AH-1 Ga...</td>\n",
       "      <td>18092</td>\n",
       "      <td>140</td>\n",
       "      <td>83483</td>\n",
       "      <td>AHU</td>\n",
       "      <td>Air Handling Unit</td>\n",
       "      <td>NaN</td>\n",
       "      <td>['ahu', 'hvac']</td>\n",
       "    </tr>\n",
       "    <tr>\n",
       "      <th>1325</th>\n",
       "      <td>198135</td>\n",
       "      <td>140</td>\n",
       "      <td>1.551416e+12</td>\n",
       "      <td>1.509509e+12</td>\n",
       "      <td>NaN</td>\n",
       "      <td>NaN</td>\n",
       "      <td>NaN</td>\n",
       "      <td>UPCM-1 AH-1 Gallery_OA Temp (Reference value)</td>\n",
       "      <td>F</td>\n",
       "      <td>NaN</td>\n",
       "      <td>...</td>\n",
       "      <td>1</td>\n",
       "      <td>10bd646990542556aa86d3a9236a128e</td>\n",
       "      <td>nyserda+0000083483+ahu1-gallery+UPCM-1 AH-1 Ga...</td>\n",
       "      <td>18092</td>\n",
       "      <td>140</td>\n",
       "      <td>83483</td>\n",
       "      <td>AHU</td>\n",
       "      <td>Air Handling Unit</td>\n",
       "      <td>NaN</td>\n",
       "      <td>['ahu', 'hvac']</td>\n",
       "    </tr>\n",
       "    <tr>\n",
       "      <th>1367</th>\n",
       "      <td>198182</td>\n",
       "      <td>140</td>\n",
       "      <td>1.551416e+12</td>\n",
       "      <td>1.509509e+12</td>\n",
       "      <td>NaN</td>\n",
       "      <td>NaN</td>\n",
       "      <td>NaN</td>\n",
       "      <td>AH-1 Lobby_OA Temp (Reference value)</td>\n",
       "      <td>F</td>\n",
       "      <td>NaN</td>\n",
       "      <td>...</td>\n",
       "      <td>1</td>\n",
       "      <td>21615a28c7a99344f59571bd65b9eaca</td>\n",
       "      <td>nyserda+0000083483+ahu1-lobby+AH-1 Lobby_OA Te...</td>\n",
       "      <td>18093</td>\n",
       "      <td>140</td>\n",
       "      <td>83483</td>\n",
       "      <td>AHU</td>\n",
       "      <td>Air Handling Unit</td>\n",
       "      <td>NaN</td>\n",
       "      <td>['ahu', 'hvac']</td>\n",
       "    </tr>\n",
       "    <tr>\n",
       "      <th>1385</th>\n",
       "      <td>198233</td>\n",
       "      <td>140</td>\n",
       "      <td>1.551416e+12</td>\n",
       "      <td>1.518620e+12</td>\n",
       "      <td>NaN</td>\n",
       "      <td>NaN</td>\n",
       "      <td>NaN</td>\n",
       "      <td>UPCM-2 AH-2 2nd Floor_Outdoor Air Temp</td>\n",
       "      <td>F</td>\n",
       "      <td>NaN</td>\n",
       "      <td>...</td>\n",
       "      <td>1</td>\n",
       "      <td>82fd8b24d7f37657c33d17d2eb362b9c</td>\n",
       "      <td>nyserda+0000083483+ahu2-floor2+UPCM-2 AH-2 2nd...</td>\n",
       "      <td>18094</td>\n",
       "      <td>140</td>\n",
       "      <td>83483</td>\n",
       "      <td>AHU</td>\n",
       "      <td>Air Handling Unit</td>\n",
       "      <td>NaN</td>\n",
       "      <td>['ahu', 'hvac']</td>\n",
       "    </tr>\n",
       "    <tr>\n",
       "      <th>1394</th>\n",
       "      <td>198224</td>\n",
       "      <td>140</td>\n",
       "      <td>1.551416e+12</td>\n",
       "      <td>1.509509e+12</td>\n",
       "      <td>NaN</td>\n",
       "      <td>NaN</td>\n",
       "      <td>NaN</td>\n",
       "      <td>UPCM-2 AH-2 2nd Floor_OA Temp (Reference value)</td>\n",
       "      <td>F</td>\n",
       "      <td>NaN</td>\n",
       "      <td>...</td>\n",
       "      <td>1</td>\n",
       "      <td>c26204f12acb843e13f3f98b98edb4ea</td>\n",
       "      <td>nyserda+0000083483+ahu2-floor2+UPCM-2 AH-2 2nd...</td>\n",
       "      <td>18094</td>\n",
       "      <td>140</td>\n",
       "      <td>83483</td>\n",
       "      <td>AHU</td>\n",
       "      <td>Air Handling Unit</td>\n",
       "      <td>NaN</td>\n",
       "      <td>['ahu', 'hvac']</td>\n",
       "    </tr>\n",
       "    <tr>\n",
       "      <th>...</th>\n",
       "      <td>...</td>\n",
       "      <td>...</td>\n",
       "      <td>...</td>\n",
       "      <td>...</td>\n",
       "      <td>...</td>\n",
       "      <td>...</td>\n",
       "      <td>...</td>\n",
       "      <td>...</td>\n",
       "      <td>...</td>\n",
       "      <td>...</td>\n",
       "      <td>...</td>\n",
       "      <td>...</td>\n",
       "      <td>...</td>\n",
       "      <td>...</td>\n",
       "      <td>...</td>\n",
       "      <td>...</td>\n",
       "      <td>...</td>\n",
       "      <td>...</td>\n",
       "      <td>...</td>\n",
       "      <td>...</td>\n",
       "      <td>...</td>\n",
       "    </tr>\n",
       "    <tr>\n",
       "      <th>43833</th>\n",
       "      <td>228094</td>\n",
       "      <td>383</td>\n",
       "      <td>1.528170e+12</td>\n",
       "      <td>1.501560e+12</td>\n",
       "      <td>NaN</td>\n",
       "      <td>NaN</td>\n",
       "      <td>NaN</td>\n",
       "      <td>AHU-1 (COOLING COIL #1)_OA Temp (Reference value)</td>\n",
       "      <td>F</td>\n",
       "      <td>NaN</td>\n",
       "      <td>...</td>\n",
       "      <td>1</td>\n",
       "      <td>2f62885709fc9bc33249b1af94999eaa</td>\n",
       "      <td>nyserda+0000079528+ahu1+AHU-1 (COOLING COIL #1...</td>\n",
       "      <td>22394</td>\n",
       "      <td>383</td>\n",
       "      <td>79528</td>\n",
       "      <td>AHU</td>\n",
       "      <td>Air Handling Unit</td>\n",
       "      <td>NaN</td>\n",
       "      <td>['ahu', 'hvac']</td>\n",
       "    </tr>\n",
       "    <tr>\n",
       "      <th>44196</th>\n",
       "      <td>230960</td>\n",
       "      <td>398</td>\n",
       "      <td>1.577768e+12</td>\n",
       "      <td>1.554932e+12</td>\n",
       "      <td>NaN</td>\n",
       "      <td>NaN</td>\n",
       "      <td>NaN</td>\n",
       "      <td>AC-12-4_OaTmp</td>\n",
       "      <td>F</td>\n",
       "      <td>NaN</td>\n",
       "      <td>...</td>\n",
       "      <td>1</td>\n",
       "      <td>42c03637a3e2efa6703f514f66954564</td>\n",
       "      <td>nyserda+0000109188+ac12-4+AC-12-4_OaTmp</td>\n",
       "      <td>22733</td>\n",
       "      <td>398</td>\n",
       "      <td>109188</td>\n",
       "      <td>AHU</td>\n",
       "      <td>Air Handling Unit</td>\n",
       "      <td>NaN</td>\n",
       "      <td>['ahu', 'hvac']</td>\n",
       "    </tr>\n",
       "    <tr>\n",
       "      <th>44241</th>\n",
       "      <td>230976</td>\n",
       "      <td>398</td>\n",
       "      <td>1.577768e+12</td>\n",
       "      <td>1.554932e+12</td>\n",
       "      <td>NaN</td>\n",
       "      <td>NaN</td>\n",
       "      <td>NaN</td>\n",
       "      <td>AC-25-1_OaTmp</td>\n",
       "      <td>F</td>\n",
       "      <td>NaN</td>\n",
       "      <td>...</td>\n",
       "      <td>1</td>\n",
       "      <td>18896da3dc788a9de84f2c5e9bcfb49a</td>\n",
       "      <td>nyserda+0000109188+ac25-1+AC-25-1_OaTmp</td>\n",
       "      <td>22734</td>\n",
       "      <td>398</td>\n",
       "      <td>109188</td>\n",
       "      <td>AHU</td>\n",
       "      <td>Air Handling Unit</td>\n",
       "      <td>NaN</td>\n",
       "      <td>['ahu', 'hvac']</td>\n",
       "    </tr>\n",
       "    <tr>\n",
       "      <th>44272</th>\n",
       "      <td>231006</td>\n",
       "      <td>398</td>\n",
       "      <td>1.577768e+12</td>\n",
       "      <td>1.554932e+12</td>\n",
       "      <td>NaN</td>\n",
       "      <td>NaN</td>\n",
       "      <td>NaN</td>\n",
       "      <td>AC-4-1_OaTmp</td>\n",
       "      <td>F</td>\n",
       "      <td>NaN</td>\n",
       "      <td>...</td>\n",
       "      <td>1</td>\n",
       "      <td>bb8550c34feb8bfd3baa72726bc77e2d</td>\n",
       "      <td>nyserda+0000109188+ac4-1+AC-4-1_OaTmp</td>\n",
       "      <td>22735</td>\n",
       "      <td>398</td>\n",
       "      <td>109188</td>\n",
       "      <td>AHU</td>\n",
       "      <td>Air Handling Unit</td>\n",
       "      <td>NaN</td>\n",
       "      <td>['ahu', 'hvac']</td>\n",
       "    </tr>\n",
       "    <tr>\n",
       "      <th>44289</th>\n",
       "      <td>231037</td>\n",
       "      <td>398</td>\n",
       "      <td>1.577768e+12</td>\n",
       "      <td>1.554932e+12</td>\n",
       "      <td>NaN</td>\n",
       "      <td>NaN</td>\n",
       "      <td>NaN</td>\n",
       "      <td>AC-9-1_OaTmp</td>\n",
       "      <td>F</td>\n",
       "      <td>NaN</td>\n",
       "      <td>...</td>\n",
       "      <td>1</td>\n",
       "      <td>4bbf038bd272bb068799072af9e7a03e</td>\n",
       "      <td>nyserda+0000109188+ac9-1+AC-9-1_OaTmp</td>\n",
       "      <td>22736</td>\n",
       "      <td>398</td>\n",
       "      <td>109188</td>\n",
       "      <td>AHU</td>\n",
       "      <td>Air Handling Unit</td>\n",
       "      <td>NaN</td>\n",
       "      <td>['ahu', 'hvac']</td>\n",
       "    </tr>\n",
       "  </tbody>\n",
       "</table>\n",
       "<p>302 rows × 24 columns</p>\n",
       "</div>"
      ],
      "text/plain": [
       "       id_point  building_id  last_updated  first_updated  device  objectId  \\\n",
       "1313     198145          140  1.551416e+12   1.509509e+12     NaN       NaN   \n",
       "1325     198135          140  1.551416e+12   1.509509e+12     NaN       NaN   \n",
       "1367     198182          140  1.551416e+12   1.509509e+12     NaN       NaN   \n",
       "1385     198233          140  1.551416e+12   1.518620e+12     NaN       NaN   \n",
       "1394     198224          140  1.551416e+12   1.509509e+12     NaN       NaN   \n",
       "...         ...          ...           ...            ...     ...       ...   \n",
       "43833    228094          383  1.528170e+12   1.501560e+12     NaN       NaN   \n",
       "44196    230960          398  1.577768e+12   1.554932e+12     NaN       NaN   \n",
       "44241    230976          398  1.577768e+12   1.554932e+12     NaN       NaN   \n",
       "44272    231006          398  1.577768e+12   1.554932e+12     NaN       NaN   \n",
       "44289    231037          398  1.577768e+12   1.554932e+12     NaN       NaN   \n",
       "\n",
       "      name_point                                        description units  \\\n",
       "1313         NaN               UPCM-1 AH-1 Gallery_Outdoor Air Temp     F   \n",
       "1325         NaN      UPCM-1 AH-1 Gallery_OA Temp (Reference value)     F   \n",
       "1367         NaN               AH-1 Lobby_OA Temp (Reference value)     F   \n",
       "1385         NaN             UPCM-2 AH-2 2nd Floor_Outdoor Air Temp     F   \n",
       "1394         NaN    UPCM-2 AH-2 2nd Floor_OA Temp (Reference value)     F   \n",
       "...          ...                                                ...   ...   \n",
       "43833        NaN  AHU-1 (COOLING COIL #1)_OA Temp (Reference value)     F   \n",
       "44196        NaN                                      AC-12-4_OaTmp     F   \n",
       "44241        NaN                                      AC-25-1_OaTmp     F   \n",
       "44272        NaN                                       AC-4-1_OaTmp     F   \n",
       "44289        NaN                                       AC-9-1_OaTmp     F   \n",
       "\n",
       "      tagged_units  ...  measurement_id                   datasource_hash  \\\n",
       "1313           NaN  ...               1  d4f8e8a9f1eebcf2ea5c08a68096aee0   \n",
       "1325           NaN  ...               1  10bd646990542556aa86d3a9236a128e   \n",
       "1367           NaN  ...               1  21615a28c7a99344f59571bd65b9eaca   \n",
       "1385           NaN  ...               1  82fd8b24d7f37657c33d17d2eb362b9c   \n",
       "1394           NaN  ...               1  c26204f12acb843e13f3f98b98edb4ea   \n",
       "...            ...  ...             ...                               ...   \n",
       "43833          NaN  ...               1  2f62885709fc9bc33249b1af94999eaa   \n",
       "44196          NaN  ...               1  42c03637a3e2efa6703f514f66954564   \n",
       "44241          NaN  ...               1  18896da3dc788a9de84f2c5e9bcfb49a   \n",
       "44272          NaN  ...               1  bb8550c34feb8bfd3baa72726bc77e2d   \n",
       "44289          NaN  ...               1  4bbf038bd272bb068799072af9e7a03e   \n",
       "\n",
       "                                                   topic  equip_id  id_bdg  \\\n",
       "1313   nyserda+0000083483+ahu1-gallery+UPCM-1 AH-1 Ga...     18092     140   \n",
       "1325   nyserda+0000083483+ahu1-gallery+UPCM-1 AH-1 Ga...     18092     140   \n",
       "1367   nyserda+0000083483+ahu1-lobby+AH-1 Lobby_OA Te...     18093     140   \n",
       "1385   nyserda+0000083483+ahu2-floor2+UPCM-2 AH-2 2nd...     18094     140   \n",
       "1394   nyserda+0000083483+ahu2-floor2+UPCM-2 AH-2 2nd...     18094     140   \n",
       "...                                                  ...       ...     ...   \n",
       "43833  nyserda+0000079528+ahu1+AHU-1 (COOLING COIL #1...     22394     383   \n",
       "44196            nyserda+0000109188+ac12-4+AC-12-4_OaTmp     22733     398   \n",
       "44241            nyserda+0000109188+ac25-1+AC-25-1_OaTmp     22734     398   \n",
       "44272              nyserda+0000109188+ac4-1+AC-4-1_OaTmp     22735     398   \n",
       "44289              nyserda+0000109188+ac9-1+AC-9-1_OaTmp     22736     398   \n",
       "\n",
       "      name_bdg equip_type_abbr    equip_type_name  area_served_desc  \\\n",
       "1313     83483             AHU  Air Handling Unit               NaN   \n",
       "1325     83483             AHU  Air Handling Unit               NaN   \n",
       "1367     83483             AHU  Air Handling Unit               NaN   \n",
       "1385     83483             AHU  Air Handling Unit               NaN   \n",
       "1394     83483             AHU  Air Handling Unit               NaN   \n",
       "...        ...             ...                ...               ...   \n",
       "43833    79528             AHU  Air Handling Unit               NaN   \n",
       "44196   109188             AHU  Air Handling Unit               NaN   \n",
       "44241   109188             AHU  Air Handling Unit               NaN   \n",
       "44272   109188             AHU  Air Handling Unit               NaN   \n",
       "44289   109188             AHU  Air Handling Unit               NaN   \n",
       "\n",
       "                  tags  \n",
       "1313   ['ahu', 'hvac']  \n",
       "1325   ['ahu', 'hvac']  \n",
       "1367   ['ahu', 'hvac']  \n",
       "1385   ['ahu', 'hvac']  \n",
       "1394   ['ahu', 'hvac']  \n",
       "...                ...  \n",
       "43833  ['ahu', 'hvac']  \n",
       "44196  ['ahu', 'hvac']  \n",
       "44241  ['ahu', 'hvac']  \n",
       "44272  ['ahu', 'hvac']  \n",
       "44289  ['ahu', 'hvac']  \n",
       "\n",
       "[302 rows x 24 columns]"
      ]
     },
     "execution_count": 16,
     "metadata": {},
     "output_type": "execute_result"
    }
   ],
   "source": [
    "ahu_oat_data = ahu_data[(ahu_data.type == \"Outside Air Temperature\")]\n",
    "ahu_oat_data"
   ]
  },
  {
   "cell_type": "code",
   "execution_count": 17,
   "id": "643572ef",
   "metadata": {},
   "outputs": [],
   "source": [
    "shared_ahu_data = pd.merge(ahu_mat_data,ahu_rat_data, on = \"equip_id\")"
   ]
  },
  {
   "cell_type": "code",
   "execution_count": 18,
   "id": "103adf7c",
   "metadata": {},
   "outputs": [],
   "source": [
    "shared_ahu_data = pd.merge(shared_ahu_data,ahu_oat_data, on = \"equip_id\")"
   ]
  },
  {
   "cell_type": "code",
   "execution_count": 19,
   "id": "163d52bc",
   "metadata": {},
   "outputs": [
    {
     "data": {
      "text/html": [
       "<div>\n",
       "<style scoped>\n",
       "    .dataframe tbody tr th:only-of-type {\n",
       "        vertical-align: middle;\n",
       "    }\n",
       "\n",
       "    .dataframe tbody tr th {\n",
       "        vertical-align: top;\n",
       "    }\n",
       "\n",
       "    .dataframe thead th {\n",
       "        text-align: right;\n",
       "    }\n",
       "</style>\n",
       "<table border=\"1\" class=\"dataframe\">\n",
       "  <thead>\n",
       "    <tr style=\"text-align: right;\">\n",
       "      <th></th>\n",
       "      <th>id_point_x</th>\n",
       "      <th>building_id_x</th>\n",
       "      <th>last_updated_x</th>\n",
       "      <th>first_updated_x</th>\n",
       "      <th>device_x</th>\n",
       "      <th>objectId_x</th>\n",
       "      <th>name_point_x</th>\n",
       "      <th>description_x</th>\n",
       "      <th>units_x</th>\n",
       "      <th>tagged_units_x</th>\n",
       "      <th>...</th>\n",
       "      <th>point_type_id</th>\n",
       "      <th>measurement_id</th>\n",
       "      <th>datasource_hash</th>\n",
       "      <th>topic</th>\n",
       "      <th>id_bdg</th>\n",
       "      <th>name_bdg</th>\n",
       "      <th>equip_type_abbr</th>\n",
       "      <th>equip_type_name</th>\n",
       "      <th>area_served_desc</th>\n",
       "      <th>tags</th>\n",
       "    </tr>\n",
       "  </thead>\n",
       "  <tbody>\n",
       "    <tr>\n",
       "      <th>0</th>\n",
       "      <td>198131</td>\n",
       "      <td>140</td>\n",
       "      <td>1.551416e+12</td>\n",
       "      <td>1.509509e+12</td>\n",
       "      <td>NaN</td>\n",
       "      <td>NaN</td>\n",
       "      <td>NaN</td>\n",
       "      <td>UPCM-1 AH-1 Gallery_Mixed Air Temp</td>\n",
       "      <td>F</td>\n",
       "      <td>NaN</td>\n",
       "      <td>...</td>\n",
       "      <td>76</td>\n",
       "      <td>1</td>\n",
       "      <td>d4f8e8a9f1eebcf2ea5c08a68096aee0</td>\n",
       "      <td>nyserda+0000083483+ahu1-gallery+UPCM-1 AH-1 Ga...</td>\n",
       "      <td>140</td>\n",
       "      <td>83483</td>\n",
       "      <td>AHU</td>\n",
       "      <td>Air Handling Unit</td>\n",
       "      <td>NaN</td>\n",
       "      <td>['ahu', 'hvac']</td>\n",
       "    </tr>\n",
       "    <tr>\n",
       "      <th>1</th>\n",
       "      <td>198131</td>\n",
       "      <td>140</td>\n",
       "      <td>1.551416e+12</td>\n",
       "      <td>1.509509e+12</td>\n",
       "      <td>NaN</td>\n",
       "      <td>NaN</td>\n",
       "      <td>NaN</td>\n",
       "      <td>UPCM-1 AH-1 Gallery_Mixed Air Temp</td>\n",
       "      <td>F</td>\n",
       "      <td>NaN</td>\n",
       "      <td>...</td>\n",
       "      <td>76</td>\n",
       "      <td>1</td>\n",
       "      <td>10bd646990542556aa86d3a9236a128e</td>\n",
       "      <td>nyserda+0000083483+ahu1-gallery+UPCM-1 AH-1 Ga...</td>\n",
       "      <td>140</td>\n",
       "      <td>83483</td>\n",
       "      <td>AHU</td>\n",
       "      <td>Air Handling Unit</td>\n",
       "      <td>NaN</td>\n",
       "      <td>['ahu', 'hvac']</td>\n",
       "    </tr>\n",
       "    <tr>\n",
       "      <th>2</th>\n",
       "      <td>198220</td>\n",
       "      <td>140</td>\n",
       "      <td>1.551416e+12</td>\n",
       "      <td>1.509509e+12</td>\n",
       "      <td>NaN</td>\n",
       "      <td>NaN</td>\n",
       "      <td>NaN</td>\n",
       "      <td>UPCM-2 AH-2 2nd Floor_Mixed Air Temp</td>\n",
       "      <td>F</td>\n",
       "      <td>NaN</td>\n",
       "      <td>...</td>\n",
       "      <td>76</td>\n",
       "      <td>1</td>\n",
       "      <td>82fd8b24d7f37657c33d17d2eb362b9c</td>\n",
       "      <td>nyserda+0000083483+ahu2-floor2+UPCM-2 AH-2 2nd...</td>\n",
       "      <td>140</td>\n",
       "      <td>83483</td>\n",
       "      <td>AHU</td>\n",
       "      <td>Air Handling Unit</td>\n",
       "      <td>NaN</td>\n",
       "      <td>['ahu', 'hvac']</td>\n",
       "    </tr>\n",
       "    <tr>\n",
       "      <th>3</th>\n",
       "      <td>198220</td>\n",
       "      <td>140</td>\n",
       "      <td>1.551416e+12</td>\n",
       "      <td>1.509509e+12</td>\n",
       "      <td>NaN</td>\n",
       "      <td>NaN</td>\n",
       "      <td>NaN</td>\n",
       "      <td>UPCM-2 AH-2 2nd Floor_Mixed Air Temp</td>\n",
       "      <td>F</td>\n",
       "      <td>NaN</td>\n",
       "      <td>...</td>\n",
       "      <td>76</td>\n",
       "      <td>1</td>\n",
       "      <td>c26204f12acb843e13f3f98b98edb4ea</td>\n",
       "      <td>nyserda+0000083483+ahu2-floor2+UPCM-2 AH-2 2nd...</td>\n",
       "      <td>140</td>\n",
       "      <td>83483</td>\n",
       "      <td>AHU</td>\n",
       "      <td>Air Handling Unit</td>\n",
       "      <td>NaN</td>\n",
       "      <td>['ahu', 'hvac']</td>\n",
       "    </tr>\n",
       "    <tr>\n",
       "      <th>4</th>\n",
       "      <td>267505</td>\n",
       "      <td>419</td>\n",
       "      <td>1.567915e+12</td>\n",
       "      <td>1.551967e+12</td>\n",
       "      <td>NaN</td>\n",
       "      <td>NaN</td>\n",
       "      <td>NaN</td>\n",
       "      <td>221 E 71st St Mechanical Room Marymount  AHU-1...</td>\n",
       "      <td>F</td>\n",
       "      <td>NaN</td>\n",
       "      <td>...</td>\n",
       "      <td>76</td>\n",
       "      <td>1</td>\n",
       "      <td>81eacac996517a748dc2ae79649784ee</td>\n",
       "      <td>nyserda+0000116399+ahu-1+221 E 71st St Mechani...</td>\n",
       "      <td>419</td>\n",
       "      <td>116399</td>\n",
       "      <td>AHU</td>\n",
       "      <td>Air Handling Unit</td>\n",
       "      <td>NaN</td>\n",
       "      <td>['ahu', 'hvac']</td>\n",
       "    </tr>\n",
       "    <tr>\n",
       "      <th>...</th>\n",
       "      <td>...</td>\n",
       "      <td>...</td>\n",
       "      <td>...</td>\n",
       "      <td>...</td>\n",
       "      <td>...</td>\n",
       "      <td>...</td>\n",
       "      <td>...</td>\n",
       "      <td>...</td>\n",
       "      <td>...</td>\n",
       "      <td>...</td>\n",
       "      <td>...</td>\n",
       "      <td>...</td>\n",
       "      <td>...</td>\n",
       "      <td>...</td>\n",
       "      <td>...</td>\n",
       "      <td>...</td>\n",
       "      <td>...</td>\n",
       "      <td>...</td>\n",
       "      <td>...</td>\n",
       "      <td>...</td>\n",
       "      <td>...</td>\n",
       "    </tr>\n",
       "    <tr>\n",
       "      <th>114</th>\n",
       "      <td>229827</td>\n",
       "      <td>391</td>\n",
       "      <td>1.577768e+12</td>\n",
       "      <td>1.559938e+12</td>\n",
       "      <td>NaN</td>\n",
       "      <td>NaN</td>\n",
       "      <td>NaN</td>\n",
       "      <td>AHU_10L_MATemp</td>\n",
       "      <td>F</td>\n",
       "      <td>NaN</td>\n",
       "      <td>...</td>\n",
       "      <td>76</td>\n",
       "      <td>1</td>\n",
       "      <td>633d1dd9c9582729c3c560eeb3210509</td>\n",
       "      <td>nyserda+0000123698+ahu10+AHU_10L_OATemp</td>\n",
       "      <td>391</td>\n",
       "      <td>123698</td>\n",
       "      <td>AHU</td>\n",
       "      <td>Air Handling Unit</td>\n",
       "      <td>NaN</td>\n",
       "      <td>['ahu', 'hvac']</td>\n",
       "    </tr>\n",
       "    <tr>\n",
       "      <th>115</th>\n",
       "      <td>229883</td>\n",
       "      <td>391</td>\n",
       "      <td>1.577768e+12</td>\n",
       "      <td>1.560782e+12</td>\n",
       "      <td>NaN</td>\n",
       "      <td>NaN</td>\n",
       "      <td>NaN</td>\n",
       "      <td>L_AH3_MAT</td>\n",
       "      <td>F</td>\n",
       "      <td>NaN</td>\n",
       "      <td>...</td>\n",
       "      <td>76</td>\n",
       "      <td>1</td>\n",
       "      <td>70aff5ea7a42e54e472f018d4ef16fe0</td>\n",
       "      <td>nyserda+0000123698+ahu3+L_AH3_OATemp</td>\n",
       "      <td>391</td>\n",
       "      <td>123698</td>\n",
       "      <td>AHU</td>\n",
       "      <td>Air Handling Unit</td>\n",
       "      <td>NaN</td>\n",
       "      <td>['ahu', 'hvac']</td>\n",
       "    </tr>\n",
       "    <tr>\n",
       "      <th>116</th>\n",
       "      <td>230969</td>\n",
       "      <td>398</td>\n",
       "      <td>1.577768e+12</td>\n",
       "      <td>1.554845e+12</td>\n",
       "      <td>NaN</td>\n",
       "      <td>NaN</td>\n",
       "      <td>NaN</td>\n",
       "      <td>AC-25-1_MaTmp</td>\n",
       "      <td>F</td>\n",
       "      <td>NaN</td>\n",
       "      <td>...</td>\n",
       "      <td>76</td>\n",
       "      <td>1</td>\n",
       "      <td>18896da3dc788a9de84f2c5e9bcfb49a</td>\n",
       "      <td>nyserda+0000109188+ac25-1+AC-25-1_OaTmp</td>\n",
       "      <td>398</td>\n",
       "      <td>109188</td>\n",
       "      <td>AHU</td>\n",
       "      <td>Air Handling Unit</td>\n",
       "      <td>NaN</td>\n",
       "      <td>['ahu', 'hvac']</td>\n",
       "    </tr>\n",
       "    <tr>\n",
       "      <th>117</th>\n",
       "      <td>231000</td>\n",
       "      <td>398</td>\n",
       "      <td>1.577768e+12</td>\n",
       "      <td>1.554845e+12</td>\n",
       "      <td>NaN</td>\n",
       "      <td>NaN</td>\n",
       "      <td>NaN</td>\n",
       "      <td>AC-4-1_MaTmp</td>\n",
       "      <td>F</td>\n",
       "      <td>NaN</td>\n",
       "      <td>...</td>\n",
       "      <td>76</td>\n",
       "      <td>1</td>\n",
       "      <td>bb8550c34feb8bfd3baa72726bc77e2d</td>\n",
       "      <td>nyserda+0000109188+ac4-1+AC-4-1_OaTmp</td>\n",
       "      <td>398</td>\n",
       "      <td>109188</td>\n",
       "      <td>AHU</td>\n",
       "      <td>Air Handling Unit</td>\n",
       "      <td>NaN</td>\n",
       "      <td>['ahu', 'hvac']</td>\n",
       "    </tr>\n",
       "    <tr>\n",
       "      <th>118</th>\n",
       "      <td>231030</td>\n",
       "      <td>398</td>\n",
       "      <td>1.577768e+12</td>\n",
       "      <td>1.554845e+12</td>\n",
       "      <td>NaN</td>\n",
       "      <td>NaN</td>\n",
       "      <td>NaN</td>\n",
       "      <td>AC-9-1_MaTmp</td>\n",
       "      <td>F</td>\n",
       "      <td>NaN</td>\n",
       "      <td>...</td>\n",
       "      <td>76</td>\n",
       "      <td>1</td>\n",
       "      <td>4bbf038bd272bb068799072af9e7a03e</td>\n",
       "      <td>nyserda+0000109188+ac9-1+AC-9-1_OaTmp</td>\n",
       "      <td>398</td>\n",
       "      <td>109188</td>\n",
       "      <td>AHU</td>\n",
       "      <td>Air Handling Unit</td>\n",
       "      <td>NaN</td>\n",
       "      <td>['ahu', 'hvac']</td>\n",
       "    </tr>\n",
       "  </tbody>\n",
       "</table>\n",
       "<p>119 rows × 70 columns</p>\n",
       "</div>"
      ],
      "text/plain": [
       "     id_point_x  building_id_x  last_updated_x  first_updated_x  device_x  \\\n",
       "0        198131            140    1.551416e+12     1.509509e+12       NaN   \n",
       "1        198131            140    1.551416e+12     1.509509e+12       NaN   \n",
       "2        198220            140    1.551416e+12     1.509509e+12       NaN   \n",
       "3        198220            140    1.551416e+12     1.509509e+12       NaN   \n",
       "4        267505            419    1.567915e+12     1.551967e+12       NaN   \n",
       "..          ...            ...             ...              ...       ...   \n",
       "114      229827            391    1.577768e+12     1.559938e+12       NaN   \n",
       "115      229883            391    1.577768e+12     1.560782e+12       NaN   \n",
       "116      230969            398    1.577768e+12     1.554845e+12       NaN   \n",
       "117      231000            398    1.577768e+12     1.554845e+12       NaN   \n",
       "118      231030            398    1.577768e+12     1.554845e+12       NaN   \n",
       "\n",
       "     objectId_x name_point_x  \\\n",
       "0           NaN          NaN   \n",
       "1           NaN          NaN   \n",
       "2           NaN          NaN   \n",
       "3           NaN          NaN   \n",
       "4           NaN          NaN   \n",
       "..          ...          ...   \n",
       "114         NaN          NaN   \n",
       "115         NaN          NaN   \n",
       "116         NaN          NaN   \n",
       "117         NaN          NaN   \n",
       "118         NaN          NaN   \n",
       "\n",
       "                                         description_x units_x tagged_units_x  \\\n",
       "0                   UPCM-1 AH-1 Gallery_Mixed Air Temp       F            NaN   \n",
       "1                   UPCM-1 AH-1 Gallery_Mixed Air Temp       F            NaN   \n",
       "2                 UPCM-2 AH-2 2nd Floor_Mixed Air Temp       F            NaN   \n",
       "3                 UPCM-2 AH-2 2nd Floor_Mixed Air Temp       F            NaN   \n",
       "4    221 E 71st St Mechanical Room Marymount  AHU-1...       F            NaN   \n",
       "..                                                 ...     ...            ...   \n",
       "114                                     AHU_10L_MATemp       F            NaN   \n",
       "115                                          L_AH3_MAT       F            NaN   \n",
       "116                                      AC-25-1_MaTmp       F            NaN   \n",
       "117                                       AC-4-1_MaTmp       F            NaN   \n",
       "118                                       AC-9-1_MaTmp       F            NaN   \n",
       "\n",
       "     ...  point_type_id measurement_id                   datasource_hash  \\\n",
       "0    ...             76              1  d4f8e8a9f1eebcf2ea5c08a68096aee0   \n",
       "1    ...             76              1  10bd646990542556aa86d3a9236a128e   \n",
       "2    ...             76              1  82fd8b24d7f37657c33d17d2eb362b9c   \n",
       "3    ...             76              1  c26204f12acb843e13f3f98b98edb4ea   \n",
       "4    ...             76              1  81eacac996517a748dc2ae79649784ee   \n",
       "..   ...            ...            ...                               ...   \n",
       "114  ...             76              1  633d1dd9c9582729c3c560eeb3210509   \n",
       "115  ...             76              1  70aff5ea7a42e54e472f018d4ef16fe0   \n",
       "116  ...             76              1  18896da3dc788a9de84f2c5e9bcfb49a   \n",
       "117  ...             76              1  bb8550c34feb8bfd3baa72726bc77e2d   \n",
       "118  ...             76              1  4bbf038bd272bb068799072af9e7a03e   \n",
       "\n",
       "                                                 topic  id_bdg name_bdg  \\\n",
       "0    nyserda+0000083483+ahu1-gallery+UPCM-1 AH-1 Ga...     140    83483   \n",
       "1    nyserda+0000083483+ahu1-gallery+UPCM-1 AH-1 Ga...     140    83483   \n",
       "2    nyserda+0000083483+ahu2-floor2+UPCM-2 AH-2 2nd...     140    83483   \n",
       "3    nyserda+0000083483+ahu2-floor2+UPCM-2 AH-2 2nd...     140    83483   \n",
       "4    nyserda+0000116399+ahu-1+221 E 71st St Mechani...     419   116399   \n",
       "..                                                 ...     ...      ...   \n",
       "114            nyserda+0000123698+ahu10+AHU_10L_OATemp     391   123698   \n",
       "115               nyserda+0000123698+ahu3+L_AH3_OATemp     391   123698   \n",
       "116            nyserda+0000109188+ac25-1+AC-25-1_OaTmp     398   109188   \n",
       "117              nyserda+0000109188+ac4-1+AC-4-1_OaTmp     398   109188   \n",
       "118              nyserda+0000109188+ac9-1+AC-9-1_OaTmp     398   109188   \n",
       "\n",
       "    equip_type_abbr    equip_type_name  area_served_desc             tags  \n",
       "0               AHU  Air Handling Unit               NaN  ['ahu', 'hvac']  \n",
       "1               AHU  Air Handling Unit               NaN  ['ahu', 'hvac']  \n",
       "2               AHU  Air Handling Unit               NaN  ['ahu', 'hvac']  \n",
       "3               AHU  Air Handling Unit               NaN  ['ahu', 'hvac']  \n",
       "4               AHU  Air Handling Unit               NaN  ['ahu', 'hvac']  \n",
       "..              ...                ...               ...              ...  \n",
       "114             AHU  Air Handling Unit               NaN  ['ahu', 'hvac']  \n",
       "115             AHU  Air Handling Unit               NaN  ['ahu', 'hvac']  \n",
       "116             AHU  Air Handling Unit               NaN  ['ahu', 'hvac']  \n",
       "117             AHU  Air Handling Unit               NaN  ['ahu', 'hvac']  \n",
       "118             AHU  Air Handling Unit               NaN  ['ahu', 'hvac']  \n",
       "\n",
       "[119 rows x 70 columns]"
      ]
     },
     "execution_count": 19,
     "metadata": {},
     "output_type": "execute_result"
    }
   ],
   "source": [
    "shared_ahu_data"
   ]
  },
  {
   "cell_type": "code",
   "execution_count": 20,
   "id": "72b40869",
   "metadata": {},
   "outputs": [],
   "source": [
    "shared_ahu_data.to_csv(\"./shared_ahu_data.csv\")"
   ]
  },
  {
   "cell_type": "markdown",
   "id": "2ba44932",
   "metadata": {
    "papermill": {
     "duration": 0.087721,
     "end_time": "2022-05-13T16:22:29.421858",
     "exception": false,
     "start_time": "2022-05-13T16:22:29.334137",
     "status": "completed"
    },
    "tags": []
   },
   "source": [
    "# Querying time-series: Boiler Heating Hot Water Supply Temp"
   ]
  },
  {
   "cell_type": "markdown",
   "id": "444bf735",
   "metadata": {
    "papermill": {
     "duration": 0.08799,
     "end_time": "2022-05-13T16:22:29.599446",
     "exception": false,
     "start_time": "2022-05-13T16:22:29.511456",
     "status": "completed"
    },
    "tags": []
   },
   "source": [
    "Now that we have our metadata filtered it's time to get the time-series of those points. Let's import the libraries we will be using:"
   ]
  },
  {
   "cell_type": "code",
   "execution_count": 21,
   "id": "3bdbac08",
   "metadata": {
    "execution": {
     "iopub.execute_input": "2022-05-13T16:22:29.784517Z",
     "iopub.status.busy": "2022-05-13T16:22:29.783430Z",
     "iopub.status.idle": "2022-05-13T16:22:29.788331Z",
     "shell.execute_reply": "2022-05-13T16:22:29.788835Z",
     "shell.execute_reply.started": "2022-05-04T01:32:27.810457Z"
    },
    "papermill": {
     "duration": 0.096793,
     "end_time": "2022-05-13T16:22:29.789024",
     "exception": false,
     "start_time": "2022-05-13T16:22:29.692231",
     "status": "completed"
    },
    "tags": []
   },
   "outputs": [],
   "source": [
    "from datetime import datetime, timezone, timedelta\n",
    "import pytz\n",
    "from onboard.client.models import TimeseriesQuery, PointData\n",
    "from onboard.client.dataframes import points_df_from_streaming_timeseries"
   ]
  },
  {
   "cell_type": "markdown",
   "id": "b67be79c",
   "metadata": {
    "papermill": {
     "duration": 0.08761,
     "end_time": "2022-05-13T16:22:29.967108",
     "exception": false,
     "start_time": "2022-05-13T16:22:29.879498",
     "status": "completed"
    },
    "tags": []
   },
   "source": [
    "First, create a list with the points to query. We already filtered our dataset, so it's all the points there:"
   ]
  },
  {
   "cell_type": "code",
   "execution_count": 22,
   "id": "06474475",
   "metadata": {
    "execution": {
     "iopub.execute_input": "2022-05-13T16:22:30.148855Z",
     "iopub.status.busy": "2022-05-13T16:22:30.147823Z",
     "iopub.status.idle": "2022-05-13T16:22:30.152485Z",
     "shell.execute_reply": "2022-05-13T16:22:30.153072Z",
     "shell.execute_reply.started": "2022-05-04T01:32:42.550368Z"
    },
    "papermill": {
     "duration": 0.096957,
     "end_time": "2022-05-13T16:22:30.153249",
     "exception": false,
     "start_time": "2022-05-13T16:22:30.056292",
     "status": "completed"
    },
    "tags": []
   },
   "outputs": [],
   "source": [
    "ahu_mat_points = list(ahu_mat_data.id_point)\n",
    "ahu_rat_points = list(ahu_rat_data.id_point)\n",
    "ahu_oat_points = list(ahu_oat_data.id_point)"
   ]
  },
  {
   "cell_type": "code",
   "execution_count": 23,
   "id": "44d76eae",
   "metadata": {},
   "outputs": [
    {
     "data": {
      "text/plain": [
       "[198131,\n",
       " 198220,\n",
       " 267505,\n",
       " 267522,\n",
       " 267544,\n",
       " 267559,\n",
       " 267575,\n",
       " 267592,\n",
       " 267607,\n",
       " 267623,\n",
       " 267635,\n",
       " 267647,\n",
       " 356295,\n",
       " 356230,\n",
       " 356181,\n",
       " 356203,\n",
       " 356248,\n",
       " 356272,\n",
       " 356313,\n",
       " 356336,\n",
       " 356359,\n",
       " 356382,\n",
       " 356404,\n",
       " 357614,\n",
       " 357654,\n",
       " 358173,\n",
       " 358183,\n",
       " 320552,\n",
       " 307603,\n",
       " 307616,\n",
       " 307629,\n",
       " 307645,\n",
       " 307664,\n",
       " 307683,\n",
       " 307724,\n",
       " 307810,\n",
       " 307762,\n",
       " 307832,\n",
       " 307855,\n",
       " 307877,\n",
       " 307915,\n",
       " 307980,\n",
       " 308023,\n",
       " 308068,\n",
       " 308145,\n",
       " 308164,\n",
       " 308086,\n",
       " 308104,\n",
       " 308124,\n",
       " 308182,\n",
       " 308201,\n",
       " 308251,\n",
       " 308235,\n",
       " 308268,\n",
       " 308292,\n",
       " 358552,\n",
       " 358562,\n",
       " 358588,\n",
       " 358539,\n",
       " 358614,\n",
       " 358640,\n",
       " 358666,\n",
       " 358689,\n",
       " 358716,\n",
       " 358739,\n",
       " 358760,\n",
       " 357705,\n",
       " 357717,\n",
       " 357734,\n",
       " 357757,\n",
       " 357749,\n",
       " 357769,\n",
       " 357781,\n",
       " 379479,\n",
       " 379495,\n",
       " 379508,\n",
       " 379518,\n",
       " 379546,\n",
       " 379570,\n",
       " 379596,\n",
       " 379620,\n",
       " 379646,\n",
       " 379669,\n",
       " 379690,\n",
       " 379220,\n",
       " 379246,\n",
       " 379273,\n",
       " 379291,\n",
       " 379320,\n",
       " 378945,\n",
       " 378970,\n",
       " 378996,\n",
       " 379019,\n",
       " 378916,\n",
       " 379043,\n",
       " 379068,\n",
       " 379093,\n",
       " 379118,\n",
       " 379143,\n",
       " 379168,\n",
       " 379194,\n",
       " 358883,\n",
       " 358802,\n",
       " 358820,\n",
       " 358836,\n",
       " 358851,\n",
       " 358869,\n",
       " 358895,\n",
       " 358905,\n",
       " 358916,\n",
       " 358928,\n",
       " 358940,\n",
       " 358955,\n",
       " 358970,\n",
       " 358984,\n",
       " 357828,\n",
       " 357868,\n",
       " 357898,\n",
       " 357934,\n",
       " 358007,\n",
       " 358027,\n",
       " 358050,\n",
       " 358074,\n",
       " 358098,\n",
       " 357296,\n",
       " 357314,\n",
       " 357338,\n",
       " 357376,\n",
       " 357396,\n",
       " 357418,\n",
       " 357444,\n",
       " 357480,\n",
       " 357513,\n",
       " 357531,\n",
       " 212189,\n",
       " 212226,\n",
       " 212264,\n",
       " 212307,\n",
       " 212353,\n",
       " 212398,\n",
       " 212445,\n",
       " 212491,\n",
       " 212527,\n",
       " 359092,\n",
       " 359125,\n",
       " 359158,\n",
       " 191320,\n",
       " 191357,\n",
       " 192585,\n",
       " 380128,\n",
       " 380160,\n",
       " 196698,\n",
       " 196714,\n",
       " 196727,\n",
       " 196746,\n",
       " 196760,\n",
       " 199347,\n",
       " 199431,\n",
       " 414548,\n",
       " 414547,\n",
       " 201616,\n",
       " 201663,\n",
       " 201662,\n",
       " 203857,\n",
       " 203903,\n",
       " 203944,\n",
       " 203990,\n",
       " 204042,\n",
       " 204069,\n",
       " 204395,\n",
       " 204489,\n",
       " 208241,\n",
       " 208240,\n",
       " 208978,\n",
       " 209008,\n",
       " 209039,\n",
       " 209069,\n",
       " 209099,\n",
       " 209129,\n",
       " 209159,\n",
       " 209185,\n",
       " 214112,\n",
       " 214153,\n",
       " 214189,\n",
       " 219473,\n",
       " 219502,\n",
       " 219558,\n",
       " 219609,\n",
       " 222151,\n",
       " 222177,\n",
       " 222201,\n",
       " 222226,\n",
       " 222253,\n",
       " 222279,\n",
       " 222304,\n",
       " 222329,\n",
       " 222355,\n",
       " 222380,\n",
       " 222402,\n",
       " 222424,\n",
       " 222445,\n",
       " 222466,\n",
       " 222491,\n",
       " 222532,\n",
       " 222552,\n",
       " 222590,\n",
       " 222629,\n",
       " 222667,\n",
       " 222688,\n",
       " 222709,\n",
       " 222730,\n",
       " 223358,\n",
       " 227446,\n",
       " 227471,\n",
       " 227496,\n",
       " 227523,\n",
       " 227551,\n",
       " 227578,\n",
       " 227606,\n",
       " 227632,\n",
       " 227674,\n",
       " 227701,\n",
       " 227728,\n",
       " 230542,\n",
       " 230593,\n",
       " 230647,\n",
       " 229827,\n",
       " 229883,\n",
       " 230095,\n",
       " 230969,\n",
       " 231000,\n",
       " 231030]"
      ]
     },
     "execution_count": 23,
     "metadata": {},
     "output_type": "execute_result"
    }
   ],
   "source": [
    "ahu_mat_points"
   ]
  },
  {
   "cell_type": "markdown",
   "id": "97ececf0",
   "metadata": {
    "papermill": {
     "duration": 0.088116,
     "end_time": "2022-05-13T16:22:30.330071",
     "exception": false,
     "start_time": "2022-05-13T16:22:30.241955",
     "status": "completed"
    },
    "tags": []
   },
   "source": [
    "Let's inspect the datetime period we are working with; we have to convert the `first_updated` and `last_updated` from unix timestamp to a datetime (like we learned in a previous notebook)."
   ]
  },
  {
   "cell_type": "code",
   "execution_count": 24,
   "id": "cf351349",
   "metadata": {
    "execution": {
     "iopub.execute_input": "2022-05-13T16:22:30.510209Z",
     "iopub.status.busy": "2022-05-13T16:22:30.509144Z",
     "iopub.status.idle": "2022-05-13T16:22:30.518609Z",
     "shell.execute_reply": "2022-05-13T16:22:30.517950Z",
     "shell.execute_reply.started": "2022-05-04T01:32:48.752452Z"
    },
    "papermill": {
     "duration": 0.100533,
     "end_time": "2022-05-13T16:22:30.518747",
     "exception": false,
     "start_time": "2022-05-13T16:22:30.418214",
     "status": "completed"
    },
    "tags": []
   },
   "outputs": [
    {
     "data": {
      "text/plain": [
       "Timestamp('2017-06-05 14:30:00+0000', tz='UTC')"
      ]
     },
     "execution_count": 24,
     "metadata": {},
     "output_type": "execute_result"
    }
   ],
   "source": [
    "ahu_mat_data.first_updated.apply(lambda x: datetime.fromtimestamp(x/1000, timezone.utc)).min()"
   ]
  },
  {
   "cell_type": "code",
   "execution_count": 25,
   "id": "069ea8b7",
   "metadata": {},
   "outputs": [
    {
     "data": {
      "text/plain": [
       "Timestamp('2022-01-06 23:45:00+0000', tz='UTC')"
      ]
     },
     "execution_count": 25,
     "metadata": {},
     "output_type": "execute_result"
    }
   ],
   "source": [
    "ahu_mat_data.last_updated.apply(lambda x: datetime.fromtimestamp(x/1000, timezone.utc)).max()"
   ]
  },
  {
   "cell_type": "markdown",
   "id": "d66da39a",
   "metadata": {
    "papermill": {
     "duration": 0.091199,
     "end_time": "2022-05-13T16:22:30.891162",
     "exception": false,
     "start_time": "2022-05-13T16:22:30.799963",
     "status": "completed"
    },
    "tags": []
   },
   "source": [
    "Ok, 2017-2018. Let's select a year of data; we are using the [python library datetime](https://docs.python.org/3/library/datetime.html) to create datetime objects. Remember that all the data from the API is in UTC, you have to localize all your datetimes using [PyTZ](https://pythonhosted.org/pytz/) a library designed for that purpose."
   ]
  },
  {
   "cell_type": "code",
   "execution_count": 26,
   "id": "699656a6",
   "metadata": {
    "execution": {
     "iopub.execute_input": "2022-05-13T16:22:31.076544Z",
     "iopub.status.busy": "2022-05-13T16:22:31.075775Z",
     "iopub.status.idle": "2022-05-13T16:22:31.082643Z",
     "shell.execute_reply": "2022-05-13T16:22:31.083636Z",
     "shell.execute_reply.started": "2022-05-04T01:33:22.341521Z"
    },
    "papermill": {
     "duration": 0.102717,
     "end_time": "2022-05-13T16:22:31.083985",
     "exception": false,
     "start_time": "2022-05-13T16:22:30.981268",
     "status": "completed"
    },
    "tags": []
   },
   "outputs": [
    {
     "name": "stdout",
     "output_type": "stream",
     "text": [
      "from 2019-01-01 00:00:00+00:00 to 2020-01-01 00:00:00+00:00\n"
     ]
    }
   ],
   "source": [
    "# Select your timezone\n",
    "tz = pytz.timezone('UTC')\n",
    "\n",
    "# Select your date and time (time is optional)\n",
    "start = datetime(2019,1,1,0,0,0).replace(tzinfo=tz)\n",
    "end = datetime(2020,1,1,0,0,0).replace(tzinfo=tz)\n",
    "\n",
    "print(f\"from {start} to {end}\")"
   ]
  },
  {
   "cell_type": "markdown",
   "id": "e75815fc",
   "metadata": {
    "papermill": {
     "duration": 0.089405,
     "end_time": "2022-05-13T16:22:31.265656",
     "exception": false,
     "start_time": "2022-05-13T16:22:31.176251",
     "status": "completed"
    },
    "tags": []
   },
   "source": [
    "And create the query with all the parameters. Here we are saying \"give me the readings fron 20 january 2017 to 20 january 2018 of the points in `points`\":"
   ]
  },
  {
   "cell_type": "code",
   "execution_count": 27,
   "id": "cfb63b87",
   "metadata": {
    "execution": {
     "iopub.execute_input": "2022-05-13T16:22:31.449380Z",
     "iopub.status.busy": "2022-05-13T16:22:31.448551Z",
     "iopub.status.idle": "2022-05-13T16:22:31.453317Z",
     "shell.execute_reply": "2022-05-13T16:22:31.453879Z",
     "shell.execute_reply.started": "2022-05-04T01:33:43.379341Z"
    },
    "papermill": {
     "duration": 0.09829,
     "end_time": "2022-05-13T16:22:31.454060",
     "exception": false,
     "start_time": "2022-05-13T16:22:31.355770",
     "status": "completed"
    },
    "tags": []
   },
   "outputs": [],
   "source": [
    "# timeseries_query_mat = TimeseriesQuery(point_ids = ahu_mat_points, start = start, end = end)\n",
    "# timeseries_query_rat = TimeseriesQuery(point_ids = ahu_rat_points, start = start, end = end)\n",
    "# timeseries_query_oat = TimeseriesQuery(point_ids = ahu_oat_points, start = start, end = end)\n",
    "\n",
    "timeseries_query_mat = TimeseriesQuery(point_ids = [267505], start = start, end = end)\n",
    "timeseries_query_rat = TimeseriesQuery(point_ids = [267510], start = start, end = end)\n",
    "timeseries_query_oat = TimeseriesQuery(point_ids = [267507], start = start, end = end)"
   ]
  },
  {
   "cell_type": "markdown",
   "id": "47a92610",
   "metadata": {
    "papermill": {
     "duration": 0.08897,
     "end_time": "2022-05-13T16:22:31.634531",
     "exception": false,
     "start_time": "2022-05-13T16:22:31.545561",
     "status": "completed"
    },
    "tags": []
   },
   "source": [
    "Time to get the data!"
   ]
  },
  {
   "cell_type": "code",
   "execution_count": 28,
   "id": "e83767ef",
   "metadata": {
    "execution": {
     "iopub.execute_input": "2022-05-13T16:22:31.817208Z",
     "iopub.status.busy": "2022-05-13T16:22:31.816312Z",
     "iopub.status.idle": "2022-05-13T16:22:50.173935Z",
     "shell.execute_reply": "2022-05-13T16:22:50.174465Z",
     "shell.execute_reply.started": "2022-05-04T01:33:46.696507Z"
    },
    "papermill": {
     "duration": 18.44967,
     "end_time": "2022-05-13T16:22:50.174664",
     "exception": false,
     "start_time": "2022-05-13T16:22:31.724994",
     "status": "completed"
    },
    "tags": []
   },
   "outputs": [],
   "source": [
    "# Exceute query (will return and object)\n",
    "query_results_mat = client.stream_point_timeseries(timeseries_query_mat)\n",
    "query_results_rat = client.stream_point_timeseries(timeseries_query_rat)\n",
    "query_results_oat = client.stream_point_timeseries(timeseries_query_oat)\n",
    "\n",
    "# Convert to dataframe\n",
    "data_mat = points_df_from_streaming_timeseries(query_results_mat)\n",
    "data_rat = points_df_from_streaming_timeseries(query_results_rat)\n",
    "data_oat = points_df_from_streaming_timeseries(query_results_oat)"
   ]
  },
  {
   "cell_type": "code",
   "execution_count": 29,
   "id": "7f106d9c",
   "metadata": {},
   "outputs": [
    {
     "data": {
      "text/html": [
       "<div>\n",
       "<style scoped>\n",
       "    .dataframe tbody tr th:only-of-type {\n",
       "        vertical-align: middle;\n",
       "    }\n",
       "\n",
       "    .dataframe tbody tr th {\n",
       "        vertical-align: top;\n",
       "    }\n",
       "\n",
       "    .dataframe thead th {\n",
       "        text-align: right;\n",
       "    }\n",
       "</style>\n",
       "<table border=\"1\" class=\"dataframe\">\n",
       "  <thead>\n",
       "    <tr style=\"text-align: right;\">\n",
       "      <th></th>\n",
       "      <th>timestamp</th>\n",
       "      <th>267505</th>\n",
       "    </tr>\n",
       "  </thead>\n",
       "  <tbody>\n",
       "    <tr>\n",
       "      <th>0</th>\n",
       "      <td>2019-03-07T13:51:00Z</td>\n",
       "      <td>52.721199</td>\n",
       "    </tr>\n",
       "    <tr>\n",
       "      <th>1</th>\n",
       "      <td>2019-03-07T13:52:00Z</td>\n",
       "      <td>52.862801</td>\n",
       "    </tr>\n",
       "    <tr>\n",
       "      <th>2</th>\n",
       "      <td>2019-03-07T13:53:00Z</td>\n",
       "      <td>52.201000</td>\n",
       "    </tr>\n",
       "    <tr>\n",
       "      <th>3</th>\n",
       "      <td>2019-03-07T13:54:00Z</td>\n",
       "      <td>52.593399</td>\n",
       "    </tr>\n",
       "    <tr>\n",
       "      <th>4</th>\n",
       "      <td>2019-03-07T13:55:00Z</td>\n",
       "      <td>52.890301</td>\n",
       "    </tr>\n",
       "    <tr>\n",
       "      <th>...</th>\n",
       "      <td>...</td>\n",
       "      <td>...</td>\n",
       "    </tr>\n",
       "    <tr>\n",
       "      <th>256542</th>\n",
       "      <td>2019-09-08T03:57:00Z</td>\n",
       "      <td>70.026001</td>\n",
       "    </tr>\n",
       "    <tr>\n",
       "      <th>256543</th>\n",
       "      <td>2019-09-08T03:58:00Z</td>\n",
       "      <td>70.026604</td>\n",
       "    </tr>\n",
       "    <tr>\n",
       "      <th>256544</th>\n",
       "      <td>2019-09-08T03:59:00Z</td>\n",
       "      <td>70.012604</td>\n",
       "    </tr>\n",
       "    <tr>\n",
       "      <th>256545</th>\n",
       "      <td>2019-09-08T04:00:00Z</td>\n",
       "      <td>69.993797</td>\n",
       "    </tr>\n",
       "    <tr>\n",
       "      <th>256546</th>\n",
       "      <td>2019-09-08T04:01:00Z</td>\n",
       "      <td>69.956200</td>\n",
       "    </tr>\n",
       "  </tbody>\n",
       "</table>\n",
       "<p>256547 rows × 2 columns</p>\n",
       "</div>"
      ],
      "text/plain": [
       "                   timestamp     267505\n",
       "0       2019-03-07T13:51:00Z  52.721199\n",
       "1       2019-03-07T13:52:00Z  52.862801\n",
       "2       2019-03-07T13:53:00Z  52.201000\n",
       "3       2019-03-07T13:54:00Z  52.593399\n",
       "4       2019-03-07T13:55:00Z  52.890301\n",
       "...                      ...        ...\n",
       "256542  2019-09-08T03:57:00Z  70.026001\n",
       "256543  2019-09-08T03:58:00Z  70.026604\n",
       "256544  2019-09-08T03:59:00Z  70.012604\n",
       "256545  2019-09-08T04:00:00Z  69.993797\n",
       "256546  2019-09-08T04:01:00Z  69.956200\n",
       "\n",
       "[256547 rows x 2 columns]"
      ]
     },
     "execution_count": 29,
     "metadata": {},
     "output_type": "execute_result"
    }
   ],
   "source": [
    "data_mat"
   ]
  },
  {
   "cell_type": "code",
   "execution_count": 30,
   "id": "1cca9038",
   "metadata": {},
   "outputs": [
    {
     "data": {
      "text/html": [
       "<div>\n",
       "<style scoped>\n",
       "    .dataframe tbody tr th:only-of-type {\n",
       "        vertical-align: middle;\n",
       "    }\n",
       "\n",
       "    .dataframe tbody tr th {\n",
       "        vertical-align: top;\n",
       "    }\n",
       "\n",
       "    .dataframe thead th {\n",
       "        text-align: right;\n",
       "    }\n",
       "</style>\n",
       "<table border=\"1\" class=\"dataframe\">\n",
       "  <thead>\n",
       "    <tr style=\"text-align: right;\">\n",
       "      <th></th>\n",
       "      <th>timestamp</th>\n",
       "      <th>267510</th>\n",
       "    </tr>\n",
       "  </thead>\n",
       "  <tbody>\n",
       "    <tr>\n",
       "      <th>0</th>\n",
       "      <td>2019-03-07T13:55:00Z</td>\n",
       "      <td>73.204102</td>\n",
       "    </tr>\n",
       "    <tr>\n",
       "      <th>1</th>\n",
       "      <td>2019-03-07T14:00:00Z</td>\n",
       "      <td>73.032204</td>\n",
       "    </tr>\n",
       "    <tr>\n",
       "      <th>2</th>\n",
       "      <td>2019-03-07T14:05:00Z</td>\n",
       "      <td>72.835999</td>\n",
       "    </tr>\n",
       "    <tr>\n",
       "      <th>3</th>\n",
       "      <td>2019-03-07T14:10:00Z</td>\n",
       "      <td>72.734001</td>\n",
       "    </tr>\n",
       "    <tr>\n",
       "      <th>4</th>\n",
       "      <td>2019-03-07T14:15:00Z</td>\n",
       "      <td>72.723198</td>\n",
       "    </tr>\n",
       "    <tr>\n",
       "      <th>...</th>\n",
       "      <td>...</td>\n",
       "      <td>...</td>\n",
       "    </tr>\n",
       "    <tr>\n",
       "      <th>51304</th>\n",
       "      <td>2019-09-08T03:45:00Z</td>\n",
       "      <td>70.757896</td>\n",
       "    </tr>\n",
       "    <tr>\n",
       "      <th>51305</th>\n",
       "      <td>2019-09-08T03:50:00Z</td>\n",
       "      <td>70.693497</td>\n",
       "    </tr>\n",
       "    <tr>\n",
       "      <th>51306</th>\n",
       "      <td>2019-09-08T03:55:00Z</td>\n",
       "      <td>70.650497</td>\n",
       "    </tr>\n",
       "    <tr>\n",
       "      <th>51307</th>\n",
       "      <td>2019-09-08T04:00:00Z</td>\n",
       "      <td>70.551102</td>\n",
       "    </tr>\n",
       "    <tr>\n",
       "      <th>51308</th>\n",
       "      <td>2019-09-08T04:05:00Z</td>\n",
       "      <td>70.443604</td>\n",
       "    </tr>\n",
       "  </tbody>\n",
       "</table>\n",
       "<p>51309 rows × 2 columns</p>\n",
       "</div>"
      ],
      "text/plain": [
       "                  timestamp     267510\n",
       "0      2019-03-07T13:55:00Z  73.204102\n",
       "1      2019-03-07T14:00:00Z  73.032204\n",
       "2      2019-03-07T14:05:00Z  72.835999\n",
       "3      2019-03-07T14:10:00Z  72.734001\n",
       "4      2019-03-07T14:15:00Z  72.723198\n",
       "...                     ...        ...\n",
       "51304  2019-09-08T03:45:00Z  70.757896\n",
       "51305  2019-09-08T03:50:00Z  70.693497\n",
       "51306  2019-09-08T03:55:00Z  70.650497\n",
       "51307  2019-09-08T04:00:00Z  70.551102\n",
       "51308  2019-09-08T04:05:00Z  70.443604\n",
       "\n",
       "[51309 rows x 2 columns]"
      ]
     },
     "execution_count": 30,
     "metadata": {},
     "output_type": "execute_result"
    }
   ],
   "source": [
    "data_rat"
   ]
  },
  {
   "cell_type": "code",
   "execution_count": 31,
   "id": "948ca64f",
   "metadata": {},
   "outputs": [
    {
     "data": {
      "text/html": [
       "<div>\n",
       "<style scoped>\n",
       "    .dataframe tbody tr th:only-of-type {\n",
       "        vertical-align: middle;\n",
       "    }\n",
       "\n",
       "    .dataframe tbody tr th {\n",
       "        vertical-align: top;\n",
       "    }\n",
       "\n",
       "    .dataframe thead th {\n",
       "        text-align: right;\n",
       "    }\n",
       "</style>\n",
       "<table border=\"1\" class=\"dataframe\">\n",
       "  <thead>\n",
       "    <tr style=\"text-align: right;\">\n",
       "      <th></th>\n",
       "      <th>timestamp</th>\n",
       "      <th>267507</th>\n",
       "    </tr>\n",
       "  </thead>\n",
       "  <tbody>\n",
       "    <tr>\n",
       "      <th>0</th>\n",
       "      <td>2019-03-07T13:55:00Z</td>\n",
       "      <td>26.907700</td>\n",
       "    </tr>\n",
       "    <tr>\n",
       "      <th>1</th>\n",
       "      <td>2019-03-07T14:00:00Z</td>\n",
       "      <td>27.109800</td>\n",
       "    </tr>\n",
       "    <tr>\n",
       "      <th>2</th>\n",
       "      <td>2019-03-07T14:05:00Z</td>\n",
       "      <td>27.828501</td>\n",
       "    </tr>\n",
       "    <tr>\n",
       "      <th>3</th>\n",
       "      <td>2019-03-07T14:10:00Z</td>\n",
       "      <td>28.556601</td>\n",
       "    </tr>\n",
       "    <tr>\n",
       "      <th>4</th>\n",
       "      <td>2019-03-07T14:15:00Z</td>\n",
       "      <td>29.643101</td>\n",
       "    </tr>\n",
       "    <tr>\n",
       "      <th>...</th>\n",
       "      <td>...</td>\n",
       "      <td>...</td>\n",
       "    </tr>\n",
       "    <tr>\n",
       "      <th>51304</th>\n",
       "      <td>2019-09-08T03:45:00Z</td>\n",
       "      <td>70.396797</td>\n",
       "    </tr>\n",
       "    <tr>\n",
       "      <th>51305</th>\n",
       "      <td>2019-09-08T03:50:00Z</td>\n",
       "      <td>70.324203</td>\n",
       "    </tr>\n",
       "    <tr>\n",
       "      <th>51306</th>\n",
       "      <td>2019-09-08T03:55:00Z</td>\n",
       "      <td>70.125397</td>\n",
       "    </tr>\n",
       "    <tr>\n",
       "      <th>51307</th>\n",
       "      <td>2019-09-08T04:00:00Z</td>\n",
       "      <td>69.956200</td>\n",
       "    </tr>\n",
       "    <tr>\n",
       "      <th>51308</th>\n",
       "      <td>2019-09-08T04:05:00Z</td>\n",
       "      <td>69.768097</td>\n",
       "    </tr>\n",
       "  </tbody>\n",
       "</table>\n",
       "<p>51309 rows × 2 columns</p>\n",
       "</div>"
      ],
      "text/plain": [
       "                  timestamp     267507\n",
       "0      2019-03-07T13:55:00Z  26.907700\n",
       "1      2019-03-07T14:00:00Z  27.109800\n",
       "2      2019-03-07T14:05:00Z  27.828501\n",
       "3      2019-03-07T14:10:00Z  28.556601\n",
       "4      2019-03-07T14:15:00Z  29.643101\n",
       "...                     ...        ...\n",
       "51304  2019-09-08T03:45:00Z  70.396797\n",
       "51305  2019-09-08T03:50:00Z  70.324203\n",
       "51306  2019-09-08T03:55:00Z  70.125397\n",
       "51307  2019-09-08T04:00:00Z  69.956200\n",
       "51308  2019-09-08T04:05:00Z  69.768097\n",
       "\n",
       "[51309 rows x 2 columns]"
      ]
     },
     "execution_count": 31,
     "metadata": {},
     "output_type": "execute_result"
    }
   ],
   "source": [
    "data_oat"
   ]
  },
  {
   "cell_type": "code",
   "execution_count": 32,
   "id": "b0294efc",
   "metadata": {},
   "outputs": [],
   "source": [
    "shared_ahu_equip = pd.merge(data_mat,data_rat, on = \"timestamp\")\n",
    "\n",
    "shared_ahu_equip = pd.merge(shared_ahu_equip,data_oat, on = \"timestamp\")"
   ]
  },
  {
   "cell_type": "markdown",
   "id": "14038066",
   "metadata": {
    "papermill": {
     "duration": 0.08998,
     "end_time": "2022-05-13T16:22:50.575165",
     "exception": false,
     "start_time": "2022-05-13T16:22:50.485185",
     "status": "completed"
    },
    "tags": []
   },
   "source": [
    "Took some time to retreive that data, is a big dataset. Let's export the csv:"
   ]
  },
  {
   "cell_type": "code",
   "execution_count": 33,
   "id": "6ea3f540",
   "metadata": {
    "execution": {
     "iopub.execute_input": "2022-05-13T16:22:50.764838Z",
     "iopub.status.busy": "2022-05-13T16:22:50.763792Z",
     "iopub.status.idle": "2022-05-13T16:22:52.310847Z",
     "shell.execute_reply": "2022-05-13T16:22:52.311365Z"
    },
    "papermill": {
     "duration": 1.644652,
     "end_time": "2022-05-13T16:22:52.311606",
     "exception": false,
     "start_time": "2022-05-13T16:22:50.666954",
     "status": "completed"
    },
    "tags": []
   },
   "outputs": [],
   "source": [
    "shared_ahu_equip.to_csv(\"./rtem_ahu_time_series.csv\", index=False)"
   ]
  },
  {
   "cell_type": "markdown",
   "id": "51923cf6",
   "metadata": {
    "papermill": {
     "duration": 0.089739,
     "end_time": "2022-05-13T16:22:52.492245",
     "exception": false,
     "start_time": "2022-05-13T16:22:52.402506",
     "status": "completed"
    },
    "tags": []
   },
   "source": [
    "# Resampling"
   ]
  },
  {
   "cell_type": "markdown",
   "id": "1d70f0ef",
   "metadata": {
    "papermill": {
     "duration": 0.089832,
     "end_time": "2022-05-13T16:22:52.672179",
     "exception": false,
     "start_time": "2022-05-13T16:22:52.582347",
     "status": "completed"
    },
    "tags": []
   },
   "source": [
    "Let's load the dataset we just exported just to learn one more trick:"
   ]
  },
  {
   "cell_type": "code",
   "execution_count": 34,
   "id": "b27e3ed7",
   "metadata": {
    "execution": {
     "iopub.execute_input": "2022-05-13T16:22:52.858894Z",
     "iopub.status.busy": "2022-05-13T16:22:52.858158Z",
     "iopub.status.idle": "2022-05-13T16:22:53.108303Z",
     "shell.execute_reply": "2022-05-13T16:22:53.107734Z",
     "shell.execute_reply.started": "2022-05-04T01:38:08.710206Z"
    },
    "papermill": {
     "duration": 0.34455,
     "end_time": "2022-05-13T16:22:53.108482",
     "exception": false,
     "start_time": "2022-05-13T16:22:52.763932",
     "status": "completed"
    },
    "tags": []
   },
   "outputs": [
    {
     "data": {
      "text/html": [
       "<div>\n",
       "<style scoped>\n",
       "    .dataframe tbody tr th:only-of-type {\n",
       "        vertical-align: middle;\n",
       "    }\n",
       "\n",
       "    .dataframe tbody tr th {\n",
       "        vertical-align: top;\n",
       "    }\n",
       "\n",
       "    .dataframe thead th {\n",
       "        text-align: right;\n",
       "    }\n",
       "</style>\n",
       "<table border=\"1\" class=\"dataframe\">\n",
       "  <thead>\n",
       "    <tr style=\"text-align: right;\">\n",
       "      <th></th>\n",
       "      <th>timestamp</th>\n",
       "      <th>mat</th>\n",
       "      <th>rat</th>\n",
       "      <th>oat</th>\n",
       "    </tr>\n",
       "  </thead>\n",
       "  <tbody>\n",
       "    <tr>\n",
       "      <th>0</th>\n",
       "      <td>2019-03-07T13:55:00Z</td>\n",
       "      <td>52.890301</td>\n",
       "      <td>73.204102</td>\n",
       "      <td>26.907700</td>\n",
       "    </tr>\n",
       "    <tr>\n",
       "      <th>1</th>\n",
       "      <td>2019-03-07T14:00:00Z</td>\n",
       "      <td>52.962101</td>\n",
       "      <td>73.032204</td>\n",
       "      <td>27.109800</td>\n",
       "    </tr>\n",
       "    <tr>\n",
       "      <th>2</th>\n",
       "      <td>2019-03-07T14:05:00Z</td>\n",
       "      <td>53.156502</td>\n",
       "      <td>72.835999</td>\n",
       "      <td>27.828501</td>\n",
       "    </tr>\n",
       "    <tr>\n",
       "      <th>3</th>\n",
       "      <td>2019-03-07T14:10:00Z</td>\n",
       "      <td>53.450100</td>\n",
       "      <td>72.734001</td>\n",
       "      <td>28.556601</td>\n",
       "    </tr>\n",
       "    <tr>\n",
       "      <th>4</th>\n",
       "      <td>2019-03-07T14:15:00Z</td>\n",
       "      <td>53.175701</td>\n",
       "      <td>72.723198</td>\n",
       "      <td>29.643101</td>\n",
       "    </tr>\n",
       "  </tbody>\n",
       "</table>\n",
       "</div>"
      ],
      "text/plain": [
       "              timestamp        mat        rat        oat\n",
       "0  2019-03-07T13:55:00Z  52.890301  73.204102  26.907700\n",
       "1  2019-03-07T14:00:00Z  52.962101  73.032204  27.109800\n",
       "2  2019-03-07T14:05:00Z  53.156502  72.835999  27.828501\n",
       "3  2019-03-07T14:10:00Z  53.450100  72.734001  28.556601\n",
       "4  2019-03-07T14:15:00Z  53.175701  72.723198  29.643101"
      ]
     },
     "execution_count": 34,
     "metadata": {},
     "output_type": "execute_result"
    }
   ],
   "source": [
    "data = pd.read_csv(\"./rtem_ahu_time_series.csv\")\n",
    "data.rename(columns={'267505':'mat', '267510': 'rat', '267507':'oat'}, inplace=True)\n",
    "data.head()"
   ]
  },
  {
   "cell_type": "code",
   "execution_count": 35,
   "id": "44d790b3",
   "metadata": {
    "execution": {
     "iopub.execute_input": "2022-05-13T16:22:53.309664Z",
     "iopub.status.busy": "2022-05-13T16:22:53.308936Z",
     "iopub.status.idle": "2022-05-13T16:22:53.313993Z",
     "shell.execute_reply": "2022-05-13T16:22:53.314787Z",
     "shell.execute_reply.started": "2022-05-04T01:38:23.506105Z"
    },
    "papermill": {
     "duration": 0.11281,
     "end_time": "2022-05-13T16:22:53.315116",
     "exception": false,
     "start_time": "2022-05-13T16:22:53.202306",
     "status": "completed"
    },
    "tags": []
   },
   "outputs": [
    {
     "name": "stdout",
     "output_type": "stream",
     "text": [
      "<class 'pandas.core.frame.DataFrame'>\n",
      "RangeIndex: 47188 entries, 0 to 47187\n",
      "Data columns (total 4 columns):\n",
      " #   Column     Non-Null Count  Dtype  \n",
      "---  ------     --------------  -----  \n",
      " 0   timestamp  47188 non-null  object \n",
      " 1   mat        47188 non-null  float64\n",
      " 2   rat        47188 non-null  float64\n",
      " 3   oat        47188 non-null  float64\n",
      "dtypes: float64(3), object(1)\n",
      "memory usage: 1.4+ MB\n"
     ]
    }
   ],
   "source": [
    "data.info()"
   ]
  },
  {
   "cell_type": "markdown",
   "id": "6fcbea7e",
   "metadata": {
    "papermill": {
     "duration": 0.093344,
     "end_time": "2022-05-13T16:22:53.501137",
     "exception": false,
     "start_time": "2022-05-13T16:22:53.407793",
     "status": "completed"
    },
    "tags": []
   },
   "source": [
    "The timestamp there is not a datetime object yet. We could have parsed it as date [using the parameter `parse_dates` while reading](https://pandas.pydata.org/docs/reference/api/pandas.read_csv.html) the csv or we can do the following:"
   ]
  },
  {
   "cell_type": "code",
   "execution_count": 36,
   "id": "2234c557",
   "metadata": {
    "execution": {
     "iopub.execute_input": "2022-05-13T16:22:53.692577Z",
     "iopub.status.busy": "2022-05-13T16:22:53.691600Z",
     "iopub.status.idle": "2022-05-13T16:22:53.706505Z",
     "shell.execute_reply": "2022-05-13T16:22:53.706989Z",
     "shell.execute_reply.started": "2022-05-04T01:38:51.996573Z"
    },
    "papermill": {
     "duration": 0.115101,
     "end_time": "2022-05-13T16:22:53.707177",
     "exception": false,
     "start_time": "2022-05-13T16:22:53.592076",
     "status": "completed"
    },
    "tags": []
   },
   "outputs": [],
   "source": [
    "data[\"timestamp\"] = pd.to_datetime(data['timestamp'], format='%Y-%m-%dT%H:%M:%S.%f')"
   ]
  },
  {
   "cell_type": "code",
   "execution_count": 37,
   "id": "37cb2c60",
   "metadata": {
    "execution": {
     "iopub.execute_input": "2022-05-13T16:22:53.894687Z",
     "iopub.status.busy": "2022-05-13T16:22:53.892149Z",
     "iopub.status.idle": "2022-05-13T16:22:53.897132Z",
     "shell.execute_reply": "2022-05-13T16:22:53.897647Z",
     "shell.execute_reply.started": "2022-05-04T01:39:01.235452Z"
    },
    "papermill": {
     "duration": 0.099556,
     "end_time": "2022-05-13T16:22:53.897816",
     "exception": false,
     "start_time": "2022-05-13T16:22:53.798260",
     "status": "completed"
    },
    "tags": []
   },
   "outputs": [
    {
     "data": {
      "text/plain": [
       "pandas._libs.tslibs.timestamps.Timestamp"
      ]
     },
     "execution_count": 37,
     "metadata": {},
     "output_type": "execute_result"
    }
   ],
   "source": [
    "type(data.timestamp[0])"
   ]
  },
  {
   "cell_type": "code",
   "execution_count": 38,
   "id": "0b070750",
   "metadata": {},
   "outputs": [],
   "source": [
    "data.set_index('timestamp', inplace = True)"
   ]
  },
  {
   "cell_type": "markdown",
   "id": "b641c4c9",
   "metadata": {
    "papermill": {
     "duration": 0.093945,
     "end_time": "2022-05-13T16:22:54.083031",
     "exception": false,
     "start_time": "2022-05-13T16:22:53.989086",
     "status": "completed"
    },
    "tags": []
   },
   "source": [
    "See? now is a datetime object located in UTC timezone.\n",
    "\n",
    "One important thing when working with time-series data is knowing how to resample it. Let's inspect our data:"
   ]
  },
  {
   "cell_type": "code",
   "execution_count": 39,
   "id": "72794d72",
   "metadata": {
    "execution": {
     "iopub.execute_input": "2022-05-13T16:22:54.273413Z",
     "iopub.status.busy": "2022-05-13T16:22:54.272778Z",
     "iopub.status.idle": "2022-05-13T16:22:54.300674Z",
     "shell.execute_reply": "2022-05-13T16:22:54.301168Z",
     "shell.execute_reply.started": "2022-05-04T01:39:11.78404Z"
    },
    "papermill": {
     "duration": 0.123662,
     "end_time": "2022-05-13T16:22:54.301337",
     "exception": false,
     "start_time": "2022-05-13T16:22:54.177675",
     "status": "completed"
    },
    "tags": []
   },
   "outputs": [
    {
     "data": {
      "text/html": [
       "<div>\n",
       "<style scoped>\n",
       "    .dataframe tbody tr th:only-of-type {\n",
       "        vertical-align: middle;\n",
       "    }\n",
       "\n",
       "    .dataframe tbody tr th {\n",
       "        vertical-align: top;\n",
       "    }\n",
       "\n",
       "    .dataframe thead th {\n",
       "        text-align: right;\n",
       "    }\n",
       "</style>\n",
       "<table border=\"1\" class=\"dataframe\">\n",
       "  <thead>\n",
       "    <tr style=\"text-align: right;\">\n",
       "      <th></th>\n",
       "      <th>mat</th>\n",
       "      <th>rat</th>\n",
       "      <th>oat</th>\n",
       "    </tr>\n",
       "    <tr>\n",
       "      <th>timestamp</th>\n",
       "      <th></th>\n",
       "      <th></th>\n",
       "      <th></th>\n",
       "    </tr>\n",
       "  </thead>\n",
       "  <tbody>\n",
       "    <tr>\n",
       "      <th>2019-03-07 13:55:00+00:00</th>\n",
       "      <td>52.890301</td>\n",
       "      <td>73.204102</td>\n",
       "      <td>26.907700</td>\n",
       "    </tr>\n",
       "    <tr>\n",
       "      <th>2019-03-07 14:00:00+00:00</th>\n",
       "      <td>52.962101</td>\n",
       "      <td>73.032204</td>\n",
       "      <td>27.109800</td>\n",
       "    </tr>\n",
       "    <tr>\n",
       "      <th>2019-03-07 14:05:00+00:00</th>\n",
       "      <td>53.156502</td>\n",
       "      <td>72.835999</td>\n",
       "      <td>27.828501</td>\n",
       "    </tr>\n",
       "    <tr>\n",
       "      <th>2019-03-07 14:10:00+00:00</th>\n",
       "      <td>53.450100</td>\n",
       "      <td>72.734001</td>\n",
       "      <td>28.556601</td>\n",
       "    </tr>\n",
       "    <tr>\n",
       "      <th>2019-03-07 14:15:00+00:00</th>\n",
       "      <td>53.175701</td>\n",
       "      <td>72.723198</td>\n",
       "      <td>29.643101</td>\n",
       "    </tr>\n",
       "    <tr>\n",
       "      <th>2019-03-07 14:20:00+00:00</th>\n",
       "      <td>54.170502</td>\n",
       "      <td>72.809196</td>\n",
       "      <td>29.360901</td>\n",
       "    </tr>\n",
       "    <tr>\n",
       "      <th>2019-03-07 14:25:00+00:00</th>\n",
       "      <td>54.119801</td>\n",
       "      <td>72.962303</td>\n",
       "      <td>29.245800</td>\n",
       "    </tr>\n",
       "    <tr>\n",
       "      <th>2019-03-07 14:30:00+00:00</th>\n",
       "      <td>54.024700</td>\n",
       "      <td>73.072502</td>\n",
       "      <td>29.413601</td>\n",
       "    </tr>\n",
       "    <tr>\n",
       "      <th>2019-03-07 14:35:00+00:00</th>\n",
       "      <td>52.860298</td>\n",
       "      <td>73.171898</td>\n",
       "      <td>30.577499</td>\n",
       "    </tr>\n",
       "    <tr>\n",
       "      <th>2019-03-07 14:40:00+00:00</th>\n",
       "      <td>52.758499</td>\n",
       "      <td>73.212097</td>\n",
       "      <td>28.858700</td>\n",
       "    </tr>\n",
       "  </tbody>\n",
       "</table>\n",
       "</div>"
      ],
      "text/plain": [
       "                                 mat        rat        oat\n",
       "timestamp                                                 \n",
       "2019-03-07 13:55:00+00:00  52.890301  73.204102  26.907700\n",
       "2019-03-07 14:00:00+00:00  52.962101  73.032204  27.109800\n",
       "2019-03-07 14:05:00+00:00  53.156502  72.835999  27.828501\n",
       "2019-03-07 14:10:00+00:00  53.450100  72.734001  28.556601\n",
       "2019-03-07 14:15:00+00:00  53.175701  72.723198  29.643101\n",
       "2019-03-07 14:20:00+00:00  54.170502  72.809196  29.360901\n",
       "2019-03-07 14:25:00+00:00  54.119801  72.962303  29.245800\n",
       "2019-03-07 14:30:00+00:00  54.024700  73.072502  29.413601\n",
       "2019-03-07 14:35:00+00:00  52.860298  73.171898  30.577499\n",
       "2019-03-07 14:40:00+00:00  52.758499  73.212097  28.858700"
      ]
     },
     "execution_count": 39,
     "metadata": {},
     "output_type": "execute_result"
    }
   ],
   "source": [
    "data.head(10)"
   ]
  },
  {
   "cell_type": "code",
   "execution_count": 40,
   "id": "1782f7fe",
   "metadata": {},
   "outputs": [
    {
     "data": {
      "text/html": [
       "<div>\n",
       "<style scoped>\n",
       "    .dataframe tbody tr th:only-of-type {\n",
       "        vertical-align: middle;\n",
       "    }\n",
       "\n",
       "    .dataframe tbody tr th {\n",
       "        vertical-align: top;\n",
       "    }\n",
       "\n",
       "    .dataframe thead th {\n",
       "        text-align: right;\n",
       "    }\n",
       "</style>\n",
       "<table border=\"1\" class=\"dataframe\">\n",
       "  <thead>\n",
       "    <tr style=\"text-align: right;\">\n",
       "      <th></th>\n",
       "      <th>mat</th>\n",
       "      <th>rat</th>\n",
       "      <th>oat</th>\n",
       "    </tr>\n",
       "    <tr>\n",
       "      <th>timestamp</th>\n",
       "      <th></th>\n",
       "      <th></th>\n",
       "      <th></th>\n",
       "    </tr>\n",
       "  </thead>\n",
       "  <tbody>\n",
       "    <tr>\n",
       "      <th>2019-03-07 13:55:00+00:00</th>\n",
       "      <td>52.890301</td>\n",
       "      <td>73.204102</td>\n",
       "      <td>26.907700</td>\n",
       "    </tr>\n",
       "    <tr>\n",
       "      <th>2019-03-07 14:00:00+00:00</th>\n",
       "      <td>52.962101</td>\n",
       "      <td>73.032204</td>\n",
       "      <td>27.109800</td>\n",
       "    </tr>\n",
       "    <tr>\n",
       "      <th>2019-03-07 14:05:00+00:00</th>\n",
       "      <td>53.156502</td>\n",
       "      <td>72.835999</td>\n",
       "      <td>27.828501</td>\n",
       "    </tr>\n",
       "    <tr>\n",
       "      <th>2019-03-07 14:10:00+00:00</th>\n",
       "      <td>53.450100</td>\n",
       "      <td>72.734001</td>\n",
       "      <td>28.556601</td>\n",
       "    </tr>\n",
       "    <tr>\n",
       "      <th>2019-03-07 14:15:00+00:00</th>\n",
       "      <td>53.175701</td>\n",
       "      <td>72.723198</td>\n",
       "      <td>29.643101</td>\n",
       "    </tr>\n",
       "  </tbody>\n",
       "</table>\n",
       "</div>"
      ],
      "text/plain": [
       "                                 mat        rat        oat\n",
       "timestamp                                                 \n",
       "2019-03-07 13:55:00+00:00  52.890301  73.204102  26.907700\n",
       "2019-03-07 14:00:00+00:00  52.962101  73.032204  27.109800\n",
       "2019-03-07 14:05:00+00:00  53.156502  72.835999  27.828501\n",
       "2019-03-07 14:10:00+00:00  53.450100  72.734001  28.556601\n",
       "2019-03-07 14:15:00+00:00  53.175701  72.723198  29.643101"
      ]
     },
     "execution_count": 40,
     "metadata": {},
     "output_type": "execute_result"
    }
   ],
   "source": [
    "# rtu_temps_avg = data.rolling(window = 2).mean()\n",
    "rtem_temps_avg = data\n",
    "\n",
    "rtem_temps_avg.head()"
   ]
  },
  {
   "cell_type": "code",
   "execution_count": 41,
   "id": "45121102",
   "metadata": {},
   "outputs": [
    {
     "data": {
      "text/html": [
       "<div>\n",
       "<style scoped>\n",
       "    .dataframe tbody tr th:only-of-type {\n",
       "        vertical-align: middle;\n",
       "    }\n",
       "\n",
       "    .dataframe tbody tr th {\n",
       "        vertical-align: top;\n",
       "    }\n",
       "\n",
       "    .dataframe thead th {\n",
       "        text-align: right;\n",
       "    }\n",
       "</style>\n",
       "<table border=\"1\" class=\"dataframe\">\n",
       "  <thead>\n",
       "    <tr style=\"text-align: right;\">\n",
       "      <th></th>\n",
       "      <th>mat</th>\n",
       "      <th>rat</th>\n",
       "      <th>oat</th>\n",
       "    </tr>\n",
       "  </thead>\n",
       "  <tbody>\n",
       "    <tr>\n",
       "      <th>count</th>\n",
       "      <td>47188.000000</td>\n",
       "      <td>47188.000000</td>\n",
       "      <td>47188.000000</td>\n",
       "    </tr>\n",
       "    <tr>\n",
       "      <th>mean</th>\n",
       "      <td>74.023975</td>\n",
       "      <td>74.588443</td>\n",
       "      <td>68.519580</td>\n",
       "    </tr>\n",
       "    <tr>\n",
       "      <th>std</th>\n",
       "      <td>11.122547</td>\n",
       "      <td>5.368440</td>\n",
       "      <td>13.602077</td>\n",
       "    </tr>\n",
       "    <tr>\n",
       "      <th>min</th>\n",
       "      <td>47.865398</td>\n",
       "      <td>58.553398</td>\n",
       "      <td>26.907700</td>\n",
       "    </tr>\n",
       "    <tr>\n",
       "      <th>25%</th>\n",
       "      <td>66.241749</td>\n",
       "      <td>70.551102</td>\n",
       "      <td>58.895424</td>\n",
       "    </tr>\n",
       "    <tr>\n",
       "      <th>50%</th>\n",
       "      <td>74.799797</td>\n",
       "      <td>74.169701</td>\n",
       "      <td>71.288696</td>\n",
       "    </tr>\n",
       "    <tr>\n",
       "      <th>75%</th>\n",
       "      <td>81.546551</td>\n",
       "      <td>78.081902</td>\n",
       "      <td>78.583502</td>\n",
       "    </tr>\n",
       "    <tr>\n",
       "      <th>max</th>\n",
       "      <td>110.667801</td>\n",
       "      <td>99.364098</td>\n",
       "      <td>100.233398</td>\n",
       "    </tr>\n",
       "  </tbody>\n",
       "</table>\n",
       "</div>"
      ],
      "text/plain": [
       "                mat           rat           oat\n",
       "count  47188.000000  47188.000000  47188.000000\n",
       "mean      74.023975     74.588443     68.519580\n",
       "std       11.122547      5.368440     13.602077\n",
       "min       47.865398     58.553398     26.907700\n",
       "25%       66.241749     70.551102     58.895424\n",
       "50%       74.799797     74.169701     71.288696\n",
       "75%       81.546551     78.081902     78.583502\n",
       "max      110.667801     99.364098    100.233398"
      ]
     },
     "execution_count": 41,
     "metadata": {},
     "output_type": "execute_result"
    }
   ],
   "source": [
    "rtem_temps_avg.describe()"
   ]
  },
  {
   "cell_type": "code",
   "execution_count": 42,
   "id": "b97820e9",
   "metadata": {},
   "outputs": [
    {
     "data": {
      "text/plain": [
       "array([<AxesSubplot:xlabel='timestamp'>, <AxesSubplot:xlabel='timestamp'>,\n",
       "       <AxesSubplot:xlabel='timestamp'>], dtype=object)"
      ]
     },
     "execution_count": 42,
     "metadata": {},
     "output_type": "execute_result"
    },
    {
     "data": {
      "image/png": "[encoded data removed]",
      "text/plain": [
       "<Figure size 1800x576 with 3 Axes>"
      ]
     },
     "metadata": {
      "needs_background": "light"
     },
     "output_type": "display_data"
    }
   ],
   "source": [
    "rtem_temps_avg.plot(figsize=(25,8), subplots=True, title='RTEM TEMPS FOR FAULT CONDITION 3 MEASURE')"
   ]
  },
  {
   "cell_type": "code",
   "execution_count": 43,
   "id": "84d9a278",
   "metadata": {},
   "outputs": [],
   "source": [
    "supply_fan_delta_degf = 2.\n",
    "oat_rat_delta_degf_min = 10.\n",
    "supply_degf_err_thres = 2.\n",
    "return_degf_err_thres = 2.\n",
    "mix_degf_err_thres = 5.\n",
    "outdoor_degf_err_thres = 5. # local OAT options Vs global OAT sensor\n",
    "air_flow_percent_thres = .3\n",
    "vfd_speed_percent_err_thres = .05\n",
    "vfd_speed_percent_max = .99\n",
    "duct_static_inches_err_thres = .1\n",
    "delta_os_max = 7.\n",
    "mode_delay = 30.\n",
    "alarm_dely = 30.\n",
    "test_mode_delay = 120."
   ]
  },
  {
   "cell_type": "code",
   "execution_count": 47,
   "id": "f0820cab",
   "metadata": {},
   "outputs": [],
   "source": [
    "# make an entire column out of these params in the Pandas Dataframe\n",
    "rtem_temps_avg['outdoor_degf_err_thres'] = outdoor_degf_err_thres\n",
    "rtem_temps_avg['mix_degf_err_thres'] = mix_degf_err_thres\n",
    "rtem_temps_avg['return_degf_err_thres'] = return_degf_err_thres"
   ]
  },
  {
   "cell_type": "code",
   "execution_count": 48,
   "id": "774d6bcb",
   "metadata": {},
   "outputs": [
    {
     "data": {
      "text/plain": [
       "Index(['mat', 'rat', 'oat', 'outdoor_degf_err_thres', 'mix_degf_err_thres',\n",
       "       'return_degf_err_thres'],\n",
       "      dtype='object')"
      ]
     },
     "execution_count": 48,
     "metadata": {},
     "output_type": "execute_result"
    }
   ],
   "source": [
    "rtem_temps_avg.columns"
   ]
  },
  {
   "cell_type": "code",
   "execution_count": 50,
   "id": "334af2d1",
   "metadata": {},
   "outputs": [],
   "source": [
    "# Create a debug dataframe for later\n",
    "rtem_temps_debug =  rtem_temps_avg.copy()"
   ]
  },
  {
   "cell_type": "code",
   "execution_count": 51,
   "id": "ff5c9cf3",
   "metadata": {},
   "outputs": [],
   "source": [
    "def fault_condition_three_(dataframe):\n",
    "    return (dataframe.mat - dataframe.mix_degf_err_thres > np.maximum((dataframe.rat + dataframe.return_degf_err_thres) , (dataframe.oat + dataframe.outdoor_degf_err_thres)))"
   ]
  },
  {
   "cell_type": "code",
   "execution_count": 52,
   "id": "2f57d42d",
   "metadata": {},
   "outputs": [],
   "source": [
    "import numpy as np\n",
    "\n",
    "rtem_temps_avg['fc3_flag'] = fault_condition_three_(rtem_temps_avg)"
   ]
  },
  {
   "cell_type": "code",
   "execution_count": 53,
   "id": "b6b671a4",
   "metadata": {},
   "outputs": [
    {
     "data": {
      "text/plain": [
       "False    44091\n",
       "True      3097\n",
       "Name: fc3_flag, dtype: int64"
      ]
     },
     "execution_count": 53,
     "metadata": {},
     "output_type": "execute_result"
    }
   ],
   "source": [
    "rtem_temps_avg['fc3_flag'].value_counts()"
   ]
  },
  {
   "cell_type": "code",
   "execution_count": 54,
   "id": "bc624031",
   "metadata": {},
   "outputs": [
    {
     "data": {
      "text/plain": [
       "Index(['mat', 'rat', 'oat', 'outdoor_degf_err_thres', 'mix_degf_err_thres',\n",
       "       'return_degf_err_thres', 'fc3_flag'],\n",
       "      dtype='object')"
      ]
     },
     "execution_count": 54,
     "metadata": {},
     "output_type": "execute_result"
    }
   ],
   "source": [
    "rtem_temps_avg.columns"
   ]
  },
  {
   "cell_type": "code",
   "execution_count": 55,
   "id": "b8e3d53c",
   "metadata": {},
   "outputs": [],
   "source": [
    "# change boolean column to int for plots\n",
    "\n",
    "rtem_temps_avg['fc3_flag'] = rtem_temps_avg['fc3_flag'].astype(int)\n",
    "\n",
    "# drop params column for better plot\n",
    "rtem_temps_avg = rtem_temps_avg.drop(['outdoor_degf_err_thres',\n",
    "                  'mix_degf_err_thres',\n",
    "                  'return_degf_err_thres'],axis=1)"
   ]
  },
  {
   "cell_type": "code",
   "execution_count": 56,
   "id": "71f240ea",
   "metadata": {},
   "outputs": [],
   "source": [
    "fdd_plot = rtem_temps_avg"
   ]
  },
  {
   "cell_type": "code",
   "execution_count": 57,
   "id": "d98ec1e6",
   "metadata": {},
   "outputs": [
    {
     "data": {
      "text/plain": [
       "Index(['mat', 'rat', 'oat', 'fc3_flag'], dtype='object')"
      ]
     },
     "execution_count": 57,
     "metadata": {},
     "output_type": "execute_result"
    }
   ],
   "source": [
    "fdd_plot.columns"
   ]
  },
  {
   "cell_type": "code",
   "execution_count": 58,
   "id": "bc2c0547",
   "metadata": {},
   "outputs": [
    {
     "data": {
      "image/png": "[encoded data removed]",
      "text/plain": [
       "<Figure size 1800x576 with 2 Axes>"
      ]
     },
     "metadata": {
      "needs_background": "light"
     },
     "output_type": "display_data"
    }
   ],
   "source": [
    "import matplotlib.pyplot as plt\n",
    "\n",
    "fig, ax = plt.subplots(figsize=(25,8))\n",
    "\n",
    "plot1a = fdd_plot.mat.plot(ax=ax)\n",
    "plot1b = fdd_plot.rat.plot(ax=ax)\n",
    "plot1c = fdd_plot.oat.plot(ax=ax)\n",
    "plot1d = fdd_plot.fc3_flag.plot(ax=ax, color='k', secondary_y=True)\n",
    "\n",
    "ax.set_ylabel('RTU Temperatures')\n",
    "ax.right_ax.set_ylim(0,1)\n",
    "plt.ylabel('FDD FLAG')\n",
    "\n",
    "ax.set_title(\"RTEM Temp Sensors and FDD 3 Flag\")\n",
    "fig.legend(['mat','rat','oat','fc2_flag'],bbox_to_anchor=(.95, .9))\n",
    "\n",
    "# defining display layout\n",
    "plt.tight_layout()\n",
    "\n",
    "# show plot\n",
    "plt.show()"
   ]
  },
  {
   "cell_type": "markdown",
   "id": "dcb1bd71",
   "metadata": {
    "papermill": {
     "duration": 0.094943,
     "end_time": "2022-05-13T16:22:55.581466",
     "exception": false,
     "start_time": "2022-05-13T16:22:55.486523",
     "status": "completed"
    },
    "tags": []
   },
   "source": [
    "# Plotting"
   ]
  },
  {
   "cell_type": "markdown",
   "id": "a827f070",
   "metadata": {
    "papermill": {
     "duration": 0.095185,
     "end_time": "2022-05-13T16:22:55.771249",
     "exception": false,
     "start_time": "2022-05-13T16:22:55.676064",
     "status": "completed"
    },
    "tags": []
   },
   "source": [
    "## Lineplots"
   ]
  },
  {
   "cell_type": "markdown",
   "id": "98e66076",
   "metadata": {
    "papermill": {
     "duration": 0.09358,
     "end_time": "2022-05-13T16:22:55.959764",
     "exception": false,
     "start_time": "2022-05-13T16:22:55.866184",
     "status": "completed"
    },
    "tags": []
   },
   "source": [
    "We are going to explore our sensors data with some simple lineplots. We are going to use [*Seaborn*](https://seaborn.pydata.org/) which works on [*Matplotlib*](https://matplotlib.org/stable/users/index.html). Let's import them:"
   ]
  },
  {
   "cell_type": "code",
   "execution_count": 59,
   "id": "94b5786a",
   "metadata": {
    "execution": {
     "iopub.execute_input": "2022-05-13T16:22:56.153675Z",
     "iopub.status.busy": "2022-05-13T16:22:56.152975Z",
     "iopub.status.idle": "2022-05-13T16:22:57.248874Z",
     "shell.execute_reply": "2022-05-13T16:22:57.248223Z",
     "shell.execute_reply.started": "2022-05-04T01:42:32.937647Z"
    },
    "papermill": {
     "duration": 1.193547,
     "end_time": "2022-05-13T16:22:57.249024",
     "exception": false,
     "start_time": "2022-05-13T16:22:56.055477",
     "status": "completed"
    },
    "tags": []
   },
   "outputs": [],
   "source": [
    "import matplotlib.pyplot as plt\n",
    "import seaborn as sns\n",
    "\n",
    "# This is for the visual stype, I like \"ggplot\"\n",
    "plt.style.use('ggplot')\n",
    "\n",
    "# This for the figure size\n",
    "plt.rcParams[\"figure.figsize\"] = (20,9)"
   ]
  },
  {
   "cell_type": "markdown",
   "id": "41dcfde3",
   "metadata": {
    "papermill": {
     "duration": 0.09379,
     "end_time": "2022-05-13T16:22:57.437838",
     "exception": false,
     "start_time": "2022-05-13T16:22:57.344048",
     "status": "completed"
    },
    "tags": []
   },
   "source": [
    "Let's plot the raw data of our sensors:"
   ]
  },
  {
   "cell_type": "code",
   "execution_count": 60,
   "id": "cb7094da",
   "metadata": {
    "execution": {
     "iopub.execute_input": "2022-05-13T16:22:57.631622Z",
     "iopub.status.busy": "2022-05-13T16:22:57.630939Z",
     "iopub.status.idle": "2022-05-13T16:22:57.634422Z",
     "shell.execute_reply": "2022-05-13T16:22:57.634896Z",
     "shell.execute_reply.started": "2022-05-04T01:42:36.073616Z"
    },
    "papermill": {
     "duration": 0.103375,
     "end_time": "2022-05-13T16:22:57.635075",
     "exception": false,
     "start_time": "2022-05-13T16:22:57.531700",
     "status": "completed"
    },
    "tags": []
   },
   "outputs": [
    {
     "data": {
      "text/plain": [
       "Index(['rat', 'oat', 'outdoor_degf_err_thres', 'mix_degf_err_thres',\n",
       "       'return_degf_err_thres', 'fc3_flag'],\n",
       "      dtype='object')"
      ]
     },
     "execution_count": 60,
     "metadata": {},
     "output_type": "execute_result"
    }
   ],
   "source": [
    "# These are the sensors, one per column (first one is the timestamp)\n",
    "cols = data.columns[1:]\n",
    "cols"
   ]
  },
  {
   "cell_type": "code",
   "execution_count": 61,
   "id": "3fef6e49",
   "metadata": {
    "execution": {
     "iopub.execute_input": "2022-05-13T16:22:57.833471Z",
     "iopub.status.busy": "2022-05-13T16:22:57.831674Z",
     "iopub.status.idle": "2022-05-13T16:23:51.611801Z",
     "shell.execute_reply": "2022-05-13T16:23:51.612321Z",
     "shell.execute_reply.started": "2022-05-04T01:42:52.660512Z"
    },
    "papermill": {
     "duration": 53.881976,
     "end_time": "2022-05-13T16:23:51.612519",
     "exception": false,
     "start_time": "2022-05-13T16:22:57.730543",
     "status": "completed"
    },
    "tags": []
   },
   "outputs": [
    {
     "data": {
      "image/png": "[encoded data removed]",
      "text/plain": [
       "<Figure size 1440x648 with 1 Axes>"
      ]
     },
     "metadata": {},
     "output_type": "display_data"
    },
    {
     "data": {
      "image/png": "[encoded data removed]",
      "text/plain": [
       "<Figure size 1440x648 with 1 Axes>"
      ]
     },
     "metadata": {},
     "output_type": "display_data"
    },
    {
     "data": {
      "image/png": "[encoded data removed]",
      "text/plain": [
       "<Figure size 1440x648 with 1 Axes>"
      ]
     },
     "metadata": {},
     "output_type": "display_data"
    },
    {
     "data": {
      "image/png": "[encoded data removed]",
      "text/plain": [
       "<Figure size 1440x648 with 1 Axes>"
      ]
     },
     "metadata": {},
     "output_type": "display_data"
    },
    {
     "data": {
      "image/png": "[encoded data removed]",
      "text/plain": [
       "<Figure size 1440x648 with 1 Axes>"
      ]
     },
     "metadata": {},
     "output_type": "display_data"
    },
    {
     "data": {
      "image/png": "[encoded data removed]",
      "text/plain": [
       "<Figure size 1440x648 with 1 Axes>"
      ]
     },
     "metadata": {},
     "output_type": "display_data"
    }
   ],
   "source": [
    "for col in cols:\n",
    "    plt.figure()\n",
    "    sns.lineplot(data=data, x=\"timestamp\", y=col)"
   ]
  },
  {
   "cell_type": "markdown",
   "id": "a63c5857",
   "metadata": {
    "papermill": {
     "duration": 0.102889,
     "end_time": "2022-05-13T16:23:51.816830",
     "exception": false,
     "start_time": "2022-05-13T16:23:51.713941",
     "status": "completed"
    },
    "tags": []
   },
   "source": [
    "We have a huge gap with no data and the rest it's noisy and difficult to see. Let's filter data from september 1st 2017:"
   ]
  },
  {
   "cell_type": "code",
   "execution_count": 62,
   "id": "38928c80",
   "metadata": {
    "execution": {
     "iopub.execute_input": "2022-05-13T16:23:52.026173Z",
     "iopub.status.busy": "2022-05-13T16:23:52.024830Z",
     "iopub.status.idle": "2022-05-13T16:23:52.035859Z",
     "shell.execute_reply": "2022-05-13T16:23:52.035257Z",
     "shell.execute_reply.started": "2022-05-04T01:45:24.249887Z"
    },
    "papermill": {
     "duration": 0.119209,
     "end_time": "2022-05-13T16:23:52.036007",
     "exception": false,
     "start_time": "2022-05-13T16:23:51.916798",
     "status": "completed"
    },
    "tags": []
   },
   "outputs": [
    {
     "ename": "AttributeError",
     "evalue": "'DataFrame' object has no attribute 'timestamp'",
     "output_type": "error",
     "traceback": [
      "\u001B[1;31m---------------------------------------------------------------------------\u001B[0m",
      "\u001B[1;31mAttributeError\u001B[0m                            Traceback (most recent call last)",
      "Input \u001B[1;32mIn [62]\u001B[0m, in \u001B[0;36m<cell line: 1>\u001B[1;34m()\u001B[0m\n\u001B[1;32m----> 1\u001B[0m data \u001B[38;5;241m=\u001B[39m data[\u001B[43mdata\u001B[49m\u001B[38;5;241;43m.\u001B[39;49m\u001B[43mtimestamp\u001B[49m \u001B[38;5;241m>\u001B[39m\u001B[38;5;241m=\u001B[39m \u001B[38;5;124m\"\u001B[39m\u001B[38;5;124m2017-09-01\u001B[39m\u001B[38;5;124m\"\u001B[39m]\n",
      "File \u001B[1;32m~\\anaconda3\\lib\\site-packages\\pandas\\core\\generic.py:5583\u001B[0m, in \u001B[0;36mNDFrame.__getattr__\u001B[1;34m(self, name)\u001B[0m\n\u001B[0;32m   5576\u001B[0m \u001B[38;5;28;01mif\u001B[39;00m (\n\u001B[0;32m   5577\u001B[0m     name \u001B[38;5;129;01mnot\u001B[39;00m \u001B[38;5;129;01min\u001B[39;00m \u001B[38;5;28mself\u001B[39m\u001B[38;5;241m.\u001B[39m_internal_names_set\n\u001B[0;32m   5578\u001B[0m     \u001B[38;5;129;01mand\u001B[39;00m name \u001B[38;5;129;01mnot\u001B[39;00m \u001B[38;5;129;01min\u001B[39;00m \u001B[38;5;28mself\u001B[39m\u001B[38;5;241m.\u001B[39m_metadata\n\u001B[0;32m   5579\u001B[0m     \u001B[38;5;129;01mand\u001B[39;00m name \u001B[38;5;129;01mnot\u001B[39;00m \u001B[38;5;129;01min\u001B[39;00m \u001B[38;5;28mself\u001B[39m\u001B[38;5;241m.\u001B[39m_accessors\n\u001B[0;32m   5580\u001B[0m     \u001B[38;5;129;01mand\u001B[39;00m \u001B[38;5;28mself\u001B[39m\u001B[38;5;241m.\u001B[39m_info_axis\u001B[38;5;241m.\u001B[39m_can_hold_identifiers_and_holds_name(name)\n\u001B[0;32m   5581\u001B[0m ):\n\u001B[0;32m   5582\u001B[0m     \u001B[38;5;28;01mreturn\u001B[39;00m \u001B[38;5;28mself\u001B[39m[name]\n\u001B[1;32m-> 5583\u001B[0m \u001B[38;5;28;01mreturn\u001B[39;00m \u001B[38;5;28;43mobject\u001B[39;49m\u001B[38;5;241;43m.\u001B[39;49m\u001B[38;5;21;43m__getattribute__\u001B[39;49m\u001B[43m(\u001B[49m\u001B[38;5;28;43mself\u001B[39;49m\u001B[43m,\u001B[49m\u001B[43m \u001B[49m\u001B[43mname\u001B[49m\u001B[43m)\u001B[49m\n",
      "\u001B[1;31mAttributeError\u001B[0m: 'DataFrame' object has no attribute 'timestamp'"
     ]
    }
   ],
   "source": [
    "data = data[data.timestamp >= \"2017-09-01\"]"
   ]
  },
  {
   "cell_type": "markdown",
   "id": "e86877c1",
   "metadata": {
    "papermill": {
     "duration": 0.098121,
     "end_time": "2022-05-13T16:23:52.237013",
     "exception": false,
     "start_time": "2022-05-13T16:23:52.138892",
     "status": "completed"
    },
    "tags": []
   },
   "source": [
    "One useful technique to deal with noisy data is to resample it by hour (or a longer time frequency) aggregating by the mean: this way we can visualize the hourly/daily behaviour more smoothed.\n",
    "\n",
    "But first, let's go deeper into our `timestamp` column. This is a datetime column, meaning that we have some functions to handle the dates better. With [this pandas method](https://pandas.pydata.org/docs/reference/api/pandas.Series.dt.html) we can access our date: we can get the date, the weekday, the hour, the seconds, the minutes; all the information in our date can be obtained.\n",
    "\n",
    "Let's try an example. This is our raw timestamp:"
   ]
  },
  {
   "cell_type": "code",
   "execution_count": null,
   "id": "5eeb2188",
   "metadata": {
    "execution": {
     "iopub.execute_input": "2022-05-13T16:23:52.437067Z",
     "iopub.status.busy": "2022-05-13T16:23:52.436161Z",
     "iopub.status.idle": "2022-05-13T16:23:52.443114Z",
     "shell.execute_reply": "2022-05-13T16:23:52.443676Z",
     "shell.execute_reply.started": "2022-05-04T01:45:26.983864Z"
    },
    "papermill": {
     "duration": 0.109081,
     "end_time": "2022-05-13T16:23:52.443855",
     "exception": false,
     "start_time": "2022-05-13T16:23:52.334774",
     "status": "completed"
    },
    "tags": []
   },
   "outputs": [],
   "source": [
    "data.timestamp"
   ]
  },
  {
   "cell_type": "markdown",
   "id": "717ca5df",
   "metadata": {
    "papermill": {
     "duration": 0.099134,
     "end_time": "2022-05-13T16:23:52.642493",
     "exception": false,
     "start_time": "2022-05-13T16:23:52.543359",
     "status": "completed"
    },
    "tags": []
   },
   "source": [
    "We can get the date:"
   ]
  },
  {
   "cell_type": "code",
   "execution_count": null,
   "id": "dc10a0c8",
   "metadata": {
    "execution": {
     "iopub.execute_input": "2022-05-13T16:23:52.848468Z",
     "iopub.status.busy": "2022-05-13T16:23:52.847689Z",
     "iopub.status.idle": "2022-05-13T16:23:52.863160Z",
     "shell.execute_reply": "2022-05-13T16:23:52.863681Z",
     "shell.execute_reply.started": "2022-05-04T01:45:37.420565Z"
    },
    "papermill": {
     "duration": 0.121296,
     "end_time": "2022-05-13T16:23:52.863872",
     "exception": false,
     "start_time": "2022-05-13T16:23:52.742576",
     "status": "completed"
    },
    "tags": []
   },
   "outputs": [],
   "source": [
    "data.timestamp.dt.date"
   ]
  },
  {
   "cell_type": "markdown",
   "id": "75a304b4",
   "metadata": {
    "papermill": {
     "duration": 0.100561,
     "end_time": "2022-05-13T16:23:53.064695",
     "exception": false,
     "start_time": "2022-05-13T16:23:52.964134",
     "status": "completed"
    },
    "tags": []
   },
   "source": [
    "Even the he day of the week (with Monday=0, Sunday=6)"
   ]
  },
  {
   "cell_type": "code",
   "execution_count": null,
   "id": "013f0af7",
   "metadata": {
    "execution": {
     "iopub.execute_input": "2022-05-13T16:23:53.269188Z",
     "iopub.status.busy": "2022-05-13T16:23:53.268172Z",
     "iopub.status.idle": "2022-05-13T16:23:53.277062Z",
     "shell.execute_reply": "2022-05-13T16:23:53.277580Z",
     "shell.execute_reply.started": "2022-05-04T01:45:59.585197Z"
    },
    "papermill": {
     "duration": 0.111731,
     "end_time": "2022-05-13T16:23:53.277774",
     "exception": false,
     "start_time": "2022-05-13T16:23:53.166043",
     "status": "completed"
    },
    "tags": []
   },
   "outputs": [],
   "source": [
    "data.timestamp.dt.weekday"
   ]
  },
  {
   "cell_type": "markdown",
   "id": "8731ff7a",
   "metadata": {
    "papermill": {
     "duration": 0.100451,
     "end_time": "2022-05-13T16:23:53.482270",
     "exception": false,
     "start_time": "2022-05-13T16:23:53.381819",
     "status": "completed"
    },
    "tags": []
   },
   "source": [
    "The hour"
   ]
  },
  {
   "cell_type": "code",
   "execution_count": null,
   "id": "8994dc3d",
   "metadata": {
    "execution": {
     "iopub.execute_input": "2022-05-13T16:23:53.688312Z",
     "iopub.status.busy": "2022-05-13T16:23:53.687301Z",
     "iopub.status.idle": "2022-05-13T16:23:53.696649Z",
     "shell.execute_reply": "2022-05-13T16:23:53.697196Z",
     "shell.execute_reply.started": "2022-05-04T01:46:22.066125Z"
    },
    "papermill": {
     "duration": 0.114989,
     "end_time": "2022-05-13T16:23:53.697368",
     "exception": false,
     "start_time": "2022-05-13T16:23:53.582379",
     "status": "completed"
    },
    "tags": []
   },
   "outputs": [],
   "source": [
    "data.timestamp.dt.hour"
   ]
  },
  {
   "cell_type": "markdown",
   "id": "31fb9e86",
   "metadata": {
    "papermill": {
     "duration": 0.100088,
     "end_time": "2022-05-13T16:23:53.899185",
     "exception": false,
     "start_time": "2022-05-13T16:23:53.799097",
     "status": "completed"
    },
    "tags": []
   },
   "source": [
    "Or the minutes"
   ]
  },
  {
   "cell_type": "code",
   "execution_count": null,
   "id": "6ff0478a",
   "metadata": {
    "execution": {
     "iopub.execute_input": "2022-05-13T16:23:54.113142Z",
     "iopub.status.busy": "2022-05-13T16:23:54.111993Z",
     "iopub.status.idle": "2022-05-13T16:23:54.119958Z",
     "shell.execute_reply": "2022-05-13T16:23:54.119265Z",
     "shell.execute_reply.started": "2022-05-04T01:46:36.803123Z"
    },
    "papermill": {
     "duration": 0.115875,
     "end_time": "2022-05-13T16:23:54.120164",
     "exception": false,
     "start_time": "2022-05-13T16:23:54.004289",
     "status": "completed"
    },
    "tags": []
   },
   "outputs": [],
   "source": [
    "data.timestamp.dt.minute"
   ]
  },
  {
   "cell_type": "markdown",
   "id": "62b70c46",
   "metadata": {
    "papermill": {
     "duration": 0.105539,
     "end_time": "2022-05-13T16:23:54.328201",
     "exception": false,
     "start_time": "2022-05-13T16:23:54.222662",
     "status": "completed"
    },
    "tags": []
   },
   "source": [
    "Pretty simple! You have all the datetime information handy.\n",
    "\n",
    "Now let's smooth the data to plot it!"
   ]
  },
  {
   "cell_type": "code",
   "execution_count": null,
   "id": "730c81bf",
   "metadata": {
    "execution": {
     "iopub.execute_input": "2022-05-13T16:23:54.545345Z",
     "iopub.status.busy": "2022-05-13T16:23:54.544295Z",
     "iopub.status.idle": "2022-05-13T16:23:54.584472Z",
     "shell.execute_reply": "2022-05-13T16:23:54.584954Z",
     "shell.execute_reply.started": "2022-05-04T01:46:45.366001Z"
    },
    "papermill": {
     "duration": 0.153491,
     "end_time": "2022-05-13T16:23:54.585138",
     "exception": false,
     "start_time": "2022-05-13T16:23:54.431647",
     "status": "completed"
    },
    "tags": []
   },
   "outputs": [],
   "source": [
    "data_hour = data.resample('1H', on=\"timestamp\").mean()\n",
    "data_hour.head()"
   ]
  },
  {
   "cell_type": "markdown",
   "id": "60c1deee",
   "metadata": {
    "papermill": {
     "duration": 0.107788,
     "end_time": "2022-05-13T16:23:54.797703",
     "exception": false,
     "start_time": "2022-05-13T16:23:54.689915",
     "status": "completed"
    },
    "tags": []
   },
   "source": [
    "And we have the mean temperature by hour! Plotting it is simple with this data set:"
   ]
  },
  {
   "cell_type": "code",
   "execution_count": null,
   "id": "c97cd474",
   "metadata": {
    "execution": {
     "iopub.execute_input": "2022-05-13T16:23:55.014142Z",
     "iopub.status.busy": "2022-05-13T16:23:55.013448Z",
     "iopub.status.idle": "2022-05-13T16:24:10.539974Z",
     "shell.execute_reply": "2022-05-13T16:24:10.540820Z",
     "shell.execute_reply.started": "2022-05-04T01:47:09.071507Z"
    },
    "papermill": {
     "duration": 15.639283,
     "end_time": "2022-05-13T16:24:10.541081",
     "exception": false,
     "start_time": "2022-05-13T16:23:54.901798",
     "status": "completed"
    },
    "tags": []
   },
   "outputs": [],
   "source": [
    "fig = sns.lineplot(data=data_hour)\n",
    "\n",
    "# This is just for hiding the legend for now, there are a lot of labels and is difficult to see the plot\n",
    "plt.legend([],[], frameon=False)"
   ]
  },
  {
   "cell_type": "markdown",
   "id": "a982e063",
   "metadata": {
    "papermill": {
     "duration": 0.118541,
     "end_time": "2022-05-13T16:24:10.785441",
     "exception": false,
     "start_time": "2022-05-13T16:24:10.666900",
     "status": "completed"
    },
    "tags": []
   },
   "source": [
    "Let's do it again but daily:"
   ]
  },
  {
   "cell_type": "code",
   "execution_count": null,
   "id": "23be9f05",
   "metadata": {
    "execution": {
     "iopub.execute_input": "2022-05-13T16:24:11.012957Z",
     "iopub.status.busy": "2022-05-13T16:24:11.012259Z",
     "iopub.status.idle": "2022-05-13T16:24:11.051923Z",
     "shell.execute_reply": "2022-05-13T16:24:11.052733Z",
     "shell.execute_reply.started": "2022-05-04T01:47:53.44803Z"
    },
    "papermill": {
     "duration": 0.155209,
     "end_time": "2022-05-13T16:24:11.052979",
     "exception": false,
     "start_time": "2022-05-13T16:24:10.897770",
     "status": "completed"
    },
    "tags": []
   },
   "outputs": [],
   "source": [
    "data_day = data.resample('24H', on=\"timestamp\").mean()\n",
    "data_day.head()"
   ]
  },
  {
   "cell_type": "code",
   "execution_count": null,
   "id": "6d8e2a36",
   "metadata": {
    "execution": {
     "iopub.execute_input": "2022-05-13T16:24:11.291854Z",
     "iopub.status.busy": "2022-05-13T16:24:11.290903Z",
     "iopub.status.idle": "2022-05-13T16:24:14.588688Z",
     "shell.execute_reply": "2022-05-13T16:24:14.589221Z",
     "shell.execute_reply.started": "2022-05-04T01:48:02.057968Z"
    },
    "papermill": {
     "duration": 3.418508,
     "end_time": "2022-05-13T16:24:14.589412",
     "exception": false,
     "start_time": "2022-05-13T16:24:11.170904",
     "status": "completed"
    },
    "tags": []
   },
   "outputs": [],
   "source": [
    "sns.lineplot(data=data_day)\n",
    "\n",
    "# This is just for hiding the legend for now, there are a lot of labels and is difficult to see the plot\n",
    "plt.legend([],[], frameon=False)"
   ]
  },
  {
   "cell_type": "markdown",
   "id": "4c843593",
   "metadata": {
    "papermill": {
     "duration": 0.119232,
     "end_time": "2022-05-13T16:24:14.830894",
     "exception": false,
     "start_time": "2022-05-13T16:24:14.711662",
     "status": "completed"
    },
    "tags": []
   },
   "source": [
    "## Heatmaps"
   ]
  },
  {
   "cell_type": "markdown",
   "id": "0be0af70",
   "metadata": {
    "papermill": {
     "duration": 0.120552,
     "end_time": "2022-05-13T16:24:15.076749",
     "exception": false,
     "start_time": "2022-05-13T16:24:14.956197",
     "status": "completed"
    },
    "tags": []
   },
   "source": [
    "Lineplots are easy but still pretty diffcult to visualize. Instead, we can use [heatmaps](https://seaborn.pydata.org/generated/seaborn.heatmap.html), it's also really easy. Remember you can transpose your data to change the axis, like this:"
   ]
  },
  {
   "cell_type": "code",
   "execution_count": 63,
   "id": "b81e9f04",
   "metadata": {
    "execution": {
     "iopub.execute_input": "2022-05-13T16:24:15.327069Z",
     "iopub.status.busy": "2022-05-13T16:24:15.326304Z",
     "iopub.status.idle": "2022-05-13T16:24:15.360740Z",
     "shell.execute_reply": "2022-05-13T16:24:15.361246Z",
     "shell.execute_reply.started": "2022-05-04T01:51:19.784602Z"
    },
    "papermill": {
     "duration": 0.163361,
     "end_time": "2022-05-13T16:24:15.361437",
     "exception": false,
     "start_time": "2022-05-13T16:24:15.198076",
     "status": "completed"
    },
    "tags": []
   },
   "outputs": [
    {
     "ename": "NameError",
     "evalue": "name 'data_hour' is not defined",
     "output_type": "error",
     "traceback": [
      "\u001B[1;31m---------------------------------------------------------------------------\u001B[0m",
      "\u001B[1;31mNameError\u001B[0m                                 Traceback (most recent call last)",
      "Input \u001B[1;32mIn [63]\u001B[0m, in \u001B[0;36m<cell line: 1>\u001B[1;34m()\u001B[0m\n\u001B[1;32m----> 1\u001B[0m \u001B[43mdata_hour\u001B[49m\u001B[38;5;241m.\u001B[39mT\n",
      "\u001B[1;31mNameError\u001B[0m: name 'data_hour' is not defined"
     ]
    }
   ],
   "source": [
    "data_hour.T"
   ]
  },
  {
   "cell_type": "markdown",
   "id": "da0a9496",
   "metadata": {
    "papermill": {
     "duration": 0.119451,
     "end_time": "2022-05-13T16:24:15.603660",
     "exception": false,
     "start_time": "2022-05-13T16:24:15.484209",
     "status": "completed"
    },
    "tags": []
   },
   "source": [
    "And super-easy to plot:"
   ]
  },
  {
   "cell_type": "code",
   "execution_count": null,
   "id": "75992ec1",
   "metadata": {
    "execution": {
     "iopub.execute_input": "2022-05-13T16:24:15.849547Z",
     "iopub.status.busy": "2022-05-13T16:24:15.848889Z",
     "iopub.status.idle": "2022-05-13T16:24:19.789280Z",
     "shell.execute_reply": "2022-05-13T16:24:19.789844Z",
     "shell.execute_reply.started": "2022-05-04T01:51:43.026816Z"
    },
    "papermill": {
     "duration": 4.06554,
     "end_time": "2022-05-13T16:24:19.790038",
     "exception": false,
     "start_time": "2022-05-13T16:24:15.724498",
     "status": "completed"
    },
    "tags": []
   },
   "outputs": [],
   "source": [
    "sns.heatmap(data_hour.T, cmap=\"hot_r\")"
   ]
  },
  {
   "cell_type": "code",
   "execution_count": null,
   "id": "fd2c9b54",
   "metadata": {
    "execution": {
     "iopub.execute_input": "2022-05-13T16:24:20.046438Z",
     "iopub.status.busy": "2022-05-13T16:24:20.045747Z",
     "iopub.status.idle": "2022-05-13T16:24:22.643904Z",
     "shell.execute_reply": "2022-05-13T16:24:22.644433Z",
     "shell.execute_reply.started": "2022-05-04T01:53:48.544385Z"
    },
    "papermill": {
     "duration": 2.726684,
     "end_time": "2022-05-13T16:24:22.644628",
     "exception": false,
     "start_time": "2022-05-13T16:24:19.917944",
     "status": "completed"
    },
    "tags": []
   },
   "outputs": [],
   "source": [
    "sns.heatmap(data_day.T, cmap=\"hot_r\")"
   ]
  },
  {
   "cell_type": "markdown",
   "id": "eb26025b",
   "metadata": {
    "papermill": {
     "duration": 0.132556,
     "end_time": "2022-05-13T16:24:22.906661",
     "exception": false,
     "start_time": "2022-05-13T16:24:22.774105",
     "status": "completed"
    },
    "tags": []
   },
   "source": [
    "With this kind of plot is pretty evident where we have gaps with no-readings."
   ]
  },
  {
   "cell_type": "markdown",
   "id": "448b962c",
   "metadata": {
    "papermill": {
     "duration": 0.128796,
     "end_time": "2022-05-13T16:24:23.166686",
     "exception": false,
     "start_time": "2022-05-13T16:24:23.037890",
     "status": "completed"
    },
    "tags": []
   },
   "source": [
    "# Summary stats"
   ]
  },
  {
   "cell_type": "markdown",
   "id": "995020bb",
   "metadata": {
    "papermill": {
     "duration": 0.12757,
     "end_time": "2022-05-13T16:24:23.422493",
     "exception": false,
     "start_time": "2022-05-13T16:24:23.294923",
     "status": "completed"
    },
    "tags": []
   },
   "source": [
    "Usually is useful to get some summary stats from our data. Fortunately, pandas has a simple method to obtain them:"
   ]
  },
  {
   "cell_type": "code",
   "execution_count": null,
   "id": "32620b6d",
   "metadata": {
    "execution": {
     "iopub.execute_input": "2022-05-13T16:24:23.686716Z",
     "iopub.status.busy": "2022-05-13T16:24:23.686013Z",
     "iopub.status.idle": "2022-05-13T16:24:24.056233Z",
     "shell.execute_reply": "2022-05-13T16:24:24.055696Z",
     "shell.execute_reply.started": "2022-05-04T01:54:39.538689Z"
    },
    "papermill": {
     "duration": 0.505705,
     "end_time": "2022-05-13T16:24:24.056385",
     "exception": false,
     "start_time": "2022-05-13T16:24:23.550680",
     "status": "completed"
    },
    "tags": []
   },
   "outputs": [],
   "source": [
    "data.describe()"
   ]
  },
  {
   "cell_type": "markdown",
   "id": "4ff03985",
   "metadata": {
    "papermill": {
     "duration": 0.130054,
     "end_time": "2022-05-13T16:24:24.318266",
     "exception": false,
     "start_time": "2022-05-13T16:24:24.188212",
     "status": "completed"
    },
    "tags": []
   },
   "source": [
    "These stats are usually visualizes in boxplot and histograms; these two plots can be easily obtained with the plotting libraries we are using. But first I suggest processing a little the dataframe to be able to plot all sensors in the same figure. We are using the pandas method [melt](https://pandas.pydata.org/docs/reference/api/pandas.melt.html). We have the data in this way right now:"
   ]
  },
  {
   "cell_type": "code",
   "execution_count": null,
   "id": "91a805cf",
   "metadata": {
    "execution": {
     "iopub.execute_input": "2022-05-13T16:24:24.582940Z",
     "iopub.status.busy": "2022-05-13T16:24:24.582227Z",
     "iopub.status.idle": "2022-05-13T16:24:24.606731Z",
     "shell.execute_reply": "2022-05-13T16:24:24.607274Z",
     "shell.execute_reply.started": "2022-05-04T01:55:19.525786Z"
    },
    "papermill": {
     "duration": 0.15958,
     "end_time": "2022-05-13T16:24:24.607471",
     "exception": false,
     "start_time": "2022-05-13T16:24:24.447891",
     "status": "completed"
    },
    "tags": []
   },
   "outputs": [],
   "source": [
    "data.head()"
   ]
  },
  {
   "cell_type": "markdown",
   "id": "3ccd3f0a",
   "metadata": {
    "papermill": {
     "duration": 0.130869,
     "end_time": "2022-05-13T16:24:24.871540",
     "exception": false,
     "start_time": "2022-05-13T16:24:24.740671",
     "status": "completed"
    },
    "tags": []
   },
   "source": [
    "If we use the `melt` method we can convert our columns in rows, creating a new one that indicates which column it was. Is easier seeing the results, check it out:"
   ]
  },
  {
   "cell_type": "code",
   "execution_count": null,
   "id": "863672ce",
   "metadata": {
    "execution": {
     "iopub.execute_input": "2022-05-13T16:24:25.139143Z",
     "iopub.status.busy": "2022-05-13T16:24:25.138481Z",
     "iopub.status.idle": "2022-05-13T16:24:35.571505Z",
     "shell.execute_reply": "2022-05-13T16:24:35.570820Z",
     "shell.execute_reply.started": "2022-05-04T01:55:50.435545Z"
    },
    "papermill": {
     "duration": 10.567508,
     "end_time": "2022-05-13T16:24:35.571660",
     "exception": false,
     "start_time": "2022-05-13T16:24:25.004152",
     "status": "completed"
    },
    "tags": []
   },
   "outputs": [],
   "source": [
    "melted_data = data.melt(id_vars=\"timestamp\", var_name=\"sensor\", value_name=\"temperature\")\n",
    "melted_data"
   ]
  },
  {
   "cell_type": "markdown",
   "id": "f688c9d7",
   "metadata": {
    "papermill": {
     "duration": 0.130796,
     "end_time": "2022-05-13T16:24:35.833365",
     "exception": false,
     "start_time": "2022-05-13T16:24:35.702569",
     "status": "completed"
    },
    "tags": []
   },
   "source": [
    "And now that we have the data in this shape, is easy to get a boxplot:"
   ]
  },
  {
   "cell_type": "code",
   "execution_count": null,
   "id": "0eeabdce",
   "metadata": {
    "execution": {
     "iopub.execute_input": "2022-05-13T16:24:36.340290Z",
     "iopub.status.busy": "2022-05-13T16:24:36.339291Z",
     "iopub.status.idle": "2022-05-13T16:24:41.855129Z",
     "shell.execute_reply": "2022-05-13T16:24:41.855774Z",
     "shell.execute_reply.started": "2022-05-04T01:56:22.503705Z"
    },
    "papermill": {
     "duration": 5.889257,
     "end_time": "2022-05-13T16:24:41.855958",
     "exception": false,
     "start_time": "2022-05-13T16:24:35.966701",
     "status": "completed"
    },
    "tags": []
   },
   "outputs": [],
   "source": [
    "fig = sns.boxplot(y=\"temperature\", x=\"sensor\", data=melted_data)\n",
    "labels = plt.xticks(rotation=90)"
   ]
  },
  {
   "cell_type": "markdown",
   "id": "be9be052",
   "metadata": {
    "papermill": {
     "duration": 0.135023,
     "end_time": "2022-05-13T16:24:42.128133",
     "exception": false,
     "start_time": "2022-05-13T16:24:41.993110",
     "status": "completed"
    },
    "tags": []
   },
   "source": [
    "We can also plot an histogram, but with this number of sensors a boxplot is cleaner:"
   ]
  },
  {
   "cell_type": "code",
   "execution_count": null,
   "id": "147eebbd",
   "metadata": {
    "execution": {
     "iopub.execute_input": "2022-05-13T16:24:42.400907Z",
     "iopub.status.busy": "2022-05-13T16:24:42.400213Z",
     "iopub.status.idle": "2022-05-13T16:25:00.947158Z",
     "shell.execute_reply": "2022-05-13T16:25:00.947704Z",
     "shell.execute_reply.started": "2022-05-04T01:56:49.510428Z"
    },
    "papermill": {
     "duration": 18.683849,
     "end_time": "2022-05-13T16:25:00.947881",
     "exception": false,
     "start_time": "2022-05-13T16:24:42.264032",
     "status": "completed"
    },
    "tags": []
   },
   "outputs": [],
   "source": [
    "fig = sns.histplot(data=melted_data, x=\"temperature\", hue=\"sensor\", bins=20, kde=True, palette=\"Dark2\")\n",
    "\n",
    "# This is just for hiding the legend for now, there are a lot of labels and is difficult to see the plot\n",
    "plt.legend([],[], frameon=False)"
   ]
  },
  {
   "cell_type": "markdown",
   "id": "d8ac5cab",
   "metadata": {
    "papermill": {
     "duration": 0.135031,
     "end_time": "2022-05-13T16:25:01.222304",
     "exception": false,
     "start_time": "2022-05-13T16:25:01.087273",
     "status": "completed"
    },
    "tags": []
   },
   "source": [
    "Finally, let's create a dataset with the stats. "
   ]
  },
  {
   "cell_type": "code",
   "execution_count": null,
   "id": "80353b57",
   "metadata": {
    "execution": {
     "iopub.execute_input": "2022-05-13T16:25:01.499604Z",
     "iopub.status.busy": "2022-05-13T16:25:01.498021Z",
     "iopub.status.idle": "2022-05-13T16:25:01.842311Z",
     "shell.execute_reply": "2022-05-13T16:25:01.842828Z",
     "shell.execute_reply.started": "2022-05-04T01:57:51.951746Z"
    },
    "papermill": {
     "duration": 0.483777,
     "end_time": "2022-05-13T16:25:01.843016",
     "exception": false,
     "start_time": "2022-05-13T16:25:01.359239",
     "status": "completed"
    },
    "tags": []
   },
   "outputs": [],
   "source": [
    "stats_data = data.describe()\n",
    "stats_data"
   ]
  },
  {
   "cell_type": "markdown",
   "id": "f35e99e0",
   "metadata": {
    "papermill": {
     "duration": 0.137247,
     "end_time": "2022-05-13T16:25:02.121023",
     "exception": false,
     "start_time": "2022-05-13T16:25:01.983776",
     "status": "completed"
    },
    "tags": []
   },
   "source": [
    "We are transposing it and reseting the index to keep a column with the point id (was the name of the column):"
   ]
  },
  {
   "cell_type": "code",
   "execution_count": null,
   "id": "cbb07533",
   "metadata": {
    "execution": {
     "iopub.execute_input": "2022-05-13T16:25:02.401029Z",
     "iopub.status.busy": "2022-05-13T16:25:02.400339Z",
     "iopub.status.idle": "2022-05-13T16:25:02.423015Z",
     "shell.execute_reply": "2022-05-13T16:25:02.423549Z",
     "shell.execute_reply.started": "2022-05-04T01:58:02.364351Z"
    },
    "papermill": {
     "duration": 0.164742,
     "end_time": "2022-05-13T16:25:02.423728",
     "exception": false,
     "start_time": "2022-05-13T16:25:02.258986",
     "status": "completed"
    },
    "tags": []
   },
   "outputs": [],
   "source": [
    "stats_data = stats_data.T.reset_index().rename(columns={\"index\":\"id_point\"})\n",
    "stats_data"
   ]
  },
  {
   "cell_type": "markdown",
   "id": "8ba4fb61",
   "metadata": {
    "papermill": {
     "duration": 0.140063,
     "end_time": "2022-05-13T16:25:02.701179",
     "exception": false,
     "start_time": "2022-05-13T16:25:02.561116",
     "status": "completed"
    },
    "tags": []
   },
   "source": [
    "And now let's convert the `id_point` column in our metadata set to string (is an int right now) so we are able to merge with `stats_data`:"
   ]
  },
  {
   "cell_type": "code",
   "execution_count": null,
   "id": "5cd5021a",
   "metadata": {
    "execution": {
     "iopub.execute_input": "2022-05-13T16:25:02.983945Z",
     "iopub.status.busy": "2022-05-13T16:25:02.983224Z",
     "iopub.status.idle": "2022-05-13T16:25:02.987806Z",
     "shell.execute_reply": "2022-05-13T16:25:02.988251Z",
     "shell.execute_reply.started": "2022-05-04T01:58:08.636223Z"
    },
    "papermill": {
     "duration": 0.148447,
     "end_time": "2022-05-13T16:25:02.988449",
     "exception": false,
     "start_time": "2022-05-13T16:25:02.840002",
     "status": "completed"
    },
    "tags": []
   },
   "outputs": [],
   "source": [
    "metadata['id_point'] = metadata['id_point'].astype(str)"
   ]
  },
  {
   "cell_type": "markdown",
   "id": "29b2e997",
   "metadata": {
    "papermill": {
     "duration": 0.136543,
     "end_time": "2022-05-13T16:25:03.261648",
     "exception": false,
     "start_time": "2022-05-13T16:25:03.125105",
     "status": "completed"
    },
    "tags": []
   },
   "source": [
    "And merge!"
   ]
  },
  {
   "cell_type": "code",
   "execution_count": null,
   "id": "912d86c0",
   "metadata": {
    "execution": {
     "iopub.execute_input": "2022-05-13T16:25:03.539069Z",
     "iopub.status.busy": "2022-05-13T16:25:03.538357Z",
     "iopub.status.idle": "2022-05-13T16:25:03.573207Z",
     "shell.execute_reply": "2022-05-13T16:25:03.573718Z",
     "shell.execute_reply.started": "2022-05-04T01:58:26.144368Z"
    },
    "papermill": {
     "duration": 0.17522,
     "end_time": "2022-05-13T16:25:03.573908",
     "exception": false,
     "start_time": "2022-05-13T16:25:03.398688",
     "status": "completed"
    },
    "tags": []
   },
   "outputs": [],
   "source": [
    "stats_merged = pd.merge(stats_data, metadata, how=\"left\", on=\"id_point\")\n",
    "stats_merged.head()"
   ]
  },
  {
   "cell_type": "code",
   "execution_count": null,
   "id": "444bc09c",
   "metadata": {
    "execution": {
     "iopub.execute_input": "2022-05-13T16:25:03.864835Z",
     "iopub.status.busy": "2022-05-13T16:25:03.855266Z",
     "iopub.status.idle": "2022-05-13T16:25:03.904103Z",
     "shell.execute_reply": "2022-05-13T16:25:03.904640Z",
     "shell.execute_reply.started": "2022-05-04T01:58:32.54441Z"
    },
    "papermill": {
     "duration": 0.192931,
     "end_time": "2022-05-13T16:25:03.904817",
     "exception": false,
     "start_time": "2022-05-13T16:25:03.711886",
     "status": "completed"
    },
    "tags": []
   },
   "outputs": [],
   "source": [
    "metadata.T"
   ]
  },
  {
   "cell_type": "markdown",
   "id": "a5b5e7e9",
   "metadata": {
    "papermill": {
     "duration": 0.139882,
     "end_time": "2022-05-13T16:25:04.190025",
     "exception": false,
     "start_time": "2022-05-13T16:25:04.050143",
     "status": "completed"
    },
    "tags": []
   },
   "source": [
    "Finally, plot! we want to visualize the mean temperature of the points, colored by the building name."
   ]
  },
  {
   "cell_type": "code",
   "execution_count": null,
   "id": "46b3c82a",
   "metadata": {
    "execution": {
     "iopub.execute_input": "2022-05-13T16:25:04.486049Z",
     "iopub.status.busy": "2022-05-13T16:25:04.485295Z",
     "iopub.status.idle": "2022-05-13T16:25:11.219728Z",
     "shell.execute_reply": "2022-05-13T16:25:11.220241Z",
     "shell.execute_reply.started": "2022-05-04T01:58:45.196447Z"
    },
    "papermill": {
     "duration": 6.890633,
     "end_time": "2022-05-13T16:25:11.220439",
     "exception": false,
     "start_time": "2022-05-13T16:25:04.329806",
     "status": "completed"
    },
    "tags": []
   },
   "outputs": [],
   "source": [
    "fig = sns.barplot(data=stats_merged, x=\"id_point\", y=\"mean\", hue=\"name_bdg\", dodge=False)\n",
    "labels = plt.xticks(rotation=90)"
   ]
  },
  {
   "cell_type": "code",
   "execution_count": null,
   "id": "db774b85",
   "metadata": {
    "papermill": {
     "duration": 0.143408,
     "end_time": "2022-05-13T16:25:11.511388",
     "exception": false,
     "start_time": "2022-05-13T16:25:11.367980",
     "status": "completed"
    },
    "tags": []
   },
   "outputs": [],
   "source": []
  }
 ],
 "metadata": {
  "kernelspec": {
   "display_name": "Python 3 (ipykernel)",
   "language": "python",
   "name": "python3"
  },
  "language_info": {
   "codemirror_mode": {
    "name": "ipython",
    "version": 3
   },
   "file_extension": ".py",
   "mimetype": "text/x-python",
   "name": "python",
   "nbconvert_exporter": "python",
   "pygments_lexer": "ipython3",
   "version": "3.8.5"
  },
  "papermill": {
   "default_parameters": {},
   "duration": 192.25275,
   "end_time": "2022-05-13T16:25:13.067333",
   "environment_variables": {},
   "exception": null,
   "input_path": "__notebook__.ipynb",
   "output_path": "__notebook__.ipynb",
   "parameters": {},
   "start_time": "2022-05-13T16:22:00.814583",
   "version": "2.3.3"
  }
 },
 "nbformat": 4,
 "nbformat_minor": 5
}