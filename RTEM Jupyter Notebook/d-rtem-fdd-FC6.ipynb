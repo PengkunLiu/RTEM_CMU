{
 "cells": [
  {
   "cell_type": "markdown",
   "id": "7cc150ec",
   "metadata": {
    "papermill": {
     "duration": 0.082603,
     "end_time": "2022-05-13T16:22:11.477159",
     "exception": false,
     "start_time": "2022-05-13T16:22:11.394556",
     "status": "completed"
    },
    "tags": []
   },
   "source": [
    "# Time Series Analysis Examples\n",
    "In this notebook we will be transforming and exploring time-series data from Onboard API. Make sure to run the following chunk of code first in order to install it.\n",
    "\n",
    "How to query time-series from data points, process and visually explore them. This notebook is outlined in several YouTube videos that discuss:\n",
    "- how [to load and filter time-series data](https://youtu.be/KDThdyes8kc) from sensors\n",
    "- [resample and transform time-series data](https://youtu.be/VlQNGwiSSKM)\n",
    "- and [create heat maps and boxplots of data](https://youtu.be/QMr0y9LOlr8) for exploration"
   ]
  },
  {
   "cell_type": "code",
   "execution_count": 11,
   "id": "2291dff4",
   "metadata": {
    "execution": {
     "iopub.execute_input": "2022-05-13T16:22:25.248391Z",
     "iopub.status.busy": "2022-05-13T16:22:25.247721Z",
     "iopub.status.idle": "2022-05-13T16:22:25.387229Z",
     "shell.execute_reply": "2022-05-13T16:22:25.388051Z",
     "shell.execute_reply.started": "2022-05-04T01:29:00.25444Z"
    },
    "papermill": {
     "duration": 0.23365,
     "end_time": "2022-05-13T16:22:25.388267",
     "exception": false,
     "start_time": "2022-05-13T16:22:25.154617",
     "status": "completed"
    },
    "tags": []
   },
   "outputs": [],
   "source": [
    "import pandas as pd\n",
    "from onboard.client import RtemClient"
   ]
  },
  {
   "cell_type": "markdown",
   "id": "42161d97",
   "metadata": {
    "papermill": {
     "duration": 0.087019,
     "end_time": "2022-05-13T16:22:25.562206",
     "exception": false,
     "start_time": "2022-05-13T16:22:25.475187",
     "status": "completed"
    },
    "tags": []
   },
   "source": [
    "# Create the client"
   ]
  },
  {
   "cell_type": "markdown",
   "id": "376164f2",
   "metadata": {
    "papermill": {
     "duration": 0.085554,
     "end_time": "2022-05-13T16:22:25.736877",
     "exception": false,
     "start_time": "2022-05-13T16:22:25.651323",
     "status": "completed"
    },
    "tags": []
   },
   "source": [
    "For this notebook, you need to use the API Key with acces to the general scope and building:read scope. Let's create the client:"
   ]
  },
  {
   "cell_type": "code",
   "execution_count": 12,
   "id": "54173a75",
   "metadata": {
    "execution": {
     "iopub.execute_input": "2022-05-13T16:22:25.913818Z",
     "iopub.status.busy": "2022-05-13T16:22:25.913100Z",
     "iopub.status.idle": "2022-05-13T16:22:25.915977Z",
     "shell.execute_reply": "2022-05-13T16:22:25.916657Z",
     "shell.execute_reply.started": "2022-05-04T01:29:05.439395Z"
    },
    "papermill": {
     "duration": 0.093458,
     "end_time": "2022-05-13T16:22:25.916844",
     "exception": false,
     "start_time": "2022-05-13T16:22:25.823386",
     "status": "completed"
    },
    "tags": []
   },
   "outputs": [],
   "source": [
    "api_key = 'ob-p-_KnPccpVFOwKvS5u_SpKixHjKKq6H1JvrzwjxISOfPiNKKZ56_EeE5ORVJOGGtx0d_k'"
   ]
  },
  {
   "cell_type": "code",
   "execution_count": 13,
   "id": "cda18a09",
   "metadata": {
    "execution": {
     "iopub.execute_input": "2022-05-13T16:22:26.844180Z",
     "iopub.status.busy": "2022-05-13T16:22:26.843356Z",
     "iopub.status.idle": "2022-05-13T16:22:26.848246Z",
     "shell.execute_reply": "2022-05-13T16:22:26.847722Z",
     "shell.execute_reply.started": "2022-05-04T01:29:08.893873Z"
    },
    "papermill": {
     "duration": 0.095438,
     "end_time": "2022-05-13T16:22:26.848389",
     "exception": false,
     "start_time": "2022-05-13T16:22:26.752951",
     "status": "completed"
    },
    "tags": []
   },
   "outputs": [],
   "source": [
    "client = RtemClient(api_key=api_key)"
   ]
  },
  {
   "cell_type": "markdown",
   "id": "d688b07f",
   "metadata": {
    "papermill": {
     "duration": 0.088361,
     "end_time": "2022-05-13T16:22:27.024529",
     "exception": false,
     "start_time": "2022-05-13T16:22:26.936168",
     "status": "completed"
    },
    "tags": []
   },
   "source": [
    "# Load & filter data"
   ]
  },
  {
   "cell_type": "markdown",
   "id": "38885ad9",
   "metadata": {
    "papermill": {
     "duration": 0.086231,
     "end_time": "2022-05-13T16:22:27.197739",
     "exception": false,
     "start_time": "2022-05-13T16:22:27.111508",
     "status": "completed"
    },
    "tags": []
   },
   "source": [
    "We will be using the metadata file we obtained from Onboard API in the previous notebook. Of course you can query these points again, but let's learn how to load and filter the data using *pandas*:"
   ]
  },
  {
   "cell_type": "code",
   "execution_count": 14,
   "id": "03367c60",
   "metadata": {
    "execution": {
     "iopub.execute_input": "2022-05-13T16:22:27.378162Z",
     "iopub.status.busy": "2022-05-13T16:22:27.377526Z",
     "iopub.status.idle": "2022-05-13T16:22:27.859725Z",
     "shell.execute_reply": "2022-05-13T16:22:27.860215Z",
     "shell.execute_reply.started": "2022-05-04T01:30:24.572709Z"
    },
    "papermill": {
     "duration": 0.575997,
     "end_time": "2022-05-13T16:22:27.860423",
     "exception": false,
     "start_time": "2022-05-13T16:22:27.284426",
     "status": "completed"
    },
    "tags": []
   },
   "outputs": [],
   "source": [
    "metadata = pd.read_csv(\"./rtem_all_points_metadata.csv\")"
   ]
  },
  {
   "cell_type": "markdown",
   "id": "25aeb5f6",
   "metadata": {
    "papermill": {
     "duration": 0.086013,
     "end_time": "2022-05-13T16:22:28.033894",
     "exception": false,
     "start_time": "2022-05-13T16:22:27.947881",
     "status": "completed"
    },
    "tags": []
   },
   "source": [
    "Let's check the data types:"
   ]
  },
  {
   "cell_type": "code",
   "execution_count": 15,
   "id": "9536639f",
   "metadata": {
    "execution": {
     "iopub.execute_input": "2022-05-13T16:22:28.219997Z",
     "iopub.status.busy": "2022-05-13T16:22:28.218982Z",
     "iopub.status.idle": "2022-05-13T16:22:28.290668Z",
     "shell.execute_reply": "2022-05-13T16:22:28.291377Z",
     "shell.execute_reply.started": "2022-05-04T01:30:27.006363Z"
    },
    "papermill": {
     "duration": 0.168678,
     "end_time": "2022-05-13T16:22:28.291630",
     "exception": false,
     "start_time": "2022-05-13T16:22:28.122952",
     "status": "completed"
    },
    "tags": []
   },
   "outputs": [
    {
     "name": "stdout",
     "output_type": "stream",
     "text": [
      "<class 'pandas.core.frame.DataFrame'>\n",
      "RangeIndex: 44390 entries, 0 to 44389\n",
      "Data columns (total 24 columns):\n",
      " #   Column            Non-Null Count  Dtype  \n",
      "---  ------            --------------  -----  \n",
      " 0   id_point          44390 non-null  int64  \n",
      " 1   building_id       44390 non-null  int64  \n",
      " 2   last_updated      44342 non-null  float64\n",
      " 3   first_updated     44342 non-null  float64\n",
      " 4   device            0 non-null      float64\n",
      " 5   objectId          0 non-null      float64\n",
      " 6   name_point        14658 non-null  object \n",
      " 7   description       31843 non-null  object \n",
      " 8   units             31687 non-null  object \n",
      " 9   tagged_units      14654 non-null  object \n",
      " 10  raw_unit_id       44390 non-null  int64  \n",
      " 11  value             44274 non-null  object \n",
      " 12  type              44390 non-null  object \n",
      " 13  point_type_id     44390 non-null  int64  \n",
      " 14  measurement_id    44390 non-null  int64  \n",
      " 15  datasource_hash   44390 non-null  object \n",
      " 16  topic             44390 non-null  object \n",
      " 17  equip_id          44390 non-null  int64  \n",
      " 18  id_bdg            44390 non-null  int64  \n",
      " 19  name_bdg          44390 non-null  int64  \n",
      " 20  equip_type_abbr   44390 non-null  object \n",
      " 21  equip_type_name   44390 non-null  object \n",
      " 22  area_served_desc  0 non-null      float64\n",
      " 23  tags              44390 non-null  object \n",
      "dtypes: float64(5), int64(8), object(11)\n",
      "memory usage: 8.1+ MB\n"
     ]
    }
   ],
   "source": [
    "metadata.info()"
   ]
  },
  {
   "cell_type": "code",
   "execution_count": 16,
   "id": "c2faa082",
   "metadata": {
    "execution": {
     "iopub.execute_input": "2022-05-13T16:22:28.472523Z",
     "iopub.status.busy": "2022-05-13T16:22:28.470051Z",
     "iopub.status.idle": "2022-05-13T16:22:28.507993Z",
     "shell.execute_reply": "2022-05-13T16:22:28.508549Z",
     "shell.execute_reply.started": "2022-05-04T01:30:46.750421Z"
    },
    "papermill": {
     "duration": 0.1292,
     "end_time": "2022-05-13T16:22:28.508729",
     "exception": false,
     "start_time": "2022-05-13T16:22:28.379529",
     "status": "completed"
    },
    "tags": []
   },
   "outputs": [
    {
     "data": {
      "text/plain": "   id_point  building_id  last_updated  first_updated  device  objectId  \\\n0    310029          441  1.560571e+12   1.550542e+12     NaN       NaN   \n1    310009          441  1.560485e+12   1.550701e+12     NaN       NaN   \n2    310010          441  1.560571e+12   1.550504e+12     NaN       NaN   \n3    310011          441  1.560485e+12   1.550504e+12     NaN       NaN   \n4    310012          441  1.560485e+12   1.550504e+12     NaN       NaN   \n\n                              name_point description units tagged_units  ...  \\\n0    245 E 149th St. Boiler-1 Fault Code         NaN     ?            ?  ...   \n1  225 E 149th St. Boiler-1 Exhaust Temp         NaN     F            f  ...   \n2    225 E 149th St. Boiler-1 Fault Code         NaN     ?            ?  ...   \n3     225 E 149th St. Boiler-1 FFWD Temp         NaN     ?            ?  ...   \n4  225 E 149th St. Boiler-1 Fire Rate In         NaN     ?            ?  ...   \n\n   measurement_id                   datasource_hash  \\\n0              18  b115b5053493748f7076ad09f69c4456   \n1               1  4a1a11502acee3078352da312c40c262   \n2              18  55882633fe8fb5aac7dac643c99b1af5   \n3              18  831a8df09b848f53e807fa0204c45eaa   \n4              18  aa147c829c7ed55b6e93cdbbb8b43d55   \n\n                                               topic  equip_id  id_bdg  \\\n0  nyserda+0000088737+boiler-1+245 E 149th St. Bo...     28797     441   \n1  nyserda+0000088737+boiler-1+225 E 149th St. Bo...     28797     441   \n2  nyserda+0000088737+boiler-1+225 E 149th St. Bo...     28797     441   \n3  nyserda+0000088737+boiler-1+225 E 149th St. Bo...     28797     441   \n4  nyserda+0000088737+boiler-1+225 E 149th St. Bo...     28797     441   \n\n  name_bdg equip_type_abbr  equip_type_name  area_served_desc  \\\n0    88737             BLR           Boiler               NaN   \n1    88737             BLR           Boiler               NaN   \n2    88737             BLR           Boiler               NaN   \n3    88737             BLR           Boiler               NaN   \n4    88737             BLR           Boiler               NaN   \n\n                 tags  \n0  ['boiler', 'hvac']  \n1  ['boiler', 'hvac']  \n2  ['boiler', 'hvac']  \n3  ['boiler', 'hvac']  \n4  ['boiler', 'hvac']  \n\n[5 rows x 24 columns]",
      "text/html": "<div>\n<style scoped>\n    .dataframe tbody tr th:only-of-type {\n        vertical-align: middle;\n    }\n\n    .dataframe tbody tr th {\n        vertical-align: top;\n    }\n\n    .dataframe thead th {\n        text-align: right;\n    }\n</style>\n<table border=\"1\" class=\"dataframe\">\n  <thead>\n    <tr style=\"text-align: right;\">\n      <th></th>\n      <th>id_point</th>\n      <th>building_id</th>\n      <th>last_updated</th>\n      <th>first_updated</th>\n      <th>device</th>\n      <th>objectId</th>\n      <th>name_point</th>\n      <th>description</th>\n      <th>units</th>\n      <th>tagged_units</th>\n      <th>...</th>\n      <th>measurement_id</th>\n      <th>datasource_hash</th>\n      <th>topic</th>\n      <th>equip_id</th>\n      <th>id_bdg</th>\n      <th>name_bdg</th>\n      <th>equip_type_abbr</th>\n      <th>equip_type_name</th>\n      <th>area_served_desc</th>\n      <th>tags</th>\n    </tr>\n  </thead>\n  <tbody>\n    <tr>\n      <th>0</th>\n      <td>310029</td>\n      <td>441</td>\n      <td>1.560571e+12</td>\n      <td>1.550542e+12</td>\n      <td>NaN</td>\n      <td>NaN</td>\n      <td>245 E 149th St. Boiler-1 Fault Code</td>\n      <td>NaN</td>\n      <td>?</td>\n      <td>?</td>\n      <td>...</td>\n      <td>18</td>\n      <td>b115b5053493748f7076ad09f69c4456</td>\n      <td>nyserda+0000088737+boiler-1+245 E 149th St. Bo...</td>\n      <td>28797</td>\n      <td>441</td>\n      <td>88737</td>\n      <td>BLR</td>\n      <td>Boiler</td>\n      <td>NaN</td>\n      <td>['boiler', 'hvac']</td>\n    </tr>\n    <tr>\n      <th>1</th>\n      <td>310009</td>\n      <td>441</td>\n      <td>1.560485e+12</td>\n      <td>1.550701e+12</td>\n      <td>NaN</td>\n      <td>NaN</td>\n      <td>225 E 149th St. Boiler-1 Exhaust Temp</td>\n      <td>NaN</td>\n      <td>F</td>\n      <td>f</td>\n      <td>...</td>\n      <td>1</td>\n      <td>4a1a11502acee3078352da312c40c262</td>\n      <td>nyserda+0000088737+boiler-1+225 E 149th St. Bo...</td>\n      <td>28797</td>\n      <td>441</td>\n      <td>88737</td>\n      <td>BLR</td>\n      <td>Boiler</td>\n      <td>NaN</td>\n      <td>['boiler', 'hvac']</td>\n    </tr>\n    <tr>\n      <th>2</th>\n      <td>310010</td>\n      <td>441</td>\n      <td>1.560571e+12</td>\n      <td>1.550504e+12</td>\n      <td>NaN</td>\n      <td>NaN</td>\n      <td>225 E 149th St. Boiler-1 Fault Code</td>\n      <td>NaN</td>\n      <td>?</td>\n      <td>?</td>\n      <td>...</td>\n      <td>18</td>\n      <td>55882633fe8fb5aac7dac643c99b1af5</td>\n      <td>nyserda+0000088737+boiler-1+225 E 149th St. Bo...</td>\n      <td>28797</td>\n      <td>441</td>\n      <td>88737</td>\n      <td>BLR</td>\n      <td>Boiler</td>\n      <td>NaN</td>\n      <td>['boiler', 'hvac']</td>\n    </tr>\n    <tr>\n      <th>3</th>\n      <td>310011</td>\n      <td>441</td>\n      <td>1.560485e+12</td>\n      <td>1.550504e+12</td>\n      <td>NaN</td>\n      <td>NaN</td>\n      <td>225 E 149th St. Boiler-1 FFWD Temp</td>\n      <td>NaN</td>\n      <td>?</td>\n      <td>?</td>\n      <td>...</td>\n      <td>18</td>\n      <td>831a8df09b848f53e807fa0204c45eaa</td>\n      <td>nyserda+0000088737+boiler-1+225 E 149th St. Bo...</td>\n      <td>28797</td>\n      <td>441</td>\n      <td>88737</td>\n      <td>BLR</td>\n      <td>Boiler</td>\n      <td>NaN</td>\n      <td>['boiler', 'hvac']</td>\n    </tr>\n    <tr>\n      <th>4</th>\n      <td>310012</td>\n      <td>441</td>\n      <td>1.560485e+12</td>\n      <td>1.550504e+12</td>\n      <td>NaN</td>\n      <td>NaN</td>\n      <td>225 E 149th St. Boiler-1 Fire Rate In</td>\n      <td>NaN</td>\n      <td>?</td>\n      <td>?</td>\n      <td>...</td>\n      <td>18</td>\n      <td>aa147c829c7ed55b6e93cdbbb8b43d55</td>\n      <td>nyserda+0000088737+boiler-1+225 E 149th St. Bo...</td>\n      <td>28797</td>\n      <td>441</td>\n      <td>88737</td>\n      <td>BLR</td>\n      <td>Boiler</td>\n      <td>NaN</td>\n      <td>['boiler', 'hvac']</td>\n    </tr>\n  </tbody>\n</table>\n<p>5 rows × 24 columns</p>\n</div>"
     },
     "execution_count": 16,
     "metadata": {},
     "output_type": "execute_result"
    }
   ],
   "source": [
    "metadata.head()"
   ]
  },
  {
   "cell_type": "markdown",
   "id": "3a47ac6d",
   "metadata": {
    "papermill": {
     "duration": 0.088525,
     "end_time": "2022-05-13T16:22:28.686552",
     "exception": false,
     "start_time": "2022-05-13T16:22:28.598027",
     "status": "completed"
    },
    "tags": []
   },
   "source": [
    "We have a lot of points here:"
   ]
  },
  {
   "cell_type": "code",
   "execution_count": 17,
   "id": "9f8d6239",
   "metadata": {
    "execution": {
     "iopub.execute_input": "2022-05-13T16:22:28.869339Z",
     "iopub.status.busy": "2022-05-13T16:22:28.868279Z",
     "iopub.status.idle": "2022-05-13T16:22:28.872357Z",
     "shell.execute_reply": "2022-05-13T16:22:28.871813Z",
     "shell.execute_reply.started": "2022-05-04T01:31:10.656197Z"
    },
    "papermill": {
     "duration": 0.096718,
     "end_time": "2022-05-13T16:22:28.872557",
     "exception": false,
     "start_time": "2022-05-13T16:22:28.775839",
     "status": "completed"
    },
    "tags": []
   },
   "outputs": [
    {
     "data": {
      "text/plain": "44390"
     },
     "execution_count": 17,
     "metadata": {},
     "output_type": "execute_result"
    }
   ],
   "source": [
    "len(metadata.id_point)"
   ]
  },
  {
   "cell_type": "markdown",
   "id": "8ae01c75",
   "metadata": {
    "papermill": {
     "duration": 0.089319,
     "end_time": "2022-05-13T16:22:29.049750",
     "exception": false,
     "start_time": "2022-05-13T16:22:28.960431",
     "status": "completed"
    },
    "tags": []
   },
   "source": [
    "Let's filter out only the Zone Temperature sensors -that's the `type_id` 77, you can confirm this querying the ontology data, like we did in the previous notebook ;)- and that are Fan Coil Units:"
   ]
  },
  {
   "cell_type": "code",
   "execution_count": 18,
   "id": "3a3d09a0",
   "metadata": {
    "execution": {
     "iopub.execute_input": "2022-05-13T16:22:29.231313Z",
     "iopub.status.busy": "2022-05-13T16:22:29.230324Z",
     "iopub.status.idle": "2022-05-13T16:22:29.245501Z",
     "shell.execute_reply": "2022-05-13T16:22:29.246015Z",
     "shell.execute_reply.started": "2022-05-04T01:32:03.014508Z"
    },
    "papermill": {
     "duration": 0.108664,
     "end_time": "2022-05-13T16:22:29.246189",
     "exception": false,
     "start_time": "2022-05-13T16:22:29.137525",
     "status": "completed"
    },
    "tags": []
   },
   "outputs": [],
   "source": [
    "# boiler_data = metadata[(metadata.equip_type_name == \"Boiler\")]\n",
    "# pump_data = metadata[(metadata.equip_type_name == \"Pump\")]\n",
    "# hws_data = metadata[(metadata.equip_type_name == \"Hot Water Plant\")]"
   ]
  },
  {
   "cell_type": "code",
   "execution_count": 29,
   "outputs": [
    {
     "data": {
      "text/plain": "       id_point  building_id  last_updated  first_updated  device  objectId  \\\n1293     198167          140  1.551416e+12   1.509509e+12     NaN       NaN   \n1294     198166          140  1.522641e+12   1.509509e+12     NaN       NaN   \n1295     198164          140  1.551416e+12   1.527826e+12     NaN       NaN   \n1296     198165          140  1.551416e+12   1.509509e+12     NaN       NaN   \n1297     198163          140  1.551416e+12   1.509509e+12     NaN       NaN   \n...         ...          ...           ...            ...     ...       ...   \n44366    231111          398  1.577768e+12   1.571890e+12     NaN       NaN   \n44371    231122          399  1.596254e+12   1.543640e+12     NaN       NaN   \n44372    231121          399  1.596254e+12   1.527826e+12     NaN       NaN   \n44373    231124          399  1.596254e+12   1.543640e+12     NaN       NaN   \n44374    231123          399  1.596254e+12   1.527826e+12     NaN       NaN   \n\n             name_point                                  description   units  \\\n1293                NaN     UPCM-1 AH-1 Gallery_Weather Station Name     NaN   \n1294                NaN       UPCM-1 AH-1 Gallery_Weather Station ID     NaN   \n1295                NaN    UPCM-1 AH-1 Gallery_Supply Fan Start/Stop  On/Off   \n1296                NaN          UPCM-1 AH-1 Gallery_Supply Fan Type     NaN   \n1297                NaN  UPCM-1 AH-1 Gallery_Supply Fan Speed Output       %   \n...                 ...                                          ...     ...   \n44366               NaN             CRAC 5-1_Cooling Capacity Status     NaN   \n44371  AC_S1_DAT_status                             AC_S1_DAT_status     NaN   \n44372   AC_S1_DAT_value                              AC_S1_DAT_value       F   \n44373  AC_S2_DAT_status                             AC_S2_DAT_status     NaN   \n44374   AC_S2_DAT_value                              AC_S2_DAT_value       F   \n\n      tagged_units  ...  measurement_id                   datasource_hash  \\\n1293           NaN  ...              18  ab0c5abe378727b4e0eb206fb219e4ea   \n1294           NaN  ...              18  fa9fe494c8c46e83fc0c3b32112f3006   \n1295           NaN  ...              11  c5655766264570e69797288ef99aa6f1   \n1296           NaN  ...              18  594b4231b1da87402f03f44f61fddc30   \n1297           NaN  ...              17  3b48061edf51685f710219f13b2334ee   \n...            ...  ...             ...                               ...   \n44366          NaN  ...              18  8797bb8fa41c59d7dc9999e491e0528a   \n44371            ?  ...              18  d6f824f4b8252746263e6424ec63f015   \n44372            f  ...               1  2911795ee7842d6a496d517e3a89a248   \n44373            ?  ...              18  e8b69ee26b0115ae34092706995bdb07   \n44374            f  ...               1  7f1fdfdc2e8fedef51359bda0ea41558   \n\n                                                   topic  equip_id  id_bdg  \\\n1293   nyserda+0000083483+ahu1-gallery+UPCM-1 AH-1 Ga...     18092     140   \n1294   nyserda+0000083483+ahu1-gallery+UPCM-1 AH-1 Ga...     18092     140   \n1295   nyserda+0000083483+ahu1-gallery+UPCM-1 AH-1 Ga...     18092     140   \n1296   nyserda+0000083483+ahu1-gallery+UPCM-1 AH-1 Ga...     18092     140   \n1297   nyserda+0000083483+ahu1-gallery+UPCM-1 AH-1 Ga...     18092     140   \n...                                                  ...       ...     ...   \n44366  nyserda+0000109188+crac5-1+CRAC 5-1_Cooling Ca...     22747     398   \n44371  nyserda+0000097151+ac-fan1-supply+AC_S1_DAT_st...     32352     399   \n44372  nyserda+0000097151+ac-fan1-supply+AC_S1_DAT_value     32352     399   \n44373  nyserda+0000097151+ac-fan2-supply+AC_S2_DAT_st...     32353     399   \n44374  nyserda+0000097151+ac-fan2-supply+AC_S2_DAT_value     32353     399   \n\n      name_bdg equip_type_abbr    equip_type_name  area_served_desc  \\\n1293     83483             AHU  Air Handling Unit               NaN   \n1294     83483             AHU  Air Handling Unit               NaN   \n1295     83483             AHU  Air Handling Unit               NaN   \n1296     83483             AHU  Air Handling Unit               NaN   \n1297     83483             AHU  Air Handling Unit               NaN   \n...        ...             ...                ...               ...   \n44366   109188             AHU  Air Handling Unit               NaN   \n44371    97151             AHU  Air Handling Unit               NaN   \n44372    97151             AHU  Air Handling Unit               NaN   \n44373    97151             AHU  Air Handling Unit               NaN   \n44374    97151             AHU  Air Handling Unit               NaN   \n\n                  tags  \n1293   ['ahu', 'hvac']  \n1294   ['ahu', 'hvac']  \n1295   ['ahu', 'hvac']  \n1296   ['ahu', 'hvac']  \n1297   ['ahu', 'hvac']  \n...                ...  \n44366  ['ahu', 'hvac']  \n44371  ['ahu', 'hvac']  \n44372  ['ahu', 'hvac']  \n44373  ['ahu', 'hvac']  \n44374  ['ahu', 'hvac']  \n\n[11308 rows x 24 columns]",
      "text/html": "<div>\n<style scoped>\n    .dataframe tbody tr th:only-of-type {\n        vertical-align: middle;\n    }\n\n    .dataframe tbody tr th {\n        vertical-align: top;\n    }\n\n    .dataframe thead th {\n        text-align: right;\n    }\n</style>\n<table border=\"1\" class=\"dataframe\">\n  <thead>\n    <tr style=\"text-align: right;\">\n      <th></th>\n      <th>id_point</th>\n      <th>building_id</th>\n      <th>last_updated</th>\n      <th>first_updated</th>\n      <th>device</th>\n      <th>objectId</th>\n      <th>name_point</th>\n      <th>description</th>\n      <th>units</th>\n      <th>tagged_units</th>\n      <th>...</th>\n      <th>measurement_id</th>\n      <th>datasource_hash</th>\n      <th>topic</th>\n      <th>equip_id</th>\n      <th>id_bdg</th>\n      <th>name_bdg</th>\n      <th>equip_type_abbr</th>\n      <th>equip_type_name</th>\n      <th>area_served_desc</th>\n      <th>tags</th>\n    </tr>\n  </thead>\n  <tbody>\n    <tr>\n      <th>1293</th>\n      <td>198167</td>\n      <td>140</td>\n      <td>1.551416e+12</td>\n      <td>1.509509e+12</td>\n      <td>NaN</td>\n      <td>NaN</td>\n      <td>NaN</td>\n      <td>UPCM-1 AH-1 Gallery_Weather Station Name</td>\n      <td>NaN</td>\n      <td>NaN</td>\n      <td>...</td>\n      <td>18</td>\n      <td>ab0c5abe378727b4e0eb206fb219e4ea</td>\n      <td>nyserda+0000083483+ahu1-gallery+UPCM-1 AH-1 Ga...</td>\n      <td>18092</td>\n      <td>140</td>\n      <td>83483</td>\n      <td>AHU</td>\n      <td>Air Handling Unit</td>\n      <td>NaN</td>\n      <td>['ahu', 'hvac']</td>\n    </tr>\n    <tr>\n      <th>1294</th>\n      <td>198166</td>\n      <td>140</td>\n      <td>1.522641e+12</td>\n      <td>1.509509e+12</td>\n      <td>NaN</td>\n      <td>NaN</td>\n      <td>NaN</td>\n      <td>UPCM-1 AH-1 Gallery_Weather Station ID</td>\n      <td>NaN</td>\n      <td>NaN</td>\n      <td>...</td>\n      <td>18</td>\n      <td>fa9fe494c8c46e83fc0c3b32112f3006</td>\n      <td>nyserda+0000083483+ahu1-gallery+UPCM-1 AH-1 Ga...</td>\n      <td>18092</td>\n      <td>140</td>\n      <td>83483</td>\n      <td>AHU</td>\n      <td>Air Handling Unit</td>\n      <td>NaN</td>\n      <td>['ahu', 'hvac']</td>\n    </tr>\n    <tr>\n      <th>1295</th>\n      <td>198164</td>\n      <td>140</td>\n      <td>1.551416e+12</td>\n      <td>1.527826e+12</td>\n      <td>NaN</td>\n      <td>NaN</td>\n      <td>NaN</td>\n      <td>UPCM-1 AH-1 Gallery_Supply Fan Start/Stop</td>\n      <td>On/Off</td>\n      <td>NaN</td>\n      <td>...</td>\n      <td>11</td>\n      <td>c5655766264570e69797288ef99aa6f1</td>\n      <td>nyserda+0000083483+ahu1-gallery+UPCM-1 AH-1 Ga...</td>\n      <td>18092</td>\n      <td>140</td>\n      <td>83483</td>\n      <td>AHU</td>\n      <td>Air Handling Unit</td>\n      <td>NaN</td>\n      <td>['ahu', 'hvac']</td>\n    </tr>\n    <tr>\n      <th>1296</th>\n      <td>198165</td>\n      <td>140</td>\n      <td>1.551416e+12</td>\n      <td>1.509509e+12</td>\n      <td>NaN</td>\n      <td>NaN</td>\n      <td>NaN</td>\n      <td>UPCM-1 AH-1 Gallery_Supply Fan Type</td>\n      <td>NaN</td>\n      <td>NaN</td>\n      <td>...</td>\n      <td>18</td>\n      <td>594b4231b1da87402f03f44f61fddc30</td>\n      <td>nyserda+0000083483+ahu1-gallery+UPCM-1 AH-1 Ga...</td>\n      <td>18092</td>\n      <td>140</td>\n      <td>83483</td>\n      <td>AHU</td>\n      <td>Air Handling Unit</td>\n      <td>NaN</td>\n      <td>['ahu', 'hvac']</td>\n    </tr>\n    <tr>\n      <th>1297</th>\n      <td>198163</td>\n      <td>140</td>\n      <td>1.551416e+12</td>\n      <td>1.509509e+12</td>\n      <td>NaN</td>\n      <td>NaN</td>\n      <td>NaN</td>\n      <td>UPCM-1 AH-1 Gallery_Supply Fan Speed Output</td>\n      <td>%</td>\n      <td>NaN</td>\n      <td>...</td>\n      <td>17</td>\n      <td>3b48061edf51685f710219f13b2334ee</td>\n      <td>nyserda+0000083483+ahu1-gallery+UPCM-1 AH-1 Ga...</td>\n      <td>18092</td>\n      <td>140</td>\n      <td>83483</td>\n      <td>AHU</td>\n      <td>Air Handling Unit</td>\n      <td>NaN</td>\n      <td>['ahu', 'hvac']</td>\n    </tr>\n    <tr>\n      <th>...</th>\n      <td>...</td>\n      <td>...</td>\n      <td>...</td>\n      <td>...</td>\n      <td>...</td>\n      <td>...</td>\n      <td>...</td>\n      <td>...</td>\n      <td>...</td>\n      <td>...</td>\n      <td>...</td>\n      <td>...</td>\n      <td>...</td>\n      <td>...</td>\n      <td>...</td>\n      <td>...</td>\n      <td>...</td>\n      <td>...</td>\n      <td>...</td>\n      <td>...</td>\n      <td>...</td>\n    </tr>\n    <tr>\n      <th>44366</th>\n      <td>231111</td>\n      <td>398</td>\n      <td>1.577768e+12</td>\n      <td>1.571890e+12</td>\n      <td>NaN</td>\n      <td>NaN</td>\n      <td>NaN</td>\n      <td>CRAC 5-1_Cooling Capacity Status</td>\n      <td>NaN</td>\n      <td>NaN</td>\n      <td>...</td>\n      <td>18</td>\n      <td>8797bb8fa41c59d7dc9999e491e0528a</td>\n      <td>nyserda+0000109188+crac5-1+CRAC 5-1_Cooling Ca...</td>\n      <td>22747</td>\n      <td>398</td>\n      <td>109188</td>\n      <td>AHU</td>\n      <td>Air Handling Unit</td>\n      <td>NaN</td>\n      <td>['ahu', 'hvac']</td>\n    </tr>\n    <tr>\n      <th>44371</th>\n      <td>231122</td>\n      <td>399</td>\n      <td>1.596254e+12</td>\n      <td>1.543640e+12</td>\n      <td>NaN</td>\n      <td>NaN</td>\n      <td>AC_S1_DAT_status</td>\n      <td>AC_S1_DAT_status</td>\n      <td>NaN</td>\n      <td>?</td>\n      <td>...</td>\n      <td>18</td>\n      <td>d6f824f4b8252746263e6424ec63f015</td>\n      <td>nyserda+0000097151+ac-fan1-supply+AC_S1_DAT_st...</td>\n      <td>32352</td>\n      <td>399</td>\n      <td>97151</td>\n      <td>AHU</td>\n      <td>Air Handling Unit</td>\n      <td>NaN</td>\n      <td>['ahu', 'hvac']</td>\n    </tr>\n    <tr>\n      <th>44372</th>\n      <td>231121</td>\n      <td>399</td>\n      <td>1.596254e+12</td>\n      <td>1.527826e+12</td>\n      <td>NaN</td>\n      <td>NaN</td>\n      <td>AC_S1_DAT_value</td>\n      <td>AC_S1_DAT_value</td>\n      <td>F</td>\n      <td>f</td>\n      <td>...</td>\n      <td>1</td>\n      <td>2911795ee7842d6a496d517e3a89a248</td>\n      <td>nyserda+0000097151+ac-fan1-supply+AC_S1_DAT_value</td>\n      <td>32352</td>\n      <td>399</td>\n      <td>97151</td>\n      <td>AHU</td>\n      <td>Air Handling Unit</td>\n      <td>NaN</td>\n      <td>['ahu', 'hvac']</td>\n    </tr>\n    <tr>\n      <th>44373</th>\n      <td>231124</td>\n      <td>399</td>\n      <td>1.596254e+12</td>\n      <td>1.543640e+12</td>\n      <td>NaN</td>\n      <td>NaN</td>\n      <td>AC_S2_DAT_status</td>\n      <td>AC_S2_DAT_status</td>\n      <td>NaN</td>\n      <td>?</td>\n      <td>...</td>\n      <td>18</td>\n      <td>e8b69ee26b0115ae34092706995bdb07</td>\n      <td>nyserda+0000097151+ac-fan2-supply+AC_S2_DAT_st...</td>\n      <td>32353</td>\n      <td>399</td>\n      <td>97151</td>\n      <td>AHU</td>\n      <td>Air Handling Unit</td>\n      <td>NaN</td>\n      <td>['ahu', 'hvac']</td>\n    </tr>\n    <tr>\n      <th>44374</th>\n      <td>231123</td>\n      <td>399</td>\n      <td>1.596254e+12</td>\n      <td>1.527826e+12</td>\n      <td>NaN</td>\n      <td>NaN</td>\n      <td>AC_S2_DAT_value</td>\n      <td>AC_S2_DAT_value</td>\n      <td>F</td>\n      <td>f</td>\n      <td>...</td>\n      <td>1</td>\n      <td>7f1fdfdc2e8fedef51359bda0ea41558</td>\n      <td>nyserda+0000097151+ac-fan2-supply+AC_S2_DAT_value</td>\n      <td>32353</td>\n      <td>399</td>\n      <td>97151</td>\n      <td>AHU</td>\n      <td>Air Handling Unit</td>\n      <td>NaN</td>\n      <td>['ahu', 'hvac']</td>\n    </tr>\n  </tbody>\n</table>\n<p>11308 rows × 24 columns</p>\n</div>"
     },
     "execution_count": 29,
     "metadata": {},
     "output_type": "execute_result"
    }
   ],
   "source": [
    "ahu_data = metadata[(metadata.equip_type_name == \"Air Handling Unit\")]\n",
    "ahu_data"
   ],
   "metadata": {
    "collapsed": false,
    "pycharm": {
     "name": "#%%\n"
    }
   }
  },
  {
   "cell_type": "code",
   "execution_count": 30,
   "id": "24de26ff",
   "metadata": {
    "scrolled": true
   },
   "outputs": [
    {
     "data": {
      "text/plain": "       id_point  building_id  last_updated  first_updated  device  objectId  \\\n1326     198131          140  1.551416e+12   1.509509e+12     NaN       NaN   \n1397     198220          140  1.551416e+12   1.509509e+12     NaN       NaN   \n2213     267505          419  1.567915e+12   1.551967e+12     NaN       NaN   \n2227     267522          419  1.567916e+12   1.551967e+12     NaN       NaN   \n2244     267544          419  1.567916e+12   1.551967e+12     NaN       NaN   \n...         ...          ...           ...            ...     ...       ...   \n43009    230341          394  1.546318e+12   1.514783e+12     NaN       NaN   \n43022    230356          394  1.546318e+12   1.514783e+12     NaN       NaN   \n44243    230969          398  1.577768e+12   1.554845e+12     NaN       NaN   \n44260    231000          398  1.577768e+12   1.554845e+12     NaN       NaN   \n44295    231030          398  1.577768e+12   1.554845e+12     NaN       NaN   \n\n      name_point                                        description units  \\\n1326         NaN                 UPCM-1 AH-1 Gallery_Mixed Air Temp     F   \n1397         NaN               UPCM-2 AH-2 2nd Floor_Mixed Air Temp     F   \n2213         NaN  221 E 71st St Mechanical Room Marymount  AHU-1...     F   \n2227         NaN                221 E 71st St AHU-10 Mixed Air Temp     F   \n2244         NaN                 221 E 71st St AHU-2 Mixed Air Temp     F   \n...          ...                                                ...   ...   \n43009        NaN                                        HVAC F2 MAT     F   \n43022        NaN                                    HVAC F20 MATemp     F   \n44243        NaN                                      AC-25-1_MaTmp     F   \n44260        NaN                                       AC-4-1_MaTmp     F   \n44295        NaN                                       AC-9-1_MaTmp     F   \n\n      tagged_units  ...  measurement_id                   datasource_hash  \\\n1326           NaN  ...               1  603cdedfc8c6efd774c2ebe9a62b33a8   \n1397           NaN  ...               1  3e9a73baa2a23bb6d2512641a0deda36   \n2213           NaN  ...               1  9cb7b76801c0073bedf1d5fea96b8110   \n2227           NaN  ...               1  273ce8975e94a7567937781e039e695a   \n2244           NaN  ...               1  cb3f889c867ebee5f0e305ebe6442dc1   \n...            ...  ...             ...                               ...   \n43009          NaN  ...               1  762f3ba85b0c7b55c64b964acd8ce7cb   \n43022          NaN  ...               1  a6633af055754d6455fa652973507b59   \n44243          NaN  ...               1  0333f2263b2291bdb6e8d511e8ae47da   \n44260          NaN  ...               1  5bc07319ee8a1f22dec9f34ad698d934   \n44295          NaN  ...               1  2e7b9cb55b578177e7e896e484b1ced7   \n\n                                                   topic  equip_id  id_bdg  \\\n1326   nyserda+0000083483+ahu1-gallery+UPCM-1 AH-1 Ga...     18092     140   \n1397   nyserda+0000083483+ahu2-floor2+UPCM-2 AH-2 2nd...     18094     140   \n2213   nyserda+0000116399+ahu-1+221 E 71st St Mechani...     25962     419   \n2227   nyserda+0000116399+ahu-10+221 E 71st St AHU-10...     25963     419   \n2244   nyserda+0000116399+ahu-2+221 E 71st St AHU-2 M...     25964     419   \n...                                                  ...       ...     ...   \n43009         nyserda+0000080880+fan2-supply+HVAC F2 MAT     22674     394   \n43022    nyserda+0000080880+fan20-supply+HVAC F20 MATemp     22675     394   \n44243            nyserda+0000109188+ac25-1+AC-25-1_MaTmp     22734     398   \n44260              nyserda+0000109188+ac4-1+AC-4-1_MaTmp     22735     398   \n44295              nyserda+0000109188+ac9-1+AC-9-1_MaTmp     22736     398   \n\n      name_bdg equip_type_abbr    equip_type_name  area_served_desc  \\\n1326     83483             AHU  Air Handling Unit               NaN   \n1397     83483             AHU  Air Handling Unit               NaN   \n2213    116399             AHU  Air Handling Unit               NaN   \n2227    116399             AHU  Air Handling Unit               NaN   \n2244    116399             AHU  Air Handling Unit               NaN   \n...        ...             ...                ...               ...   \n43009    80880             FAN                Fan               NaN   \n43022    80880             FAN                Fan               NaN   \n44243   109188             AHU  Air Handling Unit               NaN   \n44260   109188             AHU  Air Handling Unit               NaN   \n44295   109188             AHU  Air Handling Unit               NaN   \n\n                               tags  \n1326                ['ahu', 'hvac']  \n1397                ['ahu', 'hvac']  \n2213                ['ahu', 'hvac']  \n2227                ['ahu', 'hvac']  \n2244                ['ahu', 'hvac']  \n...                             ...  \n43009  ['fan', 'hvac', 'supplyFan']  \n43022  ['fan', 'hvac', 'supplyFan']  \n44243               ['ahu', 'hvac']  \n44260               ['ahu', 'hvac']  \n44295               ['ahu', 'hvac']  \n\n[250 rows x 24 columns]",
      "text/html": "<div>\n<style scoped>\n    .dataframe tbody tr th:only-of-type {\n        vertical-align: middle;\n    }\n\n    .dataframe tbody tr th {\n        vertical-align: top;\n    }\n\n    .dataframe thead th {\n        text-align: right;\n    }\n</style>\n<table border=\"1\" class=\"dataframe\">\n  <thead>\n    <tr style=\"text-align: right;\">\n      <th></th>\n      <th>id_point</th>\n      <th>building_id</th>\n      <th>last_updated</th>\n      <th>first_updated</th>\n      <th>device</th>\n      <th>objectId</th>\n      <th>name_point</th>\n      <th>description</th>\n      <th>units</th>\n      <th>tagged_units</th>\n      <th>...</th>\n      <th>measurement_id</th>\n      <th>datasource_hash</th>\n      <th>topic</th>\n      <th>equip_id</th>\n      <th>id_bdg</th>\n      <th>name_bdg</th>\n      <th>equip_type_abbr</th>\n      <th>equip_type_name</th>\n      <th>area_served_desc</th>\n      <th>tags</th>\n    </tr>\n  </thead>\n  <tbody>\n    <tr>\n      <th>1326</th>\n      <td>198131</td>\n      <td>140</td>\n      <td>1.551416e+12</td>\n      <td>1.509509e+12</td>\n      <td>NaN</td>\n      <td>NaN</td>\n      <td>NaN</td>\n      <td>UPCM-1 AH-1 Gallery_Mixed Air Temp</td>\n      <td>F</td>\n      <td>NaN</td>\n      <td>...</td>\n      <td>1</td>\n      <td>603cdedfc8c6efd774c2ebe9a62b33a8</td>\n      <td>nyserda+0000083483+ahu1-gallery+UPCM-1 AH-1 Ga...</td>\n      <td>18092</td>\n      <td>140</td>\n      <td>83483</td>\n      <td>AHU</td>\n      <td>Air Handling Unit</td>\n      <td>NaN</td>\n      <td>['ahu', 'hvac']</td>\n    </tr>\n    <tr>\n      <th>1397</th>\n      <td>198220</td>\n      <td>140</td>\n      <td>1.551416e+12</td>\n      <td>1.509509e+12</td>\n      <td>NaN</td>\n      <td>NaN</td>\n      <td>NaN</td>\n      <td>UPCM-2 AH-2 2nd Floor_Mixed Air Temp</td>\n      <td>F</td>\n      <td>NaN</td>\n      <td>...</td>\n      <td>1</td>\n      <td>3e9a73baa2a23bb6d2512641a0deda36</td>\n      <td>nyserda+0000083483+ahu2-floor2+UPCM-2 AH-2 2nd...</td>\n      <td>18094</td>\n      <td>140</td>\n      <td>83483</td>\n      <td>AHU</td>\n      <td>Air Handling Unit</td>\n      <td>NaN</td>\n      <td>['ahu', 'hvac']</td>\n    </tr>\n    <tr>\n      <th>2213</th>\n      <td>267505</td>\n      <td>419</td>\n      <td>1.567915e+12</td>\n      <td>1.551967e+12</td>\n      <td>NaN</td>\n      <td>NaN</td>\n      <td>NaN</td>\n      <td>221 E 71st St Mechanical Room Marymount  AHU-1...</td>\n      <td>F</td>\n      <td>NaN</td>\n      <td>...</td>\n      <td>1</td>\n      <td>9cb7b76801c0073bedf1d5fea96b8110</td>\n      <td>nyserda+0000116399+ahu-1+221 E 71st St Mechani...</td>\n      <td>25962</td>\n      <td>419</td>\n      <td>116399</td>\n      <td>AHU</td>\n      <td>Air Handling Unit</td>\n      <td>NaN</td>\n      <td>['ahu', 'hvac']</td>\n    </tr>\n    <tr>\n      <th>2227</th>\n      <td>267522</td>\n      <td>419</td>\n      <td>1.567916e+12</td>\n      <td>1.551967e+12</td>\n      <td>NaN</td>\n      <td>NaN</td>\n      <td>NaN</td>\n      <td>221 E 71st St AHU-10 Mixed Air Temp</td>\n      <td>F</td>\n      <td>NaN</td>\n      <td>...</td>\n      <td>1</td>\n      <td>273ce8975e94a7567937781e039e695a</td>\n      <td>nyserda+0000116399+ahu-10+221 E 71st St AHU-10...</td>\n      <td>25963</td>\n      <td>419</td>\n      <td>116399</td>\n      <td>AHU</td>\n      <td>Air Handling Unit</td>\n      <td>NaN</td>\n      <td>['ahu', 'hvac']</td>\n    </tr>\n    <tr>\n      <th>2244</th>\n      <td>267544</td>\n      <td>419</td>\n      <td>1.567916e+12</td>\n      <td>1.551967e+12</td>\n      <td>NaN</td>\n      <td>NaN</td>\n      <td>NaN</td>\n      <td>221 E 71st St AHU-2 Mixed Air Temp</td>\n      <td>F</td>\n      <td>NaN</td>\n      <td>...</td>\n      <td>1</td>\n      <td>cb3f889c867ebee5f0e305ebe6442dc1</td>\n      <td>nyserda+0000116399+ahu-2+221 E 71st St AHU-2 M...</td>\n      <td>25964</td>\n      <td>419</td>\n      <td>116399</td>\n      <td>AHU</td>\n      <td>Air Handling Unit</td>\n      <td>NaN</td>\n      <td>['ahu', 'hvac']</td>\n    </tr>\n    <tr>\n      <th>...</th>\n      <td>...</td>\n      <td>...</td>\n      <td>...</td>\n      <td>...</td>\n      <td>...</td>\n      <td>...</td>\n      <td>...</td>\n      <td>...</td>\n      <td>...</td>\n      <td>...</td>\n      <td>...</td>\n      <td>...</td>\n      <td>...</td>\n      <td>...</td>\n      <td>...</td>\n      <td>...</td>\n      <td>...</td>\n      <td>...</td>\n      <td>...</td>\n      <td>...</td>\n      <td>...</td>\n    </tr>\n    <tr>\n      <th>43009</th>\n      <td>230341</td>\n      <td>394</td>\n      <td>1.546318e+12</td>\n      <td>1.514783e+12</td>\n      <td>NaN</td>\n      <td>NaN</td>\n      <td>NaN</td>\n      <td>HVAC F2 MAT</td>\n      <td>F</td>\n      <td>NaN</td>\n      <td>...</td>\n      <td>1</td>\n      <td>762f3ba85b0c7b55c64b964acd8ce7cb</td>\n      <td>nyserda+0000080880+fan2-supply+HVAC F2 MAT</td>\n      <td>22674</td>\n      <td>394</td>\n      <td>80880</td>\n      <td>FAN</td>\n      <td>Fan</td>\n      <td>NaN</td>\n      <td>['fan', 'hvac', 'supplyFan']</td>\n    </tr>\n    <tr>\n      <th>43022</th>\n      <td>230356</td>\n      <td>394</td>\n      <td>1.546318e+12</td>\n      <td>1.514783e+12</td>\n      <td>NaN</td>\n      <td>NaN</td>\n      <td>NaN</td>\n      <td>HVAC F20 MATemp</td>\n      <td>F</td>\n      <td>NaN</td>\n      <td>...</td>\n      <td>1</td>\n      <td>a6633af055754d6455fa652973507b59</td>\n      <td>nyserda+0000080880+fan20-supply+HVAC F20 MATemp</td>\n      <td>22675</td>\n      <td>394</td>\n      <td>80880</td>\n      <td>FAN</td>\n      <td>Fan</td>\n      <td>NaN</td>\n      <td>['fan', 'hvac', 'supplyFan']</td>\n    </tr>\n    <tr>\n      <th>44243</th>\n      <td>230969</td>\n      <td>398</td>\n      <td>1.577768e+12</td>\n      <td>1.554845e+12</td>\n      <td>NaN</td>\n      <td>NaN</td>\n      <td>NaN</td>\n      <td>AC-25-1_MaTmp</td>\n      <td>F</td>\n      <td>NaN</td>\n      <td>...</td>\n      <td>1</td>\n      <td>0333f2263b2291bdb6e8d511e8ae47da</td>\n      <td>nyserda+0000109188+ac25-1+AC-25-1_MaTmp</td>\n      <td>22734</td>\n      <td>398</td>\n      <td>109188</td>\n      <td>AHU</td>\n      <td>Air Handling Unit</td>\n      <td>NaN</td>\n      <td>['ahu', 'hvac']</td>\n    </tr>\n    <tr>\n      <th>44260</th>\n      <td>231000</td>\n      <td>398</td>\n      <td>1.577768e+12</td>\n      <td>1.554845e+12</td>\n      <td>NaN</td>\n      <td>NaN</td>\n      <td>NaN</td>\n      <td>AC-4-1_MaTmp</td>\n      <td>F</td>\n      <td>NaN</td>\n      <td>...</td>\n      <td>1</td>\n      <td>5bc07319ee8a1f22dec9f34ad698d934</td>\n      <td>nyserda+0000109188+ac4-1+AC-4-1_MaTmp</td>\n      <td>22735</td>\n      <td>398</td>\n      <td>109188</td>\n      <td>AHU</td>\n      <td>Air Handling Unit</td>\n      <td>NaN</td>\n      <td>['ahu', 'hvac']</td>\n    </tr>\n    <tr>\n      <th>44295</th>\n      <td>231030</td>\n      <td>398</td>\n      <td>1.577768e+12</td>\n      <td>1.554845e+12</td>\n      <td>NaN</td>\n      <td>NaN</td>\n      <td>NaN</td>\n      <td>AC-9-1_MaTmp</td>\n      <td>F</td>\n      <td>NaN</td>\n      <td>...</td>\n      <td>1</td>\n      <td>2e7b9cb55b578177e7e896e484b1ced7</td>\n      <td>nyserda+0000109188+ac9-1+AC-9-1_MaTmp</td>\n      <td>22736</td>\n      <td>398</td>\n      <td>109188</td>\n      <td>AHU</td>\n      <td>Air Handling Unit</td>\n      <td>NaN</td>\n      <td>['ahu', 'hvac']</td>\n    </tr>\n  </tbody>\n</table>\n<p>250 rows × 24 columns</p>\n</div>"
     },
     "execution_count": 30,
     "metadata": {},
     "output_type": "execute_result"
    }
   ],
   "source": [
    "ahu_mat_data = metadata[(metadata.type == \"Mixed Air Temperature\")]\n",
    "ahu_mat_data"
   ]
  },
  {
   "cell_type": "code",
   "execution_count": 31,
   "id": "5897f569",
   "metadata": {},
   "outputs": [
    {
     "data": {
      "text/plain": "       id_point  building_id  last_updated  first_updated  device  objectId  \\\n1302     198159          140  1.551416e+12   1.518575e+12     NaN       NaN   \n1352     198197          140  1.551416e+12   1.509509e+12     NaN       NaN   \n1405     198247          140  1.551416e+12   1.518620e+12     NaN       NaN   \n1443     198285          140  1.551416e+12   1.536592e+12     NaN       NaN   \n1654     203561          191  1.562119e+12   1.530562e+12     NaN       NaN   \n...         ...          ...           ...            ...     ...       ...   \n44318    231071          398  1.577768e+12   1.571890e+12     NaN       NaN   \n44354    231104          398  1.577768e+12   1.571890e+12     NaN       NaN   \n44362    231112          398  1.577768e+12   1.571890e+12     NaN       NaN   \n44372    231121          399  1.596254e+12   1.527826e+12     NaN       NaN   \n44374    231123          399  1.596254e+12   1.527826e+12     NaN       NaN   \n\n            name_point                            description units  \\\n1302               NaN    UPCM-1 AH-1 Gallery_Supply Air Temp     F   \n1352               NaN             AH-1 Lobby_Supply Air Temp     F   \n1405               NaN  UPCM-2 AH-2 2nd Floor_Supply Air Temp     F   \n1443               NaN          AHU-2-6TH-FLR_Supply Air Temp     F   \n1654               NaN                     RTU-1 Front Supply     F   \n...                ...                                    ...   ...   \n44318              NaN                        AHU_27_02_SATmp     F   \n44354              NaN    CRAC-23-1_Discharge Air Temperature     F   \n44362              NaN     CRAC 5-1_Discharge Air Temperature     F   \n44372  AC_S1_DAT_value                        AC_S1_DAT_value     F   \n44374  AC_S2_DAT_value                        AC_S2_DAT_value     F   \n\n      tagged_units  ...  measurement_id                   datasource_hash  \\\n1302           NaN  ...               1  987bcb47ca9e78bea7aeca833cecef8b   \n1352           NaN  ...               1  f399cb123ef54820ca9de858f3fca923   \n1405           NaN  ...               1  4bb044197e0865b5aece28acbfd566d1   \n1443           NaN  ...               1  2a80e4185f7b244e78726e0911df7387   \n1654           NaN  ...               1  4b60eff756d5f4fdb378969a106d9bad   \n...            ...  ...             ...                               ...   \n44318          NaN  ...               1  d261378623a38bdc52e1972dc0b408a2   \n44354          NaN  ...               1  7e2b7c496f2959369a125070ee443bab   \n44362          NaN  ...               1  afc0b54922060467673b7e2fbb600ed9   \n44372            f  ...               1  2911795ee7842d6a496d517e3a89a248   \n44374            f  ...               1  7f1fdfdc2e8fedef51359bda0ea41558   \n\n                                                   topic  equip_id  id_bdg  \\\n1302   nyserda+0000083483+ahu1-gallery+UPCM-1 AH-1 Ga...     18092     140   \n1352   nyserda+0000083483+ahu1-lobby+AH-1 Lobby_Suppl...     18093     140   \n1405   nyserda+0000083483+ahu2-floor2+UPCM-2 AH-2 2nd...     18094     140   \n1443   nyserda+0000083483+ahu2-floor6+AHU-2-6TH-FLR_S...     18095     140   \n1654          nyserda+0000094414+rtu1+RTU-1 Front Supply     18921     191   \n...                                                  ...       ...     ...   \n44318        nyserda+0000109188+ahu27-02+AHU_27_02_SATmp     22738     398   \n44354  nyserda+0000109188+crac23-1+CRAC-23-1_Discharg...     22746     398   \n44362  nyserda+0000109188+crac5-1+CRAC 5-1_Discharge ...     22747     398   \n44372  nyserda+0000097151+ac-fan1-supply+AC_S1_DAT_value     32352     399   \n44374  nyserda+0000097151+ac-fan2-supply+AC_S2_DAT_value     32353     399   \n\n      name_bdg equip_type_abbr    equip_type_name  area_served_desc  \\\n1302     83483             AHU  Air Handling Unit               NaN   \n1352     83483             AHU  Air Handling Unit               NaN   \n1405     83483             AHU  Air Handling Unit               NaN   \n1443     83483             AHU  Air Handling Unit               NaN   \n1654     94414             AHU  Air Handling Unit               NaN   \n...        ...             ...                ...               ...   \n44318   109188             AHU  Air Handling Unit               NaN   \n44354   109188             AHU  Air Handling Unit               NaN   \n44362   109188             AHU  Air Handling Unit               NaN   \n44372    97151             AHU  Air Handling Unit               NaN   \n44374    97151             AHU  Air Handling Unit               NaN   \n\n                         tags  \n1302          ['ahu', 'hvac']  \n1352          ['ahu', 'hvac']  \n1405          ['ahu', 'hvac']  \n1443          ['ahu', 'hvac']  \n1654   ['ahu', 'hvac', 'rtu']  \n...                       ...  \n44318         ['ahu', 'hvac']  \n44354         ['ahu', 'hvac']  \n44362         ['ahu', 'hvac']  \n44372         ['ahu', 'hvac']  \n44374         ['ahu', 'hvac']  \n\n[663 rows x 24 columns]",
      "text/html": "<div>\n<style scoped>\n    .dataframe tbody tr th:only-of-type {\n        vertical-align: middle;\n    }\n\n    .dataframe tbody tr th {\n        vertical-align: top;\n    }\n\n    .dataframe thead th {\n        text-align: right;\n    }\n</style>\n<table border=\"1\" class=\"dataframe\">\n  <thead>\n    <tr style=\"text-align: right;\">\n      <th></th>\n      <th>id_point</th>\n      <th>building_id</th>\n      <th>last_updated</th>\n      <th>first_updated</th>\n      <th>device</th>\n      <th>objectId</th>\n      <th>name_point</th>\n      <th>description</th>\n      <th>units</th>\n      <th>tagged_units</th>\n      <th>...</th>\n      <th>measurement_id</th>\n      <th>datasource_hash</th>\n      <th>topic</th>\n      <th>equip_id</th>\n      <th>id_bdg</th>\n      <th>name_bdg</th>\n      <th>equip_type_abbr</th>\n      <th>equip_type_name</th>\n      <th>area_served_desc</th>\n      <th>tags</th>\n    </tr>\n  </thead>\n  <tbody>\n    <tr>\n      <th>1302</th>\n      <td>198159</td>\n      <td>140</td>\n      <td>1.551416e+12</td>\n      <td>1.518575e+12</td>\n      <td>NaN</td>\n      <td>NaN</td>\n      <td>NaN</td>\n      <td>UPCM-1 AH-1 Gallery_Supply Air Temp</td>\n      <td>F</td>\n      <td>NaN</td>\n      <td>...</td>\n      <td>1</td>\n      <td>987bcb47ca9e78bea7aeca833cecef8b</td>\n      <td>nyserda+0000083483+ahu1-gallery+UPCM-1 AH-1 Ga...</td>\n      <td>18092</td>\n      <td>140</td>\n      <td>83483</td>\n      <td>AHU</td>\n      <td>Air Handling Unit</td>\n      <td>NaN</td>\n      <td>['ahu', 'hvac']</td>\n    </tr>\n    <tr>\n      <th>1352</th>\n      <td>198197</td>\n      <td>140</td>\n      <td>1.551416e+12</td>\n      <td>1.509509e+12</td>\n      <td>NaN</td>\n      <td>NaN</td>\n      <td>NaN</td>\n      <td>AH-1 Lobby_Supply Air Temp</td>\n      <td>F</td>\n      <td>NaN</td>\n      <td>...</td>\n      <td>1</td>\n      <td>f399cb123ef54820ca9de858f3fca923</td>\n      <td>nyserda+0000083483+ahu1-lobby+AH-1 Lobby_Suppl...</td>\n      <td>18093</td>\n      <td>140</td>\n      <td>83483</td>\n      <td>AHU</td>\n      <td>Air Handling Unit</td>\n      <td>NaN</td>\n      <td>['ahu', 'hvac']</td>\n    </tr>\n    <tr>\n      <th>1405</th>\n      <td>198247</td>\n      <td>140</td>\n      <td>1.551416e+12</td>\n      <td>1.518620e+12</td>\n      <td>NaN</td>\n      <td>NaN</td>\n      <td>NaN</td>\n      <td>UPCM-2 AH-2 2nd Floor_Supply Air Temp</td>\n      <td>F</td>\n      <td>NaN</td>\n      <td>...</td>\n      <td>1</td>\n      <td>4bb044197e0865b5aece28acbfd566d1</td>\n      <td>nyserda+0000083483+ahu2-floor2+UPCM-2 AH-2 2nd...</td>\n      <td>18094</td>\n      <td>140</td>\n      <td>83483</td>\n      <td>AHU</td>\n      <td>Air Handling Unit</td>\n      <td>NaN</td>\n      <td>['ahu', 'hvac']</td>\n    </tr>\n    <tr>\n      <th>1443</th>\n      <td>198285</td>\n      <td>140</td>\n      <td>1.551416e+12</td>\n      <td>1.536592e+12</td>\n      <td>NaN</td>\n      <td>NaN</td>\n      <td>NaN</td>\n      <td>AHU-2-6TH-FLR_Supply Air Temp</td>\n      <td>F</td>\n      <td>NaN</td>\n      <td>...</td>\n      <td>1</td>\n      <td>2a80e4185f7b244e78726e0911df7387</td>\n      <td>nyserda+0000083483+ahu2-floor6+AHU-2-6TH-FLR_S...</td>\n      <td>18095</td>\n      <td>140</td>\n      <td>83483</td>\n      <td>AHU</td>\n      <td>Air Handling Unit</td>\n      <td>NaN</td>\n      <td>['ahu', 'hvac']</td>\n    </tr>\n    <tr>\n      <th>1654</th>\n      <td>203561</td>\n      <td>191</td>\n      <td>1.562119e+12</td>\n      <td>1.530562e+12</td>\n      <td>NaN</td>\n      <td>NaN</td>\n      <td>NaN</td>\n      <td>RTU-1 Front Supply</td>\n      <td>F</td>\n      <td>NaN</td>\n      <td>...</td>\n      <td>1</td>\n      <td>4b60eff756d5f4fdb378969a106d9bad</td>\n      <td>nyserda+0000094414+rtu1+RTU-1 Front Supply</td>\n      <td>18921</td>\n      <td>191</td>\n      <td>94414</td>\n      <td>AHU</td>\n      <td>Air Handling Unit</td>\n      <td>NaN</td>\n      <td>['ahu', 'hvac', 'rtu']</td>\n    </tr>\n    <tr>\n      <th>...</th>\n      <td>...</td>\n      <td>...</td>\n      <td>...</td>\n      <td>...</td>\n      <td>...</td>\n      <td>...</td>\n      <td>...</td>\n      <td>...</td>\n      <td>...</td>\n      <td>...</td>\n      <td>...</td>\n      <td>...</td>\n      <td>...</td>\n      <td>...</td>\n      <td>...</td>\n      <td>...</td>\n      <td>...</td>\n      <td>...</td>\n      <td>...</td>\n      <td>...</td>\n      <td>...</td>\n    </tr>\n    <tr>\n      <th>44318</th>\n      <td>231071</td>\n      <td>398</td>\n      <td>1.577768e+12</td>\n      <td>1.571890e+12</td>\n      <td>NaN</td>\n      <td>NaN</td>\n      <td>NaN</td>\n      <td>AHU_27_02_SATmp</td>\n      <td>F</td>\n      <td>NaN</td>\n      <td>...</td>\n      <td>1</td>\n      <td>d261378623a38bdc52e1972dc0b408a2</td>\n      <td>nyserda+0000109188+ahu27-02+AHU_27_02_SATmp</td>\n      <td>22738</td>\n      <td>398</td>\n      <td>109188</td>\n      <td>AHU</td>\n      <td>Air Handling Unit</td>\n      <td>NaN</td>\n      <td>['ahu', 'hvac']</td>\n    </tr>\n    <tr>\n      <th>44354</th>\n      <td>231104</td>\n      <td>398</td>\n      <td>1.577768e+12</td>\n      <td>1.571890e+12</td>\n      <td>NaN</td>\n      <td>NaN</td>\n      <td>NaN</td>\n      <td>CRAC-23-1_Discharge Air Temperature</td>\n      <td>F</td>\n      <td>NaN</td>\n      <td>...</td>\n      <td>1</td>\n      <td>7e2b7c496f2959369a125070ee443bab</td>\n      <td>nyserda+0000109188+crac23-1+CRAC-23-1_Discharg...</td>\n      <td>22746</td>\n      <td>398</td>\n      <td>109188</td>\n      <td>AHU</td>\n      <td>Air Handling Unit</td>\n      <td>NaN</td>\n      <td>['ahu', 'hvac']</td>\n    </tr>\n    <tr>\n      <th>44362</th>\n      <td>231112</td>\n      <td>398</td>\n      <td>1.577768e+12</td>\n      <td>1.571890e+12</td>\n      <td>NaN</td>\n      <td>NaN</td>\n      <td>NaN</td>\n      <td>CRAC 5-1_Discharge Air Temperature</td>\n      <td>F</td>\n      <td>NaN</td>\n      <td>...</td>\n      <td>1</td>\n      <td>afc0b54922060467673b7e2fbb600ed9</td>\n      <td>nyserda+0000109188+crac5-1+CRAC 5-1_Discharge ...</td>\n      <td>22747</td>\n      <td>398</td>\n      <td>109188</td>\n      <td>AHU</td>\n      <td>Air Handling Unit</td>\n      <td>NaN</td>\n      <td>['ahu', 'hvac']</td>\n    </tr>\n    <tr>\n      <th>44372</th>\n      <td>231121</td>\n      <td>399</td>\n      <td>1.596254e+12</td>\n      <td>1.527826e+12</td>\n      <td>NaN</td>\n      <td>NaN</td>\n      <td>AC_S1_DAT_value</td>\n      <td>AC_S1_DAT_value</td>\n      <td>F</td>\n      <td>f</td>\n      <td>...</td>\n      <td>1</td>\n      <td>2911795ee7842d6a496d517e3a89a248</td>\n      <td>nyserda+0000097151+ac-fan1-supply+AC_S1_DAT_value</td>\n      <td>32352</td>\n      <td>399</td>\n      <td>97151</td>\n      <td>AHU</td>\n      <td>Air Handling Unit</td>\n      <td>NaN</td>\n      <td>['ahu', 'hvac']</td>\n    </tr>\n    <tr>\n      <th>44374</th>\n      <td>231123</td>\n      <td>399</td>\n      <td>1.596254e+12</td>\n      <td>1.527826e+12</td>\n      <td>NaN</td>\n      <td>NaN</td>\n      <td>AC_S2_DAT_value</td>\n      <td>AC_S2_DAT_value</td>\n      <td>F</td>\n      <td>f</td>\n      <td>...</td>\n      <td>1</td>\n      <td>7f1fdfdc2e8fedef51359bda0ea41558</td>\n      <td>nyserda+0000097151+ac-fan2-supply+AC_S2_DAT_value</td>\n      <td>32353</td>\n      <td>399</td>\n      <td>97151</td>\n      <td>AHU</td>\n      <td>Air Handling Unit</td>\n      <td>NaN</td>\n      <td>['ahu', 'hvac']</td>\n    </tr>\n  </tbody>\n</table>\n<p>663 rows × 24 columns</p>\n</div>"
     },
     "execution_count": 31,
     "metadata": {},
     "output_type": "execute_result"
    }
   ],
   "source": [
    "ahu_sat_data = metadata[(metadata.type == \"Supply Air Temperature\")]\n",
    "ahu_sat_data"
   ]
  },
  {
   "cell_type": "code",
   "execution_count": 34,
   "outputs": [
    {
     "data": {
      "text/plain": "       id_point  building_id  last_updated  first_updated  device  objectId  \\\n1309     198149          140  1.551416e+12   1.536258e+12     NaN       NaN   \n1361     198188          140  1.551416e+12   1.509509e+12     NaN       NaN   \n1382     198237          140  1.551416e+12   1.536258e+12     NaN       NaN   \n1446     198277          140  1.551416e+12   1.536592e+12     NaN       NaN   \n1717     208322          248  1.585055e+12   1.581703e+12     NaN       NaN   \n...         ...          ...           ...            ...     ...       ...   \n44220    230982          398  1.577768e+12   1.554845e+12     NaN       NaN   \n44253    231012          398  1.577768e+12   1.554845e+12     NaN       NaN   \n44284    231043          398  1.577768e+12   1.554845e+12     NaN       NaN   \n44314    231060          398  1.577768e+12   1.572568e+12     NaN       NaN   \n44321    231070          398  1.577768e+12   1.572568e+12     NaN       NaN   \n\n      name_point                               description units tagged_units  \\\n1309         NaN       UPCM-1 AH-1 Gallery_Return Air Temp     F          NaN   \n1361         NaN                AH-1 Lobby_Return Air Temp     F          NaN   \n1382         NaN     UPCM-2 AH-2 2nd Floor_Return Air Temp     F          NaN   \n1446         NaN             AHU-2-6TH-FLR_Return Air Temp     F          NaN   \n1717         NaN  Mid Zone 1 Tank Return Temp Sensor_Value     F          NaN   \n...          ...                                       ...   ...          ...   \n44220        NaN                             AC-25-1_RaTmp     F          NaN   \n44253        NaN                              AC-4-1_RaTmp     F          NaN   \n44284        NaN                              AC-9-1_RaTmp     F          NaN   \n44314        NaN                           AHU_26_02_RATmp     F          NaN   \n44321        NaN                           AHU_27_02_RATmp     F          NaN   \n\n       ...  measurement_id                   datasource_hash  \\\n1309   ...               1  29a9514ea653ed9afbc43704e1230efd   \n1361   ...               1  4d7c35460b418684bd7545239e72876c   \n1382   ...               1  6b9e0ebbd36ba727bdeb4437b012b877   \n1446   ...               1  7ab8209ec890801c848af3ee4b601155   \n1717   ...               1  c82e7194c4eb3a129c08d26450b8ab3c   \n...    ...             ...                               ...   \n44220  ...               1  95c8e3cbbd6081be1f8cb78a8e60f330   \n44253  ...               1  7354b6fd64a4fac76eeb68382dee5a42   \n44284  ...               1  e78398b47be19242f5e1a90d1ba3f96a   \n44314  ...               1  bfffc10825012d93407e03a93fab5a77   \n44321  ...               1  00803ac45269e9c456ebaf9e121796a2   \n\n                                                   topic  equip_id  id_bdg  \\\n1309   nyserda+0000083483+ahu1-gallery+UPCM-1 AH-1 Ga...     18092     140   \n1361   nyserda+0000083483+ahu1-lobby+AH-1 Lobby_Retur...     18093     140   \n1382   nyserda+0000083483+ahu2-floor2+UPCM-2 AH-2 2nd...     18094     140   \n1446   nyserda+0000083483+ahu2-floor6+AHU-2-6TH-FLR_R...     18095     140   \n1717   nyserda+0000116742+Site-Sensor+Mid Zone 1 Tank...     19644     248   \n...                                                  ...       ...     ...   \n44220            nyserda+0000109188+ac25-1+AC-25-1_RaTmp     22734     398   \n44253              nyserda+0000109188+ac4-1+AC-4-1_RaTmp     22735     398   \n44284              nyserda+0000109188+ac9-1+AC-9-1_RaTmp     22736     398   \n44314        nyserda+0000109188+ahu26-02+AHU_26_02_RATmp     22737     398   \n44321        nyserda+0000109188+ahu27-02+AHU_27_02_RATmp     22738     398   \n\n      name_bdg equip_type_abbr    equip_type_name  area_served_desc  \\\n1309     83483             AHU  Air Handling Unit               NaN   \n1361     83483             AHU  Air Handling Unit               NaN   \n1382     83483             AHU  Air Handling Unit               NaN   \n1446     83483             AHU  Air Handling Unit               NaN   \n1717    116742            SITE       Site Sensors               NaN   \n...        ...             ...                ...               ...   \n44220   109188             AHU  Air Handling Unit               NaN   \n44253   109188             AHU  Air Handling Unit               NaN   \n44284   109188             AHU  Air Handling Unit               NaN   \n44314   109188             AHU  Air Handling Unit               NaN   \n44321   109188             AHU  Air Handling Unit               NaN   \n\n                  tags  \n1309   ['ahu', 'hvac']  \n1361   ['ahu', 'hvac']  \n1382   ['ahu', 'hvac']  \n1446   ['ahu', 'hvac']  \n1717          ['site']  \n...                ...  \n44220  ['ahu', 'hvac']  \n44253  ['ahu', 'hvac']  \n44284  ['ahu', 'hvac']  \n44314  ['ahu', 'hvac']  \n44321  ['ahu', 'hvac']  \n\n[474 rows x 24 columns]",
      "text/html": "<div>\n<style scoped>\n    .dataframe tbody tr th:only-of-type {\n        vertical-align: middle;\n    }\n\n    .dataframe tbody tr th {\n        vertical-align: top;\n    }\n\n    .dataframe thead th {\n        text-align: right;\n    }\n</style>\n<table border=\"1\" class=\"dataframe\">\n  <thead>\n    <tr style=\"text-align: right;\">\n      <th></th>\n      <th>id_point</th>\n      <th>building_id</th>\n      <th>last_updated</th>\n      <th>first_updated</th>\n      <th>device</th>\n      <th>objectId</th>\n      <th>name_point</th>\n      <th>description</th>\n      <th>units</th>\n      <th>tagged_units</th>\n      <th>...</th>\n      <th>measurement_id</th>\n      <th>datasource_hash</th>\n      <th>topic</th>\n      <th>equip_id</th>\n      <th>id_bdg</th>\n      <th>name_bdg</th>\n      <th>equip_type_abbr</th>\n      <th>equip_type_name</th>\n      <th>area_served_desc</th>\n      <th>tags</th>\n    </tr>\n  </thead>\n  <tbody>\n    <tr>\n      <th>1309</th>\n      <td>198149</td>\n      <td>140</td>\n      <td>1.551416e+12</td>\n      <td>1.536258e+12</td>\n      <td>NaN</td>\n      <td>NaN</td>\n      <td>NaN</td>\n      <td>UPCM-1 AH-1 Gallery_Return Air Temp</td>\n      <td>F</td>\n      <td>NaN</td>\n      <td>...</td>\n      <td>1</td>\n      <td>29a9514ea653ed9afbc43704e1230efd</td>\n      <td>nyserda+0000083483+ahu1-gallery+UPCM-1 AH-1 Ga...</td>\n      <td>18092</td>\n      <td>140</td>\n      <td>83483</td>\n      <td>AHU</td>\n      <td>Air Handling Unit</td>\n      <td>NaN</td>\n      <td>['ahu', 'hvac']</td>\n    </tr>\n    <tr>\n      <th>1361</th>\n      <td>198188</td>\n      <td>140</td>\n      <td>1.551416e+12</td>\n      <td>1.509509e+12</td>\n      <td>NaN</td>\n      <td>NaN</td>\n      <td>NaN</td>\n      <td>AH-1 Lobby_Return Air Temp</td>\n      <td>F</td>\n      <td>NaN</td>\n      <td>...</td>\n      <td>1</td>\n      <td>4d7c35460b418684bd7545239e72876c</td>\n      <td>nyserda+0000083483+ahu1-lobby+AH-1 Lobby_Retur...</td>\n      <td>18093</td>\n      <td>140</td>\n      <td>83483</td>\n      <td>AHU</td>\n      <td>Air Handling Unit</td>\n      <td>NaN</td>\n      <td>['ahu', 'hvac']</td>\n    </tr>\n    <tr>\n      <th>1382</th>\n      <td>198237</td>\n      <td>140</td>\n      <td>1.551416e+12</td>\n      <td>1.536258e+12</td>\n      <td>NaN</td>\n      <td>NaN</td>\n      <td>NaN</td>\n      <td>UPCM-2 AH-2 2nd Floor_Return Air Temp</td>\n      <td>F</td>\n      <td>NaN</td>\n      <td>...</td>\n      <td>1</td>\n      <td>6b9e0ebbd36ba727bdeb4437b012b877</td>\n      <td>nyserda+0000083483+ahu2-floor2+UPCM-2 AH-2 2nd...</td>\n      <td>18094</td>\n      <td>140</td>\n      <td>83483</td>\n      <td>AHU</td>\n      <td>Air Handling Unit</td>\n      <td>NaN</td>\n      <td>['ahu', 'hvac']</td>\n    </tr>\n    <tr>\n      <th>1446</th>\n      <td>198277</td>\n      <td>140</td>\n      <td>1.551416e+12</td>\n      <td>1.536592e+12</td>\n      <td>NaN</td>\n      <td>NaN</td>\n      <td>NaN</td>\n      <td>AHU-2-6TH-FLR_Return Air Temp</td>\n      <td>F</td>\n      <td>NaN</td>\n      <td>...</td>\n      <td>1</td>\n      <td>7ab8209ec890801c848af3ee4b601155</td>\n      <td>nyserda+0000083483+ahu2-floor6+AHU-2-6TH-FLR_R...</td>\n      <td>18095</td>\n      <td>140</td>\n      <td>83483</td>\n      <td>AHU</td>\n      <td>Air Handling Unit</td>\n      <td>NaN</td>\n      <td>['ahu', 'hvac']</td>\n    </tr>\n    <tr>\n      <th>1717</th>\n      <td>208322</td>\n      <td>248</td>\n      <td>1.585055e+12</td>\n      <td>1.581703e+12</td>\n      <td>NaN</td>\n      <td>NaN</td>\n      <td>NaN</td>\n      <td>Mid Zone 1 Tank Return Temp Sensor_Value</td>\n      <td>F</td>\n      <td>NaN</td>\n      <td>...</td>\n      <td>1</td>\n      <td>c82e7194c4eb3a129c08d26450b8ab3c</td>\n      <td>nyserda+0000116742+Site-Sensor+Mid Zone 1 Tank...</td>\n      <td>19644</td>\n      <td>248</td>\n      <td>116742</td>\n      <td>SITE</td>\n      <td>Site Sensors</td>\n      <td>NaN</td>\n      <td>['site']</td>\n    </tr>\n    <tr>\n      <th>...</th>\n      <td>...</td>\n      <td>...</td>\n      <td>...</td>\n      <td>...</td>\n      <td>...</td>\n      <td>...</td>\n      <td>...</td>\n      <td>...</td>\n      <td>...</td>\n      <td>...</td>\n      <td>...</td>\n      <td>...</td>\n      <td>...</td>\n      <td>...</td>\n      <td>...</td>\n      <td>...</td>\n      <td>...</td>\n      <td>...</td>\n      <td>...</td>\n      <td>...</td>\n      <td>...</td>\n    </tr>\n    <tr>\n      <th>44220</th>\n      <td>230982</td>\n      <td>398</td>\n      <td>1.577768e+12</td>\n      <td>1.554845e+12</td>\n      <td>NaN</td>\n      <td>NaN</td>\n      <td>NaN</td>\n      <td>AC-25-1_RaTmp</td>\n      <td>F</td>\n      <td>NaN</td>\n      <td>...</td>\n      <td>1</td>\n      <td>95c8e3cbbd6081be1f8cb78a8e60f330</td>\n      <td>nyserda+0000109188+ac25-1+AC-25-1_RaTmp</td>\n      <td>22734</td>\n      <td>398</td>\n      <td>109188</td>\n      <td>AHU</td>\n      <td>Air Handling Unit</td>\n      <td>NaN</td>\n      <td>['ahu', 'hvac']</td>\n    </tr>\n    <tr>\n      <th>44253</th>\n      <td>231012</td>\n      <td>398</td>\n      <td>1.577768e+12</td>\n      <td>1.554845e+12</td>\n      <td>NaN</td>\n      <td>NaN</td>\n      <td>NaN</td>\n      <td>AC-4-1_RaTmp</td>\n      <td>F</td>\n      <td>NaN</td>\n      <td>...</td>\n      <td>1</td>\n      <td>7354b6fd64a4fac76eeb68382dee5a42</td>\n      <td>nyserda+0000109188+ac4-1+AC-4-1_RaTmp</td>\n      <td>22735</td>\n      <td>398</td>\n      <td>109188</td>\n      <td>AHU</td>\n      <td>Air Handling Unit</td>\n      <td>NaN</td>\n      <td>['ahu', 'hvac']</td>\n    </tr>\n    <tr>\n      <th>44284</th>\n      <td>231043</td>\n      <td>398</td>\n      <td>1.577768e+12</td>\n      <td>1.554845e+12</td>\n      <td>NaN</td>\n      <td>NaN</td>\n      <td>NaN</td>\n      <td>AC-9-1_RaTmp</td>\n      <td>F</td>\n      <td>NaN</td>\n      <td>...</td>\n      <td>1</td>\n      <td>e78398b47be19242f5e1a90d1ba3f96a</td>\n      <td>nyserda+0000109188+ac9-1+AC-9-1_RaTmp</td>\n      <td>22736</td>\n      <td>398</td>\n      <td>109188</td>\n      <td>AHU</td>\n      <td>Air Handling Unit</td>\n      <td>NaN</td>\n      <td>['ahu', 'hvac']</td>\n    </tr>\n    <tr>\n      <th>44314</th>\n      <td>231060</td>\n      <td>398</td>\n      <td>1.577768e+12</td>\n      <td>1.572568e+12</td>\n      <td>NaN</td>\n      <td>NaN</td>\n      <td>NaN</td>\n      <td>AHU_26_02_RATmp</td>\n      <td>F</td>\n      <td>NaN</td>\n      <td>...</td>\n      <td>1</td>\n      <td>bfffc10825012d93407e03a93fab5a77</td>\n      <td>nyserda+0000109188+ahu26-02+AHU_26_02_RATmp</td>\n      <td>22737</td>\n      <td>398</td>\n      <td>109188</td>\n      <td>AHU</td>\n      <td>Air Handling Unit</td>\n      <td>NaN</td>\n      <td>['ahu', 'hvac']</td>\n    </tr>\n    <tr>\n      <th>44321</th>\n      <td>231070</td>\n      <td>398</td>\n      <td>1.577768e+12</td>\n      <td>1.572568e+12</td>\n      <td>NaN</td>\n      <td>NaN</td>\n      <td>NaN</td>\n      <td>AHU_27_02_RATmp</td>\n      <td>F</td>\n      <td>NaN</td>\n      <td>...</td>\n      <td>1</td>\n      <td>00803ac45269e9c456ebaf9e121796a2</td>\n      <td>nyserda+0000109188+ahu27-02+AHU_27_02_RATmp</td>\n      <td>22738</td>\n      <td>398</td>\n      <td>109188</td>\n      <td>AHU</td>\n      <td>Air Handling Unit</td>\n      <td>NaN</td>\n      <td>['ahu', 'hvac']</td>\n    </tr>\n  </tbody>\n</table>\n<p>474 rows × 24 columns</p>\n</div>"
     },
     "execution_count": 34,
     "metadata": {},
     "output_type": "execute_result"
    }
   ],
   "source": [
    "ahu_rat_data = metadata[(metadata.type == \"Return Air Temperature\")]\n",
    "ahu_rat_data"
   ],
   "metadata": {
    "collapsed": false,
    "pycharm": {
     "name": "#%%\n"
    }
   }
  },
  {
   "cell_type": "code",
   "execution_count": 35,
   "outputs": [
    {
     "data": {
      "text/plain": "       id_point  building_id  last_updated  first_updated  device  objectId  \\\n362      310273          441  1.603907e+12   1.588306e+12     NaN       NaN   \n981      310902          441  1.609476e+12   1.570381e+12     NaN       NaN   \n982      310903          441  1.609476e+12   1.570403e+12     NaN       NaN   \n1313     198145          140  1.551416e+12   1.509509e+12     NaN       NaN   \n1325     198135          140  1.551416e+12   1.509509e+12     NaN       NaN   \n...         ...          ...           ...            ...     ...       ...   \n44192    230936          398  1.577768e+12   1.571951e+12     NaN       NaN   \n44196    230960          398  1.577768e+12   1.554932e+12     NaN       NaN   \n44241    230976          398  1.577768e+12   1.554932e+12     NaN       NaN   \n44272    231006          398  1.577768e+12   1.554932e+12     NaN       NaN   \n44289    231037          398  1.577768e+12   1.554932e+12     NaN       NaN   \n\n                                              name_point  \\\n362    225 E 149th St. Controller [Tekmar 284] Outdoo...   \n981    245 E 149th St. Controller [Tekmar 284] BAS Ou...   \n982    245 E 149th St. Controller [Tekmar 284] Outdoo...   \n1313                                                 NaN   \n1325                                                 NaN   \n...                                                  ...   \n44192                                                NaN   \n44196                                                NaN   \n44241                                                NaN   \n44272                                                NaN   \n44289                                                NaN   \n\n                                         description units tagged_units  ...  \\\n362                                              NaN     F            f  ...   \n981                                              NaN     F            f  ...   \n982                                              NaN     F            f  ...   \n1313            UPCM-1 AH-1 Gallery_Outdoor Air Temp     F          NaN  ...   \n1325   UPCM-1 AH-1 Gallery_OA Temp (Reference value)     F          NaN  ...   \n...                                              ...   ...          ...  ...   \n44192            Outdoor Conditions (CRAC 5-1)_OaTmp     F          NaN  ...   \n44196                                  AC-12-4_OaTmp     F          NaN  ...   \n44241                                  AC-25-1_OaTmp     F          NaN  ...   \n44272                                   AC-4-1_OaTmp     F          NaN  ...   \n44289                                   AC-9-1_OaTmp     F          NaN  ...   \n\n       measurement_id                   datasource_hash  \\\n362                 1  a4657d74835d29be77eae1b80865ef3c   \n981                 1  04bc1a21b80440e5d67e05569c010a1c   \n982                 1  2278e1c5c7803bbafe675cd9219e67eb   \n1313                1  d4f8e8a9f1eebcf2ea5c08a68096aee0   \n1325                1  10bd646990542556aa86d3a9236a128e   \n...               ...                               ...   \n44192               1  54fa4adcf5c857b6e4279594fb24263b   \n44196               1  42c03637a3e2efa6703f514f66954564   \n44241               1  18896da3dc788a9de84f2c5e9bcfb49a   \n44272               1  bb8550c34feb8bfd3baa72726bc77e2d   \n44289               1  4bbf038bd272bb068799072af9e7a03e   \n\n                                                   topic  equip_id  id_bdg  \\\n362    nyserda+0000088737+site-Sensor+225 E 149th St....     28813     441   \n981    nyserda+0000088737+site-Sensor+245 E 149th St....     28813     441   \n982    nyserda+0000088737+site-Sensor+245 E 149th St....     28813     441   \n1313   nyserda+0000083483+ahu1-gallery+UPCM-1 AH-1 Ga...     18092     140   \n1325   nyserda+0000083483+ahu1-gallery+UPCM-1 AH-1 Ga...     18092     140   \n...                                                  ...       ...     ...   \n44192  nyserda+0000109188+Site-Sensor+Outdoor Conditi...     22732     398   \n44196            nyserda+0000109188+ac12-4+AC-12-4_OaTmp     22733     398   \n44241            nyserda+0000109188+ac25-1+AC-25-1_OaTmp     22734     398   \n44272              nyserda+0000109188+ac4-1+AC-4-1_OaTmp     22735     398   \n44289              nyserda+0000109188+ac9-1+AC-9-1_OaTmp     22736     398   \n\n      name_bdg equip_type_abbr    equip_type_name  area_served_desc  \\\n362      88737            SITE       Site Sensors               NaN   \n981      88737            SITE       Site Sensors               NaN   \n982      88737            SITE       Site Sensors               NaN   \n1313     83483             AHU  Air Handling Unit               NaN   \n1325     83483             AHU  Air Handling Unit               NaN   \n...        ...             ...                ...               ...   \n44192   109188            SITE       Site Sensors               NaN   \n44196   109188             AHU  Air Handling Unit               NaN   \n44241   109188             AHU  Air Handling Unit               NaN   \n44272   109188             AHU  Air Handling Unit               NaN   \n44289   109188             AHU  Air Handling Unit               NaN   \n\n                  tags  \n362           ['site']  \n981           ['site']  \n982           ['site']  \n1313   ['ahu', 'hvac']  \n1325   ['ahu', 'hvac']  \n...                ...  \n44192         ['site']  \n44196  ['ahu', 'hvac']  \n44241  ['ahu', 'hvac']  \n44272  ['ahu', 'hvac']  \n44289  ['ahu', 'hvac']  \n\n[797 rows x 24 columns]",
      "text/html": "<div>\n<style scoped>\n    .dataframe tbody tr th:only-of-type {\n        vertical-align: middle;\n    }\n\n    .dataframe tbody tr th {\n        vertical-align: top;\n    }\n\n    .dataframe thead th {\n        text-align: right;\n    }\n</style>\n<table border=\"1\" class=\"dataframe\">\n  <thead>\n    <tr style=\"text-align: right;\">\n      <th></th>\n      <th>id_point</th>\n      <th>building_id</th>\n      <th>last_updated</th>\n      <th>first_updated</th>\n      <th>device</th>\n      <th>objectId</th>\n      <th>name_point</th>\n      <th>description</th>\n      <th>units</th>\n      <th>tagged_units</th>\n      <th>...</th>\n      <th>measurement_id</th>\n      <th>datasource_hash</th>\n      <th>topic</th>\n      <th>equip_id</th>\n      <th>id_bdg</th>\n      <th>name_bdg</th>\n      <th>equip_type_abbr</th>\n      <th>equip_type_name</th>\n      <th>area_served_desc</th>\n      <th>tags</th>\n    </tr>\n  </thead>\n  <tbody>\n    <tr>\n      <th>362</th>\n      <td>310273</td>\n      <td>441</td>\n      <td>1.603907e+12</td>\n      <td>1.588306e+12</td>\n      <td>NaN</td>\n      <td>NaN</td>\n      <td>225 E 149th St. Controller [Tekmar 284] Outdoo...</td>\n      <td>NaN</td>\n      <td>F</td>\n      <td>f</td>\n      <td>...</td>\n      <td>1</td>\n      <td>a4657d74835d29be77eae1b80865ef3c</td>\n      <td>nyserda+0000088737+site-Sensor+225 E 149th St....</td>\n      <td>28813</td>\n      <td>441</td>\n      <td>88737</td>\n      <td>SITE</td>\n      <td>Site Sensors</td>\n      <td>NaN</td>\n      <td>['site']</td>\n    </tr>\n    <tr>\n      <th>981</th>\n      <td>310902</td>\n      <td>441</td>\n      <td>1.609476e+12</td>\n      <td>1.570381e+12</td>\n      <td>NaN</td>\n      <td>NaN</td>\n      <td>245 E 149th St. Controller [Tekmar 284] BAS Ou...</td>\n      <td>NaN</td>\n      <td>F</td>\n      <td>f</td>\n      <td>...</td>\n      <td>1</td>\n      <td>04bc1a21b80440e5d67e05569c010a1c</td>\n      <td>nyserda+0000088737+site-Sensor+245 E 149th St....</td>\n      <td>28813</td>\n      <td>441</td>\n      <td>88737</td>\n      <td>SITE</td>\n      <td>Site Sensors</td>\n      <td>NaN</td>\n      <td>['site']</td>\n    </tr>\n    <tr>\n      <th>982</th>\n      <td>310903</td>\n      <td>441</td>\n      <td>1.609476e+12</td>\n      <td>1.570403e+12</td>\n      <td>NaN</td>\n      <td>NaN</td>\n      <td>245 E 149th St. Controller [Tekmar 284] Outdoo...</td>\n      <td>NaN</td>\n      <td>F</td>\n      <td>f</td>\n      <td>...</td>\n      <td>1</td>\n      <td>2278e1c5c7803bbafe675cd9219e67eb</td>\n      <td>nyserda+0000088737+site-Sensor+245 E 149th St....</td>\n      <td>28813</td>\n      <td>441</td>\n      <td>88737</td>\n      <td>SITE</td>\n      <td>Site Sensors</td>\n      <td>NaN</td>\n      <td>['site']</td>\n    </tr>\n    <tr>\n      <th>1313</th>\n      <td>198145</td>\n      <td>140</td>\n      <td>1.551416e+12</td>\n      <td>1.509509e+12</td>\n      <td>NaN</td>\n      <td>NaN</td>\n      <td>NaN</td>\n      <td>UPCM-1 AH-1 Gallery_Outdoor Air Temp</td>\n      <td>F</td>\n      <td>NaN</td>\n      <td>...</td>\n      <td>1</td>\n      <td>d4f8e8a9f1eebcf2ea5c08a68096aee0</td>\n      <td>nyserda+0000083483+ahu1-gallery+UPCM-1 AH-1 Ga...</td>\n      <td>18092</td>\n      <td>140</td>\n      <td>83483</td>\n      <td>AHU</td>\n      <td>Air Handling Unit</td>\n      <td>NaN</td>\n      <td>['ahu', 'hvac']</td>\n    </tr>\n    <tr>\n      <th>1325</th>\n      <td>198135</td>\n      <td>140</td>\n      <td>1.551416e+12</td>\n      <td>1.509509e+12</td>\n      <td>NaN</td>\n      <td>NaN</td>\n      <td>NaN</td>\n      <td>UPCM-1 AH-1 Gallery_OA Temp (Reference value)</td>\n      <td>F</td>\n      <td>NaN</td>\n      <td>...</td>\n      <td>1</td>\n      <td>10bd646990542556aa86d3a9236a128e</td>\n      <td>nyserda+0000083483+ahu1-gallery+UPCM-1 AH-1 Ga...</td>\n      <td>18092</td>\n      <td>140</td>\n      <td>83483</td>\n      <td>AHU</td>\n      <td>Air Handling Unit</td>\n      <td>NaN</td>\n      <td>['ahu', 'hvac']</td>\n    </tr>\n    <tr>\n      <th>...</th>\n      <td>...</td>\n      <td>...</td>\n      <td>...</td>\n      <td>...</td>\n      <td>...</td>\n      <td>...</td>\n      <td>...</td>\n      <td>...</td>\n      <td>...</td>\n      <td>...</td>\n      <td>...</td>\n      <td>...</td>\n      <td>...</td>\n      <td>...</td>\n      <td>...</td>\n      <td>...</td>\n      <td>...</td>\n      <td>...</td>\n      <td>...</td>\n      <td>...</td>\n      <td>...</td>\n    </tr>\n    <tr>\n      <th>44192</th>\n      <td>230936</td>\n      <td>398</td>\n      <td>1.577768e+12</td>\n      <td>1.571951e+12</td>\n      <td>NaN</td>\n      <td>NaN</td>\n      <td>NaN</td>\n      <td>Outdoor Conditions (CRAC 5-1)_OaTmp</td>\n      <td>F</td>\n      <td>NaN</td>\n      <td>...</td>\n      <td>1</td>\n      <td>54fa4adcf5c857b6e4279594fb24263b</td>\n      <td>nyserda+0000109188+Site-Sensor+Outdoor Conditi...</td>\n      <td>22732</td>\n      <td>398</td>\n      <td>109188</td>\n      <td>SITE</td>\n      <td>Site Sensors</td>\n      <td>NaN</td>\n      <td>['site']</td>\n    </tr>\n    <tr>\n      <th>44196</th>\n      <td>230960</td>\n      <td>398</td>\n      <td>1.577768e+12</td>\n      <td>1.554932e+12</td>\n      <td>NaN</td>\n      <td>NaN</td>\n      <td>NaN</td>\n      <td>AC-12-4_OaTmp</td>\n      <td>F</td>\n      <td>NaN</td>\n      <td>...</td>\n      <td>1</td>\n      <td>42c03637a3e2efa6703f514f66954564</td>\n      <td>nyserda+0000109188+ac12-4+AC-12-4_OaTmp</td>\n      <td>22733</td>\n      <td>398</td>\n      <td>109188</td>\n      <td>AHU</td>\n      <td>Air Handling Unit</td>\n      <td>NaN</td>\n      <td>['ahu', 'hvac']</td>\n    </tr>\n    <tr>\n      <th>44241</th>\n      <td>230976</td>\n      <td>398</td>\n      <td>1.577768e+12</td>\n      <td>1.554932e+12</td>\n      <td>NaN</td>\n      <td>NaN</td>\n      <td>NaN</td>\n      <td>AC-25-1_OaTmp</td>\n      <td>F</td>\n      <td>NaN</td>\n      <td>...</td>\n      <td>1</td>\n      <td>18896da3dc788a9de84f2c5e9bcfb49a</td>\n      <td>nyserda+0000109188+ac25-1+AC-25-1_OaTmp</td>\n      <td>22734</td>\n      <td>398</td>\n      <td>109188</td>\n      <td>AHU</td>\n      <td>Air Handling Unit</td>\n      <td>NaN</td>\n      <td>['ahu', 'hvac']</td>\n    </tr>\n    <tr>\n      <th>44272</th>\n      <td>231006</td>\n      <td>398</td>\n      <td>1.577768e+12</td>\n      <td>1.554932e+12</td>\n      <td>NaN</td>\n      <td>NaN</td>\n      <td>NaN</td>\n      <td>AC-4-1_OaTmp</td>\n      <td>F</td>\n      <td>NaN</td>\n      <td>...</td>\n      <td>1</td>\n      <td>bb8550c34feb8bfd3baa72726bc77e2d</td>\n      <td>nyserda+0000109188+ac4-1+AC-4-1_OaTmp</td>\n      <td>22735</td>\n      <td>398</td>\n      <td>109188</td>\n      <td>AHU</td>\n      <td>Air Handling Unit</td>\n      <td>NaN</td>\n      <td>['ahu', 'hvac']</td>\n    </tr>\n    <tr>\n      <th>44289</th>\n      <td>231037</td>\n      <td>398</td>\n      <td>1.577768e+12</td>\n      <td>1.554932e+12</td>\n      <td>NaN</td>\n      <td>NaN</td>\n      <td>NaN</td>\n      <td>AC-9-1_OaTmp</td>\n      <td>F</td>\n      <td>NaN</td>\n      <td>...</td>\n      <td>1</td>\n      <td>4bbf038bd272bb068799072af9e7a03e</td>\n      <td>nyserda+0000109188+ac9-1+AC-9-1_OaTmp</td>\n      <td>22736</td>\n      <td>398</td>\n      <td>109188</td>\n      <td>AHU</td>\n      <td>Air Handling Unit</td>\n      <td>NaN</td>\n      <td>['ahu', 'hvac']</td>\n    </tr>\n  </tbody>\n</table>\n<p>797 rows × 24 columns</p>\n</div>"
     },
     "execution_count": 35,
     "metadata": {},
     "output_type": "execute_result"
    }
   ],
   "source": [
    "ahu_oat_data = metadata[(metadata.type == \"Outside Air Temperature\")]\n",
    "ahu_oat_data"
   ],
   "metadata": {
    "collapsed": false,
    "pycharm": {
     "name": "#%%\n"
    }
   }
  },
  {
   "cell_type": "code",
   "execution_count": 36,
   "id": "9a971172",
   "metadata": {},
   "outputs": [],
   "source": [
    "shared_sat_mat_data = pd.merge(ahu_rat_data,ahu_oat_data, on = \"equip_id\")"
   ]
  },
  {
   "cell_type": "code",
   "execution_count": 89,
   "outputs": [],
   "source": [
    "from functools import reduce"
   ],
   "metadata": {
    "collapsed": false,
    "pycharm": {
     "name": "#%%\n"
    }
   }
  },
  {
   "cell_type": "code",
   "execution_count": 90,
   "outputs": [],
   "source": [
    "data_frames = [ahu_rat_data,ahu_oat_data, ahu_mat_data]"
   ],
   "metadata": {
    "collapsed": false,
    "pycharm": {
     "name": "#%%\n"
    }
   }
  },
  {
   "cell_type": "code",
   "execution_count": 91,
   "outputs": [],
   "source": [
    "df_merged = reduce(lambda  left,right: pd.merge(left,right,on=['equip_id'],\n",
    "                                            how='outer'), data_frames)"
   ],
   "metadata": {
    "collapsed": false,
    "pycharm": {
     "name": "#%%\n"
    }
   }
  },
  {
   "cell_type": "code",
   "execution_count": 37,
   "id": "9dae99f3",
   "metadata": {},
   "outputs": [
    {
     "data": {
      "text/plain": "     id_point_x  building_id_x  last_updated_x  first_updated_x  device_x  \\\n0        198149            140    1.551416e+12     1.536258e+12       NaN   \n1        198149            140    1.551416e+12     1.536258e+12       NaN   \n2        198188            140    1.551416e+12     1.509509e+12       NaN   \n3        198237            140    1.551416e+12     1.536258e+12       NaN   \n4        198237            140    1.551416e+12     1.536258e+12       NaN   \n..          ...            ...             ...              ...       ...   \n205      228160            383    1.528170e+12     1.526875e+12       NaN   \n206      228160            383    1.528170e+12     1.526875e+12       NaN   \n207      230982            398    1.577768e+12     1.554845e+12       NaN   \n208      231012            398    1.577768e+12     1.554845e+12       NaN   \n209      231043            398    1.577768e+12     1.554845e+12       NaN   \n\n     objectId_x name_point_x                            description_x units_x  \\\n0           NaN          NaN      UPCM-1 AH-1 Gallery_Return Air Temp       F   \n1           NaN          NaN      UPCM-1 AH-1 Gallery_Return Air Temp       F   \n2           NaN          NaN               AH-1 Lobby_Return Air Temp       F   \n3           NaN          NaN    UPCM-2 AH-2 2nd Floor_Return Air Temp       F   \n4           NaN          NaN    UPCM-2 AH-2 2nd Floor_Return Air Temp       F   \n..          ...          ...                                      ...     ...   \n205         NaN          NaN  AHU-1 (COOLING COIL #2)_Return Air Temp       F   \n206         NaN          NaN  AHU-1 (COOLING COIL #2)_Return Air Temp       F   \n207         NaN          NaN                            AC-25-1_RaTmp       F   \n208         NaN          NaN                             AC-4-1_RaTmp       F   \n209         NaN          NaN                             AC-9-1_RaTmp       F   \n\n    tagged_units_x  ...  point_type_id_y measurement_id_y  \\\n0              NaN  ...               76                1   \n1              NaN  ...               76                1   \n2              NaN  ...               76                1   \n3              NaN  ...               76                1   \n4              NaN  ...               76                1   \n..             ...  ...              ...              ...   \n205            NaN  ...               76                1   \n206            NaN  ...               76                1   \n207            NaN  ...               76                1   \n208            NaN  ...               76                1   \n209            NaN  ...               76                1   \n\n                    datasource_hash_y  \\\n0    d4f8e8a9f1eebcf2ea5c08a68096aee0   \n1    10bd646990542556aa86d3a9236a128e   \n2    21615a28c7a99344f59571bd65b9eaca   \n3    82fd8b24d7f37657c33d17d2eb362b9c   \n4    c26204f12acb843e13f3f98b98edb4ea   \n..                                ...   \n205  37bcd12a797cb90e30bf3988bd038ccd   \n206  2f62885709fc9bc33249b1af94999eaa   \n207  18896da3dc788a9de84f2c5e9bcfb49a   \n208  bb8550c34feb8bfd3baa72726bc77e2d   \n209  4bbf038bd272bb068799072af9e7a03e   \n\n                                               topic_y  id_bdg_y name_bdg_y  \\\n0    nyserda+0000083483+ahu1-gallery+UPCM-1 AH-1 Ga...       140      83483   \n1    nyserda+0000083483+ahu1-gallery+UPCM-1 AH-1 Ga...       140      83483   \n2    nyserda+0000083483+ahu1-lobby+AH-1 Lobby_OA Te...       140      83483   \n3    nyserda+0000083483+ahu2-floor2+UPCM-2 AH-2 2nd...       140      83483   \n4    nyserda+0000083483+ahu2-floor2+UPCM-2 AH-2 2nd...       140      83483   \n..                                                 ...       ...        ...   \n205  nyserda+0000079528+ahu1+AHU-1 (COOLING COIL #1...       383      79528   \n206  nyserda+0000079528+ahu1+AHU-1 (COOLING COIL #1...       383      79528   \n207            nyserda+0000109188+ac25-1+AC-25-1_OaTmp       398     109188   \n208              nyserda+0000109188+ac4-1+AC-4-1_OaTmp       398     109188   \n209              nyserda+0000109188+ac9-1+AC-9-1_OaTmp       398     109188   \n\n    equip_type_abbr_y  equip_type_name_y  area_served_desc_y           tags_y  \n0                 AHU  Air Handling Unit                 NaN  ['ahu', 'hvac']  \n1                 AHU  Air Handling Unit                 NaN  ['ahu', 'hvac']  \n2                 AHU  Air Handling Unit                 NaN  ['ahu', 'hvac']  \n3                 AHU  Air Handling Unit                 NaN  ['ahu', 'hvac']  \n4                 AHU  Air Handling Unit                 NaN  ['ahu', 'hvac']  \n..                ...                ...                 ...              ...  \n205               AHU  Air Handling Unit                 NaN  ['ahu', 'hvac']  \n206               AHU  Air Handling Unit                 NaN  ['ahu', 'hvac']  \n207               AHU  Air Handling Unit                 NaN  ['ahu', 'hvac']  \n208               AHU  Air Handling Unit                 NaN  ['ahu', 'hvac']  \n209               AHU  Air Handling Unit                 NaN  ['ahu', 'hvac']  \n\n[210 rows x 47 columns]",
      "text/html": "<div>\n<style scoped>\n    .dataframe tbody tr th:only-of-type {\n        vertical-align: middle;\n    }\n\n    .dataframe tbody tr th {\n        vertical-align: top;\n    }\n\n    .dataframe thead th {\n        text-align: right;\n    }\n</style>\n<table border=\"1\" class=\"dataframe\">\n  <thead>\n    <tr style=\"text-align: right;\">\n      <th></th>\n      <th>id_point_x</th>\n      <th>building_id_x</th>\n      <th>last_updated_x</th>\n      <th>first_updated_x</th>\n      <th>device_x</th>\n      <th>objectId_x</th>\n      <th>name_point_x</th>\n      <th>description_x</th>\n      <th>units_x</th>\n      <th>tagged_units_x</th>\n      <th>...</th>\n      <th>point_type_id_y</th>\n      <th>measurement_id_y</th>\n      <th>datasource_hash_y</th>\n      <th>topic_y</th>\n      <th>id_bdg_y</th>\n      <th>name_bdg_y</th>\n      <th>equip_type_abbr_y</th>\n      <th>equip_type_name_y</th>\n      <th>area_served_desc_y</th>\n      <th>tags_y</th>\n    </tr>\n  </thead>\n  <tbody>\n    <tr>\n      <th>0</th>\n      <td>198149</td>\n      <td>140</td>\n      <td>1.551416e+12</td>\n      <td>1.536258e+12</td>\n      <td>NaN</td>\n      <td>NaN</td>\n      <td>NaN</td>\n      <td>UPCM-1 AH-1 Gallery_Return Air Temp</td>\n      <td>F</td>\n      <td>NaN</td>\n      <td>...</td>\n      <td>76</td>\n      <td>1</td>\n      <td>d4f8e8a9f1eebcf2ea5c08a68096aee0</td>\n      <td>nyserda+0000083483+ahu1-gallery+UPCM-1 AH-1 Ga...</td>\n      <td>140</td>\n      <td>83483</td>\n      <td>AHU</td>\n      <td>Air Handling Unit</td>\n      <td>NaN</td>\n      <td>['ahu', 'hvac']</td>\n    </tr>\n    <tr>\n      <th>1</th>\n      <td>198149</td>\n      <td>140</td>\n      <td>1.551416e+12</td>\n      <td>1.536258e+12</td>\n      <td>NaN</td>\n      <td>NaN</td>\n      <td>NaN</td>\n      <td>UPCM-1 AH-1 Gallery_Return Air Temp</td>\n      <td>F</td>\n      <td>NaN</td>\n      <td>...</td>\n      <td>76</td>\n      <td>1</td>\n      <td>10bd646990542556aa86d3a9236a128e</td>\n      <td>nyserda+0000083483+ahu1-gallery+UPCM-1 AH-1 Ga...</td>\n      <td>140</td>\n      <td>83483</td>\n      <td>AHU</td>\n      <td>Air Handling Unit</td>\n      <td>NaN</td>\n      <td>['ahu', 'hvac']</td>\n    </tr>\n    <tr>\n      <th>2</th>\n      <td>198188</td>\n      <td>140</td>\n      <td>1.551416e+12</td>\n      <td>1.509509e+12</td>\n      <td>NaN</td>\n      <td>NaN</td>\n      <td>NaN</td>\n      <td>AH-1 Lobby_Return Air Temp</td>\n      <td>F</td>\n      <td>NaN</td>\n      <td>...</td>\n      <td>76</td>\n      <td>1</td>\n      <td>21615a28c7a99344f59571bd65b9eaca</td>\n      <td>nyserda+0000083483+ahu1-lobby+AH-1 Lobby_OA Te...</td>\n      <td>140</td>\n      <td>83483</td>\n      <td>AHU</td>\n      <td>Air Handling Unit</td>\n      <td>NaN</td>\n      <td>['ahu', 'hvac']</td>\n    </tr>\n    <tr>\n      <th>3</th>\n      <td>198237</td>\n      <td>140</td>\n      <td>1.551416e+12</td>\n      <td>1.536258e+12</td>\n      <td>NaN</td>\n      <td>NaN</td>\n      <td>NaN</td>\n      <td>UPCM-2 AH-2 2nd Floor_Return Air Temp</td>\n      <td>F</td>\n      <td>NaN</td>\n      <td>...</td>\n      <td>76</td>\n      <td>1</td>\n      <td>82fd8b24d7f37657c33d17d2eb362b9c</td>\n      <td>nyserda+0000083483+ahu2-floor2+UPCM-2 AH-2 2nd...</td>\n      <td>140</td>\n      <td>83483</td>\n      <td>AHU</td>\n      <td>Air Handling Unit</td>\n      <td>NaN</td>\n      <td>['ahu', 'hvac']</td>\n    </tr>\n    <tr>\n      <th>4</th>\n      <td>198237</td>\n      <td>140</td>\n      <td>1.551416e+12</td>\n      <td>1.536258e+12</td>\n      <td>NaN</td>\n      <td>NaN</td>\n      <td>NaN</td>\n      <td>UPCM-2 AH-2 2nd Floor_Return Air Temp</td>\n      <td>F</td>\n      <td>NaN</td>\n      <td>...</td>\n      <td>76</td>\n      <td>1</td>\n      <td>c26204f12acb843e13f3f98b98edb4ea</td>\n      <td>nyserda+0000083483+ahu2-floor2+UPCM-2 AH-2 2nd...</td>\n      <td>140</td>\n      <td>83483</td>\n      <td>AHU</td>\n      <td>Air Handling Unit</td>\n      <td>NaN</td>\n      <td>['ahu', 'hvac']</td>\n    </tr>\n    <tr>\n      <th>...</th>\n      <td>...</td>\n      <td>...</td>\n      <td>...</td>\n      <td>...</td>\n      <td>...</td>\n      <td>...</td>\n      <td>...</td>\n      <td>...</td>\n      <td>...</td>\n      <td>...</td>\n      <td>...</td>\n      <td>...</td>\n      <td>...</td>\n      <td>...</td>\n      <td>...</td>\n      <td>...</td>\n      <td>...</td>\n      <td>...</td>\n      <td>...</td>\n      <td>...</td>\n      <td>...</td>\n    </tr>\n    <tr>\n      <th>205</th>\n      <td>228160</td>\n      <td>383</td>\n      <td>1.528170e+12</td>\n      <td>1.526875e+12</td>\n      <td>NaN</td>\n      <td>NaN</td>\n      <td>NaN</td>\n      <td>AHU-1 (COOLING COIL #2)_Return Air Temp</td>\n      <td>F</td>\n      <td>NaN</td>\n      <td>...</td>\n      <td>76</td>\n      <td>1</td>\n      <td>37bcd12a797cb90e30bf3988bd038ccd</td>\n      <td>nyserda+0000079528+ahu1+AHU-1 (COOLING COIL #1...</td>\n      <td>383</td>\n      <td>79528</td>\n      <td>AHU</td>\n      <td>Air Handling Unit</td>\n      <td>NaN</td>\n      <td>['ahu', 'hvac']</td>\n    </tr>\n    <tr>\n      <th>206</th>\n      <td>228160</td>\n      <td>383</td>\n      <td>1.528170e+12</td>\n      <td>1.526875e+12</td>\n      <td>NaN</td>\n      <td>NaN</td>\n      <td>NaN</td>\n      <td>AHU-1 (COOLING COIL #2)_Return Air Temp</td>\n      <td>F</td>\n      <td>NaN</td>\n      <td>...</td>\n      <td>76</td>\n      <td>1</td>\n      <td>2f62885709fc9bc33249b1af94999eaa</td>\n      <td>nyserda+0000079528+ahu1+AHU-1 (COOLING COIL #1...</td>\n      <td>383</td>\n      <td>79528</td>\n      <td>AHU</td>\n      <td>Air Handling Unit</td>\n      <td>NaN</td>\n      <td>['ahu', 'hvac']</td>\n    </tr>\n    <tr>\n      <th>207</th>\n      <td>230982</td>\n      <td>398</td>\n      <td>1.577768e+12</td>\n      <td>1.554845e+12</td>\n      <td>NaN</td>\n      <td>NaN</td>\n      <td>NaN</td>\n      <td>AC-25-1_RaTmp</td>\n      <td>F</td>\n      <td>NaN</td>\n      <td>...</td>\n      <td>76</td>\n      <td>1</td>\n      <td>18896da3dc788a9de84f2c5e9bcfb49a</td>\n      <td>nyserda+0000109188+ac25-1+AC-25-1_OaTmp</td>\n      <td>398</td>\n      <td>109188</td>\n      <td>AHU</td>\n      <td>Air Handling Unit</td>\n      <td>NaN</td>\n      <td>['ahu', 'hvac']</td>\n    </tr>\n    <tr>\n      <th>208</th>\n      <td>231012</td>\n      <td>398</td>\n      <td>1.577768e+12</td>\n      <td>1.554845e+12</td>\n      <td>NaN</td>\n      <td>NaN</td>\n      <td>NaN</td>\n      <td>AC-4-1_RaTmp</td>\n      <td>F</td>\n      <td>NaN</td>\n      <td>...</td>\n      <td>76</td>\n      <td>1</td>\n      <td>bb8550c34feb8bfd3baa72726bc77e2d</td>\n      <td>nyserda+0000109188+ac4-1+AC-4-1_OaTmp</td>\n      <td>398</td>\n      <td>109188</td>\n      <td>AHU</td>\n      <td>Air Handling Unit</td>\n      <td>NaN</td>\n      <td>['ahu', 'hvac']</td>\n    </tr>\n    <tr>\n      <th>209</th>\n      <td>231043</td>\n      <td>398</td>\n      <td>1.577768e+12</td>\n      <td>1.554845e+12</td>\n      <td>NaN</td>\n      <td>NaN</td>\n      <td>NaN</td>\n      <td>AC-9-1_RaTmp</td>\n      <td>F</td>\n      <td>NaN</td>\n      <td>...</td>\n      <td>76</td>\n      <td>1</td>\n      <td>4bbf038bd272bb068799072af9e7a03e</td>\n      <td>nyserda+0000109188+ac9-1+AC-9-1_OaTmp</td>\n      <td>398</td>\n      <td>109188</td>\n      <td>AHU</td>\n      <td>Air Handling Unit</td>\n      <td>NaN</td>\n      <td>['ahu', 'hvac']</td>\n    </tr>\n  </tbody>\n</table>\n<p>210 rows × 47 columns</p>\n</div>"
     },
     "execution_count": 37,
     "metadata": {},
     "output_type": "execute_result"
    }
   ],
   "source": [
    "shared_sat_mat_data"
   ]
  },
  {
   "cell_type": "code",
   "execution_count": 92,
   "outputs": [
    {
     "data": {
      "text/plain": "      id_point_x  building_id_x  last_updated_x  first_updated_x  device_x  \\\n0       198149.0          140.0    1.551416e+12     1.536258e+12       NaN   \n1       198149.0          140.0    1.551416e+12     1.536258e+12       NaN   \n2       198188.0          140.0    1.551416e+12     1.509509e+12       NaN   \n3       198237.0          140.0    1.551416e+12     1.536258e+12       NaN   \n4       198237.0          140.0    1.551416e+12     1.536258e+12       NaN   \n...          ...            ...             ...              ...       ...   \n1188         NaN            NaN             NaN              NaN       NaN   \n1189         NaN            NaN             NaN              NaN       NaN   \n1190         NaN            NaN             NaN              NaN       NaN   \n1191         NaN            NaN             NaN              NaN       NaN   \n1192         NaN            NaN             NaN              NaN       NaN   \n\n      objectId_x name_point_x                          description_x units_x  \\\n0            NaN          NaN    UPCM-1 AH-1 Gallery_Return Air Temp       F   \n1            NaN          NaN    UPCM-1 AH-1 Gallery_Return Air Temp       F   \n2            NaN          NaN             AH-1 Lobby_Return Air Temp       F   \n3            NaN          NaN  UPCM-2 AH-2 2nd Floor_Return Air Temp       F   \n4            NaN          NaN  UPCM-2 AH-2 2nd Floor_Return Air Temp       F   \n...          ...          ...                                    ...     ...   \n1188         NaN          NaN                                    NaN     NaN   \n1189         NaN          NaN                                    NaN     NaN   \n1190         NaN          NaN                                    NaN     NaN   \n1191         NaN          NaN                                    NaN     NaN   \n1192         NaN          NaN                                    NaN     NaN   \n\n     tagged_units_x  ...  point_type_id measurement_id  \\\n0               NaN  ...           78.0            1.0   \n1               NaN  ...           78.0            1.0   \n2               NaN  ...            NaN            NaN   \n3               NaN  ...           78.0            1.0   \n4               NaN  ...           78.0            1.0   \n...             ...  ...            ...            ...   \n1188            NaN  ...           78.0            1.0   \n1189            NaN  ...           78.0            1.0   \n1190            NaN  ...           78.0            1.0   \n1191            NaN  ...           78.0            1.0   \n1192            NaN  ...           78.0            1.0   \n\n                       datasource_hash  \\\n0     603cdedfc8c6efd774c2ebe9a62b33a8   \n1     603cdedfc8c6efd774c2ebe9a62b33a8   \n2                                  NaN   \n3     3e9a73baa2a23bb6d2512641a0deda36   \n4     3e9a73baa2a23bb6d2512641a0deda36   \n...                                ...   \n1188  020cd4e00a5b9bd941a4361fcc4af528   \n1189  4d961a683ba5d423fbcbb9df9500a4a3   \n1190  c5a830100ef40a1d348c46c77a54791f   \n1191  10a6158694d8e564b5d392e7248f4be3   \n1192  7ec46a2e0958a4e0011c665693b10658   \n\n                                                  topic  id_bdg  name_bdg  \\\n0     nyserda+0000083483+ahu1-gallery+UPCM-1 AH-1 Ga...   140.0   83483.0   \n1     nyserda+0000083483+ahu1-gallery+UPCM-1 AH-1 Ga...   140.0   83483.0   \n2                                                   NaN     NaN       NaN   \n3     nyserda+0000083483+ahu2-floor2+UPCM-2 AH-2 2nd...   140.0   83483.0   \n4     nyserda+0000083483+ahu2-floor2+UPCM-2 AH-2 2nd...   140.0   83483.0   \n...                                                 ...     ...       ...   \n1188  nyserda+0000128615+ahu-4+ACS 04 Mixed Air Temp...   452.0  128615.0   \n1189  nyserda+0000122607+ahu-2+ACS 02 Mixed Air Temp...   492.0  122607.0   \n1190  nyserda+0000075506+ac1+1700 Broadway - Base Bl...   120.0   75506.0   \n1191  nyserda+0000075506+ac2+1700 Broadway - Base Bl...   120.0   75506.0   \n1192  nyserda+0000075506+ac4+1700 Broadway - Base Bl...   120.0   75506.0   \n\n     equip_type_abbr    equip_type_name  area_served_desc             tags  \n0                AHU  Air Handling Unit               NaN  ['ahu', 'hvac']  \n1                AHU  Air Handling Unit               NaN  ['ahu', 'hvac']  \n2                NaN                NaN               NaN              NaN  \n3                AHU  Air Handling Unit               NaN  ['ahu', 'hvac']  \n4                AHU  Air Handling Unit               NaN  ['ahu', 'hvac']  \n...              ...                ...               ...              ...  \n1188             AHU  Air Handling Unit               NaN  ['ahu', 'hvac']  \n1189             AHU  Air Handling Unit               NaN  ['ahu', 'hvac']  \n1190             AHU  Air Handling Unit               NaN  ['ahu', 'hvac']  \n1191             AHU  Air Handling Unit               NaN  ['ahu', 'hvac']  \n1192             AHU  Air Handling Unit               NaN  ['ahu', 'hvac']  \n\n[1193 rows x 70 columns]",
      "text/html": "<div>\n<style scoped>\n    .dataframe tbody tr th:only-of-type {\n        vertical-align: middle;\n    }\n\n    .dataframe tbody tr th {\n        vertical-align: top;\n    }\n\n    .dataframe thead th {\n        text-align: right;\n    }\n</style>\n<table border=\"1\" class=\"dataframe\">\n  <thead>\n    <tr style=\"text-align: right;\">\n      <th></th>\n      <th>id_point_x</th>\n      <th>building_id_x</th>\n      <th>last_updated_x</th>\n      <th>first_updated_x</th>\n      <th>device_x</th>\n      <th>objectId_x</th>\n      <th>name_point_x</th>\n      <th>description_x</th>\n      <th>units_x</th>\n      <th>tagged_units_x</th>\n      <th>...</th>\n      <th>point_type_id</th>\n      <th>measurement_id</th>\n      <th>datasource_hash</th>\n      <th>topic</th>\n      <th>id_bdg</th>\n      <th>name_bdg</th>\n      <th>equip_type_abbr</th>\n      <th>equip_type_name</th>\n      <th>area_served_desc</th>\n      <th>tags</th>\n    </tr>\n  </thead>\n  <tbody>\n    <tr>\n      <th>0</th>\n      <td>198149.0</td>\n      <td>140.0</td>\n      <td>1.551416e+12</td>\n      <td>1.536258e+12</td>\n      <td>NaN</td>\n      <td>NaN</td>\n      <td>NaN</td>\n      <td>UPCM-1 AH-1 Gallery_Return Air Temp</td>\n      <td>F</td>\n      <td>NaN</td>\n      <td>...</td>\n      <td>78.0</td>\n      <td>1.0</td>\n      <td>603cdedfc8c6efd774c2ebe9a62b33a8</td>\n      <td>nyserda+0000083483+ahu1-gallery+UPCM-1 AH-1 Ga...</td>\n      <td>140.0</td>\n      <td>83483.0</td>\n      <td>AHU</td>\n      <td>Air Handling Unit</td>\n      <td>NaN</td>\n      <td>['ahu', 'hvac']</td>\n    </tr>\n    <tr>\n      <th>1</th>\n      <td>198149.0</td>\n      <td>140.0</td>\n      <td>1.551416e+12</td>\n      <td>1.536258e+12</td>\n      <td>NaN</td>\n      <td>NaN</td>\n      <td>NaN</td>\n      <td>UPCM-1 AH-1 Gallery_Return Air Temp</td>\n      <td>F</td>\n      <td>NaN</td>\n      <td>...</td>\n      <td>78.0</td>\n      <td>1.0</td>\n      <td>603cdedfc8c6efd774c2ebe9a62b33a8</td>\n      <td>nyserda+0000083483+ahu1-gallery+UPCM-1 AH-1 Ga...</td>\n      <td>140.0</td>\n      <td>83483.0</td>\n      <td>AHU</td>\n      <td>Air Handling Unit</td>\n      <td>NaN</td>\n      <td>['ahu', 'hvac']</td>\n    </tr>\n    <tr>\n      <th>2</th>\n      <td>198188.0</td>\n      <td>140.0</td>\n      <td>1.551416e+12</td>\n      <td>1.509509e+12</td>\n      <td>NaN</td>\n      <td>NaN</td>\n      <td>NaN</td>\n      <td>AH-1 Lobby_Return Air Temp</td>\n      <td>F</td>\n      <td>NaN</td>\n      <td>...</td>\n      <td>NaN</td>\n      <td>NaN</td>\n      <td>NaN</td>\n      <td>NaN</td>\n      <td>NaN</td>\n      <td>NaN</td>\n      <td>NaN</td>\n      <td>NaN</td>\n      <td>NaN</td>\n      <td>NaN</td>\n    </tr>\n    <tr>\n      <th>3</th>\n      <td>198237.0</td>\n      <td>140.0</td>\n      <td>1.551416e+12</td>\n      <td>1.536258e+12</td>\n      <td>NaN</td>\n      <td>NaN</td>\n      <td>NaN</td>\n      <td>UPCM-2 AH-2 2nd Floor_Return Air Temp</td>\n      <td>F</td>\n      <td>NaN</td>\n      <td>...</td>\n      <td>78.0</td>\n      <td>1.0</td>\n      <td>3e9a73baa2a23bb6d2512641a0deda36</td>\n      <td>nyserda+0000083483+ahu2-floor2+UPCM-2 AH-2 2nd...</td>\n      <td>140.0</td>\n      <td>83483.0</td>\n      <td>AHU</td>\n      <td>Air Handling Unit</td>\n      <td>NaN</td>\n      <td>['ahu', 'hvac']</td>\n    </tr>\n    <tr>\n      <th>4</th>\n      <td>198237.0</td>\n      <td>140.0</td>\n      <td>1.551416e+12</td>\n      <td>1.536258e+12</td>\n      <td>NaN</td>\n      <td>NaN</td>\n      <td>NaN</td>\n      <td>UPCM-2 AH-2 2nd Floor_Return Air Temp</td>\n      <td>F</td>\n      <td>NaN</td>\n      <td>...</td>\n      <td>78.0</td>\n      <td>1.0</td>\n      <td>3e9a73baa2a23bb6d2512641a0deda36</td>\n      <td>nyserda+0000083483+ahu2-floor2+UPCM-2 AH-2 2nd...</td>\n      <td>140.0</td>\n      <td>83483.0</td>\n      <td>AHU</td>\n      <td>Air Handling Unit</td>\n      <td>NaN</td>\n      <td>['ahu', 'hvac']</td>\n    </tr>\n    <tr>\n      <th>...</th>\n      <td>...</td>\n      <td>...</td>\n      <td>...</td>\n      <td>...</td>\n      <td>...</td>\n      <td>...</td>\n      <td>...</td>\n      <td>...</td>\n      <td>...</td>\n      <td>...</td>\n      <td>...</td>\n      <td>...</td>\n      <td>...</td>\n      <td>...</td>\n      <td>...</td>\n      <td>...</td>\n      <td>...</td>\n      <td>...</td>\n      <td>...</td>\n      <td>...</td>\n      <td>...</td>\n    </tr>\n    <tr>\n      <th>1188</th>\n      <td>NaN</td>\n      <td>NaN</td>\n      <td>NaN</td>\n      <td>NaN</td>\n      <td>NaN</td>\n      <td>NaN</td>\n      <td>NaN</td>\n      <td>NaN</td>\n      <td>NaN</td>\n      <td>NaN</td>\n      <td>...</td>\n      <td>78.0</td>\n      <td>1.0</td>\n      <td>020cd4e00a5b9bd941a4361fcc4af528</td>\n      <td>nyserda+0000128615+ahu-4+ACS 04 Mixed Air Temp...</td>\n      <td>452.0</td>\n      <td>128615.0</td>\n      <td>AHU</td>\n      <td>Air Handling Unit</td>\n      <td>NaN</td>\n      <td>['ahu', 'hvac']</td>\n    </tr>\n    <tr>\n      <th>1189</th>\n      <td>NaN</td>\n      <td>NaN</td>\n      <td>NaN</td>\n      <td>NaN</td>\n      <td>NaN</td>\n      <td>NaN</td>\n      <td>NaN</td>\n      <td>NaN</td>\n      <td>NaN</td>\n      <td>NaN</td>\n      <td>...</td>\n      <td>78.0</td>\n      <td>1.0</td>\n      <td>4d961a683ba5d423fbcbb9df9500a4a3</td>\n      <td>nyserda+0000122607+ahu-2+ACS 02 Mixed Air Temp...</td>\n      <td>492.0</td>\n      <td>122607.0</td>\n      <td>AHU</td>\n      <td>Air Handling Unit</td>\n      <td>NaN</td>\n      <td>['ahu', 'hvac']</td>\n    </tr>\n    <tr>\n      <th>1190</th>\n      <td>NaN</td>\n      <td>NaN</td>\n      <td>NaN</td>\n      <td>NaN</td>\n      <td>NaN</td>\n      <td>NaN</td>\n      <td>NaN</td>\n      <td>NaN</td>\n      <td>NaN</td>\n      <td>NaN</td>\n      <td>...</td>\n      <td>78.0</td>\n      <td>1.0</td>\n      <td>c5a830100ef40a1d348c46c77a54791f</td>\n      <td>nyserda+0000075506+ac1+1700 Broadway - Base Bl...</td>\n      <td>120.0</td>\n      <td>75506.0</td>\n      <td>AHU</td>\n      <td>Air Handling Unit</td>\n      <td>NaN</td>\n      <td>['ahu', 'hvac']</td>\n    </tr>\n    <tr>\n      <th>1191</th>\n      <td>NaN</td>\n      <td>NaN</td>\n      <td>NaN</td>\n      <td>NaN</td>\n      <td>NaN</td>\n      <td>NaN</td>\n      <td>NaN</td>\n      <td>NaN</td>\n      <td>NaN</td>\n      <td>NaN</td>\n      <td>...</td>\n      <td>78.0</td>\n      <td>1.0</td>\n      <td>10a6158694d8e564b5d392e7248f4be3</td>\n      <td>nyserda+0000075506+ac2+1700 Broadway - Base Bl...</td>\n      <td>120.0</td>\n      <td>75506.0</td>\n      <td>AHU</td>\n      <td>Air Handling Unit</td>\n      <td>NaN</td>\n      <td>['ahu', 'hvac']</td>\n    </tr>\n    <tr>\n      <th>1192</th>\n      <td>NaN</td>\n      <td>NaN</td>\n      <td>NaN</td>\n      <td>NaN</td>\n      <td>NaN</td>\n      <td>NaN</td>\n      <td>NaN</td>\n      <td>NaN</td>\n      <td>NaN</td>\n      <td>NaN</td>\n      <td>...</td>\n      <td>78.0</td>\n      <td>1.0</td>\n      <td>7ec46a2e0958a4e0011c665693b10658</td>\n      <td>nyserda+0000075506+ac4+1700 Broadway - Base Bl...</td>\n      <td>120.0</td>\n      <td>75506.0</td>\n      <td>AHU</td>\n      <td>Air Handling Unit</td>\n      <td>NaN</td>\n      <td>['ahu', 'hvac']</td>\n    </tr>\n  </tbody>\n</table>\n<p>1193 rows × 70 columns</p>\n</div>"
     },
     "execution_count": 92,
     "metadata": {},
     "output_type": "execute_result"
    }
   ],
   "source": [
    "df_merged"
   ],
   "metadata": {
    "collapsed": false,
    "pycharm": {
     "name": "#%%\n"
    }
   }
  },
  {
   "cell_type": "code",
   "execution_count": 21,
   "id": "0e3de147",
   "metadata": {},
   "outputs": [],
   "source": [
    "# shared_sat_mat_data.to_csv(\"./shared_sat_mat_data.csv\")"
   ]
  },
  {
   "cell_type": "markdown",
   "id": "bdeabeb8",
   "metadata": {
    "papermill": {
     "duration": 0.087721,
     "end_time": "2022-05-13T16:22:29.421858",
     "exception": false,
     "start_time": "2022-05-13T16:22:29.334137",
     "status": "completed"
    },
    "tags": []
   },
   "source": [
    "# Querying time-series: Boiler Heating Hot Water Supply Temp"
   ]
  },
  {
   "cell_type": "markdown",
   "id": "bb29a777",
   "metadata": {
    "papermill": {
     "duration": 0.08799,
     "end_time": "2022-05-13T16:22:29.599446",
     "exception": false,
     "start_time": "2022-05-13T16:22:29.511456",
     "status": "completed"
    },
    "tags": []
   },
   "source": [
    "Now that we have our metadata filtered it's time to get the time-series of those points. Let's import the libraries we will be using:"
   ]
  },
  {
   "cell_type": "code",
   "execution_count": 38,
   "id": "be2c3208",
   "metadata": {
    "execution": {
     "iopub.execute_input": "2022-05-13T16:22:29.784517Z",
     "iopub.status.busy": "2022-05-13T16:22:29.783430Z",
     "iopub.status.idle": "2022-05-13T16:22:29.788331Z",
     "shell.execute_reply": "2022-05-13T16:22:29.788835Z",
     "shell.execute_reply.started": "2022-05-04T01:32:27.810457Z"
    },
    "papermill": {
     "duration": 0.096793,
     "end_time": "2022-05-13T16:22:29.789024",
     "exception": false,
     "start_time": "2022-05-13T16:22:29.692231",
     "status": "completed"
    },
    "tags": []
   },
   "outputs": [],
   "source": [
    "from datetime import datetime, timezone, timedelta\n",
    "import pytz\n",
    "from onboard.client.models import TimeseriesQuery, PointData\n",
    "from onboard.client.dataframes import points_df_from_streaming_timeseries"
   ]
  },
  {
   "cell_type": "markdown",
   "id": "0dedddb7",
   "metadata": {
    "papermill": {
     "duration": 0.08761,
     "end_time": "2022-05-13T16:22:29.967108",
     "exception": false,
     "start_time": "2022-05-13T16:22:29.879498",
     "status": "completed"
    },
    "tags": []
   },
   "source": [
    "First, create a list with the points to query. We already filtered our dataset, so it's all the points there:"
   ]
  },
  {
   "cell_type": "code",
   "execution_count": 41,
   "id": "3d3f221f",
   "metadata": {
    "execution": {
     "iopub.execute_input": "2022-05-13T16:22:30.148855Z",
     "iopub.status.busy": "2022-05-13T16:22:30.147823Z",
     "iopub.status.idle": "2022-05-13T16:22:30.152485Z",
     "shell.execute_reply": "2022-05-13T16:22:30.153072Z",
     "shell.execute_reply.started": "2022-05-04T01:32:42.550368Z"
    },
    "papermill": {
     "duration": 0.096957,
     "end_time": "2022-05-13T16:22:30.153249",
     "exception": false,
     "start_time": "2022-05-13T16:22:30.056292",
     "status": "completed"
    },
    "tags": []
   },
   "outputs": [],
   "source": [
    "ahu_rat_points = list(ahu_rat_data.id_point)\n",
    "ahu_oat_points = list(ahu_oat_data.id_point)"
   ]
  },
  {
   "cell_type": "code",
   "execution_count": 42,
   "id": "4d91d953",
   "metadata": {},
   "outputs": [
    {
     "data": {
      "text/plain": "[198149,\n 198188,\n 198237,\n 198277,\n 208322,\n 208319,\n 208317,\n 208324,\n 208315,\n 210910,\n 210932,\n 210955,\n 211012,\n 211035,\n 211058,\n 267510,\n 267528,\n 267550,\n 267566,\n 267583,\n 267598,\n 267614,\n 267654,\n 267670,\n 267685,\n 356302,\n 356303,\n 356237,\n 356190,\n 356214,\n 356213,\n 356212,\n 356215,\n 356216,\n 356257,\n 356281,\n 356345,\n 356368,\n 356391,\n 356413,\n 283262,\n 283294,\n 283316,\n 283347,\n 283375,\n 283398,\n 283425,\n 217028,\n 217032,\n 217036,\n 217040,\n 217044,\n 266693,\n 266709,\n 266728,\n 266761,\n 266803,\n 266834,\n 266864,\n 266883,\n 266914,\n 266946,\n 266963,\n 357617,\n 357656,\n 307605,\n 307618,\n 307631,\n 307650,\n 307669,\n 307688,\n 307729,\n 307817,\n 307769,\n 307839,\n 307862,\n 307884,\n 307920,\n 307985,\n 308027,\n 308074,\n 308150,\n 308169,\n 308091,\n 308109,\n 308127,\n 308187,\n 308206,\n 308255,\n 308240,\n 308272,\n 308297,\n 358569,\n 358594,\n 358620,\n 358646,\n 358672,\n 358702,\n 358722,\n 358745,\n 357738,\n 357759,\n 379484,\n 379526,\n 379551,\n 379575,\n 379601,\n 379631,\n 379651,\n 379674,\n 379277,\n 379295,\n 379887,\n 379889,\n 379891,\n 379893,\n 379895,\n 379896,\n 379898,\n 379900,\n 379902,\n 379903,\n 379904,\n 379905,\n 379906,\n 379908,\n 379909,\n 379910,\n 379911,\n 379913,\n 379915,\n 379916,\n 379917,\n 379918,\n 379919,\n 379920,\n 379921,\n 379924,\n 379925,\n 358887,\n 358811,\n 358824,\n 358843,\n 358842,\n 358858,\n 358857,\n 358874,\n 358873,\n 358899,\n 358908,\n 358920,\n 358932,\n 358944,\n 358961,\n 358977,\n 358976,\n 358991,\n 358990,\n 357837,\n 357877,\n 357906,\n 357944,\n 197469,\n 197497,\n 380311,\n 380334,\n 267888,\n 267968,\n 268069,\n 268173,\n 268265,\n 358016,\n 358039,\n 358063,\n 358086,\n 358109,\n 357306,\n 357327,\n 357353,\n 357385,\n 357402,\n 357494,\n 357524,\n 357536,\n 212199,\n 212236,\n 212279,\n 212323,\n 212369,\n 212413,\n 212462,\n 212501,\n 212544,\n 359108,\n 359141,\n 359173,\n 380134,\n 193954,\n 193952,\n 193953,\n 197108,\n 359892,\n 197102,\n 197098,\n 196742,\n 196765,\n 196932,\n 196937,\n 196942,\n 196947,\n 196952,\n 196957,\n 196962,\n 196967,\n 196972,\n 196977,\n 196982,\n 196987,\n 196992,\n 196997,\n 197002,\n 197007,\n 197012,\n 197017,\n 197023,\n 197025,\n 359499,\n 359498,\n 359497,\n 359496,\n 359495,\n 359494,\n 359493,\n 359492,\n 359491,\n 359490,\n 359489,\n 359488,\n 359487,\n 359486,\n 359485,\n 359484,\n 359483,\n 359482,\n 359481,\n 359480,\n 359479,\n 359478,\n 359477,\n 359476,\n 359475,\n 359474,\n 359473,\n 359472,\n 359471,\n 359470,\n 359469,\n 359468,\n 359467,\n 344740,\n 344780,\n 344820,\n 359585,\n 359586,\n 359587,\n 359588,\n 359589,\n 359590,\n 359591,\n 359592,\n 359593,\n 359594,\n 359595,\n 359596,\n 359597,\n 359598,\n 359599,\n 359600,\n 359601,\n 359602,\n 359603,\n 359604,\n 359605,\n 359606,\n 359607,\n 359608,\n 359609,\n 359610,\n 359611,\n 359612,\n 359613,\n 359614,\n 359615,\n 359616,\n 359617,\n 359618,\n 359619,\n 359620,\n 359621,\n 359622,\n 359623,\n 359624,\n 359625,\n 359626,\n 359627,\n 197876,\n 197893,\n 197910,\n 197928,\n 197946,\n 198009,\n 198023,\n 198037,\n 198051,\n 198682,\n 198697,\n 198706,\n 198715,\n 198724,\n 198744,\n 198743,\n 198755,\n 198764,\n 198773,\n 198782,\n 198791,\n 198800,\n 198809,\n 198818,\n 198827,\n 198836,\n 198845,\n 198854,\n 198863,\n 198872,\n 198881,\n 198890,\n 198899,\n 198908,\n 198917,\n 198926,\n 198935,\n 198944,\n 199356,\n 199440,\n 200636,\n 200642,\n 200648,\n 200851,\n 200882,\n 200898,\n 200674,\n 200681,\n 200687,\n 199286,\n 199292,\n 199298,\n 201167,\n 201178,\n 201324,\n 201330,\n 201344,\n 201351,\n 201357,\n 201698,\n 201704,\n 201710,\n 414579,\n 201633,\n 201674,\n 201686,\n 201692,\n 201716,\n 201734,\n 202748,\n 202754,\n 202760,\n 205658,\n 205664,\n 205670,\n 205676,\n 207783,\n 207789,\n 207795,\n 207801,\n 208246,\n 208245,\n 209020,\n 209141,\n 209167,\n 209193,\n 209927,\n 210771,\n 210776,\n 211111,\n 211117,\n 211131,\n 211138,\n 211144,\n 212901,\n 212926,\n 212952,\n 213044,\n 213069,\n 213094,\n 213119,\n 214124,\n 214165,\n 214206,\n 214234,\n 214258,\n 215050,\n 215056,\n 215062,\n 215068,\n 215075,\n 215716,\n 215728,\n 215741,\n 215753,\n 215765,\n 215775,\n 219484,\n 219514,\n 219570,\n 219622,\n 222406,\n 222429,\n 222449,\n 222470,\n 222512,\n 222556,\n 222574,\n 222594,\n 222612,\n 222633,\n 222651,\n 222671,\n 222692,\n 222713,\n 222734,\n 224958,\n 224970,\n 224971,\n 230561,\n 230611,\n 230667,\n 229815,\n 229813,\n 229843,\n 229895,\n 230101,\n 230241,\n 230247,\n 230302,\n 230345,\n 230346,\n 230360,\n 230392,\n 230426,\n 199197,\n 199203,\n 199209,\n 210670,\n 217132,\n 217138,\n 217142,\n 228106,\n 228160,\n 230982,\n 231012,\n 231043,\n 231060,\n 231070]"
     },
     "execution_count": 42,
     "metadata": {},
     "output_type": "execute_result"
    }
   ],
   "source": [
    "ahu_rat_points"
   ]
  },
  {
   "cell_type": "markdown",
   "id": "026f8fe0",
   "metadata": {
    "papermill": {
     "duration": 0.088116,
     "end_time": "2022-05-13T16:22:30.330071",
     "exception": false,
     "start_time": "2022-05-13T16:22:30.241955",
     "status": "completed"
    },
    "tags": []
   },
   "source": [
    "Let's inspect the datetime period we are working with; we have to convert the `first_updated` and `last_updated` from unix timestamp to a datetime (like we learned in a previous notebook)."
   ]
  },
  {
   "cell_type": "code",
   "execution_count": 43,
   "id": "212224c7",
   "metadata": {
    "execution": {
     "iopub.execute_input": "2022-05-13T16:22:30.510209Z",
     "iopub.status.busy": "2022-05-13T16:22:30.509144Z",
     "iopub.status.idle": "2022-05-13T16:22:30.518609Z",
     "shell.execute_reply": "2022-05-13T16:22:30.517950Z",
     "shell.execute_reply.started": "2022-05-04T01:32:48.752452Z"
    },
    "papermill": {
     "duration": 0.100533,
     "end_time": "2022-05-13T16:22:30.518747",
     "exception": false,
     "start_time": "2022-05-13T16:22:30.418214",
     "status": "completed"
    },
    "tags": []
   },
   "outputs": [
    {
     "data": {
      "text/plain": "Timestamp('2017-05-25 15:30:00+0000', tz='UTC')"
     },
     "execution_count": 43,
     "metadata": {},
     "output_type": "execute_result"
    }
   ],
   "source": [
    "ahu_rat_data.first_updated.apply(lambda x: datetime.fromtimestamp(x/1000, timezone.utc)).min()"
   ]
  },
  {
   "cell_type": "code",
   "execution_count": 44,
   "id": "a177a3a0",
   "metadata": {},
   "outputs": [
    {
     "data": {
      "text/plain": "Timestamp('2022-01-06 23:45:00+0000', tz='UTC')"
     },
     "execution_count": 44,
     "metadata": {},
     "output_type": "execute_result"
    }
   ],
   "source": [
    "ahu_rat_data.last_updated.apply(lambda x: datetime.fromtimestamp(x/1000, timezone.utc)).max()"
   ]
  },
  {
   "cell_type": "markdown",
   "id": "bb27b591",
   "metadata": {
    "papermill": {
     "duration": 0.091199,
     "end_time": "2022-05-13T16:22:30.891162",
     "exception": false,
     "start_time": "2022-05-13T16:22:30.799963",
     "status": "completed"
    },
    "tags": []
   },
   "source": [
    "Ok, 2017-2018. Let's select a year of data; we are using the [python library datetime](https://docs.python.org/3/library/datetime.html) to create datetime objects. Remember that all the data from the API is in UTC, you have to localize all your datetimes using [PyTZ](https://pythonhosted.org/pytz/) a library designed for that purpose."
   ]
  },
  {
   "cell_type": "code",
   "execution_count": 45,
   "id": "fd01802d",
   "metadata": {
    "execution": {
     "iopub.execute_input": "2022-05-13T16:22:31.076544Z",
     "iopub.status.busy": "2022-05-13T16:22:31.075775Z",
     "iopub.status.idle": "2022-05-13T16:22:31.082643Z",
     "shell.execute_reply": "2022-05-13T16:22:31.083636Z",
     "shell.execute_reply.started": "2022-05-04T01:33:22.341521Z"
    },
    "papermill": {
     "duration": 0.102717,
     "end_time": "2022-05-13T16:22:31.083985",
     "exception": false,
     "start_time": "2022-05-13T16:22:30.981268",
     "status": "completed"
    },
    "tags": []
   },
   "outputs": [
    {
     "name": "stdout",
     "output_type": "stream",
     "text": [
      "from 2017-05-25 00:00:00+00:00 to 2022-01-06 00:00:00+00:00\n"
     ]
    }
   ],
   "source": [
    "# Select your timezone\n",
    "tz = pytz.timezone('UTC')\n",
    "\n",
    "# Select your date and time (time is optional)\n",
    "start = datetime(2017,5,25,0,0,0).replace(tzinfo=tz)\n",
    "end = datetime(2022,1,6,0,0,0).replace(tzinfo=tz)\n",
    "\n",
    "print(f\"from {start} to {end}\")"
   ]
  },
  {
   "cell_type": "markdown",
   "id": "ac706e40",
   "metadata": {
    "papermill": {
     "duration": 0.089405,
     "end_time": "2022-05-13T16:22:31.265656",
     "exception": false,
     "start_time": "2022-05-13T16:22:31.176251",
     "status": "completed"
    },
    "tags": []
   },
   "source": [
    "And create the query with all the parameters. Here we are saying \"give me the readings fron 20 january 2017 to 20 january 2018 of the points in `points`\":"
   ]
  },
  {
   "cell_type": "code",
   "execution_count": 97,
   "id": "3d4b0235",
   "metadata": {
    "execution": {
     "iopub.execute_input": "2022-05-13T16:22:31.449380Z",
     "iopub.status.busy": "2022-05-13T16:22:31.448551Z",
     "iopub.status.idle": "2022-05-13T16:22:31.453317Z",
     "shell.execute_reply": "2022-05-13T16:22:31.453879Z",
     "shell.execute_reply.started": "2022-05-04T01:33:43.379341Z"
    },
    "papermill": {
     "duration": 0.09829,
     "end_time": "2022-05-13T16:22:31.454060",
     "exception": false,
     "start_time": "2022-05-13T16:22:31.355770",
     "status": "completed"
    },
    "tags": []
   },
   "outputs": [],
   "source": [
    "timeseries_query_rat = TimeseriesQuery(point_ids = [198182], start = start, end = end)\n",
    "timeseries_query_oat = TimeseriesQuery(point_ids = [198188], start = start, end = end)\n",
    "timeseries_query_mat = TimeseriesQuery(point_ids = [198222], start = start, end = end)"
   ]
  },
  {
   "cell_type": "markdown",
   "id": "e64e75bb",
   "metadata": {
    "papermill": {
     "duration": 0.08897,
     "end_time": "2022-05-13T16:22:31.634531",
     "exception": false,
     "start_time": "2022-05-13T16:22:31.545561",
     "status": "completed"
    },
    "tags": []
   },
   "source": [
    "Time to get the data!"
   ]
  },
  {
   "cell_type": "code",
   "execution_count": 98,
   "id": "f0c28622",
   "metadata": {
    "execution": {
     "iopub.execute_input": "2022-05-13T16:22:31.817208Z",
     "iopub.status.busy": "2022-05-13T16:22:31.816312Z",
     "iopub.status.idle": "2022-05-13T16:22:50.173935Z",
     "shell.execute_reply": "2022-05-13T16:22:50.174465Z",
     "shell.execute_reply.started": "2022-05-04T01:33:46.696507Z"
    },
    "papermill": {
     "duration": 18.44967,
     "end_time": "2022-05-13T16:22:50.174664",
     "exception": false,
     "start_time": "2022-05-13T16:22:31.724994",
     "status": "completed"
    },
    "tags": []
   },
   "outputs": [],
   "source": [
    "# Exceute query (will return and object)\n",
    "query_results_rat = client.stream_point_timeseries(timeseries_query_rat)\n",
    "query_results_oat = client.stream_point_timeseries(timeseries_query_oat)\n",
    "query_results_mat = client.stream_point_timeseries(timeseries_query_mat)\n",
    "\n",
    "\n",
    "# Convert to dataframe\n",
    "data_mat = points_df_from_streaming_timeseries(query_results_mat)\n",
    "data_rat = points_df_from_streaming_timeseries(query_results_rat)\n",
    "data_oat = points_df_from_streaming_timeseries(query_results_oat)"
   ]
  },
  {
   "cell_type": "code",
   "execution_count": 99,
   "id": "7340176b",
   "metadata": {},
   "outputs": [
    {
     "data": {
      "text/plain": "                  timestamp 198222\n0      2017-11-01T04:00:00Z   None\n1      2017-11-01T04:15:00Z   None\n2      2017-11-01T04:30:00Z   None\n3      2017-11-01T04:45:00Z   None\n4      2017-11-01T05:00:00Z   None\n...                     ...    ...\n33491  2019-03-01T03:45:00Z   None\n33492  2019-03-01T04:00:00Z   None\n33493  2019-03-01T04:15:00Z   None\n33494  2019-03-01T04:30:00Z   None\n33495  2019-03-01T04:45:00Z   None\n\n[33496 rows x 2 columns]",
      "text/html": "<div>\n<style scoped>\n    .dataframe tbody tr th:only-of-type {\n        vertical-align: middle;\n    }\n\n    .dataframe tbody tr th {\n        vertical-align: top;\n    }\n\n    .dataframe thead th {\n        text-align: right;\n    }\n</style>\n<table border=\"1\" class=\"dataframe\">\n  <thead>\n    <tr style=\"text-align: right;\">\n      <th></th>\n      <th>timestamp</th>\n      <th>198222</th>\n    </tr>\n  </thead>\n  <tbody>\n    <tr>\n      <th>0</th>\n      <td>2017-11-01T04:00:00Z</td>\n      <td>None</td>\n    </tr>\n    <tr>\n      <th>1</th>\n      <td>2017-11-01T04:15:00Z</td>\n      <td>None</td>\n    </tr>\n    <tr>\n      <th>2</th>\n      <td>2017-11-01T04:30:00Z</td>\n      <td>None</td>\n    </tr>\n    <tr>\n      <th>3</th>\n      <td>2017-11-01T04:45:00Z</td>\n      <td>None</td>\n    </tr>\n    <tr>\n      <th>4</th>\n      <td>2017-11-01T05:00:00Z</td>\n      <td>None</td>\n    </tr>\n    <tr>\n      <th>...</th>\n      <td>...</td>\n      <td>...</td>\n    </tr>\n    <tr>\n      <th>33491</th>\n      <td>2019-03-01T03:45:00Z</td>\n      <td>None</td>\n    </tr>\n    <tr>\n      <th>33492</th>\n      <td>2019-03-01T04:00:00Z</td>\n      <td>None</td>\n    </tr>\n    <tr>\n      <th>33493</th>\n      <td>2019-03-01T04:15:00Z</td>\n      <td>None</td>\n    </tr>\n    <tr>\n      <th>33494</th>\n      <td>2019-03-01T04:30:00Z</td>\n      <td>None</td>\n    </tr>\n    <tr>\n      <th>33495</th>\n      <td>2019-03-01T04:45:00Z</td>\n      <td>None</td>\n    </tr>\n  </tbody>\n</table>\n<p>33496 rows × 2 columns</p>\n</div>"
     },
     "execution_count": 99,
     "metadata": {},
     "output_type": "execute_result"
    }
   ],
   "source": [
    "data_mat"
   ]
  },
  {
   "cell_type": "code",
   "execution_count": 105,
   "id": "aad5c54e",
   "metadata": {},
   "outputs": [
    {
     "data": {
      "text/plain": "                  timestamp  198182  198188\n0      2017-11-01T04:00:00Z    51.6    74.6\n1      2017-11-01T04:15:00Z    51.4    75.1\n2      2017-11-01T04:30:00Z    51.1    73.8\n3      2017-11-01T04:45:00Z    50.9    75.6\n4      2017-11-01T05:00:00Z    50.7    75.6\n...                     ...     ...     ...\n14218  2019-03-01T03:45:00Z    31.0    90.8\n14219  2019-03-01T04:00:00Z    31.0    90.3\n14220  2019-03-01T04:15:00Z    31.0    79.2\n14221  2019-03-01T04:30:00Z    31.0    77.1\n14222  2019-03-01T04:45:00Z    31.0    76.2\n\n[14223 rows x 3 columns]",
      "text/html": "<div>\n<style scoped>\n    .dataframe tbody tr th:only-of-type {\n        vertical-align: middle;\n    }\n\n    .dataframe tbody tr th {\n        vertical-align: top;\n    }\n\n    .dataframe thead th {\n        text-align: right;\n    }\n</style>\n<table border=\"1\" class=\"dataframe\">\n  <thead>\n    <tr style=\"text-align: right;\">\n      <th></th>\n      <th>timestamp</th>\n      <th>198182</th>\n      <th>198188</th>\n    </tr>\n  </thead>\n  <tbody>\n    <tr>\n      <th>0</th>\n      <td>2017-11-01T04:00:00Z</td>\n      <td>51.6</td>\n      <td>74.6</td>\n    </tr>\n    <tr>\n      <th>1</th>\n      <td>2017-11-01T04:15:00Z</td>\n      <td>51.4</td>\n      <td>75.1</td>\n    </tr>\n    <tr>\n      <th>2</th>\n      <td>2017-11-01T04:30:00Z</td>\n      <td>51.1</td>\n      <td>73.8</td>\n    </tr>\n    <tr>\n      <th>3</th>\n      <td>2017-11-01T04:45:00Z</td>\n      <td>50.9</td>\n      <td>75.6</td>\n    </tr>\n    <tr>\n      <th>4</th>\n      <td>2017-11-01T05:00:00Z</td>\n      <td>50.7</td>\n      <td>75.6</td>\n    </tr>\n    <tr>\n      <th>...</th>\n      <td>...</td>\n      <td>...</td>\n      <td>...</td>\n    </tr>\n    <tr>\n      <th>14218</th>\n      <td>2019-03-01T03:45:00Z</td>\n      <td>31.0</td>\n      <td>90.8</td>\n    </tr>\n    <tr>\n      <th>14219</th>\n      <td>2019-03-01T04:00:00Z</td>\n      <td>31.0</td>\n      <td>90.3</td>\n    </tr>\n    <tr>\n      <th>14220</th>\n      <td>2019-03-01T04:15:00Z</td>\n      <td>31.0</td>\n      <td>79.2</td>\n    </tr>\n    <tr>\n      <th>14221</th>\n      <td>2019-03-01T04:30:00Z</td>\n      <td>31.0</td>\n      <td>77.1</td>\n    </tr>\n    <tr>\n      <th>14222</th>\n      <td>2019-03-01T04:45:00Z</td>\n      <td>31.0</td>\n      <td>76.2</td>\n    </tr>\n  </tbody>\n</table>\n<p>14223 rows × 3 columns</p>\n</div>"
     },
     "execution_count": 105,
     "metadata": {},
     "output_type": "execute_result"
    }
   ],
   "source": [
    "shared_ahu_equip = pd.merge(data_rat,data_oat, on = \"timestamp\")\n",
    "shared_ahu_equip"
   ]
  },
  {
   "cell_type": "code",
   "execution_count": 107,
   "outputs": [],
   "source": [
    "data_frames = [data_rat, data_oat, data_mat]\n",
    "shared_ahu_equip = reduce(lambda  left,right: pd.merge(left,right,on=['timestamp'],\n",
    "                                            how='outer'), data_frames)"
   ],
   "metadata": {
    "collapsed": false,
    "pycharm": {
     "name": "#%%\n"
    }
   }
  },
  {
   "cell_type": "markdown",
   "id": "6a9f41d9",
   "metadata": {
    "papermill": {
     "duration": 0.08998,
     "end_time": "2022-05-13T16:22:50.575165",
     "exception": false,
     "start_time": "2022-05-13T16:22:50.485185",
     "status": "completed"
    },
    "tags": []
   },
   "source": [
    "Took some time to retreive that data, is a big dataset. Let's export the csv:"
   ]
  },
  {
   "cell_type": "code",
   "execution_count": 108,
   "id": "51459762",
   "metadata": {
    "execution": {
     "iopub.execute_input": "2022-05-13T16:22:50.764838Z",
     "iopub.status.busy": "2022-05-13T16:22:50.763792Z",
     "iopub.status.idle": "2022-05-13T16:22:52.310847Z",
     "shell.execute_reply": "2022-05-13T16:22:52.311365Z"
    },
    "papermill": {
     "duration": 1.644652,
     "end_time": "2022-05-13T16:22:52.311606",
     "exception": false,
     "start_time": "2022-05-13T16:22:50.666954",
     "status": "completed"
    },
    "tags": []
   },
   "outputs": [],
   "source": [
    "shared_ahu_equip.to_csv(\"./rtem_ahu_sat_mat_time_series.csv\", index=False)"
   ]
  },
  {
   "cell_type": "markdown",
   "id": "e5286347",
   "metadata": {
    "papermill": {
     "duration": 0.089739,
     "end_time": "2022-05-13T16:22:52.492245",
     "exception": false,
     "start_time": "2022-05-13T16:22:52.402506",
     "status": "completed"
    },
    "tags": []
   },
   "source": [
    "# Resampling"
   ]
  },
  {
   "cell_type": "markdown",
   "id": "4e8a2d46",
   "metadata": {
    "papermill": {
     "duration": 0.089832,
     "end_time": "2022-05-13T16:22:52.672179",
     "exception": false,
     "start_time": "2022-05-13T16:22:52.582347",
     "status": "completed"
    },
    "tags": []
   },
   "source": [
    "Let's load the dataset we just exported just to learn one more trick:"
   ]
  },
  {
   "cell_type": "code",
   "execution_count": 110,
   "id": "9b98a540",
   "metadata": {
    "execution": {
     "iopub.execute_input": "2022-05-13T16:22:52.858894Z",
     "iopub.status.busy": "2022-05-13T16:22:52.858158Z",
     "iopub.status.idle": "2022-05-13T16:22:53.108303Z",
     "shell.execute_reply": "2022-05-13T16:22:53.107734Z",
     "shell.execute_reply.started": "2022-05-04T01:38:08.710206Z"
    },
    "papermill": {
     "duration": 0.34455,
     "end_time": "2022-05-13T16:22:53.108482",
     "exception": false,
     "start_time": "2022-05-13T16:22:52.763932",
     "status": "completed"
    },
    "tags": []
   },
   "outputs": [
    {
     "data": {
      "text/plain": "              timestamp   rat   oat  mat\n0  2017-11-01T04:00:00Z  51.6  74.6  NaN\n1  2017-11-01T04:15:00Z  51.4  75.1  NaN\n2  2017-11-01T04:30:00Z  51.1  73.8  NaN\n3  2017-11-01T04:45:00Z  50.9  75.6  NaN\n4  2017-11-01T05:00:00Z  50.7  75.6  NaN",
      "text/html": "<div>\n<style scoped>\n    .dataframe tbody tr th:only-of-type {\n        vertical-align: middle;\n    }\n\n    .dataframe tbody tr th {\n        vertical-align: top;\n    }\n\n    .dataframe thead th {\n        text-align: right;\n    }\n</style>\n<table border=\"1\" class=\"dataframe\">\n  <thead>\n    <tr style=\"text-align: right;\">\n      <th></th>\n      <th>timestamp</th>\n      <th>rat</th>\n      <th>oat</th>\n      <th>mat</th>\n    </tr>\n  </thead>\n  <tbody>\n    <tr>\n      <th>0</th>\n      <td>2017-11-01T04:00:00Z</td>\n      <td>51.6</td>\n      <td>74.6</td>\n      <td>NaN</td>\n    </tr>\n    <tr>\n      <th>1</th>\n      <td>2017-11-01T04:15:00Z</td>\n      <td>51.4</td>\n      <td>75.1</td>\n      <td>NaN</td>\n    </tr>\n    <tr>\n      <th>2</th>\n      <td>2017-11-01T04:30:00Z</td>\n      <td>51.1</td>\n      <td>73.8</td>\n      <td>NaN</td>\n    </tr>\n    <tr>\n      <th>3</th>\n      <td>2017-11-01T04:45:00Z</td>\n      <td>50.9</td>\n      <td>75.6</td>\n      <td>NaN</td>\n    </tr>\n    <tr>\n      <th>4</th>\n      <td>2017-11-01T05:00:00Z</td>\n      <td>50.7</td>\n      <td>75.6</td>\n      <td>NaN</td>\n    </tr>\n  </tbody>\n</table>\n</div>"
     },
     "execution_count": 110,
     "metadata": {},
     "output_type": "execute_result"
    }
   ],
   "source": [
    "data = pd.read_csv(\"./rtem_ahu_sat_mat_time_series.csv\")\n",
    "data.rename(columns={'198182':'rat', '198188': 'oat', '198222': 'mat'}, inplace=True)\n",
    "data.head()"
   ]
  },
  {
   "cell_type": "code",
   "execution_count": 54,
   "id": "d04a224d",
   "metadata": {
    "execution": {
     "iopub.execute_input": "2022-05-13T16:22:53.309664Z",
     "iopub.status.busy": "2022-05-13T16:22:53.308936Z",
     "iopub.status.idle": "2022-05-13T16:22:53.313993Z",
     "shell.execute_reply": "2022-05-13T16:22:53.314787Z",
     "shell.execute_reply.started": "2022-05-04T01:38:23.506105Z"
    },
    "papermill": {
     "duration": 0.11281,
     "end_time": "2022-05-13T16:22:53.315116",
     "exception": false,
     "start_time": "2022-05-13T16:22:53.202306",
     "status": "completed"
    },
    "tags": []
   },
   "outputs": [
    {
     "name": "stdout",
     "output_type": "stream",
     "text": [
      "<class 'pandas.core.frame.DataFrame'>\n",
      "RangeIndex: 14223 entries, 0 to 14222\n",
      "Data columns (total 3 columns):\n",
      " #   Column     Non-Null Count  Dtype  \n",
      "---  ------     --------------  -----  \n",
      " 0   timestamp  14223 non-null  object \n",
      " 1   rat        14223 non-null  float64\n",
      " 2   oat        14223 non-null  float64\n",
      "dtypes: float64(2), object(1)\n",
      "memory usage: 333.5+ KB\n"
     ]
    }
   ],
   "source": [
    "data.info()"
   ]
  },
  {
   "cell_type": "markdown",
   "id": "75c0d92d",
   "metadata": {
    "papermill": {
     "duration": 0.093344,
     "end_time": "2022-05-13T16:22:53.501137",
     "exception": false,
     "start_time": "2022-05-13T16:22:53.407793",
     "status": "completed"
    },
    "tags": []
   },
   "source": [
    "The timestamp there is not a datetime object yet. We could have parsed it as date [using the parameter `parse_dates` while reading](https://pandas.pydata.org/docs/reference/api/pandas.read_csv.html) the csv or we can do the following:"
   ]
  },
  {
   "cell_type": "code",
   "execution_count": 55,
   "id": "b6842a78",
   "metadata": {
    "execution": {
     "iopub.execute_input": "2022-05-13T16:22:53.692577Z",
     "iopub.status.busy": "2022-05-13T16:22:53.691600Z",
     "iopub.status.idle": "2022-05-13T16:22:53.706505Z",
     "shell.execute_reply": "2022-05-13T16:22:53.706989Z",
     "shell.execute_reply.started": "2022-05-04T01:38:51.996573Z"
    },
    "papermill": {
     "duration": 0.115101,
     "end_time": "2022-05-13T16:22:53.707177",
     "exception": false,
     "start_time": "2022-05-13T16:22:53.592076",
     "status": "completed"
    },
    "tags": []
   },
   "outputs": [],
   "source": [
    "data[\"timestamp\"] = pd.to_datetime(data['timestamp'], format='%Y-%m-%dT%H:%M:%S.%f')"
   ]
  },
  {
   "cell_type": "code",
   "execution_count": 56,
   "id": "330cdf3e",
   "metadata": {
    "execution": {
     "iopub.execute_input": "2022-05-13T16:22:53.894687Z",
     "iopub.status.busy": "2022-05-13T16:22:53.892149Z",
     "iopub.status.idle": "2022-05-13T16:22:53.897132Z",
     "shell.execute_reply": "2022-05-13T16:22:53.897647Z",
     "shell.execute_reply.started": "2022-05-04T01:39:01.235452Z"
    },
    "papermill": {
     "duration": 0.099556,
     "end_time": "2022-05-13T16:22:53.897816",
     "exception": false,
     "start_time": "2022-05-13T16:22:53.798260",
     "status": "completed"
    },
    "tags": []
   },
   "outputs": [
    {
     "data": {
      "text/plain": "pandas._libs.tslibs.timestamps.Timestamp"
     },
     "execution_count": 56,
     "metadata": {},
     "output_type": "execute_result"
    }
   ],
   "source": [
    "type(data.timestamp[0])"
   ]
  },
  {
   "cell_type": "code",
   "execution_count": 57,
   "id": "784770e8",
   "metadata": {},
   "outputs": [],
   "source": [
    "data.set_index('timestamp', inplace = True)"
   ]
  },
  {
   "cell_type": "markdown",
   "id": "e6a27b06",
   "metadata": {
    "papermill": {
     "duration": 0.093945,
     "end_time": "2022-05-13T16:22:54.083031",
     "exception": false,
     "start_time": "2022-05-13T16:22:53.989086",
     "status": "completed"
    },
    "tags": []
   },
   "source": [
    "See? now is a datetime object located in UTC timezone.\n",
    "\n",
    "One important thing when working with time-series data is knowing how to resample it. Let's inspect our data:"
   ]
  },
  {
   "cell_type": "code",
   "execution_count": 58,
   "id": "357a47a4",
   "metadata": {
    "execution": {
     "iopub.execute_input": "2022-05-13T16:22:54.273413Z",
     "iopub.status.busy": "2022-05-13T16:22:54.272778Z",
     "iopub.status.idle": "2022-05-13T16:22:54.300674Z",
     "shell.execute_reply": "2022-05-13T16:22:54.301168Z",
     "shell.execute_reply.started": "2022-05-04T01:39:11.78404Z"
    },
    "papermill": {
     "duration": 0.123662,
     "end_time": "2022-05-13T16:22:54.301337",
     "exception": false,
     "start_time": "2022-05-13T16:22:54.177675",
     "status": "completed"
    },
    "tags": []
   },
   "outputs": [
    {
     "data": {
      "text/plain": "                            rat   oat\ntimestamp                            \n2017-11-01 04:00:00+00:00  51.6  74.6\n2017-11-01 04:15:00+00:00  51.4  75.1\n2017-11-01 04:30:00+00:00  51.1  73.8\n2017-11-01 04:45:00+00:00  50.9  75.6\n2017-11-01 05:00:00+00:00  50.7  75.6\n2017-11-01 05:15:00+00:00  50.7  74.3\n2017-11-01 05:30:00+00:00  50.5  73.5\n2017-11-01 05:45:00+00:00  50.5  73.9\n2017-11-01 06:00:00+00:00  50.4  71.4\n2017-11-01 06:15:00+00:00  50.2  71.0",
      "text/html": "<div>\n<style scoped>\n    .dataframe tbody tr th:only-of-type {\n        vertical-align: middle;\n    }\n\n    .dataframe tbody tr th {\n        vertical-align: top;\n    }\n\n    .dataframe thead th {\n        text-align: right;\n    }\n</style>\n<table border=\"1\" class=\"dataframe\">\n  <thead>\n    <tr style=\"text-align: right;\">\n      <th></th>\n      <th>rat</th>\n      <th>oat</th>\n    </tr>\n    <tr>\n      <th>timestamp</th>\n      <th></th>\n      <th></th>\n    </tr>\n  </thead>\n  <tbody>\n    <tr>\n      <th>2017-11-01 04:00:00+00:00</th>\n      <td>51.6</td>\n      <td>74.6</td>\n    </tr>\n    <tr>\n      <th>2017-11-01 04:15:00+00:00</th>\n      <td>51.4</td>\n      <td>75.1</td>\n    </tr>\n    <tr>\n      <th>2017-11-01 04:30:00+00:00</th>\n      <td>51.1</td>\n      <td>73.8</td>\n    </tr>\n    <tr>\n      <th>2017-11-01 04:45:00+00:00</th>\n      <td>50.9</td>\n      <td>75.6</td>\n    </tr>\n    <tr>\n      <th>2017-11-01 05:00:00+00:00</th>\n      <td>50.7</td>\n      <td>75.6</td>\n    </tr>\n    <tr>\n      <th>2017-11-01 05:15:00+00:00</th>\n      <td>50.7</td>\n      <td>74.3</td>\n    </tr>\n    <tr>\n      <th>2017-11-01 05:30:00+00:00</th>\n      <td>50.5</td>\n      <td>73.5</td>\n    </tr>\n    <tr>\n      <th>2017-11-01 05:45:00+00:00</th>\n      <td>50.5</td>\n      <td>73.9</td>\n    </tr>\n    <tr>\n      <th>2017-11-01 06:00:00+00:00</th>\n      <td>50.4</td>\n      <td>71.4</td>\n    </tr>\n    <tr>\n      <th>2017-11-01 06:15:00+00:00</th>\n      <td>50.2</td>\n      <td>71.0</td>\n    </tr>\n  </tbody>\n</table>\n</div>"
     },
     "execution_count": 58,
     "metadata": {},
     "output_type": "execute_result"
    }
   ],
   "source": [
    "data.head(10)"
   ]
  },
  {
   "cell_type": "code",
   "execution_count": 59,
   "id": "23d32a66",
   "metadata": {},
   "outputs": [
    {
     "data": {
      "text/plain": "                             rat    oat\ntimestamp                              \n2017-11-01 04:00:00+00:00    NaN    NaN\n2017-11-01 04:15:00+00:00    NaN    NaN\n2017-11-01 04:30:00+00:00    NaN    NaN\n2017-11-01 04:45:00+00:00    NaN    NaN\n2017-11-01 05:00:00+00:00  51.14  74.94",
      "text/html": "<div>\n<style scoped>\n    .dataframe tbody tr th:only-of-type {\n        vertical-align: middle;\n    }\n\n    .dataframe tbody tr th {\n        vertical-align: top;\n    }\n\n    .dataframe thead th {\n        text-align: right;\n    }\n</style>\n<table border=\"1\" class=\"dataframe\">\n  <thead>\n    <tr style=\"text-align: right;\">\n      <th></th>\n      <th>rat</th>\n      <th>oat</th>\n    </tr>\n    <tr>\n      <th>timestamp</th>\n      <th></th>\n      <th></th>\n    </tr>\n  </thead>\n  <tbody>\n    <tr>\n      <th>2017-11-01 04:00:00+00:00</th>\n      <td>NaN</td>\n      <td>NaN</td>\n    </tr>\n    <tr>\n      <th>2017-11-01 04:15:00+00:00</th>\n      <td>NaN</td>\n      <td>NaN</td>\n    </tr>\n    <tr>\n      <th>2017-11-01 04:30:00+00:00</th>\n      <td>NaN</td>\n      <td>NaN</td>\n    </tr>\n    <tr>\n      <th>2017-11-01 04:45:00+00:00</th>\n      <td>NaN</td>\n      <td>NaN</td>\n    </tr>\n    <tr>\n      <th>2017-11-01 05:00:00+00:00</th>\n      <td>51.14</td>\n      <td>74.94</td>\n    </tr>\n  </tbody>\n</table>\n</div>"
     },
     "execution_count": 59,
     "metadata": {},
     "output_type": "execute_result"
    }
   ],
   "source": [
    "rtem_temps_avg = data.rolling(window = 5).mean()\n",
    "# rtem_temps_avg = data\n",
    "\n",
    "rtem_temps_avg.head()"
   ]
  },
  {
   "cell_type": "code",
   "execution_count": 60,
   "id": "d99665cd",
   "metadata": {},
   "outputs": [
    {
     "data": {
      "text/plain": "                rat           oat\ncount  14219.000000  14219.000000\nmean      41.766514     76.347806\nstd       10.729430      5.438831\nmin        2.200000     62.180000\n25%       34.910000     73.400000\n50%       42.220000     76.540000\n75%       48.640000     78.420000\nmax       71.280000     92.400000",
      "text/html": "<div>\n<style scoped>\n    .dataframe tbody tr th:only-of-type {\n        vertical-align: middle;\n    }\n\n    .dataframe tbody tr th {\n        vertical-align: top;\n    }\n\n    .dataframe thead th {\n        text-align: right;\n    }\n</style>\n<table border=\"1\" class=\"dataframe\">\n  <thead>\n    <tr style=\"text-align: right;\">\n      <th></th>\n      <th>rat</th>\n      <th>oat</th>\n    </tr>\n  </thead>\n  <tbody>\n    <tr>\n      <th>count</th>\n      <td>14219.000000</td>\n      <td>14219.000000</td>\n    </tr>\n    <tr>\n      <th>mean</th>\n      <td>41.766514</td>\n      <td>76.347806</td>\n    </tr>\n    <tr>\n      <th>std</th>\n      <td>10.729430</td>\n      <td>5.438831</td>\n    </tr>\n    <tr>\n      <th>min</th>\n      <td>2.200000</td>\n      <td>62.180000</td>\n    </tr>\n    <tr>\n      <th>25%</th>\n      <td>34.910000</td>\n      <td>73.400000</td>\n    </tr>\n    <tr>\n      <th>50%</th>\n      <td>42.220000</td>\n      <td>76.540000</td>\n    </tr>\n    <tr>\n      <th>75%</th>\n      <td>48.640000</td>\n      <td>78.420000</td>\n    </tr>\n    <tr>\n      <th>max</th>\n      <td>71.280000</td>\n      <td>92.400000</td>\n    </tr>\n  </tbody>\n</table>\n</div>"
     },
     "execution_count": 60,
     "metadata": {},
     "output_type": "execute_result"
    }
   ],
   "source": [
    "rtem_temps_avg.describe()"
   ]
  },
  {
   "cell_type": "code",
   "execution_count": 61,
   "id": "ae8836ef",
   "metadata": {},
   "outputs": [
    {
     "data": {
      "text/plain": "array([<AxesSubplot:xlabel='timestamp'>, <AxesSubplot:xlabel='timestamp'>],\n      dtype=object)"
     },
     "execution_count": 61,
     "metadata": {},
     "output_type": "execute_result"
    },
    {
     "data": {
      "text/plain": "<Figure size 1800x576 with 2 Axes>",
      "image/png": "[encoded data removed]"
     },
     "metadata": {
      "needs_background": "light"
     },
     "output_type": "display_data"
    }
   ],
   "source": [
    "rtem_temps_avg.plot(figsize=(25,8), subplots=True, title='RTEM TEMPS FOR FAULT CONDITION 3 MEASURE')"
   ]
  },
  {
   "cell_type": "code",
   "execution_count": 72,
   "id": "95f26fba",
   "metadata": {},
   "outputs": [],
   "source": [
    "supply_fan_delta_degf = 2.\n",
    "oat_rat_delta_degf_min = 10.\n",
    "supply_degf_err_thres = 2.\n",
    "return_degf_err_thres = 2.\n",
    "mix_degf_err_thres = 5.\n",
    "outdoor_degf_err_thres = 5. # local OAT options Vs global OAT sensor\n",
    "air_flow_percent_thres = .3\n",
    "vfd_speed_percent_err_thres = .05\n",
    "vfd_speed_percent_max = .99\n",
    "duct_static_inches_err_thres = .1\n",
    "delta_os_max = 7.\n",
    "mode_delay = 30.\n",
    "alarm_dely = 30.\n",
    "test_mode_delay = 120.\n",
    "delta_temperature = 6"
   ]
  },
  {
   "cell_type": "code",
   "execution_count": 73,
   "id": "c873c04d",
   "metadata": {},
   "outputs": [],
   "source": [
    "# make an entire column out of these params in the Pandas Dataframe\n",
    "rtem_temps_avg['mix_degf_err_thres'] = mix_degf_err_thres\n",
    "rtem_temps_avg['supply_degf_err_thres'] = supply_degf_err_thres"
   ]
  },
  {
   "cell_type": "code",
   "execution_count": 74,
   "id": "c683fae9",
   "metadata": {},
   "outputs": [
    {
     "data": {
      "text/plain": "Index(['rat', 'oat', 'mix_degf_err_thres', 'supply_degf_err_thres'], dtype='object')"
     },
     "execution_count": 74,
     "metadata": {},
     "output_type": "execute_result"
    }
   ],
   "source": [
    "rtem_temps_avg.columns"
   ]
  },
  {
   "cell_type": "code",
   "execution_count": 75,
   "id": "33ff88e7",
   "metadata": {},
   "outputs": [],
   "source": [
    "# Create a debug dataframe for later\n",
    "rtem_temps_debug =  rtem_temps_avg.copy()"
   ]
  },
  {
   "cell_type": "code",
   "execution_count": 76,
   "id": "a75bd04d",
   "metadata": {},
   "outputs": [],
   "source": [
    "def fault_condition_three_(dataframe):\n",
    "    return (abs(dataframe.rat - dataframe.oat) >= delta_temperature)"
   ]
  },
  {
   "cell_type": "code",
   "execution_count": 77,
   "id": "3101c2bf",
   "metadata": {},
   "outputs": [],
   "source": [
    "def fault_condition_five_(dataframe):\n",
    "    return (abs(dataframe.rat - dataframe.oat) >= delta_temperature) and"
   ]
  },
  {
   "cell_type": "code",
   "execution_count": 78,
   "id": "c86ea9eb",
   "metadata": {},
   "outputs": [],
   "source": [
    "import numpy as np\n",
    "\n",
    "rtem_temps_avg['fc5_flag'] = fault_condition_five_(rtem_temps_avg)"
   ]
  },
  {
   "cell_type": "code",
   "execution_count": 79,
   "id": "2e27946d",
   "metadata": {},
   "outputs": [
    {
     "data": {
      "text/plain": "True     13983\nFalse      240\nName: fc5_flag, dtype: int64"
     },
     "execution_count": 79,
     "metadata": {},
     "output_type": "execute_result"
    }
   ],
   "source": [
    "rtem_temps_avg['fc5_flag'].value_counts()"
   ]
  },
  {
   "cell_type": "code",
   "execution_count": 80,
   "id": "a6b960ae",
   "metadata": {},
   "outputs": [
    {
     "data": {
      "text/plain": "Index(['rat', 'oat', 'mix_degf_err_thres', 'supply_degf_err_thres',\n       'fc5_flag'],\n      dtype='object')"
     },
     "execution_count": 80,
     "metadata": {},
     "output_type": "execute_result"
    }
   ],
   "source": [
    "rtem_temps_avg.columns"
   ]
  },
  {
   "cell_type": "code",
   "execution_count": 81,
   "id": "3c2fef17",
   "metadata": {},
   "outputs": [],
   "source": [
    "# change boolean column to int for plots\n",
    "\n",
    "rtem_temps_avg['fc5_flag'] = rtem_temps_avg['fc5_flag'].astype(int)\n",
    "\n",
    "# drop params column for better plot\n",
    "rtem_temps_avg = rtem_temps_avg.drop(['supply_degf_err_thres',\n",
    "                  'mix_degf_err_thres'],axis=1)"
   ]
  },
  {
   "cell_type": "code",
   "execution_count": 82,
   "id": "65a87c8f",
   "metadata": {},
   "outputs": [],
   "source": [
    "fdd_plot = rtem_temps_avg"
   ]
  },
  {
   "cell_type": "code",
   "execution_count": 83,
   "id": "cf12efd1",
   "metadata": {},
   "outputs": [
    {
     "data": {
      "text/plain": "Index(['rat', 'oat', 'fc5_flag'], dtype='object')"
     },
     "execution_count": 83,
     "metadata": {},
     "output_type": "execute_result"
    }
   ],
   "source": [
    "fdd_plot.columns"
   ]
  },
  {
   "cell_type": "code",
   "execution_count": 86,
   "id": "81c01405",
   "metadata": {},
   "outputs": [
    {
     "data": {
      "text/plain": "<Figure size 1800x576 with 2 Axes>",
      "image/png": "[encoded data removed]"
     },
     "metadata": {
      "needs_background": "light"
     },
     "output_type": "display_data"
    }
   ],
   "source": [
    "import matplotlib.pyplot as plt\n",
    "\n",
    "fig, ax = plt.subplots(figsize=(25,8))\n",
    "\n",
    "plot1a = fdd_plot.rat.plot(ax=ax)\n",
    "plot1b = fdd_plot.oat.plot(ax=ax)\n",
    "plot1d = fdd_plot.fc5_flag.plot(ax=ax, color='k', secondary_y=True)\n",
    "\n",
    "ax.set_ylabel('Temperatures')\n",
    "ax.right_ax.set_ylim(0,1)\n",
    "plt.ylabel('FDD FLAG')\n",
    "\n",
    "ax.set_title(\"RTEM Temp Sensors and FDD 5 Flag\")\n",
    "fig.legend(['rat','oat','fc5_flag'],bbox_to_anchor=(.95, .9))\n",
    "\n",
    "# defining display layout\n",
    "plt.tight_layout()\n",
    "\n",
    "# show plot\n",
    "plt.show()"
   ]
  },
  {
   "cell_type": "markdown",
   "id": "1ff686f9",
   "metadata": {
    "papermill": {
     "duration": 0.094943,
     "end_time": "2022-05-13T16:22:55.581466",
     "exception": false,
     "start_time": "2022-05-13T16:22:55.486523",
     "status": "completed"
    },
    "tags": []
   },
   "source": [
    "# Plotting"
   ]
  },
  {
   "cell_type": "markdown",
   "id": "f7f4ba63",
   "metadata": {
    "papermill": {
     "duration": 0.095185,
     "end_time": "2022-05-13T16:22:55.771249",
     "exception": false,
     "start_time": "2022-05-13T16:22:55.676064",
     "status": "completed"
    },
    "tags": []
   },
   "source": [
    "## Lineplots"
   ]
  },
  {
   "cell_type": "markdown",
   "id": "e801207d",
   "metadata": {
    "papermill": {
     "duration": 0.09358,
     "end_time": "2022-05-13T16:22:55.959764",
     "exception": false,
     "start_time": "2022-05-13T16:22:55.866184",
     "status": "completed"
    },
    "tags": []
   },
   "source": [
    "We are going to explore our sensors data with some simple lineplots. We are going to use [*Seaborn*](https://seaborn.pydata.org/) which works on [*Matplotlib*](https://matplotlib.org/stable/users/index.html). Let's import them:"
   ]
  },
  {
   "cell_type": "code",
   "execution_count": null,
   "id": "2d214907",
   "metadata": {
    "execution": {
     "iopub.execute_input": "2022-05-13T16:22:56.153675Z",
     "iopub.status.busy": "2022-05-13T16:22:56.152975Z",
     "iopub.status.idle": "2022-05-13T16:22:57.248874Z",
     "shell.execute_reply": "2022-05-13T16:22:57.248223Z",
     "shell.execute_reply.started": "2022-05-04T01:42:32.937647Z"
    },
    "papermill": {
     "duration": 1.193547,
     "end_time": "2022-05-13T16:22:57.249024",
     "exception": false,
     "start_time": "2022-05-13T16:22:56.055477",
     "status": "completed"
    },
    "tags": []
   },
   "outputs": [],
   "source": [
    "import matplotlib.pyplot as plt\n",
    "import seaborn as sns\n",
    "\n",
    "# This is for the visual stype, I like \"ggplot\"\n",
    "plt.style.use('ggplot')\n",
    "\n",
    "# This for the figure size\n",
    "plt.rcParams[\"figure.figsize\"] = (20,9)"
   ]
  },
  {
   "cell_type": "markdown",
   "id": "6d5f3a23",
   "metadata": {
    "papermill": {
     "duration": 0.09379,
     "end_time": "2022-05-13T16:22:57.437838",
     "exception": false,
     "start_time": "2022-05-13T16:22:57.344048",
     "status": "completed"
    },
    "tags": []
   },
   "source": [
    "Let's plot the raw data of our sensors:"
   ]
  },
  {
   "cell_type": "code",
   "execution_count": null,
   "id": "748fe459",
   "metadata": {
    "execution": {
     "iopub.execute_input": "2022-05-13T16:22:57.631622Z",
     "iopub.status.busy": "2022-05-13T16:22:57.630939Z",
     "iopub.status.idle": "2022-05-13T16:22:57.634422Z",
     "shell.execute_reply": "2022-05-13T16:22:57.634896Z",
     "shell.execute_reply.started": "2022-05-04T01:42:36.073616Z"
    },
    "papermill": {
     "duration": 0.103375,
     "end_time": "2022-05-13T16:22:57.635075",
     "exception": false,
     "start_time": "2022-05-13T16:22:57.531700",
     "status": "completed"
    },
    "tags": []
   },
   "outputs": [],
   "source": [
    "# These are the sensors, one per column (first one is the timestamp)\n",
    "cols = data.columns[1:]\n",
    "cols"
   ]
  },
  {
   "cell_type": "code",
   "execution_count": null,
   "id": "a44d06ab",
   "metadata": {
    "execution": {
     "iopub.execute_input": "2022-05-13T16:22:57.833471Z",
     "iopub.status.busy": "2022-05-13T16:22:57.831674Z",
     "iopub.status.idle": "2022-05-13T16:23:51.611801Z",
     "shell.execute_reply": "2022-05-13T16:23:51.612321Z",
     "shell.execute_reply.started": "2022-05-04T01:42:52.660512Z"
    },
    "papermill": {
     "duration": 53.881976,
     "end_time": "2022-05-13T16:23:51.612519",
     "exception": false,
     "start_time": "2022-05-13T16:22:57.730543",
     "status": "completed"
    },
    "tags": []
   },
   "outputs": [],
   "source": [
    "for col in cols:\n",
    "    plt.figure()\n",
    "    sns.lineplot(data=data, x=\"timestamp\", y=col)"
   ]
  },
  {
   "cell_type": "markdown",
   "id": "dc280c62",
   "metadata": {
    "papermill": {
     "duration": 0.102889,
     "end_time": "2022-05-13T16:23:51.816830",
     "exception": false,
     "start_time": "2022-05-13T16:23:51.713941",
     "status": "completed"
    },
    "tags": []
   },
   "source": [
    "We have a huge gap with no data and the rest it's noisy and difficult to see. Let's filter data from september 1st 2017:"
   ]
  },
  {
   "cell_type": "code",
   "execution_count": null,
   "id": "58dedff0",
   "metadata": {
    "execution": {
     "iopub.execute_input": "2022-05-13T16:23:52.026173Z",
     "iopub.status.busy": "2022-05-13T16:23:52.024830Z",
     "iopub.status.idle": "2022-05-13T16:23:52.035859Z",
     "shell.execute_reply": "2022-05-13T16:23:52.035257Z",
     "shell.execute_reply.started": "2022-05-04T01:45:24.249887Z"
    },
    "papermill": {
     "duration": 0.119209,
     "end_time": "2022-05-13T16:23:52.036007",
     "exception": false,
     "start_time": "2022-05-13T16:23:51.916798",
     "status": "completed"
    },
    "tags": []
   },
   "outputs": [],
   "source": [
    "data = data[data.timestamp >= \"2017-09-01\"]"
   ]
  },
  {
   "cell_type": "markdown",
   "id": "16decda5",
   "metadata": {
    "papermill": {
     "duration": 0.098121,
     "end_time": "2022-05-13T16:23:52.237013",
     "exception": false,
     "start_time": "2022-05-13T16:23:52.138892",
     "status": "completed"
    },
    "tags": []
   },
   "source": [
    "One useful technique to deal with noisy data is to resample it by hour (or a longer time frequency) aggregating by the mean: this way we can visualize the hourly/daily behaviour more smoothed.\n",
    "\n",
    "But first, let's go deeper into our `timestamp` column. This is a datetime column, meaning that we have some functions to handle the dates better. With [this pandas method](https://pandas.pydata.org/docs/reference/api/pandas.Series.dt.html) we can access our date: we can get the date, the weekday, the hour, the seconds, the minutes; all the information in our date can be obtained.\n",
    "\n",
    "Let's try an example. This is our raw timestamp:"
   ]
  },
  {
   "cell_type": "code",
   "execution_count": null,
   "id": "75c17f4e",
   "metadata": {
    "execution": {
     "iopub.execute_input": "2022-05-13T16:23:52.437067Z",
     "iopub.status.busy": "2022-05-13T16:23:52.436161Z",
     "iopub.status.idle": "2022-05-13T16:23:52.443114Z",
     "shell.execute_reply": "2022-05-13T16:23:52.443676Z",
     "shell.execute_reply.started": "2022-05-04T01:45:26.983864Z"
    },
    "papermill": {
     "duration": 0.109081,
     "end_time": "2022-05-13T16:23:52.443855",
     "exception": false,
     "start_time": "2022-05-13T16:23:52.334774",
     "status": "completed"
    },
    "tags": []
   },
   "outputs": [],
   "source": [
    "data.timestamp"
   ]
  },
  {
   "cell_type": "markdown",
   "id": "635fb564",
   "metadata": {
    "papermill": {
     "duration": 0.099134,
     "end_time": "2022-05-13T16:23:52.642493",
     "exception": false,
     "start_time": "2022-05-13T16:23:52.543359",
     "status": "completed"
    },
    "tags": []
   },
   "source": [
    "We can get the date:"
   ]
  },
  {
   "cell_type": "code",
   "execution_count": null,
   "id": "580cc3c6",
   "metadata": {
    "execution": {
     "iopub.execute_input": "2022-05-13T16:23:52.848468Z",
     "iopub.status.busy": "2022-05-13T16:23:52.847689Z",
     "iopub.status.idle": "2022-05-13T16:23:52.863160Z",
     "shell.execute_reply": "2022-05-13T16:23:52.863681Z",
     "shell.execute_reply.started": "2022-05-04T01:45:37.420565Z"
    },
    "papermill": {
     "duration": 0.121296,
     "end_time": "2022-05-13T16:23:52.863872",
     "exception": false,
     "start_time": "2022-05-13T16:23:52.742576",
     "status": "completed"
    },
    "tags": []
   },
   "outputs": [],
   "source": [
    "data.timestamp.dt.date"
   ]
  },
  {
   "cell_type": "markdown",
   "id": "aa139758",
   "metadata": {
    "papermill": {
     "duration": 0.100561,
     "end_time": "2022-05-13T16:23:53.064695",
     "exception": false,
     "start_time": "2022-05-13T16:23:52.964134",
     "status": "completed"
    },
    "tags": []
   },
   "source": [
    "Even the he day of the week (with Monday=0, Sunday=6)"
   ]
  },
  {
   "cell_type": "code",
   "execution_count": null,
   "id": "3feff4a6",
   "metadata": {
    "execution": {
     "iopub.execute_input": "2022-05-13T16:23:53.269188Z",
     "iopub.status.busy": "2022-05-13T16:23:53.268172Z",
     "iopub.status.idle": "2022-05-13T16:23:53.277062Z",
     "shell.execute_reply": "2022-05-13T16:23:53.277580Z",
     "shell.execute_reply.started": "2022-05-04T01:45:59.585197Z"
    },
    "papermill": {
     "duration": 0.111731,
     "end_time": "2022-05-13T16:23:53.277774",
     "exception": false,
     "start_time": "2022-05-13T16:23:53.166043",
     "status": "completed"
    },
    "tags": []
   },
   "outputs": [],
   "source": [
    "data.timestamp.dt.weekday"
   ]
  },
  {
   "cell_type": "markdown",
   "id": "28efe9c5",
   "metadata": {
    "papermill": {
     "duration": 0.100451,
     "end_time": "2022-05-13T16:23:53.482270",
     "exception": false,
     "start_time": "2022-05-13T16:23:53.381819",
     "status": "completed"
    },
    "tags": []
   },
   "source": [
    "The hour"
   ]
  },
  {
   "cell_type": "code",
   "execution_count": null,
   "id": "954c57e1",
   "metadata": {
    "execution": {
     "iopub.execute_input": "2022-05-13T16:23:53.688312Z",
     "iopub.status.busy": "2022-05-13T16:23:53.687301Z",
     "iopub.status.idle": "2022-05-13T16:23:53.696649Z",
     "shell.execute_reply": "2022-05-13T16:23:53.697196Z",
     "shell.execute_reply.started": "2022-05-04T01:46:22.066125Z"
    },
    "papermill": {
     "duration": 0.114989,
     "end_time": "2022-05-13T16:23:53.697368",
     "exception": false,
     "start_time": "2022-05-13T16:23:53.582379",
     "status": "completed"
    },
    "tags": []
   },
   "outputs": [],
   "source": [
    "data.timestamp.dt.hour"
   ]
  },
  {
   "cell_type": "markdown",
   "id": "29dadd38",
   "metadata": {
    "papermill": {
     "duration": 0.100088,
     "end_time": "2022-05-13T16:23:53.899185",
     "exception": false,
     "start_time": "2022-05-13T16:23:53.799097",
     "status": "completed"
    },
    "tags": []
   },
   "source": [
    "Or the minutes"
   ]
  },
  {
   "cell_type": "code",
   "execution_count": null,
   "id": "dedfc1d3",
   "metadata": {
    "execution": {
     "iopub.execute_input": "2022-05-13T16:23:54.113142Z",
     "iopub.status.busy": "2022-05-13T16:23:54.111993Z",
     "iopub.status.idle": "2022-05-13T16:23:54.119958Z",
     "shell.execute_reply": "2022-05-13T16:23:54.119265Z",
     "shell.execute_reply.started": "2022-05-04T01:46:36.803123Z"
    },
    "papermill": {
     "duration": 0.115875,
     "end_time": "2022-05-13T16:23:54.120164",
     "exception": false,
     "start_time": "2022-05-13T16:23:54.004289",
     "status": "completed"
    },
    "tags": []
   },
   "outputs": [],
   "source": [
    "data.timestamp.dt.minute"
   ]
  },
  {
   "cell_type": "markdown",
   "id": "42c48cc7",
   "metadata": {
    "papermill": {
     "duration": 0.105539,
     "end_time": "2022-05-13T16:23:54.328201",
     "exception": false,
     "start_time": "2022-05-13T16:23:54.222662",
     "status": "completed"
    },
    "tags": []
   },
   "source": [
    "Pretty simple! You have all the datetime information handy.\n",
    "\n",
    "Now let's smooth the data to plot it!"
   ]
  },
  {
   "cell_type": "code",
   "execution_count": null,
   "id": "4bc37314",
   "metadata": {
    "execution": {
     "iopub.execute_input": "2022-05-13T16:23:54.545345Z",
     "iopub.status.busy": "2022-05-13T16:23:54.544295Z",
     "iopub.status.idle": "2022-05-13T16:23:54.584472Z",
     "shell.execute_reply": "2022-05-13T16:23:54.584954Z",
     "shell.execute_reply.started": "2022-05-04T01:46:45.366001Z"
    },
    "papermill": {
     "duration": 0.153491,
     "end_time": "2022-05-13T16:23:54.585138",
     "exception": false,
     "start_time": "2022-05-13T16:23:54.431647",
     "status": "completed"
    },
    "tags": []
   },
   "outputs": [],
   "source": [
    "data_hour = data.resample('1H', on=\"timestamp\").mean()\n",
    "data_hour.head()"
   ]
  },
  {
   "cell_type": "markdown",
   "id": "aac503f7",
   "metadata": {
    "papermill": {
     "duration": 0.107788,
     "end_time": "2022-05-13T16:23:54.797703",
     "exception": false,
     "start_time": "2022-05-13T16:23:54.689915",
     "status": "completed"
    },
    "tags": []
   },
   "source": [
    "And we have the mean temperature by hour! Plotting it is simple with this data set:"
   ]
  },
  {
   "cell_type": "code",
   "execution_count": null,
   "id": "27fa9133",
   "metadata": {
    "execution": {
     "iopub.execute_input": "2022-05-13T16:23:55.014142Z",
     "iopub.status.busy": "2022-05-13T16:23:55.013448Z",
     "iopub.status.idle": "2022-05-13T16:24:10.539974Z",
     "shell.execute_reply": "2022-05-13T16:24:10.540820Z",
     "shell.execute_reply.started": "2022-05-04T01:47:09.071507Z"
    },
    "papermill": {
     "duration": 15.639283,
     "end_time": "2022-05-13T16:24:10.541081",
     "exception": false,
     "start_time": "2022-05-13T16:23:54.901798",
     "status": "completed"
    },
    "tags": []
   },
   "outputs": [],
   "source": [
    "fig = sns.lineplot(data=data_hour)\n",
    "\n",
    "# This is just for hiding the legend for now, there are a lot of labels and is difficult to see the plot\n",
    "plt.legend([],[], frameon=False)"
   ]
  },
  {
   "cell_type": "markdown",
   "id": "133495a0",
   "metadata": {
    "papermill": {
     "duration": 0.118541,
     "end_time": "2022-05-13T16:24:10.785441",
     "exception": false,
     "start_time": "2022-05-13T16:24:10.666900",
     "status": "completed"
    },
    "tags": []
   },
   "source": [
    "Let's do it again but daily:"
   ]
  },
  {
   "cell_type": "code",
   "execution_count": null,
   "id": "0dd6d84b",
   "metadata": {
    "execution": {
     "iopub.execute_input": "2022-05-13T16:24:11.012957Z",
     "iopub.status.busy": "2022-05-13T16:24:11.012259Z",
     "iopub.status.idle": "2022-05-13T16:24:11.051923Z",
     "shell.execute_reply": "2022-05-13T16:24:11.052733Z",
     "shell.execute_reply.started": "2022-05-04T01:47:53.44803Z"
    },
    "papermill": {
     "duration": 0.155209,
     "end_time": "2022-05-13T16:24:11.052979",
     "exception": false,
     "start_time": "2022-05-13T16:24:10.897770",
     "status": "completed"
    },
    "tags": []
   },
   "outputs": [],
   "source": [
    "data_day = data.resample('24H', on=\"timestamp\").mean()\n",
    "data_day.head()"
   ]
  },
  {
   "cell_type": "code",
   "execution_count": null,
   "id": "3622f171",
   "metadata": {
    "execution": {
     "iopub.execute_input": "2022-05-13T16:24:11.291854Z",
     "iopub.status.busy": "2022-05-13T16:24:11.290903Z",
     "iopub.status.idle": "2022-05-13T16:24:14.588688Z",
     "shell.execute_reply": "2022-05-13T16:24:14.589221Z",
     "shell.execute_reply.started": "2022-05-04T01:48:02.057968Z"
    },
    "papermill": {
     "duration": 3.418508,
     "end_time": "2022-05-13T16:24:14.589412",
     "exception": false,
     "start_time": "2022-05-13T16:24:11.170904",
     "status": "completed"
    },
    "tags": []
   },
   "outputs": [],
   "source": [
    "sns.lineplot(data=data_day)\n",
    "\n",
    "# This is just for hiding the legend for now, there are a lot of labels and is difficult to see the plot\n",
    "plt.legend([],[], frameon=False)"
   ]
  },
  {
   "cell_type": "markdown",
   "id": "e2b69c98",
   "metadata": {
    "papermill": {
     "duration": 0.119232,
     "end_time": "2022-05-13T16:24:14.830894",
     "exception": false,
     "start_time": "2022-05-13T16:24:14.711662",
     "status": "completed"
    },
    "tags": []
   },
   "source": [
    "## Heatmaps"
   ]
  },
  {
   "cell_type": "markdown",
   "id": "ed0ad4d1",
   "metadata": {
    "papermill": {
     "duration": 0.120552,
     "end_time": "2022-05-13T16:24:15.076749",
     "exception": false,
     "start_time": "2022-05-13T16:24:14.956197",
     "status": "completed"
    },
    "tags": []
   },
   "source": [
    "Lineplots are easy but still pretty diffcult to visualize. Instead, we can use [heatmaps](https://seaborn.pydata.org/generated/seaborn.heatmap.html), it's also really easy. Remember you can transpose your data to change the axis, like this:"
   ]
  },
  {
   "cell_type": "code",
   "execution_count": null,
   "id": "a85410a0",
   "metadata": {
    "execution": {
     "iopub.execute_input": "2022-05-13T16:24:15.327069Z",
     "iopub.status.busy": "2022-05-13T16:24:15.326304Z",
     "iopub.status.idle": "2022-05-13T16:24:15.360740Z",
     "shell.execute_reply": "2022-05-13T16:24:15.361246Z",
     "shell.execute_reply.started": "2022-05-04T01:51:19.784602Z"
    },
    "papermill": {
     "duration": 0.163361,
     "end_time": "2022-05-13T16:24:15.361437",
     "exception": false,
     "start_time": "2022-05-13T16:24:15.198076",
     "status": "completed"
    },
    "tags": []
   },
   "outputs": [],
   "source": [
    "data_hour.T"
   ]
  },
  {
   "cell_type": "markdown",
   "id": "e5f79d0a",
   "metadata": {
    "papermill": {
     "duration": 0.119451,
     "end_time": "2022-05-13T16:24:15.603660",
     "exception": false,
     "start_time": "2022-05-13T16:24:15.484209",
     "status": "completed"
    },
    "tags": []
   },
   "source": [
    "And super-easy to plot:"
   ]
  },
  {
   "cell_type": "code",
   "execution_count": null,
   "id": "b4d83aed",
   "metadata": {
    "execution": {
     "iopub.execute_input": "2022-05-13T16:24:15.849547Z",
     "iopub.status.busy": "2022-05-13T16:24:15.848889Z",
     "iopub.status.idle": "2022-05-13T16:24:19.789280Z",
     "shell.execute_reply": "2022-05-13T16:24:19.789844Z",
     "shell.execute_reply.started": "2022-05-04T01:51:43.026816Z"
    },
    "papermill": {
     "duration": 4.06554,
     "end_time": "2022-05-13T16:24:19.790038",
     "exception": false,
     "start_time": "2022-05-13T16:24:15.724498",
     "status": "completed"
    },
    "tags": []
   },
   "outputs": [],
   "source": [
    "sns.heatmap(data_hour.T, cmap=\"hot_r\")"
   ]
  },
  {
   "cell_type": "code",
   "execution_count": null,
   "id": "6ae00af9",
   "metadata": {
    "execution": {
     "iopub.execute_input": "2022-05-13T16:24:20.046438Z",
     "iopub.status.busy": "2022-05-13T16:24:20.045747Z",
     "iopub.status.idle": "2022-05-13T16:24:22.643904Z",
     "shell.execute_reply": "2022-05-13T16:24:22.644433Z",
     "shell.execute_reply.started": "2022-05-04T01:53:48.544385Z"
    },
    "papermill": {
     "duration": 2.726684,
     "end_time": "2022-05-13T16:24:22.644628",
     "exception": false,
     "start_time": "2022-05-13T16:24:19.917944",
     "status": "completed"
    },
    "tags": []
   },
   "outputs": [],
   "source": [
    "sns.heatmap(data_day.T, cmap=\"hot_r\")"
   ]
  },
  {
   "cell_type": "markdown",
   "id": "f7dea58e",
   "metadata": {
    "papermill": {
     "duration": 0.132556,
     "end_time": "2022-05-13T16:24:22.906661",
     "exception": false,
     "start_time": "2022-05-13T16:24:22.774105",
     "status": "completed"
    },
    "tags": []
   },
   "source": [
    "With this kind of plot is pretty evident where we have gaps with no-readings."
   ]
  },
  {
   "cell_type": "markdown",
   "id": "750bdd2e",
   "metadata": {
    "papermill": {
     "duration": 0.128796,
     "end_time": "2022-05-13T16:24:23.166686",
     "exception": false,
     "start_time": "2022-05-13T16:24:23.037890",
     "status": "completed"
    },
    "tags": []
   },
   "source": [
    "# Summary stats"
   ]
  },
  {
   "cell_type": "markdown",
   "id": "ce878ca0",
   "metadata": {
    "papermill": {
     "duration": 0.12757,
     "end_time": "2022-05-13T16:24:23.422493",
     "exception": false,
     "start_time": "2022-05-13T16:24:23.294923",
     "status": "completed"
    },
    "tags": []
   },
   "source": [
    "Usually is useful to get some summary stats from our data. Fortunately, pandas has a simple method to obtain them:"
   ]
  },
  {
   "cell_type": "code",
   "execution_count": null,
   "id": "9369681b",
   "metadata": {
    "execution": {
     "iopub.execute_input": "2022-05-13T16:24:23.686716Z",
     "iopub.status.busy": "2022-05-13T16:24:23.686013Z",
     "iopub.status.idle": "2022-05-13T16:24:24.056233Z",
     "shell.execute_reply": "2022-05-13T16:24:24.055696Z",
     "shell.execute_reply.started": "2022-05-04T01:54:39.538689Z"
    },
    "papermill": {
     "duration": 0.505705,
     "end_time": "2022-05-13T16:24:24.056385",
     "exception": false,
     "start_time": "2022-05-13T16:24:23.550680",
     "status": "completed"
    },
    "tags": []
   },
   "outputs": [],
   "source": [
    "data.describe()"
   ]
  },
  {
   "cell_type": "markdown",
   "id": "a5723166",
   "metadata": {
    "papermill": {
     "duration": 0.130054,
     "end_time": "2022-05-13T16:24:24.318266",
     "exception": false,
     "start_time": "2022-05-13T16:24:24.188212",
     "status": "completed"
    },
    "tags": []
   },
   "source": [
    "These stats are usually visualizes in boxplot and histograms; these two plots can be easily obtained with the plotting libraries we are using. But first I suggest processing a little the dataframe to be able to plot all sensors in the same figure. We are using the pandas method [melt](https://pandas.pydata.org/docs/reference/api/pandas.melt.html). We have the data in this way right now:"
   ]
  },
  {
   "cell_type": "code",
   "execution_count": null,
   "id": "b6f55379",
   "metadata": {
    "execution": {
     "iopub.execute_input": "2022-05-13T16:24:24.582940Z",
     "iopub.status.busy": "2022-05-13T16:24:24.582227Z",
     "iopub.status.idle": "2022-05-13T16:24:24.606731Z",
     "shell.execute_reply": "2022-05-13T16:24:24.607274Z",
     "shell.execute_reply.started": "2022-05-04T01:55:19.525786Z"
    },
    "papermill": {
     "duration": 0.15958,
     "end_time": "2022-05-13T16:24:24.607471",
     "exception": false,
     "start_time": "2022-05-13T16:24:24.447891",
     "status": "completed"
    },
    "tags": []
   },
   "outputs": [],
   "source": [
    "data.head()"
   ]
  },
  {
   "cell_type": "markdown",
   "id": "13ffe23c",
   "metadata": {
    "papermill": {
     "duration": 0.130869,
     "end_time": "2022-05-13T16:24:24.871540",
     "exception": false,
     "start_time": "2022-05-13T16:24:24.740671",
     "status": "completed"
    },
    "tags": []
   },
   "source": [
    "If we use the `melt` method we can convert our columns in rows, creating a new one that indicates which column it was. Is easier seeing the results, check it out:"
   ]
  },
  {
   "cell_type": "code",
   "execution_count": null,
   "id": "b9c3c840",
   "metadata": {
    "execution": {
     "iopub.execute_input": "2022-05-13T16:24:25.139143Z",
     "iopub.status.busy": "2022-05-13T16:24:25.138481Z",
     "iopub.status.idle": "2022-05-13T16:24:35.571505Z",
     "shell.execute_reply": "2022-05-13T16:24:35.570820Z",
     "shell.execute_reply.started": "2022-05-04T01:55:50.435545Z"
    },
    "papermill": {
     "duration": 10.567508,
     "end_time": "2022-05-13T16:24:35.571660",
     "exception": false,
     "start_time": "2022-05-13T16:24:25.004152",
     "status": "completed"
    },
    "tags": []
   },
   "outputs": [],
   "source": [
    "melted_data = data.melt(id_vars=\"timestamp\", var_name=\"sensor\", value_name=\"temperature\")\n",
    "melted_data"
   ]
  },
  {
   "cell_type": "markdown",
   "id": "d74d3daf",
   "metadata": {
    "papermill": {
     "duration": 0.130796,
     "end_time": "2022-05-13T16:24:35.833365",
     "exception": false,
     "start_time": "2022-05-13T16:24:35.702569",
     "status": "completed"
    },
    "tags": []
   },
   "source": [
    "And now that we have the data in this shape, is easy to get a boxplot:"
   ]
  },
  {
   "cell_type": "code",
   "execution_count": null,
   "id": "e14d20a4",
   "metadata": {
    "execution": {
     "iopub.execute_input": "2022-05-13T16:24:36.340290Z",
     "iopub.status.busy": "2022-05-13T16:24:36.339291Z",
     "iopub.status.idle": "2022-05-13T16:24:41.855129Z",
     "shell.execute_reply": "2022-05-13T16:24:41.855774Z",
     "shell.execute_reply.started": "2022-05-04T01:56:22.503705Z"
    },
    "papermill": {
     "duration": 5.889257,
     "end_time": "2022-05-13T16:24:41.855958",
     "exception": false,
     "start_time": "2022-05-13T16:24:35.966701",
     "status": "completed"
    },
    "tags": []
   },
   "outputs": [],
   "source": [
    "fig = sns.boxplot(y=\"temperature\", x=\"sensor\", data=melted_data)\n",
    "labels = plt.xticks(rotation=90)"
   ]
  },
  {
   "cell_type": "markdown",
   "id": "43fe1e99",
   "metadata": {
    "papermill": {
     "duration": 0.135023,
     "end_time": "2022-05-13T16:24:42.128133",
     "exception": false,
     "start_time": "2022-05-13T16:24:41.993110",
     "status": "completed"
    },
    "tags": []
   },
   "source": [
    "We can also plot an histogram, but with this number of sensors a boxplot is cleaner:"
   ]
  },
  {
   "cell_type": "code",
   "execution_count": null,
   "id": "0abc4e10",
   "metadata": {
    "execution": {
     "iopub.execute_input": "2022-05-13T16:24:42.400907Z",
     "iopub.status.busy": "2022-05-13T16:24:42.400213Z",
     "iopub.status.idle": "2022-05-13T16:25:00.947158Z",
     "shell.execute_reply": "2022-05-13T16:25:00.947704Z",
     "shell.execute_reply.started": "2022-05-04T01:56:49.510428Z"
    },
    "papermill": {
     "duration": 18.683849,
     "end_time": "2022-05-13T16:25:00.947881",
     "exception": false,
     "start_time": "2022-05-13T16:24:42.264032",
     "status": "completed"
    },
    "tags": []
   },
   "outputs": [],
   "source": [
    "fig = sns.histplot(data=melted_data, x=\"temperature\", hue=\"sensor\", bins=20, kde=True, palette=\"Dark2\")\n",
    "\n",
    "# This is just for hiding the legend for now, there are a lot of labels and is difficult to see the plot\n",
    "plt.legend([],[], frameon=False)"
   ]
  },
  {
   "cell_type": "markdown",
   "id": "a339cf43",
   "metadata": {
    "papermill": {
     "duration": 0.135031,
     "end_time": "2022-05-13T16:25:01.222304",
     "exception": false,
     "start_time": "2022-05-13T16:25:01.087273",
     "status": "completed"
    },
    "tags": []
   },
   "source": [
    "Finally, let's create a dataset with the stats. "
   ]
  },
  {
   "cell_type": "code",
   "execution_count": null,
   "id": "0fa2bcee",
   "metadata": {
    "execution": {
     "iopub.execute_input": "2022-05-13T16:25:01.499604Z",
     "iopub.status.busy": "2022-05-13T16:25:01.498021Z",
     "iopub.status.idle": "2022-05-13T16:25:01.842311Z",
     "shell.execute_reply": "2022-05-13T16:25:01.842828Z",
     "shell.execute_reply.started": "2022-05-04T01:57:51.951746Z"
    },
    "papermill": {
     "duration": 0.483777,
     "end_time": "2022-05-13T16:25:01.843016",
     "exception": false,
     "start_time": "2022-05-13T16:25:01.359239",
     "status": "completed"
    },
    "tags": []
   },
   "outputs": [],
   "source": [
    "stats_data = data.describe()\n",
    "stats_data"
   ]
  },
  {
   "cell_type": "markdown",
   "id": "4a778623",
   "metadata": {
    "papermill": {
     "duration": 0.137247,
     "end_time": "2022-05-13T16:25:02.121023",
     "exception": false,
     "start_time": "2022-05-13T16:25:01.983776",
     "status": "completed"
    },
    "tags": []
   },
   "source": [
    "We are transposing it and reseting the index to keep a column with the point id (was the name of the column):"
   ]
  },
  {
   "cell_type": "code",
   "execution_count": null,
   "id": "fbcce71e",
   "metadata": {
    "execution": {
     "iopub.execute_input": "2022-05-13T16:25:02.401029Z",
     "iopub.status.busy": "2022-05-13T16:25:02.400339Z",
     "iopub.status.idle": "2022-05-13T16:25:02.423015Z",
     "shell.execute_reply": "2022-05-13T16:25:02.423549Z",
     "shell.execute_reply.started": "2022-05-04T01:58:02.364351Z"
    },
    "papermill": {
     "duration": 0.164742,
     "end_time": "2022-05-13T16:25:02.423728",
     "exception": false,
     "start_time": "2022-05-13T16:25:02.258986",
     "status": "completed"
    },
    "tags": []
   },
   "outputs": [],
   "source": [
    "stats_data = stats_data.T.reset_index().rename(columns={\"index\":\"id_point\"})\n",
    "stats_data"
   ]
  },
  {
   "cell_type": "markdown",
   "id": "18ca9867",
   "metadata": {
    "papermill": {
     "duration": 0.140063,
     "end_time": "2022-05-13T16:25:02.701179",
     "exception": false,
     "start_time": "2022-05-13T16:25:02.561116",
     "status": "completed"
    },
    "tags": []
   },
   "source": [
    "And now let's convert the `id_point` column in our metadata set to string (is an int right now) so we are able to merge with `stats_data`:"
   ]
  },
  {
   "cell_type": "code",
   "execution_count": null,
   "id": "7aeb6771",
   "metadata": {
    "execution": {
     "iopub.execute_input": "2022-05-13T16:25:02.983945Z",
     "iopub.status.busy": "2022-05-13T16:25:02.983224Z",
     "iopub.status.idle": "2022-05-13T16:25:02.987806Z",
     "shell.execute_reply": "2022-05-13T16:25:02.988251Z",
     "shell.execute_reply.started": "2022-05-04T01:58:08.636223Z"
    },
    "papermill": {
     "duration": 0.148447,
     "end_time": "2022-05-13T16:25:02.988449",
     "exception": false,
     "start_time": "2022-05-13T16:25:02.840002",
     "status": "completed"
    },
    "tags": []
   },
   "outputs": [],
   "source": [
    "metadata['id_point'] = metadata['id_point'].astype(str)"
   ]
  },
  {
   "cell_type": "markdown",
   "id": "fe93d76a",
   "metadata": {
    "papermill": {
     "duration": 0.136543,
     "end_time": "2022-05-13T16:25:03.261648",
     "exception": false,
     "start_time": "2022-05-13T16:25:03.125105",
     "status": "completed"
    },
    "tags": []
   },
   "source": [
    "And merge!"
   ]
  },
  {
   "cell_type": "code",
   "execution_count": null,
   "id": "edc06e13",
   "metadata": {
    "execution": {
     "iopub.execute_input": "2022-05-13T16:25:03.539069Z",
     "iopub.status.busy": "2022-05-13T16:25:03.538357Z",
     "iopub.status.idle": "2022-05-13T16:25:03.573207Z",
     "shell.execute_reply": "2022-05-13T16:25:03.573718Z",
     "shell.execute_reply.started": "2022-05-04T01:58:26.144368Z"
    },
    "papermill": {
     "duration": 0.17522,
     "end_time": "2022-05-13T16:25:03.573908",
     "exception": false,
     "start_time": "2022-05-13T16:25:03.398688",
     "status": "completed"
    },
    "tags": []
   },
   "outputs": [],
   "source": [
    "stats_merged = pd.merge(stats_data, metadata, how=\"left\", on=\"id_point\")\n",
    "stats_merged.head()"
   ]
  },
  {
   "cell_type": "code",
   "execution_count": null,
   "id": "9c79a77d",
   "metadata": {
    "execution": {
     "iopub.execute_input": "2022-05-13T16:25:03.864835Z",
     "iopub.status.busy": "2022-05-13T16:25:03.855266Z",
     "iopub.status.idle": "2022-05-13T16:25:03.904103Z",
     "shell.execute_reply": "2022-05-13T16:25:03.904640Z",
     "shell.execute_reply.started": "2022-05-04T01:58:32.54441Z"
    },
    "papermill": {
     "duration": 0.192931,
     "end_time": "2022-05-13T16:25:03.904817",
     "exception": false,
     "start_time": "2022-05-13T16:25:03.711886",
     "status": "completed"
    },
    "tags": []
   },
   "outputs": [],
   "source": [
    "metadata.T"
   ]
  },
  {
   "cell_type": "markdown",
   "id": "42cad611",
   "metadata": {
    "papermill": {
     "duration": 0.139882,
     "end_time": "2022-05-13T16:25:04.190025",
     "exception": false,
     "start_time": "2022-05-13T16:25:04.050143",
     "status": "completed"
    },
    "tags": []
   },
   "source": [
    "Finally, plot! we want to visualize the mean temperature of the points, colored by the building name."
   ]
  },
  {
   "cell_type": "code",
   "execution_count": null,
   "id": "b9f36e9b",
   "metadata": {
    "execution": {
     "iopub.execute_input": "2022-05-13T16:25:04.486049Z",
     "iopub.status.busy": "2022-05-13T16:25:04.485295Z",
     "iopub.status.idle": "2022-05-13T16:25:11.219728Z",
     "shell.execute_reply": "2022-05-13T16:25:11.220241Z",
     "shell.execute_reply.started": "2022-05-04T01:58:45.196447Z"
    },
    "papermill": {
     "duration": 6.890633,
     "end_time": "2022-05-13T16:25:11.220439",
     "exception": false,
     "start_time": "2022-05-13T16:25:04.329806",
     "status": "completed"
    },
    "tags": []
   },
   "outputs": [],
   "source": [
    "fig = sns.barplot(data=stats_merged, x=\"id_point\", y=\"mean\", hue=\"name_bdg\", dodge=False)\n",
    "labels = plt.xticks(rotation=90)"
   ]
  },
  {
   "cell_type": "code",
   "execution_count": null,
   "id": "1b9787d8",
   "metadata": {
    "papermill": {
     "duration": 0.143408,
     "end_time": "2022-05-13T16:25:11.511388",
     "exception": false,
     "start_time": "2022-05-13T16:25:11.367980",
     "status": "completed"
    },
    "tags": []
   },
   "outputs": [],
   "source": []
  }
 ],
 "metadata": {
  "kernelspec": {
   "display_name": "Python 3 (ipykernel)",
   "language": "python",
   "name": "python3"
  },
  "language_info": {
   "codemirror_mode": {
    "name": "ipython",
    "version": 3
   },
   "file_extension": ".py",
   "mimetype": "text/x-python",
   "name": "python",
   "nbconvert_exporter": "python",
   "pygments_lexer": "ipython3",
   "version": "3.8.5"
  },
  "papermill": {
   "default_parameters": {},
   "duration": 192.25275,
   "end_time": "2022-05-13T16:25:13.067333",
   "environment_variables": {},
   "exception": null,
   "input_path": "__notebook__.ipynb",
   "output_path": "__notebook__.ipynb",
   "parameters": {},
   "start_time": "2022-05-13T16:22:00.814583",
   "version": "2.3.3"
  }
 },
 "nbformat": 4,
 "nbformat_minor": 5
}