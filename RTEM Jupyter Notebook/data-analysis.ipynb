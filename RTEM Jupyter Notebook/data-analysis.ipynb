{
 "cells": [
  {
   "cell_type": "markdown",
   "id": "b0d42040",
   "metadata": {
    "papermill": {
     "duration": 0.082603,
     "end_time": "2022-05-13T16:22:11.477159",
     "exception": false,
     "start_time": "2022-05-13T16:22:11.394556",
     "status": "completed"
    },
    "pycharm": {
     "name": "#%% md\n"
    },
    "tags": []
   },
   "source": [
    "# Time Series Analysis Examples\n",
    "In this notebook we will be transforming and exploring time-series data from Onboard API. Make sure to run the following chunk of code first in order to install it.\n",
    "\n",
    "How to query time-series from data points, process and visually explore them. This notebook is outlined in several YouTube videos that discuss:\n",
    "- how [to load and filter time-series data](https://youtu.be/KDThdyes8kc) from sensors\n",
    "- [resample and transform time-series data](https://youtu.be/VlQNGwiSSKM)\n",
    "- and [create heat maps and boxplots of data](https://youtu.be/QMr0y9LOlr8) for exploration"
   ]
  },
  {
   "cell_type": "code",
   "execution_count": 1,
   "id": "bdf51c77",
   "metadata": {
    "execution": {
     "iopub.execute_input": "2022-05-13T16:22:25.248391Z",
     "iopub.status.busy": "2022-05-13T16:22:25.247721Z",
     "iopub.status.idle": "2022-05-13T16:22:25.387229Z",
     "shell.execute_reply": "2022-05-13T16:22:25.388051Z",
     "shell.execute_reply.started": "2022-05-04T01:29:00.25444Z"
    },
    "papermill": {
     "duration": 0.23365,
     "end_time": "2022-05-13T16:22:25.388267",
     "exception": false,
     "start_time": "2022-05-13T16:22:25.154617",
     "status": "completed"
    },
    "pycharm": {
     "name": "#%%\n"
    },
    "tags": []
   },
   "outputs": [],
   "source": [
    "import pandas as pd\n",
    "from onboard.client import RtemClient"
   ]
  },
  {
   "cell_type": "markdown",
   "id": "dbc0a33a",
   "metadata": {
    "papermill": {
     "duration": 0.087019,
     "end_time": "2022-05-13T16:22:25.562206",
     "exception": false,
     "start_time": "2022-05-13T16:22:25.475187",
     "status": "completed"
    },
    "pycharm": {
     "name": "#%% md\n"
    },
    "tags": []
   },
   "source": [
    "# Create the client"
   ]
  },
  {
   "cell_type": "markdown",
   "id": "f54d0a3e",
   "metadata": {
    "papermill": {
     "duration": 0.085554,
     "end_time": "2022-05-13T16:22:25.736877",
     "exception": false,
     "start_time": "2022-05-13T16:22:25.651323",
     "status": "completed"
    },
    "pycharm": {
     "name": "#%% md\n"
    },
    "tags": []
   },
   "source": [
    "For this notebook, you need to use the API Key with acces to the general scope and building:read scope. Let's create the client:"
   ]
  },
  {
   "cell_type": "code",
   "execution_count": 2,
   "id": "ef69e995",
   "metadata": {
    "execution": {
     "iopub.execute_input": "2022-05-13T16:22:25.913818Z",
     "iopub.status.busy": "2022-05-13T16:22:25.913100Z",
     "iopub.status.idle": "2022-05-13T16:22:25.915977Z",
     "shell.execute_reply": "2022-05-13T16:22:25.916657Z",
     "shell.execute_reply.started": "2022-05-04T01:29:05.439395Z"
    },
    "papermill": {
     "duration": 0.093458,
     "end_time": "2022-05-13T16:22:25.916844",
     "exception": false,
     "start_time": "2022-05-13T16:22:25.823386",
     "status": "completed"
    },
    "pycharm": {
     "name": "#%%\n"
    },
    "tags": []
   },
   "outputs": [],
   "source": [
    "api_key = 'ob-p-_KnPccpVFOwKvS5u_SpKixHjKKq6H1JvrzwjxISOfPiNKKZ56_EeE5ORVJOGGtx0d_k'"
   ]
  },
  {
   "cell_type": "code",
   "execution_count": 3,
   "id": "56d72316",
   "metadata": {
    "execution": {
     "iopub.execute_input": "2022-05-13T16:22:26.844180Z",
     "iopub.status.busy": "2022-05-13T16:22:26.843356Z",
     "iopub.status.idle": "2022-05-13T16:22:26.848246Z",
     "shell.execute_reply": "2022-05-13T16:22:26.847722Z",
     "shell.execute_reply.started": "2022-05-04T01:29:08.893873Z"
    },
    "papermill": {
     "duration": 0.095438,
     "end_time": "2022-05-13T16:22:26.848389",
     "exception": false,
     "start_time": "2022-05-13T16:22:26.752951",
     "status": "completed"
    },
    "pycharm": {
     "name": "#%%\n"
    },
    "tags": []
   },
   "outputs": [],
   "source": [
    "client = RtemClient(api_key=api_key)"
   ]
  },
  {
   "cell_type": "markdown",
   "id": "fa44cc8d",
   "metadata": {
    "papermill": {
     "duration": 0.088361,
     "end_time": "2022-05-13T16:22:27.024529",
     "exception": false,
     "start_time": "2022-05-13T16:22:26.936168",
     "status": "completed"
    },
    "pycharm": {
     "name": "#%% md\n"
    },
    "tags": []
   },
   "source": [
    "# Load & filter data"
   ]
  },
  {
   "cell_type": "markdown",
   "id": "77b13a17",
   "metadata": {
    "papermill": {
     "duration": 0.086231,
     "end_time": "2022-05-13T16:22:27.197739",
     "exception": false,
     "start_time": "2022-05-13T16:22:27.111508",
     "status": "completed"
    },
    "pycharm": {
     "name": "#%% md\n"
    },
    "tags": []
   },
   "source": [
    "We will be using the metadata file we obtained from Onboard API in the previous notebook. Of course you can query these points again, but let's learn how to load and filter the data using *pandas*:"
   ]
  },
  {
   "cell_type": "code",
   "execution_count": 4,
   "id": "7a10e7db",
   "metadata": {
    "execution": {
     "iopub.execute_input": "2022-05-13T16:22:27.378162Z",
     "iopub.status.busy": "2022-05-13T16:22:27.377526Z",
     "iopub.status.idle": "2022-05-13T16:22:27.859725Z",
     "shell.execute_reply": "2022-05-13T16:22:27.860215Z",
     "shell.execute_reply.started": "2022-05-04T01:30:24.572709Z"
    },
    "papermill": {
     "duration": 0.575997,
     "end_time": "2022-05-13T16:22:27.860423",
     "exception": false,
     "start_time": "2022-05-13T16:22:27.284426",
     "status": "completed"
    },
    "pycharm": {
     "name": "#%%\n"
    },
    "tags": []
   },
   "outputs": [],
   "source": [
    "metadata = pd.read_csv(\"./rtem_all_points_metadata.csv\")"
   ]
  },
  {
   "cell_type": "markdown",
   "id": "488ed33e",
   "metadata": {
    "papermill": {
     "duration": 0.086013,
     "end_time": "2022-05-13T16:22:28.033894",
     "exception": false,
     "start_time": "2022-05-13T16:22:27.947881",
     "status": "completed"
    },
    "pycharm": {
     "name": "#%% md\n"
    },
    "tags": []
   },
   "source": [
    "Let's check the data types:"
   ]
  },
  {
   "cell_type": "code",
   "execution_count": 5,
   "id": "da29ae26",
   "metadata": {
    "execution": {
     "iopub.execute_input": "2022-05-13T16:22:28.219997Z",
     "iopub.status.busy": "2022-05-13T16:22:28.218982Z",
     "iopub.status.idle": "2022-05-13T16:22:28.290668Z",
     "shell.execute_reply": "2022-05-13T16:22:28.291377Z",
     "shell.execute_reply.started": "2022-05-04T01:30:27.006363Z"
    },
    "papermill": {
     "duration": 0.168678,
     "end_time": "2022-05-13T16:22:28.291630",
     "exception": false,
     "start_time": "2022-05-13T16:22:28.122952",
     "status": "completed"
    },
    "pycharm": {
     "name": "#%%\n"
    },
    "tags": []
   },
   "outputs": [
    {
     "name": "stdout",
     "output_type": "stream",
     "text": [
      "<class 'pandas.core.frame.DataFrame'>\n",
      "RangeIndex: 44390 entries, 0 to 44389\n",
      "Data columns (total 24 columns):\n",
      " #   Column            Non-Null Count  Dtype  \n",
      "---  ------            --------------  -----  \n",
      " 0   id_point          44390 non-null  int64  \n",
      " 1   building_id       44390 non-null  int64  \n",
      " 2   last_updated      44342 non-null  float64\n",
      " 3   first_updated     44342 non-null  float64\n",
      " 4   device            0 non-null      float64\n",
      " 5   objectId          0 non-null      float64\n",
      " 6   name_point        14658 non-null  object \n",
      " 7   description       31843 non-null  object \n",
      " 8   units             31687 non-null  object \n",
      " 9   tagged_units      14654 non-null  object \n",
      " 10  raw_unit_id       44390 non-null  int64  \n",
      " 11  value             44274 non-null  object \n",
      " 12  type              44390 non-null  object \n",
      " 13  point_type_id     44390 non-null  int64  \n",
      " 14  measurement_id    44390 non-null  int64  \n",
      " 15  datasource_hash   44390 non-null  object \n",
      " 16  topic             44390 non-null  object \n",
      " 17  equip_id          44390 non-null  int64  \n",
      " 18  id_bdg            44390 non-null  int64  \n",
      " 19  name_bdg          44390 non-null  int64  \n",
      " 20  equip_type_abbr   44390 non-null  object \n",
      " 21  equip_type_name   44390 non-null  object \n",
      " 22  area_served_desc  0 non-null      float64\n",
      " 23  tags              44390 non-null  object \n",
      "dtypes: float64(5), int64(8), object(11)\n",
      "memory usage: 8.1+ MB\n"
     ]
    }
   ],
   "source": [
    "metadata.info()"
   ]
  },
  {
   "cell_type": "code",
   "execution_count": 6,
   "id": "8eabd907",
   "metadata": {
    "execution": {
     "iopub.execute_input": "2022-05-13T16:22:28.472523Z",
     "iopub.status.busy": "2022-05-13T16:22:28.470051Z",
     "iopub.status.idle": "2022-05-13T16:22:28.507993Z",
     "shell.execute_reply": "2022-05-13T16:22:28.508549Z",
     "shell.execute_reply.started": "2022-05-04T01:30:46.750421Z"
    },
    "papermill": {
     "duration": 0.1292,
     "end_time": "2022-05-13T16:22:28.508729",
     "exception": false,
     "start_time": "2022-05-13T16:22:28.379529",
     "status": "completed"
    },
    "pycharm": {
     "name": "#%%\n"
    },
    "tags": []
   },
   "outputs": [
    {
     "data": {
      "text/plain": "   id_point  building_id  last_updated  first_updated  device  objectId  \\\n0    310029          441  1.560571e+12   1.550542e+12     NaN       NaN   \n1    310009          441  1.560485e+12   1.550701e+12     NaN       NaN   \n2    310010          441  1.560571e+12   1.550504e+12     NaN       NaN   \n3    310011          441  1.560485e+12   1.550504e+12     NaN       NaN   \n4    310012          441  1.560485e+12   1.550504e+12     NaN       NaN   \n\n                              name_point description units tagged_units  ...  \\\n0    245 E 149th St. Boiler-1 Fault Code         NaN     ?            ?  ...   \n1  225 E 149th St. Boiler-1 Exhaust Temp         NaN     F            f  ...   \n2    225 E 149th St. Boiler-1 Fault Code         NaN     ?            ?  ...   \n3     225 E 149th St. Boiler-1 FFWD Temp         NaN     ?            ?  ...   \n4  225 E 149th St. Boiler-1 Fire Rate In         NaN     ?            ?  ...   \n\n   measurement_id                   datasource_hash  \\\n0              18  b115b5053493748f7076ad09f69c4456   \n1               1  4a1a11502acee3078352da312c40c262   \n2              18  55882633fe8fb5aac7dac643c99b1af5   \n3              18  831a8df09b848f53e807fa0204c45eaa   \n4              18  aa147c829c7ed55b6e93cdbbb8b43d55   \n\n                                               topic  equip_id  id_bdg  \\\n0  nyserda+0000088737+boiler-1+245 E 149th St. Bo...     28797     441   \n1  nyserda+0000088737+boiler-1+225 E 149th St. Bo...     28797     441   \n2  nyserda+0000088737+boiler-1+225 E 149th St. Bo...     28797     441   \n3  nyserda+0000088737+boiler-1+225 E 149th St. Bo...     28797     441   \n4  nyserda+0000088737+boiler-1+225 E 149th St. Bo...     28797     441   \n\n  name_bdg equip_type_abbr  equip_type_name  area_served_desc  \\\n0    88737             BLR           Boiler               NaN   \n1    88737             BLR           Boiler               NaN   \n2    88737             BLR           Boiler               NaN   \n3    88737             BLR           Boiler               NaN   \n4    88737             BLR           Boiler               NaN   \n\n                 tags  \n0  ['boiler', 'hvac']  \n1  ['boiler', 'hvac']  \n2  ['boiler', 'hvac']  \n3  ['boiler', 'hvac']  \n4  ['boiler', 'hvac']  \n\n[5 rows x 24 columns]",
      "text/html": "<div>\n<style scoped>\n    .dataframe tbody tr th:only-of-type {\n        vertical-align: middle;\n    }\n\n    .dataframe tbody tr th {\n        vertical-align: top;\n    }\n\n    .dataframe thead th {\n        text-align: right;\n    }\n</style>\n<table border=\"1\" class=\"dataframe\">\n  <thead>\n    <tr style=\"text-align: right;\">\n      <th></th>\n      <th>id_point</th>\n      <th>building_id</th>\n      <th>last_updated</th>\n      <th>first_updated</th>\n      <th>device</th>\n      <th>objectId</th>\n      <th>name_point</th>\n      <th>description</th>\n      <th>units</th>\n      <th>tagged_units</th>\n      <th>...</th>\n      <th>measurement_id</th>\n      <th>datasource_hash</th>\n      <th>topic</th>\n      <th>equip_id</th>\n      <th>id_bdg</th>\n      <th>name_bdg</th>\n      <th>equip_type_abbr</th>\n      <th>equip_type_name</th>\n      <th>area_served_desc</th>\n      <th>tags</th>\n    </tr>\n  </thead>\n  <tbody>\n    <tr>\n      <th>0</th>\n      <td>310029</td>\n      <td>441</td>\n      <td>1.560571e+12</td>\n      <td>1.550542e+12</td>\n      <td>NaN</td>\n      <td>NaN</td>\n      <td>245 E 149th St. Boiler-1 Fault Code</td>\n      <td>NaN</td>\n      <td>?</td>\n      <td>?</td>\n      <td>...</td>\n      <td>18</td>\n      <td>b115b5053493748f7076ad09f69c4456</td>\n      <td>nyserda+0000088737+boiler-1+245 E 149th St. Bo...</td>\n      <td>28797</td>\n      <td>441</td>\n      <td>88737</td>\n      <td>BLR</td>\n      <td>Boiler</td>\n      <td>NaN</td>\n      <td>['boiler', 'hvac']</td>\n    </tr>\n    <tr>\n      <th>1</th>\n      <td>310009</td>\n      <td>441</td>\n      <td>1.560485e+12</td>\n      <td>1.550701e+12</td>\n      <td>NaN</td>\n      <td>NaN</td>\n      <td>225 E 149th St. Boiler-1 Exhaust Temp</td>\n      <td>NaN</td>\n      <td>F</td>\n      <td>f</td>\n      <td>...</td>\n      <td>1</td>\n      <td>4a1a11502acee3078352da312c40c262</td>\n      <td>nyserda+0000088737+boiler-1+225 E 149th St. Bo...</td>\n      <td>28797</td>\n      <td>441</td>\n      <td>88737</td>\n      <td>BLR</td>\n      <td>Boiler</td>\n      <td>NaN</td>\n      <td>['boiler', 'hvac']</td>\n    </tr>\n    <tr>\n      <th>2</th>\n      <td>310010</td>\n      <td>441</td>\n      <td>1.560571e+12</td>\n      <td>1.550504e+12</td>\n      <td>NaN</td>\n      <td>NaN</td>\n      <td>225 E 149th St. Boiler-1 Fault Code</td>\n      <td>NaN</td>\n      <td>?</td>\n      <td>?</td>\n      <td>...</td>\n      <td>18</td>\n      <td>55882633fe8fb5aac7dac643c99b1af5</td>\n      <td>nyserda+0000088737+boiler-1+225 E 149th St. Bo...</td>\n      <td>28797</td>\n      <td>441</td>\n      <td>88737</td>\n      <td>BLR</td>\n      <td>Boiler</td>\n      <td>NaN</td>\n      <td>['boiler', 'hvac']</td>\n    </tr>\n    <tr>\n      <th>3</th>\n      <td>310011</td>\n      <td>441</td>\n      <td>1.560485e+12</td>\n      <td>1.550504e+12</td>\n      <td>NaN</td>\n      <td>NaN</td>\n      <td>225 E 149th St. Boiler-1 FFWD Temp</td>\n      <td>NaN</td>\n      <td>?</td>\n      <td>?</td>\n      <td>...</td>\n      <td>18</td>\n      <td>831a8df09b848f53e807fa0204c45eaa</td>\n      <td>nyserda+0000088737+boiler-1+225 E 149th St. Bo...</td>\n      <td>28797</td>\n      <td>441</td>\n      <td>88737</td>\n      <td>BLR</td>\n      <td>Boiler</td>\n      <td>NaN</td>\n      <td>['boiler', 'hvac']</td>\n    </tr>\n    <tr>\n      <th>4</th>\n      <td>310012</td>\n      <td>441</td>\n      <td>1.560485e+12</td>\n      <td>1.550504e+12</td>\n      <td>NaN</td>\n      <td>NaN</td>\n      <td>225 E 149th St. Boiler-1 Fire Rate In</td>\n      <td>NaN</td>\n      <td>?</td>\n      <td>?</td>\n      <td>...</td>\n      <td>18</td>\n      <td>aa147c829c7ed55b6e93cdbbb8b43d55</td>\n      <td>nyserda+0000088737+boiler-1+225 E 149th St. Bo...</td>\n      <td>28797</td>\n      <td>441</td>\n      <td>88737</td>\n      <td>BLR</td>\n      <td>Boiler</td>\n      <td>NaN</td>\n      <td>['boiler', 'hvac']</td>\n    </tr>\n  </tbody>\n</table>\n<p>5 rows × 24 columns</p>\n</div>"
     },
     "execution_count": 6,
     "metadata": {},
     "output_type": "execute_result"
    }
   ],
   "source": [
    "metadata.head()"
   ]
  },
  {
   "cell_type": "markdown",
   "id": "eb9b65dd",
   "metadata": {
    "papermill": {
     "duration": 0.088525,
     "end_time": "2022-05-13T16:22:28.686552",
     "exception": false,
     "start_time": "2022-05-13T16:22:28.598027",
     "status": "completed"
    },
    "pycharm": {
     "name": "#%% md\n"
    },
    "tags": []
   },
   "source": [
    "We have a lot of points here:"
   ]
  },
  {
   "cell_type": "code",
   "execution_count": 7,
   "id": "6c6a3542",
   "metadata": {
    "execution": {
     "iopub.execute_input": "2022-05-13T16:22:28.869339Z",
     "iopub.status.busy": "2022-05-13T16:22:28.868279Z",
     "iopub.status.idle": "2022-05-13T16:22:28.872357Z",
     "shell.execute_reply": "2022-05-13T16:22:28.871813Z",
     "shell.execute_reply.started": "2022-05-04T01:31:10.656197Z"
    },
    "papermill": {
     "duration": 0.096718,
     "end_time": "2022-05-13T16:22:28.872557",
     "exception": false,
     "start_time": "2022-05-13T16:22:28.775839",
     "status": "completed"
    },
    "pycharm": {
     "name": "#%%\n"
    },
    "tags": []
   },
   "outputs": [
    {
     "data": {
      "text/plain": "44390"
     },
     "execution_count": 7,
     "metadata": {},
     "output_type": "execute_result"
    }
   ],
   "source": [
    "len(metadata.id_point)"
   ]
  },
  {
   "cell_type": "markdown",
   "id": "e954dc2b",
   "metadata": {
    "papermill": {
     "duration": 0.089319,
     "end_time": "2022-05-13T16:22:29.049750",
     "exception": false,
     "start_time": "2022-05-13T16:22:28.960431",
     "status": "completed"
    },
    "pycharm": {
     "name": "#%% md\n"
    },
    "tags": []
   },
   "source": [
    "Let's filter out only the Zone Temperature sensors -that's the `type_id` 77, you can confirm this querying the ontology data, like we did in the previous notebook ;)- and that are Fan Coil Units:"
   ]
  },
  {
   "cell_type": "code",
   "execution_count": 8,
   "id": "8342b40f",
   "metadata": {
    "execution": {
     "iopub.execute_input": "2022-05-13T16:22:29.231313Z",
     "iopub.status.busy": "2022-05-13T16:22:29.230324Z",
     "iopub.status.idle": "2022-05-13T16:22:29.245501Z",
     "shell.execute_reply": "2022-05-13T16:22:29.246015Z",
     "shell.execute_reply.started": "2022-05-04T01:32:03.014508Z"
    },
    "papermill": {
     "duration": 0.108664,
     "end_time": "2022-05-13T16:22:29.246189",
     "exception": false,
     "start_time": "2022-05-13T16:22:29.137525",
     "status": "completed"
    },
    "pycharm": {
     "name": "#%%\n"
    },
    "tags": []
   },
   "outputs": [],
   "source": [
    "boiler_data = metadata[(metadata.equip_type_name == \"Boiler\")]\n",
    "pump_data = metadata[(metadata.equip_type_name == \"Pump\")]\n",
    "hws_data = metadata[(metadata.equip_type_name == \"Hot Water Plant\")]"
   ]
  },
  {
   "cell_type": "code",
   "execution_count": 9,
   "id": "8a69f6f5",
   "metadata": {
    "pycharm": {
     "name": "#%%\n"
    }
   },
   "outputs": [],
   "source": [
    "ahu_data = metadata[(metadata.equip_type_name == \"Air Handling Unit\")]"
   ]
  },
  {
   "cell_type": "code",
   "execution_count": 10,
   "id": "4b56a5df",
   "metadata": {
    "pycharm": {
     "name": "#%%\n"
    }
   },
   "outputs": [
    {
     "data": {
      "text/plain": "array([18092, 18093, 18094, ..., 22747, 32352, 32353], dtype=int64)"
     },
     "execution_count": 10,
     "metadata": {},
     "output_type": "execute_result"
    }
   ],
   "source": [
    "ahu_data['equip_id'].unique()"
   ]
  },
  {
   "cell_type": "code",
   "execution_count": 11,
   "id": "bf37e2a0",
   "metadata": {},
   "outputs": [
    {
     "data": {
      "text/plain": "False"
     },
     "execution_count": 11,
     "metadata": {},
     "output_type": "execute_result"
    }
   ],
   "source": [
    "\"Supply Air Static Pressure\" in metadata.type"
   ]
  },
  {
   "cell_type": "code",
   "execution_count": 32,
   "outputs": [],
   "source": [
    "## Supply Air Static Pressure"
   ],
   "metadata": {
    "collapsed": false,
    "pycharm": {
     "name": "#%%\n"
    }
   }
  },
  {
   "cell_type": "code",
   "execution_count": 25,
   "id": "db79f3f1",
   "metadata": {
    "pycharm": {
     "name": "#%%\n"
    }
   },
   "outputs": [
    {
     "data": {
      "text/plain": "       id_point  building_id  last_updated  first_updated  device  objectId  \\\n1944     210913          271  1.551416e+12   1.527826e+12     NaN       NaN   \n1962     210935          271  1.551416e+12   1.527826e+12     NaN       NaN   \n1986     210958          271  1.551416e+12   1.527826e+12     NaN       NaN   \n2048     211015          271  1.550897e+12   1.527826e+12     NaN       NaN   \n2069     211038          271  1.550897e+12   1.527826e+12     NaN       NaN   \n...         ...          ...           ...            ...     ...       ...   \n43021    230363          394  1.546318e+12   1.514783e+12     NaN       NaN   \n43768    228171          383  1.528170e+12   1.526875e+12     NaN       NaN   \n43774    228119          383  1.528170e+12   1.501560e+12     NaN       NaN   \n44309    231057          398  1.577768e+12   1.571890e+12     NaN       NaN   \n44322    231067          398  1.577768e+12   1.571890e+12     NaN       NaN   \n\n      name_point                                      description units  \\\n1944         NaN                      3RD FL CSC_Supply Air Press   psi   \n1962         NaN                      4TH FL CSC_Supply Air Press   psi   \n1986         NaN                      5TH FL CSC_Supply Air Press   psi   \n2048         NaN           1 RTU-1 AUDITORIUM_Supply Air Pressure   psi   \n2069         NaN  RTU-2 MAIN OFFICE 1st Floor_Supply Air Pressure   psi   \n...          ...                                              ...   ...   \n43021        NaN                                 HVAC F20 SStatic   psi   \n43768        NaN         AHU-1 (COOLING COIL #2)_Supply Air Press   psi   \n43774        NaN         AHU-1 (COOLING COIL #1)_Supply Air Press   psi   \n44309        NaN            AHU_26_02_Duct Static Pressure Active   psi   \n44322        NaN            AHU_27_02_Duct Static Pressure Active   psi   \n\n      tagged_units  ...  measurement_id                   datasource_hash  \\\n1944           NaN  ...              37  92bb7920c5e6ecbfcd63b8fec211cac0   \n1962           NaN  ...              37  a3b228fb459baff76cf50b769d1531f7   \n1986           NaN  ...              37  59d93e0fabe3788b9cf6d34f9b7a0941   \n2048           NaN  ...              37  76747cd91c975bfcd60cffde774aaaf6   \n2069           NaN  ...              37  584bb57ba4f0cda7c88dcf872e20a5b5   \n...            ...  ...             ...                               ...   \n43021          NaN  ...              37  30ab724340aece6fb33bc9d3ff6ba2d2   \n43768          NaN  ...              37  ab0cfc89947e42494a0fa93a1ee2e5ab   \n43774          NaN  ...              37  cb1a4beab5024baa3d7c356e0ca9af56   \n44309          NaN  ...              37  e8bc6334d71628f6b8a7f3fdad43c8c5   \n44322          NaN  ...              37  f4bf573b3265902dc9a3476add8b365c   \n\n                                                   topic  equip_id  id_bdg  \\\n1944   nyserda+0000080324+csc3+3RD FL CSC_Supply Air ...     20109     271   \n1962   nyserda+0000080324+csc4+4TH FL CSC_Supply Air ...     20110     271   \n1986   nyserda+0000080324+csc5+5TH FL CSC_Supply Air ...     20111     271   \n2048   nyserda+0000080324+rtu1+1 RTU-1 AUDITORIUM_Sup...     20116     271   \n2069   nyserda+0000080324+rtu2+RTU-2 MAIN OFFICE 1st ...     20117     271   \n...                                                  ...       ...     ...   \n43021   nyserda+0000080880+fan20-supply+HVAC F20 SStatic     22675     394   \n43768  nyserda+0000079528+ahu1+AHU-1 (COOLING COIL #2...     22394     383   \n43774  nyserda+0000079528+ahu1+AHU-1 (COOLING COIL #1...     22394     383   \n44309  nyserda+0000109188+ahu26-02+AHU_26_02_Duct Sta...     22737     398   \n44322  nyserda+0000109188+ahu27-02+AHU_27_02_Duct Sta...     22738     398   \n\n      name_bdg equip_type_abbr    equip_type_name  area_served_desc  \\\n1944     80324             AHU  Air Handling Unit               NaN   \n1962     80324             AHU  Air Handling Unit               NaN   \n1986     80324             AHU  Air Handling Unit               NaN   \n2048     80324             AHU  Air Handling Unit               NaN   \n2069     80324             AHU  Air Handling Unit               NaN   \n...        ...             ...                ...               ...   \n43021    80880             FAN                Fan               NaN   \n43768    79528             AHU  Air Handling Unit               NaN   \n43774    79528             AHU  Air Handling Unit               NaN   \n44309   109188             AHU  Air Handling Unit               NaN   \n44322   109188             AHU  Air Handling Unit               NaN   \n\n                               tags  \n1944                ['ahu', 'hvac']  \n1962                ['ahu', 'hvac']  \n1986                ['ahu', 'hvac']  \n2048         ['ahu', 'hvac', 'rtu']  \n2069         ['ahu', 'hvac', 'rtu']  \n...                             ...  \n43021  ['fan', 'hvac', 'supplyFan']  \n43768               ['ahu', 'hvac']  \n43774               ['ahu', 'hvac']  \n44309               ['ahu', 'hvac']  \n44322               ['ahu', 'hvac']  \n\n[427 rows x 24 columns]",
      "text/html": "<div>\n<style scoped>\n    .dataframe tbody tr th:only-of-type {\n        vertical-align: middle;\n    }\n\n    .dataframe tbody tr th {\n        vertical-align: top;\n    }\n\n    .dataframe thead th {\n        text-align: right;\n    }\n</style>\n<table border=\"1\" class=\"dataframe\">\n  <thead>\n    <tr style=\"text-align: right;\">\n      <th></th>\n      <th>id_point</th>\n      <th>building_id</th>\n      <th>last_updated</th>\n      <th>first_updated</th>\n      <th>device</th>\n      <th>objectId</th>\n      <th>name_point</th>\n      <th>description</th>\n      <th>units</th>\n      <th>tagged_units</th>\n      <th>...</th>\n      <th>measurement_id</th>\n      <th>datasource_hash</th>\n      <th>topic</th>\n      <th>equip_id</th>\n      <th>id_bdg</th>\n      <th>name_bdg</th>\n      <th>equip_type_abbr</th>\n      <th>equip_type_name</th>\n      <th>area_served_desc</th>\n      <th>tags</th>\n    </tr>\n  </thead>\n  <tbody>\n    <tr>\n      <th>1944</th>\n      <td>210913</td>\n      <td>271</td>\n      <td>1.551416e+12</td>\n      <td>1.527826e+12</td>\n      <td>NaN</td>\n      <td>NaN</td>\n      <td>NaN</td>\n      <td>3RD FL CSC_Supply Air Press</td>\n      <td>psi</td>\n      <td>NaN</td>\n      <td>...</td>\n      <td>37</td>\n      <td>92bb7920c5e6ecbfcd63b8fec211cac0</td>\n      <td>nyserda+0000080324+csc3+3RD FL CSC_Supply Air ...</td>\n      <td>20109</td>\n      <td>271</td>\n      <td>80324</td>\n      <td>AHU</td>\n      <td>Air Handling Unit</td>\n      <td>NaN</td>\n      <td>['ahu', 'hvac']</td>\n    </tr>\n    <tr>\n      <th>1962</th>\n      <td>210935</td>\n      <td>271</td>\n      <td>1.551416e+12</td>\n      <td>1.527826e+12</td>\n      <td>NaN</td>\n      <td>NaN</td>\n      <td>NaN</td>\n      <td>4TH FL CSC_Supply Air Press</td>\n      <td>psi</td>\n      <td>NaN</td>\n      <td>...</td>\n      <td>37</td>\n      <td>a3b228fb459baff76cf50b769d1531f7</td>\n      <td>nyserda+0000080324+csc4+4TH FL CSC_Supply Air ...</td>\n      <td>20110</td>\n      <td>271</td>\n      <td>80324</td>\n      <td>AHU</td>\n      <td>Air Handling Unit</td>\n      <td>NaN</td>\n      <td>['ahu', 'hvac']</td>\n    </tr>\n    <tr>\n      <th>1986</th>\n      <td>210958</td>\n      <td>271</td>\n      <td>1.551416e+12</td>\n      <td>1.527826e+12</td>\n      <td>NaN</td>\n      <td>NaN</td>\n      <td>NaN</td>\n      <td>5TH FL CSC_Supply Air Press</td>\n      <td>psi</td>\n      <td>NaN</td>\n      <td>...</td>\n      <td>37</td>\n      <td>59d93e0fabe3788b9cf6d34f9b7a0941</td>\n      <td>nyserda+0000080324+csc5+5TH FL CSC_Supply Air ...</td>\n      <td>20111</td>\n      <td>271</td>\n      <td>80324</td>\n      <td>AHU</td>\n      <td>Air Handling Unit</td>\n      <td>NaN</td>\n      <td>['ahu', 'hvac']</td>\n    </tr>\n    <tr>\n      <th>2048</th>\n      <td>211015</td>\n      <td>271</td>\n      <td>1.550897e+12</td>\n      <td>1.527826e+12</td>\n      <td>NaN</td>\n      <td>NaN</td>\n      <td>NaN</td>\n      <td>1 RTU-1 AUDITORIUM_Supply Air Pressure</td>\n      <td>psi</td>\n      <td>NaN</td>\n      <td>...</td>\n      <td>37</td>\n      <td>76747cd91c975bfcd60cffde774aaaf6</td>\n      <td>nyserda+0000080324+rtu1+1 RTU-1 AUDITORIUM_Sup...</td>\n      <td>20116</td>\n      <td>271</td>\n      <td>80324</td>\n      <td>AHU</td>\n      <td>Air Handling Unit</td>\n      <td>NaN</td>\n      <td>['ahu', 'hvac', 'rtu']</td>\n    </tr>\n    <tr>\n      <th>2069</th>\n      <td>211038</td>\n      <td>271</td>\n      <td>1.550897e+12</td>\n      <td>1.527826e+12</td>\n      <td>NaN</td>\n      <td>NaN</td>\n      <td>NaN</td>\n      <td>RTU-2 MAIN OFFICE 1st Floor_Supply Air Pressure</td>\n      <td>psi</td>\n      <td>NaN</td>\n      <td>...</td>\n      <td>37</td>\n      <td>584bb57ba4f0cda7c88dcf872e20a5b5</td>\n      <td>nyserda+0000080324+rtu2+RTU-2 MAIN OFFICE 1st ...</td>\n      <td>20117</td>\n      <td>271</td>\n      <td>80324</td>\n      <td>AHU</td>\n      <td>Air Handling Unit</td>\n      <td>NaN</td>\n      <td>['ahu', 'hvac', 'rtu']</td>\n    </tr>\n    <tr>\n      <th>...</th>\n      <td>...</td>\n      <td>...</td>\n      <td>...</td>\n      <td>...</td>\n      <td>...</td>\n      <td>...</td>\n      <td>...</td>\n      <td>...</td>\n      <td>...</td>\n      <td>...</td>\n      <td>...</td>\n      <td>...</td>\n      <td>...</td>\n      <td>...</td>\n      <td>...</td>\n      <td>...</td>\n      <td>...</td>\n      <td>...</td>\n      <td>...</td>\n      <td>...</td>\n      <td>...</td>\n    </tr>\n    <tr>\n      <th>43021</th>\n      <td>230363</td>\n      <td>394</td>\n      <td>1.546318e+12</td>\n      <td>1.514783e+12</td>\n      <td>NaN</td>\n      <td>NaN</td>\n      <td>NaN</td>\n      <td>HVAC F20 SStatic</td>\n      <td>psi</td>\n      <td>NaN</td>\n      <td>...</td>\n      <td>37</td>\n      <td>30ab724340aece6fb33bc9d3ff6ba2d2</td>\n      <td>nyserda+0000080880+fan20-supply+HVAC F20 SStatic</td>\n      <td>22675</td>\n      <td>394</td>\n      <td>80880</td>\n      <td>FAN</td>\n      <td>Fan</td>\n      <td>NaN</td>\n      <td>['fan', 'hvac', 'supplyFan']</td>\n    </tr>\n    <tr>\n      <th>43768</th>\n      <td>228171</td>\n      <td>383</td>\n      <td>1.528170e+12</td>\n      <td>1.526875e+12</td>\n      <td>NaN</td>\n      <td>NaN</td>\n      <td>NaN</td>\n      <td>AHU-1 (COOLING COIL #2)_Supply Air Press</td>\n      <td>psi</td>\n      <td>NaN</td>\n      <td>...</td>\n      <td>37</td>\n      <td>ab0cfc89947e42494a0fa93a1ee2e5ab</td>\n      <td>nyserda+0000079528+ahu1+AHU-1 (COOLING COIL #2...</td>\n      <td>22394</td>\n      <td>383</td>\n      <td>79528</td>\n      <td>AHU</td>\n      <td>Air Handling Unit</td>\n      <td>NaN</td>\n      <td>['ahu', 'hvac']</td>\n    </tr>\n    <tr>\n      <th>43774</th>\n      <td>228119</td>\n      <td>383</td>\n      <td>1.528170e+12</td>\n      <td>1.501560e+12</td>\n      <td>NaN</td>\n      <td>NaN</td>\n      <td>NaN</td>\n      <td>AHU-1 (COOLING COIL #1)_Supply Air Press</td>\n      <td>psi</td>\n      <td>NaN</td>\n      <td>...</td>\n      <td>37</td>\n      <td>cb1a4beab5024baa3d7c356e0ca9af56</td>\n      <td>nyserda+0000079528+ahu1+AHU-1 (COOLING COIL #1...</td>\n      <td>22394</td>\n      <td>383</td>\n      <td>79528</td>\n      <td>AHU</td>\n      <td>Air Handling Unit</td>\n      <td>NaN</td>\n      <td>['ahu', 'hvac']</td>\n    </tr>\n    <tr>\n      <th>44309</th>\n      <td>231057</td>\n      <td>398</td>\n      <td>1.577768e+12</td>\n      <td>1.571890e+12</td>\n      <td>NaN</td>\n      <td>NaN</td>\n      <td>NaN</td>\n      <td>AHU_26_02_Duct Static Pressure Active</td>\n      <td>psi</td>\n      <td>NaN</td>\n      <td>...</td>\n      <td>37</td>\n      <td>e8bc6334d71628f6b8a7f3fdad43c8c5</td>\n      <td>nyserda+0000109188+ahu26-02+AHU_26_02_Duct Sta...</td>\n      <td>22737</td>\n      <td>398</td>\n      <td>109188</td>\n      <td>AHU</td>\n      <td>Air Handling Unit</td>\n      <td>NaN</td>\n      <td>['ahu', 'hvac']</td>\n    </tr>\n    <tr>\n      <th>44322</th>\n      <td>231067</td>\n      <td>398</td>\n      <td>1.577768e+12</td>\n      <td>1.571890e+12</td>\n      <td>NaN</td>\n      <td>NaN</td>\n      <td>NaN</td>\n      <td>AHU_27_02_Duct Static Pressure Active</td>\n      <td>psi</td>\n      <td>NaN</td>\n      <td>...</td>\n      <td>37</td>\n      <td>f4bf573b3265902dc9a3476add8b365c</td>\n      <td>nyserda+0000109188+ahu27-02+AHU_27_02_Duct Sta...</td>\n      <td>22738</td>\n      <td>398</td>\n      <td>109188</td>\n      <td>AHU</td>\n      <td>Air Handling Unit</td>\n      <td>NaN</td>\n      <td>['ahu', 'hvac']</td>\n    </tr>\n  </tbody>\n</table>\n<p>427 rows × 24 columns</p>\n</div>"
     },
     "execution_count": 25,
     "metadata": {},
     "output_type": "execute_result"
    }
   ],
   "source": [
    "SASP_mat_data = metadata[(metadata.type == \"Supply Air Static Pressure\")]\n",
    "SASP_mat_data"
   ]
  },
  {
   "cell_type": "code",
   "execution_count": 26,
   "outputs": [
    {
     "data": {
      "text/plain": "       id_point  building_id  last_updated  first_updated  device  objectId  \\\n1936     210914          271  1.551416e+12   1.527826e+12     NaN       NaN   \n1971     210936          271  1.551416e+12   1.527826e+12     NaN       NaN   \n1981     210959          271  1.551416e+12   1.527826e+12     NaN       NaN   \n2047     211016          271  1.550897e+12   1.527826e+12     NaN       NaN   \n2070     211039          271  1.550897e+12   1.527826e+12     NaN       NaN   \n...         ...          ...           ...            ...     ...       ...   \n42570    229876          391  1.577768e+12   1.560782e+12     NaN       NaN   \n43761    228173          383  1.528170e+12   1.526875e+12     NaN       NaN   \n43764    228121          383  1.528170e+12   1.501560e+12     NaN       NaN   \n44307    231058          398  1.577768e+12   1.571890e+12     NaN       NaN   \n44324    231068          398  1.577768e+12   1.571890e+12     NaN       NaN   \n\n      name_point                                        description units  \\\n1936         NaN               3RD FL CSC_Supply Air Press Setpoint   psi   \n1971         NaN               4TH FL CSC_Supply Air Press Setpoint   psi   \n1981         NaN               5TH FL CSC_Supply Air Press Setpoint   psi   \n2047         NaN    1 RTU-1 AUDITORIUM_Supply Air Pressure Setpoint   psi   \n2070         NaN  RTU-2 MAIN OFFICE 1st Floor_Supply Air Pressur...   psi   \n...          ...                                                ...   ...   \n42570        NaN                                 L_AH3_DA_STATIC_SP   psi   \n43761        NaN  AHU-1 (COOLING COIL #2)_Supply Air Press Setpoint   psi   \n43764        NaN  AHU-1 (COOLING COIL #1)_Supply Air Press Setpoint   psi   \n44307        NaN     AHU_26_02_Duct Static Pressure Setpoint Active   psi   \n44324        NaN     AHU_27_02_Duct Static Pressure Setpoint Active   psi   \n\n      tagged_units  ...  measurement_id                   datasource_hash  \\\n1936           NaN  ...              37  d7876de4636aac7a5f01d2073510b0b2   \n1971           NaN  ...              37  59f51f27a2c04afc8f77b50f20c7934a   \n1981           NaN  ...              37  a7c72a908a5bf891a06024bdc4beba0a   \n2047           NaN  ...              37  52f1c3143f0a1699007aeaa7fbec88fe   \n2070           NaN  ...              37  9f4aec4fe9a657a42d3fd04689621817   \n...            ...  ...             ...                               ...   \n42570          NaN  ...              37  310085f0a410db7b21c90ffded76eeed   \n43761          NaN  ...              37  60fb2e9a441bcca621fb1a898d77fe90   \n43764          NaN  ...              37  36d51770e4811c003c223b591fe7a719   \n44307          NaN  ...              37  1753147ea996f714faaf88c7838d4100   \n44324          NaN  ...              37  19be666d4435792a964566632258c647   \n\n                                                   topic  equip_id  id_bdg  \\\n1936   nyserda+0000080324+csc3+3RD FL CSC_Supply Air ...     20109     271   \n1971   nyserda+0000080324+csc4+4TH FL CSC_Supply Air ...     20110     271   \n1981   nyserda+0000080324+csc5+5TH FL CSC_Supply Air ...     20111     271   \n2047   nyserda+0000080324+rtu1+1 RTU-1 AUDITORIUM_Sup...     20116     271   \n2070   nyserda+0000080324+rtu2+RTU-2 MAIN OFFICE 1st ...     20117     271   \n...                                                  ...       ...     ...   \n42570         nyserda+0000123698+ahu3+L_AH3_DA_STATIC_SP     22589     391   \n43761  nyserda+0000079528+ahu1+AHU-1 (COOLING COIL #2...     22394     383   \n43764  nyserda+0000079528+ahu1+AHU-1 (COOLING COIL #1...     22394     383   \n44307  nyserda+0000109188+ahu26-02+AHU_26_02_Duct Sta...     22737     398   \n44324  nyserda+0000109188+ahu27-02+AHU_27_02_Duct Sta...     22738     398   \n\n      name_bdg equip_type_abbr    equip_type_name  area_served_desc  \\\n1936     80324             AHU  Air Handling Unit               NaN   \n1971     80324             AHU  Air Handling Unit               NaN   \n1981     80324             AHU  Air Handling Unit               NaN   \n2047     80324             AHU  Air Handling Unit               NaN   \n2070     80324             AHU  Air Handling Unit               NaN   \n...        ...             ...                ...               ...   \n42570   123698             AHU  Air Handling Unit               NaN   \n43761    79528             AHU  Air Handling Unit               NaN   \n43764    79528             AHU  Air Handling Unit               NaN   \n44307   109188             AHU  Air Handling Unit               NaN   \n44324   109188             AHU  Air Handling Unit               NaN   \n\n                         tags  \n1936          ['ahu', 'hvac']  \n1971          ['ahu', 'hvac']  \n1981          ['ahu', 'hvac']  \n2047   ['ahu', 'hvac', 'rtu']  \n2070   ['ahu', 'hvac', 'rtu']  \n...                       ...  \n42570         ['ahu', 'hvac']  \n43761         ['ahu', 'hvac']  \n43764         ['ahu', 'hvac']  \n44307         ['ahu', 'hvac']  \n44324         ['ahu', 'hvac']  \n\n[154 rows x 24 columns]",
      "text/html": "<div>\n<style scoped>\n    .dataframe tbody tr th:only-of-type {\n        vertical-align: middle;\n    }\n\n    .dataframe tbody tr th {\n        vertical-align: top;\n    }\n\n    .dataframe thead th {\n        text-align: right;\n    }\n</style>\n<table border=\"1\" class=\"dataframe\">\n  <thead>\n    <tr style=\"text-align: right;\">\n      <th></th>\n      <th>id_point</th>\n      <th>building_id</th>\n      <th>last_updated</th>\n      <th>first_updated</th>\n      <th>device</th>\n      <th>objectId</th>\n      <th>name_point</th>\n      <th>description</th>\n      <th>units</th>\n      <th>tagged_units</th>\n      <th>...</th>\n      <th>measurement_id</th>\n      <th>datasource_hash</th>\n      <th>topic</th>\n      <th>equip_id</th>\n      <th>id_bdg</th>\n      <th>name_bdg</th>\n      <th>equip_type_abbr</th>\n      <th>equip_type_name</th>\n      <th>area_served_desc</th>\n      <th>tags</th>\n    </tr>\n  </thead>\n  <tbody>\n    <tr>\n      <th>1936</th>\n      <td>210914</td>\n      <td>271</td>\n      <td>1.551416e+12</td>\n      <td>1.527826e+12</td>\n      <td>NaN</td>\n      <td>NaN</td>\n      <td>NaN</td>\n      <td>3RD FL CSC_Supply Air Press Setpoint</td>\n      <td>psi</td>\n      <td>NaN</td>\n      <td>...</td>\n      <td>37</td>\n      <td>d7876de4636aac7a5f01d2073510b0b2</td>\n      <td>nyserda+0000080324+csc3+3RD FL CSC_Supply Air ...</td>\n      <td>20109</td>\n      <td>271</td>\n      <td>80324</td>\n      <td>AHU</td>\n      <td>Air Handling Unit</td>\n      <td>NaN</td>\n      <td>['ahu', 'hvac']</td>\n    </tr>\n    <tr>\n      <th>1971</th>\n      <td>210936</td>\n      <td>271</td>\n      <td>1.551416e+12</td>\n      <td>1.527826e+12</td>\n      <td>NaN</td>\n      <td>NaN</td>\n      <td>NaN</td>\n      <td>4TH FL CSC_Supply Air Press Setpoint</td>\n      <td>psi</td>\n      <td>NaN</td>\n      <td>...</td>\n      <td>37</td>\n      <td>59f51f27a2c04afc8f77b50f20c7934a</td>\n      <td>nyserda+0000080324+csc4+4TH FL CSC_Supply Air ...</td>\n      <td>20110</td>\n      <td>271</td>\n      <td>80324</td>\n      <td>AHU</td>\n      <td>Air Handling Unit</td>\n      <td>NaN</td>\n      <td>['ahu', 'hvac']</td>\n    </tr>\n    <tr>\n      <th>1981</th>\n      <td>210959</td>\n      <td>271</td>\n      <td>1.551416e+12</td>\n      <td>1.527826e+12</td>\n      <td>NaN</td>\n      <td>NaN</td>\n      <td>NaN</td>\n      <td>5TH FL CSC_Supply Air Press Setpoint</td>\n      <td>psi</td>\n      <td>NaN</td>\n      <td>...</td>\n      <td>37</td>\n      <td>a7c72a908a5bf891a06024bdc4beba0a</td>\n      <td>nyserda+0000080324+csc5+5TH FL CSC_Supply Air ...</td>\n      <td>20111</td>\n      <td>271</td>\n      <td>80324</td>\n      <td>AHU</td>\n      <td>Air Handling Unit</td>\n      <td>NaN</td>\n      <td>['ahu', 'hvac']</td>\n    </tr>\n    <tr>\n      <th>2047</th>\n      <td>211016</td>\n      <td>271</td>\n      <td>1.550897e+12</td>\n      <td>1.527826e+12</td>\n      <td>NaN</td>\n      <td>NaN</td>\n      <td>NaN</td>\n      <td>1 RTU-1 AUDITORIUM_Supply Air Pressure Setpoint</td>\n      <td>psi</td>\n      <td>NaN</td>\n      <td>...</td>\n      <td>37</td>\n      <td>52f1c3143f0a1699007aeaa7fbec88fe</td>\n      <td>nyserda+0000080324+rtu1+1 RTU-1 AUDITORIUM_Sup...</td>\n      <td>20116</td>\n      <td>271</td>\n      <td>80324</td>\n      <td>AHU</td>\n      <td>Air Handling Unit</td>\n      <td>NaN</td>\n      <td>['ahu', 'hvac', 'rtu']</td>\n    </tr>\n    <tr>\n      <th>2070</th>\n      <td>211039</td>\n      <td>271</td>\n      <td>1.550897e+12</td>\n      <td>1.527826e+12</td>\n      <td>NaN</td>\n      <td>NaN</td>\n      <td>NaN</td>\n      <td>RTU-2 MAIN OFFICE 1st Floor_Supply Air Pressur...</td>\n      <td>psi</td>\n      <td>NaN</td>\n      <td>...</td>\n      <td>37</td>\n      <td>9f4aec4fe9a657a42d3fd04689621817</td>\n      <td>nyserda+0000080324+rtu2+RTU-2 MAIN OFFICE 1st ...</td>\n      <td>20117</td>\n      <td>271</td>\n      <td>80324</td>\n      <td>AHU</td>\n      <td>Air Handling Unit</td>\n      <td>NaN</td>\n      <td>['ahu', 'hvac', 'rtu']</td>\n    </tr>\n    <tr>\n      <th>...</th>\n      <td>...</td>\n      <td>...</td>\n      <td>...</td>\n      <td>...</td>\n      <td>...</td>\n      <td>...</td>\n      <td>...</td>\n      <td>...</td>\n      <td>...</td>\n      <td>...</td>\n      <td>...</td>\n      <td>...</td>\n      <td>...</td>\n      <td>...</td>\n      <td>...</td>\n      <td>...</td>\n      <td>...</td>\n      <td>...</td>\n      <td>...</td>\n      <td>...</td>\n      <td>...</td>\n    </tr>\n    <tr>\n      <th>42570</th>\n      <td>229876</td>\n      <td>391</td>\n      <td>1.577768e+12</td>\n      <td>1.560782e+12</td>\n      <td>NaN</td>\n      <td>NaN</td>\n      <td>NaN</td>\n      <td>L_AH3_DA_STATIC_SP</td>\n      <td>psi</td>\n      <td>NaN</td>\n      <td>...</td>\n      <td>37</td>\n      <td>310085f0a410db7b21c90ffded76eeed</td>\n      <td>nyserda+0000123698+ahu3+L_AH3_DA_STATIC_SP</td>\n      <td>22589</td>\n      <td>391</td>\n      <td>123698</td>\n      <td>AHU</td>\n      <td>Air Handling Unit</td>\n      <td>NaN</td>\n      <td>['ahu', 'hvac']</td>\n    </tr>\n    <tr>\n      <th>43761</th>\n      <td>228173</td>\n      <td>383</td>\n      <td>1.528170e+12</td>\n      <td>1.526875e+12</td>\n      <td>NaN</td>\n      <td>NaN</td>\n      <td>NaN</td>\n      <td>AHU-1 (COOLING COIL #2)_Supply Air Press Setpoint</td>\n      <td>psi</td>\n      <td>NaN</td>\n      <td>...</td>\n      <td>37</td>\n      <td>60fb2e9a441bcca621fb1a898d77fe90</td>\n      <td>nyserda+0000079528+ahu1+AHU-1 (COOLING COIL #2...</td>\n      <td>22394</td>\n      <td>383</td>\n      <td>79528</td>\n      <td>AHU</td>\n      <td>Air Handling Unit</td>\n      <td>NaN</td>\n      <td>['ahu', 'hvac']</td>\n    </tr>\n    <tr>\n      <th>43764</th>\n      <td>228121</td>\n      <td>383</td>\n      <td>1.528170e+12</td>\n      <td>1.501560e+12</td>\n      <td>NaN</td>\n      <td>NaN</td>\n      <td>NaN</td>\n      <td>AHU-1 (COOLING COIL #1)_Supply Air Press Setpoint</td>\n      <td>psi</td>\n      <td>NaN</td>\n      <td>...</td>\n      <td>37</td>\n      <td>36d51770e4811c003c223b591fe7a719</td>\n      <td>nyserda+0000079528+ahu1+AHU-1 (COOLING COIL #1...</td>\n      <td>22394</td>\n      <td>383</td>\n      <td>79528</td>\n      <td>AHU</td>\n      <td>Air Handling Unit</td>\n      <td>NaN</td>\n      <td>['ahu', 'hvac']</td>\n    </tr>\n    <tr>\n      <th>44307</th>\n      <td>231058</td>\n      <td>398</td>\n      <td>1.577768e+12</td>\n      <td>1.571890e+12</td>\n      <td>NaN</td>\n      <td>NaN</td>\n      <td>NaN</td>\n      <td>AHU_26_02_Duct Static Pressure Setpoint Active</td>\n      <td>psi</td>\n      <td>NaN</td>\n      <td>...</td>\n      <td>37</td>\n      <td>1753147ea996f714faaf88c7838d4100</td>\n      <td>nyserda+0000109188+ahu26-02+AHU_26_02_Duct Sta...</td>\n      <td>22737</td>\n      <td>398</td>\n      <td>109188</td>\n      <td>AHU</td>\n      <td>Air Handling Unit</td>\n      <td>NaN</td>\n      <td>['ahu', 'hvac']</td>\n    </tr>\n    <tr>\n      <th>44324</th>\n      <td>231068</td>\n      <td>398</td>\n      <td>1.577768e+12</td>\n      <td>1.571890e+12</td>\n      <td>NaN</td>\n      <td>NaN</td>\n      <td>NaN</td>\n      <td>AHU_27_02_Duct Static Pressure Setpoint Active</td>\n      <td>psi</td>\n      <td>NaN</td>\n      <td>...</td>\n      <td>37</td>\n      <td>19be666d4435792a964566632258c647</td>\n      <td>nyserda+0000109188+ahu27-02+AHU_27_02_Duct Sta...</td>\n      <td>22738</td>\n      <td>398</td>\n      <td>109188</td>\n      <td>AHU</td>\n      <td>Air Handling Unit</td>\n      <td>NaN</td>\n      <td>['ahu', 'hvac']</td>\n    </tr>\n  </tbody>\n</table>\n<p>154 rows × 24 columns</p>\n</div>"
     },
     "execution_count": 26,
     "metadata": {},
     "output_type": "execute_result"
    }
   ],
   "source": [
    "SASP_setpoint_mat_data = metadata[(metadata.type == \"Supply Air Static Pressure Setpoint\")]\n",
    "SASP_setpoint_mat_data"
   ],
   "metadata": {
    "collapsed": false,
    "pycharm": {
     "name": "#%%\n"
    }
   }
  },
  {
   "cell_type": "code",
   "execution_count": 18,
   "id": "58601d13",
   "metadata": {},
   "outputs": [
    {
     "data": {
      "text/plain": "Empty DataFrame\nColumns: [id_point, building_id, last_updated, first_updated, device, objectId, name_point, description, units, tagged_units, raw_unit_id, value, type, point_type_id, measurement_id, datasource_hash, topic, equip_id, id_bdg, name_bdg, equip_type_abbr, equip_type_name, area_served_desc, tags]\nIndex: []\n\n[0 rows x 24 columns]",
      "text/html": "<div>\n<style scoped>\n    .dataframe tbody tr th:only-of-type {\n        vertical-align: middle;\n    }\n\n    .dataframe tbody tr th {\n        vertical-align: top;\n    }\n\n    .dataframe thead th {\n        text-align: right;\n    }\n</style>\n<table border=\"1\" class=\"dataframe\">\n  <thead>\n    <tr style=\"text-align: right;\">\n      <th></th>\n      <th>id_point</th>\n      <th>building_id</th>\n      <th>last_updated</th>\n      <th>first_updated</th>\n      <th>device</th>\n      <th>objectId</th>\n      <th>name_point</th>\n      <th>description</th>\n      <th>units</th>\n      <th>tagged_units</th>\n      <th>...</th>\n      <th>measurement_id</th>\n      <th>datasource_hash</th>\n      <th>topic</th>\n      <th>equip_id</th>\n      <th>id_bdg</th>\n      <th>name_bdg</th>\n      <th>equip_type_abbr</th>\n      <th>equip_type_name</th>\n      <th>area_served_desc</th>\n      <th>tags</th>\n    </tr>\n  </thead>\n  <tbody>\n  </tbody>\n</table>\n<p>0 rows × 24 columns</p>\n</div>"
     },
     "execution_count": 18,
     "metadata": {},
     "output_type": "execute_result"
    }
   ],
   "source": [
    "RASP_mat_data = metadata[(metadata.type == \"Relief Air Static Pressure\")]\n",
    "RASP_mat_data"
   ]
  },
  {
   "cell_type": "code",
   "execution_count": 33,
   "outputs": [
    {
     "data": {
      "text/plain": "Empty DataFrame\nColumns: [id_point, building_id, last_updated, first_updated, device, objectId, name_point, description, units, tagged_units, raw_unit_id, value, type, point_type_id, measurement_id, datasource_hash, topic, equip_id, id_bdg, name_bdg, equip_type_abbr, equip_type_name, area_served_desc, tags]\nIndex: []\n\n[0 rows x 24 columns]",
      "text/html": "<div>\n<style scoped>\n    .dataframe tbody tr th:only-of-type {\n        vertical-align: middle;\n    }\n\n    .dataframe tbody tr th {\n        vertical-align: top;\n    }\n\n    .dataframe thead th {\n        text-align: right;\n    }\n</style>\n<table border=\"1\" class=\"dataframe\">\n  <thead>\n    <tr style=\"text-align: right;\">\n      <th></th>\n      <th>id_point</th>\n      <th>building_id</th>\n      <th>last_updated</th>\n      <th>first_updated</th>\n      <th>device</th>\n      <th>objectId</th>\n      <th>name_point</th>\n      <th>description</th>\n      <th>units</th>\n      <th>tagged_units</th>\n      <th>...</th>\n      <th>measurement_id</th>\n      <th>datasource_hash</th>\n      <th>topic</th>\n      <th>equip_id</th>\n      <th>id_bdg</th>\n      <th>name_bdg</th>\n      <th>equip_type_abbr</th>\n      <th>equip_type_name</th>\n      <th>area_served_desc</th>\n      <th>tags</th>\n    </tr>\n  </thead>\n  <tbody>\n  </tbody>\n</table>\n<p>0 rows × 24 columns</p>\n</div>"
     },
     "execution_count": 33,
     "metadata": {},
     "output_type": "execute_result"
    }
   ],
   "source": [
    "RASP_setpoint_mat_data = metadata[(metadata.type == \"Relief Air Static Pressure Setpoint\")]\n",
    "RASP_setpoint_mat_data"
   ],
   "metadata": {
    "collapsed": false,
    "pycharm": {
     "name": "#%%\n"
    }
   }
  },
  {
   "cell_type": "code",
   "execution_count": 34,
   "outputs": [
    {
     "data": {
      "text/plain": "      id_point  building_id  last_updated  first_updated  device  objectId  \\\n6953    359787          477  1.622519e+12   1.621011e+12     NaN       NaN   \n6954    359786          477  1.622519e+12   1.621011e+12     NaN       NaN   \n6955    359785          477  1.622519e+12   1.621011e+12     NaN       NaN   \n6956    359784          477  1.622519e+12   1.621011e+12     NaN       NaN   \n6957    359783          477  1.622519e+12   1.621011e+12     NaN       NaN   \n6958    359782          477  1.622519e+12   1.621011e+12     NaN       NaN   \n6959    359781          477  1.622519e+12   1.621011e+12     NaN       NaN   \n6960    359780          477  1.622519e+12   1.621011e+12     NaN       NaN   \n6961    359779          477  1.622519e+12   1.621011e+12     NaN       NaN   \n7009    358422          477  1.622519e+12   1.594786e+12     NaN       NaN   \n\n                                             name_point description units  \\\n6953  Shower_Front_Exhaust Air Static Pressure_BSL3_...         NaN   NaN   \n6954  Shower_Back_Exhaust Air Static Pressure_BSL3_S...         NaN   NaN   \n6955  Procedure_RM_13A_Exhaust Air Static Pressure_B...         NaN   NaN   \n6956  Corridor_Exhaust Air Static Pressure_BSL3_Corr...         NaN   NaN   \n6957  Animal_RM_13E_Exhaust Air Static Pressure_BSL3...         NaN   NaN   \n6958  Animal_RM_13D_Exhaust Air Static Pressure_BSL3...         NaN   NaN   \n6959  Animal_RM_13C_Exhaust Air Static Pressure_BSL3...         NaN   NaN   \n6960  Animal_RM_13B_Exhaust Air Static Pressure_BSL3...         NaN   NaN   \n6961  Airlock 15_Exhaust Air Static Pressure_BSL3_Ai...         NaN   NaN   \n7009             GX-M1-3 Exhaust Static Pressure_GM13SD         NaN   NaN   \n\n     tagged_units  ...  measurement_id                   datasource_hash  \\\n6953      in w.c.  ...              37  d911912f3368d7f729eb575a1be16dde   \n6954      in w.c.  ...              37  c6180fba02ec045b91954b65780a4d9e   \n6955      in w.c.  ...              37  a498a9f33982767b55199e0722459e3e   \n6956      in w.c.  ...              37  6180fc1dc15e26c68872416a673310ad   \n6957      in w.c.  ...              37  d5aa8fc7c9a53d1cfd004a7824b70cdc   \n6958      in w.c.  ...              37  3ff2c18af65ff95ff3476b20e7bf5cb5   \n6959      in w.c.  ...              37  94eaff5ec91f6563bc011fe4e21dfbac   \n6960      in w.c.  ...              37  58e24146c6e528ef7c080bae75e0ff83   \n6961      in w.c.  ...              37  4a086d64c22b4372e538343fe77b655e   \n7009      in w.c.  ...              37  00efb999bfbdd21fd28db06a378a4572   \n\n                                                  topic  equip_id  id_bdg  \\\n6953  nyserda+0000159950+site-Sensor+Shower_Front_Ex...     31798     477   \n6954  nyserda+0000159950+site-Sensor+Shower_Back_Exh...     31798     477   \n6955  nyserda+0000159950+site-Sensor+Procedure_RM_13...     31798     477   \n6956  nyserda+0000159950+site-Sensor+Corridor_Exhaus...     31798     477   \n6957  nyserda+0000159950+site-Sensor+Animal_RM_13E_E...     31798     477   \n6958  nyserda+0000159950+site-Sensor+Animal_RM_13D_E...     31798     477   \n6959  nyserda+0000159950+site-Sensor+Animal_RM_13C_E...     31798     477   \n6960  nyserda+0000159950+site-Sensor+Animal_RM_13B_E...     31798     477   \n6961  nyserda+0000159950+site-Sensor+Airlock 15_Exha...     31798     477   \n7009  nyserda+0000159950+site-Sensor+GX-M1-3 Exhaust...     31798     477   \n\n     name_bdg equip_type_abbr  equip_type_name  area_served_desc      tags  \n6953   159950            SITE     Site Sensors               NaN  ['site']  \n6954   159950            SITE     Site Sensors               NaN  ['site']  \n6955   159950            SITE     Site Sensors               NaN  ['site']  \n6956   159950            SITE     Site Sensors               NaN  ['site']  \n6957   159950            SITE     Site Sensors               NaN  ['site']  \n6958   159950            SITE     Site Sensors               NaN  ['site']  \n6959   159950            SITE     Site Sensors               NaN  ['site']  \n6960   159950            SITE     Site Sensors               NaN  ['site']  \n6961   159950            SITE     Site Sensors               NaN  ['site']  \n7009   159950            SITE     Site Sensors               NaN  ['site']  \n\n[10 rows x 24 columns]",
      "text/html": "<div>\n<style scoped>\n    .dataframe tbody tr th:only-of-type {\n        vertical-align: middle;\n    }\n\n    .dataframe tbody tr th {\n        vertical-align: top;\n    }\n\n    .dataframe thead th {\n        text-align: right;\n    }\n</style>\n<table border=\"1\" class=\"dataframe\">\n  <thead>\n    <tr style=\"text-align: right;\">\n      <th></th>\n      <th>id_point</th>\n      <th>building_id</th>\n      <th>last_updated</th>\n      <th>first_updated</th>\n      <th>device</th>\n      <th>objectId</th>\n      <th>name_point</th>\n      <th>description</th>\n      <th>units</th>\n      <th>tagged_units</th>\n      <th>...</th>\n      <th>measurement_id</th>\n      <th>datasource_hash</th>\n      <th>topic</th>\n      <th>equip_id</th>\n      <th>id_bdg</th>\n      <th>name_bdg</th>\n      <th>equip_type_abbr</th>\n      <th>equip_type_name</th>\n      <th>area_served_desc</th>\n      <th>tags</th>\n    </tr>\n  </thead>\n  <tbody>\n    <tr>\n      <th>6953</th>\n      <td>359787</td>\n      <td>477</td>\n      <td>1.622519e+12</td>\n      <td>1.621011e+12</td>\n      <td>NaN</td>\n      <td>NaN</td>\n      <td>Shower_Front_Exhaust Air Static Pressure_BSL3_...</td>\n      <td>NaN</td>\n      <td>NaN</td>\n      <td>in w.c.</td>\n      <td>...</td>\n      <td>37</td>\n      <td>d911912f3368d7f729eb575a1be16dde</td>\n      <td>nyserda+0000159950+site-Sensor+Shower_Front_Ex...</td>\n      <td>31798</td>\n      <td>477</td>\n      <td>159950</td>\n      <td>SITE</td>\n      <td>Site Sensors</td>\n      <td>NaN</td>\n      <td>['site']</td>\n    </tr>\n    <tr>\n      <th>6954</th>\n      <td>359786</td>\n      <td>477</td>\n      <td>1.622519e+12</td>\n      <td>1.621011e+12</td>\n      <td>NaN</td>\n      <td>NaN</td>\n      <td>Shower_Back_Exhaust Air Static Pressure_BSL3_S...</td>\n      <td>NaN</td>\n      <td>NaN</td>\n      <td>in w.c.</td>\n      <td>...</td>\n      <td>37</td>\n      <td>c6180fba02ec045b91954b65780a4d9e</td>\n      <td>nyserda+0000159950+site-Sensor+Shower_Back_Exh...</td>\n      <td>31798</td>\n      <td>477</td>\n      <td>159950</td>\n      <td>SITE</td>\n      <td>Site Sensors</td>\n      <td>NaN</td>\n      <td>['site']</td>\n    </tr>\n    <tr>\n      <th>6955</th>\n      <td>359785</td>\n      <td>477</td>\n      <td>1.622519e+12</td>\n      <td>1.621011e+12</td>\n      <td>NaN</td>\n      <td>NaN</td>\n      <td>Procedure_RM_13A_Exhaust Air Static Pressure_B...</td>\n      <td>NaN</td>\n      <td>NaN</td>\n      <td>in w.c.</td>\n      <td>...</td>\n      <td>37</td>\n      <td>a498a9f33982767b55199e0722459e3e</td>\n      <td>nyserda+0000159950+site-Sensor+Procedure_RM_13...</td>\n      <td>31798</td>\n      <td>477</td>\n      <td>159950</td>\n      <td>SITE</td>\n      <td>Site Sensors</td>\n      <td>NaN</td>\n      <td>['site']</td>\n    </tr>\n    <tr>\n      <th>6956</th>\n      <td>359784</td>\n      <td>477</td>\n      <td>1.622519e+12</td>\n      <td>1.621011e+12</td>\n      <td>NaN</td>\n      <td>NaN</td>\n      <td>Corridor_Exhaust Air Static Pressure_BSL3_Corr...</td>\n      <td>NaN</td>\n      <td>NaN</td>\n      <td>in w.c.</td>\n      <td>...</td>\n      <td>37</td>\n      <td>6180fc1dc15e26c68872416a673310ad</td>\n      <td>nyserda+0000159950+site-Sensor+Corridor_Exhaus...</td>\n      <td>31798</td>\n      <td>477</td>\n      <td>159950</td>\n      <td>SITE</td>\n      <td>Site Sensors</td>\n      <td>NaN</td>\n      <td>['site']</td>\n    </tr>\n    <tr>\n      <th>6957</th>\n      <td>359783</td>\n      <td>477</td>\n      <td>1.622519e+12</td>\n      <td>1.621011e+12</td>\n      <td>NaN</td>\n      <td>NaN</td>\n      <td>Animal_RM_13E_Exhaust Air Static Pressure_BSL3...</td>\n      <td>NaN</td>\n      <td>NaN</td>\n      <td>in w.c.</td>\n      <td>...</td>\n      <td>37</td>\n      <td>d5aa8fc7c9a53d1cfd004a7824b70cdc</td>\n      <td>nyserda+0000159950+site-Sensor+Animal_RM_13E_E...</td>\n      <td>31798</td>\n      <td>477</td>\n      <td>159950</td>\n      <td>SITE</td>\n      <td>Site Sensors</td>\n      <td>NaN</td>\n      <td>['site']</td>\n    </tr>\n    <tr>\n      <th>6958</th>\n      <td>359782</td>\n      <td>477</td>\n      <td>1.622519e+12</td>\n      <td>1.621011e+12</td>\n      <td>NaN</td>\n      <td>NaN</td>\n      <td>Animal_RM_13D_Exhaust Air Static Pressure_BSL3...</td>\n      <td>NaN</td>\n      <td>NaN</td>\n      <td>in w.c.</td>\n      <td>...</td>\n      <td>37</td>\n      <td>3ff2c18af65ff95ff3476b20e7bf5cb5</td>\n      <td>nyserda+0000159950+site-Sensor+Animal_RM_13D_E...</td>\n      <td>31798</td>\n      <td>477</td>\n      <td>159950</td>\n      <td>SITE</td>\n      <td>Site Sensors</td>\n      <td>NaN</td>\n      <td>['site']</td>\n    </tr>\n    <tr>\n      <th>6959</th>\n      <td>359781</td>\n      <td>477</td>\n      <td>1.622519e+12</td>\n      <td>1.621011e+12</td>\n      <td>NaN</td>\n      <td>NaN</td>\n      <td>Animal_RM_13C_Exhaust Air Static Pressure_BSL3...</td>\n      <td>NaN</td>\n      <td>NaN</td>\n      <td>in w.c.</td>\n      <td>...</td>\n      <td>37</td>\n      <td>94eaff5ec91f6563bc011fe4e21dfbac</td>\n      <td>nyserda+0000159950+site-Sensor+Animal_RM_13C_E...</td>\n      <td>31798</td>\n      <td>477</td>\n      <td>159950</td>\n      <td>SITE</td>\n      <td>Site Sensors</td>\n      <td>NaN</td>\n      <td>['site']</td>\n    </tr>\n    <tr>\n      <th>6960</th>\n      <td>359780</td>\n      <td>477</td>\n      <td>1.622519e+12</td>\n      <td>1.621011e+12</td>\n      <td>NaN</td>\n      <td>NaN</td>\n      <td>Animal_RM_13B_Exhaust Air Static Pressure_BSL3...</td>\n      <td>NaN</td>\n      <td>NaN</td>\n      <td>in w.c.</td>\n      <td>...</td>\n      <td>37</td>\n      <td>58e24146c6e528ef7c080bae75e0ff83</td>\n      <td>nyserda+0000159950+site-Sensor+Animal_RM_13B_E...</td>\n      <td>31798</td>\n      <td>477</td>\n      <td>159950</td>\n      <td>SITE</td>\n      <td>Site Sensors</td>\n      <td>NaN</td>\n      <td>['site']</td>\n    </tr>\n    <tr>\n      <th>6961</th>\n      <td>359779</td>\n      <td>477</td>\n      <td>1.622519e+12</td>\n      <td>1.621011e+12</td>\n      <td>NaN</td>\n      <td>NaN</td>\n      <td>Airlock 15_Exhaust Air Static Pressure_BSL3_Ai...</td>\n      <td>NaN</td>\n      <td>NaN</td>\n      <td>in w.c.</td>\n      <td>...</td>\n      <td>37</td>\n      <td>4a086d64c22b4372e538343fe77b655e</td>\n      <td>nyserda+0000159950+site-Sensor+Airlock 15_Exha...</td>\n      <td>31798</td>\n      <td>477</td>\n      <td>159950</td>\n      <td>SITE</td>\n      <td>Site Sensors</td>\n      <td>NaN</td>\n      <td>['site']</td>\n    </tr>\n    <tr>\n      <th>7009</th>\n      <td>358422</td>\n      <td>477</td>\n      <td>1.622519e+12</td>\n      <td>1.594786e+12</td>\n      <td>NaN</td>\n      <td>NaN</td>\n      <td>GX-M1-3 Exhaust Static Pressure_GM13SD</td>\n      <td>NaN</td>\n      <td>NaN</td>\n      <td>in w.c.</td>\n      <td>...</td>\n      <td>37</td>\n      <td>00efb999bfbdd21fd28db06a378a4572</td>\n      <td>nyserda+0000159950+site-Sensor+GX-M1-3 Exhaust...</td>\n      <td>31798</td>\n      <td>477</td>\n      <td>159950</td>\n      <td>SITE</td>\n      <td>Site Sensors</td>\n      <td>NaN</td>\n      <td>['site']</td>\n    </tr>\n  </tbody>\n</table>\n<p>10 rows × 24 columns</p>\n</div>"
     },
     "execution_count": 34,
     "metadata": {},
     "output_type": "execute_result"
    }
   ],
   "source": [
    "EASP_mat_data = metadata[(metadata.type == \"Exhaust Air Static Pressure\")]\n",
    "EASP_mat_data"
   ],
   "metadata": {
    "collapsed": false,
    "pycharm": {
     "name": "#%%\n"
    }
   }
  },
  {
   "cell_type": "code",
   "execution_count": 35,
   "id": "2ce1542a",
   "metadata": {},
   "outputs": [
    {
     "data": {
      "text/plain": "      id_point  building_id  last_updated  first_updated  device  objectId  \\\n7008    358423          477  1.622519e+12   1.594786e+12     NaN       NaN   \n\n                                           name_point description units  \\\n7008  GX-M1-3 Exhaust Static Pressure Setpoint_GM13DS         NaN   NaN   \n\n     tagged_units  ...  measurement_id                   datasource_hash  \\\n7008      in w.c.  ...              37  7a9e09eef99abebb0a733480388dc6ec   \n\n                                                  topic  equip_id  id_bdg  \\\n7008  nyserda+0000159950+site-Sensor+GX-M1-3 Exhaust...     31798     477   \n\n     name_bdg equip_type_abbr  equip_type_name  area_served_desc      tags  \n7008   159950            SITE     Site Sensors               NaN  ['site']  \n\n[1 rows x 24 columns]",
      "text/html": "<div>\n<style scoped>\n    .dataframe tbody tr th:only-of-type {\n        vertical-align: middle;\n    }\n\n    .dataframe tbody tr th {\n        vertical-align: top;\n    }\n\n    .dataframe thead th {\n        text-align: right;\n    }\n</style>\n<table border=\"1\" class=\"dataframe\">\n  <thead>\n    <tr style=\"text-align: right;\">\n      <th></th>\n      <th>id_point</th>\n      <th>building_id</th>\n      <th>last_updated</th>\n      <th>first_updated</th>\n      <th>device</th>\n      <th>objectId</th>\n      <th>name_point</th>\n      <th>description</th>\n      <th>units</th>\n      <th>tagged_units</th>\n      <th>...</th>\n      <th>measurement_id</th>\n      <th>datasource_hash</th>\n      <th>topic</th>\n      <th>equip_id</th>\n      <th>id_bdg</th>\n      <th>name_bdg</th>\n      <th>equip_type_abbr</th>\n      <th>equip_type_name</th>\n      <th>area_served_desc</th>\n      <th>tags</th>\n    </tr>\n  </thead>\n  <tbody>\n    <tr>\n      <th>7008</th>\n      <td>358423</td>\n      <td>477</td>\n      <td>1.622519e+12</td>\n      <td>1.594786e+12</td>\n      <td>NaN</td>\n      <td>NaN</td>\n      <td>GX-M1-3 Exhaust Static Pressure Setpoint_GM13DS</td>\n      <td>NaN</td>\n      <td>NaN</td>\n      <td>in w.c.</td>\n      <td>...</td>\n      <td>37</td>\n      <td>7a9e09eef99abebb0a733480388dc6ec</td>\n      <td>nyserda+0000159950+site-Sensor+GX-M1-3 Exhaust...</td>\n      <td>31798</td>\n      <td>477</td>\n      <td>159950</td>\n      <td>SITE</td>\n      <td>Site Sensors</td>\n      <td>NaN</td>\n      <td>['site']</td>\n    </tr>\n  </tbody>\n</table>\n<p>1 rows × 24 columns</p>\n</div>"
     },
     "execution_count": 35,
     "metadata": {},
     "output_type": "execute_result"
    }
   ],
   "source": [
    "EASPS_mat_data = metadata[(metadata.type == \"Exhaust Air Static Pressure Setpoint\")]\n",
    "EASPS_mat_data"
   ]
  },
  {
   "cell_type": "code",
   "execution_count": 29,
   "outputs": [
    {
     "data": {
      "text/plain": "       id_point  building_id  last_updated  first_updated  device  objectId  \\\n36234    414694          311  1.614626e+12   1.599712e+12     NaN       NaN   \n36265    216816          311  1.585627e+12   1.568212e+12     NaN       NaN   \n36275    216834          311  1.585627e+12   1.568209e+12     NaN       NaN   \n36283    414666          311  1.614626e+12   1.599712e+12     NaN       NaN   \n36303    414713          311  1.614626e+12   1.595872e+12     NaN       NaN   \n36322    414721          311  1.614626e+12   1.599712e+12     NaN       NaN   \n\n                          name_point                  description units  \\\n36234              AC-20_duct_sp_1_7                          NaN   NaN   \n36265    AC-22 (VAV22-7)_duct_sp_1_7  AC-22 (VAV22-7)_duct_sp_1_7   NaN   \n36275               AC-3_duct_sp_1_7             AC-3_duct_sp_1_7   NaN   \n36283  AC-14 (FPT_14_10)_duct_sp_1_7                          NaN   NaN   \n36303              AC-23_duct_sp_1_7                          NaN   NaN   \n36322      AC-6 (VAV6-8)_duct_sp_1_7                          NaN   NaN   \n\n      tagged_units  ...  measurement_id                   datasource_hash  \\\n36234      in w.c.  ...              37  35c02370349a3de233e7874f3aae63cb   \n36265      in w.c.  ...              37  b75811d65e280a20a109d8c77e917812   \n36275      in w.c.  ...              37  753f71995678042e24ea004e7fba71af   \n36283      in w.c.  ...              37  afc316df4b7769e6580621fc851f57de   \n36303      in w.c.  ...              37  b274d9d33df70a7e6d92986ee59def33   \n36322      in w.c.  ...              37  843cb3422eeebc7f07a22f77fa8e16c4   \n\n                                                   topic  equip_id  id_bdg  \\\n36234     nyserda+0000124522+ahu-ac-20+AC-20_duct_sp_1_7     34993     311   \n36265  nyserda+0000124522+ac-22+AC-22 (VAV22-7)_duct_...     34994     311   \n36275           nyserda+0000124522+ac-3+AC-3_duct_sp_1_7     34995     311   \n36283  nyserda+0000124522+ahu-ac-14+AC-14 (FPT_14_10)...     34996     311   \n36303     nyserda+0000124522+ahu-ac-23+AC-23_duct_sp_1_7     34998     311   \n36322  nyserda+0000124522+ahu-ac-6+AC-6 (VAV6-8)_duct...     34999     311   \n\n      name_bdg equip_type_abbr    equip_type_name  area_served_desc  \\\n36234   124522             AHU  Air Handling Unit               NaN   \n36265   124522             AHU  Air Handling Unit               NaN   \n36275   124522             AHU  Air Handling Unit               NaN   \n36283   124522             AHU  Air Handling Unit               NaN   \n36303   124522             AHU  Air Handling Unit               NaN   \n36322   124522             AHU  Air Handling Unit               NaN   \n\n                  tags  \n36234  ['ahu', 'hvac']  \n36265  ['ahu', 'hvac']  \n36275  ['ahu', 'hvac']  \n36283  ['ahu', 'hvac']  \n36303  ['ahu', 'hvac']  \n36322  ['ahu', 'hvac']  \n\n[6 rows x 24 columns]",
      "text/html": "<div>\n<style scoped>\n    .dataframe tbody tr th:only-of-type {\n        vertical-align: middle;\n    }\n\n    .dataframe tbody tr th {\n        vertical-align: top;\n    }\n\n    .dataframe thead th {\n        text-align: right;\n    }\n</style>\n<table border=\"1\" class=\"dataframe\">\n  <thead>\n    <tr style=\"text-align: right;\">\n      <th></th>\n      <th>id_point</th>\n      <th>building_id</th>\n      <th>last_updated</th>\n      <th>first_updated</th>\n      <th>device</th>\n      <th>objectId</th>\n      <th>name_point</th>\n      <th>description</th>\n      <th>units</th>\n      <th>tagged_units</th>\n      <th>...</th>\n      <th>measurement_id</th>\n      <th>datasource_hash</th>\n      <th>topic</th>\n      <th>equip_id</th>\n      <th>id_bdg</th>\n      <th>name_bdg</th>\n      <th>equip_type_abbr</th>\n      <th>equip_type_name</th>\n      <th>area_served_desc</th>\n      <th>tags</th>\n    </tr>\n  </thead>\n  <tbody>\n    <tr>\n      <th>36234</th>\n      <td>414694</td>\n      <td>311</td>\n      <td>1.614626e+12</td>\n      <td>1.599712e+12</td>\n      <td>NaN</td>\n      <td>NaN</td>\n      <td>AC-20_duct_sp_1_7</td>\n      <td>NaN</td>\n      <td>NaN</td>\n      <td>in w.c.</td>\n      <td>...</td>\n      <td>37</td>\n      <td>35c02370349a3de233e7874f3aae63cb</td>\n      <td>nyserda+0000124522+ahu-ac-20+AC-20_duct_sp_1_7</td>\n      <td>34993</td>\n      <td>311</td>\n      <td>124522</td>\n      <td>AHU</td>\n      <td>Air Handling Unit</td>\n      <td>NaN</td>\n      <td>['ahu', 'hvac']</td>\n    </tr>\n    <tr>\n      <th>36265</th>\n      <td>216816</td>\n      <td>311</td>\n      <td>1.585627e+12</td>\n      <td>1.568212e+12</td>\n      <td>NaN</td>\n      <td>NaN</td>\n      <td>AC-22 (VAV22-7)_duct_sp_1_7</td>\n      <td>AC-22 (VAV22-7)_duct_sp_1_7</td>\n      <td>NaN</td>\n      <td>in w.c.</td>\n      <td>...</td>\n      <td>37</td>\n      <td>b75811d65e280a20a109d8c77e917812</td>\n      <td>nyserda+0000124522+ac-22+AC-22 (VAV22-7)_duct_...</td>\n      <td>34994</td>\n      <td>311</td>\n      <td>124522</td>\n      <td>AHU</td>\n      <td>Air Handling Unit</td>\n      <td>NaN</td>\n      <td>['ahu', 'hvac']</td>\n    </tr>\n    <tr>\n      <th>36275</th>\n      <td>216834</td>\n      <td>311</td>\n      <td>1.585627e+12</td>\n      <td>1.568209e+12</td>\n      <td>NaN</td>\n      <td>NaN</td>\n      <td>AC-3_duct_sp_1_7</td>\n      <td>AC-3_duct_sp_1_7</td>\n      <td>NaN</td>\n      <td>in w.c.</td>\n      <td>...</td>\n      <td>37</td>\n      <td>753f71995678042e24ea004e7fba71af</td>\n      <td>nyserda+0000124522+ac-3+AC-3_duct_sp_1_7</td>\n      <td>34995</td>\n      <td>311</td>\n      <td>124522</td>\n      <td>AHU</td>\n      <td>Air Handling Unit</td>\n      <td>NaN</td>\n      <td>['ahu', 'hvac']</td>\n    </tr>\n    <tr>\n      <th>36283</th>\n      <td>414666</td>\n      <td>311</td>\n      <td>1.614626e+12</td>\n      <td>1.599712e+12</td>\n      <td>NaN</td>\n      <td>NaN</td>\n      <td>AC-14 (FPT_14_10)_duct_sp_1_7</td>\n      <td>NaN</td>\n      <td>NaN</td>\n      <td>in w.c.</td>\n      <td>...</td>\n      <td>37</td>\n      <td>afc316df4b7769e6580621fc851f57de</td>\n      <td>nyserda+0000124522+ahu-ac-14+AC-14 (FPT_14_10)...</td>\n      <td>34996</td>\n      <td>311</td>\n      <td>124522</td>\n      <td>AHU</td>\n      <td>Air Handling Unit</td>\n      <td>NaN</td>\n      <td>['ahu', 'hvac']</td>\n    </tr>\n    <tr>\n      <th>36303</th>\n      <td>414713</td>\n      <td>311</td>\n      <td>1.614626e+12</td>\n      <td>1.595872e+12</td>\n      <td>NaN</td>\n      <td>NaN</td>\n      <td>AC-23_duct_sp_1_7</td>\n      <td>NaN</td>\n      <td>NaN</td>\n      <td>in w.c.</td>\n      <td>...</td>\n      <td>37</td>\n      <td>b274d9d33df70a7e6d92986ee59def33</td>\n      <td>nyserda+0000124522+ahu-ac-23+AC-23_duct_sp_1_7</td>\n      <td>34998</td>\n      <td>311</td>\n      <td>124522</td>\n      <td>AHU</td>\n      <td>Air Handling Unit</td>\n      <td>NaN</td>\n      <td>['ahu', 'hvac']</td>\n    </tr>\n    <tr>\n      <th>36322</th>\n      <td>414721</td>\n      <td>311</td>\n      <td>1.614626e+12</td>\n      <td>1.599712e+12</td>\n      <td>NaN</td>\n      <td>NaN</td>\n      <td>AC-6 (VAV6-8)_duct_sp_1_7</td>\n      <td>NaN</td>\n      <td>NaN</td>\n      <td>in w.c.</td>\n      <td>...</td>\n      <td>37</td>\n      <td>843cb3422eeebc7f07a22f77fa8e16c4</td>\n      <td>nyserda+0000124522+ahu-ac-6+AC-6 (VAV6-8)_duct...</td>\n      <td>34999</td>\n      <td>311</td>\n      <td>124522</td>\n      <td>AHU</td>\n      <td>Air Handling Unit</td>\n      <td>NaN</td>\n      <td>['ahu', 'hvac']</td>\n    </tr>\n  </tbody>\n</table>\n<p>6 rows × 24 columns</p>\n</div>"
     },
     "execution_count": 29,
     "metadata": {},
     "output_type": "execute_result"
    }
   ],
   "source": [
    "DSP_mat_data = metadata[(metadata.type == \"Duct Static Pressure\")]\n",
    "DSP_mat_data"
   ],
   "metadata": {
    "collapsed": false,
    "pycharm": {
     "name": "#%%\n"
    }
   }
  },
  {
   "cell_type": "code",
   "execution_count": 30,
   "outputs": [
    {
     "data": {
      "text/plain": "       id_point  building_id  last_updated  first_updated  device  objectId  \\\n36233    414695          311  1.614626e+12   1.599712e+12     NaN       NaN   \n36264    216817          311  1.585627e+12   1.568212e+12     NaN       NaN   \n36274    216835          311  1.585627e+12   1.568209e+12     NaN       NaN   \n36282    414667          311  1.614626e+12   1.599712e+12     NaN       NaN   \n36302    414714          311  1.614626e+12   1.595872e+12     NaN       NaN   \n36321    414722          311  1.614626e+12   1.591916e+12     NaN       NaN   \n\n                                name_point                        description  \\\n36233              AC-20_duct_sp_spc_spt_2                                NaN   \n36264    AC-22 (VAV22-7)_duct_sp_spc_spt_2  AC-22 (VAV22-7)_duct_sp_spc_spt_2   \n36274               AC-3_duct_sp_spc_spt_2             AC-3_duct_sp_spc_spt_2   \n36282  AC-14 (FPT_14_10)_duct_sp_spc_spt_2                                NaN   \n36302              AC-23_duct_sp_spc_spt_2                                NaN   \n36321      AC-6 (VAV6-8)_duct_sp_spc_spt_2                                NaN   \n\n      units tagged_units  ...  measurement_id  \\\n36233   NaN      in w.c.  ...              37   \n36264   NaN      in w.c.  ...              37   \n36274   NaN      in w.c.  ...              37   \n36282   NaN      in w.c.  ...              37   \n36302   NaN      in w.c.  ...              37   \n36321   NaN      in w.c.  ...              37   \n\n                        datasource_hash  \\\n36233  6104c085580429cee737667fc8d69616   \n36264  a471acfd8365656597aa85f7f73ec995   \n36274  6ec6dd45304798d1e92806e6d3739887   \n36282  95f40539e00660a6afc9d584ab15ac3a   \n36302  a1a39bec5c4f1ff2620d4158910c888d   \n36321  a4b02ddedac49f451ac4507755d9ba82   \n\n                                                   topic  equip_id  id_bdg  \\\n36233  nyserda+0000124522+ahu-ac-20+AC-20_duct_sp_spc...     34993     311   \n36264  nyserda+0000124522+ac-22+AC-22 (VAV22-7)_duct_...     34994     311   \n36274     nyserda+0000124522+ac-3+AC-3_duct_sp_spc_spt_2     34995     311   \n36282  nyserda+0000124522+ahu-ac-14+AC-14 (FPT_14_10)...     34996     311   \n36302  nyserda+0000124522+ahu-ac-23+AC-23_duct_sp_spc...     34998     311   \n36321  nyserda+0000124522+ahu-ac-6+AC-6 (VAV6-8)_duct...     34999     311   \n\n      name_bdg equip_type_abbr    equip_type_name  area_served_desc  \\\n36233   124522             AHU  Air Handling Unit               NaN   \n36264   124522             AHU  Air Handling Unit               NaN   \n36274   124522             AHU  Air Handling Unit               NaN   \n36282   124522             AHU  Air Handling Unit               NaN   \n36302   124522             AHU  Air Handling Unit               NaN   \n36321   124522             AHU  Air Handling Unit               NaN   \n\n                  tags  \n36233  ['ahu', 'hvac']  \n36264  ['ahu', 'hvac']  \n36274  ['ahu', 'hvac']  \n36282  ['ahu', 'hvac']  \n36302  ['ahu', 'hvac']  \n36321  ['ahu', 'hvac']  \n\n[6 rows x 24 columns]",
      "text/html": "<div>\n<style scoped>\n    .dataframe tbody tr th:only-of-type {\n        vertical-align: middle;\n    }\n\n    .dataframe tbody tr th {\n        vertical-align: top;\n    }\n\n    .dataframe thead th {\n        text-align: right;\n    }\n</style>\n<table border=\"1\" class=\"dataframe\">\n  <thead>\n    <tr style=\"text-align: right;\">\n      <th></th>\n      <th>id_point</th>\n      <th>building_id</th>\n      <th>last_updated</th>\n      <th>first_updated</th>\n      <th>device</th>\n      <th>objectId</th>\n      <th>name_point</th>\n      <th>description</th>\n      <th>units</th>\n      <th>tagged_units</th>\n      <th>...</th>\n      <th>measurement_id</th>\n      <th>datasource_hash</th>\n      <th>topic</th>\n      <th>equip_id</th>\n      <th>id_bdg</th>\n      <th>name_bdg</th>\n      <th>equip_type_abbr</th>\n      <th>equip_type_name</th>\n      <th>area_served_desc</th>\n      <th>tags</th>\n    </tr>\n  </thead>\n  <tbody>\n    <tr>\n      <th>36233</th>\n      <td>414695</td>\n      <td>311</td>\n      <td>1.614626e+12</td>\n      <td>1.599712e+12</td>\n      <td>NaN</td>\n      <td>NaN</td>\n      <td>AC-20_duct_sp_spc_spt_2</td>\n      <td>NaN</td>\n      <td>NaN</td>\n      <td>in w.c.</td>\n      <td>...</td>\n      <td>37</td>\n      <td>6104c085580429cee737667fc8d69616</td>\n      <td>nyserda+0000124522+ahu-ac-20+AC-20_duct_sp_spc...</td>\n      <td>34993</td>\n      <td>311</td>\n      <td>124522</td>\n      <td>AHU</td>\n      <td>Air Handling Unit</td>\n      <td>NaN</td>\n      <td>['ahu', 'hvac']</td>\n    </tr>\n    <tr>\n      <th>36264</th>\n      <td>216817</td>\n      <td>311</td>\n      <td>1.585627e+12</td>\n      <td>1.568212e+12</td>\n      <td>NaN</td>\n      <td>NaN</td>\n      <td>AC-22 (VAV22-7)_duct_sp_spc_spt_2</td>\n      <td>AC-22 (VAV22-7)_duct_sp_spc_spt_2</td>\n      <td>NaN</td>\n      <td>in w.c.</td>\n      <td>...</td>\n      <td>37</td>\n      <td>a471acfd8365656597aa85f7f73ec995</td>\n      <td>nyserda+0000124522+ac-22+AC-22 (VAV22-7)_duct_...</td>\n      <td>34994</td>\n      <td>311</td>\n      <td>124522</td>\n      <td>AHU</td>\n      <td>Air Handling Unit</td>\n      <td>NaN</td>\n      <td>['ahu', 'hvac']</td>\n    </tr>\n    <tr>\n      <th>36274</th>\n      <td>216835</td>\n      <td>311</td>\n      <td>1.585627e+12</td>\n      <td>1.568209e+12</td>\n      <td>NaN</td>\n      <td>NaN</td>\n      <td>AC-3_duct_sp_spc_spt_2</td>\n      <td>AC-3_duct_sp_spc_spt_2</td>\n      <td>NaN</td>\n      <td>in w.c.</td>\n      <td>...</td>\n      <td>37</td>\n      <td>6ec6dd45304798d1e92806e6d3739887</td>\n      <td>nyserda+0000124522+ac-3+AC-3_duct_sp_spc_spt_2</td>\n      <td>34995</td>\n      <td>311</td>\n      <td>124522</td>\n      <td>AHU</td>\n      <td>Air Handling Unit</td>\n      <td>NaN</td>\n      <td>['ahu', 'hvac']</td>\n    </tr>\n    <tr>\n      <th>36282</th>\n      <td>414667</td>\n      <td>311</td>\n      <td>1.614626e+12</td>\n      <td>1.599712e+12</td>\n      <td>NaN</td>\n      <td>NaN</td>\n      <td>AC-14 (FPT_14_10)_duct_sp_spc_spt_2</td>\n      <td>NaN</td>\n      <td>NaN</td>\n      <td>in w.c.</td>\n      <td>...</td>\n      <td>37</td>\n      <td>95f40539e00660a6afc9d584ab15ac3a</td>\n      <td>nyserda+0000124522+ahu-ac-14+AC-14 (FPT_14_10)...</td>\n      <td>34996</td>\n      <td>311</td>\n      <td>124522</td>\n      <td>AHU</td>\n      <td>Air Handling Unit</td>\n      <td>NaN</td>\n      <td>['ahu', 'hvac']</td>\n    </tr>\n    <tr>\n      <th>36302</th>\n      <td>414714</td>\n      <td>311</td>\n      <td>1.614626e+12</td>\n      <td>1.595872e+12</td>\n      <td>NaN</td>\n      <td>NaN</td>\n      <td>AC-23_duct_sp_spc_spt_2</td>\n      <td>NaN</td>\n      <td>NaN</td>\n      <td>in w.c.</td>\n      <td>...</td>\n      <td>37</td>\n      <td>a1a39bec5c4f1ff2620d4158910c888d</td>\n      <td>nyserda+0000124522+ahu-ac-23+AC-23_duct_sp_spc...</td>\n      <td>34998</td>\n      <td>311</td>\n      <td>124522</td>\n      <td>AHU</td>\n      <td>Air Handling Unit</td>\n      <td>NaN</td>\n      <td>['ahu', 'hvac']</td>\n    </tr>\n    <tr>\n      <th>36321</th>\n      <td>414722</td>\n      <td>311</td>\n      <td>1.614626e+12</td>\n      <td>1.591916e+12</td>\n      <td>NaN</td>\n      <td>NaN</td>\n      <td>AC-6 (VAV6-8)_duct_sp_spc_spt_2</td>\n      <td>NaN</td>\n      <td>NaN</td>\n      <td>in w.c.</td>\n      <td>...</td>\n      <td>37</td>\n      <td>a4b02ddedac49f451ac4507755d9ba82</td>\n      <td>nyserda+0000124522+ahu-ac-6+AC-6 (VAV6-8)_duct...</td>\n      <td>34999</td>\n      <td>311</td>\n      <td>124522</td>\n      <td>AHU</td>\n      <td>Air Handling Unit</td>\n      <td>NaN</td>\n      <td>['ahu', 'hvac']</td>\n    </tr>\n  </tbody>\n</table>\n<p>6 rows × 24 columns</p>\n</div>"
     },
     "execution_count": 30,
     "metadata": {},
     "output_type": "execute_result"
    }
   ],
   "source": [
    "DSP_setpoint_mat_data = metadata[(metadata.type == \"Duct Static Pressure Setpoint\")]\n",
    "DSP_setpoint_mat_data"
   ],
   "metadata": {
    "collapsed": false,
    "pycharm": {
     "name": "#%%\n"
    }
   }
  },
  {
   "cell_type": "code",
   "execution_count": 20,
   "id": "857038d3",
   "metadata": {},
   "outputs": [
    {
     "data": {
      "text/plain": "       id_point  building_id  last_updated  first_updated  device  objectId  \\\n3927     283272          426  1.606798e+12   1.512104e+12     NaN       NaN   \n3937     283271          426  1.606798e+12   1.512104e+12     NaN       NaN   \n3970     283302          426  1.606798e+12   1.512104e+12     NaN       NaN   \n3971     283303          426  1.606798e+12   1.512104e+12     NaN       NaN   \n3982     283326          426  1.606798e+12   1.512104e+12     NaN       NaN   \n...         ...          ...           ...            ...     ...       ...   \n31430    203964          201  1.554090e+12   1.526061e+12     NaN       NaN   \n31443    204010          201  1.554090e+12   1.526061e+12     NaN       NaN   \n31597    204158          202  1.554090e+12   1.522555e+12     NaN       NaN   \n41022    230563          396  1.543640e+12   1.514783e+12     NaN       NaN   \n41104    230615          396  1.543640e+12   1.514783e+12     NaN       NaN   \n\n                                              name_point  \\\n3927   480 W 42nd St - Signature Theatre WSHP1 SpaceS...   \n3937   480 W 42nd St - Signature Theatre WSHP1 SpaceS...   \n3970   480 W 42nd St - Signature Theatre WSHP2 SpaceS...   \n3971   480 W 42nd St - Signature Theatre WSHP2 SpaceS...   \n3982   480 W 42nd St - Signature Theatre WSHP3 SpaceS...   \n...                                                  ...   \n31430                                                NaN   \n31443                                                NaN   \n31597                                                NaN   \n41022                                                NaN   \n41104                                                NaN   \n\n                                description units tagged_units  ...  \\\n3927                                    NaN   psi          psi  ...   \n3937                                    NaN   psi          psi  ...   \n3970                                    NaN   psi          psi  ...   \n3971                                    NaN   psi          psi  ...   \n3982                                    NaN   psi          psi  ...   \n...                                     ...   ...          ...  ...   \n31430  AHU - 3 Aerobics_Space Press: Active   psi          NaN  ...   \n31443   AHU - 4 Fitness_Space Press: Active   psi          NaN  ...   \n31597      AHU-1 Gym_Space Pressure: Active   psi          NaN  ...   \n41022      UC600-AHU-01_Space Press: Active   psi          NaN  ...   \n41104      UC600-AHU-02_Space Press: Active   psi          NaN  ...   \n\n       measurement_id                   datasource_hash  \\\n3927               37  b601d7b3b2b918c0cfa6a328b8ceb026   \n3937               37  17fee3008cdcdcddf62975b35f823d3c   \n3970               37  ade83259b2fa9025824e6fb7fd5e0e48   \n3971               37  52328573e3e06f2371a80d6aa9f71518   \n3982               37  53bb77238d8b570ad6a3711994b20a80   \n...               ...                               ...   \n31430              37  745d0e4eff0c62155f2848ef73400eb1   \n31443              37  0c607d989a25c73491345778fa5c07ad   \n31597              37  e3b2e698b1b946e515928a170398de36   \n41022              37  4459c946c98a7be6d5c31414285005c0   \n41104              37  5d56427037b614517d25c1095b56978d   \n\n                                                   topic  equip_id  id_bdg  \\\n3927   nyserda+000076513+heatPump1+480 W 42nd St - Si...     26954     426   \n3937   nyserda+000076513+heatPump1+480 W 42nd St - Si...     26954     426   \n3970   nyserda+000076513+heatPump2+480 W 42nd St - Si...     26955     426   \n3971   nyserda+000076513+heatPump2+480 W 42nd St - Si...     26955     426   \n3982   nyserda+000076513+heatPump3+480 W 42nd St - Si...     26956     426   \n...                                                  ...       ...     ...   \n31430  nyserda+0000096582+ahu3+AHU - 3 Aerobics_Space...     19024     201   \n31443  nyserda+0000096582+ahu4+AHU - 4 Fitness_Space ...     19025     201   \n31597  nyserda+0000096581+ahu1+AHU-1 Gym_Space Pressu...     19030     202   \n41022  nyserda+0000091480+ahu1+UC600-AHU-01_Space Pre...     22695     396   \n41104  nyserda+0000091480+ahu2+UC600-AHU-02_Space Pre...     22696     396   \n\n      name_bdg equip_type_abbr    equip_type_name  area_served_desc  \\\n3927     76513              HP          Heat Pump               NaN   \n3937     76513              HP          Heat Pump               NaN   \n3970     76513              HP          Heat Pump               NaN   \n3971     76513              HP          Heat Pump               NaN   \n3982     76513              HP          Heat Pump               NaN   \n...        ...             ...                ...               ...   \n31430    96582             AHU  Air Handling Unit               NaN   \n31443    96582             AHU  Air Handling Unit               NaN   \n31597    96581             AHU  Air Handling Unit               NaN   \n41022    91480             AHU  Air Handling Unit               NaN   \n41104    91480             AHU  Air Handling Unit               NaN   \n\n                                                 tags  \n3927   ['dxCooling', 'dxHeating', 'heatPump', 'hvac']  \n3937   ['dxCooling', 'dxHeating', 'heatPump', 'hvac']  \n3970   ['dxCooling', 'dxHeating', 'heatPump', 'hvac']  \n3971   ['dxCooling', 'dxHeating', 'heatPump', 'hvac']  \n3982   ['dxCooling', 'dxHeating', 'heatPump', 'hvac']  \n...                                               ...  \n31430                                 ['ahu', 'hvac']  \n31443                                 ['ahu', 'hvac']  \n31597                                 ['ahu', 'hvac']  \n41022                                 ['ahu', 'hvac']  \n41104                                 ['ahu', 'hvac']  \n\n[89 rows x 24 columns]",
      "text/html": "<div>\n<style scoped>\n    .dataframe tbody tr th:only-of-type {\n        vertical-align: middle;\n    }\n\n    .dataframe tbody tr th {\n        vertical-align: top;\n    }\n\n    .dataframe thead th {\n        text-align: right;\n    }\n</style>\n<table border=\"1\" class=\"dataframe\">\n  <thead>\n    <tr style=\"text-align: right;\">\n      <th></th>\n      <th>id_point</th>\n      <th>building_id</th>\n      <th>last_updated</th>\n      <th>first_updated</th>\n      <th>device</th>\n      <th>objectId</th>\n      <th>name_point</th>\n      <th>description</th>\n      <th>units</th>\n      <th>tagged_units</th>\n      <th>...</th>\n      <th>measurement_id</th>\n      <th>datasource_hash</th>\n      <th>topic</th>\n      <th>equip_id</th>\n      <th>id_bdg</th>\n      <th>name_bdg</th>\n      <th>equip_type_abbr</th>\n      <th>equip_type_name</th>\n      <th>area_served_desc</th>\n      <th>tags</th>\n    </tr>\n  </thead>\n  <tbody>\n    <tr>\n      <th>3927</th>\n      <td>283272</td>\n      <td>426</td>\n      <td>1.606798e+12</td>\n      <td>1.512104e+12</td>\n      <td>NaN</td>\n      <td>NaN</td>\n      <td>480 W 42nd St - Signature Theatre WSHP1 SpaceS...</td>\n      <td>NaN</td>\n      <td>psi</td>\n      <td>psi</td>\n      <td>...</td>\n      <td>37</td>\n      <td>b601d7b3b2b918c0cfa6a328b8ceb026</td>\n      <td>nyserda+000076513+heatPump1+480 W 42nd St - Si...</td>\n      <td>26954</td>\n      <td>426</td>\n      <td>76513</td>\n      <td>HP</td>\n      <td>Heat Pump</td>\n      <td>NaN</td>\n      <td>['dxCooling', 'dxHeating', 'heatPump', 'hvac']</td>\n    </tr>\n    <tr>\n      <th>3937</th>\n      <td>283271</td>\n      <td>426</td>\n      <td>1.606798e+12</td>\n      <td>1.512104e+12</td>\n      <td>NaN</td>\n      <td>NaN</td>\n      <td>480 W 42nd St - Signature Theatre WSHP1 SpaceS...</td>\n      <td>NaN</td>\n      <td>psi</td>\n      <td>psi</td>\n      <td>...</td>\n      <td>37</td>\n      <td>17fee3008cdcdcddf62975b35f823d3c</td>\n      <td>nyserda+000076513+heatPump1+480 W 42nd St - Si...</td>\n      <td>26954</td>\n      <td>426</td>\n      <td>76513</td>\n      <td>HP</td>\n      <td>Heat Pump</td>\n      <td>NaN</td>\n      <td>['dxCooling', 'dxHeating', 'heatPump', 'hvac']</td>\n    </tr>\n    <tr>\n      <th>3970</th>\n      <td>283302</td>\n      <td>426</td>\n      <td>1.606798e+12</td>\n      <td>1.512104e+12</td>\n      <td>NaN</td>\n      <td>NaN</td>\n      <td>480 W 42nd St - Signature Theatre WSHP2 SpaceS...</td>\n      <td>NaN</td>\n      <td>psi</td>\n      <td>psi</td>\n      <td>...</td>\n      <td>37</td>\n      <td>ade83259b2fa9025824e6fb7fd5e0e48</td>\n      <td>nyserda+000076513+heatPump2+480 W 42nd St - Si...</td>\n      <td>26955</td>\n      <td>426</td>\n      <td>76513</td>\n      <td>HP</td>\n      <td>Heat Pump</td>\n      <td>NaN</td>\n      <td>['dxCooling', 'dxHeating', 'heatPump', 'hvac']</td>\n    </tr>\n    <tr>\n      <th>3971</th>\n      <td>283303</td>\n      <td>426</td>\n      <td>1.606798e+12</td>\n      <td>1.512104e+12</td>\n      <td>NaN</td>\n      <td>NaN</td>\n      <td>480 W 42nd St - Signature Theatre WSHP2 SpaceS...</td>\n      <td>NaN</td>\n      <td>psi</td>\n      <td>psi</td>\n      <td>...</td>\n      <td>37</td>\n      <td>52328573e3e06f2371a80d6aa9f71518</td>\n      <td>nyserda+000076513+heatPump2+480 W 42nd St - Si...</td>\n      <td>26955</td>\n      <td>426</td>\n      <td>76513</td>\n      <td>HP</td>\n      <td>Heat Pump</td>\n      <td>NaN</td>\n      <td>['dxCooling', 'dxHeating', 'heatPump', 'hvac']</td>\n    </tr>\n    <tr>\n      <th>3982</th>\n      <td>283326</td>\n      <td>426</td>\n      <td>1.606798e+12</td>\n      <td>1.512104e+12</td>\n      <td>NaN</td>\n      <td>NaN</td>\n      <td>480 W 42nd St - Signature Theatre WSHP3 SpaceS...</td>\n      <td>NaN</td>\n      <td>psi</td>\n      <td>psi</td>\n      <td>...</td>\n      <td>37</td>\n      <td>53bb77238d8b570ad6a3711994b20a80</td>\n      <td>nyserda+000076513+heatPump3+480 W 42nd St - Si...</td>\n      <td>26956</td>\n      <td>426</td>\n      <td>76513</td>\n      <td>HP</td>\n      <td>Heat Pump</td>\n      <td>NaN</td>\n      <td>['dxCooling', 'dxHeating', 'heatPump', 'hvac']</td>\n    </tr>\n    <tr>\n      <th>...</th>\n      <td>...</td>\n      <td>...</td>\n      <td>...</td>\n      <td>...</td>\n      <td>...</td>\n      <td>...</td>\n      <td>...</td>\n      <td>...</td>\n      <td>...</td>\n      <td>...</td>\n      <td>...</td>\n      <td>...</td>\n      <td>...</td>\n      <td>...</td>\n      <td>...</td>\n      <td>...</td>\n      <td>...</td>\n      <td>...</td>\n      <td>...</td>\n      <td>...</td>\n      <td>...</td>\n    </tr>\n    <tr>\n      <th>31430</th>\n      <td>203964</td>\n      <td>201</td>\n      <td>1.554090e+12</td>\n      <td>1.526061e+12</td>\n      <td>NaN</td>\n      <td>NaN</td>\n      <td>NaN</td>\n      <td>AHU - 3 Aerobics_Space Press: Active</td>\n      <td>psi</td>\n      <td>NaN</td>\n      <td>...</td>\n      <td>37</td>\n      <td>745d0e4eff0c62155f2848ef73400eb1</td>\n      <td>nyserda+0000096582+ahu3+AHU - 3 Aerobics_Space...</td>\n      <td>19024</td>\n      <td>201</td>\n      <td>96582</td>\n      <td>AHU</td>\n      <td>Air Handling Unit</td>\n      <td>NaN</td>\n      <td>['ahu', 'hvac']</td>\n    </tr>\n    <tr>\n      <th>31443</th>\n      <td>204010</td>\n      <td>201</td>\n      <td>1.554090e+12</td>\n      <td>1.526061e+12</td>\n      <td>NaN</td>\n      <td>NaN</td>\n      <td>NaN</td>\n      <td>AHU - 4 Fitness_Space Press: Active</td>\n      <td>psi</td>\n      <td>NaN</td>\n      <td>...</td>\n      <td>37</td>\n      <td>0c607d989a25c73491345778fa5c07ad</td>\n      <td>nyserda+0000096582+ahu4+AHU - 4 Fitness_Space ...</td>\n      <td>19025</td>\n      <td>201</td>\n      <td>96582</td>\n      <td>AHU</td>\n      <td>Air Handling Unit</td>\n      <td>NaN</td>\n      <td>['ahu', 'hvac']</td>\n    </tr>\n    <tr>\n      <th>31597</th>\n      <td>204158</td>\n      <td>202</td>\n      <td>1.554090e+12</td>\n      <td>1.522555e+12</td>\n      <td>NaN</td>\n      <td>NaN</td>\n      <td>NaN</td>\n      <td>AHU-1 Gym_Space Pressure: Active</td>\n      <td>psi</td>\n      <td>NaN</td>\n      <td>...</td>\n      <td>37</td>\n      <td>e3b2e698b1b946e515928a170398de36</td>\n      <td>nyserda+0000096581+ahu1+AHU-1 Gym_Space Pressu...</td>\n      <td>19030</td>\n      <td>202</td>\n      <td>96581</td>\n      <td>AHU</td>\n      <td>Air Handling Unit</td>\n      <td>NaN</td>\n      <td>['ahu', 'hvac']</td>\n    </tr>\n    <tr>\n      <th>41022</th>\n      <td>230563</td>\n      <td>396</td>\n      <td>1.543640e+12</td>\n      <td>1.514783e+12</td>\n      <td>NaN</td>\n      <td>NaN</td>\n      <td>NaN</td>\n      <td>UC600-AHU-01_Space Press: Active</td>\n      <td>psi</td>\n      <td>NaN</td>\n      <td>...</td>\n      <td>37</td>\n      <td>4459c946c98a7be6d5c31414285005c0</td>\n      <td>nyserda+0000091480+ahu1+UC600-AHU-01_Space Pre...</td>\n      <td>22695</td>\n      <td>396</td>\n      <td>91480</td>\n      <td>AHU</td>\n      <td>Air Handling Unit</td>\n      <td>NaN</td>\n      <td>['ahu', 'hvac']</td>\n    </tr>\n    <tr>\n      <th>41104</th>\n      <td>230615</td>\n      <td>396</td>\n      <td>1.543640e+12</td>\n      <td>1.514783e+12</td>\n      <td>NaN</td>\n      <td>NaN</td>\n      <td>NaN</td>\n      <td>UC600-AHU-02_Space Press: Active</td>\n      <td>psi</td>\n      <td>NaN</td>\n      <td>...</td>\n      <td>37</td>\n      <td>5d56427037b614517d25c1095b56978d</td>\n      <td>nyserda+0000091480+ahu2+UC600-AHU-02_Space Pre...</td>\n      <td>22696</td>\n      <td>396</td>\n      <td>91480</td>\n      <td>AHU</td>\n      <td>Air Handling Unit</td>\n      <td>NaN</td>\n      <td>['ahu', 'hvac']</td>\n    </tr>\n  </tbody>\n</table>\n<p>89 rows × 24 columns</p>\n</div>"
     },
     "execution_count": 20,
     "metadata": {},
     "output_type": "execute_result"
    }
   ],
   "source": [
    "ZSP_mat_data = metadata[(metadata.type == \"Zone Static Pressure\")]\n",
    "ZSP_mat_data"
   ]
  },
  {
   "cell_type": "code",
   "execution_count": 28,
   "outputs": [
    {
     "data": {
      "text/plain": "       id_point  building_id  last_updated  first_updated  device  objectId  \\\n3936     283273          426  1.606798e+12   1.512104e+12     NaN       NaN   \n3972     283304          426  1.606798e+12   1.512104e+12     NaN       NaN   \n3998     283327          426  1.606798e+12   1.512104e+12     NaN       NaN   \n4013     283357          426  1.606798e+12   1.512104e+12     NaN       NaN   \n4061     283409          426  1.606798e+12   1.512104e+12     NaN       NaN   \n12723    197516          130  1.622433e+12   1.539662e+12     NaN       NaN   \n31318    203876          201  1.554090e+12   1.526061e+12     NaN       NaN   \n31399    203963          201  1.554090e+12   1.526061e+12     NaN       NaN   \n31457    204009          201  1.554090e+12   1.526061e+12     NaN       NaN   \n31599    204157          202  1.554090e+12   1.522555e+12     NaN       NaN   \n41024    230562          396  1.543640e+12   1.514783e+12     NaN       NaN   \n41079    230614          396  1.543640e+12   1.514783e+12     NaN       NaN   \n41166    230668          396  1.543640e+12   1.514783e+12     NaN       NaN   \n\n                                              name_point  \\\n3936   480 W 42nd St - Signature Theatre WSHP1 SpaceS...   \n3972   480 W 42nd St - Signature Theatre WSHP2 SpaceS...   \n3998   480 W 42nd St - Signature Theatre WSHP3 SpaceS...   \n4013   480 W 42nd St - Signature Theatre WSHP4 SpaceS...   \n4061   480 W 42nd St - Signature Theatre WSHP6 SpaceS...   \n12723                                     AC_8B_SSPSetpt   \n31318                                                NaN   \n31399                                                NaN   \n31457                                                NaN   \n31599                                                NaN   \n41024                                                NaN   \n41079                                                NaN   \n41166                                                NaN   \n\n                                 description units tagged_units  ...  \\\n3936                                     NaN   psi          psi  ...   \n3972                                     NaN   psi          psi  ...   \n3998                                     NaN   psi          psi  ...   \n4013                                     NaN   psi          psi  ...   \n4061                                     NaN   psi          psi  ...   \n12723                         AC_8B_SSPSetpt   psi      in w.c.  ...   \n31318       AHU - 1 Gym_Space Press Setpoint   psi          NaN  ...   \n31399  AHU - 3 Aerobics_Space Press Setpoint   psi          NaN  ...   \n31457   AHU - 4 Fitness_Space Press Setpoint   psi          NaN  ...   \n31599      AHU-1 Gym_Space Pressure Setpoint   psi          NaN  ...   \n41024      UC600-AHU-01_Space Press Setpoint   psi          NaN  ...   \n41079      UC600-AHU-02_Space Press Setpoint   psi          NaN  ...   \n41166      UC600-AHU-03_Space Press Setpoint   psi          NaN  ...   \n\n       measurement_id                   datasource_hash  \\\n3936               37  d08873262e94fa7c18924b4d2015e5ff   \n3972               37  a156714aae78a0ad2c6487224a8633d3   \n3998               37  85fc063923bd33560be1cf3e1c0a0c55   \n4013               37  8d483893b86677c696d18c7ebcf3cfef   \n4061               37  aaae65b4b407c33b7f74b55d67497a7e   \n12723              37  d188ac99e163fba12f84d948007ac55c   \n31318              37  6cd9e5b749d1142adf948de768052a35   \n31399              37  784e053f001e9f9b14c5347e8aaa081f   \n31457              37  73268afc22026d19636bb38f8eaab540   \n31599              37  f47a33f2e88860a27bb6170454c7c330   \n41024              37  2bee963bd4f5d9e5008f7006b04a585a   \n41079              37  256542af9e7759d4efd5b934b3adec53   \n41166              37  891dcaca461f11543a55077f10954098   \n\n                                                   topic  equip_id  id_bdg  \\\n3936   nyserda+000076513+heatPump1+480 W 42nd St - Si...     26954     426   \n3972   nyserda+000076513+heatPump2+480 W 42nd St - Si...     26955     426   \n3998   nyserda+000076513+heatPump3+480 W 42nd St - Si...     26956     426   \n4013   nyserda+000076513+heatPump4+480 W 42nd St - Si...     26957     426   \n4061   nyserda+000076513+heatPump6+480 W 42nd St - Si...     26959     426   \n12723              nyserda+0000104698+ac8+AC_8B_SSPSetpt     33319     130   \n31318  nyserda+0000096582+ahu1+AHU - 1 Gym_Space Pres...     19022     201   \n31399  nyserda+0000096582+ahu3+AHU - 3 Aerobics_Space...     19024     201   \n31457  nyserda+0000096582+ahu4+AHU - 4 Fitness_Space ...     19025     201   \n31599  nyserda+0000096581+ahu1+AHU-1 Gym_Space Pressu...     19030     202   \n41024  nyserda+0000091480+ahu1+UC600-AHU-01_Space Pre...     22695     396   \n41079  nyserda+0000091480+ahu2+UC600-AHU-02_Space Pre...     22696     396   \n41166  nyserda+0000091480+ahu3+UC600-AHU-03_Space Pre...     22697     396   \n\n      name_bdg equip_type_abbr    equip_type_name  area_served_desc  \\\n3936     76513              HP          Heat Pump               NaN   \n3972     76513              HP          Heat Pump               NaN   \n3998     76513              HP          Heat Pump               NaN   \n4013     76513              HP          Heat Pump               NaN   \n4061     76513              HP          Heat Pump               NaN   \n12723   104698             AHU  Air Handling Unit               NaN   \n31318    96582             AHU  Air Handling Unit               NaN   \n31399    96582             AHU  Air Handling Unit               NaN   \n31457    96582             AHU  Air Handling Unit               NaN   \n31599    96581             AHU  Air Handling Unit               NaN   \n41024    91480             AHU  Air Handling Unit               NaN   \n41079    91480             AHU  Air Handling Unit               NaN   \n41166    91480             AHU  Air Handling Unit               NaN   \n\n                                                 tags  \n3936   ['dxCooling', 'dxHeating', 'heatPump', 'hvac']  \n3972   ['dxCooling', 'dxHeating', 'heatPump', 'hvac']  \n3998   ['dxCooling', 'dxHeating', 'heatPump', 'hvac']  \n4013   ['dxCooling', 'dxHeating', 'heatPump', 'hvac']  \n4061   ['dxCooling', 'dxHeating', 'heatPump', 'hvac']  \n12723                                 ['ahu', 'hvac']  \n31318                                 ['ahu', 'hvac']  \n31399                                 ['ahu', 'hvac']  \n31457                                 ['ahu', 'hvac']  \n31599                                 ['ahu', 'hvac']  \n41024                                 ['ahu', 'hvac']  \n41079                                 ['ahu', 'hvac']  \n41166                                 ['ahu', 'hvac']  \n\n[13 rows x 24 columns]",
      "text/html": "<div>\n<style scoped>\n    .dataframe tbody tr th:only-of-type {\n        vertical-align: middle;\n    }\n\n    .dataframe tbody tr th {\n        vertical-align: top;\n    }\n\n    .dataframe thead th {\n        text-align: right;\n    }\n</style>\n<table border=\"1\" class=\"dataframe\">\n  <thead>\n    <tr style=\"text-align: right;\">\n      <th></th>\n      <th>id_point</th>\n      <th>building_id</th>\n      <th>last_updated</th>\n      <th>first_updated</th>\n      <th>device</th>\n      <th>objectId</th>\n      <th>name_point</th>\n      <th>description</th>\n      <th>units</th>\n      <th>tagged_units</th>\n      <th>...</th>\n      <th>measurement_id</th>\n      <th>datasource_hash</th>\n      <th>topic</th>\n      <th>equip_id</th>\n      <th>id_bdg</th>\n      <th>name_bdg</th>\n      <th>equip_type_abbr</th>\n      <th>equip_type_name</th>\n      <th>area_served_desc</th>\n      <th>tags</th>\n    </tr>\n  </thead>\n  <tbody>\n    <tr>\n      <th>3936</th>\n      <td>283273</td>\n      <td>426</td>\n      <td>1.606798e+12</td>\n      <td>1.512104e+12</td>\n      <td>NaN</td>\n      <td>NaN</td>\n      <td>480 W 42nd St - Signature Theatre WSHP1 SpaceS...</td>\n      <td>NaN</td>\n      <td>psi</td>\n      <td>psi</td>\n      <td>...</td>\n      <td>37</td>\n      <td>d08873262e94fa7c18924b4d2015e5ff</td>\n      <td>nyserda+000076513+heatPump1+480 W 42nd St - Si...</td>\n      <td>26954</td>\n      <td>426</td>\n      <td>76513</td>\n      <td>HP</td>\n      <td>Heat Pump</td>\n      <td>NaN</td>\n      <td>['dxCooling', 'dxHeating', 'heatPump', 'hvac']</td>\n    </tr>\n    <tr>\n      <th>3972</th>\n      <td>283304</td>\n      <td>426</td>\n      <td>1.606798e+12</td>\n      <td>1.512104e+12</td>\n      <td>NaN</td>\n      <td>NaN</td>\n      <td>480 W 42nd St - Signature Theatre WSHP2 SpaceS...</td>\n      <td>NaN</td>\n      <td>psi</td>\n      <td>psi</td>\n      <td>...</td>\n      <td>37</td>\n      <td>a156714aae78a0ad2c6487224a8633d3</td>\n      <td>nyserda+000076513+heatPump2+480 W 42nd St - Si...</td>\n      <td>26955</td>\n      <td>426</td>\n      <td>76513</td>\n      <td>HP</td>\n      <td>Heat Pump</td>\n      <td>NaN</td>\n      <td>['dxCooling', 'dxHeating', 'heatPump', 'hvac']</td>\n    </tr>\n    <tr>\n      <th>3998</th>\n      <td>283327</td>\n      <td>426</td>\n      <td>1.606798e+12</td>\n      <td>1.512104e+12</td>\n      <td>NaN</td>\n      <td>NaN</td>\n      <td>480 W 42nd St - Signature Theatre WSHP3 SpaceS...</td>\n      <td>NaN</td>\n      <td>psi</td>\n      <td>psi</td>\n      <td>...</td>\n      <td>37</td>\n      <td>85fc063923bd33560be1cf3e1c0a0c55</td>\n      <td>nyserda+000076513+heatPump3+480 W 42nd St - Si...</td>\n      <td>26956</td>\n      <td>426</td>\n      <td>76513</td>\n      <td>HP</td>\n      <td>Heat Pump</td>\n      <td>NaN</td>\n      <td>['dxCooling', 'dxHeating', 'heatPump', 'hvac']</td>\n    </tr>\n    <tr>\n      <th>4013</th>\n      <td>283357</td>\n      <td>426</td>\n      <td>1.606798e+12</td>\n      <td>1.512104e+12</td>\n      <td>NaN</td>\n      <td>NaN</td>\n      <td>480 W 42nd St - Signature Theatre WSHP4 SpaceS...</td>\n      <td>NaN</td>\n      <td>psi</td>\n      <td>psi</td>\n      <td>...</td>\n      <td>37</td>\n      <td>8d483893b86677c696d18c7ebcf3cfef</td>\n      <td>nyserda+000076513+heatPump4+480 W 42nd St - Si...</td>\n      <td>26957</td>\n      <td>426</td>\n      <td>76513</td>\n      <td>HP</td>\n      <td>Heat Pump</td>\n      <td>NaN</td>\n      <td>['dxCooling', 'dxHeating', 'heatPump', 'hvac']</td>\n    </tr>\n    <tr>\n      <th>4061</th>\n      <td>283409</td>\n      <td>426</td>\n      <td>1.606798e+12</td>\n      <td>1.512104e+12</td>\n      <td>NaN</td>\n      <td>NaN</td>\n      <td>480 W 42nd St - Signature Theatre WSHP6 SpaceS...</td>\n      <td>NaN</td>\n      <td>psi</td>\n      <td>psi</td>\n      <td>...</td>\n      <td>37</td>\n      <td>aaae65b4b407c33b7f74b55d67497a7e</td>\n      <td>nyserda+000076513+heatPump6+480 W 42nd St - Si...</td>\n      <td>26959</td>\n      <td>426</td>\n      <td>76513</td>\n      <td>HP</td>\n      <td>Heat Pump</td>\n      <td>NaN</td>\n      <td>['dxCooling', 'dxHeating', 'heatPump', 'hvac']</td>\n    </tr>\n    <tr>\n      <th>12723</th>\n      <td>197516</td>\n      <td>130</td>\n      <td>1.622433e+12</td>\n      <td>1.539662e+12</td>\n      <td>NaN</td>\n      <td>NaN</td>\n      <td>AC_8B_SSPSetpt</td>\n      <td>AC_8B_SSPSetpt</td>\n      <td>psi</td>\n      <td>in w.c.</td>\n      <td>...</td>\n      <td>37</td>\n      <td>d188ac99e163fba12f84d948007ac55c</td>\n      <td>nyserda+0000104698+ac8+AC_8B_SSPSetpt</td>\n      <td>33319</td>\n      <td>130</td>\n      <td>104698</td>\n      <td>AHU</td>\n      <td>Air Handling Unit</td>\n      <td>NaN</td>\n      <td>['ahu', 'hvac']</td>\n    </tr>\n    <tr>\n      <th>31318</th>\n      <td>203876</td>\n      <td>201</td>\n      <td>1.554090e+12</td>\n      <td>1.526061e+12</td>\n      <td>NaN</td>\n      <td>NaN</td>\n      <td>NaN</td>\n      <td>AHU - 1 Gym_Space Press Setpoint</td>\n      <td>psi</td>\n      <td>NaN</td>\n      <td>...</td>\n      <td>37</td>\n      <td>6cd9e5b749d1142adf948de768052a35</td>\n      <td>nyserda+0000096582+ahu1+AHU - 1 Gym_Space Pres...</td>\n      <td>19022</td>\n      <td>201</td>\n      <td>96582</td>\n      <td>AHU</td>\n      <td>Air Handling Unit</td>\n      <td>NaN</td>\n      <td>['ahu', 'hvac']</td>\n    </tr>\n    <tr>\n      <th>31399</th>\n      <td>203963</td>\n      <td>201</td>\n      <td>1.554090e+12</td>\n      <td>1.526061e+12</td>\n      <td>NaN</td>\n      <td>NaN</td>\n      <td>NaN</td>\n      <td>AHU - 3 Aerobics_Space Press Setpoint</td>\n      <td>psi</td>\n      <td>NaN</td>\n      <td>...</td>\n      <td>37</td>\n      <td>784e053f001e9f9b14c5347e8aaa081f</td>\n      <td>nyserda+0000096582+ahu3+AHU - 3 Aerobics_Space...</td>\n      <td>19024</td>\n      <td>201</td>\n      <td>96582</td>\n      <td>AHU</td>\n      <td>Air Handling Unit</td>\n      <td>NaN</td>\n      <td>['ahu', 'hvac']</td>\n    </tr>\n    <tr>\n      <th>31457</th>\n      <td>204009</td>\n      <td>201</td>\n      <td>1.554090e+12</td>\n      <td>1.526061e+12</td>\n      <td>NaN</td>\n      <td>NaN</td>\n      <td>NaN</td>\n      <td>AHU - 4 Fitness_Space Press Setpoint</td>\n      <td>psi</td>\n      <td>NaN</td>\n      <td>...</td>\n      <td>37</td>\n      <td>73268afc22026d19636bb38f8eaab540</td>\n      <td>nyserda+0000096582+ahu4+AHU - 4 Fitness_Space ...</td>\n      <td>19025</td>\n      <td>201</td>\n      <td>96582</td>\n      <td>AHU</td>\n      <td>Air Handling Unit</td>\n      <td>NaN</td>\n      <td>['ahu', 'hvac']</td>\n    </tr>\n    <tr>\n      <th>31599</th>\n      <td>204157</td>\n      <td>202</td>\n      <td>1.554090e+12</td>\n      <td>1.522555e+12</td>\n      <td>NaN</td>\n      <td>NaN</td>\n      <td>NaN</td>\n      <td>AHU-1 Gym_Space Pressure Setpoint</td>\n      <td>psi</td>\n      <td>NaN</td>\n      <td>...</td>\n      <td>37</td>\n      <td>f47a33f2e88860a27bb6170454c7c330</td>\n      <td>nyserda+0000096581+ahu1+AHU-1 Gym_Space Pressu...</td>\n      <td>19030</td>\n      <td>202</td>\n      <td>96581</td>\n      <td>AHU</td>\n      <td>Air Handling Unit</td>\n      <td>NaN</td>\n      <td>['ahu', 'hvac']</td>\n    </tr>\n    <tr>\n      <th>41024</th>\n      <td>230562</td>\n      <td>396</td>\n      <td>1.543640e+12</td>\n      <td>1.514783e+12</td>\n      <td>NaN</td>\n      <td>NaN</td>\n      <td>NaN</td>\n      <td>UC600-AHU-01_Space Press Setpoint</td>\n      <td>psi</td>\n      <td>NaN</td>\n      <td>...</td>\n      <td>37</td>\n      <td>2bee963bd4f5d9e5008f7006b04a585a</td>\n      <td>nyserda+0000091480+ahu1+UC600-AHU-01_Space Pre...</td>\n      <td>22695</td>\n      <td>396</td>\n      <td>91480</td>\n      <td>AHU</td>\n      <td>Air Handling Unit</td>\n      <td>NaN</td>\n      <td>['ahu', 'hvac']</td>\n    </tr>\n    <tr>\n      <th>41079</th>\n      <td>230614</td>\n      <td>396</td>\n      <td>1.543640e+12</td>\n      <td>1.514783e+12</td>\n      <td>NaN</td>\n      <td>NaN</td>\n      <td>NaN</td>\n      <td>UC600-AHU-02_Space Press Setpoint</td>\n      <td>psi</td>\n      <td>NaN</td>\n      <td>...</td>\n      <td>37</td>\n      <td>256542af9e7759d4efd5b934b3adec53</td>\n      <td>nyserda+0000091480+ahu2+UC600-AHU-02_Space Pre...</td>\n      <td>22696</td>\n      <td>396</td>\n      <td>91480</td>\n      <td>AHU</td>\n      <td>Air Handling Unit</td>\n      <td>NaN</td>\n      <td>['ahu', 'hvac']</td>\n    </tr>\n    <tr>\n      <th>41166</th>\n      <td>230668</td>\n      <td>396</td>\n      <td>1.543640e+12</td>\n      <td>1.514783e+12</td>\n      <td>NaN</td>\n      <td>NaN</td>\n      <td>NaN</td>\n      <td>UC600-AHU-03_Space Press Setpoint</td>\n      <td>psi</td>\n      <td>NaN</td>\n      <td>...</td>\n      <td>37</td>\n      <td>891dcaca461f11543a55077f10954098</td>\n      <td>nyserda+0000091480+ahu3+UC600-AHU-03_Space Pre...</td>\n      <td>22697</td>\n      <td>396</td>\n      <td>91480</td>\n      <td>AHU</td>\n      <td>Air Handling Unit</td>\n      <td>NaN</td>\n      <td>['ahu', 'hvac']</td>\n    </tr>\n  </tbody>\n</table>\n<p>13 rows × 24 columns</p>\n</div>"
     },
     "execution_count": 28,
     "metadata": {},
     "output_type": "execute_result"
    }
   ],
   "source": [
    "ZSP_setpoint_mat_data = metadata[(metadata.type == \"Zone Static Pressure Setpoint\")]\n",
    "ZSP_setpoint_mat_data"
   ],
   "metadata": {
    "collapsed": false,
    "pycharm": {
     "name": "#%%\n"
    }
   }
  },
  {
   "cell_type": "code",
   "execution_count": 22,
   "id": "22149190",
   "metadata": {},
   "outputs": [
    {
     "data": {
      "text/plain": "Empty DataFrame\nColumns: [id_point, building_id, last_updated, first_updated, device, objectId, name_point, description, units, tagged_units, raw_unit_id, value, type, point_type_id, measurement_id, datasource_hash, topic, equip_id, id_bdg, name_bdg, equip_type_abbr, equip_type_name, area_served_desc, tags]\nIndex: []\n\n[0 rows x 24 columns]",
      "text/html": "<div>\n<style scoped>\n    .dataframe tbody tr th:only-of-type {\n        vertical-align: middle;\n    }\n\n    .dataframe tbody tr th {\n        vertical-align: top;\n    }\n\n    .dataframe thead th {\n        text-align: right;\n    }\n</style>\n<table border=\"1\" class=\"dataframe\">\n  <thead>\n    <tr style=\"text-align: right;\">\n      <th></th>\n      <th>id_point</th>\n      <th>building_id</th>\n      <th>last_updated</th>\n      <th>first_updated</th>\n      <th>device</th>\n      <th>objectId</th>\n      <th>name_point</th>\n      <th>description</th>\n      <th>units</th>\n      <th>tagged_units</th>\n      <th>...</th>\n      <th>measurement_id</th>\n      <th>datasource_hash</th>\n      <th>topic</th>\n      <th>equip_id</th>\n      <th>id_bdg</th>\n      <th>name_bdg</th>\n      <th>equip_type_abbr</th>\n      <th>equip_type_name</th>\n      <th>area_served_desc</th>\n      <th>tags</th>\n    </tr>\n  </thead>\n  <tbody>\n  </tbody>\n</table>\n<p>0 rows × 24 columns</p>\n</div>"
     },
     "execution_count": 22,
     "metadata": {},
     "output_type": "execute_result"
    }
   ],
   "source": [
    "MSSL_mat_data = metadata[(metadata.type == \"Min Speed Setpoint Limit\")]\n",
    "MSSL_mat_data"
   ]
  },
  {
   "cell_type": "code",
   "execution_count": 23,
   "id": "427a4367",
   "metadata": {},
   "outputs": [
    {
     "data": {
      "text/plain": "       id_point  building_id  last_updated  first_updated  device  objectId  \\\n1297     198163          140  1.551416e+12   1.509509e+12     NaN       NaN   \n1346     198203          140  1.551416e+12   1.518620e+12     NaN       NaN   \n1411     198253          140  1.551416e+12   1.509509e+12     NaN       NaN   \n1434     198291          140  1.551416e+12   1.536592e+12     NaN       NaN   \n1778     306145          434  1.609476e+12   1.578693e+12     NaN       NaN   \n...         ...          ...           ...            ...     ...       ...   \n44112    230868          398  1.577768e+12   1.554845e+12     NaN       NaN   \n44132    230885          398  1.577768e+12   1.554845e+12     NaN       NaN   \n44236    230985          398  1.577768e+12   1.554845e+12     NaN       NaN   \n44251    231015          398  1.577768e+12   1.554845e+12     NaN       NaN   \n44282    231046          398  1.577768e+12   1.554845e+12     NaN       NaN   \n\n                                              name_point  \\\n1297                                                 NaN   \n1346                                                 NaN   \n1411                                                 NaN   \n1434                                                 NaN   \n1778   333 Lenox Road Penthouse Boiler Room Pump HW L...   \n...                                                  ...   \n44112                                                NaN   \n44132                                                NaN   \n44236                                                NaN   \n44251                                                NaN   \n44282                                                NaN   \n\n                                         description units tagged_units  ...  \\\n1297     UPCM-1 AH-1 Gallery_Supply Fan Speed Output     %          NaN  ...   \n1346              AH-1 Lobby_Supply Fan Speed Output     %          NaN  ...   \n1411   UPCM-2 AH-2 2nd Floor_Supply Fan Speed Output     %          NaN  ...   \n1434           AHU-2-6TH-FLR_Supply Fan Speed Output     %          NaN  ...   \n1778                                             NaN     %            %  ...   \n...                                              ...   ...          ...  ...   \n44112                        CT02 (PCWS)_CT02_FanSpd     %          NaN  ...   \n44132                        CT03 (PCWS)_CT03_FanSpd     %          NaN  ...   \n44236                               AC-25-1_SaFanSpd     %          NaN  ...   \n44251                                AC-4-1_SaFanSpd     %          NaN  ...   \n44282                                AC-9-1_SaFanSpd     %          NaN  ...   \n\n       measurement_id                   datasource_hash  \\\n1297               17  3b48061edf51685f710219f13b2334ee   \n1346               17  a19063fe383cb060cf6c431457bf4b71   \n1411               17  e14af2ce3b3636eae1f0da3278f377c2   \n1434               17  90d4d7e8d5a1bab1cd230532013c34d9   \n1778               17  7237578adf8e04e492d4268748b9a204   \n...               ...                               ...   \n44112              17  b4a44be39529d8fbbb7d89b5f8095639   \n44132              17  2c957697dd5987eb93cf96a91d8cc8ea   \n44236              17  2be95f3bf4ea703cd640b5f9d6fc7bac   \n44251              17  012ecfd65fd07d3ba161712bb0849f4d   \n44282              17  a1c88a0be4bf36be59b8cc8321a06bdd   \n\n                                                   topic  equip_id  id_bdg  \\\n1297   nyserda+0000083483+ahu1-gallery+UPCM-1 AH-1 Ga...     18092     140   \n1346   nyserda+0000083483+ahu1-lobby+AH-1 Lobby_Suppl...     18093     140   \n1411   nyserda+0000083483+ahu2-floor2+UPCM-2 AH-2 2nd...     18094     140   \n1434   nyserda+0000083483+ahu2-floor6+AHU-2-6TH-FLR_S...     18095     140   \n1778   nyserda+0000129666+hotWaterPump-1+333 Lenox Ro...     28502     434   \n...                                                  ...       ...     ...   \n44112  nyserda+0000109188+coolingTower2+CT02 (PCWS)_C...     22727     398   \n44132  nyserda+0000109188+coolingTower3+CT03 (PCWS)_C...     22728     398   \n44236         nyserda+0000109188+ac25-1+AC-25-1_SaFanSpd     22734     398   \n44251           nyserda+0000109188+ac4-1+AC-4-1_SaFanSpd     22735     398   \n44282           nyserda+0000109188+ac9-1+AC-9-1_SaFanSpd     22736     398   \n\n      name_bdg equip_type_abbr    equip_type_name  area_served_desc  \\\n1297     83483             AHU  Air Handling Unit               NaN   \n1346     83483             AHU  Air Handling Unit               NaN   \n1411     83483             AHU  Air Handling Unit               NaN   \n1434     83483             AHU  Air Handling Unit               NaN   \n1778    129666            PUMP               Pump               NaN   \n...        ...             ...                ...               ...   \n44112   109188              CT      Cooling Tower               NaN   \n44132   109188              CT      Cooling Tower               NaN   \n44236   109188             AHU  Air Handling Unit               NaN   \n44251   109188             AHU  Air Handling Unit               NaN   \n44282   109188             AHU  Air Handling Unit               NaN   \n\n                                   tags  \n1297                    ['ahu', 'hvac']  \n1346                    ['ahu', 'hvac']  \n1411                    ['ahu', 'hvac']  \n1434                    ['ahu', 'hvac']  \n1778   ['pump', 'hvac', 'hotWaterPump']  \n...                                 ...  \n44112          ['coolingTower', 'hvac']  \n44132          ['coolingTower', 'hvac']  \n44236                   ['ahu', 'hvac']  \n44251                   ['ahu', 'hvac']  \n44282                   ['ahu', 'hvac']  \n\n[879 rows x 24 columns]",
      "text/html": "<div>\n<style scoped>\n    .dataframe tbody tr th:only-of-type {\n        vertical-align: middle;\n    }\n\n    .dataframe tbody tr th {\n        vertical-align: top;\n    }\n\n    .dataframe thead th {\n        text-align: right;\n    }\n</style>\n<table border=\"1\" class=\"dataframe\">\n  <thead>\n    <tr style=\"text-align: right;\">\n      <th></th>\n      <th>id_point</th>\n      <th>building_id</th>\n      <th>last_updated</th>\n      <th>first_updated</th>\n      <th>device</th>\n      <th>objectId</th>\n      <th>name_point</th>\n      <th>description</th>\n      <th>units</th>\n      <th>tagged_units</th>\n      <th>...</th>\n      <th>measurement_id</th>\n      <th>datasource_hash</th>\n      <th>topic</th>\n      <th>equip_id</th>\n      <th>id_bdg</th>\n      <th>name_bdg</th>\n      <th>equip_type_abbr</th>\n      <th>equip_type_name</th>\n      <th>area_served_desc</th>\n      <th>tags</th>\n    </tr>\n  </thead>\n  <tbody>\n    <tr>\n      <th>1297</th>\n      <td>198163</td>\n      <td>140</td>\n      <td>1.551416e+12</td>\n      <td>1.509509e+12</td>\n      <td>NaN</td>\n      <td>NaN</td>\n      <td>NaN</td>\n      <td>UPCM-1 AH-1 Gallery_Supply Fan Speed Output</td>\n      <td>%</td>\n      <td>NaN</td>\n      <td>...</td>\n      <td>17</td>\n      <td>3b48061edf51685f710219f13b2334ee</td>\n      <td>nyserda+0000083483+ahu1-gallery+UPCM-1 AH-1 Ga...</td>\n      <td>18092</td>\n      <td>140</td>\n      <td>83483</td>\n      <td>AHU</td>\n      <td>Air Handling Unit</td>\n      <td>NaN</td>\n      <td>['ahu', 'hvac']</td>\n    </tr>\n    <tr>\n      <th>1346</th>\n      <td>198203</td>\n      <td>140</td>\n      <td>1.551416e+12</td>\n      <td>1.518620e+12</td>\n      <td>NaN</td>\n      <td>NaN</td>\n      <td>NaN</td>\n      <td>AH-1 Lobby_Supply Fan Speed Output</td>\n      <td>%</td>\n      <td>NaN</td>\n      <td>...</td>\n      <td>17</td>\n      <td>a19063fe383cb060cf6c431457bf4b71</td>\n      <td>nyserda+0000083483+ahu1-lobby+AH-1 Lobby_Suppl...</td>\n      <td>18093</td>\n      <td>140</td>\n      <td>83483</td>\n      <td>AHU</td>\n      <td>Air Handling Unit</td>\n      <td>NaN</td>\n      <td>['ahu', 'hvac']</td>\n    </tr>\n    <tr>\n      <th>1411</th>\n      <td>198253</td>\n      <td>140</td>\n      <td>1.551416e+12</td>\n      <td>1.509509e+12</td>\n      <td>NaN</td>\n      <td>NaN</td>\n      <td>NaN</td>\n      <td>UPCM-2 AH-2 2nd Floor_Supply Fan Speed Output</td>\n      <td>%</td>\n      <td>NaN</td>\n      <td>...</td>\n      <td>17</td>\n      <td>e14af2ce3b3636eae1f0da3278f377c2</td>\n      <td>nyserda+0000083483+ahu2-floor2+UPCM-2 AH-2 2nd...</td>\n      <td>18094</td>\n      <td>140</td>\n      <td>83483</td>\n      <td>AHU</td>\n      <td>Air Handling Unit</td>\n      <td>NaN</td>\n      <td>['ahu', 'hvac']</td>\n    </tr>\n    <tr>\n      <th>1434</th>\n      <td>198291</td>\n      <td>140</td>\n      <td>1.551416e+12</td>\n      <td>1.536592e+12</td>\n      <td>NaN</td>\n      <td>NaN</td>\n      <td>NaN</td>\n      <td>AHU-2-6TH-FLR_Supply Fan Speed Output</td>\n      <td>%</td>\n      <td>NaN</td>\n      <td>...</td>\n      <td>17</td>\n      <td>90d4d7e8d5a1bab1cd230532013c34d9</td>\n      <td>nyserda+0000083483+ahu2-floor6+AHU-2-6TH-FLR_S...</td>\n      <td>18095</td>\n      <td>140</td>\n      <td>83483</td>\n      <td>AHU</td>\n      <td>Air Handling Unit</td>\n      <td>NaN</td>\n      <td>['ahu', 'hvac']</td>\n    </tr>\n    <tr>\n      <th>1778</th>\n      <td>306145</td>\n      <td>434</td>\n      <td>1.609476e+12</td>\n      <td>1.578693e+12</td>\n      <td>NaN</td>\n      <td>NaN</td>\n      <td>333 Lenox Road Penthouse Boiler Room Pump HW L...</td>\n      <td>NaN</td>\n      <td>%</td>\n      <td>%</td>\n      <td>...</td>\n      <td>17</td>\n      <td>7237578adf8e04e492d4268748b9a204</td>\n      <td>nyserda+0000129666+hotWaterPump-1+333 Lenox Ro...</td>\n      <td>28502</td>\n      <td>434</td>\n      <td>129666</td>\n      <td>PUMP</td>\n      <td>Pump</td>\n      <td>NaN</td>\n      <td>['pump', 'hvac', 'hotWaterPump']</td>\n    </tr>\n    <tr>\n      <th>...</th>\n      <td>...</td>\n      <td>...</td>\n      <td>...</td>\n      <td>...</td>\n      <td>...</td>\n      <td>...</td>\n      <td>...</td>\n      <td>...</td>\n      <td>...</td>\n      <td>...</td>\n      <td>...</td>\n      <td>...</td>\n      <td>...</td>\n      <td>...</td>\n      <td>...</td>\n      <td>...</td>\n      <td>...</td>\n      <td>...</td>\n      <td>...</td>\n      <td>...</td>\n      <td>...</td>\n    </tr>\n    <tr>\n      <th>44112</th>\n      <td>230868</td>\n      <td>398</td>\n      <td>1.577768e+12</td>\n      <td>1.554845e+12</td>\n      <td>NaN</td>\n      <td>NaN</td>\n      <td>NaN</td>\n      <td>CT02 (PCWS)_CT02_FanSpd</td>\n      <td>%</td>\n      <td>NaN</td>\n      <td>...</td>\n      <td>17</td>\n      <td>b4a44be39529d8fbbb7d89b5f8095639</td>\n      <td>nyserda+0000109188+coolingTower2+CT02 (PCWS)_C...</td>\n      <td>22727</td>\n      <td>398</td>\n      <td>109188</td>\n      <td>CT</td>\n      <td>Cooling Tower</td>\n      <td>NaN</td>\n      <td>['coolingTower', 'hvac']</td>\n    </tr>\n    <tr>\n      <th>44132</th>\n      <td>230885</td>\n      <td>398</td>\n      <td>1.577768e+12</td>\n      <td>1.554845e+12</td>\n      <td>NaN</td>\n      <td>NaN</td>\n      <td>NaN</td>\n      <td>CT03 (PCWS)_CT03_FanSpd</td>\n      <td>%</td>\n      <td>NaN</td>\n      <td>...</td>\n      <td>17</td>\n      <td>2c957697dd5987eb93cf96a91d8cc8ea</td>\n      <td>nyserda+0000109188+coolingTower3+CT03 (PCWS)_C...</td>\n      <td>22728</td>\n      <td>398</td>\n      <td>109188</td>\n      <td>CT</td>\n      <td>Cooling Tower</td>\n      <td>NaN</td>\n      <td>['coolingTower', 'hvac']</td>\n    </tr>\n    <tr>\n      <th>44236</th>\n      <td>230985</td>\n      <td>398</td>\n      <td>1.577768e+12</td>\n      <td>1.554845e+12</td>\n      <td>NaN</td>\n      <td>NaN</td>\n      <td>NaN</td>\n      <td>AC-25-1_SaFanSpd</td>\n      <td>%</td>\n      <td>NaN</td>\n      <td>...</td>\n      <td>17</td>\n      <td>2be95f3bf4ea703cd640b5f9d6fc7bac</td>\n      <td>nyserda+0000109188+ac25-1+AC-25-1_SaFanSpd</td>\n      <td>22734</td>\n      <td>398</td>\n      <td>109188</td>\n      <td>AHU</td>\n      <td>Air Handling Unit</td>\n      <td>NaN</td>\n      <td>['ahu', 'hvac']</td>\n    </tr>\n    <tr>\n      <th>44251</th>\n      <td>231015</td>\n      <td>398</td>\n      <td>1.577768e+12</td>\n      <td>1.554845e+12</td>\n      <td>NaN</td>\n      <td>NaN</td>\n      <td>NaN</td>\n      <td>AC-4-1_SaFanSpd</td>\n      <td>%</td>\n      <td>NaN</td>\n      <td>...</td>\n      <td>17</td>\n      <td>012ecfd65fd07d3ba161712bb0849f4d</td>\n      <td>nyserda+0000109188+ac4-1+AC-4-1_SaFanSpd</td>\n      <td>22735</td>\n      <td>398</td>\n      <td>109188</td>\n      <td>AHU</td>\n      <td>Air Handling Unit</td>\n      <td>NaN</td>\n      <td>['ahu', 'hvac']</td>\n    </tr>\n    <tr>\n      <th>44282</th>\n      <td>231046</td>\n      <td>398</td>\n      <td>1.577768e+12</td>\n      <td>1.554845e+12</td>\n      <td>NaN</td>\n      <td>NaN</td>\n      <td>NaN</td>\n      <td>AC-9-1_SaFanSpd</td>\n      <td>%</td>\n      <td>NaN</td>\n      <td>...</td>\n      <td>17</td>\n      <td>a1c88a0be4bf36be59b8cc8321a06bdd</td>\n      <td>nyserda+0000109188+ac9-1+AC-9-1_SaFanSpd</td>\n      <td>22736</td>\n      <td>398</td>\n      <td>109188</td>\n      <td>AHU</td>\n      <td>Air Handling Unit</td>\n      <td>NaN</td>\n      <td>['ahu', 'hvac']</td>\n    </tr>\n  </tbody>\n</table>\n<p>879 rows × 24 columns</p>\n</div>"
     },
     "execution_count": 23,
     "metadata": {},
     "output_type": "execute_result"
    }
   ],
   "source": [
    "Speed_mat_data = metadata[(metadata.type == \"Speed\")]\n",
    "Speed_mat_data"
   ]
  },
  {
   "cell_type": "code",
   "execution_count": 36,
   "id": "d627feb4",
   "metadata": {},
   "outputs": [
    {
     "data": {
      "text/plain": "       id_point  building_id  last_updated  first_updated  device  objectId  \\\n3104     356536          470  1.635552e+12   1.604203e+12     NaN       NaN   \n3108     356539          470  1.633721e+12   1.604203e+12     NaN       NaN   \n3112     356542          470  1.635552e+12   1.604203e+12     NaN       NaN   \n3114     356545          470  1.635552e+12   1.604203e+12     NaN       NaN   \n26618    344653          465  1.574203e+12   1.548997e+12     NaN       NaN   \n26636    344686          465  1.574203e+12   1.548997e+12     NaN       NaN   \n26652    344670          465  1.574203e+12   1.548997e+12     NaN       NaN   \n42528    229856          391  1.577768e+12   1.559938e+12     NaN       NaN   \n42537    229861          391  1.577768e+12   1.559938e+12     NaN       NaN   \n42541    229866          391  1.577768e+12   1.559938e+12     NaN       NaN   \n42545    229871          391  1.577768e+12   1.559938e+12     NaN       NaN   \n44218    230986          398  1.577768e+12   1.554845e+12     NaN       NaN   \n44249    231016          398  1.577768e+12   1.554845e+12     NaN       NaN   \n44279    231047          398  1.577768e+12   1.554845e+12     NaN       NaN   \n\n                                              name_point  \\\n3104   51F.CT-51-1_Cooling Tower Fan Speed Setpoint_C...   \n3108   51F.CT-51-2_Cooling Tower Fan Speed Setpoint_C...   \n3112   51F.CT-51-3_Cooling Tower Fan Speed Setpoint_C...   \n3114   51F.CT-51-4_Cooling Tower Fan Speed Setpoint_C...   \n26618                   CH-29-1 (CHW Primary Loop)_CH1SS   \n26636                   CH-29-2 (CHW Primary Loop)_CH2SS   \n26652                                      CH-29-2_CH2SS   \n42528                                                NaN   \n42537                                                NaN   \n42541                                                NaN   \n42545                                                NaN   \n44218                                                NaN   \n44249                                                NaN   \n44279                                                NaN   \n\n                           description units tagged_units  ...  \\\n3104                               NaN   NaN            %  ...   \n3108                               NaN   NaN            %  ...   \n3112                               NaN   NaN            %  ...   \n3114                               NaN   NaN            %  ...   \n26618                              NaN   NaN            %  ...   \n26636                              NaN   NaN            %  ...   \n26652                              NaN   NaN            %  ...   \n42528  AHU_10L RF-1 (AHU_10L)_RFanSS_1     %          NaN  ...   \n42537  AHU_10L SF-1 (AHU_10L)_SFanSS_1     %          NaN  ...   \n42541  AHU_10L RF-2 (AHU_10L)_RFanSS_2     %          NaN  ...   \n42545  AHU_10L SF-2 (AHU_10L)_SFanSS_2     %          NaN  ...   \n44218              AC-25-1_SaFanSpdSpt     %          NaN  ...   \n44249               AC-4-1_SaFanSpdSpt     %          NaN  ...   \n44279               AC-9-1_SaFanSpdSpt     %          NaN  ...   \n\n       measurement_id                   datasource_hash  \\\n3104               17  eb801c23ce8fb23ce36ec22395b39868   \n3108               17  84b2674467bffd489619f669e87d7ab6   \n3112               17  fe7818461f8994d7338a9ec6cb3d4611   \n3114               17  b2e90c1d72c90f546c752e7efb65e717   \n26618              17  5341929994bfbae5300fefb1973fe1d5   \n26636              17  704a49d430aca4d809ac030a9558780d   \n26652              17  536614e54a20ac3a857ce2ec94b2092c   \n42528              17  807e67455e5ef7e38e6d554ca6186c9d   \n42537              17  cd711a5cec1de8d5eee004dcd5beec46   \n42541              17  a425e6750cc31c14ff282b09e7b9568e   \n42545              17  603fc76c9a2c0b685dae89ef2a0237b5   \n44218              17  368cd26d029de220ad14347eb64d4416   \n44249              17  699ceece0ce6b20e285e640b8cfd8b83   \n44279              17  5723bbd0236bf9ee19709039824e156b   \n\n                                                   topic  equip_id  id_bdg  \\\n3104   nyserda+0000164423+coolingTowerFan-51-1+51F.CT...     31287     470   \n3108   nyserda+0000164423+coolingTowerFan-51-2+51F.CT...     31288     470   \n3112   nyserda+0000164423+coolingTowerFan-51-3+51F.CT...     31289     470   \n3114   nyserda+0000164423+coolingTowerFan-51-4+51F.CT...     31290     470   \n26618  nyserda+00000123771+chiller1+CH-29-1 (CHW Prim...     30513     465   \n26636  nyserda+00000123771+chiller2+CH-29-2 (CHW Prim...     30514     465   \n26652         nyserda+00000123771+chiller2+CH-29-2_CH2SS     30514     465   \n42528  nyserda+0000123698+ahu10-fan1-return+AHU_10L R...     22585     391   \n42537  nyserda+0000123698+ahu10-fan1-supply+AHU_10L S...     22586     391   \n42541  nyserda+0000123698+ahu10-fan2-return+AHU_10L R...     22587     391   \n42545  nyserda+0000123698+ahu10-fan2-supply+AHU_10L S...     22588     391   \n44218      nyserda+0000109188+ac25-1+AC-25-1_SaFanSpdSpt     22734     398   \n44249        nyserda+0000109188+ac4-1+AC-4-1_SaFanSpdSpt     22735     398   \n44279        nyserda+0000109188+ac9-1+AC-9-1_SaFanSpdSpt     22736     398   \n\n      name_bdg equip_type_abbr    equip_type_name  area_served_desc  \\\n3104    164423             FAN                Fan               NaN   \n3108    164423             FAN                Fan               NaN   \n3112    164423             FAN                Fan               NaN   \n3114    164423             FAN                Fan               NaN   \n26618   123771              CH            Chiller               NaN   \n26636   123771              CH            Chiller               NaN   \n26652   123771              CH            Chiller               NaN   \n42528   123698             FAN                Fan               NaN   \n42537   123698             FAN                Fan               NaN   \n42541   123698             FAN                Fan               NaN   \n42545   123698             FAN                Fan               NaN   \n44218   109188             AHU  Air Handling Unit               NaN   \n44249   109188             AHU  Air Handling Unit               NaN   \n44279   109188             AHU  Air Handling Unit               NaN   \n\n                                     tags  \n3104   ['fan', 'hvac', 'coolingTowerFan']  \n3108   ['fan', 'hvac', 'coolingTowerFan']  \n3112   ['fan', 'hvac', 'coolingTowerFan']  \n3114   ['fan', 'hvac', 'coolingTowerFan']  \n26618                 ['chiller', 'hvac']  \n26636                 ['chiller', 'hvac']  \n26652                 ['chiller', 'hvac']  \n42528        ['fan', 'hvac', 'returnFan']  \n42537        ['fan', 'hvac', 'supplyFan']  \n42541        ['fan', 'hvac', 'returnFan']  \n42545        ['fan', 'hvac', 'supplyFan']  \n44218                     ['ahu', 'hvac']  \n44249                     ['ahu', 'hvac']  \n44279                     ['ahu', 'hvac']  \n\n[14 rows x 24 columns]",
      "text/html": "<div>\n<style scoped>\n    .dataframe tbody tr th:only-of-type {\n        vertical-align: middle;\n    }\n\n    .dataframe tbody tr th {\n        vertical-align: top;\n    }\n\n    .dataframe thead th {\n        text-align: right;\n    }\n</style>\n<table border=\"1\" class=\"dataframe\">\n  <thead>\n    <tr style=\"text-align: right;\">\n      <th></th>\n      <th>id_point</th>\n      <th>building_id</th>\n      <th>last_updated</th>\n      <th>first_updated</th>\n      <th>device</th>\n      <th>objectId</th>\n      <th>name_point</th>\n      <th>description</th>\n      <th>units</th>\n      <th>tagged_units</th>\n      <th>...</th>\n      <th>measurement_id</th>\n      <th>datasource_hash</th>\n      <th>topic</th>\n      <th>equip_id</th>\n      <th>id_bdg</th>\n      <th>name_bdg</th>\n      <th>equip_type_abbr</th>\n      <th>equip_type_name</th>\n      <th>area_served_desc</th>\n      <th>tags</th>\n    </tr>\n  </thead>\n  <tbody>\n    <tr>\n      <th>3104</th>\n      <td>356536</td>\n      <td>470</td>\n      <td>1.635552e+12</td>\n      <td>1.604203e+12</td>\n      <td>NaN</td>\n      <td>NaN</td>\n      <td>51F.CT-51-1_Cooling Tower Fan Speed Setpoint_C...</td>\n      <td>NaN</td>\n      <td>NaN</td>\n      <td>%</td>\n      <td>...</td>\n      <td>17</td>\n      <td>eb801c23ce8fb23ce36ec22395b39868</td>\n      <td>nyserda+0000164423+coolingTowerFan-51-1+51F.CT...</td>\n      <td>31287</td>\n      <td>470</td>\n      <td>164423</td>\n      <td>FAN</td>\n      <td>Fan</td>\n      <td>NaN</td>\n      <td>['fan', 'hvac', 'coolingTowerFan']</td>\n    </tr>\n    <tr>\n      <th>3108</th>\n      <td>356539</td>\n      <td>470</td>\n      <td>1.633721e+12</td>\n      <td>1.604203e+12</td>\n      <td>NaN</td>\n      <td>NaN</td>\n      <td>51F.CT-51-2_Cooling Tower Fan Speed Setpoint_C...</td>\n      <td>NaN</td>\n      <td>NaN</td>\n      <td>%</td>\n      <td>...</td>\n      <td>17</td>\n      <td>84b2674467bffd489619f669e87d7ab6</td>\n      <td>nyserda+0000164423+coolingTowerFan-51-2+51F.CT...</td>\n      <td>31288</td>\n      <td>470</td>\n      <td>164423</td>\n      <td>FAN</td>\n      <td>Fan</td>\n      <td>NaN</td>\n      <td>['fan', 'hvac', 'coolingTowerFan']</td>\n    </tr>\n    <tr>\n      <th>3112</th>\n      <td>356542</td>\n      <td>470</td>\n      <td>1.635552e+12</td>\n      <td>1.604203e+12</td>\n      <td>NaN</td>\n      <td>NaN</td>\n      <td>51F.CT-51-3_Cooling Tower Fan Speed Setpoint_C...</td>\n      <td>NaN</td>\n      <td>NaN</td>\n      <td>%</td>\n      <td>...</td>\n      <td>17</td>\n      <td>fe7818461f8994d7338a9ec6cb3d4611</td>\n      <td>nyserda+0000164423+coolingTowerFan-51-3+51F.CT...</td>\n      <td>31289</td>\n      <td>470</td>\n      <td>164423</td>\n      <td>FAN</td>\n      <td>Fan</td>\n      <td>NaN</td>\n      <td>['fan', 'hvac', 'coolingTowerFan']</td>\n    </tr>\n    <tr>\n      <th>3114</th>\n      <td>356545</td>\n      <td>470</td>\n      <td>1.635552e+12</td>\n      <td>1.604203e+12</td>\n      <td>NaN</td>\n      <td>NaN</td>\n      <td>51F.CT-51-4_Cooling Tower Fan Speed Setpoint_C...</td>\n      <td>NaN</td>\n      <td>NaN</td>\n      <td>%</td>\n      <td>...</td>\n      <td>17</td>\n      <td>b2e90c1d72c90f546c752e7efb65e717</td>\n      <td>nyserda+0000164423+coolingTowerFan-51-4+51F.CT...</td>\n      <td>31290</td>\n      <td>470</td>\n      <td>164423</td>\n      <td>FAN</td>\n      <td>Fan</td>\n      <td>NaN</td>\n      <td>['fan', 'hvac', 'coolingTowerFan']</td>\n    </tr>\n    <tr>\n      <th>26618</th>\n      <td>344653</td>\n      <td>465</td>\n      <td>1.574203e+12</td>\n      <td>1.548997e+12</td>\n      <td>NaN</td>\n      <td>NaN</td>\n      <td>CH-29-1 (CHW Primary Loop)_CH1SS</td>\n      <td>NaN</td>\n      <td>NaN</td>\n      <td>%</td>\n      <td>...</td>\n      <td>17</td>\n      <td>5341929994bfbae5300fefb1973fe1d5</td>\n      <td>nyserda+00000123771+chiller1+CH-29-1 (CHW Prim...</td>\n      <td>30513</td>\n      <td>465</td>\n      <td>123771</td>\n      <td>CH</td>\n      <td>Chiller</td>\n      <td>NaN</td>\n      <td>['chiller', 'hvac']</td>\n    </tr>\n    <tr>\n      <th>26636</th>\n      <td>344686</td>\n      <td>465</td>\n      <td>1.574203e+12</td>\n      <td>1.548997e+12</td>\n      <td>NaN</td>\n      <td>NaN</td>\n      <td>CH-29-2 (CHW Primary Loop)_CH2SS</td>\n      <td>NaN</td>\n      <td>NaN</td>\n      <td>%</td>\n      <td>...</td>\n      <td>17</td>\n      <td>704a49d430aca4d809ac030a9558780d</td>\n      <td>nyserda+00000123771+chiller2+CH-29-2 (CHW Prim...</td>\n      <td>30514</td>\n      <td>465</td>\n      <td>123771</td>\n      <td>CH</td>\n      <td>Chiller</td>\n      <td>NaN</td>\n      <td>['chiller', 'hvac']</td>\n    </tr>\n    <tr>\n      <th>26652</th>\n      <td>344670</td>\n      <td>465</td>\n      <td>1.574203e+12</td>\n      <td>1.548997e+12</td>\n      <td>NaN</td>\n      <td>NaN</td>\n      <td>CH-29-2_CH2SS</td>\n      <td>NaN</td>\n      <td>NaN</td>\n      <td>%</td>\n      <td>...</td>\n      <td>17</td>\n      <td>536614e54a20ac3a857ce2ec94b2092c</td>\n      <td>nyserda+00000123771+chiller2+CH-29-2_CH2SS</td>\n      <td>30514</td>\n      <td>465</td>\n      <td>123771</td>\n      <td>CH</td>\n      <td>Chiller</td>\n      <td>NaN</td>\n      <td>['chiller', 'hvac']</td>\n    </tr>\n    <tr>\n      <th>42528</th>\n      <td>229856</td>\n      <td>391</td>\n      <td>1.577768e+12</td>\n      <td>1.559938e+12</td>\n      <td>NaN</td>\n      <td>NaN</td>\n      <td>NaN</td>\n      <td>AHU_10L RF-1 (AHU_10L)_RFanSS_1</td>\n      <td>%</td>\n      <td>NaN</td>\n      <td>...</td>\n      <td>17</td>\n      <td>807e67455e5ef7e38e6d554ca6186c9d</td>\n      <td>nyserda+0000123698+ahu10-fan1-return+AHU_10L R...</td>\n      <td>22585</td>\n      <td>391</td>\n      <td>123698</td>\n      <td>FAN</td>\n      <td>Fan</td>\n      <td>NaN</td>\n      <td>['fan', 'hvac', 'returnFan']</td>\n    </tr>\n    <tr>\n      <th>42537</th>\n      <td>229861</td>\n      <td>391</td>\n      <td>1.577768e+12</td>\n      <td>1.559938e+12</td>\n      <td>NaN</td>\n      <td>NaN</td>\n      <td>NaN</td>\n      <td>AHU_10L SF-1 (AHU_10L)_SFanSS_1</td>\n      <td>%</td>\n      <td>NaN</td>\n      <td>...</td>\n      <td>17</td>\n      <td>cd711a5cec1de8d5eee004dcd5beec46</td>\n      <td>nyserda+0000123698+ahu10-fan1-supply+AHU_10L S...</td>\n      <td>22586</td>\n      <td>391</td>\n      <td>123698</td>\n      <td>FAN</td>\n      <td>Fan</td>\n      <td>NaN</td>\n      <td>['fan', 'hvac', 'supplyFan']</td>\n    </tr>\n    <tr>\n      <th>42541</th>\n      <td>229866</td>\n      <td>391</td>\n      <td>1.577768e+12</td>\n      <td>1.559938e+12</td>\n      <td>NaN</td>\n      <td>NaN</td>\n      <td>NaN</td>\n      <td>AHU_10L RF-2 (AHU_10L)_RFanSS_2</td>\n      <td>%</td>\n      <td>NaN</td>\n      <td>...</td>\n      <td>17</td>\n      <td>a425e6750cc31c14ff282b09e7b9568e</td>\n      <td>nyserda+0000123698+ahu10-fan2-return+AHU_10L R...</td>\n      <td>22587</td>\n      <td>391</td>\n      <td>123698</td>\n      <td>FAN</td>\n      <td>Fan</td>\n      <td>NaN</td>\n      <td>['fan', 'hvac', 'returnFan']</td>\n    </tr>\n    <tr>\n      <th>42545</th>\n      <td>229871</td>\n      <td>391</td>\n      <td>1.577768e+12</td>\n      <td>1.559938e+12</td>\n      <td>NaN</td>\n      <td>NaN</td>\n      <td>NaN</td>\n      <td>AHU_10L SF-2 (AHU_10L)_SFanSS_2</td>\n      <td>%</td>\n      <td>NaN</td>\n      <td>...</td>\n      <td>17</td>\n      <td>603fc76c9a2c0b685dae89ef2a0237b5</td>\n      <td>nyserda+0000123698+ahu10-fan2-supply+AHU_10L S...</td>\n      <td>22588</td>\n      <td>391</td>\n      <td>123698</td>\n      <td>FAN</td>\n      <td>Fan</td>\n      <td>NaN</td>\n      <td>['fan', 'hvac', 'supplyFan']</td>\n    </tr>\n    <tr>\n      <th>44218</th>\n      <td>230986</td>\n      <td>398</td>\n      <td>1.577768e+12</td>\n      <td>1.554845e+12</td>\n      <td>NaN</td>\n      <td>NaN</td>\n      <td>NaN</td>\n      <td>AC-25-1_SaFanSpdSpt</td>\n      <td>%</td>\n      <td>NaN</td>\n      <td>...</td>\n      <td>17</td>\n      <td>368cd26d029de220ad14347eb64d4416</td>\n      <td>nyserda+0000109188+ac25-1+AC-25-1_SaFanSpdSpt</td>\n      <td>22734</td>\n      <td>398</td>\n      <td>109188</td>\n      <td>AHU</td>\n      <td>Air Handling Unit</td>\n      <td>NaN</td>\n      <td>['ahu', 'hvac']</td>\n    </tr>\n    <tr>\n      <th>44249</th>\n      <td>231016</td>\n      <td>398</td>\n      <td>1.577768e+12</td>\n      <td>1.554845e+12</td>\n      <td>NaN</td>\n      <td>NaN</td>\n      <td>NaN</td>\n      <td>AC-4-1_SaFanSpdSpt</td>\n      <td>%</td>\n      <td>NaN</td>\n      <td>...</td>\n      <td>17</td>\n      <td>699ceece0ce6b20e285e640b8cfd8b83</td>\n      <td>nyserda+0000109188+ac4-1+AC-4-1_SaFanSpdSpt</td>\n      <td>22735</td>\n      <td>398</td>\n      <td>109188</td>\n      <td>AHU</td>\n      <td>Air Handling Unit</td>\n      <td>NaN</td>\n      <td>['ahu', 'hvac']</td>\n    </tr>\n    <tr>\n      <th>44279</th>\n      <td>231047</td>\n      <td>398</td>\n      <td>1.577768e+12</td>\n      <td>1.554845e+12</td>\n      <td>NaN</td>\n      <td>NaN</td>\n      <td>NaN</td>\n      <td>AC-9-1_SaFanSpdSpt</td>\n      <td>%</td>\n      <td>NaN</td>\n      <td>...</td>\n      <td>17</td>\n      <td>5723bbd0236bf9ee19709039824e156b</td>\n      <td>nyserda+0000109188+ac9-1+AC-9-1_SaFanSpdSpt</td>\n      <td>22736</td>\n      <td>398</td>\n      <td>109188</td>\n      <td>AHU</td>\n      <td>Air Handling Unit</td>\n      <td>NaN</td>\n      <td>['ahu', 'hvac']</td>\n    </tr>\n  </tbody>\n</table>\n<p>14 rows × 24 columns</p>\n</div>"
     },
     "execution_count": 36,
     "metadata": {},
     "output_type": "execute_result"
    }
   ],
   "source": [
    "Speed_setpoint_mat_data = metadata[(metadata.type == \"Speed Setpoint\")]\n",
    "Speed_setpoint_mat_data"
   ]
  },
  {
   "cell_type": "code",
   "execution_count": 38,
   "id": "277cbffc",
   "metadata": {},
   "outputs": [
    {
     "data": {
      "text/plain": "       id_point  building_id  last_updated  first_updated  device  objectId  \\\n3116     356556          470  1.635531e+12   1.604203e+12     NaN       NaN   \n3121     356550          470  1.635539e+12   1.604203e+12     NaN       NaN   \n3123     356553          470  1.635538e+12   1.604203e+12     NaN       NaN   \n3126     356564          470  1.635533e+12   1.604203e+12     NaN       NaN   \n3128     356559          470  1.635535e+12   1.604203e+12     NaN       NaN   \n...         ...          ...           ...            ...     ...       ...   \n26367    359778          486  1.606470e+12   1.590480e+12     NaN       NaN   \n26862    359581          487  1.614592e+12   1.598602e+12     NaN       NaN   \n26864    359583          487  1.614592e+12   1.598602e+12     NaN       NaN   \n26988    359707          487  1.614592e+12   1.598602e+12     NaN       NaN   \n26990    359709          487  1.614592e+12   1.598602e+12     NaN       NaN   \n\n                                              name_point description units  \\\n3116   AHU-01_Return Fan VFD Speed Feedback_RF01.VFD:...         NaN   NaN   \n3121         AHU-17_Return Fan VFD Speed Feedback_RF20MS         NaN   NaN   \n3123         AHU-18_Return Fan VFD Speed Feedback_RF21MS         NaN   NaN   \n3126   AHU-02_Return Fan VFD Speed Feedback_RF02.VFD:...         NaN   NaN   \n3128         AHU-21_Return Fan VFD Speed Feedback_RF23MS         NaN   NaN   \n...                                                  ...         ...   ...   \n26367  wrdSupplyAirFanSpeedMeasurement_AHU Penthouse ...         NaN   NaN   \n26862  grandcentralSupplyAirFanSpeedMeasurement_8th F...         NaN   NaN   \n26864  grandcentralSupplyAirFanSpeedMeasurement_9th F...         NaN   NaN   \n26988  grandcentralSupplyAirFanSpeedMeasurement_8th F...         NaN   NaN   \n26990  grandcentralSupplyAirFanSpeedMeasurement_9th F...         NaN   NaN   \n\n      tagged_units  ...  measurement_id                   datasource_hash  \\\n3116             %  ...              17  e43ee1aee843d2d16c8ce6ff520630c5   \n3121             %  ...              17  4ff50d0d6585675b630869b4fdf69e4e   \n3123             %  ...              17  94b2aa1935294b86209f53abfb8ba4d8   \n3126             %  ...              17  7c68490b89b64dada46d0c6e997b413e   \n3128             %  ...              17  e9f44d3bf1e8418559536f4b1f6532f2   \n...            ...  ...             ...                               ...   \n26367            %  ...              17  3cc9c7c54430d8f9ac87fd7b2c8f8763   \n26862            %  ...              17  c976e379062a85ea3ad363069bf18671   \n26864            %  ...              17  46aac69a25e6c01769e402c960cb9753   \n26988            %  ...              17  b14d4a5d18354d4b7035e0d95b4f367c   \n26990            %  ...              17  4e041aceba09d54344e45fe16c7b9ff6   \n\n                                                   topic  equip_id  id_bdg  \\\n3116   nyserda+0000164423+returnFan-1+AHU-01_Return F...     31291     470   \n3121   nyserda+0000164423+returnFan-17+AHU-17_Return ...     31293     470   \n3123   nyserda+0000164423+returnFan-18+AHU-18_Return ...     31294     470   \n3126   nyserda+0000164423+returnFan-2+AHU-02_Return F...     31295     470   \n3128   nyserda+0000164423+returnFan-21+AHU-21_Return ...     31296     470   \n...                                                  ...       ...     ...   \n26367  nyserda+0000133939+supplyFan-PSPS+wrdSupplyAir...     32151     486   \n26862  nyserda+0000144812+returnFan-8+grandcentralSup...     32045     487   \n26864  nyserda+0000144812+returnFan-9+grandcentralSup...     32046     487   \n26988  nyserda+0000144812+supplyFan-8+grandcentralSup...     32087     487   \n26990  nyserda+0000144812+supplyFan-9+grandcentralSup...     32088     487   \n\n      name_bdg equip_type_abbr  equip_type_name  area_served_desc  \\\n3116    164423             FAN              Fan               NaN   \n3121    164423             FAN              Fan               NaN   \n3123    164423             FAN              Fan               NaN   \n3126    164423             FAN              Fan               NaN   \n3128    164423             FAN              Fan               NaN   \n...        ...             ...              ...               ...   \n26367   133939             FAN              Fan               NaN   \n26862   144812             FAN              Fan               NaN   \n26864   144812             FAN              Fan               NaN   \n26988   144812             FAN              Fan               NaN   \n26990   144812             FAN              Fan               NaN   \n\n                               tags  \n3116   ['fan', 'hvac', 'returnFan']  \n3121   ['fan', 'hvac', 'returnFan']  \n3123   ['fan', 'hvac', 'returnFan']  \n3126   ['fan', 'hvac', 'returnFan']  \n3128   ['fan', 'hvac', 'returnFan']  \n...                             ...  \n26367  ['fan', 'hvac', 'supplyFan']  \n26862  ['fan', 'hvac', 'returnFan']  \n26864  ['fan', 'hvac', 'returnFan']  \n26988  ['fan', 'hvac', 'supplyFan']  \n26990  ['fan', 'hvac', 'supplyFan']  \n\n[182 rows x 24 columns]",
      "text/html": "<div>\n<style scoped>\n    .dataframe tbody tr th:only-of-type {\n        vertical-align: middle;\n    }\n\n    .dataframe tbody tr th {\n        vertical-align: top;\n    }\n\n    .dataframe thead th {\n        text-align: right;\n    }\n</style>\n<table border=\"1\" class=\"dataframe\">\n  <thead>\n    <tr style=\"text-align: right;\">\n      <th></th>\n      <th>id_point</th>\n      <th>building_id</th>\n      <th>last_updated</th>\n      <th>first_updated</th>\n      <th>device</th>\n      <th>objectId</th>\n      <th>name_point</th>\n      <th>description</th>\n      <th>units</th>\n      <th>tagged_units</th>\n      <th>...</th>\n      <th>measurement_id</th>\n      <th>datasource_hash</th>\n      <th>topic</th>\n      <th>equip_id</th>\n      <th>id_bdg</th>\n      <th>name_bdg</th>\n      <th>equip_type_abbr</th>\n      <th>equip_type_name</th>\n      <th>area_served_desc</th>\n      <th>tags</th>\n    </tr>\n  </thead>\n  <tbody>\n    <tr>\n      <th>3116</th>\n      <td>356556</td>\n      <td>470</td>\n      <td>1.635531e+12</td>\n      <td>1.604203e+12</td>\n      <td>NaN</td>\n      <td>NaN</td>\n      <td>AHU-01_Return Fan VFD Speed Feedback_RF01.VFD:...</td>\n      <td>NaN</td>\n      <td>NaN</td>\n      <td>%</td>\n      <td>...</td>\n      <td>17</td>\n      <td>e43ee1aee843d2d16c8ce6ff520630c5</td>\n      <td>nyserda+0000164423+returnFan-1+AHU-01_Return F...</td>\n      <td>31291</td>\n      <td>470</td>\n      <td>164423</td>\n      <td>FAN</td>\n      <td>Fan</td>\n      <td>NaN</td>\n      <td>['fan', 'hvac', 'returnFan']</td>\n    </tr>\n    <tr>\n      <th>3121</th>\n      <td>356550</td>\n      <td>470</td>\n      <td>1.635539e+12</td>\n      <td>1.604203e+12</td>\n      <td>NaN</td>\n      <td>NaN</td>\n      <td>AHU-17_Return Fan VFD Speed Feedback_RF20MS</td>\n      <td>NaN</td>\n      <td>NaN</td>\n      <td>%</td>\n      <td>...</td>\n      <td>17</td>\n      <td>4ff50d0d6585675b630869b4fdf69e4e</td>\n      <td>nyserda+0000164423+returnFan-17+AHU-17_Return ...</td>\n      <td>31293</td>\n      <td>470</td>\n      <td>164423</td>\n      <td>FAN</td>\n      <td>Fan</td>\n      <td>NaN</td>\n      <td>['fan', 'hvac', 'returnFan']</td>\n    </tr>\n    <tr>\n      <th>3123</th>\n      <td>356553</td>\n      <td>470</td>\n      <td>1.635538e+12</td>\n      <td>1.604203e+12</td>\n      <td>NaN</td>\n      <td>NaN</td>\n      <td>AHU-18_Return Fan VFD Speed Feedback_RF21MS</td>\n      <td>NaN</td>\n      <td>NaN</td>\n      <td>%</td>\n      <td>...</td>\n      <td>17</td>\n      <td>94b2aa1935294b86209f53abfb8ba4d8</td>\n      <td>nyserda+0000164423+returnFan-18+AHU-18_Return ...</td>\n      <td>31294</td>\n      <td>470</td>\n      <td>164423</td>\n      <td>FAN</td>\n      <td>Fan</td>\n      <td>NaN</td>\n      <td>['fan', 'hvac', 'returnFan']</td>\n    </tr>\n    <tr>\n      <th>3126</th>\n      <td>356564</td>\n      <td>470</td>\n      <td>1.635533e+12</td>\n      <td>1.604203e+12</td>\n      <td>NaN</td>\n      <td>NaN</td>\n      <td>AHU-02_Return Fan VFD Speed Feedback_RF02.VFD:...</td>\n      <td>NaN</td>\n      <td>NaN</td>\n      <td>%</td>\n      <td>...</td>\n      <td>17</td>\n      <td>7c68490b89b64dada46d0c6e997b413e</td>\n      <td>nyserda+0000164423+returnFan-2+AHU-02_Return F...</td>\n      <td>31295</td>\n      <td>470</td>\n      <td>164423</td>\n      <td>FAN</td>\n      <td>Fan</td>\n      <td>NaN</td>\n      <td>['fan', 'hvac', 'returnFan']</td>\n    </tr>\n    <tr>\n      <th>3128</th>\n      <td>356559</td>\n      <td>470</td>\n      <td>1.635535e+12</td>\n      <td>1.604203e+12</td>\n      <td>NaN</td>\n      <td>NaN</td>\n      <td>AHU-21_Return Fan VFD Speed Feedback_RF23MS</td>\n      <td>NaN</td>\n      <td>NaN</td>\n      <td>%</td>\n      <td>...</td>\n      <td>17</td>\n      <td>e9f44d3bf1e8418559536f4b1f6532f2</td>\n      <td>nyserda+0000164423+returnFan-21+AHU-21_Return ...</td>\n      <td>31296</td>\n      <td>470</td>\n      <td>164423</td>\n      <td>FAN</td>\n      <td>Fan</td>\n      <td>NaN</td>\n      <td>['fan', 'hvac', 'returnFan']</td>\n    </tr>\n    <tr>\n      <th>...</th>\n      <td>...</td>\n      <td>...</td>\n      <td>...</td>\n      <td>...</td>\n      <td>...</td>\n      <td>...</td>\n      <td>...</td>\n      <td>...</td>\n      <td>...</td>\n      <td>...</td>\n      <td>...</td>\n      <td>...</td>\n      <td>...</td>\n      <td>...</td>\n      <td>...</td>\n      <td>...</td>\n      <td>...</td>\n      <td>...</td>\n      <td>...</td>\n      <td>...</td>\n      <td>...</td>\n    </tr>\n    <tr>\n      <th>26367</th>\n      <td>359778</td>\n      <td>486</td>\n      <td>1.606470e+12</td>\n      <td>1.590480e+12</td>\n      <td>NaN</td>\n      <td>NaN</td>\n      <td>wrdSupplyAirFanSpeedMeasurement_AHU Penthouse ...</td>\n      <td>NaN</td>\n      <td>NaN</td>\n      <td>%</td>\n      <td>...</td>\n      <td>17</td>\n      <td>3cc9c7c54430d8f9ac87fd7b2c8f8763</td>\n      <td>nyserda+0000133939+supplyFan-PSPS+wrdSupplyAir...</td>\n      <td>32151</td>\n      <td>486</td>\n      <td>133939</td>\n      <td>FAN</td>\n      <td>Fan</td>\n      <td>NaN</td>\n      <td>['fan', 'hvac', 'supplyFan']</td>\n    </tr>\n    <tr>\n      <th>26862</th>\n      <td>359581</td>\n      <td>487</td>\n      <td>1.614592e+12</td>\n      <td>1.598602e+12</td>\n      <td>NaN</td>\n      <td>NaN</td>\n      <td>grandcentralSupplyAirFanSpeedMeasurement_8th F...</td>\n      <td>NaN</td>\n      <td>NaN</td>\n      <td>%</td>\n      <td>...</td>\n      <td>17</td>\n      <td>c976e379062a85ea3ad363069bf18671</td>\n      <td>nyserda+0000144812+returnFan-8+grandcentralSup...</td>\n      <td>32045</td>\n      <td>487</td>\n      <td>144812</td>\n      <td>FAN</td>\n      <td>Fan</td>\n      <td>NaN</td>\n      <td>['fan', 'hvac', 'returnFan']</td>\n    </tr>\n    <tr>\n      <th>26864</th>\n      <td>359583</td>\n      <td>487</td>\n      <td>1.614592e+12</td>\n      <td>1.598602e+12</td>\n      <td>NaN</td>\n      <td>NaN</td>\n      <td>grandcentralSupplyAirFanSpeedMeasurement_9th F...</td>\n      <td>NaN</td>\n      <td>NaN</td>\n      <td>%</td>\n      <td>...</td>\n      <td>17</td>\n      <td>46aac69a25e6c01769e402c960cb9753</td>\n      <td>nyserda+0000144812+returnFan-9+grandcentralSup...</td>\n      <td>32046</td>\n      <td>487</td>\n      <td>144812</td>\n      <td>FAN</td>\n      <td>Fan</td>\n      <td>NaN</td>\n      <td>['fan', 'hvac', 'returnFan']</td>\n    </tr>\n    <tr>\n      <th>26988</th>\n      <td>359707</td>\n      <td>487</td>\n      <td>1.614592e+12</td>\n      <td>1.598602e+12</td>\n      <td>NaN</td>\n      <td>NaN</td>\n      <td>grandcentralSupplyAirFanSpeedMeasurement_8th F...</td>\n      <td>NaN</td>\n      <td>NaN</td>\n      <td>%</td>\n      <td>...</td>\n      <td>17</td>\n      <td>b14d4a5d18354d4b7035e0d95b4f367c</td>\n      <td>nyserda+0000144812+supplyFan-8+grandcentralSup...</td>\n      <td>32087</td>\n      <td>487</td>\n      <td>144812</td>\n      <td>FAN</td>\n      <td>Fan</td>\n      <td>NaN</td>\n      <td>['fan', 'hvac', 'supplyFan']</td>\n    </tr>\n    <tr>\n      <th>26990</th>\n      <td>359709</td>\n      <td>487</td>\n      <td>1.614592e+12</td>\n      <td>1.598602e+12</td>\n      <td>NaN</td>\n      <td>NaN</td>\n      <td>grandcentralSupplyAirFanSpeedMeasurement_9th F...</td>\n      <td>NaN</td>\n      <td>NaN</td>\n      <td>%</td>\n      <td>...</td>\n      <td>17</td>\n      <td>4e041aceba09d54344e45fe16c7b9ff6</td>\n      <td>nyserda+0000144812+supplyFan-9+grandcentralSup...</td>\n      <td>32088</td>\n      <td>487</td>\n      <td>144812</td>\n      <td>FAN</td>\n      <td>Fan</td>\n      <td>NaN</td>\n      <td>['fan', 'hvac', 'supplyFan']</td>\n    </tr>\n  </tbody>\n</table>\n<p>182 rows × 24 columns</p>\n</div>"
     },
     "execution_count": 38,
     "metadata": {},
     "output_type": "execute_result"
    }
   ],
   "source": [
    "Speed_sensor_mat_data = metadata[(metadata.type == \"Speed Sensor\")]\n",
    "Speed_sensor_mat_data"
   ]
  },
  {
   "cell_type": "code",
   "execution_count": null,
   "id": "0be26159",
   "metadata": {},
   "outputs": [],
   "source": []
  },
  {
   "cell_type": "markdown",
   "source": [
    "# Querying time-series: Boiler Heating Hot Water Supply Temp"
   ],
   "metadata": {
    "collapsed": false
   }
  },
  {
   "cell_type": "markdown",
   "source": [
    "Now that we have our metadata filtered it's time to get the time-series of those points. Let's import the libraries we will be using:"
   ],
   "metadata": {
    "collapsed": false
   }
  },
  {
   "cell_type": "code",
   "execution_count": 40,
   "id": "7c159d91",
   "metadata": {
    "execution": {
     "iopub.execute_input": "2022-05-13T16:22:29.784517Z",
     "iopub.status.busy": "2022-05-13T16:22:29.783430Z",
     "iopub.status.idle": "2022-05-13T16:22:29.788331Z",
     "shell.execute_reply": "2022-05-13T16:22:29.788835Z",
     "shell.execute_reply.started": "2022-05-04T01:32:27.810457Z"
    },
    "papermill": {
     "duration": 0.096793,
     "end_time": "2022-05-13T16:22:29.789024",
     "exception": false,
     "start_time": "2022-05-13T16:22:29.692231",
     "status": "completed"
    },
    "pycharm": {
     "name": "#%%\n"
    },
    "tags": []
   },
   "outputs": [],
   "source": [
    "from datetime import datetime, timezone, timedelta\n",
    "import pytz\n",
    "from onboard.client.models import TimeseriesQuery, PointData\n",
    "from onboard.client.dataframes import points_df_from_streaming_timeseries"
   ]
  },
  {
   "cell_type": "markdown",
   "id": "692414d3",
   "metadata": {
    "papermill": {
     "duration": 0.08761,
     "end_time": "2022-05-13T16:22:29.967108",
     "exception": false,
     "start_time": "2022-05-13T16:22:29.879498",
     "status": "completed"
    },
    "pycharm": {
     "name": "#%% md\n"
    },
    "tags": []
   },
   "source": [
    "First, create a list with the points to query. We already filtered our dataset, so it's all the points there:"
   ]
  },
  {
   "cell_type": "code",
   "execution_count": 43,
   "id": "0f190046",
   "metadata": {
    "execution": {
     "iopub.execute_input": "2022-05-13T16:22:30.148855Z",
     "iopub.status.busy": "2022-05-13T16:22:30.147823Z",
     "iopub.status.idle": "2022-05-13T16:22:30.152485Z",
     "shell.execute_reply": "2022-05-13T16:22:30.153072Z",
     "shell.execute_reply.started": "2022-05-04T01:32:42.550368Z"
    },
    "papermill": {
     "duration": 0.096957,
     "end_time": "2022-05-13T16:22:30.153249",
     "exception": false,
     "start_time": "2022-05-13T16:22:30.056292",
     "status": "completed"
    },
    "pycharm": {
     "name": "#%%\n"
    },
    "tags": []
   },
   "outputs": [],
   "source": [
    "DSP_points = list(DSP_mat_data.id_point)\n",
    "DSP_setpoint_points = list(DSP_setpoint_mat_data.id_point)"
   ]
  },
  {
   "cell_type": "markdown",
   "id": "1f81f17f",
   "metadata": {
    "papermill": {
     "duration": 0.088116,
     "end_time": "2022-05-13T16:22:30.330071",
     "exception": false,
     "start_time": "2022-05-13T16:22:30.241955",
     "status": "completed"
    },
    "pycharm": {
     "name": "#%% md\n"
    },
    "tags": []
   },
   "source": [
    "Let's inspect the datetime period we are working with; we have to convert the `first_updated` and `last_updated` from unix timestamp to a datetime (like we learned in a previous notebook)."
   ]
  },
  {
   "cell_type": "code",
   "execution_count": 45,
   "id": "c4bef57c",
   "metadata": {
    "execution": {
     "iopub.execute_input": "2022-05-13T16:22:30.510209Z",
     "iopub.status.busy": "2022-05-13T16:22:30.509144Z",
     "iopub.status.idle": "2022-05-13T16:22:30.518609Z",
     "shell.execute_reply": "2022-05-13T16:22:30.517950Z",
     "shell.execute_reply.started": "2022-05-04T01:32:48.752452Z"
    },
    "papermill": {
     "duration": 0.100533,
     "end_time": "2022-05-13T16:22:30.518747",
     "exception": false,
     "start_time": "2022-05-13T16:22:30.418214",
     "status": "completed"
    },
    "pycharm": {
     "name": "#%%\n"
    },
    "tags": []
   },
   "outputs": [
    {
     "data": {
      "text/plain": "Timestamp('2019-09-11 13:35:00+0000', tz='UTC')"
     },
     "execution_count": 45,
     "metadata": {},
     "output_type": "execute_result"
    }
   ],
   "source": [
    "DSP_mat_data.first_updated.apply(lambda x: datetime.fromtimestamp(x/1000, timezone.utc)).min()"
   ]
  },
  {
   "cell_type": "code",
   "execution_count": 46,
   "id": "24d211f8",
   "metadata": {
    "pycharm": {
     "name": "#%%\n"
    }
   },
   "outputs": [
    {
     "data": {
      "text/plain": "Timestamp('2021-03-01 19:20:00+0000', tz='UTC')"
     },
     "execution_count": 46,
     "metadata": {},
     "output_type": "execute_result"
    }
   ],
   "source": [
    "DSP_mat_data.last_updated.apply(lambda x: datetime.fromtimestamp(x/1000, timezone.utc)).max()"
   ]
  },
  {
   "cell_type": "markdown",
   "id": "c05fe9b5",
   "metadata": {
    "papermill": {
     "duration": 0.091199,
     "end_time": "2022-05-13T16:22:30.891162",
     "exception": false,
     "start_time": "2022-05-13T16:22:30.799963",
     "status": "completed"
    },
    "pycharm": {
     "name": "#%% md\n"
    },
    "tags": []
   },
   "source": [
    "Ok, 2017-2018. Let's select a year of data; we are using the [python library datetime](https://docs.python.org/3/library/datetime.html) to create datetime objects. Remember that all the data from the API is in UTC, you have to localize all your datetimes using [PyTZ](https://pythonhosted.org/pytz/) a library designed for that purpose."
   ]
  },
  {
   "cell_type": "code",
   "execution_count": 47,
   "id": "85e13e63",
   "metadata": {
    "execution": {
     "iopub.execute_input": "2022-05-13T16:22:31.076544Z",
     "iopub.status.busy": "2022-05-13T16:22:31.075775Z",
     "iopub.status.idle": "2022-05-13T16:22:31.082643Z",
     "shell.execute_reply": "2022-05-13T16:22:31.083636Z",
     "shell.execute_reply.started": "2022-05-04T01:33:22.341521Z"
    },
    "papermill": {
     "duration": 0.102717,
     "end_time": "2022-05-13T16:22:31.083985",
     "exception": false,
     "start_time": "2022-05-13T16:22:30.981268",
     "status": "completed"
    },
    "pycharm": {
     "name": "#%%\n"
    },
    "tags": []
   },
   "outputs": [
    {
     "name": "stdout",
     "output_type": "stream",
     "text": [
      "from 2019-09-11 00:00:00+00:00 to 2021-03-01 00:00:00+00:00\n"
     ]
    }
   ],
   "source": [
    "# Select your timezone\n",
    "tz = pytz.timezone('UTC')\n",
    "\n",
    "# Select your date and time (time is optional)\n",
    "start = datetime(2019,9,11,0,0,0).replace(tzinfo=tz)\n",
    "end = datetime(2021,3,1,0,0,0).replace(tzinfo=tz)\n",
    "\n",
    "print(f\"from {start} to {end}\")"
   ]
  },
  {
   "cell_type": "markdown",
   "id": "e33291d8",
   "metadata": {
    "papermill": {
     "duration": 0.089405,
     "end_time": "2022-05-13T16:22:31.265656",
     "exception": false,
     "start_time": "2022-05-13T16:22:31.176251",
     "status": "completed"
    },
    "pycharm": {
     "name": "#%% md\n"
    },
    "tags": []
   },
   "source": [
    "And create the query with all the parameters. Here we are saying \"give me the readings fron 20 january 2017 to 20 january 2018 of the points in `points`\":"
   ]
  },
  {
   "cell_type": "code",
   "execution_count": 48,
   "id": "e12969e0",
   "metadata": {
    "execution": {
     "iopub.execute_input": "2022-05-13T16:22:31.449380Z",
     "iopub.status.busy": "2022-05-13T16:22:31.448551Z",
     "iopub.status.idle": "2022-05-13T16:22:31.453317Z",
     "shell.execute_reply": "2022-05-13T16:22:31.453879Z",
     "shell.execute_reply.started": "2022-05-04T01:33:43.379341Z"
    },
    "papermill": {
     "duration": 0.09829,
     "end_time": "2022-05-13T16:22:31.454060",
     "exception": false,
     "start_time": "2022-05-13T16:22:31.355770",
     "status": "completed"
    },
    "pycharm": {
     "name": "#%%\n"
    },
    "tags": []
   },
   "outputs": [],
   "source": [
    "timeseries_query_DSP = TimeseriesQuery(point_ids = DSP_points, start = start, end = end)\n",
    "timeseries_query_DSP_setpoint = TimeseriesQuery(point_ids = DSP_setpoint_points, start = start, end = end)"
   ]
  },
  {
   "cell_type": "markdown",
   "id": "e3f53e0c",
   "metadata": {
    "papermill": {
     "duration": 0.08897,
     "end_time": "2022-05-13T16:22:31.634531",
     "exception": false,
     "start_time": "2022-05-13T16:22:31.545561",
     "status": "completed"
    },
    "pycharm": {
     "name": "#%% md\n"
    },
    "tags": []
   },
   "source": [
    "Time to get the data!"
   ]
  },
  {
   "cell_type": "code",
   "execution_count": 58,
   "id": "c6c99853",
   "metadata": {
    "execution": {
     "iopub.execute_input": "2022-05-13T16:22:31.817208Z",
     "iopub.status.busy": "2022-05-13T16:22:31.816312Z",
     "iopub.status.idle": "2022-05-13T16:22:50.173935Z",
     "shell.execute_reply": "2022-05-13T16:22:50.174465Z",
     "shell.execute_reply.started": "2022-05-04T01:33:46.696507Z"
    },
    "papermill": {
     "duration": 18.44967,
     "end_time": "2022-05-13T16:22:50.174664",
     "exception": false,
     "start_time": "2022-05-13T16:22:31.724994",
     "status": "completed"
    },
    "pycharm": {
     "name": "#%%\n"
    },
    "tags": []
   },
   "outputs": [],
   "source": [
    "# Exceute query (will return and object)\n",
    "query_results_DSP = client.stream_point_timeseries(timeseries_query_DSP)\n",
    "query_results_DSP_setpoint = client.stream_point_timeseries(timeseries_query_DSP_setpoint)\n",
    "\n",
    "# Convert to dataframe\n",
    "data_DSP = points_df_from_streaming_timeseries(query_results_DSP)\n",
    "data_DSP_setpoint = points_df_from_streaming_timeseries(query_results_DSP_setpoint)"
   ]
  },
  {
   "cell_type": "code",
   "execution_count": 59,
   "outputs": [
    {
     "data": {
      "text/plain": "                   timestamp  414713  414721  216816  414694  216834  414666\n0       2019-09-11T13:35:00Z     NaN     NaN     NaN     NaN   1.100     NaN\n1       2019-09-11T13:40:00Z     NaN     NaN     NaN     NaN   1.160     NaN\n2       2019-09-11T13:45:00Z     NaN     NaN     NaN     NaN   1.175     NaN\n3       2019-09-11T13:50:00Z     NaN     NaN     NaN     NaN   1.440     NaN\n4       2019-09-11T13:55:00Z     NaN     NaN     NaN     NaN   1.425     NaN\n...                      ...     ...     ...     ...     ...     ...     ...\n148782  2021-02-28T23:35:00Z     0.0     0.0     NaN   0.035     NaN    0.02\n148783  2021-02-28T23:40:00Z     0.0     0.0     NaN   0.035     NaN    0.02\n148784  2021-02-28T23:45:00Z     0.0     0.0     NaN   0.035     NaN    0.02\n148785  2021-02-28T23:50:00Z     0.0     0.0     NaN   0.035     NaN    0.02\n148786  2021-02-28T23:55:00Z     0.0     0.0     NaN   0.035     NaN    0.02\n\n[148787 rows x 7 columns]",
      "text/html": "<div>\n<style scoped>\n    .dataframe tbody tr th:only-of-type {\n        vertical-align: middle;\n    }\n\n    .dataframe tbody tr th {\n        vertical-align: top;\n    }\n\n    .dataframe thead th {\n        text-align: right;\n    }\n</style>\n<table border=\"1\" class=\"dataframe\">\n  <thead>\n    <tr style=\"text-align: right;\">\n      <th></th>\n      <th>timestamp</th>\n      <th>414713</th>\n      <th>414721</th>\n      <th>216816</th>\n      <th>414694</th>\n      <th>216834</th>\n      <th>414666</th>\n    </tr>\n  </thead>\n  <tbody>\n    <tr>\n      <th>0</th>\n      <td>2019-09-11T13:35:00Z</td>\n      <td>NaN</td>\n      <td>NaN</td>\n      <td>NaN</td>\n      <td>NaN</td>\n      <td>1.100</td>\n      <td>NaN</td>\n    </tr>\n    <tr>\n      <th>1</th>\n      <td>2019-09-11T13:40:00Z</td>\n      <td>NaN</td>\n      <td>NaN</td>\n      <td>NaN</td>\n      <td>NaN</td>\n      <td>1.160</td>\n      <td>NaN</td>\n    </tr>\n    <tr>\n      <th>2</th>\n      <td>2019-09-11T13:45:00Z</td>\n      <td>NaN</td>\n      <td>NaN</td>\n      <td>NaN</td>\n      <td>NaN</td>\n      <td>1.175</td>\n      <td>NaN</td>\n    </tr>\n    <tr>\n      <th>3</th>\n      <td>2019-09-11T13:50:00Z</td>\n      <td>NaN</td>\n      <td>NaN</td>\n      <td>NaN</td>\n      <td>NaN</td>\n      <td>1.440</td>\n      <td>NaN</td>\n    </tr>\n    <tr>\n      <th>4</th>\n      <td>2019-09-11T13:55:00Z</td>\n      <td>NaN</td>\n      <td>NaN</td>\n      <td>NaN</td>\n      <td>NaN</td>\n      <td>1.425</td>\n      <td>NaN</td>\n    </tr>\n    <tr>\n      <th>...</th>\n      <td>...</td>\n      <td>...</td>\n      <td>...</td>\n      <td>...</td>\n      <td>...</td>\n      <td>...</td>\n      <td>...</td>\n    </tr>\n    <tr>\n      <th>148782</th>\n      <td>2021-02-28T23:35:00Z</td>\n      <td>0.0</td>\n      <td>0.0</td>\n      <td>NaN</td>\n      <td>0.035</td>\n      <td>NaN</td>\n      <td>0.02</td>\n    </tr>\n    <tr>\n      <th>148783</th>\n      <td>2021-02-28T23:40:00Z</td>\n      <td>0.0</td>\n      <td>0.0</td>\n      <td>NaN</td>\n      <td>0.035</td>\n      <td>NaN</td>\n      <td>0.02</td>\n    </tr>\n    <tr>\n      <th>148784</th>\n      <td>2021-02-28T23:45:00Z</td>\n      <td>0.0</td>\n      <td>0.0</td>\n      <td>NaN</td>\n      <td>0.035</td>\n      <td>NaN</td>\n      <td>0.02</td>\n    </tr>\n    <tr>\n      <th>148785</th>\n      <td>2021-02-28T23:50:00Z</td>\n      <td>0.0</td>\n      <td>0.0</td>\n      <td>NaN</td>\n      <td>0.035</td>\n      <td>NaN</td>\n      <td>0.02</td>\n    </tr>\n    <tr>\n      <th>148786</th>\n      <td>2021-02-28T23:55:00Z</td>\n      <td>0.0</td>\n      <td>0.0</td>\n      <td>NaN</td>\n      <td>0.035</td>\n      <td>NaN</td>\n      <td>0.02</td>\n    </tr>\n  </tbody>\n</table>\n<p>148787 rows × 7 columns</p>\n</div>"
     },
     "execution_count": 59,
     "metadata": {},
     "output_type": "execute_result"
    }
   ],
   "source": [
    "data_DSP"
   ],
   "metadata": {
    "collapsed": false,
    "pycharm": {
     "name": "#%%\n"
    }
   }
  },
  {
   "cell_type": "code",
   "execution_count": 60,
   "id": "9942b770",
   "metadata": {
    "pycharm": {
     "name": "#%%\n"
    }
   },
   "outputs": [
    {
     "data": {
      "text/plain": "                   timestamp  414714  414722  216817  414695   216835  414667\n0       2019-09-11T13:35:00Z     NaN     NaN     NaN     NaN  1.27938     NaN\n1       2019-09-11T13:40:00Z     NaN     NaN     NaN     NaN  1.37938     NaN\n2       2019-09-11T13:45:00Z     NaN     NaN     NaN     NaN  1.37938     NaN\n3       2019-09-11T13:50:00Z     NaN     NaN     NaN     NaN  1.47938     NaN\n4       2019-09-11T13:55:00Z     NaN     NaN     NaN     NaN  1.27500     NaN\n...                      ...     ...     ...     ...     ...      ...     ...\n148781  2021-02-28T23:35:00Z     1.0     0.0     NaN     1.0      NaN     1.0\n148782  2021-02-28T23:40:00Z     1.0     0.0     NaN     1.0      NaN     1.0\n148783  2021-02-28T23:45:00Z     1.0     0.0     NaN     1.0      NaN     1.0\n148784  2021-02-28T23:50:00Z     1.0     0.0     NaN     1.0      NaN     1.0\n148785  2021-02-28T23:55:00Z     1.0     0.0     NaN     1.0      NaN     1.0\n\n[148786 rows x 7 columns]",
      "text/html": "<div>\n<style scoped>\n    .dataframe tbody tr th:only-of-type {\n        vertical-align: middle;\n    }\n\n    .dataframe tbody tr th {\n        vertical-align: top;\n    }\n\n    .dataframe thead th {\n        text-align: right;\n    }\n</style>\n<table border=\"1\" class=\"dataframe\">\n  <thead>\n    <tr style=\"text-align: right;\">\n      <th></th>\n      <th>timestamp</th>\n      <th>414714</th>\n      <th>414722</th>\n      <th>216817</th>\n      <th>414695</th>\n      <th>216835</th>\n      <th>414667</th>\n    </tr>\n  </thead>\n  <tbody>\n    <tr>\n      <th>0</th>\n      <td>2019-09-11T13:35:00Z</td>\n      <td>NaN</td>\n      <td>NaN</td>\n      <td>NaN</td>\n      <td>NaN</td>\n      <td>1.27938</td>\n      <td>NaN</td>\n    </tr>\n    <tr>\n      <th>1</th>\n      <td>2019-09-11T13:40:00Z</td>\n      <td>NaN</td>\n      <td>NaN</td>\n      <td>NaN</td>\n      <td>NaN</td>\n      <td>1.37938</td>\n      <td>NaN</td>\n    </tr>\n    <tr>\n      <th>2</th>\n      <td>2019-09-11T13:45:00Z</td>\n      <td>NaN</td>\n      <td>NaN</td>\n      <td>NaN</td>\n      <td>NaN</td>\n      <td>1.37938</td>\n      <td>NaN</td>\n    </tr>\n    <tr>\n      <th>3</th>\n      <td>2019-09-11T13:50:00Z</td>\n      <td>NaN</td>\n      <td>NaN</td>\n      <td>NaN</td>\n      <td>NaN</td>\n      <td>1.47938</td>\n      <td>NaN</td>\n    </tr>\n    <tr>\n      <th>4</th>\n      <td>2019-09-11T13:55:00Z</td>\n      <td>NaN</td>\n      <td>NaN</td>\n      <td>NaN</td>\n      <td>NaN</td>\n      <td>1.27500</td>\n      <td>NaN</td>\n    </tr>\n    <tr>\n      <th>...</th>\n      <td>...</td>\n      <td>...</td>\n      <td>...</td>\n      <td>...</td>\n      <td>...</td>\n      <td>...</td>\n      <td>...</td>\n    </tr>\n    <tr>\n      <th>148781</th>\n      <td>2021-02-28T23:35:00Z</td>\n      <td>1.0</td>\n      <td>0.0</td>\n      <td>NaN</td>\n      <td>1.0</td>\n      <td>NaN</td>\n      <td>1.0</td>\n    </tr>\n    <tr>\n      <th>148782</th>\n      <td>2021-02-28T23:40:00Z</td>\n      <td>1.0</td>\n      <td>0.0</td>\n      <td>NaN</td>\n      <td>1.0</td>\n      <td>NaN</td>\n      <td>1.0</td>\n    </tr>\n    <tr>\n      <th>148783</th>\n      <td>2021-02-28T23:45:00Z</td>\n      <td>1.0</td>\n      <td>0.0</td>\n      <td>NaN</td>\n      <td>1.0</td>\n      <td>NaN</td>\n      <td>1.0</td>\n    </tr>\n    <tr>\n      <th>148784</th>\n      <td>2021-02-28T23:50:00Z</td>\n      <td>1.0</td>\n      <td>0.0</td>\n      <td>NaN</td>\n      <td>1.0</td>\n      <td>NaN</td>\n      <td>1.0</td>\n    </tr>\n    <tr>\n      <th>148785</th>\n      <td>2021-02-28T23:55:00Z</td>\n      <td>1.0</td>\n      <td>0.0</td>\n      <td>NaN</td>\n      <td>1.0</td>\n      <td>NaN</td>\n      <td>1.0</td>\n    </tr>\n  </tbody>\n</table>\n<p>148786 rows × 7 columns</p>\n</div>"
     },
     "execution_count": 60,
     "metadata": {},
     "output_type": "execute_result"
    }
   ],
   "source": [
    "data_DSP_setpoint"
   ]
  },
  {
   "cell_type": "markdown",
   "id": "c536d3d9",
   "metadata": {
    "papermill": {
     "duration": 0.08998,
     "end_time": "2022-05-13T16:22:50.575165",
     "exception": false,
     "start_time": "2022-05-13T16:22:50.485185",
     "status": "completed"
    },
    "pycharm": {
     "name": "#%% md\n"
    },
    "tags": []
   },
   "source": [
    "Took some time to retreive that data, is a big dataset. Let's export the csv:"
   ]
  },
  {
   "cell_type": "code",
   "execution_count": 62,
   "outputs": [],
   "source": [
    "data_DSP.to_csv(\"Duct_Static_Pressure_time_series.csv\", index=False)\n",
    "data_DSP_setpoint.to_csv(\"Duct_Static_Pressure_Setpoint_time_series.csv\", index=False)"
   ],
   "metadata": {
    "collapsed": false,
    "pycharm": {
     "name": "#%%\n"
    }
   }
  },
  {
   "cell_type": "markdown",
   "id": "1f7f934e",
   "metadata": {
    "papermill": {
     "duration": 0.089739,
     "end_time": "2022-05-13T16:22:52.492245",
     "exception": false,
     "start_time": "2022-05-13T16:22:52.402506",
     "status": "completed"
    },
    "pycharm": {
     "name": "#%% md\n"
    },
    "tags": []
   },
   "source": [
    "# Resampling"
   ]
  },
  {
   "cell_type": "markdown",
   "id": "13db6e88",
   "metadata": {
    "papermill": {
     "duration": 0.089832,
     "end_time": "2022-05-13T16:22:52.672179",
     "exception": false,
     "start_time": "2022-05-13T16:22:52.582347",
     "status": "completed"
    },
    "pycharm": {
     "name": "#%% md\n"
    },
    "tags": []
   },
   "source": [
    "Let's load the dataset we just exported just to learn one more trick:"
   ]
  },
  {
   "cell_type": "code",
   "execution_count": 63,
   "id": "610e97f2",
   "metadata": {
    "execution": {
     "iopub.execute_input": "2022-05-13T16:22:52.858894Z",
     "iopub.status.busy": "2022-05-13T16:22:52.858158Z",
     "iopub.status.idle": "2022-05-13T16:22:53.108303Z",
     "shell.execute_reply": "2022-05-13T16:22:53.107734Z",
     "shell.execute_reply.started": "2022-05-04T01:38:08.710206Z"
    },
    "papermill": {
     "duration": 0.34455,
     "end_time": "2022-05-13T16:22:53.108482",
     "exception": false,
     "start_time": "2022-05-13T16:22:52.763932",
     "status": "completed"
    },
    "pycharm": {
     "name": "#%%\n"
    },
    "tags": []
   },
   "outputs": [],
   "source": [
    "data_DSP = pd.read_csv(\"./Duct_Static_Pressure_time_series.csv\")\n",
    "data_DSP_setpoint = pd.read_csv(\"./Duct_Static_Pressure_Setpoint_time_series.csv\")"
   ]
  },
  {
   "cell_type": "code",
   "execution_count": 64,
   "id": "88989bbd",
   "metadata": {
    "execution": {
     "iopub.execute_input": "2022-05-13T16:22:53.309664Z",
     "iopub.status.busy": "2022-05-13T16:22:53.308936Z",
     "iopub.status.idle": "2022-05-13T16:22:53.313993Z",
     "shell.execute_reply": "2022-05-13T16:22:53.314787Z",
     "shell.execute_reply.started": "2022-05-04T01:38:23.506105Z"
    },
    "papermill": {
     "duration": 0.11281,
     "end_time": "2022-05-13T16:22:53.315116",
     "exception": false,
     "start_time": "2022-05-13T16:22:53.202306",
     "status": "completed"
    },
    "pycharm": {
     "name": "#%%\n"
    },
    "tags": []
   },
   "outputs": [
    {
     "name": "stdout",
     "output_type": "stream",
     "text": [
      "<class 'pandas.core.frame.DataFrame'>\n",
      "RangeIndex: 148787 entries, 0 to 148786\n",
      "Data columns (total 7 columns):\n",
      " #   Column     Non-Null Count   Dtype  \n",
      "---  ------     --------------   -----  \n",
      " 0   timestamp  148787 non-null  object \n",
      " 1   414713     65356 non-null   float64\n",
      " 2   414721     90202 non-null   float64\n",
      " 3   216816     57084 non-null   float64\n",
      " 4   414694     89608 non-null   float64\n",
      " 5   216834     57094 non-null   float64\n",
      " 6   414666     90118 non-null   float64\n",
      "dtypes: float64(6), object(1)\n",
      "memory usage: 7.9+ MB\n"
     ]
    }
   ],
   "source": [
    "data_DSP.info()"
   ]
  },
  {
   "cell_type": "code",
   "execution_count": 65,
   "outputs": [
    {
     "name": "stdout",
     "output_type": "stream",
     "text": [
      "<class 'pandas.core.frame.DataFrame'>\n",
      "RangeIndex: 148786 entries, 0 to 148785\n",
      "Data columns (total 7 columns):\n",
      " #   Column     Non-Null Count   Dtype  \n",
      "---  ------     --------------   -----  \n",
      " 0   timestamp  148786 non-null  object \n",
      " 1   414714     65355 non-null   float64\n",
      " 2   414722     90200 non-null   float64\n",
      " 3   216817     57084 non-null   float64\n",
      " 4   414695     89605 non-null   float64\n",
      " 5   216835     57092 non-null   float64\n",
      " 6   414667     90116 non-null   float64\n",
      "dtypes: float64(6), object(1)\n",
      "memory usage: 7.9+ MB\n"
     ]
    }
   ],
   "source": [
    "data_DSP_setpoint.info()"
   ],
   "metadata": {
    "collapsed": false,
    "pycharm": {
     "name": "#%%\n"
    }
   }
  },
  {
   "cell_type": "markdown",
   "id": "65a488cb",
   "metadata": {
    "papermill": {
     "duration": 0.093344,
     "end_time": "2022-05-13T16:22:53.501137",
     "exception": false,
     "start_time": "2022-05-13T16:22:53.407793",
     "status": "completed"
    },
    "pycharm": {
     "name": "#%% md\n"
    },
    "tags": []
   },
   "source": [
    "The timestamp there is not a datetime object yet. We could have parsed it as date [using the parameter `parse_dates` while reading](https://pandas.pydata.org/docs/reference/api/pandas.read_csv.html) the csv or we can do the following:"
   ]
  },
  {
   "cell_type": "code",
   "execution_count": 52,
   "id": "79b2f09e",
   "metadata": {
    "execution": {
     "iopub.execute_input": "2022-05-13T16:22:53.692577Z",
     "iopub.status.busy": "2022-05-13T16:22:53.691600Z",
     "iopub.status.idle": "2022-05-13T16:22:53.706505Z",
     "shell.execute_reply": "2022-05-13T16:22:53.706989Z",
     "shell.execute_reply.started": "2022-05-04T01:38:51.996573Z"
    },
    "papermill": {
     "duration": 0.115101,
     "end_time": "2022-05-13T16:22:53.707177",
     "exception": false,
     "start_time": "2022-05-13T16:22:53.592076",
     "status": "completed"
    },
    "pycharm": {
     "name": "#%%\n"
    },
    "tags": []
   },
   "outputs": [],
   "source": [
    "data_DSP[\"timestamp\"] = pd.to_datetime(data_DSP['timestamp'], format='%Y-%m-%dT%H:%M:%S.%f')\n"
   ]
  },
  {
   "cell_type": "code",
   "execution_count": 53,
   "id": "d2e52230",
   "metadata": {
    "execution": {
     "iopub.execute_input": "2022-05-13T16:22:53.894687Z",
     "iopub.status.busy": "2022-05-13T16:22:53.892149Z",
     "iopub.status.idle": "2022-05-13T16:22:53.897132Z",
     "shell.execute_reply": "2022-05-13T16:22:53.897647Z",
     "shell.execute_reply.started": "2022-05-04T01:39:01.235452Z"
    },
    "papermill": {
     "duration": 0.099556,
     "end_time": "2022-05-13T16:22:53.897816",
     "exception": false,
     "start_time": "2022-05-13T16:22:53.798260",
     "status": "completed"
    },
    "pycharm": {
     "name": "#%%\n"
    },
    "tags": []
   },
   "outputs": [
    {
     "data": {
      "text/plain": [
       "pandas._libs.tslibs.timestamps.Timestamp"
      ]
     },
     "execution_count": 53,
     "metadata": {},
     "output_type": "execute_result"
    }
   ],
   "source": [
    "type(data_DSP.timestamp[0])"
   ]
  },
  {
   "cell_type": "code",
   "execution_count": null,
   "outputs": [],
   "source": [],
   "metadata": {
    "collapsed": false,
    "pycharm": {
     "name": "#%%\n"
    }
   }
  },
  {
   "cell_type": "markdown",
   "id": "ce98468c",
   "metadata": {
    "papermill": {
     "duration": 0.093945,
     "end_time": "2022-05-13T16:22:54.083031",
     "exception": false,
     "start_time": "2022-05-13T16:22:53.989086",
     "status": "completed"
    },
    "pycharm": {
     "name": "#%% md\n"
    },
    "tags": []
   },
   "source": [
    "See? now is a datetime object located in UTC timezone.\n",
    "\n",
    "One important thing when working with time-series data is knowing how to resample it. Let's inspect our data:"
   ]
  },
  {
   "cell_type": "code",
   "execution_count": 54,
   "id": "e280ae29",
   "metadata": {
    "execution": {
     "iopub.execute_input": "2022-05-13T16:22:54.273413Z",
     "iopub.status.busy": "2022-05-13T16:22:54.272778Z",
     "iopub.status.idle": "2022-05-13T16:22:54.300674Z",
     "shell.execute_reply": "2022-05-13T16:22:54.301168Z",
     "shell.execute_reply.started": "2022-05-04T01:39:11.78404Z"
    },
    "papermill": {
     "duration": 0.123662,
     "end_time": "2022-05-13T16:22:54.301337",
     "exception": false,
     "start_time": "2022-05-13T16:22:54.177675",
     "status": "completed"
    },
    "pycharm": {
     "name": "#%%\n"
    },
    "tags": []
   },
   "outputs": [
    {
     "data": {
      "text/html": [
       "<div>\n",
       "<style scoped>\n",
       "    .dataframe tbody tr th:only-of-type {\n",
       "        vertical-align: middle;\n",
       "    }\n",
       "\n",
       "    .dataframe tbody tr th {\n",
       "        vertical-align: top;\n",
       "    }\n",
       "\n",
       "    .dataframe thead th {\n",
       "        text-align: right;\n",
       "    }\n",
       "</style>\n",
       "<table border=\"1\" class=\"dataframe\">\n",
       "  <thead>\n",
       "    <tr style=\"text-align: right;\">\n",
       "      <th></th>\n",
       "      <th>timestamp</th>\n",
       "      <th>197306</th>\n",
       "      <th>197308</th>\n",
       "      <th>194193</th>\n",
       "      <th>194188</th>\n",
       "      <th>199523</th>\n",
       "      <th>199546</th>\n",
       "      <th>201534</th>\n",
       "      <th>204548</th>\n",
       "      <th>204552</th>\n",
       "      <th>209222</th>\n",
       "      <th>209234</th>\n",
       "      <th>209246</th>\n",
       "      <th>209258</th>\n",
       "      <th>222746</th>\n",
       "    </tr>\n",
       "  </thead>\n",
       "  <tbody>\n",
       "    <tr>\n",
       "      <th>0</th>\n",
       "      <td>2018-02-08 00:15:00+00:00</td>\n",
       "      <td>NaN</td>\n",
       "      <td>NaN</td>\n",
       "      <td>NaN</td>\n",
       "      <td>NaN</td>\n",
       "      <td>NaN</td>\n",
       "      <td>NaN</td>\n",
       "      <td>NaN</td>\n",
       "      <td>NaN</td>\n",
       "      <td>NaN</td>\n",
       "      <td>NaN</td>\n",
       "      <td>NaN</td>\n",
       "      <td>NaN</td>\n",
       "      <td>168.0</td>\n",
       "      <td>NaN</td>\n",
       "    </tr>\n",
       "    <tr>\n",
       "      <th>1</th>\n",
       "      <td>2018-02-08 00:30:00+00:00</td>\n",
       "      <td>NaN</td>\n",
       "      <td>NaN</td>\n",
       "      <td>NaN</td>\n",
       "      <td>NaN</td>\n",
       "      <td>NaN</td>\n",
       "      <td>NaN</td>\n",
       "      <td>NaN</td>\n",
       "      <td>NaN</td>\n",
       "      <td>NaN</td>\n",
       "      <td>NaN</td>\n",
       "      <td>NaN</td>\n",
       "      <td>NaN</td>\n",
       "      <td>167.6</td>\n",
       "      <td>NaN</td>\n",
       "    </tr>\n",
       "    <tr>\n",
       "      <th>2</th>\n",
       "      <td>2018-02-08 00:45:00+00:00</td>\n",
       "      <td>NaN</td>\n",
       "      <td>NaN</td>\n",
       "      <td>NaN</td>\n",
       "      <td>NaN</td>\n",
       "      <td>NaN</td>\n",
       "      <td>NaN</td>\n",
       "      <td>NaN</td>\n",
       "      <td>NaN</td>\n",
       "      <td>NaN</td>\n",
       "      <td>NaN</td>\n",
       "      <td>NaN</td>\n",
       "      <td>NaN</td>\n",
       "      <td>167.2</td>\n",
       "      <td>NaN</td>\n",
       "    </tr>\n",
       "    <tr>\n",
       "      <th>3</th>\n",
       "      <td>2018-02-08 01:00:00+00:00</td>\n",
       "      <td>NaN</td>\n",
       "      <td>NaN</td>\n",
       "      <td>NaN</td>\n",
       "      <td>NaN</td>\n",
       "      <td>NaN</td>\n",
       "      <td>NaN</td>\n",
       "      <td>NaN</td>\n",
       "      <td>NaN</td>\n",
       "      <td>NaN</td>\n",
       "      <td>NaN</td>\n",
       "      <td>NaN</td>\n",
       "      <td>NaN</td>\n",
       "      <td>167.3</td>\n",
       "      <td>NaN</td>\n",
       "    </tr>\n",
       "    <tr>\n",
       "      <th>4</th>\n",
       "      <td>2018-02-08 01:15:00+00:00</td>\n",
       "      <td>NaN</td>\n",
       "      <td>NaN</td>\n",
       "      <td>NaN</td>\n",
       "      <td>NaN</td>\n",
       "      <td>NaN</td>\n",
       "      <td>NaN</td>\n",
       "      <td>NaN</td>\n",
       "      <td>NaN</td>\n",
       "      <td>NaN</td>\n",
       "      <td>NaN</td>\n",
       "      <td>NaN</td>\n",
       "      <td>NaN</td>\n",
       "      <td>167.7</td>\n",
       "      <td>NaN</td>\n",
       "    </tr>\n",
       "    <tr>\n",
       "      <th>5</th>\n",
       "      <td>2018-02-08 01:30:00+00:00</td>\n",
       "      <td>NaN</td>\n",
       "      <td>NaN</td>\n",
       "      <td>NaN</td>\n",
       "      <td>NaN</td>\n",
       "      <td>NaN</td>\n",
       "      <td>NaN</td>\n",
       "      <td>NaN</td>\n",
       "      <td>NaN</td>\n",
       "      <td>NaN</td>\n",
       "      <td>NaN</td>\n",
       "      <td>NaN</td>\n",
       "      <td>NaN</td>\n",
       "      <td>167.9</td>\n",
       "      <td>NaN</td>\n",
       "    </tr>\n",
       "    <tr>\n",
       "      <th>6</th>\n",
       "      <td>2018-02-08 01:45:00+00:00</td>\n",
       "      <td>NaN</td>\n",
       "      <td>NaN</td>\n",
       "      <td>NaN</td>\n",
       "      <td>NaN</td>\n",
       "      <td>NaN</td>\n",
       "      <td>NaN</td>\n",
       "      <td>NaN</td>\n",
       "      <td>NaN</td>\n",
       "      <td>NaN</td>\n",
       "      <td>NaN</td>\n",
       "      <td>NaN</td>\n",
       "      <td>NaN</td>\n",
       "      <td>167.7</td>\n",
       "      <td>NaN</td>\n",
       "    </tr>\n",
       "    <tr>\n",
       "      <th>7</th>\n",
       "      <td>2018-02-08 02:00:00+00:00</td>\n",
       "      <td>NaN</td>\n",
       "      <td>NaN</td>\n",
       "      <td>NaN</td>\n",
       "      <td>NaN</td>\n",
       "      <td>NaN</td>\n",
       "      <td>NaN</td>\n",
       "      <td>NaN</td>\n",
       "      <td>NaN</td>\n",
       "      <td>NaN</td>\n",
       "      <td>NaN</td>\n",
       "      <td>NaN</td>\n",
       "      <td>NaN</td>\n",
       "      <td>167.4</td>\n",
       "      <td>NaN</td>\n",
       "    </tr>\n",
       "    <tr>\n",
       "      <th>8</th>\n",
       "      <td>2018-02-08 02:15:00+00:00</td>\n",
       "      <td>NaN</td>\n",
       "      <td>NaN</td>\n",
       "      <td>NaN</td>\n",
       "      <td>NaN</td>\n",
       "      <td>NaN</td>\n",
       "      <td>NaN</td>\n",
       "      <td>NaN</td>\n",
       "      <td>NaN</td>\n",
       "      <td>NaN</td>\n",
       "      <td>NaN</td>\n",
       "      <td>NaN</td>\n",
       "      <td>NaN</td>\n",
       "      <td>166.9</td>\n",
       "      <td>NaN</td>\n",
       "    </tr>\n",
       "    <tr>\n",
       "      <th>9</th>\n",
       "      <td>2018-02-08 02:30:00+00:00</td>\n",
       "      <td>NaN</td>\n",
       "      <td>NaN</td>\n",
       "      <td>NaN</td>\n",
       "      <td>NaN</td>\n",
       "      <td>NaN</td>\n",
       "      <td>NaN</td>\n",
       "      <td>NaN</td>\n",
       "      <td>NaN</td>\n",
       "      <td>NaN</td>\n",
       "      <td>NaN</td>\n",
       "      <td>NaN</td>\n",
       "      <td>NaN</td>\n",
       "      <td>166.8</td>\n",
       "      <td>NaN</td>\n",
       "    </tr>\n",
       "  </tbody>\n",
       "</table>\n",
       "</div>"
      ],
      "text/plain": [
       "                  timestamp  197306  197308  194193  194188  199523  199546  \\\n",
       "0 2018-02-08 00:15:00+00:00     NaN     NaN     NaN     NaN     NaN     NaN   \n",
       "1 2018-02-08 00:30:00+00:00     NaN     NaN     NaN     NaN     NaN     NaN   \n",
       "2 2018-02-08 00:45:00+00:00     NaN     NaN     NaN     NaN     NaN     NaN   \n",
       "3 2018-02-08 01:00:00+00:00     NaN     NaN     NaN     NaN     NaN     NaN   \n",
       "4 2018-02-08 01:15:00+00:00     NaN     NaN     NaN     NaN     NaN     NaN   \n",
       "5 2018-02-08 01:30:00+00:00     NaN     NaN     NaN     NaN     NaN     NaN   \n",
       "6 2018-02-08 01:45:00+00:00     NaN     NaN     NaN     NaN     NaN     NaN   \n",
       "7 2018-02-08 02:00:00+00:00     NaN     NaN     NaN     NaN     NaN     NaN   \n",
       "8 2018-02-08 02:15:00+00:00     NaN     NaN     NaN     NaN     NaN     NaN   \n",
       "9 2018-02-08 02:30:00+00:00     NaN     NaN     NaN     NaN     NaN     NaN   \n",
       "\n",
       "   201534  204548  204552  209222  209234  209246  209258  222746  \n",
       "0     NaN     NaN     NaN     NaN     NaN     NaN   168.0     NaN  \n",
       "1     NaN     NaN     NaN     NaN     NaN     NaN   167.6     NaN  \n",
       "2     NaN     NaN     NaN     NaN     NaN     NaN   167.2     NaN  \n",
       "3     NaN     NaN     NaN     NaN     NaN     NaN   167.3     NaN  \n",
       "4     NaN     NaN     NaN     NaN     NaN     NaN   167.7     NaN  \n",
       "5     NaN     NaN     NaN     NaN     NaN     NaN   167.9     NaN  \n",
       "6     NaN     NaN     NaN     NaN     NaN     NaN   167.7     NaN  \n",
       "7     NaN     NaN     NaN     NaN     NaN     NaN   167.4     NaN  \n",
       "8     NaN     NaN     NaN     NaN     NaN     NaN   166.9     NaN  \n",
       "9     NaN     NaN     NaN     NaN     NaN     NaN   166.8     NaN  "
      ]
     },
     "execution_count": 54,
     "metadata": {},
     "output_type": "execute_result"
    }
   ],
   "source": [
    "data.head(10)"
   ]
  },
  {
   "cell_type": "markdown",
   "id": "7929261d",
   "metadata": {
    "papermill": {
     "duration": 0.094247,
     "end_time": "2022-05-13T16:22:54.488075",
     "exception": false,
     "start_time": "2022-05-13T16:22:54.393828",
     "status": "completed"
    },
    "pycharm": {
     "name": "#%% md\n"
    },
    "tags": []
   },
   "source": [
    "looks like readings are each 15 minutes and we have some missing gaps there. What if we want the reading each hour, getting the average value in that period? We can do that easily with the `resample` method. You have to specify the frequency (\"D\" means 1 Day), on which column you will be resampling (\"timestamp\") and the aggregation function (\"mean\"). For applying this function is important to have your timestamp as a datetime type, otherwise it will do it by index and won't understand the frequency."
   ]
  },
  {
   "cell_type": "code",
   "execution_count": 55,
   "id": "6dd2ff77",
   "metadata": {
    "execution": {
     "iopub.execute_input": "2022-05-13T16:22:54.689773Z",
     "iopub.status.busy": "2022-05-13T16:22:54.689138Z",
     "iopub.status.idle": "2022-05-13T16:22:54.747518Z",
     "shell.execute_reply": "2022-05-13T16:22:54.746983Z",
     "shell.execute_reply.started": "2022-05-04T01:41:11.126027Z"
    },
    "papermill": {
     "duration": 0.15336,
     "end_time": "2022-05-13T16:22:54.747667",
     "exception": false,
     "start_time": "2022-05-13T16:22:54.594307",
     "status": "completed"
    },
    "pycharm": {
     "name": "#%%\n"
    },
    "tags": []
   },
   "outputs": [
    {
     "data": {
      "text/html": [
       "<div>\n",
       "<style scoped>\n",
       "    .dataframe tbody tr th:only-of-type {\n",
       "        vertical-align: middle;\n",
       "    }\n",
       "\n",
       "    .dataframe tbody tr th {\n",
       "        vertical-align: top;\n",
       "    }\n",
       "\n",
       "    .dataframe thead th {\n",
       "        text-align: right;\n",
       "    }\n",
       "</style>\n",
       "<table border=\"1\" class=\"dataframe\">\n",
       "  <thead>\n",
       "    <tr style=\"text-align: right;\">\n",
       "      <th></th>\n",
       "      <th>197306</th>\n",
       "      <th>197308</th>\n",
       "      <th>194193</th>\n",
       "      <th>194188</th>\n",
       "      <th>199523</th>\n",
       "      <th>199546</th>\n",
       "      <th>201534</th>\n",
       "      <th>204548</th>\n",
       "      <th>204552</th>\n",
       "      <th>209222</th>\n",
       "      <th>209234</th>\n",
       "      <th>209246</th>\n",
       "      <th>209258</th>\n",
       "      <th>222746</th>\n",
       "    </tr>\n",
       "    <tr>\n",
       "      <th>timestamp</th>\n",
       "      <th></th>\n",
       "      <th></th>\n",
       "      <th></th>\n",
       "      <th></th>\n",
       "      <th></th>\n",
       "      <th></th>\n",
       "      <th></th>\n",
       "      <th></th>\n",
       "      <th></th>\n",
       "      <th></th>\n",
       "      <th></th>\n",
       "      <th></th>\n",
       "      <th></th>\n",
       "      <th></th>\n",
       "    </tr>\n",
       "  </thead>\n",
       "  <tbody>\n",
       "    <tr>\n",
       "      <th>2018-02-08 00:00:00+00:00</th>\n",
       "      <td>NaN</td>\n",
       "      <td>NaN</td>\n",
       "      <td>NaN</td>\n",
       "      <td>NaN</td>\n",
       "      <td>NaN</td>\n",
       "      <td>NaN</td>\n",
       "      <td>NaN</td>\n",
       "      <td>NaN</td>\n",
       "      <td>NaN</td>\n",
       "      <td>NaN</td>\n",
       "      <td>NaN</td>\n",
       "      <td>NaN</td>\n",
       "      <td>162.463830</td>\n",
       "      <td>NaN</td>\n",
       "    </tr>\n",
       "    <tr>\n",
       "      <th>2018-02-09 00:00:00+00:00</th>\n",
       "      <td>NaN</td>\n",
       "      <td>NaN</td>\n",
       "      <td>NaN</td>\n",
       "      <td>NaN</td>\n",
       "      <td>NaN</td>\n",
       "      <td>NaN</td>\n",
       "      <td>NaN</td>\n",
       "      <td>NaN</td>\n",
       "      <td>NaN</td>\n",
       "      <td>NaN</td>\n",
       "      <td>NaN</td>\n",
       "      <td>NaN</td>\n",
       "      <td>162.985263</td>\n",
       "      <td>NaN</td>\n",
       "    </tr>\n",
       "    <tr>\n",
       "      <th>2018-02-10 00:00:00+00:00</th>\n",
       "      <td>NaN</td>\n",
       "      <td>NaN</td>\n",
       "      <td>NaN</td>\n",
       "      <td>NaN</td>\n",
       "      <td>NaN</td>\n",
       "      <td>NaN</td>\n",
       "      <td>NaN</td>\n",
       "      <td>NaN</td>\n",
       "      <td>NaN</td>\n",
       "      <td>NaN</td>\n",
       "      <td>NaN</td>\n",
       "      <td>NaN</td>\n",
       "      <td>161.024468</td>\n",
       "      <td>NaN</td>\n",
       "    </tr>\n",
       "    <tr>\n",
       "      <th>2018-02-11 00:00:00+00:00</th>\n",
       "      <td>NaN</td>\n",
       "      <td>NaN</td>\n",
       "      <td>NaN</td>\n",
       "      <td>NaN</td>\n",
       "      <td>NaN</td>\n",
       "      <td>NaN</td>\n",
       "      <td>NaN</td>\n",
       "      <td>NaN</td>\n",
       "      <td>NaN</td>\n",
       "      <td>NaN</td>\n",
       "      <td>NaN</td>\n",
       "      <td>NaN</td>\n",
       "      <td>161.080000</td>\n",
       "      <td>NaN</td>\n",
       "    </tr>\n",
       "    <tr>\n",
       "      <th>2018-02-12 00:00:00+00:00</th>\n",
       "      <td>NaN</td>\n",
       "      <td>NaN</td>\n",
       "      <td>NaN</td>\n",
       "      <td>NaN</td>\n",
       "      <td>NaN</td>\n",
       "      <td>NaN</td>\n",
       "      <td>NaN</td>\n",
       "      <td>NaN</td>\n",
       "      <td>NaN</td>\n",
       "      <td>NaN</td>\n",
       "      <td>NaN</td>\n",
       "      <td>NaN</td>\n",
       "      <td>163.990526</td>\n",
       "      <td>NaN</td>\n",
       "    </tr>\n",
       "    <tr>\n",
       "      <th>...</th>\n",
       "      <td>...</td>\n",
       "      <td>...</td>\n",
       "      <td>...</td>\n",
       "      <td>...</td>\n",
       "      <td>...</td>\n",
       "      <td>...</td>\n",
       "      <td>...</td>\n",
       "      <td>...</td>\n",
       "      <td>...</td>\n",
       "      <td>...</td>\n",
       "      <td>...</td>\n",
       "      <td>...</td>\n",
       "      <td>...</td>\n",
       "      <td>...</td>\n",
       "    </tr>\n",
       "    <tr>\n",
       "      <th>2018-08-27 00:00:00+00:00</th>\n",
       "      <td>NaN</td>\n",
       "      <td>NaN</td>\n",
       "      <td>156.481258</td>\n",
       "      <td>153.756265</td>\n",
       "      <td>79.558333</td>\n",
       "      <td>79.558333</td>\n",
       "      <td>132.984363</td>\n",
       "      <td>NaN</td>\n",
       "      <td>NaN</td>\n",
       "      <td>75.905208</td>\n",
       "      <td>76.330208</td>\n",
       "      <td>75.983333</td>\n",
       "      <td>75.494792</td>\n",
       "      <td>176.190625</td>\n",
       "    </tr>\n",
       "    <tr>\n",
       "      <th>2018-08-28 00:00:00+00:00</th>\n",
       "      <td>NaN</td>\n",
       "      <td>NaN</td>\n",
       "      <td>157.551360</td>\n",
       "      <td>155.229765</td>\n",
       "      <td>81.275000</td>\n",
       "      <td>81.275000</td>\n",
       "      <td>133.014425</td>\n",
       "      <td>NaN</td>\n",
       "      <td>NaN</td>\n",
       "      <td>73.672917</td>\n",
       "      <td>73.811458</td>\n",
       "      <td>72.953125</td>\n",
       "      <td>72.881250</td>\n",
       "      <td>176.242708</td>\n",
       "    </tr>\n",
       "    <tr>\n",
       "      <th>2018-08-29 00:00:00+00:00</th>\n",
       "      <td>NaN</td>\n",
       "      <td>NaN</td>\n",
       "      <td>158.567952</td>\n",
       "      <td>156.667831</td>\n",
       "      <td>83.931250</td>\n",
       "      <td>83.931250</td>\n",
       "      <td>133.038338</td>\n",
       "      <td>NaN</td>\n",
       "      <td>NaN</td>\n",
       "      <td>75.659375</td>\n",
       "      <td>75.918750</td>\n",
       "      <td>75.409375</td>\n",
       "      <td>74.364583</td>\n",
       "      <td>176.731250</td>\n",
       "    </tr>\n",
       "    <tr>\n",
       "      <th>2018-08-30 00:00:00+00:00</th>\n",
       "      <td>NaN</td>\n",
       "      <td>NaN</td>\n",
       "      <td>158.349529</td>\n",
       "      <td>156.142225</td>\n",
       "      <td>83.742708</td>\n",
       "      <td>83.742708</td>\n",
       "      <td>132.616316</td>\n",
       "      <td>NaN</td>\n",
       "      <td>NaN</td>\n",
       "      <td>75.410417</td>\n",
       "      <td>75.609375</td>\n",
       "      <td>74.734375</td>\n",
       "      <td>74.134375</td>\n",
       "      <td>174.040625</td>\n",
       "    </tr>\n",
       "    <tr>\n",
       "      <th>2018-08-31 00:00:00+00:00</th>\n",
       "      <td>NaN</td>\n",
       "      <td>NaN</td>\n",
       "      <td>158.465412</td>\n",
       "      <td>153.883141</td>\n",
       "      <td>81.498958</td>\n",
       "      <td>81.498958</td>\n",
       "      <td>132.503906</td>\n",
       "      <td>NaN</td>\n",
       "      <td>NaN</td>\n",
       "      <td>74.058333</td>\n",
       "      <td>74.321875</td>\n",
       "      <td>73.668750</td>\n",
       "      <td>73.419792</td>\n",
       "      <td>161.293750</td>\n",
       "    </tr>\n",
       "  </tbody>\n",
       "</table>\n",
       "<p>205 rows × 14 columns</p>\n",
       "</div>"
      ],
      "text/plain": [
       "                           197306  197308      194193      194188     199523  \\\n",
       "timestamp                                                                      \n",
       "2018-02-08 00:00:00+00:00     NaN     NaN         NaN         NaN        NaN   \n",
       "2018-02-09 00:00:00+00:00     NaN     NaN         NaN         NaN        NaN   \n",
       "2018-02-10 00:00:00+00:00     NaN     NaN         NaN         NaN        NaN   \n",
       "2018-02-11 00:00:00+00:00     NaN     NaN         NaN         NaN        NaN   \n",
       "2018-02-12 00:00:00+00:00     NaN     NaN         NaN         NaN        NaN   \n",
       "...                           ...     ...         ...         ...        ...   \n",
       "2018-08-27 00:00:00+00:00     NaN     NaN  156.481258  153.756265  79.558333   \n",
       "2018-08-28 00:00:00+00:00     NaN     NaN  157.551360  155.229765  81.275000   \n",
       "2018-08-29 00:00:00+00:00     NaN     NaN  158.567952  156.667831  83.931250   \n",
       "2018-08-30 00:00:00+00:00     NaN     NaN  158.349529  156.142225  83.742708   \n",
       "2018-08-31 00:00:00+00:00     NaN     NaN  158.465412  153.883141  81.498958   \n",
       "\n",
       "                              199546      201534  204548  204552     209222  \\\n",
       "timestamp                                                                     \n",
       "2018-02-08 00:00:00+00:00        NaN         NaN     NaN     NaN        NaN   \n",
       "2018-02-09 00:00:00+00:00        NaN         NaN     NaN     NaN        NaN   \n",
       "2018-02-10 00:00:00+00:00        NaN         NaN     NaN     NaN        NaN   \n",
       "2018-02-11 00:00:00+00:00        NaN         NaN     NaN     NaN        NaN   \n",
       "2018-02-12 00:00:00+00:00        NaN         NaN     NaN     NaN        NaN   \n",
       "...                              ...         ...     ...     ...        ...   \n",
       "2018-08-27 00:00:00+00:00  79.558333  132.984363     NaN     NaN  75.905208   \n",
       "2018-08-28 00:00:00+00:00  81.275000  133.014425     NaN     NaN  73.672917   \n",
       "2018-08-29 00:00:00+00:00  83.931250  133.038338     NaN     NaN  75.659375   \n",
       "2018-08-30 00:00:00+00:00  83.742708  132.616316     NaN     NaN  75.410417   \n",
       "2018-08-31 00:00:00+00:00  81.498958  132.503906     NaN     NaN  74.058333   \n",
       "\n",
       "                              209234     209246      209258      222746  \n",
       "timestamp                                                                \n",
       "2018-02-08 00:00:00+00:00        NaN        NaN  162.463830         NaN  \n",
       "2018-02-09 00:00:00+00:00        NaN        NaN  162.985263         NaN  \n",
       "2018-02-10 00:00:00+00:00        NaN        NaN  161.024468         NaN  \n",
       "2018-02-11 00:00:00+00:00        NaN        NaN  161.080000         NaN  \n",
       "2018-02-12 00:00:00+00:00        NaN        NaN  163.990526         NaN  \n",
       "...                              ...        ...         ...         ...  \n",
       "2018-08-27 00:00:00+00:00  76.330208  75.983333   75.494792  176.190625  \n",
       "2018-08-28 00:00:00+00:00  73.811458  72.953125   72.881250  176.242708  \n",
       "2018-08-29 00:00:00+00:00  75.918750  75.409375   74.364583  176.731250  \n",
       "2018-08-30 00:00:00+00:00  75.609375  74.734375   74.134375  174.040625  \n",
       "2018-08-31 00:00:00+00:00  74.321875  73.668750   73.419792  161.293750  \n",
       "\n",
       "[205 rows x 14 columns]"
      ]
     },
     "execution_count": 55,
     "metadata": {},
     "output_type": "execute_result"
    }
   ],
   "source": [
    "data.resample('D', on=\"timestamp\").mean()"
   ]
  },
  {
   "cell_type": "markdown",
   "id": "3329959a",
   "metadata": {
    "papermill": {
     "duration": 0.093253,
     "end_time": "2022-05-13T16:22:54.934743",
     "exception": false,
     "start_time": "2022-05-13T16:22:54.841490",
     "status": "completed"
    },
    "pycharm": {
     "name": "#%% md\n"
    },
    "tags": []
   },
   "source": [
    "And you can do it with the frequency you want. Let's try 1 Hour (\"H\" is 1 Hour):"
   ]
  },
  {
   "cell_type": "code",
   "execution_count": 56,
   "id": "bfedaa7e",
   "metadata": {
    "execution": {
     "iopub.execute_input": "2022-05-13T16:22:55.128961Z",
     "iopub.status.busy": "2022-05-13T16:22:55.128116Z",
     "iopub.status.idle": "2022-05-13T16:22:55.195772Z",
     "shell.execute_reply": "2022-05-13T16:22:55.194845Z",
     "shell.execute_reply.started": "2022-05-04T01:41:42.776604Z"
    },
    "papermill": {
     "duration": 0.166436,
     "end_time": "2022-05-13T16:22:55.195941",
     "exception": false,
     "start_time": "2022-05-13T16:22:55.029505",
     "status": "completed"
    },
    "pycharm": {
     "name": "#%%\n"
    },
    "tags": []
   },
   "outputs": [
    {
     "data": {
      "text/html": [
       "<div>\n",
       "<style scoped>\n",
       "    .dataframe tbody tr th:only-of-type {\n",
       "        vertical-align: middle;\n",
       "    }\n",
       "\n",
       "    .dataframe tbody tr th {\n",
       "        vertical-align: top;\n",
       "    }\n",
       "\n",
       "    .dataframe thead th {\n",
       "        text-align: right;\n",
       "    }\n",
       "</style>\n",
       "<table border=\"1\" class=\"dataframe\">\n",
       "  <thead>\n",
       "    <tr style=\"text-align: right;\">\n",
       "      <th></th>\n",
       "      <th>197306</th>\n",
       "      <th>197308</th>\n",
       "      <th>194193</th>\n",
       "      <th>194188</th>\n",
       "      <th>199523</th>\n",
       "      <th>199546</th>\n",
       "      <th>201534</th>\n",
       "      <th>204548</th>\n",
       "      <th>204552</th>\n",
       "      <th>209222</th>\n",
       "      <th>209234</th>\n",
       "      <th>209246</th>\n",
       "      <th>209258</th>\n",
       "      <th>222746</th>\n",
       "    </tr>\n",
       "    <tr>\n",
       "      <th>timestamp</th>\n",
       "      <th></th>\n",
       "      <th></th>\n",
       "      <th></th>\n",
       "      <th></th>\n",
       "      <th></th>\n",
       "      <th></th>\n",
       "      <th></th>\n",
       "      <th></th>\n",
       "      <th></th>\n",
       "      <th></th>\n",
       "      <th></th>\n",
       "      <th></th>\n",
       "      <th></th>\n",
       "      <th></th>\n",
       "    </tr>\n",
       "  </thead>\n",
       "  <tbody>\n",
       "    <tr>\n",
       "      <th>2018-02-08 00:00:00+00:00</th>\n",
       "      <td>NaN</td>\n",
       "      <td>NaN</td>\n",
       "      <td>NaN</td>\n",
       "      <td>NaN</td>\n",
       "      <td>NaN</td>\n",
       "      <td>NaN</td>\n",
       "      <td>NaN</td>\n",
       "      <td>NaN</td>\n",
       "      <td>NaN</td>\n",
       "      <td>NaN</td>\n",
       "      <td>NaN</td>\n",
       "      <td>NaN</td>\n",
       "      <td>167.600</td>\n",
       "      <td>NaN</td>\n",
       "    </tr>\n",
       "    <tr>\n",
       "      <th>2018-02-08 01:00:00+00:00</th>\n",
       "      <td>NaN</td>\n",
       "      <td>NaN</td>\n",
       "      <td>NaN</td>\n",
       "      <td>NaN</td>\n",
       "      <td>NaN</td>\n",
       "      <td>NaN</td>\n",
       "      <td>NaN</td>\n",
       "      <td>NaN</td>\n",
       "      <td>NaN</td>\n",
       "      <td>NaN</td>\n",
       "      <td>NaN</td>\n",
       "      <td>NaN</td>\n",
       "      <td>167.650</td>\n",
       "      <td>NaN</td>\n",
       "    </tr>\n",
       "    <tr>\n",
       "      <th>2018-02-08 02:00:00+00:00</th>\n",
       "      <td>NaN</td>\n",
       "      <td>NaN</td>\n",
       "      <td>NaN</td>\n",
       "      <td>NaN</td>\n",
       "      <td>NaN</td>\n",
       "      <td>NaN</td>\n",
       "      <td>NaN</td>\n",
       "      <td>NaN</td>\n",
       "      <td>NaN</td>\n",
       "      <td>NaN</td>\n",
       "      <td>NaN</td>\n",
       "      <td>NaN</td>\n",
       "      <td>166.700</td>\n",
       "      <td>NaN</td>\n",
       "    </tr>\n",
       "    <tr>\n",
       "      <th>2018-02-08 03:00:00+00:00</th>\n",
       "      <td>NaN</td>\n",
       "      <td>NaN</td>\n",
       "      <td>NaN</td>\n",
       "      <td>NaN</td>\n",
       "      <td>NaN</td>\n",
       "      <td>NaN</td>\n",
       "      <td>NaN</td>\n",
       "      <td>NaN</td>\n",
       "      <td>NaN</td>\n",
       "      <td>NaN</td>\n",
       "      <td>NaN</td>\n",
       "      <td>NaN</td>\n",
       "      <td>164.275</td>\n",
       "      <td>NaN</td>\n",
       "    </tr>\n",
       "    <tr>\n",
       "      <th>2018-02-08 04:00:00+00:00</th>\n",
       "      <td>NaN</td>\n",
       "      <td>NaN</td>\n",
       "      <td>NaN</td>\n",
       "      <td>NaN</td>\n",
       "      <td>NaN</td>\n",
       "      <td>NaN</td>\n",
       "      <td>NaN</td>\n",
       "      <td>NaN</td>\n",
       "      <td>NaN</td>\n",
       "      <td>NaN</td>\n",
       "      <td>NaN</td>\n",
       "      <td>NaN</td>\n",
       "      <td>160.250</td>\n",
       "      <td>NaN</td>\n",
       "    </tr>\n",
       "    <tr>\n",
       "      <th>...</th>\n",
       "      <td>...</td>\n",
       "      <td>...</td>\n",
       "      <td>...</td>\n",
       "      <td>...</td>\n",
       "      <td>...</td>\n",
       "      <td>...</td>\n",
       "      <td>...</td>\n",
       "      <td>...</td>\n",
       "      <td>...</td>\n",
       "      <td>...</td>\n",
       "      <td>...</td>\n",
       "      <td>...</td>\n",
       "      <td>...</td>\n",
       "      <td>...</td>\n",
       "    </tr>\n",
       "    <tr>\n",
       "      <th>2018-08-31 19:00:00+00:00</th>\n",
       "      <td>NaN</td>\n",
       "      <td>NaN</td>\n",
       "      <td>158.495331</td>\n",
       "      <td>153.294147</td>\n",
       "      <td>80.275</td>\n",
       "      <td>80.275</td>\n",
       "      <td>132.099331</td>\n",
       "      <td>NaN</td>\n",
       "      <td>NaN</td>\n",
       "      <td>73.100</td>\n",
       "      <td>73.475</td>\n",
       "      <td>73.00</td>\n",
       "      <td>73.000</td>\n",
       "      <td>156.425</td>\n",
       "    </tr>\n",
       "    <tr>\n",
       "      <th>2018-08-31 20:00:00+00:00</th>\n",
       "      <td>NaN</td>\n",
       "      <td>NaN</td>\n",
       "      <td>158.837814</td>\n",
       "      <td>152.552265</td>\n",
       "      <td>80.200</td>\n",
       "      <td>80.200</td>\n",
       "      <td>121.936161</td>\n",
       "      <td>NaN</td>\n",
       "      <td>NaN</td>\n",
       "      <td>73.125</td>\n",
       "      <td>73.500</td>\n",
       "      <td>73.00</td>\n",
       "      <td>73.050</td>\n",
       "      <td>159.600</td>\n",
       "    </tr>\n",
       "    <tr>\n",
       "      <th>2018-08-31 21:00:00+00:00</th>\n",
       "      <td>NaN</td>\n",
       "      <td>NaN</td>\n",
       "      <td>162.131569</td>\n",
       "      <td>155.718674</td>\n",
       "      <td>80.200</td>\n",
       "      <td>80.200</td>\n",
       "      <td>142.263313</td>\n",
       "      <td>NaN</td>\n",
       "      <td>NaN</td>\n",
       "      <td>73.200</td>\n",
       "      <td>73.500</td>\n",
       "      <td>73.00</td>\n",
       "      <td>73.000</td>\n",
       "      <td>162.550</td>\n",
       "    </tr>\n",
       "    <tr>\n",
       "      <th>2018-08-31 22:00:00+00:00</th>\n",
       "      <td>NaN</td>\n",
       "      <td>NaN</td>\n",
       "      <td>160.396908</td>\n",
       "      <td>154.242264</td>\n",
       "      <td>80.275</td>\n",
       "      <td>80.275</td>\n",
       "      <td>132.226984</td>\n",
       "      <td>NaN</td>\n",
       "      <td>NaN</td>\n",
       "      <td>73.200</td>\n",
       "      <td>73.525</td>\n",
       "      <td>73.00</td>\n",
       "      <td>73.000</td>\n",
       "      <td>164.800</td>\n",
       "    </tr>\n",
       "    <tr>\n",
       "      <th>2018-08-31 23:00:00+00:00</th>\n",
       "      <td>NaN</td>\n",
       "      <td>NaN</td>\n",
       "      <td>159.154202</td>\n",
       "      <td>152.840221</td>\n",
       "      <td>80.300</td>\n",
       "      <td>80.300</td>\n",
       "      <td>124.965549</td>\n",
       "      <td>NaN</td>\n",
       "      <td>NaN</td>\n",
       "      <td>73.125</td>\n",
       "      <td>73.450</td>\n",
       "      <td>72.95</td>\n",
       "      <td>73.000</td>\n",
       "      <td>166.200</td>\n",
       "    </tr>\n",
       "  </tbody>\n",
       "</table>\n",
       "<p>4920 rows × 14 columns</p>\n",
       "</div>"
      ],
      "text/plain": [
       "                           197306  197308      194193      194188  199523  \\\n",
       "timestamp                                                                   \n",
       "2018-02-08 00:00:00+00:00     NaN     NaN         NaN         NaN     NaN   \n",
       "2018-02-08 01:00:00+00:00     NaN     NaN         NaN         NaN     NaN   \n",
       "2018-02-08 02:00:00+00:00     NaN     NaN         NaN         NaN     NaN   \n",
       "2018-02-08 03:00:00+00:00     NaN     NaN         NaN         NaN     NaN   \n",
       "2018-02-08 04:00:00+00:00     NaN     NaN         NaN         NaN     NaN   \n",
       "...                           ...     ...         ...         ...     ...   \n",
       "2018-08-31 19:00:00+00:00     NaN     NaN  158.495331  153.294147  80.275   \n",
       "2018-08-31 20:00:00+00:00     NaN     NaN  158.837814  152.552265  80.200   \n",
       "2018-08-31 21:00:00+00:00     NaN     NaN  162.131569  155.718674  80.200   \n",
       "2018-08-31 22:00:00+00:00     NaN     NaN  160.396908  154.242264  80.275   \n",
       "2018-08-31 23:00:00+00:00     NaN     NaN  159.154202  152.840221  80.300   \n",
       "\n",
       "                           199546      201534  204548  204552  209222  209234  \\\n",
       "timestamp                                                                       \n",
       "2018-02-08 00:00:00+00:00     NaN         NaN     NaN     NaN     NaN     NaN   \n",
       "2018-02-08 01:00:00+00:00     NaN         NaN     NaN     NaN     NaN     NaN   \n",
       "2018-02-08 02:00:00+00:00     NaN         NaN     NaN     NaN     NaN     NaN   \n",
       "2018-02-08 03:00:00+00:00     NaN         NaN     NaN     NaN     NaN     NaN   \n",
       "2018-02-08 04:00:00+00:00     NaN         NaN     NaN     NaN     NaN     NaN   \n",
       "...                           ...         ...     ...     ...     ...     ...   \n",
       "2018-08-31 19:00:00+00:00  80.275  132.099331     NaN     NaN  73.100  73.475   \n",
       "2018-08-31 20:00:00+00:00  80.200  121.936161     NaN     NaN  73.125  73.500   \n",
       "2018-08-31 21:00:00+00:00  80.200  142.263313     NaN     NaN  73.200  73.500   \n",
       "2018-08-31 22:00:00+00:00  80.275  132.226984     NaN     NaN  73.200  73.525   \n",
       "2018-08-31 23:00:00+00:00  80.300  124.965549     NaN     NaN  73.125  73.450   \n",
       "\n",
       "                           209246   209258   222746  \n",
       "timestamp                                            \n",
       "2018-02-08 00:00:00+00:00     NaN  167.600      NaN  \n",
       "2018-02-08 01:00:00+00:00     NaN  167.650      NaN  \n",
       "2018-02-08 02:00:00+00:00     NaN  166.700      NaN  \n",
       "2018-02-08 03:00:00+00:00     NaN  164.275      NaN  \n",
       "2018-02-08 04:00:00+00:00     NaN  160.250      NaN  \n",
       "...                           ...      ...      ...  \n",
       "2018-08-31 19:00:00+00:00   73.00   73.000  156.425  \n",
       "2018-08-31 20:00:00+00:00   73.00   73.050  159.600  \n",
       "2018-08-31 21:00:00+00:00   73.00   73.000  162.550  \n",
       "2018-08-31 22:00:00+00:00   73.00   73.000  164.800  \n",
       "2018-08-31 23:00:00+00:00   72.95   73.000  166.200  \n",
       "\n",
       "[4920 rows x 14 columns]"
      ]
     },
     "execution_count": 56,
     "metadata": {},
     "output_type": "execute_result"
    }
   ],
   "source": [
    "data.resample('H', on=\"timestamp\").mean()"
   ]
  },
  {
   "cell_type": "markdown",
   "id": "45738485",
   "metadata": {
    "papermill": {
     "duration": 0.096668,
     "end_time": "2022-05-13T16:22:55.389462",
     "exception": false,
     "start_time": "2022-05-13T16:22:55.292794",
     "status": "completed"
    },
    "pycharm": {
     "name": "#%% md\n"
    },
    "tags": []
   },
   "source": [
    "That weird \"T\" -that means \"minutes\"- is an [offset alias. You can check all of them out here](https://pandas.pydata.org/pandas-docs/stable/user_guide/timeseries.html#offset-aliases)."
   ]
  },
  {
   "cell_type": "markdown",
   "id": "df3980c5",
   "metadata": {
    "papermill": {
     "duration": 0.094943,
     "end_time": "2022-05-13T16:22:55.581466",
     "exception": false,
     "start_time": "2022-05-13T16:22:55.486523",
     "status": "completed"
    },
    "pycharm": {
     "name": "#%% md\n"
    },
    "tags": []
   },
   "source": [
    "# Plotting"
   ]
  },
  {
   "cell_type": "markdown",
   "id": "427256c1",
   "metadata": {
    "papermill": {
     "duration": 0.095185,
     "end_time": "2022-05-13T16:22:55.771249",
     "exception": false,
     "start_time": "2022-05-13T16:22:55.676064",
     "status": "completed"
    },
    "pycharm": {
     "name": "#%% md\n"
    },
    "tags": []
   },
   "source": [
    "## Lineplots"
   ]
  },
  {
   "cell_type": "markdown",
   "id": "15c28e16",
   "metadata": {
    "papermill": {
     "duration": 0.09358,
     "end_time": "2022-05-13T16:22:55.959764",
     "exception": false,
     "start_time": "2022-05-13T16:22:55.866184",
     "status": "completed"
    },
    "pycharm": {
     "name": "#%% md\n"
    },
    "tags": []
   },
   "source": [
    "We are going to explore our sensors data with some simple lineplots. We are going to use [*Seaborn*](https://seaborn.pydata.org/) which works on [*Matplotlib*](https://matplotlib.org/stable/users/index.html). Let's import them:"
   ]
  },
  {
   "cell_type": "code",
   "execution_count": 54,
   "id": "46bb47a0",
   "metadata": {
    "execution": {
     "iopub.execute_input": "2022-05-13T16:22:56.153675Z",
     "iopub.status.busy": "2022-05-13T16:22:56.152975Z",
     "iopub.status.idle": "2022-05-13T16:22:57.248874Z",
     "shell.execute_reply": "2022-05-13T16:22:57.248223Z",
     "shell.execute_reply.started": "2022-05-04T01:42:32.937647Z"
    },
    "papermill": {
     "duration": 1.193547,
     "end_time": "2022-05-13T16:22:57.249024",
     "exception": false,
     "start_time": "2022-05-13T16:22:56.055477",
     "status": "completed"
    },
    "pycharm": {
     "name": "#%%\n"
    },
    "tags": []
   },
   "outputs": [],
   "source": [
    "import matplotlib.pyplot as plt\n",
    "import seaborn as sns\n",
    "\n",
    "# This is for the visual stype, I like \"ggplot\"\n",
    "plt.style.use('ggplot')\n",
    "\n",
    "# This for the figure size\n",
    "plt.rcParams[\"figure.figsize\"] = (20,9)"
   ]
  },
  {
   "cell_type": "markdown",
   "id": "15ab204d",
   "metadata": {
    "papermill": {
     "duration": 0.09379,
     "end_time": "2022-05-13T16:22:57.437838",
     "exception": false,
     "start_time": "2022-05-13T16:22:57.344048",
     "status": "completed"
    },
    "pycharm": {
     "name": "#%% md\n"
    },
    "tags": []
   },
   "source": [
    "Let's plot the raw data of our sensors:"
   ]
  },
  {
   "cell_type": "code",
   "execution_count": 55,
   "id": "be30d763",
   "metadata": {
    "execution": {
     "iopub.execute_input": "2022-05-13T16:22:57.631622Z",
     "iopub.status.busy": "2022-05-13T16:22:57.630939Z",
     "iopub.status.idle": "2022-05-13T16:22:57.634422Z",
     "shell.execute_reply": "2022-05-13T16:22:57.634896Z",
     "shell.execute_reply.started": "2022-05-04T01:42:36.073616Z"
    },
    "papermill": {
     "duration": 0.103375,
     "end_time": "2022-05-13T16:22:57.635075",
     "exception": false,
     "start_time": "2022-05-13T16:22:57.531700",
     "status": "completed"
    },
    "pycharm": {
     "name": "#%%\n"
    },
    "tags": []
   },
   "outputs": [
    {
     "data": {
      "text/plain": "Index([414713, 414721, 216816, 414694, 216834, 414666], dtype='object')"
     },
     "execution_count": 55,
     "metadata": {},
     "output_type": "execute_result"
    }
   ],
   "source": [
    "# These are the sensors, one per column (first one is the timestamp)\n",
    "cols = data_DSP.columns[1:]\n",
    "cols"
   ]
  },
  {
   "cell_type": "code",
   "execution_count": 57,
   "id": "93df1c71",
   "metadata": {
    "execution": {
     "iopub.execute_input": "2022-05-13T16:22:57.833471Z",
     "iopub.status.busy": "2022-05-13T16:22:57.831674Z",
     "iopub.status.idle": "2022-05-13T16:23:51.611801Z",
     "shell.execute_reply": "2022-05-13T16:23:51.612321Z",
     "shell.execute_reply.started": "2022-05-04T01:42:52.660512Z"
    },
    "papermill": {
     "duration": 53.881976,
     "end_time": "2022-05-13T16:23:51.612519",
     "exception": false,
     "start_time": "2022-05-13T16:22:57.730543",
     "status": "completed"
    },
    "pycharm": {
     "name": "#%%\n"
    },
    "tags": []
   },
   "outputs": [
    {
     "name": "stderr",
     "output_type": "stream",
     "text": [
      "\n",
      "KeyboardInterrupt\n",
      "\n"
     ]
    },
    {
     "name": "stdout",
     "output_type": "stream",
     "text": [
      "Error in callback <function flush_figures at 0x00000246BD70BCA0> (for post_execute):\n"
     ]
    },
    {
     "name": "stderr",
     "output_type": "stream",
     "text": [
      "\n",
      "KeyboardInterrupt\n",
      "\n"
     ]
    }
   ],
   "source": [
    "for col in cols:\n",
    "    plt.figure()\n",
    "    sns.lineplot(data=data_DSP, x=\"timestamp\", y=col)"
   ]
  },
  {
   "cell_type": "markdown",
   "id": "5bcc5e26",
   "metadata": {
    "papermill": {
     "duration": 0.102889,
     "end_time": "2022-05-13T16:23:51.816830",
     "exception": false,
     "start_time": "2022-05-13T16:23:51.713941",
     "status": "completed"
    },
    "pycharm": {
     "name": "#%% md\n"
    },
    "tags": []
   },
   "source": [
    "We have a huge gap with no data and the rest it's noisy and difficult to see. Let's filter data from september 1st 2017:"
   ]
  },
  {
   "cell_type": "code",
   "execution_count": 45,
   "id": "3bfd92c4",
   "metadata": {
    "execution": {
     "iopub.execute_input": "2022-05-13T16:23:52.026173Z",
     "iopub.status.busy": "2022-05-13T16:23:52.024830Z",
     "iopub.status.idle": "2022-05-13T16:23:52.035859Z",
     "shell.execute_reply": "2022-05-13T16:23:52.035257Z",
     "shell.execute_reply.started": "2022-05-04T01:45:24.249887Z"
    },
    "papermill": {
     "duration": 0.119209,
     "end_time": "2022-05-13T16:23:52.036007",
     "exception": false,
     "start_time": "2022-05-13T16:23:51.916798",
     "status": "completed"
    },
    "pycharm": {
     "name": "#%%\n"
    },
    "tags": []
   },
   "outputs": [],
   "source": [
    "data = data[data.timestamp >= \"2017-09-01\"]"
   ]
  },
  {
   "cell_type": "markdown",
   "id": "d3fe734e",
   "metadata": {
    "papermill": {
     "duration": 0.098121,
     "end_time": "2022-05-13T16:23:52.237013",
     "exception": false,
     "start_time": "2022-05-13T16:23:52.138892",
     "status": "completed"
    },
    "pycharm": {
     "name": "#%% md\n"
    },
    "tags": []
   },
   "source": [
    "One useful technique to deal with noisy data is to resample it by hour (or a longer time frequency) aggregating by the mean: this way we can visualize the hourly/daily behaviour more smoothed.\n",
    "\n",
    "But first, let's go deeper into our `timestamp` column. This is a datetime column, meaning that we have some functions to handle the dates better. With [this pandas method](https://pandas.pydata.org/docs/reference/api/pandas.Series.dt.html) we can access our date: we can get the date, the weekday, the hour, the seconds, the minutes; all the information in our date can be obtained.\n",
    "\n",
    "Let's try an example. This is our raw timestamp:"
   ]
  },
  {
   "cell_type": "code",
   "execution_count": 46,
   "id": "079d56ce",
   "metadata": {
    "execution": {
     "iopub.execute_input": "2022-05-13T16:23:52.437067Z",
     "iopub.status.busy": "2022-05-13T16:23:52.436161Z",
     "iopub.status.idle": "2022-05-13T16:23:52.443114Z",
     "shell.execute_reply": "2022-05-13T16:23:52.443676Z",
     "shell.execute_reply.started": "2022-05-04T01:45:26.983864Z"
    },
    "papermill": {
     "duration": 0.109081,
     "end_time": "2022-05-13T16:23:52.443855",
     "exception": false,
     "start_time": "2022-05-13T16:23:52.334774",
     "status": "completed"
    },
    "pycharm": {
     "name": "#%%\n"
    },
    "tags": []
   },
   "outputs": [
    {
     "data": {
      "text/plain": [
       "5715    2017-09-01 04:00:00+00:00\n",
       "5716    2017-09-01 04:15:00+00:00\n",
       "5717    2017-09-01 04:30:00+00:00\n",
       "5718    2017-09-01 04:45:00+00:00\n",
       "5719    2017-09-01 05:00:00+00:00\n",
       "                   ...           \n",
       "19222   2018-01-19 22:45:00+00:00\n",
       "19223   2018-01-19 23:00:00+00:00\n",
       "19224   2018-01-19 23:15:00+00:00\n",
       "19225   2018-01-19 23:30:00+00:00\n",
       "19226   2018-01-19 23:45:00+00:00\n",
       "Name: timestamp, Length: 13512, dtype: datetime64[ns, UTC]"
      ]
     },
     "execution_count": 46,
     "metadata": {},
     "output_type": "execute_result"
    }
   ],
   "source": [
    "data.timestamp"
   ]
  },
  {
   "cell_type": "markdown",
   "id": "aa4c5f3d",
   "metadata": {
    "papermill": {
     "duration": 0.099134,
     "end_time": "2022-05-13T16:23:52.642493",
     "exception": false,
     "start_time": "2022-05-13T16:23:52.543359",
     "status": "completed"
    },
    "pycharm": {
     "name": "#%% md\n"
    },
    "tags": []
   },
   "source": [
    "We can get the date:"
   ]
  },
  {
   "cell_type": "code",
   "execution_count": 47,
   "id": "6053bf87",
   "metadata": {
    "execution": {
     "iopub.execute_input": "2022-05-13T16:23:52.848468Z",
     "iopub.status.busy": "2022-05-13T16:23:52.847689Z",
     "iopub.status.idle": "2022-05-13T16:23:52.863160Z",
     "shell.execute_reply": "2022-05-13T16:23:52.863681Z",
     "shell.execute_reply.started": "2022-05-04T01:45:37.420565Z"
    },
    "papermill": {
     "duration": 0.121296,
     "end_time": "2022-05-13T16:23:52.863872",
     "exception": false,
     "start_time": "2022-05-13T16:23:52.742576",
     "status": "completed"
    },
    "pycharm": {
     "name": "#%%\n"
    },
    "tags": []
   },
   "outputs": [
    {
     "data": {
      "text/plain": [
       "5715     2017-09-01\n",
       "5716     2017-09-01\n",
       "5717     2017-09-01\n",
       "5718     2017-09-01\n",
       "5719     2017-09-01\n",
       "            ...    \n",
       "19222    2018-01-19\n",
       "19223    2018-01-19\n",
       "19224    2018-01-19\n",
       "19225    2018-01-19\n",
       "19226    2018-01-19\n",
       "Name: timestamp, Length: 13512, dtype: object"
      ]
     },
     "execution_count": 47,
     "metadata": {},
     "output_type": "execute_result"
    }
   ],
   "source": [
    "data.timestamp.dt.date"
   ]
  },
  {
   "cell_type": "markdown",
   "id": "d06cf367",
   "metadata": {
    "papermill": {
     "duration": 0.100561,
     "end_time": "2022-05-13T16:23:53.064695",
     "exception": false,
     "start_time": "2022-05-13T16:23:52.964134",
     "status": "completed"
    },
    "pycharm": {
     "name": "#%% md\n"
    },
    "tags": []
   },
   "source": [
    "Even the he day of the week (with Monday=0, Sunday=6)"
   ]
  },
  {
   "cell_type": "code",
   "execution_count": 48,
   "id": "76a32ae7",
   "metadata": {
    "execution": {
     "iopub.execute_input": "2022-05-13T16:23:53.269188Z",
     "iopub.status.busy": "2022-05-13T16:23:53.268172Z",
     "iopub.status.idle": "2022-05-13T16:23:53.277062Z",
     "shell.execute_reply": "2022-05-13T16:23:53.277580Z",
     "shell.execute_reply.started": "2022-05-04T01:45:59.585197Z"
    },
    "papermill": {
     "duration": 0.111731,
     "end_time": "2022-05-13T16:23:53.277774",
     "exception": false,
     "start_time": "2022-05-13T16:23:53.166043",
     "status": "completed"
    },
    "pycharm": {
     "name": "#%%\n"
    },
    "tags": []
   },
   "outputs": [
    {
     "data": {
      "text/plain": [
       "5715     4\n",
       "5716     4\n",
       "5717     4\n",
       "5718     4\n",
       "5719     4\n",
       "        ..\n",
       "19222    4\n",
       "19223    4\n",
       "19224    4\n",
       "19225    4\n",
       "19226    4\n",
       "Name: timestamp, Length: 13512, dtype: int64"
      ]
     },
     "execution_count": 48,
     "metadata": {},
     "output_type": "execute_result"
    }
   ],
   "source": [
    "data.timestamp.dt.weekday"
   ]
  },
  {
   "cell_type": "markdown",
   "id": "9b9d61aa",
   "metadata": {
    "papermill": {
     "duration": 0.100451,
     "end_time": "2022-05-13T16:23:53.482270",
     "exception": false,
     "start_time": "2022-05-13T16:23:53.381819",
     "status": "completed"
    },
    "pycharm": {
     "name": "#%% md\n"
    },
    "tags": []
   },
   "source": [
    "The hour"
   ]
  },
  {
   "cell_type": "code",
   "execution_count": 49,
   "id": "e7e9858f",
   "metadata": {
    "execution": {
     "iopub.execute_input": "2022-05-13T16:23:53.688312Z",
     "iopub.status.busy": "2022-05-13T16:23:53.687301Z",
     "iopub.status.idle": "2022-05-13T16:23:53.696649Z",
     "shell.execute_reply": "2022-05-13T16:23:53.697196Z",
     "shell.execute_reply.started": "2022-05-04T01:46:22.066125Z"
    },
    "papermill": {
     "duration": 0.114989,
     "end_time": "2022-05-13T16:23:53.697368",
     "exception": false,
     "start_time": "2022-05-13T16:23:53.582379",
     "status": "completed"
    },
    "pycharm": {
     "name": "#%%\n"
    },
    "tags": []
   },
   "outputs": [
    {
     "data": {
      "text/plain": [
       "5715      4\n",
       "5716      4\n",
       "5717      4\n",
       "5718      4\n",
       "5719      5\n",
       "         ..\n",
       "19222    22\n",
       "19223    23\n",
       "19224    23\n",
       "19225    23\n",
       "19226    23\n",
       "Name: timestamp, Length: 13512, dtype: int64"
      ]
     },
     "execution_count": 49,
     "metadata": {},
     "output_type": "execute_result"
    }
   ],
   "source": [
    "data.timestamp.dt.hour"
   ]
  },
  {
   "cell_type": "markdown",
   "id": "c1e8a403",
   "metadata": {
    "papermill": {
     "duration": 0.100088,
     "end_time": "2022-05-13T16:23:53.899185",
     "exception": false,
     "start_time": "2022-05-13T16:23:53.799097",
     "status": "completed"
    },
    "pycharm": {
     "name": "#%% md\n"
    },
    "tags": []
   },
   "source": [
    "Or the minutes"
   ]
  },
  {
   "cell_type": "code",
   "execution_count": 50,
   "id": "787669d2",
   "metadata": {
    "execution": {
     "iopub.execute_input": "2022-05-13T16:23:54.113142Z",
     "iopub.status.busy": "2022-05-13T16:23:54.111993Z",
     "iopub.status.idle": "2022-05-13T16:23:54.119958Z",
     "shell.execute_reply": "2022-05-13T16:23:54.119265Z",
     "shell.execute_reply.started": "2022-05-04T01:46:36.803123Z"
    },
    "papermill": {
     "duration": 0.115875,
     "end_time": "2022-05-13T16:23:54.120164",
     "exception": false,
     "start_time": "2022-05-13T16:23:54.004289",
     "status": "completed"
    },
    "pycharm": {
     "name": "#%%\n"
    },
    "tags": []
   },
   "outputs": [
    {
     "data": {
      "text/plain": [
       "5715      0\n",
       "5716     15\n",
       "5717     30\n",
       "5718     45\n",
       "5719      0\n",
       "         ..\n",
       "19222    45\n",
       "19223     0\n",
       "19224    15\n",
       "19225    30\n",
       "19226    45\n",
       "Name: timestamp, Length: 13512, dtype: int64"
      ]
     },
     "execution_count": 50,
     "metadata": {},
     "output_type": "execute_result"
    }
   ],
   "source": [
    "data.timestamp.dt.minute"
   ]
  },
  {
   "cell_type": "markdown",
   "id": "7b328811",
   "metadata": {
    "papermill": {
     "duration": 0.105539,
     "end_time": "2022-05-13T16:23:54.328201",
     "exception": false,
     "start_time": "2022-05-13T16:23:54.222662",
     "status": "completed"
    },
    "pycharm": {
     "name": "#%% md\n"
    },
    "tags": []
   },
   "source": [
    "Pretty simple! You have all the datetime information handy.\n",
    "\n",
    "Now let's smooth the data to plot it!"
   ]
  },
  {
   "cell_type": "code",
   "execution_count": 51,
   "id": "8c5bdb3c",
   "metadata": {
    "execution": {
     "iopub.execute_input": "2022-05-13T16:23:54.545345Z",
     "iopub.status.busy": "2022-05-13T16:23:54.544295Z",
     "iopub.status.idle": "2022-05-13T16:23:54.584472Z",
     "shell.execute_reply": "2022-05-13T16:23:54.584954Z",
     "shell.execute_reply.started": "2022-05-04T01:46:45.366001Z"
    },
    "papermill": {
     "duration": 0.153491,
     "end_time": "2022-05-13T16:23:54.585138",
     "exception": false,
     "start_time": "2022-05-13T16:23:54.431647",
     "status": "completed"
    },
    "pycharm": {
     "name": "#%%\n"
    },
    "tags": []
   },
   "outputs": [
    {
     "data": {
      "text/html": [
       "<div>\n",
       "<style scoped>\n",
       "    .dataframe tbody tr th:only-of-type {\n",
       "        vertical-align: middle;\n",
       "    }\n",
       "\n",
       "    .dataframe tbody tr th {\n",
       "        vertical-align: top;\n",
       "    }\n",
       "\n",
       "    .dataframe thead th {\n",
       "        text-align: right;\n",
       "    }\n",
       "</style>\n",
       "<table border=\"1\" class=\"dataframe\">\n",
       "  <thead>\n",
       "    <tr style=\"text-align: right;\">\n",
       "      <th></th>\n",
       "      <th>283207</th>\n",
       "      <th>283209</th>\n",
       "      <th>283211</th>\n",
       "      <th>283214</th>\n",
       "      <th>283216</th>\n",
       "      <th>191413</th>\n",
       "      <th>191426</th>\n",
       "      <th>191439</th>\n",
       "      <th>191452</th>\n",
       "      <th>191465</th>\n",
       "      <th>...</th>\n",
       "      <th>196519</th>\n",
       "      <th>196536</th>\n",
       "      <th>196551</th>\n",
       "      <th>196567</th>\n",
       "      <th>196584</th>\n",
       "      <th>196602</th>\n",
       "      <th>196620</th>\n",
       "      <th>196638</th>\n",
       "      <th>196654</th>\n",
       "      <th>196674</th>\n",
       "    </tr>\n",
       "    <tr>\n",
       "      <th>timestamp</th>\n",
       "      <th></th>\n",
       "      <th></th>\n",
       "      <th></th>\n",
       "      <th></th>\n",
       "      <th></th>\n",
       "      <th></th>\n",
       "      <th></th>\n",
       "      <th></th>\n",
       "      <th></th>\n",
       "      <th></th>\n",
       "      <th></th>\n",
       "      <th></th>\n",
       "      <th></th>\n",
       "      <th></th>\n",
       "      <th></th>\n",
       "      <th></th>\n",
       "      <th></th>\n",
       "      <th></th>\n",
       "      <th></th>\n",
       "      <th></th>\n",
       "      <th></th>\n",
       "    </tr>\n",
       "  </thead>\n",
       "  <tbody>\n",
       "    <tr>\n",
       "      <th>2017-09-01 04:00:00+00:00</th>\n",
       "      <td>NaN</td>\n",
       "      <td>NaN</td>\n",
       "      <td>NaN</td>\n",
       "      <td>NaN</td>\n",
       "      <td>NaN</td>\n",
       "      <td>71.275</td>\n",
       "      <td>71.250</td>\n",
       "      <td>71.225</td>\n",
       "      <td>79.000</td>\n",
       "      <td>70.025</td>\n",
       "      <td>...</td>\n",
       "      <td>NaN</td>\n",
       "      <td>NaN</td>\n",
       "      <td>NaN</td>\n",
       "      <td>NaN</td>\n",
       "      <td>NaN</td>\n",
       "      <td>NaN</td>\n",
       "      <td>NaN</td>\n",
       "      <td>NaN</td>\n",
       "      <td>NaN</td>\n",
       "      <td>NaN</td>\n",
       "    </tr>\n",
       "    <tr>\n",
       "      <th>2017-09-01 05:00:00+00:00</th>\n",
       "      <td>NaN</td>\n",
       "      <td>NaN</td>\n",
       "      <td>NaN</td>\n",
       "      <td>NaN</td>\n",
       "      <td>NaN</td>\n",
       "      <td>71.375</td>\n",
       "      <td>71.350</td>\n",
       "      <td>71.350</td>\n",
       "      <td>79.000</td>\n",
       "      <td>70.075</td>\n",
       "      <td>...</td>\n",
       "      <td>NaN</td>\n",
       "      <td>NaN</td>\n",
       "      <td>NaN</td>\n",
       "      <td>NaN</td>\n",
       "      <td>NaN</td>\n",
       "      <td>NaN</td>\n",
       "      <td>NaN</td>\n",
       "      <td>NaN</td>\n",
       "      <td>NaN</td>\n",
       "      <td>NaN</td>\n",
       "    </tr>\n",
       "    <tr>\n",
       "      <th>2017-09-01 06:00:00+00:00</th>\n",
       "      <td>NaN</td>\n",
       "      <td>NaN</td>\n",
       "      <td>NaN</td>\n",
       "      <td>NaN</td>\n",
       "      <td>NaN</td>\n",
       "      <td>71.550</td>\n",
       "      <td>71.550</td>\n",
       "      <td>71.550</td>\n",
       "      <td>79.150</td>\n",
       "      <td>70.125</td>\n",
       "      <td>...</td>\n",
       "      <td>NaN</td>\n",
       "      <td>NaN</td>\n",
       "      <td>NaN</td>\n",
       "      <td>NaN</td>\n",
       "      <td>NaN</td>\n",
       "      <td>NaN</td>\n",
       "      <td>NaN</td>\n",
       "      <td>NaN</td>\n",
       "      <td>NaN</td>\n",
       "      <td>NaN</td>\n",
       "    </tr>\n",
       "    <tr>\n",
       "      <th>2017-09-01 07:00:00+00:00</th>\n",
       "      <td>NaN</td>\n",
       "      <td>NaN</td>\n",
       "      <td>NaN</td>\n",
       "      <td>NaN</td>\n",
       "      <td>NaN</td>\n",
       "      <td>71.500</td>\n",
       "      <td>71.525</td>\n",
       "      <td>71.525</td>\n",
       "      <td>79.200</td>\n",
       "      <td>70.050</td>\n",
       "      <td>...</td>\n",
       "      <td>NaN</td>\n",
       "      <td>NaN</td>\n",
       "      <td>NaN</td>\n",
       "      <td>NaN</td>\n",
       "      <td>NaN</td>\n",
       "      <td>NaN</td>\n",
       "      <td>NaN</td>\n",
       "      <td>NaN</td>\n",
       "      <td>NaN</td>\n",
       "      <td>NaN</td>\n",
       "    </tr>\n",
       "    <tr>\n",
       "      <th>2017-09-01 08:00:00+00:00</th>\n",
       "      <td>NaN</td>\n",
       "      <td>NaN</td>\n",
       "      <td>NaN</td>\n",
       "      <td>NaN</td>\n",
       "      <td>NaN</td>\n",
       "      <td>71.675</td>\n",
       "      <td>71.675</td>\n",
       "      <td>71.675</td>\n",
       "      <td>79.175</td>\n",
       "      <td>70.100</td>\n",
       "      <td>...</td>\n",
       "      <td>NaN</td>\n",
       "      <td>NaN</td>\n",
       "      <td>NaN</td>\n",
       "      <td>NaN</td>\n",
       "      <td>NaN</td>\n",
       "      <td>NaN</td>\n",
       "      <td>NaN</td>\n",
       "      <td>NaN</td>\n",
       "      <td>NaN</td>\n",
       "      <td>NaN</td>\n",
       "    </tr>\n",
       "  </tbody>\n",
       "</table>\n",
       "<p>5 rows × 167 columns</p>\n",
       "</div>"
      ],
      "text/plain": [
       "                           283207  283209  283211  283214  283216  191413  \\\n",
       "timestamp                                                                   \n",
       "2017-09-01 04:00:00+00:00     NaN     NaN     NaN     NaN     NaN  71.275   \n",
       "2017-09-01 05:00:00+00:00     NaN     NaN     NaN     NaN     NaN  71.375   \n",
       "2017-09-01 06:00:00+00:00     NaN     NaN     NaN     NaN     NaN  71.550   \n",
       "2017-09-01 07:00:00+00:00     NaN     NaN     NaN     NaN     NaN  71.500   \n",
       "2017-09-01 08:00:00+00:00     NaN     NaN     NaN     NaN     NaN  71.675   \n",
       "\n",
       "                           191426  191439  191452  191465  ...  196519  \\\n",
       "timestamp                                                  ...           \n",
       "2017-09-01 04:00:00+00:00  71.250  71.225  79.000  70.025  ...     NaN   \n",
       "2017-09-01 05:00:00+00:00  71.350  71.350  79.000  70.075  ...     NaN   \n",
       "2017-09-01 06:00:00+00:00  71.550  71.550  79.150  70.125  ...     NaN   \n",
       "2017-09-01 07:00:00+00:00  71.525  71.525  79.200  70.050  ...     NaN   \n",
       "2017-09-01 08:00:00+00:00  71.675  71.675  79.175  70.100  ...     NaN   \n",
       "\n",
       "                           196536  196551  196567  196584  196602  196620  \\\n",
       "timestamp                                                                   \n",
       "2017-09-01 04:00:00+00:00     NaN     NaN     NaN     NaN     NaN     NaN   \n",
       "2017-09-01 05:00:00+00:00     NaN     NaN     NaN     NaN     NaN     NaN   \n",
       "2017-09-01 06:00:00+00:00     NaN     NaN     NaN     NaN     NaN     NaN   \n",
       "2017-09-01 07:00:00+00:00     NaN     NaN     NaN     NaN     NaN     NaN   \n",
       "2017-09-01 08:00:00+00:00     NaN     NaN     NaN     NaN     NaN     NaN   \n",
       "\n",
       "                           196638  196654  196674  \n",
       "timestamp                                          \n",
       "2017-09-01 04:00:00+00:00     NaN     NaN     NaN  \n",
       "2017-09-01 05:00:00+00:00     NaN     NaN     NaN  \n",
       "2017-09-01 06:00:00+00:00     NaN     NaN     NaN  \n",
       "2017-09-01 07:00:00+00:00     NaN     NaN     NaN  \n",
       "2017-09-01 08:00:00+00:00     NaN     NaN     NaN  \n",
       "\n",
       "[5 rows x 167 columns]"
      ]
     },
     "execution_count": 51,
     "metadata": {},
     "output_type": "execute_result"
    }
   ],
   "source": [
    "data_hour = data.resample('1H', on=\"timestamp\").mean()\n",
    "data_hour.head()"
   ]
  },
  {
   "cell_type": "markdown",
   "id": "8608e1f4",
   "metadata": {
    "papermill": {
     "duration": 0.107788,
     "end_time": "2022-05-13T16:23:54.797703",
     "exception": false,
     "start_time": "2022-05-13T16:23:54.689915",
     "status": "completed"
    },
    "pycharm": {
     "name": "#%% md\n"
    },
    "tags": []
   },
   "source": [
    "And we have the mean temperature by hour! Plotting it is simple with this data set:"
   ]
  },
  {
   "cell_type": "code",
   "execution_count": 52,
   "id": "b5a5c742",
   "metadata": {
    "execution": {
     "iopub.execute_input": "2022-05-13T16:23:55.014142Z",
     "iopub.status.busy": "2022-05-13T16:23:55.013448Z",
     "iopub.status.idle": "2022-05-13T16:24:10.539974Z",
     "shell.execute_reply": "2022-05-13T16:24:10.540820Z",
     "shell.execute_reply.started": "2022-05-04T01:47:09.071507Z"
    },
    "papermill": {
     "duration": 15.639283,
     "end_time": "2022-05-13T16:24:10.541081",
     "exception": false,
     "start_time": "2022-05-13T16:23:54.901798",
     "status": "completed"
    },
    "pycharm": {
     "name": "#%%\n"
    },
    "tags": []
   },
   "outputs": [
    {
     "data": {
      "text/plain": [
       "<matplotlib.legend.Legend at 0x7fa7ed525df0>"
      ]
     },
     "execution_count": 52,
     "metadata": {},
     "output_type": "execute_result"
    },
    {
     "data": {
      "image/png": "[encoded data removed]",
      "text/plain": [
       "<Figure size 432x288 with 1 Axes>"
      ]
     },
     "metadata": {
      "needs_background": "light"
     },
     "output_type": "display_data"
    }
   ],
   "source": [
    "fig = sns.lineplot(data=data_hour)\n",
    "\n",
    "# This is just for hiding the legend for now, there are a lot of labels and is difficult to see the plot\n",
    "plt.legend([],[], frameon=False)"
   ]
  },
  {
   "cell_type": "markdown",
   "id": "d7aff9f2",
   "metadata": {
    "papermill": {
     "duration": 0.118541,
     "end_time": "2022-05-13T16:24:10.785441",
     "exception": false,
     "start_time": "2022-05-13T16:24:10.666900",
     "status": "completed"
    },
    "pycharm": {
     "name": "#%% md\n"
    },
    "tags": []
   },
   "source": [
    "Let's do it again but daily:"
   ]
  },
  {
   "cell_type": "code",
   "execution_count": 53,
   "id": "b5ad44ab",
   "metadata": {
    "execution": {
     "iopub.execute_input": "2022-05-13T16:24:11.012957Z",
     "iopub.status.busy": "2022-05-13T16:24:11.012259Z",
     "iopub.status.idle": "2022-05-13T16:24:11.051923Z",
     "shell.execute_reply": "2022-05-13T16:24:11.052733Z",
     "shell.execute_reply.started": "2022-05-04T01:47:53.44803Z"
    },
    "papermill": {
     "duration": 0.155209,
     "end_time": "2022-05-13T16:24:11.052979",
     "exception": false,
     "start_time": "2022-05-13T16:24:10.897770",
     "status": "completed"
    },
    "pycharm": {
     "name": "#%%\n"
    },
    "tags": []
   },
   "outputs": [
    {
     "data": {
      "text/html": [
       "<div>\n",
       "<style scoped>\n",
       "    .dataframe tbody tr th:only-of-type {\n",
       "        vertical-align: middle;\n",
       "    }\n",
       "\n",
       "    .dataframe tbody tr th {\n",
       "        vertical-align: top;\n",
       "    }\n",
       "\n",
       "    .dataframe thead th {\n",
       "        text-align: right;\n",
       "    }\n",
       "</style>\n",
       "<table border=\"1\" class=\"dataframe\">\n",
       "  <thead>\n",
       "    <tr style=\"text-align: right;\">\n",
       "      <th></th>\n",
       "      <th>283207</th>\n",
       "      <th>283209</th>\n",
       "      <th>283211</th>\n",
       "      <th>283214</th>\n",
       "      <th>283216</th>\n",
       "      <th>191413</th>\n",
       "      <th>191426</th>\n",
       "      <th>191439</th>\n",
       "      <th>191452</th>\n",
       "      <th>191465</th>\n",
       "      <th>...</th>\n",
       "      <th>196519</th>\n",
       "      <th>196536</th>\n",
       "      <th>196551</th>\n",
       "      <th>196567</th>\n",
       "      <th>196584</th>\n",
       "      <th>196602</th>\n",
       "      <th>196620</th>\n",
       "      <th>196638</th>\n",
       "      <th>196654</th>\n",
       "      <th>196674</th>\n",
       "    </tr>\n",
       "    <tr>\n",
       "      <th>timestamp</th>\n",
       "      <th></th>\n",
       "      <th></th>\n",
       "      <th></th>\n",
       "      <th></th>\n",
       "      <th></th>\n",
       "      <th></th>\n",
       "      <th></th>\n",
       "      <th></th>\n",
       "      <th></th>\n",
       "      <th></th>\n",
       "      <th></th>\n",
       "      <th></th>\n",
       "      <th></th>\n",
       "      <th></th>\n",
       "      <th></th>\n",
       "      <th></th>\n",
       "      <th></th>\n",
       "      <th></th>\n",
       "      <th></th>\n",
       "      <th></th>\n",
       "      <th></th>\n",
       "    </tr>\n",
       "  </thead>\n",
       "  <tbody>\n",
       "    <tr>\n",
       "      <th>2017-09-01 00:00:00+00:00</th>\n",
       "      <td>NaN</td>\n",
       "      <td>NaN</td>\n",
       "      <td>NaN</td>\n",
       "      <td>NaN</td>\n",
       "      <td>NaN</td>\n",
       "      <td>68.651250</td>\n",
       "      <td>68.648750</td>\n",
       "      <td>68.643750</td>\n",
       "      <td>75.121250</td>\n",
       "      <td>69.893750</td>\n",
       "      <td>...</td>\n",
       "      <td>NaN</td>\n",
       "      <td>NaN</td>\n",
       "      <td>NaN</td>\n",
       "      <td>NaN</td>\n",
       "      <td>NaN</td>\n",
       "      <td>NaN</td>\n",
       "      <td>NaN</td>\n",
       "      <td>NaN</td>\n",
       "      <td>NaN</td>\n",
       "      <td>NaN</td>\n",
       "    </tr>\n",
       "    <tr>\n",
       "      <th>2017-09-02 00:00:00+00:00</th>\n",
       "      <td>NaN</td>\n",
       "      <td>NaN</td>\n",
       "      <td>NaN</td>\n",
       "      <td>NaN</td>\n",
       "      <td>NaN</td>\n",
       "      <td>68.393750</td>\n",
       "      <td>68.384375</td>\n",
       "      <td>68.378125</td>\n",
       "      <td>76.897917</td>\n",
       "      <td>69.031250</td>\n",
       "      <td>...</td>\n",
       "      <td>NaN</td>\n",
       "      <td>NaN</td>\n",
       "      <td>NaN</td>\n",
       "      <td>NaN</td>\n",
       "      <td>NaN</td>\n",
       "      <td>NaN</td>\n",
       "      <td>NaN</td>\n",
       "      <td>NaN</td>\n",
       "      <td>NaN</td>\n",
       "      <td>NaN</td>\n",
       "    </tr>\n",
       "    <tr>\n",
       "      <th>2017-09-03 00:00:00+00:00</th>\n",
       "      <td>NaN</td>\n",
       "      <td>NaN</td>\n",
       "      <td>NaN</td>\n",
       "      <td>NaN</td>\n",
       "      <td>NaN</td>\n",
       "      <td>69.672917</td>\n",
       "      <td>69.671875</td>\n",
       "      <td>69.673958</td>\n",
       "      <td>74.426042</td>\n",
       "      <td>68.222917</td>\n",
       "      <td>...</td>\n",
       "      <td>NaN</td>\n",
       "      <td>NaN</td>\n",
       "      <td>NaN</td>\n",
       "      <td>NaN</td>\n",
       "      <td>NaN</td>\n",
       "      <td>NaN</td>\n",
       "      <td>NaN</td>\n",
       "      <td>NaN</td>\n",
       "      <td>NaN</td>\n",
       "      <td>NaN</td>\n",
       "    </tr>\n",
       "    <tr>\n",
       "      <th>2017-09-04 00:00:00+00:00</th>\n",
       "      <td>NaN</td>\n",
       "      <td>NaN</td>\n",
       "      <td>NaN</td>\n",
       "      <td>NaN</td>\n",
       "      <td>NaN</td>\n",
       "      <td>67.663542</td>\n",
       "      <td>67.661458</td>\n",
       "      <td>67.661458</td>\n",
       "      <td>75.207292</td>\n",
       "      <td>68.958333</td>\n",
       "      <td>...</td>\n",
       "      <td>NaN</td>\n",
       "      <td>NaN</td>\n",
       "      <td>NaN</td>\n",
       "      <td>NaN</td>\n",
       "      <td>NaN</td>\n",
       "      <td>NaN</td>\n",
       "      <td>NaN</td>\n",
       "      <td>NaN</td>\n",
       "      <td>NaN</td>\n",
       "      <td>NaN</td>\n",
       "    </tr>\n",
       "    <tr>\n",
       "      <th>2017-09-05 00:00:00+00:00</th>\n",
       "      <td>NaN</td>\n",
       "      <td>NaN</td>\n",
       "      <td>NaN</td>\n",
       "      <td>NaN</td>\n",
       "      <td>NaN</td>\n",
       "      <td>69.519792</td>\n",
       "      <td>69.509375</td>\n",
       "      <td>69.519792</td>\n",
       "      <td>75.462500</td>\n",
       "      <td>69.866667</td>\n",
       "      <td>...</td>\n",
       "      <td>NaN</td>\n",
       "      <td>NaN</td>\n",
       "      <td>NaN</td>\n",
       "      <td>NaN</td>\n",
       "      <td>NaN</td>\n",
       "      <td>NaN</td>\n",
       "      <td>NaN</td>\n",
       "      <td>NaN</td>\n",
       "      <td>NaN</td>\n",
       "      <td>NaN</td>\n",
       "    </tr>\n",
       "  </tbody>\n",
       "</table>\n",
       "<p>5 rows × 167 columns</p>\n",
       "</div>"
      ],
      "text/plain": [
       "                           283207  283209  283211  283214  283216     191413  \\\n",
       "timestamp                                                                      \n",
       "2017-09-01 00:00:00+00:00     NaN     NaN     NaN     NaN     NaN  68.651250   \n",
       "2017-09-02 00:00:00+00:00     NaN     NaN     NaN     NaN     NaN  68.393750   \n",
       "2017-09-03 00:00:00+00:00     NaN     NaN     NaN     NaN     NaN  69.672917   \n",
       "2017-09-04 00:00:00+00:00     NaN     NaN     NaN     NaN     NaN  67.663542   \n",
       "2017-09-05 00:00:00+00:00     NaN     NaN     NaN     NaN     NaN  69.519792   \n",
       "\n",
       "                              191426     191439     191452     191465  ...  \\\n",
       "timestamp                                                              ...   \n",
       "2017-09-01 00:00:00+00:00  68.648750  68.643750  75.121250  69.893750  ...   \n",
       "2017-09-02 00:00:00+00:00  68.384375  68.378125  76.897917  69.031250  ...   \n",
       "2017-09-03 00:00:00+00:00  69.671875  69.673958  74.426042  68.222917  ...   \n",
       "2017-09-04 00:00:00+00:00  67.661458  67.661458  75.207292  68.958333  ...   \n",
       "2017-09-05 00:00:00+00:00  69.509375  69.519792  75.462500  69.866667  ...   \n",
       "\n",
       "                           196519  196536  196551  196567  196584  196602  \\\n",
       "timestamp                                                                   \n",
       "2017-09-01 00:00:00+00:00     NaN     NaN     NaN     NaN     NaN     NaN   \n",
       "2017-09-02 00:00:00+00:00     NaN     NaN     NaN     NaN     NaN     NaN   \n",
       "2017-09-03 00:00:00+00:00     NaN     NaN     NaN     NaN     NaN     NaN   \n",
       "2017-09-04 00:00:00+00:00     NaN     NaN     NaN     NaN     NaN     NaN   \n",
       "2017-09-05 00:00:00+00:00     NaN     NaN     NaN     NaN     NaN     NaN   \n",
       "\n",
       "                           196620  196638  196654  196674  \n",
       "timestamp                                                  \n",
       "2017-09-01 00:00:00+00:00     NaN     NaN     NaN     NaN  \n",
       "2017-09-02 00:00:00+00:00     NaN     NaN     NaN     NaN  \n",
       "2017-09-03 00:00:00+00:00     NaN     NaN     NaN     NaN  \n",
       "2017-09-04 00:00:00+00:00     NaN     NaN     NaN     NaN  \n",
       "2017-09-05 00:00:00+00:00     NaN     NaN     NaN     NaN  \n",
       "\n",
       "[5 rows x 167 columns]"
      ]
     },
     "execution_count": 53,
     "metadata": {},
     "output_type": "execute_result"
    }
   ],
   "source": [
    "data_day = data.resample('24H', on=\"timestamp\").mean()\n",
    "data_day.head()"
   ]
  },
  {
   "cell_type": "code",
   "execution_count": 54,
   "id": "15d36fa1",
   "metadata": {
    "execution": {
     "iopub.execute_input": "2022-05-13T16:24:11.291854Z",
     "iopub.status.busy": "2022-05-13T16:24:11.290903Z",
     "iopub.status.idle": "2022-05-13T16:24:14.588688Z",
     "shell.execute_reply": "2022-05-13T16:24:14.589221Z",
     "shell.execute_reply.started": "2022-05-04T01:48:02.057968Z"
    },
    "papermill": {
     "duration": 3.418508,
     "end_time": "2022-05-13T16:24:14.589412",
     "exception": false,
     "start_time": "2022-05-13T16:24:11.170904",
     "status": "completed"
    },
    "pycharm": {
     "name": "#%%\n"
    },
    "tags": []
   },
   "outputs": [
    {
     "data": {
      "text/plain": [
       "<matplotlib.legend.Legend at 0x7fa7ed51a0a0>"
      ]
     },
     "execution_count": 54,
     "metadata": {},
     "output_type": "execute_result"
    },
    {
     "data": {
      "image/png": "[encoded data removed]",
      "text/plain": [
       "<Figure size 432x288 with 1 Axes>"
      ]
     },
     "metadata": {
      "needs_background": "light"
     },
     "output_type": "display_data"
    }
   ],
   "source": [
    "sns.lineplot(data=data_day)\n",
    "\n",
    "# This is just for hiding the legend for now, there are a lot of labels and is difficult to see the plot\n",
    "plt.legend([],[], frameon=False)"
   ]
  },
  {
   "cell_type": "markdown",
   "id": "b2c71125",
   "metadata": {
    "papermill": {
     "duration": 0.119232,
     "end_time": "2022-05-13T16:24:14.830894",
     "exception": false,
     "start_time": "2022-05-13T16:24:14.711662",
     "status": "completed"
    },
    "pycharm": {
     "name": "#%% md\n"
    },
    "tags": []
   },
   "source": [
    "## Heatmaps"
   ]
  },
  {
   "cell_type": "markdown",
   "id": "04afff72",
   "metadata": {
    "papermill": {
     "duration": 0.120552,
     "end_time": "2022-05-13T16:24:15.076749",
     "exception": false,
     "start_time": "2022-05-13T16:24:14.956197",
     "status": "completed"
    },
    "pycharm": {
     "name": "#%% md\n"
    },
    "tags": []
   },
   "source": [
    "Lineplots are easy but still pretty diffcult to visualize. Instead, we can use [heatmaps](https://seaborn.pydata.org/generated/seaborn.heatmap.html), it's also really easy. Remember you can transpose your data to change the axis, like this:"
   ]
  },
  {
   "cell_type": "code",
   "execution_count": 55,
   "id": "edf15b34",
   "metadata": {
    "execution": {
     "iopub.execute_input": "2022-05-13T16:24:15.327069Z",
     "iopub.status.busy": "2022-05-13T16:24:15.326304Z",
     "iopub.status.idle": "2022-05-13T16:24:15.360740Z",
     "shell.execute_reply": "2022-05-13T16:24:15.361246Z",
     "shell.execute_reply.started": "2022-05-04T01:51:19.784602Z"
    },
    "papermill": {
     "duration": 0.163361,
     "end_time": "2022-05-13T16:24:15.361437",
     "exception": false,
     "start_time": "2022-05-13T16:24:15.198076",
     "status": "completed"
    },
    "pycharm": {
     "name": "#%%\n"
    },
    "tags": []
   },
   "outputs": [
    {
     "data": {
      "text/html": [
       "<div>\n",
       "<style scoped>\n",
       "    .dataframe tbody tr th:only-of-type {\n",
       "        vertical-align: middle;\n",
       "    }\n",
       "\n",
       "    .dataframe tbody tr th {\n",
       "        vertical-align: top;\n",
       "    }\n",
       "\n",
       "    .dataframe thead th {\n",
       "        text-align: right;\n",
       "    }\n",
       "</style>\n",
       "<table border=\"1\" class=\"dataframe\">\n",
       "  <thead>\n",
       "    <tr style=\"text-align: right;\">\n",
       "      <th>timestamp</th>\n",
       "      <th>2017-09-01 04:00:00+00:00</th>\n",
       "      <th>2017-09-01 05:00:00+00:00</th>\n",
       "      <th>2017-09-01 06:00:00+00:00</th>\n",
       "      <th>2017-09-01 07:00:00+00:00</th>\n",
       "      <th>2017-09-01 08:00:00+00:00</th>\n",
       "      <th>2017-09-01 09:00:00+00:00</th>\n",
       "      <th>2017-09-01 10:00:00+00:00</th>\n",
       "      <th>2017-09-01 11:00:00+00:00</th>\n",
       "      <th>2017-09-01 12:00:00+00:00</th>\n",
       "      <th>2017-09-01 13:00:00+00:00</th>\n",
       "      <th>...</th>\n",
       "      <th>2018-01-19 14:00:00+00:00</th>\n",
       "      <th>2018-01-19 15:00:00+00:00</th>\n",
       "      <th>2018-01-19 16:00:00+00:00</th>\n",
       "      <th>2018-01-19 17:00:00+00:00</th>\n",
       "      <th>2018-01-19 18:00:00+00:00</th>\n",
       "      <th>2018-01-19 19:00:00+00:00</th>\n",
       "      <th>2018-01-19 20:00:00+00:00</th>\n",
       "      <th>2018-01-19 21:00:00+00:00</th>\n",
       "      <th>2018-01-19 22:00:00+00:00</th>\n",
       "      <th>2018-01-19 23:00:00+00:00</th>\n",
       "    </tr>\n",
       "  </thead>\n",
       "  <tbody>\n",
       "    <tr>\n",
       "      <th>283207</th>\n",
       "      <td>NaN</td>\n",
       "      <td>NaN</td>\n",
       "      <td>NaN</td>\n",
       "      <td>NaN</td>\n",
       "      <td>NaN</td>\n",
       "      <td>NaN</td>\n",
       "      <td>NaN</td>\n",
       "      <td>NaN</td>\n",
       "      <td>NaN</td>\n",
       "      <td>NaN</td>\n",
       "      <td>...</td>\n",
       "      <td>61.0825</td>\n",
       "      <td>62.1925</td>\n",
       "      <td>62.9100</td>\n",
       "      <td>62.2325</td>\n",
       "      <td>61.2925</td>\n",
       "      <td>61.1775</td>\n",
       "      <td>61.1975</td>\n",
       "      <td>61.1350</td>\n",
       "      <td>61.8475</td>\n",
       "      <td>62.2625</td>\n",
       "    </tr>\n",
       "    <tr>\n",
       "      <th>283209</th>\n",
       "      <td>NaN</td>\n",
       "      <td>NaN</td>\n",
       "      <td>NaN</td>\n",
       "      <td>NaN</td>\n",
       "      <td>NaN</td>\n",
       "      <td>NaN</td>\n",
       "      <td>NaN</td>\n",
       "      <td>NaN</td>\n",
       "      <td>NaN</td>\n",
       "      <td>NaN</td>\n",
       "      <td>...</td>\n",
       "      <td>67.7475</td>\n",
       "      <td>68.2175</td>\n",
       "      <td>68.2925</td>\n",
       "      <td>68.4200</td>\n",
       "      <td>68.3125</td>\n",
       "      <td>68.1775</td>\n",
       "      <td>68.1575</td>\n",
       "      <td>68.2050</td>\n",
       "      <td>68.1075</td>\n",
       "      <td>67.9150</td>\n",
       "    </tr>\n",
       "    <tr>\n",
       "      <th>283211</th>\n",
       "      <td>NaN</td>\n",
       "      <td>NaN</td>\n",
       "      <td>NaN</td>\n",
       "      <td>NaN</td>\n",
       "      <td>NaN</td>\n",
       "      <td>NaN</td>\n",
       "      <td>NaN</td>\n",
       "      <td>NaN</td>\n",
       "      <td>NaN</td>\n",
       "      <td>NaN</td>\n",
       "      <td>...</td>\n",
       "      <td>71.9100</td>\n",
       "      <td>72.3250</td>\n",
       "      <td>72.1400</td>\n",
       "      <td>72.4075</td>\n",
       "      <td>72.7400</td>\n",
       "      <td>72.7675</td>\n",
       "      <td>72.9150</td>\n",
       "      <td>73.0850</td>\n",
       "      <td>72.5725</td>\n",
       "      <td>72.3800</td>\n",
       "    </tr>\n",
       "    <tr>\n",
       "      <th>283214</th>\n",
       "      <td>NaN</td>\n",
       "      <td>NaN</td>\n",
       "      <td>NaN</td>\n",
       "      <td>NaN</td>\n",
       "      <td>NaN</td>\n",
       "      <td>NaN</td>\n",
       "      <td>NaN</td>\n",
       "      <td>NaN</td>\n",
       "      <td>NaN</td>\n",
       "      <td>NaN</td>\n",
       "      <td>...</td>\n",
       "      <td>71.9525</td>\n",
       "      <td>72.1850</td>\n",
       "      <td>71.8925</td>\n",
       "      <td>72.5950</td>\n",
       "      <td>72.3850</td>\n",
       "      <td>72.6175</td>\n",
       "      <td>73.1250</td>\n",
       "      <td>72.8975</td>\n",
       "      <td>72.5175</td>\n",
       "      <td>72.2425</td>\n",
       "    </tr>\n",
       "    <tr>\n",
       "      <th>283216</th>\n",
       "      <td>NaN</td>\n",
       "      <td>NaN</td>\n",
       "      <td>NaN</td>\n",
       "      <td>NaN</td>\n",
       "      <td>NaN</td>\n",
       "      <td>NaN</td>\n",
       "      <td>NaN</td>\n",
       "      <td>NaN</td>\n",
       "      <td>NaN</td>\n",
       "      <td>NaN</td>\n",
       "      <td>...</td>\n",
       "      <td>72.1025</td>\n",
       "      <td>72.2675</td>\n",
       "      <td>71.8575</td>\n",
       "      <td>71.7125</td>\n",
       "      <td>71.9125</td>\n",
       "      <td>72.0425</td>\n",
       "      <td>71.8800</td>\n",
       "      <td>71.8775</td>\n",
       "      <td>71.9100</td>\n",
       "      <td>72.1000</td>\n",
       "    </tr>\n",
       "    <tr>\n",
       "      <th>...</th>\n",
       "      <td>...</td>\n",
       "      <td>...</td>\n",
       "      <td>...</td>\n",
       "      <td>...</td>\n",
       "      <td>...</td>\n",
       "      <td>...</td>\n",
       "      <td>...</td>\n",
       "      <td>...</td>\n",
       "      <td>...</td>\n",
       "      <td>...</td>\n",
       "      <td>...</td>\n",
       "      <td>...</td>\n",
       "      <td>...</td>\n",
       "      <td>...</td>\n",
       "      <td>...</td>\n",
       "      <td>...</td>\n",
       "      <td>...</td>\n",
       "      <td>...</td>\n",
       "      <td>...</td>\n",
       "      <td>...</td>\n",
       "      <td>...</td>\n",
       "    </tr>\n",
       "    <tr>\n",
       "      <th>196602</th>\n",
       "      <td>NaN</td>\n",
       "      <td>NaN</td>\n",
       "      <td>NaN</td>\n",
       "      <td>NaN</td>\n",
       "      <td>NaN</td>\n",
       "      <td>NaN</td>\n",
       "      <td>NaN</td>\n",
       "      <td>NaN</td>\n",
       "      <td>NaN</td>\n",
       "      <td>NaN</td>\n",
       "      <td>...</td>\n",
       "      <td>NaN</td>\n",
       "      <td>NaN</td>\n",
       "      <td>NaN</td>\n",
       "      <td>NaN</td>\n",
       "      <td>NaN</td>\n",
       "      <td>NaN</td>\n",
       "      <td>NaN</td>\n",
       "      <td>NaN</td>\n",
       "      <td>NaN</td>\n",
       "      <td>NaN</td>\n",
       "    </tr>\n",
       "    <tr>\n",
       "      <th>196620</th>\n",
       "      <td>NaN</td>\n",
       "      <td>NaN</td>\n",
       "      <td>NaN</td>\n",
       "      <td>NaN</td>\n",
       "      <td>NaN</td>\n",
       "      <td>NaN</td>\n",
       "      <td>NaN</td>\n",
       "      <td>NaN</td>\n",
       "      <td>NaN</td>\n",
       "      <td>NaN</td>\n",
       "      <td>...</td>\n",
       "      <td>NaN</td>\n",
       "      <td>NaN</td>\n",
       "      <td>NaN</td>\n",
       "      <td>NaN</td>\n",
       "      <td>NaN</td>\n",
       "      <td>NaN</td>\n",
       "      <td>NaN</td>\n",
       "      <td>NaN</td>\n",
       "      <td>NaN</td>\n",
       "      <td>NaN</td>\n",
       "    </tr>\n",
       "    <tr>\n",
       "      <th>196638</th>\n",
       "      <td>NaN</td>\n",
       "      <td>NaN</td>\n",
       "      <td>NaN</td>\n",
       "      <td>NaN</td>\n",
       "      <td>NaN</td>\n",
       "      <td>NaN</td>\n",
       "      <td>NaN</td>\n",
       "      <td>NaN</td>\n",
       "      <td>NaN</td>\n",
       "      <td>NaN</td>\n",
       "      <td>...</td>\n",
       "      <td>NaN</td>\n",
       "      <td>NaN</td>\n",
       "      <td>NaN</td>\n",
       "      <td>NaN</td>\n",
       "      <td>NaN</td>\n",
       "      <td>NaN</td>\n",
       "      <td>NaN</td>\n",
       "      <td>NaN</td>\n",
       "      <td>NaN</td>\n",
       "      <td>NaN</td>\n",
       "    </tr>\n",
       "    <tr>\n",
       "      <th>196654</th>\n",
       "      <td>NaN</td>\n",
       "      <td>NaN</td>\n",
       "      <td>NaN</td>\n",
       "      <td>NaN</td>\n",
       "      <td>NaN</td>\n",
       "      <td>NaN</td>\n",
       "      <td>NaN</td>\n",
       "      <td>NaN</td>\n",
       "      <td>NaN</td>\n",
       "      <td>NaN</td>\n",
       "      <td>...</td>\n",
       "      <td>NaN</td>\n",
       "      <td>NaN</td>\n",
       "      <td>NaN</td>\n",
       "      <td>NaN</td>\n",
       "      <td>NaN</td>\n",
       "      <td>NaN</td>\n",
       "      <td>NaN</td>\n",
       "      <td>NaN</td>\n",
       "      <td>NaN</td>\n",
       "      <td>NaN</td>\n",
       "    </tr>\n",
       "    <tr>\n",
       "      <th>196674</th>\n",
       "      <td>NaN</td>\n",
       "      <td>NaN</td>\n",
       "      <td>NaN</td>\n",
       "      <td>NaN</td>\n",
       "      <td>NaN</td>\n",
       "      <td>NaN</td>\n",
       "      <td>NaN</td>\n",
       "      <td>NaN</td>\n",
       "      <td>NaN</td>\n",
       "      <td>NaN</td>\n",
       "      <td>...</td>\n",
       "      <td>NaN</td>\n",
       "      <td>NaN</td>\n",
       "      <td>NaN</td>\n",
       "      <td>NaN</td>\n",
       "      <td>NaN</td>\n",
       "      <td>NaN</td>\n",
       "      <td>NaN</td>\n",
       "      <td>NaN</td>\n",
       "      <td>NaN</td>\n",
       "      <td>NaN</td>\n",
       "    </tr>\n",
       "  </tbody>\n",
       "</table>\n",
       "<p>167 rows × 3380 columns</p>\n",
       "</div>"
      ],
      "text/plain": [
       "timestamp  2017-09-01 04:00:00+00:00  2017-09-01 05:00:00+00:00  \\\n",
       "283207                           NaN                        NaN   \n",
       "283209                           NaN                        NaN   \n",
       "283211                           NaN                        NaN   \n",
       "283214                           NaN                        NaN   \n",
       "283216                           NaN                        NaN   \n",
       "...                              ...                        ...   \n",
       "196602                           NaN                        NaN   \n",
       "196620                           NaN                        NaN   \n",
       "196638                           NaN                        NaN   \n",
       "196654                           NaN                        NaN   \n",
       "196674                           NaN                        NaN   \n",
       "\n",
       "timestamp  2017-09-01 06:00:00+00:00  2017-09-01 07:00:00+00:00  \\\n",
       "283207                           NaN                        NaN   \n",
       "283209                           NaN                        NaN   \n",
       "283211                           NaN                        NaN   \n",
       "283214                           NaN                        NaN   \n",
       "283216                           NaN                        NaN   \n",
       "...                              ...                        ...   \n",
       "196602                           NaN                        NaN   \n",
       "196620                           NaN                        NaN   \n",
       "196638                           NaN                        NaN   \n",
       "196654                           NaN                        NaN   \n",
       "196674                           NaN                        NaN   \n",
       "\n",
       "timestamp  2017-09-01 08:00:00+00:00  2017-09-01 09:00:00+00:00  \\\n",
       "283207                           NaN                        NaN   \n",
       "283209                           NaN                        NaN   \n",
       "283211                           NaN                        NaN   \n",
       "283214                           NaN                        NaN   \n",
       "283216                           NaN                        NaN   \n",
       "...                              ...                        ...   \n",
       "196602                           NaN                        NaN   \n",
       "196620                           NaN                        NaN   \n",
       "196638                           NaN                        NaN   \n",
       "196654                           NaN                        NaN   \n",
       "196674                           NaN                        NaN   \n",
       "\n",
       "timestamp  2017-09-01 10:00:00+00:00  2017-09-01 11:00:00+00:00  \\\n",
       "283207                           NaN                        NaN   \n",
       "283209                           NaN                        NaN   \n",
       "283211                           NaN                        NaN   \n",
       "283214                           NaN                        NaN   \n",
       "283216                           NaN                        NaN   \n",
       "...                              ...                        ...   \n",
       "196602                           NaN                        NaN   \n",
       "196620                           NaN                        NaN   \n",
       "196638                           NaN                        NaN   \n",
       "196654                           NaN                        NaN   \n",
       "196674                           NaN                        NaN   \n",
       "\n",
       "timestamp  2017-09-01 12:00:00+00:00  2017-09-01 13:00:00+00:00  ...  \\\n",
       "283207                           NaN                        NaN  ...   \n",
       "283209                           NaN                        NaN  ...   \n",
       "283211                           NaN                        NaN  ...   \n",
       "283214                           NaN                        NaN  ...   \n",
       "283216                           NaN                        NaN  ...   \n",
       "...                              ...                        ...  ...   \n",
       "196602                           NaN                        NaN  ...   \n",
       "196620                           NaN                        NaN  ...   \n",
       "196638                           NaN                        NaN  ...   \n",
       "196654                           NaN                        NaN  ...   \n",
       "196674                           NaN                        NaN  ...   \n",
       "\n",
       "timestamp  2018-01-19 14:00:00+00:00  2018-01-19 15:00:00+00:00  \\\n",
       "283207                       61.0825                    62.1925   \n",
       "283209                       67.7475                    68.2175   \n",
       "283211                       71.9100                    72.3250   \n",
       "283214                       71.9525                    72.1850   \n",
       "283216                       72.1025                    72.2675   \n",
       "...                              ...                        ...   \n",
       "196602                           NaN                        NaN   \n",
       "196620                           NaN                        NaN   \n",
       "196638                           NaN                        NaN   \n",
       "196654                           NaN                        NaN   \n",
       "196674                           NaN                        NaN   \n",
       "\n",
       "timestamp  2018-01-19 16:00:00+00:00  2018-01-19 17:00:00+00:00  \\\n",
       "283207                       62.9100                    62.2325   \n",
       "283209                       68.2925                    68.4200   \n",
       "283211                       72.1400                    72.4075   \n",
       "283214                       71.8925                    72.5950   \n",
       "283216                       71.8575                    71.7125   \n",
       "...                              ...                        ...   \n",
       "196602                           NaN                        NaN   \n",
       "196620                           NaN                        NaN   \n",
       "196638                           NaN                        NaN   \n",
       "196654                           NaN                        NaN   \n",
       "196674                           NaN                        NaN   \n",
       "\n",
       "timestamp  2018-01-19 18:00:00+00:00  2018-01-19 19:00:00+00:00  \\\n",
       "283207                       61.2925                    61.1775   \n",
       "283209                       68.3125                    68.1775   \n",
       "283211                       72.7400                    72.7675   \n",
       "283214                       72.3850                    72.6175   \n",
       "283216                       71.9125                    72.0425   \n",
       "...                              ...                        ...   \n",
       "196602                           NaN                        NaN   \n",
       "196620                           NaN                        NaN   \n",
       "196638                           NaN                        NaN   \n",
       "196654                           NaN                        NaN   \n",
       "196674                           NaN                        NaN   \n",
       "\n",
       "timestamp  2018-01-19 20:00:00+00:00  2018-01-19 21:00:00+00:00  \\\n",
       "283207                       61.1975                    61.1350   \n",
       "283209                       68.1575                    68.2050   \n",
       "283211                       72.9150                    73.0850   \n",
       "283214                       73.1250                    72.8975   \n",
       "283216                       71.8800                    71.8775   \n",
       "...                              ...                        ...   \n",
       "196602                           NaN                        NaN   \n",
       "196620                           NaN                        NaN   \n",
       "196638                           NaN                        NaN   \n",
       "196654                           NaN                        NaN   \n",
       "196674                           NaN                        NaN   \n",
       "\n",
       "timestamp  2018-01-19 22:00:00+00:00  2018-01-19 23:00:00+00:00  \n",
       "283207                       61.8475                    62.2625  \n",
       "283209                       68.1075                    67.9150  \n",
       "283211                       72.5725                    72.3800  \n",
       "283214                       72.5175                    72.2425  \n",
       "283216                       71.9100                    72.1000  \n",
       "...                              ...                        ...  \n",
       "196602                           NaN                        NaN  \n",
       "196620                           NaN                        NaN  \n",
       "196638                           NaN                        NaN  \n",
       "196654                           NaN                        NaN  \n",
       "196674                           NaN                        NaN  \n",
       "\n",
       "[167 rows x 3380 columns]"
      ]
     },
     "execution_count": 55,
     "metadata": {},
     "output_type": "execute_result"
    }
   ],
   "source": [
    "data_hour.T"
   ]
  },
  {
   "cell_type": "markdown",
   "id": "29a77ea2",
   "metadata": {
    "papermill": {
     "duration": 0.119451,
     "end_time": "2022-05-13T16:24:15.603660",
     "exception": false,
     "start_time": "2022-05-13T16:24:15.484209",
     "status": "completed"
    },
    "pycharm": {
     "name": "#%% md\n"
    },
    "tags": []
   },
   "source": [
    "And super-easy to plot:"
   ]
  },
  {
   "cell_type": "code",
   "execution_count": 56,
   "id": "fa940bf7",
   "metadata": {
    "execution": {
     "iopub.execute_input": "2022-05-13T16:24:15.849547Z",
     "iopub.status.busy": "2022-05-13T16:24:15.848889Z",
     "iopub.status.idle": "2022-05-13T16:24:19.789280Z",
     "shell.execute_reply": "2022-05-13T16:24:19.789844Z",
     "shell.execute_reply.started": "2022-05-04T01:51:43.026816Z"
    },
    "papermill": {
     "duration": 4.06554,
     "end_time": "2022-05-13T16:24:19.790038",
     "exception": false,
     "start_time": "2022-05-13T16:24:15.724498",
     "status": "completed"
    },
    "pycharm": {
     "name": "#%%\n"
    },
    "tags": []
   },
   "outputs": [
    {
     "data": {
      "text/plain": [
       "<AxesSubplot:xlabel='timestamp'>"
      ]
     },
     "execution_count": 56,
     "metadata": {},
     "output_type": "execute_result"
    },
    {
     "data": {
      "image/png": "[encoded data removed]",
      "text/plain": [
       "<Figure size 432x288 with 2 Axes>"
      ]
     },
     "metadata": {
      "needs_background": "light"
     },
     "output_type": "display_data"
    }
   ],
   "source": [
    "sns.heatmap(data_hour.T, cmap=\"hot_r\")"
   ]
  },
  {
   "cell_type": "code",
   "execution_count": 57,
   "id": "a580d2b1",
   "metadata": {
    "execution": {
     "iopub.execute_input": "2022-05-13T16:24:20.046438Z",
     "iopub.status.busy": "2022-05-13T16:24:20.045747Z",
     "iopub.status.idle": "2022-05-13T16:24:22.643904Z",
     "shell.execute_reply": "2022-05-13T16:24:22.644433Z",
     "shell.execute_reply.started": "2022-05-04T01:53:48.544385Z"
    },
    "papermill": {
     "duration": 2.726684,
     "end_time": "2022-05-13T16:24:22.644628",
     "exception": false,
     "start_time": "2022-05-13T16:24:19.917944",
     "status": "completed"
    },
    "pycharm": {
     "name": "#%%\n"
    },
    "tags": []
   },
   "outputs": [
    {
     "data": {
      "text/plain": [
       "<AxesSubplot:xlabel='timestamp'>"
      ]
     },
     "execution_count": 57,
     "metadata": {},
     "output_type": "execute_result"
    },
    {
     "data": {
      "image/png": "[encoded data removed]",
      "text/plain": [
       "<Figure size 432x288 with 2 Axes>"
      ]
     },
     "metadata": {
      "needs_background": "light"
     },
     "output_type": "display_data"
    }
   ],
   "source": [
    "sns.heatmap(data_day.T, cmap=\"hot_r\")"
   ]
  },
  {
   "cell_type": "markdown",
   "id": "7ddfc458",
   "metadata": {
    "papermill": {
     "duration": 0.132556,
     "end_time": "2022-05-13T16:24:22.906661",
     "exception": false,
     "start_time": "2022-05-13T16:24:22.774105",
     "status": "completed"
    },
    "pycharm": {
     "name": "#%% md\n"
    },
    "tags": []
   },
   "source": [
    "With this kind of plot is pretty evident where we have gaps with no-readings."
   ]
  },
  {
   "cell_type": "markdown",
   "id": "66e197f3",
   "metadata": {
    "papermill": {
     "duration": 0.128796,
     "end_time": "2022-05-13T16:24:23.166686",
     "exception": false,
     "start_time": "2022-05-13T16:24:23.037890",
     "status": "completed"
    },
    "pycharm": {
     "name": "#%% md\n"
    },
    "tags": []
   },
   "source": [
    "# Summary stats"
   ]
  },
  {
   "cell_type": "markdown",
   "id": "8a8b2c70",
   "metadata": {
    "papermill": {
     "duration": 0.12757,
     "end_time": "2022-05-13T16:24:23.422493",
     "exception": false,
     "start_time": "2022-05-13T16:24:23.294923",
     "status": "completed"
    },
    "pycharm": {
     "name": "#%% md\n"
    },
    "tags": []
   },
   "source": [
    "Usually is useful to get some summary stats from our data. Fortunately, pandas has a simple method to obtain them:"
   ]
  },
  {
   "cell_type": "code",
   "execution_count": 58,
   "id": "2ff74143",
   "metadata": {
    "execution": {
     "iopub.execute_input": "2022-05-13T16:24:23.686716Z",
     "iopub.status.busy": "2022-05-13T16:24:23.686013Z",
     "iopub.status.idle": "2022-05-13T16:24:24.056233Z",
     "shell.execute_reply": "2022-05-13T16:24:24.055696Z",
     "shell.execute_reply.started": "2022-05-04T01:54:39.538689Z"
    },
    "papermill": {
     "duration": 0.505705,
     "end_time": "2022-05-13T16:24:24.056385",
     "exception": false,
     "start_time": "2022-05-13T16:24:23.550680",
     "status": "completed"
    },
    "pycharm": {
     "name": "#%%\n"
    },
    "tags": []
   },
   "outputs": [
    {
     "data": {
      "text/html": [
       "<div>\n",
       "<style scoped>\n",
       "    .dataframe tbody tr th:only-of-type {\n",
       "        vertical-align: middle;\n",
       "    }\n",
       "\n",
       "    .dataframe tbody tr th {\n",
       "        vertical-align: top;\n",
       "    }\n",
       "\n",
       "    .dataframe thead th {\n",
       "        text-align: right;\n",
       "    }\n",
       "</style>\n",
       "<table border=\"1\" class=\"dataframe\">\n",
       "  <thead>\n",
       "    <tr style=\"text-align: right;\">\n",
       "      <th></th>\n",
       "      <th>283207</th>\n",
       "      <th>283209</th>\n",
       "      <th>283211</th>\n",
       "      <th>283214</th>\n",
       "      <th>283216</th>\n",
       "      <th>191413</th>\n",
       "      <th>191426</th>\n",
       "      <th>191439</th>\n",
       "      <th>191452</th>\n",
       "      <th>191465</th>\n",
       "      <th>...</th>\n",
       "      <th>196519</th>\n",
       "      <th>196536</th>\n",
       "      <th>196551</th>\n",
       "      <th>196567</th>\n",
       "      <th>196584</th>\n",
       "      <th>196602</th>\n",
       "      <th>196620</th>\n",
       "      <th>196638</th>\n",
       "      <th>196654</th>\n",
       "      <th>196674</th>\n",
       "    </tr>\n",
       "  </thead>\n",
       "  <tbody>\n",
       "    <tr>\n",
       "      <th>count</th>\n",
       "      <td>4780.000000</td>\n",
       "      <td>4780.000000</td>\n",
       "      <td>4780.000000</td>\n",
       "      <td>4780.000000</td>\n",
       "      <td>4780.000000</td>\n",
       "      <td>11680.000000</td>\n",
       "      <td>11680.000000</td>\n",
       "      <td>11680.000000</td>\n",
       "      <td>11680.000000</td>\n",
       "      <td>11680.000000</td>\n",
       "      <td>...</td>\n",
       "      <td>1518.000000</td>\n",
       "      <td>1518.0</td>\n",
       "      <td>1515.000000</td>\n",
       "      <td>1515.000000</td>\n",
       "      <td>1518.000000</td>\n",
       "      <td>1518.000000</td>\n",
       "      <td>1518.000000</td>\n",
       "      <td>1518.000000</td>\n",
       "      <td>1518.000000</td>\n",
       "      <td>1519.000000</td>\n",
       "    </tr>\n",
       "    <tr>\n",
       "      <th>mean</th>\n",
       "      <td>62.597096</td>\n",
       "      <td>66.685291</td>\n",
       "      <td>71.442550</td>\n",
       "      <td>71.427699</td>\n",
       "      <td>71.541416</td>\n",
       "      <td>69.874906</td>\n",
       "      <td>69.875779</td>\n",
       "      <td>69.875317</td>\n",
       "      <td>76.198296</td>\n",
       "      <td>68.980171</td>\n",
       "      <td>...</td>\n",
       "      <td>74.648024</td>\n",
       "      <td>70.0</td>\n",
       "      <td>67.324356</td>\n",
       "      <td>68.033201</td>\n",
       "      <td>70.689262</td>\n",
       "      <td>70.703887</td>\n",
       "      <td>72.494005</td>\n",
       "      <td>70.989723</td>\n",
       "      <td>64.281555</td>\n",
       "      <td>71.949045</td>\n",
       "    </tr>\n",
       "    <tr>\n",
       "      <th>std</th>\n",
       "      <td>3.165868</td>\n",
       "      <td>1.741411</td>\n",
       "      <td>2.097606</td>\n",
       "      <td>2.205529</td>\n",
       "      <td>1.511267</td>\n",
       "      <td>3.436551</td>\n",
       "      <td>3.435506</td>\n",
       "      <td>3.435482</td>\n",
       "      <td>3.185632</td>\n",
       "      <td>2.602234</td>\n",
       "      <td>...</td>\n",
       "      <td>2.287271</td>\n",
       "      <td>0.0</td>\n",
       "      <td>2.627676</td>\n",
       "      <td>1.711771</td>\n",
       "      <td>1.492092</td>\n",
       "      <td>1.568331</td>\n",
       "      <td>1.643885</td>\n",
       "      <td>1.895229</td>\n",
       "      <td>4.185819</td>\n",
       "      <td>8.590327</td>\n",
       "    </tr>\n",
       "    <tr>\n",
       "      <th>min</th>\n",
       "      <td>55.040000</td>\n",
       "      <td>61.420000</td>\n",
       "      <td>65.840000</td>\n",
       "      <td>65.200000</td>\n",
       "      <td>66.820000</td>\n",
       "      <td>60.100000</td>\n",
       "      <td>60.100000</td>\n",
       "      <td>60.100000</td>\n",
       "      <td>60.500000</td>\n",
       "      <td>60.600000</td>\n",
       "      <td>...</td>\n",
       "      <td>69.300000</td>\n",
       "      <td>70.0</td>\n",
       "      <td>62.400000</td>\n",
       "      <td>64.900000</td>\n",
       "      <td>65.300000</td>\n",
       "      <td>65.300000</td>\n",
       "      <td>69.100000</td>\n",
       "      <td>66.200000</td>\n",
       "      <td>56.900000</td>\n",
       "      <td>54.800000</td>\n",
       "    </tr>\n",
       "    <tr>\n",
       "      <th>25%</th>\n",
       "      <td>60.337500</td>\n",
       "      <td>65.350000</td>\n",
       "      <td>69.690000</td>\n",
       "      <td>69.617500</td>\n",
       "      <td>70.770000</td>\n",
       "      <td>68.100000</td>\n",
       "      <td>68.100000</td>\n",
       "      <td>68.100000</td>\n",
       "      <td>73.900000</td>\n",
       "      <td>67.700000</td>\n",
       "      <td>...</td>\n",
       "      <td>72.800000</td>\n",
       "      <td>70.0</td>\n",
       "      <td>64.800000</td>\n",
       "      <td>66.400000</td>\n",
       "      <td>70.500000</td>\n",
       "      <td>70.500000</td>\n",
       "      <td>71.300000</td>\n",
       "      <td>70.125000</td>\n",
       "      <td>61.400000</td>\n",
       "      <td>65.200000</td>\n",
       "    </tr>\n",
       "    <tr>\n",
       "      <th>50%</th>\n",
       "      <td>63.170000</td>\n",
       "      <td>67.050000</td>\n",
       "      <td>71.810000</td>\n",
       "      <td>71.805000</td>\n",
       "      <td>71.810000</td>\n",
       "      <td>70.400000</td>\n",
       "      <td>70.400000</td>\n",
       "      <td>70.400000</td>\n",
       "      <td>75.600000</td>\n",
       "      <td>69.400000</td>\n",
       "      <td>...</td>\n",
       "      <td>75.400000</td>\n",
       "      <td>70.0</td>\n",
       "      <td>67.700000</td>\n",
       "      <td>68.600000</td>\n",
       "      <td>71.300000</td>\n",
       "      <td>71.400000</td>\n",
       "      <td>72.100000</td>\n",
       "      <td>71.400000</td>\n",
       "      <td>63.550000</td>\n",
       "      <td>71.000000</td>\n",
       "    </tr>\n",
       "    <tr>\n",
       "      <th>75%</th>\n",
       "      <td>65.090000</td>\n",
       "      <td>68.090000</td>\n",
       "      <td>73.430000</td>\n",
       "      <td>73.420000</td>\n",
       "      <td>72.500000</td>\n",
       "      <td>71.900000</td>\n",
       "      <td>71.900000</td>\n",
       "      <td>71.900000</td>\n",
       "      <td>78.900000</td>\n",
       "      <td>70.700000</td>\n",
       "      <td>...</td>\n",
       "      <td>76.200000</td>\n",
       "      <td>70.0</td>\n",
       "      <td>69.500000</td>\n",
       "      <td>68.900000</td>\n",
       "      <td>71.700000</td>\n",
       "      <td>71.700000</td>\n",
       "      <td>73.600000</td>\n",
       "      <td>71.700000</td>\n",
       "      <td>67.000000</td>\n",
       "      <td>80.100000</td>\n",
       "    </tr>\n",
       "    <tr>\n",
       "      <th>max</th>\n",
       "      <td>70.120000</td>\n",
       "      <td>70.150000</td>\n",
       "      <td>74.580000</td>\n",
       "      <td>74.910000</td>\n",
       "      <td>75.260000</td>\n",
       "      <td>78.600000</td>\n",
       "      <td>78.600000</td>\n",
       "      <td>78.600000</td>\n",
       "      <td>84.400000</td>\n",
       "      <td>76.600000</td>\n",
       "      <td>...</td>\n",
       "      <td>80.400000</td>\n",
       "      <td>70.0</td>\n",
       "      <td>71.700000</td>\n",
       "      <td>75.000000</td>\n",
       "      <td>74.500000</td>\n",
       "      <td>74.200000</td>\n",
       "      <td>76.400000</td>\n",
       "      <td>82.900000</td>\n",
       "      <td>78.900000</td>\n",
       "      <td>88.000000</td>\n",
       "    </tr>\n",
       "  </tbody>\n",
       "</table>\n",
       "<p>8 rows × 167 columns</p>\n",
       "</div>"
      ],
      "text/plain": [
       "            283207       283209       283211       283214       283216  \\\n",
       "count  4780.000000  4780.000000  4780.000000  4780.000000  4780.000000   \n",
       "mean     62.597096    66.685291    71.442550    71.427699    71.541416   \n",
       "std       3.165868     1.741411     2.097606     2.205529     1.511267   \n",
       "min      55.040000    61.420000    65.840000    65.200000    66.820000   \n",
       "25%      60.337500    65.350000    69.690000    69.617500    70.770000   \n",
       "50%      63.170000    67.050000    71.810000    71.805000    71.810000   \n",
       "75%      65.090000    68.090000    73.430000    73.420000    72.500000   \n",
       "max      70.120000    70.150000    74.580000    74.910000    75.260000   \n",
       "\n",
       "             191413        191426        191439        191452        191465  \\\n",
       "count  11680.000000  11680.000000  11680.000000  11680.000000  11680.000000   \n",
       "mean      69.874906     69.875779     69.875317     76.198296     68.980171   \n",
       "std        3.436551      3.435506      3.435482      3.185632      2.602234   \n",
       "min       60.100000     60.100000     60.100000     60.500000     60.600000   \n",
       "25%       68.100000     68.100000     68.100000     73.900000     67.700000   \n",
       "50%       70.400000     70.400000     70.400000     75.600000     69.400000   \n",
       "75%       71.900000     71.900000     71.900000     78.900000     70.700000   \n",
       "max       78.600000     78.600000     78.600000     84.400000     76.600000   \n",
       "\n",
       "       ...       196519  196536       196551       196567       196584  \\\n",
       "count  ...  1518.000000  1518.0  1515.000000  1515.000000  1518.000000   \n",
       "mean   ...    74.648024    70.0    67.324356    68.033201    70.689262   \n",
       "std    ...     2.287271     0.0     2.627676     1.711771     1.492092   \n",
       "min    ...    69.300000    70.0    62.400000    64.900000    65.300000   \n",
       "25%    ...    72.800000    70.0    64.800000    66.400000    70.500000   \n",
       "50%    ...    75.400000    70.0    67.700000    68.600000    71.300000   \n",
       "75%    ...    76.200000    70.0    69.500000    68.900000    71.700000   \n",
       "max    ...    80.400000    70.0    71.700000    75.000000    74.500000   \n",
       "\n",
       "            196602       196620       196638       196654       196674  \n",
       "count  1518.000000  1518.000000  1518.000000  1518.000000  1519.000000  \n",
       "mean     70.703887    72.494005    70.989723    64.281555    71.949045  \n",
       "std       1.568331     1.643885     1.895229     4.185819     8.590327  \n",
       "min      65.300000    69.100000    66.200000    56.900000    54.800000  \n",
       "25%      70.500000    71.300000    70.125000    61.400000    65.200000  \n",
       "50%      71.400000    72.100000    71.400000    63.550000    71.000000  \n",
       "75%      71.700000    73.600000    71.700000    67.000000    80.100000  \n",
       "max      74.200000    76.400000    82.900000    78.900000    88.000000  \n",
       "\n",
       "[8 rows x 167 columns]"
      ]
     },
     "execution_count": 58,
     "metadata": {},
     "output_type": "execute_result"
    }
   ],
   "source": [
    "data.describe()"
   ]
  },
  {
   "cell_type": "markdown",
   "id": "5bfeef37",
   "metadata": {
    "papermill": {
     "duration": 0.130054,
     "end_time": "2022-05-13T16:24:24.318266",
     "exception": false,
     "start_time": "2022-05-13T16:24:24.188212",
     "status": "completed"
    },
    "pycharm": {
     "name": "#%% md\n"
    },
    "tags": []
   },
   "source": [
    "These stats are usually visualizes in boxplot and histograms; these two plots can be easily obtained with the plotting libraries we are using. But first I suggest processing a little the dataframe to be able to plot all sensors in the same figure. We are using the pandas method [melt](https://pandas.pydata.org/docs/reference/api/pandas.melt.html). We have the data in this way right now:"
   ]
  },
  {
   "cell_type": "code",
   "execution_count": 59,
   "id": "ea9b0537",
   "metadata": {
    "execution": {
     "iopub.execute_input": "2022-05-13T16:24:24.582940Z",
     "iopub.status.busy": "2022-05-13T16:24:24.582227Z",
     "iopub.status.idle": "2022-05-13T16:24:24.606731Z",
     "shell.execute_reply": "2022-05-13T16:24:24.607274Z",
     "shell.execute_reply.started": "2022-05-04T01:55:19.525786Z"
    },
    "papermill": {
     "duration": 0.15958,
     "end_time": "2022-05-13T16:24:24.607471",
     "exception": false,
     "start_time": "2022-05-13T16:24:24.447891",
     "status": "completed"
    },
    "pycharm": {
     "name": "#%%\n"
    },
    "tags": []
   },
   "outputs": [
    {
     "data": {
      "text/html": [
       "<div>\n",
       "<style scoped>\n",
       "    .dataframe tbody tr th:only-of-type {\n",
       "        vertical-align: middle;\n",
       "    }\n",
       "\n",
       "    .dataframe tbody tr th {\n",
       "        vertical-align: top;\n",
       "    }\n",
       "\n",
       "    .dataframe thead th {\n",
       "        text-align: right;\n",
       "    }\n",
       "</style>\n",
       "<table border=\"1\" class=\"dataframe\">\n",
       "  <thead>\n",
       "    <tr style=\"text-align: right;\">\n",
       "      <th></th>\n",
       "      <th>timestamp</th>\n",
       "      <th>283207</th>\n",
       "      <th>283209</th>\n",
       "      <th>283211</th>\n",
       "      <th>283214</th>\n",
       "      <th>283216</th>\n",
       "      <th>191413</th>\n",
       "      <th>191426</th>\n",
       "      <th>191439</th>\n",
       "      <th>191452</th>\n",
       "      <th>...</th>\n",
       "      <th>196519</th>\n",
       "      <th>196536</th>\n",
       "      <th>196551</th>\n",
       "      <th>196567</th>\n",
       "      <th>196584</th>\n",
       "      <th>196602</th>\n",
       "      <th>196620</th>\n",
       "      <th>196638</th>\n",
       "      <th>196654</th>\n",
       "      <th>196674</th>\n",
       "    </tr>\n",
       "  </thead>\n",
       "  <tbody>\n",
       "    <tr>\n",
       "      <th>5715</th>\n",
       "      <td>2017-09-01 04:00:00+00:00</td>\n",
       "      <td>NaN</td>\n",
       "      <td>NaN</td>\n",
       "      <td>NaN</td>\n",
       "      <td>NaN</td>\n",
       "      <td>NaN</td>\n",
       "      <td>71.0</td>\n",
       "      <td>70.9</td>\n",
       "      <td>70.9</td>\n",
       "      <td>79.0</td>\n",
       "      <td>...</td>\n",
       "      <td>NaN</td>\n",
       "      <td>NaN</td>\n",
       "      <td>NaN</td>\n",
       "      <td>NaN</td>\n",
       "      <td>NaN</td>\n",
       "      <td>NaN</td>\n",
       "      <td>NaN</td>\n",
       "      <td>NaN</td>\n",
       "      <td>NaN</td>\n",
       "      <td>NaN</td>\n",
       "    </tr>\n",
       "    <tr>\n",
       "      <th>5716</th>\n",
       "      <td>2017-09-01 04:15:00+00:00</td>\n",
       "      <td>NaN</td>\n",
       "      <td>NaN</td>\n",
       "      <td>NaN</td>\n",
       "      <td>NaN</td>\n",
       "      <td>NaN</td>\n",
       "      <td>71.1</td>\n",
       "      <td>71.1</td>\n",
       "      <td>71.0</td>\n",
       "      <td>79.0</td>\n",
       "      <td>...</td>\n",
       "      <td>NaN</td>\n",
       "      <td>NaN</td>\n",
       "      <td>NaN</td>\n",
       "      <td>NaN</td>\n",
       "      <td>NaN</td>\n",
       "      <td>NaN</td>\n",
       "      <td>NaN</td>\n",
       "      <td>NaN</td>\n",
       "      <td>NaN</td>\n",
       "      <td>NaN</td>\n",
       "    </tr>\n",
       "    <tr>\n",
       "      <th>5717</th>\n",
       "      <td>2017-09-01 04:30:00+00:00</td>\n",
       "      <td>NaN</td>\n",
       "      <td>NaN</td>\n",
       "      <td>NaN</td>\n",
       "      <td>NaN</td>\n",
       "      <td>NaN</td>\n",
       "      <td>71.5</td>\n",
       "      <td>71.5</td>\n",
       "      <td>71.5</td>\n",
       "      <td>79.0</td>\n",
       "      <td>...</td>\n",
       "      <td>NaN</td>\n",
       "      <td>NaN</td>\n",
       "      <td>NaN</td>\n",
       "      <td>NaN</td>\n",
       "      <td>NaN</td>\n",
       "      <td>NaN</td>\n",
       "      <td>NaN</td>\n",
       "      <td>NaN</td>\n",
       "      <td>NaN</td>\n",
       "      <td>NaN</td>\n",
       "    </tr>\n",
       "    <tr>\n",
       "      <th>5718</th>\n",
       "      <td>2017-09-01 04:45:00+00:00</td>\n",
       "      <td>NaN</td>\n",
       "      <td>NaN</td>\n",
       "      <td>NaN</td>\n",
       "      <td>NaN</td>\n",
       "      <td>NaN</td>\n",
       "      <td>71.5</td>\n",
       "      <td>71.5</td>\n",
       "      <td>71.5</td>\n",
       "      <td>79.0</td>\n",
       "      <td>...</td>\n",
       "      <td>NaN</td>\n",
       "      <td>NaN</td>\n",
       "      <td>NaN</td>\n",
       "      <td>NaN</td>\n",
       "      <td>NaN</td>\n",
       "      <td>NaN</td>\n",
       "      <td>NaN</td>\n",
       "      <td>NaN</td>\n",
       "      <td>NaN</td>\n",
       "      <td>NaN</td>\n",
       "    </tr>\n",
       "    <tr>\n",
       "      <th>5719</th>\n",
       "      <td>2017-09-01 05:00:00+00:00</td>\n",
       "      <td>NaN</td>\n",
       "      <td>NaN</td>\n",
       "      <td>NaN</td>\n",
       "      <td>NaN</td>\n",
       "      <td>NaN</td>\n",
       "      <td>71.4</td>\n",
       "      <td>71.3</td>\n",
       "      <td>71.3</td>\n",
       "      <td>79.0</td>\n",
       "      <td>...</td>\n",
       "      <td>NaN</td>\n",
       "      <td>NaN</td>\n",
       "      <td>NaN</td>\n",
       "      <td>NaN</td>\n",
       "      <td>NaN</td>\n",
       "      <td>NaN</td>\n",
       "      <td>NaN</td>\n",
       "      <td>NaN</td>\n",
       "      <td>NaN</td>\n",
       "      <td>NaN</td>\n",
       "    </tr>\n",
       "  </tbody>\n",
       "</table>\n",
       "<p>5 rows × 168 columns</p>\n",
       "</div>"
      ],
      "text/plain": [
       "                     timestamp  283207  283209  283211  283214  283216  \\\n",
       "5715 2017-09-01 04:00:00+00:00     NaN     NaN     NaN     NaN     NaN   \n",
       "5716 2017-09-01 04:15:00+00:00     NaN     NaN     NaN     NaN     NaN   \n",
       "5717 2017-09-01 04:30:00+00:00     NaN     NaN     NaN     NaN     NaN   \n",
       "5718 2017-09-01 04:45:00+00:00     NaN     NaN     NaN     NaN     NaN   \n",
       "5719 2017-09-01 05:00:00+00:00     NaN     NaN     NaN     NaN     NaN   \n",
       "\n",
       "      191413  191426  191439  191452  ...  196519  196536  196551  196567  \\\n",
       "5715    71.0    70.9    70.9    79.0  ...     NaN     NaN     NaN     NaN   \n",
       "5716    71.1    71.1    71.0    79.0  ...     NaN     NaN     NaN     NaN   \n",
       "5717    71.5    71.5    71.5    79.0  ...     NaN     NaN     NaN     NaN   \n",
       "5718    71.5    71.5    71.5    79.0  ...     NaN     NaN     NaN     NaN   \n",
       "5719    71.4    71.3    71.3    79.0  ...     NaN     NaN     NaN     NaN   \n",
       "\n",
       "      196584  196602  196620  196638  196654  196674  \n",
       "5715     NaN     NaN     NaN     NaN     NaN     NaN  \n",
       "5716     NaN     NaN     NaN     NaN     NaN     NaN  \n",
       "5717     NaN     NaN     NaN     NaN     NaN     NaN  \n",
       "5718     NaN     NaN     NaN     NaN     NaN     NaN  \n",
       "5719     NaN     NaN     NaN     NaN     NaN     NaN  \n",
       "\n",
       "[5 rows x 168 columns]"
      ]
     },
     "execution_count": 59,
     "metadata": {},
     "output_type": "execute_result"
    }
   ],
   "source": [
    "data.head()"
   ]
  },
  {
   "cell_type": "markdown",
   "id": "94b9b445",
   "metadata": {
    "papermill": {
     "duration": 0.130869,
     "end_time": "2022-05-13T16:24:24.871540",
     "exception": false,
     "start_time": "2022-05-13T16:24:24.740671",
     "status": "completed"
    },
    "pycharm": {
     "name": "#%% md\n"
    },
    "tags": []
   },
   "source": [
    "If we use the `melt` method we can convert our columns in rows, creating a new one that indicates which column it was. Is easier seeing the results, check it out:"
   ]
  },
  {
   "cell_type": "code",
   "execution_count": 60,
   "id": "c5acbda3",
   "metadata": {
    "execution": {
     "iopub.execute_input": "2022-05-13T16:24:25.139143Z",
     "iopub.status.busy": "2022-05-13T16:24:25.138481Z",
     "iopub.status.idle": "2022-05-13T16:24:35.571505Z",
     "shell.execute_reply": "2022-05-13T16:24:35.570820Z",
     "shell.execute_reply.started": "2022-05-04T01:55:50.435545Z"
    },
    "papermill": {
     "duration": 10.567508,
     "end_time": "2022-05-13T16:24:35.571660",
     "exception": false,
     "start_time": "2022-05-13T16:24:25.004152",
     "status": "completed"
    },
    "pycharm": {
     "name": "#%%\n"
    },
    "tags": []
   },
   "outputs": [
    {
     "data": {
      "text/html": [
       "<div>\n",
       "<style scoped>\n",
       "    .dataframe tbody tr th:only-of-type {\n",
       "        vertical-align: middle;\n",
       "    }\n",
       "\n",
       "    .dataframe tbody tr th {\n",
       "        vertical-align: top;\n",
       "    }\n",
       "\n",
       "    .dataframe thead th {\n",
       "        text-align: right;\n",
       "    }\n",
       "</style>\n",
       "<table border=\"1\" class=\"dataframe\">\n",
       "  <thead>\n",
       "    <tr style=\"text-align: right;\">\n",
       "      <th></th>\n",
       "      <th>timestamp</th>\n",
       "      <th>sensor</th>\n",
       "      <th>temperature</th>\n",
       "    </tr>\n",
       "  </thead>\n",
       "  <tbody>\n",
       "    <tr>\n",
       "      <th>0</th>\n",
       "      <td>2017-09-01 04:00:00+00:00</td>\n",
       "      <td>283207</td>\n",
       "      <td>NaN</td>\n",
       "    </tr>\n",
       "    <tr>\n",
       "      <th>1</th>\n",
       "      <td>2017-09-01 04:15:00+00:00</td>\n",
       "      <td>283207</td>\n",
       "      <td>NaN</td>\n",
       "    </tr>\n",
       "    <tr>\n",
       "      <th>2</th>\n",
       "      <td>2017-09-01 04:30:00+00:00</td>\n",
       "      <td>283207</td>\n",
       "      <td>NaN</td>\n",
       "    </tr>\n",
       "    <tr>\n",
       "      <th>3</th>\n",
       "      <td>2017-09-01 04:45:00+00:00</td>\n",
       "      <td>283207</td>\n",
       "      <td>NaN</td>\n",
       "    </tr>\n",
       "    <tr>\n",
       "      <th>4</th>\n",
       "      <td>2017-09-01 05:00:00+00:00</td>\n",
       "      <td>283207</td>\n",
       "      <td>NaN</td>\n",
       "    </tr>\n",
       "    <tr>\n",
       "      <th>...</th>\n",
       "      <td>...</td>\n",
       "      <td>...</td>\n",
       "      <td>...</td>\n",
       "    </tr>\n",
       "    <tr>\n",
       "      <th>2256499</th>\n",
       "      <td>2018-01-19 22:45:00+00:00</td>\n",
       "      <td>196674</td>\n",
       "      <td>NaN</td>\n",
       "    </tr>\n",
       "    <tr>\n",
       "      <th>2256500</th>\n",
       "      <td>2018-01-19 23:00:00+00:00</td>\n",
       "      <td>196674</td>\n",
       "      <td>NaN</td>\n",
       "    </tr>\n",
       "    <tr>\n",
       "      <th>2256501</th>\n",
       "      <td>2018-01-19 23:15:00+00:00</td>\n",
       "      <td>196674</td>\n",
       "      <td>NaN</td>\n",
       "    </tr>\n",
       "    <tr>\n",
       "      <th>2256502</th>\n",
       "      <td>2018-01-19 23:30:00+00:00</td>\n",
       "      <td>196674</td>\n",
       "      <td>NaN</td>\n",
       "    </tr>\n",
       "    <tr>\n",
       "      <th>2256503</th>\n",
       "      <td>2018-01-19 23:45:00+00:00</td>\n",
       "      <td>196674</td>\n",
       "      <td>NaN</td>\n",
       "    </tr>\n",
       "  </tbody>\n",
       "</table>\n",
       "<p>2256504 rows × 3 columns</p>\n",
       "</div>"
      ],
      "text/plain": [
       "                        timestamp  sensor  temperature\n",
       "0       2017-09-01 04:00:00+00:00  283207          NaN\n",
       "1       2017-09-01 04:15:00+00:00  283207          NaN\n",
       "2       2017-09-01 04:30:00+00:00  283207          NaN\n",
       "3       2017-09-01 04:45:00+00:00  283207          NaN\n",
       "4       2017-09-01 05:00:00+00:00  283207          NaN\n",
       "...                           ...     ...          ...\n",
       "2256499 2018-01-19 22:45:00+00:00  196674          NaN\n",
       "2256500 2018-01-19 23:00:00+00:00  196674          NaN\n",
       "2256501 2018-01-19 23:15:00+00:00  196674          NaN\n",
       "2256502 2018-01-19 23:30:00+00:00  196674          NaN\n",
       "2256503 2018-01-19 23:45:00+00:00  196674          NaN\n",
       "\n",
       "[2256504 rows x 3 columns]"
      ]
     },
     "execution_count": 60,
     "metadata": {},
     "output_type": "execute_result"
    }
   ],
   "source": [
    "melted_data = data.melt(id_vars=\"timestamp\", var_name=\"sensor\", value_name=\"temperature\")\n",
    "melted_data"
   ]
  },
  {
   "cell_type": "markdown",
   "id": "95b3ad75",
   "metadata": {
    "papermill": {
     "duration": 0.130796,
     "end_time": "2022-05-13T16:24:35.833365",
     "exception": false,
     "start_time": "2022-05-13T16:24:35.702569",
     "status": "completed"
    },
    "pycharm": {
     "name": "#%% md\n"
    },
    "tags": []
   },
   "source": [
    "And now that we have the data in this shape, is easy to get a boxplot:"
   ]
  },
  {
   "cell_type": "code",
   "execution_count": 61,
   "id": "7b9a3ded",
   "metadata": {
    "execution": {
     "iopub.execute_input": "2022-05-13T16:24:36.340290Z",
     "iopub.status.busy": "2022-05-13T16:24:36.339291Z",
     "iopub.status.idle": "2022-05-13T16:24:41.855129Z",
     "shell.execute_reply": "2022-05-13T16:24:41.855774Z",
     "shell.execute_reply.started": "2022-05-04T01:56:22.503705Z"
    },
    "papermill": {
     "duration": 5.889257,
     "end_time": "2022-05-13T16:24:41.855958",
     "exception": false,
     "start_time": "2022-05-13T16:24:35.966701",
     "status": "completed"
    },
    "pycharm": {
     "name": "#%%\n"
    },
    "tags": []
   },
   "outputs": [
    {
     "data": {
      "image/png": "[encoded data removed]",
      "text/plain": [
       "<Figure size 432x288 with 1 Axes>"
      ]
     },
     "metadata": {
      "needs_background": "light"
     },
     "output_type": "display_data"
    }
   ],
   "source": [
    "fig = sns.boxplot(y=\"temperature\", x=\"sensor\", data=melted_data)\n",
    "labels = plt.xticks(rotation=90)"
   ]
  },
  {
   "cell_type": "markdown",
   "id": "c13de848",
   "metadata": {
    "papermill": {
     "duration": 0.135023,
     "end_time": "2022-05-13T16:24:42.128133",
     "exception": false,
     "start_time": "2022-05-13T16:24:41.993110",
     "status": "completed"
    },
    "pycharm": {
     "name": "#%% md\n"
    },
    "tags": []
   },
   "source": [
    "We can also plot an histogram, but with this number of sensors a boxplot is cleaner:"
   ]
  },
  {
   "cell_type": "code",
   "execution_count": 62,
   "id": "92e4789d",
   "metadata": {
    "execution": {
     "iopub.execute_input": "2022-05-13T16:24:42.400907Z",
     "iopub.status.busy": "2022-05-13T16:24:42.400213Z",
     "iopub.status.idle": "2022-05-13T16:25:00.947158Z",
     "shell.execute_reply": "2022-05-13T16:25:00.947704Z",
     "shell.execute_reply.started": "2022-05-04T01:56:49.510428Z"
    },
    "papermill": {
     "duration": 18.683849,
     "end_time": "2022-05-13T16:25:00.947881",
     "exception": false,
     "start_time": "2022-05-13T16:24:42.264032",
     "status": "completed"
    },
    "pycharm": {
     "name": "#%%\n"
    },
    "tags": []
   },
   "outputs": [
    {
     "data": {
      "text/plain": [
       "<matplotlib.legend.Legend at 0x7fa7c8b3bbe0>"
      ]
     },
     "execution_count": 62,
     "metadata": {},
     "output_type": "execute_result"
    },
    {
     "data": {
      "image/png": "[encoded data removed]",
      "text/plain": [
       "<Figure size 432x288 with 1 Axes>"
      ]
     },
     "metadata": {
      "needs_background": "light"
     },
     "output_type": "display_data"
    }
   ],
   "source": [
    "fig = sns.histplot(data=melted_data, x=\"temperature\", hue=\"sensor\", bins=20, kde=True, palette=\"Dark2\")\n",
    "\n",
    "# This is just for hiding the legend for now, there are a lot of labels and is difficult to see the plot\n",
    "plt.legend([],[], frameon=False)"
   ]
  },
  {
   "cell_type": "markdown",
   "id": "fc45257e",
   "metadata": {
    "papermill": {
     "duration": 0.135031,
     "end_time": "2022-05-13T16:25:01.222304",
     "exception": false,
     "start_time": "2022-05-13T16:25:01.087273",
     "status": "completed"
    },
    "pycharm": {
     "name": "#%% md\n"
    },
    "tags": []
   },
   "source": [
    "Finally, let's create a dataset with the stats. "
   ]
  },
  {
   "cell_type": "code",
   "execution_count": 63,
   "id": "1ba0cbdc",
   "metadata": {
    "execution": {
     "iopub.execute_input": "2022-05-13T16:25:01.499604Z",
     "iopub.status.busy": "2022-05-13T16:25:01.498021Z",
     "iopub.status.idle": "2022-05-13T16:25:01.842311Z",
     "shell.execute_reply": "2022-05-13T16:25:01.842828Z",
     "shell.execute_reply.started": "2022-05-04T01:57:51.951746Z"
    },
    "papermill": {
     "duration": 0.483777,
     "end_time": "2022-05-13T16:25:01.843016",
     "exception": false,
     "start_time": "2022-05-13T16:25:01.359239",
     "status": "completed"
    },
    "pycharm": {
     "name": "#%%\n"
    },
    "tags": []
   },
   "outputs": [
    {
     "data": {
      "text/html": [
       "<div>\n",
       "<style scoped>\n",
       "    .dataframe tbody tr th:only-of-type {\n",
       "        vertical-align: middle;\n",
       "    }\n",
       "\n",
       "    .dataframe tbody tr th {\n",
       "        vertical-align: top;\n",
       "    }\n",
       "\n",
       "    .dataframe thead th {\n",
       "        text-align: right;\n",
       "    }\n",
       "</style>\n",
       "<table border=\"1\" class=\"dataframe\">\n",
       "  <thead>\n",
       "    <tr style=\"text-align: right;\">\n",
       "      <th></th>\n",
       "      <th>283207</th>\n",
       "      <th>283209</th>\n",
       "      <th>283211</th>\n",
       "      <th>283214</th>\n",
       "      <th>283216</th>\n",
       "      <th>191413</th>\n",
       "      <th>191426</th>\n",
       "      <th>191439</th>\n",
       "      <th>191452</th>\n",
       "      <th>191465</th>\n",
       "      <th>...</th>\n",
       "      <th>196519</th>\n",
       "      <th>196536</th>\n",
       "      <th>196551</th>\n",
       "      <th>196567</th>\n",
       "      <th>196584</th>\n",
       "      <th>196602</th>\n",
       "      <th>196620</th>\n",
       "      <th>196638</th>\n",
       "      <th>196654</th>\n",
       "      <th>196674</th>\n",
       "    </tr>\n",
       "  </thead>\n",
       "  <tbody>\n",
       "    <tr>\n",
       "      <th>count</th>\n",
       "      <td>4780.000000</td>\n",
       "      <td>4780.000000</td>\n",
       "      <td>4780.000000</td>\n",
       "      <td>4780.000000</td>\n",
       "      <td>4780.000000</td>\n",
       "      <td>11680.000000</td>\n",
       "      <td>11680.000000</td>\n",
       "      <td>11680.000000</td>\n",
       "      <td>11680.000000</td>\n",
       "      <td>11680.000000</td>\n",
       "      <td>...</td>\n",
       "      <td>1518.000000</td>\n",
       "      <td>1518.0</td>\n",
       "      <td>1515.000000</td>\n",
       "      <td>1515.000000</td>\n",
       "      <td>1518.000000</td>\n",
       "      <td>1518.000000</td>\n",
       "      <td>1518.000000</td>\n",
       "      <td>1518.000000</td>\n",
       "      <td>1518.000000</td>\n",
       "      <td>1519.000000</td>\n",
       "    </tr>\n",
       "    <tr>\n",
       "      <th>mean</th>\n",
       "      <td>62.597096</td>\n",
       "      <td>66.685291</td>\n",
       "      <td>71.442550</td>\n",
       "      <td>71.427699</td>\n",
       "      <td>71.541416</td>\n",
       "      <td>69.874906</td>\n",
       "      <td>69.875779</td>\n",
       "      <td>69.875317</td>\n",
       "      <td>76.198296</td>\n",
       "      <td>68.980171</td>\n",
       "      <td>...</td>\n",
       "      <td>74.648024</td>\n",
       "      <td>70.0</td>\n",
       "      <td>67.324356</td>\n",
       "      <td>68.033201</td>\n",
       "      <td>70.689262</td>\n",
       "      <td>70.703887</td>\n",
       "      <td>72.494005</td>\n",
       "      <td>70.989723</td>\n",
       "      <td>64.281555</td>\n",
       "      <td>71.949045</td>\n",
       "    </tr>\n",
       "    <tr>\n",
       "      <th>std</th>\n",
       "      <td>3.165868</td>\n",
       "      <td>1.741411</td>\n",
       "      <td>2.097606</td>\n",
       "      <td>2.205529</td>\n",
       "      <td>1.511267</td>\n",
       "      <td>3.436551</td>\n",
       "      <td>3.435506</td>\n",
       "      <td>3.435482</td>\n",
       "      <td>3.185632</td>\n",
       "      <td>2.602234</td>\n",
       "      <td>...</td>\n",
       "      <td>2.287271</td>\n",
       "      <td>0.0</td>\n",
       "      <td>2.627676</td>\n",
       "      <td>1.711771</td>\n",
       "      <td>1.492092</td>\n",
       "      <td>1.568331</td>\n",
       "      <td>1.643885</td>\n",
       "      <td>1.895229</td>\n",
       "      <td>4.185819</td>\n",
       "      <td>8.590327</td>\n",
       "    </tr>\n",
       "    <tr>\n",
       "      <th>min</th>\n",
       "      <td>55.040000</td>\n",
       "      <td>61.420000</td>\n",
       "      <td>65.840000</td>\n",
       "      <td>65.200000</td>\n",
       "      <td>66.820000</td>\n",
       "      <td>60.100000</td>\n",
       "      <td>60.100000</td>\n",
       "      <td>60.100000</td>\n",
       "      <td>60.500000</td>\n",
       "      <td>60.600000</td>\n",
       "      <td>...</td>\n",
       "      <td>69.300000</td>\n",
       "      <td>70.0</td>\n",
       "      <td>62.400000</td>\n",
       "      <td>64.900000</td>\n",
       "      <td>65.300000</td>\n",
       "      <td>65.300000</td>\n",
       "      <td>69.100000</td>\n",
       "      <td>66.200000</td>\n",
       "      <td>56.900000</td>\n",
       "      <td>54.800000</td>\n",
       "    </tr>\n",
       "    <tr>\n",
       "      <th>25%</th>\n",
       "      <td>60.337500</td>\n",
       "      <td>65.350000</td>\n",
       "      <td>69.690000</td>\n",
       "      <td>69.617500</td>\n",
       "      <td>70.770000</td>\n",
       "      <td>68.100000</td>\n",
       "      <td>68.100000</td>\n",
       "      <td>68.100000</td>\n",
       "      <td>73.900000</td>\n",
       "      <td>67.700000</td>\n",
       "      <td>...</td>\n",
       "      <td>72.800000</td>\n",
       "      <td>70.0</td>\n",
       "      <td>64.800000</td>\n",
       "      <td>66.400000</td>\n",
       "      <td>70.500000</td>\n",
       "      <td>70.500000</td>\n",
       "      <td>71.300000</td>\n",
       "      <td>70.125000</td>\n",
       "      <td>61.400000</td>\n",
       "      <td>65.200000</td>\n",
       "    </tr>\n",
       "    <tr>\n",
       "      <th>50%</th>\n",
       "      <td>63.170000</td>\n",
       "      <td>67.050000</td>\n",
       "      <td>71.810000</td>\n",
       "      <td>71.805000</td>\n",
       "      <td>71.810000</td>\n",
       "      <td>70.400000</td>\n",
       "      <td>70.400000</td>\n",
       "      <td>70.400000</td>\n",
       "      <td>75.600000</td>\n",
       "      <td>69.400000</td>\n",
       "      <td>...</td>\n",
       "      <td>75.400000</td>\n",
       "      <td>70.0</td>\n",
       "      <td>67.700000</td>\n",
       "      <td>68.600000</td>\n",
       "      <td>71.300000</td>\n",
       "      <td>71.400000</td>\n",
       "      <td>72.100000</td>\n",
       "      <td>71.400000</td>\n",
       "      <td>63.550000</td>\n",
       "      <td>71.000000</td>\n",
       "    </tr>\n",
       "    <tr>\n",
       "      <th>75%</th>\n",
       "      <td>65.090000</td>\n",
       "      <td>68.090000</td>\n",
       "      <td>73.430000</td>\n",
       "      <td>73.420000</td>\n",
       "      <td>72.500000</td>\n",
       "      <td>71.900000</td>\n",
       "      <td>71.900000</td>\n",
       "      <td>71.900000</td>\n",
       "      <td>78.900000</td>\n",
       "      <td>70.700000</td>\n",
       "      <td>...</td>\n",
       "      <td>76.200000</td>\n",
       "      <td>70.0</td>\n",
       "      <td>69.500000</td>\n",
       "      <td>68.900000</td>\n",
       "      <td>71.700000</td>\n",
       "      <td>71.700000</td>\n",
       "      <td>73.600000</td>\n",
       "      <td>71.700000</td>\n",
       "      <td>67.000000</td>\n",
       "      <td>80.100000</td>\n",
       "    </tr>\n",
       "    <tr>\n",
       "      <th>max</th>\n",
       "      <td>70.120000</td>\n",
       "      <td>70.150000</td>\n",
       "      <td>74.580000</td>\n",
       "      <td>74.910000</td>\n",
       "      <td>75.260000</td>\n",
       "      <td>78.600000</td>\n",
       "      <td>78.600000</td>\n",
       "      <td>78.600000</td>\n",
       "      <td>84.400000</td>\n",
       "      <td>76.600000</td>\n",
       "      <td>...</td>\n",
       "      <td>80.400000</td>\n",
       "      <td>70.0</td>\n",
       "      <td>71.700000</td>\n",
       "      <td>75.000000</td>\n",
       "      <td>74.500000</td>\n",
       "      <td>74.200000</td>\n",
       "      <td>76.400000</td>\n",
       "      <td>82.900000</td>\n",
       "      <td>78.900000</td>\n",
       "      <td>88.000000</td>\n",
       "    </tr>\n",
       "  </tbody>\n",
       "</table>\n",
       "<p>8 rows × 167 columns</p>\n",
       "</div>"
      ],
      "text/plain": [
       "            283207       283209       283211       283214       283216  \\\n",
       "count  4780.000000  4780.000000  4780.000000  4780.000000  4780.000000   \n",
       "mean     62.597096    66.685291    71.442550    71.427699    71.541416   \n",
       "std       3.165868     1.741411     2.097606     2.205529     1.511267   \n",
       "min      55.040000    61.420000    65.840000    65.200000    66.820000   \n",
       "25%      60.337500    65.350000    69.690000    69.617500    70.770000   \n",
       "50%      63.170000    67.050000    71.810000    71.805000    71.810000   \n",
       "75%      65.090000    68.090000    73.430000    73.420000    72.500000   \n",
       "max      70.120000    70.150000    74.580000    74.910000    75.260000   \n",
       "\n",
       "             191413        191426        191439        191452        191465  \\\n",
       "count  11680.000000  11680.000000  11680.000000  11680.000000  11680.000000   \n",
       "mean      69.874906     69.875779     69.875317     76.198296     68.980171   \n",
       "std        3.436551      3.435506      3.435482      3.185632      2.602234   \n",
       "min       60.100000     60.100000     60.100000     60.500000     60.600000   \n",
       "25%       68.100000     68.100000     68.100000     73.900000     67.700000   \n",
       "50%       70.400000     70.400000     70.400000     75.600000     69.400000   \n",
       "75%       71.900000     71.900000     71.900000     78.900000     70.700000   \n",
       "max       78.600000     78.600000     78.600000     84.400000     76.600000   \n",
       "\n",
       "       ...       196519  196536       196551       196567       196584  \\\n",
       "count  ...  1518.000000  1518.0  1515.000000  1515.000000  1518.000000   \n",
       "mean   ...    74.648024    70.0    67.324356    68.033201    70.689262   \n",
       "std    ...     2.287271     0.0     2.627676     1.711771     1.492092   \n",
       "min    ...    69.300000    70.0    62.400000    64.900000    65.300000   \n",
       "25%    ...    72.800000    70.0    64.800000    66.400000    70.500000   \n",
       "50%    ...    75.400000    70.0    67.700000    68.600000    71.300000   \n",
       "75%    ...    76.200000    70.0    69.500000    68.900000    71.700000   \n",
       "max    ...    80.400000    70.0    71.700000    75.000000    74.500000   \n",
       "\n",
       "            196602       196620       196638       196654       196674  \n",
       "count  1518.000000  1518.000000  1518.000000  1518.000000  1519.000000  \n",
       "mean     70.703887    72.494005    70.989723    64.281555    71.949045  \n",
       "std       1.568331     1.643885     1.895229     4.185819     8.590327  \n",
       "min      65.300000    69.100000    66.200000    56.900000    54.800000  \n",
       "25%      70.500000    71.300000    70.125000    61.400000    65.200000  \n",
       "50%      71.400000    72.100000    71.400000    63.550000    71.000000  \n",
       "75%      71.700000    73.600000    71.700000    67.000000    80.100000  \n",
       "max      74.200000    76.400000    82.900000    78.900000    88.000000  \n",
       "\n",
       "[8 rows x 167 columns]"
      ]
     },
     "execution_count": 63,
     "metadata": {},
     "output_type": "execute_result"
    }
   ],
   "source": [
    "stats_data = data.describe()\n",
    "stats_data"
   ]
  },
  {
   "cell_type": "markdown",
   "id": "296cc42a",
   "metadata": {
    "papermill": {
     "duration": 0.137247,
     "end_time": "2022-05-13T16:25:02.121023",
     "exception": false,
     "start_time": "2022-05-13T16:25:01.983776",
     "status": "completed"
    },
    "pycharm": {
     "name": "#%% md\n"
    },
    "tags": []
   },
   "source": [
    "We are transposing it and reseting the index to keep a column with the point id (was the name of the column):"
   ]
  },
  {
   "cell_type": "code",
   "execution_count": 64,
   "id": "8f61a9fe",
   "metadata": {
    "execution": {
     "iopub.execute_input": "2022-05-13T16:25:02.401029Z",
     "iopub.status.busy": "2022-05-13T16:25:02.400339Z",
     "iopub.status.idle": "2022-05-13T16:25:02.423015Z",
     "shell.execute_reply": "2022-05-13T16:25:02.423549Z",
     "shell.execute_reply.started": "2022-05-04T01:58:02.364351Z"
    },
    "papermill": {
     "duration": 0.164742,
     "end_time": "2022-05-13T16:25:02.423728",
     "exception": false,
     "start_time": "2022-05-13T16:25:02.258986",
     "status": "completed"
    },
    "pycharm": {
     "name": "#%%\n"
    },
    "tags": []
   },
   "outputs": [
    {
     "data": {
      "text/html": [
       "<div>\n",
       "<style scoped>\n",
       "    .dataframe tbody tr th:only-of-type {\n",
       "        vertical-align: middle;\n",
       "    }\n",
       "\n",
       "    .dataframe tbody tr th {\n",
       "        vertical-align: top;\n",
       "    }\n",
       "\n",
       "    .dataframe thead th {\n",
       "        text-align: right;\n",
       "    }\n",
       "</style>\n",
       "<table border=\"1\" class=\"dataframe\">\n",
       "  <thead>\n",
       "    <tr style=\"text-align: right;\">\n",
       "      <th></th>\n",
       "      <th>id_point</th>\n",
       "      <th>count</th>\n",
       "      <th>mean</th>\n",
       "      <th>std</th>\n",
       "      <th>min</th>\n",
       "      <th>25%</th>\n",
       "      <th>50%</th>\n",
       "      <th>75%</th>\n",
       "      <th>max</th>\n",
       "    </tr>\n",
       "  </thead>\n",
       "  <tbody>\n",
       "    <tr>\n",
       "      <th>0</th>\n",
       "      <td>283207</td>\n",
       "      <td>4780.0</td>\n",
       "      <td>62.597096</td>\n",
       "      <td>3.165868</td>\n",
       "      <td>55.04</td>\n",
       "      <td>60.3375</td>\n",
       "      <td>63.170</td>\n",
       "      <td>65.09</td>\n",
       "      <td>70.12</td>\n",
       "    </tr>\n",
       "    <tr>\n",
       "      <th>1</th>\n",
       "      <td>283209</td>\n",
       "      <td>4780.0</td>\n",
       "      <td>66.685291</td>\n",
       "      <td>1.741411</td>\n",
       "      <td>61.42</td>\n",
       "      <td>65.3500</td>\n",
       "      <td>67.050</td>\n",
       "      <td>68.09</td>\n",
       "      <td>70.15</td>\n",
       "    </tr>\n",
       "    <tr>\n",
       "      <th>2</th>\n",
       "      <td>283211</td>\n",
       "      <td>4780.0</td>\n",
       "      <td>71.442550</td>\n",
       "      <td>2.097606</td>\n",
       "      <td>65.84</td>\n",
       "      <td>69.6900</td>\n",
       "      <td>71.810</td>\n",
       "      <td>73.43</td>\n",
       "      <td>74.58</td>\n",
       "    </tr>\n",
       "    <tr>\n",
       "      <th>3</th>\n",
       "      <td>283214</td>\n",
       "      <td>4780.0</td>\n",
       "      <td>71.427699</td>\n",
       "      <td>2.205529</td>\n",
       "      <td>65.20</td>\n",
       "      <td>69.6175</td>\n",
       "      <td>71.805</td>\n",
       "      <td>73.42</td>\n",
       "      <td>74.91</td>\n",
       "    </tr>\n",
       "    <tr>\n",
       "      <th>4</th>\n",
       "      <td>283216</td>\n",
       "      <td>4780.0</td>\n",
       "      <td>71.541416</td>\n",
       "      <td>1.511267</td>\n",
       "      <td>66.82</td>\n",
       "      <td>70.7700</td>\n",
       "      <td>71.810</td>\n",
       "      <td>72.50</td>\n",
       "      <td>75.26</td>\n",
       "    </tr>\n",
       "    <tr>\n",
       "      <th>...</th>\n",
       "      <td>...</td>\n",
       "      <td>...</td>\n",
       "      <td>...</td>\n",
       "      <td>...</td>\n",
       "      <td>...</td>\n",
       "      <td>...</td>\n",
       "      <td>...</td>\n",
       "      <td>...</td>\n",
       "      <td>...</td>\n",
       "    </tr>\n",
       "    <tr>\n",
       "      <th>162</th>\n",
       "      <td>196602</td>\n",
       "      <td>1518.0</td>\n",
       "      <td>70.703887</td>\n",
       "      <td>1.568331</td>\n",
       "      <td>65.30</td>\n",
       "      <td>70.5000</td>\n",
       "      <td>71.400</td>\n",
       "      <td>71.70</td>\n",
       "      <td>74.20</td>\n",
       "    </tr>\n",
       "    <tr>\n",
       "      <th>163</th>\n",
       "      <td>196620</td>\n",
       "      <td>1518.0</td>\n",
       "      <td>72.494005</td>\n",
       "      <td>1.643885</td>\n",
       "      <td>69.10</td>\n",
       "      <td>71.3000</td>\n",
       "      <td>72.100</td>\n",
       "      <td>73.60</td>\n",
       "      <td>76.40</td>\n",
       "    </tr>\n",
       "    <tr>\n",
       "      <th>164</th>\n",
       "      <td>196638</td>\n",
       "      <td>1518.0</td>\n",
       "      <td>70.989723</td>\n",
       "      <td>1.895229</td>\n",
       "      <td>66.20</td>\n",
       "      <td>70.1250</td>\n",
       "      <td>71.400</td>\n",
       "      <td>71.70</td>\n",
       "      <td>82.90</td>\n",
       "    </tr>\n",
       "    <tr>\n",
       "      <th>165</th>\n",
       "      <td>196654</td>\n",
       "      <td>1518.0</td>\n",
       "      <td>64.281555</td>\n",
       "      <td>4.185819</td>\n",
       "      <td>56.90</td>\n",
       "      <td>61.4000</td>\n",
       "      <td>63.550</td>\n",
       "      <td>67.00</td>\n",
       "      <td>78.90</td>\n",
       "    </tr>\n",
       "    <tr>\n",
       "      <th>166</th>\n",
       "      <td>196674</td>\n",
       "      <td>1519.0</td>\n",
       "      <td>71.949045</td>\n",
       "      <td>8.590327</td>\n",
       "      <td>54.80</td>\n",
       "      <td>65.2000</td>\n",
       "      <td>71.000</td>\n",
       "      <td>80.10</td>\n",
       "      <td>88.00</td>\n",
       "    </tr>\n",
       "  </tbody>\n",
       "</table>\n",
       "<p>167 rows × 9 columns</p>\n",
       "</div>"
      ],
      "text/plain": [
       "    id_point   count       mean       std    min      25%     50%    75%  \\\n",
       "0     283207  4780.0  62.597096  3.165868  55.04  60.3375  63.170  65.09   \n",
       "1     283209  4780.0  66.685291  1.741411  61.42  65.3500  67.050  68.09   \n",
       "2     283211  4780.0  71.442550  2.097606  65.84  69.6900  71.810  73.43   \n",
       "3     283214  4780.0  71.427699  2.205529  65.20  69.6175  71.805  73.42   \n",
       "4     283216  4780.0  71.541416  1.511267  66.82  70.7700  71.810  72.50   \n",
       "..       ...     ...        ...       ...    ...      ...     ...    ...   \n",
       "162   196602  1518.0  70.703887  1.568331  65.30  70.5000  71.400  71.70   \n",
       "163   196620  1518.0  72.494005  1.643885  69.10  71.3000  72.100  73.60   \n",
       "164   196638  1518.0  70.989723  1.895229  66.20  70.1250  71.400  71.70   \n",
       "165   196654  1518.0  64.281555  4.185819  56.90  61.4000  63.550  67.00   \n",
       "166   196674  1519.0  71.949045  8.590327  54.80  65.2000  71.000  80.10   \n",
       "\n",
       "       max  \n",
       "0    70.12  \n",
       "1    70.15  \n",
       "2    74.58  \n",
       "3    74.91  \n",
       "4    75.26  \n",
       "..     ...  \n",
       "162  74.20  \n",
       "163  76.40  \n",
       "164  82.90  \n",
       "165  78.90  \n",
       "166  88.00  \n",
       "\n",
       "[167 rows x 9 columns]"
      ]
     },
     "execution_count": 64,
     "metadata": {},
     "output_type": "execute_result"
    }
   ],
   "source": [
    "stats_data = stats_data.T.reset_index().rename(columns={\"index\":\"id_point\"})\n",
    "stats_data"
   ]
  },
  {
   "cell_type": "markdown",
   "id": "9958020c",
   "metadata": {
    "papermill": {
     "duration": 0.140063,
     "end_time": "2022-05-13T16:25:02.701179",
     "exception": false,
     "start_time": "2022-05-13T16:25:02.561116",
     "status": "completed"
    },
    "pycharm": {
     "name": "#%% md\n"
    },
    "tags": []
   },
   "source": [
    "And now let's convert the `id_point` column in our metadata set to string (is an int right now) so we are able to merge with `stats_data`:"
   ]
  },
  {
   "cell_type": "code",
   "execution_count": 65,
   "id": "bc4eced1",
   "metadata": {
    "execution": {
     "iopub.execute_input": "2022-05-13T16:25:02.983945Z",
     "iopub.status.busy": "2022-05-13T16:25:02.983224Z",
     "iopub.status.idle": "2022-05-13T16:25:02.987806Z",
     "shell.execute_reply": "2022-05-13T16:25:02.988251Z",
     "shell.execute_reply.started": "2022-05-04T01:58:08.636223Z"
    },
    "papermill": {
     "duration": 0.148447,
     "end_time": "2022-05-13T16:25:02.988449",
     "exception": false,
     "start_time": "2022-05-13T16:25:02.840002",
     "status": "completed"
    },
    "pycharm": {
     "name": "#%%\n"
    },
    "tags": []
   },
   "outputs": [],
   "source": [
    "metadata['id_point'] = metadata['id_point'].astype(str)"
   ]
  },
  {
   "cell_type": "markdown",
   "id": "d8943a75",
   "metadata": {
    "papermill": {
     "duration": 0.136543,
     "end_time": "2022-05-13T16:25:03.261648",
     "exception": false,
     "start_time": "2022-05-13T16:25:03.125105",
     "status": "completed"
    },
    "pycharm": {
     "name": "#%% md\n"
    },
    "tags": []
   },
   "source": [
    "And merge!"
   ]
  },
  {
   "cell_type": "code",
   "execution_count": 66,
   "id": "11a5130e",
   "metadata": {
    "execution": {
     "iopub.execute_input": "2022-05-13T16:25:03.539069Z",
     "iopub.status.busy": "2022-05-13T16:25:03.538357Z",
     "iopub.status.idle": "2022-05-13T16:25:03.573207Z",
     "shell.execute_reply": "2022-05-13T16:25:03.573718Z",
     "shell.execute_reply.started": "2022-05-04T01:58:26.144368Z"
    },
    "papermill": {
     "duration": 0.17522,
     "end_time": "2022-05-13T16:25:03.573908",
     "exception": false,
     "start_time": "2022-05-13T16:25:03.398688",
     "status": "completed"
    },
    "pycharm": {
     "name": "#%%\n"
    },
    "tags": []
   },
   "outputs": [
    {
     "data": {
      "text/html": [
       "<div>\n",
       "<style scoped>\n",
       "    .dataframe tbody tr th:only-of-type {\n",
       "        vertical-align: middle;\n",
       "    }\n",
       "\n",
       "    .dataframe tbody tr th {\n",
       "        vertical-align: top;\n",
       "    }\n",
       "\n",
       "    .dataframe thead th {\n",
       "        text-align: right;\n",
       "    }\n",
       "</style>\n",
       "<table border=\"1\" class=\"dataframe\">\n",
       "  <thead>\n",
       "    <tr style=\"text-align: right;\">\n",
       "      <th></th>\n",
       "      <th>id_point</th>\n",
       "      <th>count</th>\n",
       "      <th>mean</th>\n",
       "      <th>std</th>\n",
       "      <th>min</th>\n",
       "      <th>25%</th>\n",
       "      <th>50%</th>\n",
       "      <th>75%</th>\n",
       "      <th>max</th>\n",
       "      <th>building_id</th>\n",
       "      <th>...</th>\n",
       "      <th>measurement_id</th>\n",
       "      <th>datasource_hash</th>\n",
       "      <th>topic</th>\n",
       "      <th>equip_id</th>\n",
       "      <th>id_bdg</th>\n",
       "      <th>name_bdg</th>\n",
       "      <th>equip_type_abbr</th>\n",
       "      <th>equip_type_name</th>\n",
       "      <th>area_served_desc</th>\n",
       "      <th>tags</th>\n",
       "    </tr>\n",
       "  </thead>\n",
       "  <tbody>\n",
       "    <tr>\n",
       "      <th>0</th>\n",
       "      <td>283207</td>\n",
       "      <td>4780.0</td>\n",
       "      <td>62.597096</td>\n",
       "      <td>3.165868</td>\n",
       "      <td>55.04</td>\n",
       "      <td>60.3375</td>\n",
       "      <td>63.170</td>\n",
       "      <td>65.09</td>\n",
       "      <td>70.12</td>\n",
       "      <td>426</td>\n",
       "      <td>...</td>\n",
       "      <td>1</td>\n",
       "      <td>87113a711b107b4b443340d16ad6cceb</td>\n",
       "      <td>nyserda+000076513+fcu-hwc1+480 W 42nd St - Sig...</td>\n",
       "      <td>26941</td>\n",
       "      <td>426</td>\n",
       "      <td>76513</td>\n",
       "      <td>FCU</td>\n",
       "      <td>Fan Coil Unit</td>\n",
       "      <td>NaN</td>\n",
       "      <td>['fcu', 'hvac']</td>\n",
       "    </tr>\n",
       "    <tr>\n",
       "      <th>1</th>\n",
       "      <td>283209</td>\n",
       "      <td>4780.0</td>\n",
       "      <td>66.685291</td>\n",
       "      <td>1.741411</td>\n",
       "      <td>61.42</td>\n",
       "      <td>65.3500</td>\n",
       "      <td>67.050</td>\n",
       "      <td>68.09</td>\n",
       "      <td>70.15</td>\n",
       "      <td>426</td>\n",
       "      <td>...</td>\n",
       "      <td>1</td>\n",
       "      <td>ef26797e2fd4e462890999b64b0abc0c</td>\n",
       "      <td>nyserda+000076513+fcu-hwc2+480 W 42nd St - Sig...</td>\n",
       "      <td>26942</td>\n",
       "      <td>426</td>\n",
       "      <td>76513</td>\n",
       "      <td>FCU</td>\n",
       "      <td>Fan Coil Unit</td>\n",
       "      <td>NaN</td>\n",
       "      <td>['fcu', 'hvac']</td>\n",
       "    </tr>\n",
       "    <tr>\n",
       "      <th>2</th>\n",
       "      <td>283211</td>\n",
       "      <td>4780.0</td>\n",
       "      <td>71.442550</td>\n",
       "      <td>2.097606</td>\n",
       "      <td>65.84</td>\n",
       "      <td>69.6900</td>\n",
       "      <td>71.810</td>\n",
       "      <td>73.43</td>\n",
       "      <td>74.58</td>\n",
       "      <td>426</td>\n",
       "      <td>...</td>\n",
       "      <td>1</td>\n",
       "      <td>6ee24ebb3da96f5f9ed182374b48b2d8</td>\n",
       "      <td>nyserda+000076513+fcu-hwc3+480 W 42nd St - Sig...</td>\n",
       "      <td>26943</td>\n",
       "      <td>426</td>\n",
       "      <td>76513</td>\n",
       "      <td>FCU</td>\n",
       "      <td>Fan Coil Unit</td>\n",
       "      <td>NaN</td>\n",
       "      <td>['fcu', 'hvac']</td>\n",
       "    </tr>\n",
       "    <tr>\n",
       "      <th>3</th>\n",
       "      <td>283214</td>\n",
       "      <td>4780.0</td>\n",
       "      <td>71.427699</td>\n",
       "      <td>2.205529</td>\n",
       "      <td>65.20</td>\n",
       "      <td>69.6175</td>\n",
       "      <td>71.805</td>\n",
       "      <td>73.42</td>\n",
       "      <td>74.91</td>\n",
       "      <td>426</td>\n",
       "      <td>...</td>\n",
       "      <td>1</td>\n",
       "      <td>37b2699031cc89ff369ee3b0d5a1207c</td>\n",
       "      <td>nyserda+000076513+fcu-hwc5+480 W 42nd St - Sig...</td>\n",
       "      <td>26945</td>\n",
       "      <td>426</td>\n",
       "      <td>76513</td>\n",
       "      <td>FCU</td>\n",
       "      <td>Fan Coil Unit</td>\n",
       "      <td>NaN</td>\n",
       "      <td>['fcu', 'hvac']</td>\n",
       "    </tr>\n",
       "    <tr>\n",
       "      <th>4</th>\n",
       "      <td>283216</td>\n",
       "      <td>4780.0</td>\n",
       "      <td>71.541416</td>\n",
       "      <td>1.511267</td>\n",
       "      <td>66.82</td>\n",
       "      <td>70.7700</td>\n",
       "      <td>71.810</td>\n",
       "      <td>72.50</td>\n",
       "      <td>75.26</td>\n",
       "      <td>426</td>\n",
       "      <td>...</td>\n",
       "      <td>1</td>\n",
       "      <td>99098e67b09d26cac4610dd619b1c1bc</td>\n",
       "      <td>nyserda+000076513+fcu-hwc6+480 W 42nd St - Sig...</td>\n",
       "      <td>26946</td>\n",
       "      <td>426</td>\n",
       "      <td>76513</td>\n",
       "      <td>FCU</td>\n",
       "      <td>Fan Coil Unit</td>\n",
       "      <td>NaN</td>\n",
       "      <td>['fcu', 'hvac']</td>\n",
       "    </tr>\n",
       "  </tbody>\n",
       "</table>\n",
       "<p>5 rows × 32 columns</p>\n",
       "</div>"
      ],
      "text/plain": [
       "  id_point   count       mean       std    min      25%     50%    75%    max  \\\n",
       "0   283207  4780.0  62.597096  3.165868  55.04  60.3375  63.170  65.09  70.12   \n",
       "1   283209  4780.0  66.685291  1.741411  61.42  65.3500  67.050  68.09  70.15   \n",
       "2   283211  4780.0  71.442550  2.097606  65.84  69.6900  71.810  73.43  74.58   \n",
       "3   283214  4780.0  71.427699  2.205529  65.20  69.6175  71.805  73.42  74.91   \n",
       "4   283216  4780.0  71.541416  1.511267  66.82  70.7700  71.810  72.50  75.26   \n",
       "\n",
       "   building_id  ...  measurement_id                   datasource_hash  \\\n",
       "0          426  ...               1  87113a711b107b4b443340d16ad6cceb   \n",
       "1          426  ...               1  ef26797e2fd4e462890999b64b0abc0c   \n",
       "2          426  ...               1  6ee24ebb3da96f5f9ed182374b48b2d8   \n",
       "3          426  ...               1  37b2699031cc89ff369ee3b0d5a1207c   \n",
       "4          426  ...               1  99098e67b09d26cac4610dd619b1c1bc   \n",
       "\n",
       "                                               topic  equip_id id_bdg  \\\n",
       "0  nyserda+000076513+fcu-hwc1+480 W 42nd St - Sig...     26941    426   \n",
       "1  nyserda+000076513+fcu-hwc2+480 W 42nd St - Sig...     26942    426   \n",
       "2  nyserda+000076513+fcu-hwc3+480 W 42nd St - Sig...     26943    426   \n",
       "3  nyserda+000076513+fcu-hwc5+480 W 42nd St - Sig...     26945    426   \n",
       "4  nyserda+000076513+fcu-hwc6+480 W 42nd St - Sig...     26946    426   \n",
       "\n",
       "  name_bdg equip_type_abbr equip_type_name  area_served_desc             tags  \n",
       "0    76513             FCU   Fan Coil Unit               NaN  ['fcu', 'hvac']  \n",
       "1    76513             FCU   Fan Coil Unit               NaN  ['fcu', 'hvac']  \n",
       "2    76513             FCU   Fan Coil Unit               NaN  ['fcu', 'hvac']  \n",
       "3    76513             FCU   Fan Coil Unit               NaN  ['fcu', 'hvac']  \n",
       "4    76513             FCU   Fan Coil Unit               NaN  ['fcu', 'hvac']  \n",
       "\n",
       "[5 rows x 32 columns]"
      ]
     },
     "execution_count": 66,
     "metadata": {},
     "output_type": "execute_result"
    }
   ],
   "source": [
    "stats_merged = pd.merge(stats_data, metadata, how=\"left\", on=\"id_point\")\n",
    "stats_merged.head()"
   ]
  },
  {
   "cell_type": "code",
   "execution_count": 67,
   "id": "75d5398b",
   "metadata": {
    "execution": {
     "iopub.execute_input": "2022-05-13T16:25:03.864835Z",
     "iopub.status.busy": "2022-05-13T16:25:03.855266Z",
     "iopub.status.idle": "2022-05-13T16:25:03.904103Z",
     "shell.execute_reply": "2022-05-13T16:25:03.904640Z",
     "shell.execute_reply.started": "2022-05-04T01:58:32.54441Z"
    },
    "papermill": {
     "duration": 0.192931,
     "end_time": "2022-05-13T16:25:03.904817",
     "exception": false,
     "start_time": "2022-05-13T16:25:03.711886",
     "status": "completed"
    },
    "pycharm": {
     "name": "#%%\n"
    },
    "tags": []
   },
   "outputs": [
    {
     "data": {
      "text/html": [
       "<div>\n",
       "<style scoped>\n",
       "    .dataframe tbody tr th:only-of-type {\n",
       "        vertical-align: middle;\n",
       "    }\n",
       "\n",
       "    .dataframe tbody tr th {\n",
       "        vertical-align: top;\n",
       "    }\n",
       "\n",
       "    .dataframe thead th {\n",
       "        text-align: right;\n",
       "    }\n",
       "</style>\n",
       "<table border=\"1\" class=\"dataframe\">\n",
       "  <thead>\n",
       "    <tr style=\"text-align: right;\">\n",
       "      <th></th>\n",
       "      <th>3873</th>\n",
       "      <th>3876</th>\n",
       "      <th>3877</th>\n",
       "      <th>3880</th>\n",
       "      <th>3882</th>\n",
       "      <th>6125</th>\n",
       "      <th>20998</th>\n",
       "      <th>21011</th>\n",
       "      <th>21025</th>\n",
       "      <th>21038</th>\n",
       "      <th>...</th>\n",
       "      <th>39149</th>\n",
       "      <th>39155</th>\n",
       "      <th>39165</th>\n",
       "      <th>39189</th>\n",
       "      <th>39195</th>\n",
       "      <th>39214</th>\n",
       "      <th>39221</th>\n",
       "      <th>39230</th>\n",
       "      <th>39239</th>\n",
       "      <th>39254</th>\n",
       "    </tr>\n",
       "  </thead>\n",
       "  <tbody>\n",
       "    <tr>\n",
       "      <th>id_point</th>\n",
       "      <td>283207</td>\n",
       "      <td>283209</td>\n",
       "      <td>283211</td>\n",
       "      <td>283214</td>\n",
       "      <td>283216</td>\n",
       "      <td>267044</td>\n",
       "      <td>191413</td>\n",
       "      <td>191426</td>\n",
       "      <td>191439</td>\n",
       "      <td>191452</td>\n",
       "      <td>...</td>\n",
       "      <td>223181</td>\n",
       "      <td>223191</td>\n",
       "      <td>223202</td>\n",
       "      <td>223221</td>\n",
       "      <td>223232</td>\n",
       "      <td>223243</td>\n",
       "      <td>223254</td>\n",
       "      <td>223265</td>\n",
       "      <td>223276</td>\n",
       "      <td>223287</td>\n",
       "    </tr>\n",
       "    <tr>\n",
       "      <th>building_id</th>\n",
       "      <td>426</td>\n",
       "      <td>426</td>\n",
       "      <td>426</td>\n",
       "      <td>426</td>\n",
       "      <td>426</td>\n",
       "      <td>417</td>\n",
       "      <td>101</td>\n",
       "      <td>101</td>\n",
       "      <td>101</td>\n",
       "      <td>101</td>\n",
       "      <td>...</td>\n",
       "      <td>354</td>\n",
       "      <td>354</td>\n",
       "      <td>354</td>\n",
       "      <td>354</td>\n",
       "      <td>354</td>\n",
       "      <td>354</td>\n",
       "      <td>354</td>\n",
       "      <td>354</td>\n",
       "      <td>354</td>\n",
       "      <td>354</td>\n",
       "    </tr>\n",
       "    <tr>\n",
       "      <th>last_updated</th>\n",
       "      <td>1606797900000.0</td>\n",
       "      <td>1606797900000.0</td>\n",
       "      <td>1606797900000.0</td>\n",
       "      <td>1579245300000.0</td>\n",
       "      <td>1606797900000.0</td>\n",
       "      <td>1625703300000.0</td>\n",
       "      <td>1546317900000.0</td>\n",
       "      <td>1546317900000.0</td>\n",
       "      <td>1546317900000.0</td>\n",
       "      <td>1546317900000.0</td>\n",
       "      <td>...</td>\n",
       "      <td>1535773500000.0</td>\n",
       "      <td>1535773500000.0</td>\n",
       "      <td>1535773500000.0</td>\n",
       "      <td>1535773500000.0</td>\n",
       "      <td>1535773500000.0</td>\n",
       "      <td>1535773500000.0</td>\n",
       "      <td>1535773500000.0</td>\n",
       "      <td>1535773500000.0</td>\n",
       "      <td>1535773500000.0</td>\n",
       "      <td>1535773500000.0</td>\n",
       "    </tr>\n",
       "    <tr>\n",
       "      <th>first_updated</th>\n",
       "      <td>1512104400000.0</td>\n",
       "      <td>1512104400000.0</td>\n",
       "      <td>1512104400000.0</td>\n",
       "      <td>1512104400000.0</td>\n",
       "      <td>1512104400000.0</td>\n",
       "      <td>1538916300000.0</td>\n",
       "      <td>1504238400000.0</td>\n",
       "      <td>1504238400000.0</td>\n",
       "      <td>1504238400000.0</td>\n",
       "      <td>1504238400000.0</td>\n",
       "      <td>...</td>\n",
       "      <td>1517461200000.0</td>\n",
       "      <td>1517461200000.0</td>\n",
       "      <td>1517461200000.0</td>\n",
       "      <td>1517461200000.0</td>\n",
       "      <td>1517461200000.0</td>\n",
       "      <td>1517461200000.0</td>\n",
       "      <td>1517461200000.0</td>\n",
       "      <td>1517461200000.0</td>\n",
       "      <td>1517461200000.0</td>\n",
       "      <td>1517461200000.0</td>\n",
       "    </tr>\n",
       "    <tr>\n",
       "      <th>device</th>\n",
       "      <td>NaN</td>\n",
       "      <td>NaN</td>\n",
       "      <td>NaN</td>\n",
       "      <td>NaN</td>\n",
       "      <td>NaN</td>\n",
       "      <td>NaN</td>\n",
       "      <td>NaN</td>\n",
       "      <td>NaN</td>\n",
       "      <td>NaN</td>\n",
       "      <td>NaN</td>\n",
       "      <td>...</td>\n",
       "      <td>NaN</td>\n",
       "      <td>NaN</td>\n",
       "      <td>NaN</td>\n",
       "      <td>NaN</td>\n",
       "      <td>NaN</td>\n",
       "      <td>NaN</td>\n",
       "      <td>NaN</td>\n",
       "      <td>NaN</td>\n",
       "      <td>NaN</td>\n",
       "      <td>NaN</td>\n",
       "    </tr>\n",
       "    <tr>\n",
       "      <th>objectId</th>\n",
       "      <td>NaN</td>\n",
       "      <td>NaN</td>\n",
       "      <td>NaN</td>\n",
       "      <td>NaN</td>\n",
       "      <td>NaN</td>\n",
       "      <td>NaN</td>\n",
       "      <td>NaN</td>\n",
       "      <td>NaN</td>\n",
       "      <td>NaN</td>\n",
       "      <td>NaN</td>\n",
       "      <td>...</td>\n",
       "      <td>NaN</td>\n",
       "      <td>NaN</td>\n",
       "      <td>NaN</td>\n",
       "      <td>NaN</td>\n",
       "      <td>NaN</td>\n",
       "      <td>NaN</td>\n",
       "      <td>NaN</td>\n",
       "      <td>NaN</td>\n",
       "      <td>NaN</td>\n",
       "      <td>NaN</td>\n",
       "    </tr>\n",
       "    <tr>\n",
       "      <th>name_point</th>\n",
       "      <td>480 W 42nd St - Signature Theatre HWC1 SpcTemp...</td>\n",
       "      <td>480 W 42nd St - Signature Theatre HWC2 SpcTemp...</td>\n",
       "      <td>480 W 42nd St - Signature Theatre HWC3 SpcTemp...</td>\n",
       "      <td>480 W 42nd St - Signature Theatre HWC5 SpcTemp...</td>\n",
       "      <td>480 W 42nd St - Signature Theatre HWC6 SpcTemp...</td>\n",
       "      <td>FCUs FCU-1-1 FCU1-1SpaceTemp</td>\n",
       "      <td>NaN</td>\n",
       "      <td>NaN</td>\n",
       "      <td>NaN</td>\n",
       "      <td>NaN</td>\n",
       "      <td>...</td>\n",
       "      <td>NaN</td>\n",
       "      <td>NaN</td>\n",
       "      <td>NaN</td>\n",
       "      <td>NaN</td>\n",
       "      <td>NaN</td>\n",
       "      <td>NaN</td>\n",
       "      <td>NaN</td>\n",
       "      <td>NaN</td>\n",
       "      <td>NaN</td>\n",
       "      <td>NaN</td>\n",
       "    </tr>\n",
       "    <tr>\n",
       "      <th>description</th>\n",
       "      <td>NaN</td>\n",
       "      <td>NaN</td>\n",
       "      <td>NaN</td>\n",
       "      <td>NaN</td>\n",
       "      <td>NaN</td>\n",
       "      <td>FCUs FCU-1-1 FCU1-1SpaceTemp</td>\n",
       "      <td>FCU-1-1 Left 1st flr rear_Space Temp</td>\n",
       "      <td>FCU-1-2 Middle ist flr rear_Space Temp</td>\n",
       "      <td>FCU-1-3 Right 1st flr rear_Space Temp</td>\n",
       "      <td>FCU-2-1 Library_Space Temp</td>\n",
       "      <td>...</td>\n",
       "      <td>CUH-2 SW Vestibule_Space Temp</td>\n",
       "      <td>FCU-03 High School Main Lobby Vestibule_Space ...</td>\n",
       "      <td>FCU-3 Metal Shop_Space Temp</td>\n",
       "      <td>FCU-04 Main Lobby 7/8_Space Temp</td>\n",
       "      <td>FCU-4 Wood Shop_Space Temp</td>\n",
       "      <td>FCU-05 Lower Atrium_Space Temp</td>\n",
       "      <td>FCU-6 East Vestibule_Space Temp</td>\n",
       "      <td>FCU-07 West Middle School Wing_Space Temp</td>\n",
       "      <td>FCU-08 2nd Floor East Wing_Space Temp</td>\n",
       "      <td>FCU-09 Upper Atrium_Space Temp</td>\n",
       "    </tr>\n",
       "    <tr>\n",
       "      <th>units</th>\n",
       "      <td>F</td>\n",
       "      <td>F</td>\n",
       "      <td>F</td>\n",
       "      <td>F</td>\n",
       "      <td>F</td>\n",
       "      <td>F</td>\n",
       "      <td>F</td>\n",
       "      <td>F</td>\n",
       "      <td>F</td>\n",
       "      <td>F</td>\n",
       "      <td>...</td>\n",
       "      <td>F</td>\n",
       "      <td>F</td>\n",
       "      <td>F</td>\n",
       "      <td>F</td>\n",
       "      <td>F</td>\n",
       "      <td>F</td>\n",
       "      <td>F</td>\n",
       "      <td>F</td>\n",
       "      <td>F</td>\n",
       "      <td>F</td>\n",
       "    </tr>\n",
       "    <tr>\n",
       "      <th>tagged_units</th>\n",
       "      <td>f</td>\n",
       "      <td>f</td>\n",
       "      <td>f</td>\n",
       "      <td>f</td>\n",
       "      <td>f</td>\n",
       "      <td>f</td>\n",
       "      <td>NaN</td>\n",
       "      <td>NaN</td>\n",
       "      <td>NaN</td>\n",
       "      <td>NaN</td>\n",
       "      <td>...</td>\n",
       "      <td>NaN</td>\n",
       "      <td>NaN</td>\n",
       "      <td>NaN</td>\n",
       "      <td>NaN</td>\n",
       "      <td>NaN</td>\n",
       "      <td>NaN</td>\n",
       "      <td>NaN</td>\n",
       "      <td>NaN</td>\n",
       "      <td>NaN</td>\n",
       "      <td>NaN</td>\n",
       "    </tr>\n",
       "    <tr>\n",
       "      <th>raw_unit_id</th>\n",
       "      <td>2</td>\n",
       "      <td>2</td>\n",
       "      <td>2</td>\n",
       "      <td>2</td>\n",
       "      <td>2</td>\n",
       "      <td>2</td>\n",
       "      <td>2</td>\n",
       "      <td>2</td>\n",
       "      <td>2</td>\n",
       "      <td>2</td>\n",
       "      <td>...</td>\n",
       "      <td>2</td>\n",
       "      <td>2</td>\n",
       "      <td>2</td>\n",
       "      <td>2</td>\n",
       "      <td>2</td>\n",
       "      <td>2</td>\n",
       "      <td>2</td>\n",
       "      <td>2</td>\n",
       "      <td>2</td>\n",
       "      <td>2</td>\n",
       "    </tr>\n",
       "    <tr>\n",
       "      <th>value</th>\n",
       "      <td>66.41</td>\n",
       "      <td>66.97</td>\n",
       "      <td>69.57</td>\n",
       "      <td>71.0</td>\n",
       "      <td>69.57</td>\n",
       "      <td>72.2</td>\n",
       "      <td>TRUE</td>\n",
       "      <td>TRUE</td>\n",
       "      <td>TRUE</td>\n",
       "      <td>TRUE</td>\n",
       "      <td>...</td>\n",
       "      <td>79.1</td>\n",
       "      <td>80.6</td>\n",
       "      <td>82.6</td>\n",
       "      <td>80.7</td>\n",
       "      <td>81.2</td>\n",
       "      <td>82.4</td>\n",
       "      <td>77.4</td>\n",
       "      <td>78.5</td>\n",
       "      <td>80.3</td>\n",
       "      <td>83</td>\n",
       "    </tr>\n",
       "    <tr>\n",
       "      <th>type</th>\n",
       "      <td>Zone Temperature</td>\n",
       "      <td>Zone Temperature</td>\n",
       "      <td>Zone Temperature</td>\n",
       "      <td>Zone Temperature</td>\n",
       "      <td>Zone Temperature</td>\n",
       "      <td>Zone Temperature</td>\n",
       "      <td>Zone Temperature</td>\n",
       "      <td>Zone Temperature</td>\n",
       "      <td>Zone Temperature</td>\n",
       "      <td>Zone Temperature</td>\n",
       "      <td>...</td>\n",
       "      <td>Zone Temperature</td>\n",
       "      <td>Zone Temperature</td>\n",
       "      <td>Zone Temperature</td>\n",
       "      <td>Zone Temperature</td>\n",
       "      <td>Zone Temperature</td>\n",
       "      <td>Zone Temperature</td>\n",
       "      <td>Zone Temperature</td>\n",
       "      <td>Zone Temperature</td>\n",
       "      <td>Zone Temperature</td>\n",
       "      <td>Zone Temperature</td>\n",
       "    </tr>\n",
       "    <tr>\n",
       "      <th>point_type_id</th>\n",
       "      <td>77</td>\n",
       "      <td>77</td>\n",
       "      <td>77</td>\n",
       "      <td>77</td>\n",
       "      <td>77</td>\n",
       "      <td>77</td>\n",
       "      <td>77</td>\n",
       "      <td>77</td>\n",
       "      <td>77</td>\n",
       "      <td>77</td>\n",
       "      <td>...</td>\n",
       "      <td>77</td>\n",
       "      <td>77</td>\n",
       "      <td>77</td>\n",
       "      <td>77</td>\n",
       "      <td>77</td>\n",
       "      <td>77</td>\n",
       "      <td>77</td>\n",
       "      <td>77</td>\n",
       "      <td>77</td>\n",
       "      <td>77</td>\n",
       "    </tr>\n",
       "    <tr>\n",
       "      <th>measurement_id</th>\n",
       "      <td>1</td>\n",
       "      <td>1</td>\n",
       "      <td>1</td>\n",
       "      <td>1</td>\n",
       "      <td>1</td>\n",
       "      <td>1</td>\n",
       "      <td>1</td>\n",
       "      <td>1</td>\n",
       "      <td>1</td>\n",
       "      <td>1</td>\n",
       "      <td>...</td>\n",
       "      <td>1</td>\n",
       "      <td>1</td>\n",
       "      <td>1</td>\n",
       "      <td>1</td>\n",
       "      <td>1</td>\n",
       "      <td>1</td>\n",
       "      <td>1</td>\n",
       "      <td>1</td>\n",
       "      <td>1</td>\n",
       "      <td>1</td>\n",
       "    </tr>\n",
       "    <tr>\n",
       "      <th>datasource_hash</th>\n",
       "      <td>87113a711b107b4b443340d16ad6cceb</td>\n",
       "      <td>ef26797e2fd4e462890999b64b0abc0c</td>\n",
       "      <td>6ee24ebb3da96f5f9ed182374b48b2d8</td>\n",
       "      <td>37b2699031cc89ff369ee3b0d5a1207c</td>\n",
       "      <td>99098e67b09d26cac4610dd619b1c1bc</td>\n",
       "      <td>6cfc8ab9f70edb8a35aeb10dee7a6a7f</td>\n",
       "      <td>f3af420f076433d400edad7b157b508c</td>\n",
       "      <td>e4041458ff6a848c344f01fae3e572e1</td>\n",
       "      <td>dc149d5264fcaa95d47782a09aa2705c</td>\n",
       "      <td>d52f811d4be6bf904db397ef88274ad3</td>\n",
       "      <td>...</td>\n",
       "      <td>2cd7338b385918d1db922123479a81b9</td>\n",
       "      <td>7460d891d6577a3ecafebe90ac554bc0</td>\n",
       "      <td>bd6a7b69be773da0d2c9e5c70de8995f</td>\n",
       "      <td>c479e309da8bb98902afde51e4ec54e1</td>\n",
       "      <td>8e94dd590d5466c6f8e3e7fac8d5f5d6</td>\n",
       "      <td>bb5c00ba47cbd1483a5b9ff485f41f83</td>\n",
       "      <td>defea9c7e96a2449d6e4966ee00919fc</td>\n",
       "      <td>5089c8f75101c159fa0d8f0a4934dba7</td>\n",
       "      <td>c9b654828ea2373fc59451fd89adc31d</td>\n",
       "      <td>475478752433bfe793e0bfd406437578</td>\n",
       "    </tr>\n",
       "    <tr>\n",
       "      <th>topic</th>\n",
       "      <td>nyserda+000076513+fcu-hwc1+480 W 42nd St - Sig...</td>\n",
       "      <td>nyserda+000076513+fcu-hwc2+480 W 42nd St - Sig...</td>\n",
       "      <td>nyserda+000076513+fcu-hwc3+480 W 42nd St - Sig...</td>\n",
       "      <td>nyserda+000076513+fcu-hwc5+480 W 42nd St - Sig...</td>\n",
       "      <td>nyserda+000076513+fcu-hwc6+480 W 42nd St - Sig...</td>\n",
       "      <td>nyserda+0000084120+fcu-1+FCUs FCU-1-1 FCU1-1Sp...</td>\n",
       "      <td>nyserda+0000075049+fcu-1-1+FCU-1-1 Left 1st fl...</td>\n",
       "      <td>nyserda+0000075049+fcu-1-2+FCU-1-2 Middle ist ...</td>\n",
       "      <td>nyserda+0000075049+fcu-1-3+FCU-1-3 Right 1st f...</td>\n",
       "      <td>nyserda+0000075049+fcu-2-1+FCU-2-1 Library_Spa...</td>\n",
       "      <td>...</td>\n",
       "      <td>nyserda+0000082140+fcu2-southWestVestibule+CUH...</td>\n",
       "      <td>nyserda+0000082140+fcu3-mainVestibule+FCU-03 H...</td>\n",
       "      <td>nyserda+0000082140+fcu3-metalShop+FCU-3 Metal ...</td>\n",
       "      <td>nyserda+0000082140+fcu4-mainLobby+FCU-04 Main ...</td>\n",
       "      <td>nyserda+0000082140+fcu4-woodShop+FCU-4 Wood Sh...</td>\n",
       "      <td>nyserda+0000082140+fcu5-lowerAtrium+FCU-05 Low...</td>\n",
       "      <td>nyserda+0000082140+fcu6-eastVestibule+FCU-6 Ea...</td>\n",
       "      <td>nyserda+0000082140+fcu7-westWingMiddleSchool+F...</td>\n",
       "      <td>nyserda+0000082140+fcu8-eastWingSecondFloor+FC...</td>\n",
       "      <td>nyserda+0000082140+fcu9-upperAtrium+FCU-09 Upp...</td>\n",
       "    </tr>\n",
       "    <tr>\n",
       "      <th>equip_id</th>\n",
       "      <td>26941</td>\n",
       "      <td>26942</td>\n",
       "      <td>26943</td>\n",
       "      <td>26945</td>\n",
       "      <td>26946</td>\n",
       "      <td>25718</td>\n",
       "      <td>17071</td>\n",
       "      <td>17072</td>\n",
       "      <td>17073</td>\n",
       "      <td>17074</td>\n",
       "      <td>...</td>\n",
       "      <td>21677</td>\n",
       "      <td>21678</td>\n",
       "      <td>21679</td>\n",
       "      <td>21681</td>\n",
       "      <td>21682</td>\n",
       "      <td>21683</td>\n",
       "      <td>21684</td>\n",
       "      <td>21685</td>\n",
       "      <td>21686</td>\n",
       "      <td>21687</td>\n",
       "    </tr>\n",
       "    <tr>\n",
       "      <th>id_bdg</th>\n",
       "      <td>426</td>\n",
       "      <td>426</td>\n",
       "      <td>426</td>\n",
       "      <td>426</td>\n",
       "      <td>426</td>\n",
       "      <td>417</td>\n",
       "      <td>101</td>\n",
       "      <td>101</td>\n",
       "      <td>101</td>\n",
       "      <td>101</td>\n",
       "      <td>...</td>\n",
       "      <td>354</td>\n",
       "      <td>354</td>\n",
       "      <td>354</td>\n",
       "      <td>354</td>\n",
       "      <td>354</td>\n",
       "      <td>354</td>\n",
       "      <td>354</td>\n",
       "      <td>354</td>\n",
       "      <td>354</td>\n",
       "      <td>354</td>\n",
       "    </tr>\n",
       "    <tr>\n",
       "      <th>name_bdg</th>\n",
       "      <td>76513</td>\n",
       "      <td>76513</td>\n",
       "      <td>76513</td>\n",
       "      <td>76513</td>\n",
       "      <td>76513</td>\n",
       "      <td>78797</td>\n",
       "      <td>75049</td>\n",
       "      <td>75049</td>\n",
       "      <td>75049</td>\n",
       "      <td>75049</td>\n",
       "      <td>...</td>\n",
       "      <td>82140</td>\n",
       "      <td>82140</td>\n",
       "      <td>82140</td>\n",
       "      <td>82140</td>\n",
       "      <td>82140</td>\n",
       "      <td>82140</td>\n",
       "      <td>82140</td>\n",
       "      <td>82140</td>\n",
       "      <td>82140</td>\n",
       "      <td>82140</td>\n",
       "    </tr>\n",
       "    <tr>\n",
       "      <th>equip_type_abbr</th>\n",
       "      <td>FCU</td>\n",
       "      <td>FCU</td>\n",
       "      <td>FCU</td>\n",
       "      <td>FCU</td>\n",
       "      <td>FCU</td>\n",
       "      <td>FCU</td>\n",
       "      <td>FCU</td>\n",
       "      <td>FCU</td>\n",
       "      <td>FCU</td>\n",
       "      <td>FCU</td>\n",
       "      <td>...</td>\n",
       "      <td>FCU</td>\n",
       "      <td>FCU</td>\n",
       "      <td>FCU</td>\n",
       "      <td>FCU</td>\n",
       "      <td>FCU</td>\n",
       "      <td>FCU</td>\n",
       "      <td>FCU</td>\n",
       "      <td>FCU</td>\n",
       "      <td>FCU</td>\n",
       "      <td>FCU</td>\n",
       "    </tr>\n",
       "    <tr>\n",
       "      <th>equip_type_name</th>\n",
       "      <td>Fan Coil Unit</td>\n",
       "      <td>Fan Coil Unit</td>\n",
       "      <td>Fan Coil Unit</td>\n",
       "      <td>Fan Coil Unit</td>\n",
       "      <td>Fan Coil Unit</td>\n",
       "      <td>Fan Coil Unit</td>\n",
       "      <td>Fan Coil Unit</td>\n",
       "      <td>Fan Coil Unit</td>\n",
       "      <td>Fan Coil Unit</td>\n",
       "      <td>Fan Coil Unit</td>\n",
       "      <td>...</td>\n",
       "      <td>Fan Coil Unit</td>\n",
       "      <td>Fan Coil Unit</td>\n",
       "      <td>Fan Coil Unit</td>\n",
       "      <td>Fan Coil Unit</td>\n",
       "      <td>Fan Coil Unit</td>\n",
       "      <td>Fan Coil Unit</td>\n",
       "      <td>Fan Coil Unit</td>\n",
       "      <td>Fan Coil Unit</td>\n",
       "      <td>Fan Coil Unit</td>\n",
       "      <td>Fan Coil Unit</td>\n",
       "    </tr>\n",
       "    <tr>\n",
       "      <th>area_served_desc</th>\n",
       "      <td>NaN</td>\n",
       "      <td>NaN</td>\n",
       "      <td>NaN</td>\n",
       "      <td>NaN</td>\n",
       "      <td>NaN</td>\n",
       "      <td>NaN</td>\n",
       "      <td>NaN</td>\n",
       "      <td>NaN</td>\n",
       "      <td>NaN</td>\n",
       "      <td>NaN</td>\n",
       "      <td>...</td>\n",
       "      <td>NaN</td>\n",
       "      <td>NaN</td>\n",
       "      <td>NaN</td>\n",
       "      <td>NaN</td>\n",
       "      <td>NaN</td>\n",
       "      <td>NaN</td>\n",
       "      <td>NaN</td>\n",
       "      <td>NaN</td>\n",
       "      <td>NaN</td>\n",
       "      <td>NaN</td>\n",
       "    </tr>\n",
       "    <tr>\n",
       "      <th>tags</th>\n",
       "      <td>['fcu', 'hvac']</td>\n",
       "      <td>['fcu', 'hvac']</td>\n",
       "      <td>['fcu', 'hvac']</td>\n",
       "      <td>['fcu', 'hvac']</td>\n",
       "      <td>['fcu', 'hvac']</td>\n",
       "      <td>['fcu', 'hvac']</td>\n",
       "      <td>['fcu', 'hvac']</td>\n",
       "      <td>['fcu', 'hvac']</td>\n",
       "      <td>['fcu', 'hvac']</td>\n",
       "      <td>['fcu', 'hvac']</td>\n",
       "      <td>...</td>\n",
       "      <td>['fcu', 'hvac']</td>\n",
       "      <td>['fcu', 'hvac']</td>\n",
       "      <td>['fcu', 'hvac']</td>\n",
       "      <td>['fcu', 'hvac']</td>\n",
       "      <td>['fcu', 'hvac']</td>\n",
       "      <td>['fcu', 'hvac']</td>\n",
       "      <td>['fcu', 'hvac']</td>\n",
       "      <td>['fcu', 'hvac']</td>\n",
       "      <td>['fcu', 'hvac']</td>\n",
       "      <td>['fcu', 'hvac']</td>\n",
       "    </tr>\n",
       "  </tbody>\n",
       "</table>\n",
       "<p>24 rows × 341 columns</p>\n",
       "</div>"
      ],
      "text/plain": [
       "                                                              3873   \\\n",
       "id_point                                                     283207   \n",
       "building_id                                                     426   \n",
       "last_updated                                        1606797900000.0   \n",
       "first_updated                                       1512104400000.0   \n",
       "device                                                          NaN   \n",
       "objectId                                                        NaN   \n",
       "name_point        480 W 42nd St - Signature Theatre HWC1 SpcTemp...   \n",
       "description                                                     NaN   \n",
       "units                                                             F   \n",
       "tagged_units                                                      f   \n",
       "raw_unit_id                                                       2   \n",
       "value                                                         66.41   \n",
       "type                                               Zone Temperature   \n",
       "point_type_id                                                    77   \n",
       "measurement_id                                                    1   \n",
       "datasource_hash                    87113a711b107b4b443340d16ad6cceb   \n",
       "topic             nyserda+000076513+fcu-hwc1+480 W 42nd St - Sig...   \n",
       "equip_id                                                      26941   \n",
       "id_bdg                                                          426   \n",
       "name_bdg                                                      76513   \n",
       "equip_type_abbr                                                 FCU   \n",
       "equip_type_name                                       Fan Coil Unit   \n",
       "area_served_desc                                                NaN   \n",
       "tags                                                ['fcu', 'hvac']   \n",
       "\n",
       "                                                              3876   \\\n",
       "id_point                                                     283209   \n",
       "building_id                                                     426   \n",
       "last_updated                                        1606797900000.0   \n",
       "first_updated                                       1512104400000.0   \n",
       "device                                                          NaN   \n",
       "objectId                                                        NaN   \n",
       "name_point        480 W 42nd St - Signature Theatre HWC2 SpcTemp...   \n",
       "description                                                     NaN   \n",
       "units                                                             F   \n",
       "tagged_units                                                      f   \n",
       "raw_unit_id                                                       2   \n",
       "value                                                         66.97   \n",
       "type                                               Zone Temperature   \n",
       "point_type_id                                                    77   \n",
       "measurement_id                                                    1   \n",
       "datasource_hash                    ef26797e2fd4e462890999b64b0abc0c   \n",
       "topic             nyserda+000076513+fcu-hwc2+480 W 42nd St - Sig...   \n",
       "equip_id                                                      26942   \n",
       "id_bdg                                                          426   \n",
       "name_bdg                                                      76513   \n",
       "equip_type_abbr                                                 FCU   \n",
       "equip_type_name                                       Fan Coil Unit   \n",
       "area_served_desc                                                NaN   \n",
       "tags                                                ['fcu', 'hvac']   \n",
       "\n",
       "                                                              3877   \\\n",
       "id_point                                                     283211   \n",
       "building_id                                                     426   \n",
       "last_updated                                        1606797900000.0   \n",
       "first_updated                                       1512104400000.0   \n",
       "device                                                          NaN   \n",
       "objectId                                                        NaN   \n",
       "name_point        480 W 42nd St - Signature Theatre HWC3 SpcTemp...   \n",
       "description                                                     NaN   \n",
       "units                                                             F   \n",
       "tagged_units                                                      f   \n",
       "raw_unit_id                                                       2   \n",
       "value                                                         69.57   \n",
       "type                                               Zone Temperature   \n",
       "point_type_id                                                    77   \n",
       "measurement_id                                                    1   \n",
       "datasource_hash                    6ee24ebb3da96f5f9ed182374b48b2d8   \n",
       "topic             nyserda+000076513+fcu-hwc3+480 W 42nd St - Sig...   \n",
       "equip_id                                                      26943   \n",
       "id_bdg                                                          426   \n",
       "name_bdg                                                      76513   \n",
       "equip_type_abbr                                                 FCU   \n",
       "equip_type_name                                       Fan Coil Unit   \n",
       "area_served_desc                                                NaN   \n",
       "tags                                                ['fcu', 'hvac']   \n",
       "\n",
       "                                                              3880   \\\n",
       "id_point                                                     283214   \n",
       "building_id                                                     426   \n",
       "last_updated                                        1579245300000.0   \n",
       "first_updated                                       1512104400000.0   \n",
       "device                                                          NaN   \n",
       "objectId                                                        NaN   \n",
       "name_point        480 W 42nd St - Signature Theatre HWC5 SpcTemp...   \n",
       "description                                                     NaN   \n",
       "units                                                             F   \n",
       "tagged_units                                                      f   \n",
       "raw_unit_id                                                       2   \n",
       "value                                                          71.0   \n",
       "type                                               Zone Temperature   \n",
       "point_type_id                                                    77   \n",
       "measurement_id                                                    1   \n",
       "datasource_hash                    37b2699031cc89ff369ee3b0d5a1207c   \n",
       "topic             nyserda+000076513+fcu-hwc5+480 W 42nd St - Sig...   \n",
       "equip_id                                                      26945   \n",
       "id_bdg                                                          426   \n",
       "name_bdg                                                      76513   \n",
       "equip_type_abbr                                                 FCU   \n",
       "equip_type_name                                       Fan Coil Unit   \n",
       "area_served_desc                                                NaN   \n",
       "tags                                                ['fcu', 'hvac']   \n",
       "\n",
       "                                                              3882   \\\n",
       "id_point                                                     283216   \n",
       "building_id                                                     426   \n",
       "last_updated                                        1606797900000.0   \n",
       "first_updated                                       1512104400000.0   \n",
       "device                                                          NaN   \n",
       "objectId                                                        NaN   \n",
       "name_point        480 W 42nd St - Signature Theatre HWC6 SpcTemp...   \n",
       "description                                                     NaN   \n",
       "units                                                             F   \n",
       "tagged_units                                                      f   \n",
       "raw_unit_id                                                       2   \n",
       "value                                                         69.57   \n",
       "type                                               Zone Temperature   \n",
       "point_type_id                                                    77   \n",
       "measurement_id                                                    1   \n",
       "datasource_hash                    99098e67b09d26cac4610dd619b1c1bc   \n",
       "topic             nyserda+000076513+fcu-hwc6+480 W 42nd St - Sig...   \n",
       "equip_id                                                      26946   \n",
       "id_bdg                                                          426   \n",
       "name_bdg                                                      76513   \n",
       "equip_type_abbr                                                 FCU   \n",
       "equip_type_name                                       Fan Coil Unit   \n",
       "area_served_desc                                                NaN   \n",
       "tags                                                ['fcu', 'hvac']   \n",
       "\n",
       "                                                              6125   \\\n",
       "id_point                                                     267044   \n",
       "building_id                                                     417   \n",
       "last_updated                                        1625703300000.0   \n",
       "first_updated                                       1538916300000.0   \n",
       "device                                                          NaN   \n",
       "objectId                                                        NaN   \n",
       "name_point                             FCUs FCU-1-1 FCU1-1SpaceTemp   \n",
       "description                            FCUs FCU-1-1 FCU1-1SpaceTemp   \n",
       "units                                                             F   \n",
       "tagged_units                                                      f   \n",
       "raw_unit_id                                                       2   \n",
       "value                                                          72.2   \n",
       "type                                               Zone Temperature   \n",
       "point_type_id                                                    77   \n",
       "measurement_id                                                    1   \n",
       "datasource_hash                    6cfc8ab9f70edb8a35aeb10dee7a6a7f   \n",
       "topic             nyserda+0000084120+fcu-1+FCUs FCU-1-1 FCU1-1Sp...   \n",
       "equip_id                                                      25718   \n",
       "id_bdg                                                          417   \n",
       "name_bdg                                                      78797   \n",
       "equip_type_abbr                                                 FCU   \n",
       "equip_type_name                                       Fan Coil Unit   \n",
       "area_served_desc                                                NaN   \n",
       "tags                                                ['fcu', 'hvac']   \n",
       "\n",
       "                                                              20998  \\\n",
       "id_point                                                     191413   \n",
       "building_id                                                     101   \n",
       "last_updated                                        1546317900000.0   \n",
       "first_updated                                       1504238400000.0   \n",
       "device                                                          NaN   \n",
       "objectId                                                        NaN   \n",
       "name_point                                                      NaN   \n",
       "description                    FCU-1-1 Left 1st flr rear_Space Temp   \n",
       "units                                                             F   \n",
       "tagged_units                                                    NaN   \n",
       "raw_unit_id                                                       2   \n",
       "value                                                          TRUE   \n",
       "type                                               Zone Temperature   \n",
       "point_type_id                                                    77   \n",
       "measurement_id                                                    1   \n",
       "datasource_hash                    f3af420f076433d400edad7b157b508c   \n",
       "topic             nyserda+0000075049+fcu-1-1+FCU-1-1 Left 1st fl...   \n",
       "equip_id                                                      17071   \n",
       "id_bdg                                                          101   \n",
       "name_bdg                                                      75049   \n",
       "equip_type_abbr                                                 FCU   \n",
       "equip_type_name                                       Fan Coil Unit   \n",
       "area_served_desc                                                NaN   \n",
       "tags                                                ['fcu', 'hvac']   \n",
       "\n",
       "                                                              21011  \\\n",
       "id_point                                                     191426   \n",
       "building_id                                                     101   \n",
       "last_updated                                        1546317900000.0   \n",
       "first_updated                                       1504238400000.0   \n",
       "device                                                          NaN   \n",
       "objectId                                                        NaN   \n",
       "name_point                                                      NaN   \n",
       "description                  FCU-1-2 Middle ist flr rear_Space Temp   \n",
       "units                                                             F   \n",
       "tagged_units                                                    NaN   \n",
       "raw_unit_id                                                       2   \n",
       "value                                                          TRUE   \n",
       "type                                               Zone Temperature   \n",
       "point_type_id                                                    77   \n",
       "measurement_id                                                    1   \n",
       "datasource_hash                    e4041458ff6a848c344f01fae3e572e1   \n",
       "topic             nyserda+0000075049+fcu-1-2+FCU-1-2 Middle ist ...   \n",
       "equip_id                                                      17072   \n",
       "id_bdg                                                          101   \n",
       "name_bdg                                                      75049   \n",
       "equip_type_abbr                                                 FCU   \n",
       "equip_type_name                                       Fan Coil Unit   \n",
       "area_served_desc                                                NaN   \n",
       "tags                                                ['fcu', 'hvac']   \n",
       "\n",
       "                                                              21025  \\\n",
       "id_point                                                     191439   \n",
       "building_id                                                     101   \n",
       "last_updated                                        1546317900000.0   \n",
       "first_updated                                       1504238400000.0   \n",
       "device                                                          NaN   \n",
       "objectId                                                        NaN   \n",
       "name_point                                                      NaN   \n",
       "description                   FCU-1-3 Right 1st flr rear_Space Temp   \n",
       "units                                                             F   \n",
       "tagged_units                                                    NaN   \n",
       "raw_unit_id                                                       2   \n",
       "value                                                          TRUE   \n",
       "type                                               Zone Temperature   \n",
       "point_type_id                                                    77   \n",
       "measurement_id                                                    1   \n",
       "datasource_hash                    dc149d5264fcaa95d47782a09aa2705c   \n",
       "topic             nyserda+0000075049+fcu-1-3+FCU-1-3 Right 1st f...   \n",
       "equip_id                                                      17073   \n",
       "id_bdg                                                          101   \n",
       "name_bdg                                                      75049   \n",
       "equip_type_abbr                                                 FCU   \n",
       "equip_type_name                                       Fan Coil Unit   \n",
       "area_served_desc                                                NaN   \n",
       "tags                                                ['fcu', 'hvac']   \n",
       "\n",
       "                                                              21038  ...  \\\n",
       "id_point                                                     191452  ...   \n",
       "building_id                                                     101  ...   \n",
       "last_updated                                        1546317900000.0  ...   \n",
       "first_updated                                       1504238400000.0  ...   \n",
       "device                                                          NaN  ...   \n",
       "objectId                                                        NaN  ...   \n",
       "name_point                                                      NaN  ...   \n",
       "description                              FCU-2-1 Library_Space Temp  ...   \n",
       "units                                                             F  ...   \n",
       "tagged_units                                                    NaN  ...   \n",
       "raw_unit_id                                                       2  ...   \n",
       "value                                                          TRUE  ...   \n",
       "type                                               Zone Temperature  ...   \n",
       "point_type_id                                                    77  ...   \n",
       "measurement_id                                                    1  ...   \n",
       "datasource_hash                    d52f811d4be6bf904db397ef88274ad3  ...   \n",
       "topic             nyserda+0000075049+fcu-2-1+FCU-2-1 Library_Spa...  ...   \n",
       "equip_id                                                      17074  ...   \n",
       "id_bdg                                                          101  ...   \n",
       "name_bdg                                                      75049  ...   \n",
       "equip_type_abbr                                                 FCU  ...   \n",
       "equip_type_name                                       Fan Coil Unit  ...   \n",
       "area_served_desc                                                NaN  ...   \n",
       "tags                                                ['fcu', 'hvac']  ...   \n",
       "\n",
       "                                                              39149  \\\n",
       "id_point                                                     223181   \n",
       "building_id                                                     354   \n",
       "last_updated                                        1535773500000.0   \n",
       "first_updated                                       1517461200000.0   \n",
       "device                                                          NaN   \n",
       "objectId                                                        NaN   \n",
       "name_point                                                      NaN   \n",
       "description                           CUH-2 SW Vestibule_Space Temp   \n",
       "units                                                             F   \n",
       "tagged_units                                                    NaN   \n",
       "raw_unit_id                                                       2   \n",
       "value                                                          79.1   \n",
       "type                                               Zone Temperature   \n",
       "point_type_id                                                    77   \n",
       "measurement_id                                                    1   \n",
       "datasource_hash                    2cd7338b385918d1db922123479a81b9   \n",
       "topic             nyserda+0000082140+fcu2-southWestVestibule+CUH...   \n",
       "equip_id                                                      21677   \n",
       "id_bdg                                                          354   \n",
       "name_bdg                                                      82140   \n",
       "equip_type_abbr                                                 FCU   \n",
       "equip_type_name                                       Fan Coil Unit   \n",
       "area_served_desc                                                NaN   \n",
       "tags                                                ['fcu', 'hvac']   \n",
       "\n",
       "                                                              39155  \\\n",
       "id_point                                                     223191   \n",
       "building_id                                                     354   \n",
       "last_updated                                        1535773500000.0   \n",
       "first_updated                                       1517461200000.0   \n",
       "device                                                          NaN   \n",
       "objectId                                                        NaN   \n",
       "name_point                                                      NaN   \n",
       "description       FCU-03 High School Main Lobby Vestibule_Space ...   \n",
       "units                                                             F   \n",
       "tagged_units                                                    NaN   \n",
       "raw_unit_id                                                       2   \n",
       "value                                                          80.6   \n",
       "type                                               Zone Temperature   \n",
       "point_type_id                                                    77   \n",
       "measurement_id                                                    1   \n",
       "datasource_hash                    7460d891d6577a3ecafebe90ac554bc0   \n",
       "topic             nyserda+0000082140+fcu3-mainVestibule+FCU-03 H...   \n",
       "equip_id                                                      21678   \n",
       "id_bdg                                                          354   \n",
       "name_bdg                                                      82140   \n",
       "equip_type_abbr                                                 FCU   \n",
       "equip_type_name                                       Fan Coil Unit   \n",
       "area_served_desc                                                NaN   \n",
       "tags                                                ['fcu', 'hvac']   \n",
       "\n",
       "                                                              39165  \\\n",
       "id_point                                                     223202   \n",
       "building_id                                                     354   \n",
       "last_updated                                        1535773500000.0   \n",
       "first_updated                                       1517461200000.0   \n",
       "device                                                          NaN   \n",
       "objectId                                                        NaN   \n",
       "name_point                                                      NaN   \n",
       "description                             FCU-3 Metal Shop_Space Temp   \n",
       "units                                                             F   \n",
       "tagged_units                                                    NaN   \n",
       "raw_unit_id                                                       2   \n",
       "value                                                          82.6   \n",
       "type                                               Zone Temperature   \n",
       "point_type_id                                                    77   \n",
       "measurement_id                                                    1   \n",
       "datasource_hash                    bd6a7b69be773da0d2c9e5c70de8995f   \n",
       "topic             nyserda+0000082140+fcu3-metalShop+FCU-3 Metal ...   \n",
       "equip_id                                                      21679   \n",
       "id_bdg                                                          354   \n",
       "name_bdg                                                      82140   \n",
       "equip_type_abbr                                                 FCU   \n",
       "equip_type_name                                       Fan Coil Unit   \n",
       "area_served_desc                                                NaN   \n",
       "tags                                                ['fcu', 'hvac']   \n",
       "\n",
       "                                                              39189  \\\n",
       "id_point                                                     223221   \n",
       "building_id                                                     354   \n",
       "last_updated                                        1535773500000.0   \n",
       "first_updated                                       1517461200000.0   \n",
       "device                                                          NaN   \n",
       "objectId                                                        NaN   \n",
       "name_point                                                      NaN   \n",
       "description                        FCU-04 Main Lobby 7/8_Space Temp   \n",
       "units                                                             F   \n",
       "tagged_units                                                    NaN   \n",
       "raw_unit_id                                                       2   \n",
       "value                                                          80.7   \n",
       "type                                               Zone Temperature   \n",
       "point_type_id                                                    77   \n",
       "measurement_id                                                    1   \n",
       "datasource_hash                    c479e309da8bb98902afde51e4ec54e1   \n",
       "topic             nyserda+0000082140+fcu4-mainLobby+FCU-04 Main ...   \n",
       "equip_id                                                      21681   \n",
       "id_bdg                                                          354   \n",
       "name_bdg                                                      82140   \n",
       "equip_type_abbr                                                 FCU   \n",
       "equip_type_name                                       Fan Coil Unit   \n",
       "area_served_desc                                                NaN   \n",
       "tags                                                ['fcu', 'hvac']   \n",
       "\n",
       "                                                              39195  \\\n",
       "id_point                                                     223232   \n",
       "building_id                                                     354   \n",
       "last_updated                                        1535773500000.0   \n",
       "first_updated                                       1517461200000.0   \n",
       "device                                                          NaN   \n",
       "objectId                                                        NaN   \n",
       "name_point                                                      NaN   \n",
       "description                              FCU-4 Wood Shop_Space Temp   \n",
       "units                                                             F   \n",
       "tagged_units                                                    NaN   \n",
       "raw_unit_id                                                       2   \n",
       "value                                                          81.2   \n",
       "type                                               Zone Temperature   \n",
       "point_type_id                                                    77   \n",
       "measurement_id                                                    1   \n",
       "datasource_hash                    8e94dd590d5466c6f8e3e7fac8d5f5d6   \n",
       "topic             nyserda+0000082140+fcu4-woodShop+FCU-4 Wood Sh...   \n",
       "equip_id                                                      21682   \n",
       "id_bdg                                                          354   \n",
       "name_bdg                                                      82140   \n",
       "equip_type_abbr                                                 FCU   \n",
       "equip_type_name                                       Fan Coil Unit   \n",
       "area_served_desc                                                NaN   \n",
       "tags                                                ['fcu', 'hvac']   \n",
       "\n",
       "                                                              39214  \\\n",
       "id_point                                                     223243   \n",
       "building_id                                                     354   \n",
       "last_updated                                        1535773500000.0   \n",
       "first_updated                                       1517461200000.0   \n",
       "device                                                          NaN   \n",
       "objectId                                                        NaN   \n",
       "name_point                                                      NaN   \n",
       "description                          FCU-05 Lower Atrium_Space Temp   \n",
       "units                                                             F   \n",
       "tagged_units                                                    NaN   \n",
       "raw_unit_id                                                       2   \n",
       "value                                                          82.4   \n",
       "type                                               Zone Temperature   \n",
       "point_type_id                                                    77   \n",
       "measurement_id                                                    1   \n",
       "datasource_hash                    bb5c00ba47cbd1483a5b9ff485f41f83   \n",
       "topic             nyserda+0000082140+fcu5-lowerAtrium+FCU-05 Low...   \n",
       "equip_id                                                      21683   \n",
       "id_bdg                                                          354   \n",
       "name_bdg                                                      82140   \n",
       "equip_type_abbr                                                 FCU   \n",
       "equip_type_name                                       Fan Coil Unit   \n",
       "area_served_desc                                                NaN   \n",
       "tags                                                ['fcu', 'hvac']   \n",
       "\n",
       "                                                              39221  \\\n",
       "id_point                                                     223254   \n",
       "building_id                                                     354   \n",
       "last_updated                                        1535773500000.0   \n",
       "first_updated                                       1517461200000.0   \n",
       "device                                                          NaN   \n",
       "objectId                                                        NaN   \n",
       "name_point                                                      NaN   \n",
       "description                         FCU-6 East Vestibule_Space Temp   \n",
       "units                                                             F   \n",
       "tagged_units                                                    NaN   \n",
       "raw_unit_id                                                       2   \n",
       "value                                                          77.4   \n",
       "type                                               Zone Temperature   \n",
       "point_type_id                                                    77   \n",
       "measurement_id                                                    1   \n",
       "datasource_hash                    defea9c7e96a2449d6e4966ee00919fc   \n",
       "topic             nyserda+0000082140+fcu6-eastVestibule+FCU-6 Ea...   \n",
       "equip_id                                                      21684   \n",
       "id_bdg                                                          354   \n",
       "name_bdg                                                      82140   \n",
       "equip_type_abbr                                                 FCU   \n",
       "equip_type_name                                       Fan Coil Unit   \n",
       "area_served_desc                                                NaN   \n",
       "tags                                                ['fcu', 'hvac']   \n",
       "\n",
       "                                                              39230  \\\n",
       "id_point                                                     223265   \n",
       "building_id                                                     354   \n",
       "last_updated                                        1535773500000.0   \n",
       "first_updated                                       1517461200000.0   \n",
       "device                                                          NaN   \n",
       "objectId                                                        NaN   \n",
       "name_point                                                      NaN   \n",
       "description               FCU-07 West Middle School Wing_Space Temp   \n",
       "units                                                             F   \n",
       "tagged_units                                                    NaN   \n",
       "raw_unit_id                                                       2   \n",
       "value                                                          78.5   \n",
       "type                                               Zone Temperature   \n",
       "point_type_id                                                    77   \n",
       "measurement_id                                                    1   \n",
       "datasource_hash                    5089c8f75101c159fa0d8f0a4934dba7   \n",
       "topic             nyserda+0000082140+fcu7-westWingMiddleSchool+F...   \n",
       "equip_id                                                      21685   \n",
       "id_bdg                                                          354   \n",
       "name_bdg                                                      82140   \n",
       "equip_type_abbr                                                 FCU   \n",
       "equip_type_name                                       Fan Coil Unit   \n",
       "area_served_desc                                                NaN   \n",
       "tags                                                ['fcu', 'hvac']   \n",
       "\n",
       "                                                              39239  \\\n",
       "id_point                                                     223276   \n",
       "building_id                                                     354   \n",
       "last_updated                                        1535773500000.0   \n",
       "first_updated                                       1517461200000.0   \n",
       "device                                                          NaN   \n",
       "objectId                                                        NaN   \n",
       "name_point                                                      NaN   \n",
       "description                   FCU-08 2nd Floor East Wing_Space Temp   \n",
       "units                                                             F   \n",
       "tagged_units                                                    NaN   \n",
       "raw_unit_id                                                       2   \n",
       "value                                                          80.3   \n",
       "type                                               Zone Temperature   \n",
       "point_type_id                                                    77   \n",
       "measurement_id                                                    1   \n",
       "datasource_hash                    c9b654828ea2373fc59451fd89adc31d   \n",
       "topic             nyserda+0000082140+fcu8-eastWingSecondFloor+FC...   \n",
       "equip_id                                                      21686   \n",
       "id_bdg                                                          354   \n",
       "name_bdg                                                      82140   \n",
       "equip_type_abbr                                                 FCU   \n",
       "equip_type_name                                       Fan Coil Unit   \n",
       "area_served_desc                                                NaN   \n",
       "tags                                                ['fcu', 'hvac']   \n",
       "\n",
       "                                                              39254  \n",
       "id_point                                                     223287  \n",
       "building_id                                                     354  \n",
       "last_updated                                        1535773500000.0  \n",
       "first_updated                                       1517461200000.0  \n",
       "device                                                          NaN  \n",
       "objectId                                                        NaN  \n",
       "name_point                                                      NaN  \n",
       "description                          FCU-09 Upper Atrium_Space Temp  \n",
       "units                                                             F  \n",
       "tagged_units                                                    NaN  \n",
       "raw_unit_id                                                       2  \n",
       "value                                                            83  \n",
       "type                                               Zone Temperature  \n",
       "point_type_id                                                    77  \n",
       "measurement_id                                                    1  \n",
       "datasource_hash                    475478752433bfe793e0bfd406437578  \n",
       "topic             nyserda+0000082140+fcu9-upperAtrium+FCU-09 Upp...  \n",
       "equip_id                                                      21687  \n",
       "id_bdg                                                          354  \n",
       "name_bdg                                                      82140  \n",
       "equip_type_abbr                                                 FCU  \n",
       "equip_type_name                                       Fan Coil Unit  \n",
       "area_served_desc                                                NaN  \n",
       "tags                                                ['fcu', 'hvac']  \n",
       "\n",
       "[24 rows x 341 columns]"
      ]
     },
     "execution_count": 67,
     "metadata": {},
     "output_type": "execute_result"
    }
   ],
   "source": [
    "metadata.T"
   ]
  },
  {
   "cell_type": "markdown",
   "id": "3fc957f6",
   "metadata": {
    "papermill": {
     "duration": 0.139882,
     "end_time": "2022-05-13T16:25:04.190025",
     "exception": false,
     "start_time": "2022-05-13T16:25:04.050143",
     "status": "completed"
    },
    "pycharm": {
     "name": "#%% md\n"
    },
    "tags": []
   },
   "source": [
    "Finally, plot! we want to visualize the mean temperature of the points, colored by the building name."
   ]
  },
  {
   "cell_type": "code",
   "execution_count": 53,
   "id": "5423f4c5",
   "metadata": {
    "execution": {
     "iopub.execute_input": "2022-05-13T16:25:04.486049Z",
     "iopub.status.busy": "2022-05-13T16:25:04.485295Z",
     "iopub.status.idle": "2022-05-13T16:25:11.219728Z",
     "shell.execute_reply": "2022-05-13T16:25:11.220241Z",
     "shell.execute_reply.started": "2022-05-04T01:58:45.196447Z"
    },
    "papermill": {
     "duration": 6.890633,
     "end_time": "2022-05-13T16:25:11.220439",
     "exception": false,
     "start_time": "2022-05-13T16:25:04.329806",
     "status": "completed"
    },
    "pycharm": {
     "name": "#%%\n"
    },
    "tags": []
   },
   "outputs": [
    {
     "data": {
      "image/png": "[encoded data removed]",
      "text/plain": [
       "<Figure size 1440x648 with 1 Axes>"
      ]
     },
     "metadata": {},
     "output_type": "display_data"
    }
   ],
   "source": [
    "fig = sns.barplot(data=stats_merged, x=\"id_point\", y=\"mean\", hue=\"name_bdg\", dodge=False)\n",
    "labels = plt.xticks(rotation=90)"
   ]
  },
  {
   "cell_type": "code",
   "execution_count": null,
   "id": "b841fd58",
   "metadata": {
    "papermill": {
     "duration": 0.143408,
     "end_time": "2022-05-13T16:25:11.511388",
     "exception": false,
     "start_time": "2022-05-13T16:25:11.367980",
     "status": "completed"
    },
    "pycharm": {
     "name": "#%%\n"
    },
    "tags": []
   },
   "outputs": [],
   "source": []
  }
 ],
 "metadata": {
  "kernelspec": {
   "display_name": "Python 3 (ipykernel)",
   "language": "python",
   "name": "python3"
  },
  "language_info": {
   "codemirror_mode": {
    "name": "ipython",
    "version": 3
   },
   "file_extension": ".py",
   "mimetype": "text/x-python",
   "name": "python",
   "nbconvert_exporter": "python",
   "pygments_lexer": "ipython3",
   "version": "3.8.12"
  },
  "papermill": {
   "default_parameters": {},
   "duration": 192.25275,
   "end_time": "2022-05-13T16:25:13.067333",
   "environment_variables": {},
   "exception": null,
   "input_path": "__notebook__.ipynb",
   "output_path": "__notebook__.ipynb",
   "parameters": {},
   "start_time": "2022-05-13T16:22:00.814583",
   "version": "2.3.3"
  }
 },
 "nbformat": 4,
 "nbformat_minor": 5
}