{
 "cells": [
  {
   "cell_type": "markdown",
   "id": "1eeb641d",
   "metadata": {
    "papermill": {
     "duration": 0.082603,
     "end_time": "2022-05-13T16:22:11.477159",
     "exception": false,
     "start_time": "2022-05-13T16:22:11.394556",
     "status": "completed"
    },
    "tags": []
   },
   "source": [
    "# Time Series Analysis Examples\n",
    "In this notebook we will be transforming and exploring time-series data from Onboard API. Make sure to run the following chunk of code first in order to install it.\n",
    "\n",
    "How to query time-series from data points, process and visually explore them. This notebook is outlined in several YouTube videos that discuss:\n",
    "- how [to load and filter time-series data](https://youtu.be/KDThdyes8kc) from sensors\n",
    "- [resample and transform time-series data](https://youtu.be/VlQNGwiSSKM)\n",
    "- and [create heat maps and boxplots of data](https://youtu.be/QMr0y9LOlr8) for exploration"
   ]
  },
  {
   "cell_type": "code",
   "execution_count": 1,
   "id": "2e211176",
   "metadata": {
    "execution": {
     "iopub.execute_input": "2022-05-13T16:22:25.248391Z",
     "iopub.status.busy": "2022-05-13T16:22:25.247721Z",
     "iopub.status.idle": "2022-05-13T16:22:25.387229Z",
     "shell.execute_reply": "2022-05-13T16:22:25.388051Z",
     "shell.execute_reply.started": "2022-05-04T01:29:00.25444Z"
    },
    "papermill": {
     "duration": 0.23365,
     "end_time": "2022-05-13T16:22:25.388267",
     "exception": false,
     "start_time": "2022-05-13T16:22:25.154617",
     "status": "completed"
    },
    "tags": []
   },
   "outputs": [],
   "source": [
    "import pandas as pd\n",
    "from onboard.client import RtemClient"
   ]
  },
  {
   "cell_type": "markdown",
   "id": "8ba0e51b",
   "metadata": {
    "papermill": {
     "duration": 0.087019,
     "end_time": "2022-05-13T16:22:25.562206",
     "exception": false,
     "start_time": "2022-05-13T16:22:25.475187",
     "status": "completed"
    },
    "tags": []
   },
   "source": [
    "# Create the client"
   ]
  },
  {
   "cell_type": "markdown",
   "id": "f14b5424",
   "metadata": {
    "papermill": {
     "duration": 0.085554,
     "end_time": "2022-05-13T16:22:25.736877",
     "exception": false,
     "start_time": "2022-05-13T16:22:25.651323",
     "status": "completed"
    },
    "tags": []
   },
   "source": [
    "For this notebook, you need to use the API Key with acces to the general scope and building:read scope. Let's create the client:"
   ]
  },
  {
   "cell_type": "code",
   "execution_count": 2,
   "id": "47992a3e",
   "metadata": {
    "execution": {
     "iopub.execute_input": "2022-05-13T16:22:25.913818Z",
     "iopub.status.busy": "2022-05-13T16:22:25.913100Z",
     "iopub.status.idle": "2022-05-13T16:22:25.915977Z",
     "shell.execute_reply": "2022-05-13T16:22:25.916657Z",
     "shell.execute_reply.started": "2022-05-04T01:29:05.439395Z"
    },
    "papermill": {
     "duration": 0.093458,
     "end_time": "2022-05-13T16:22:25.916844",
     "exception": false,
     "start_time": "2022-05-13T16:22:25.823386",
     "status": "completed"
    },
    "tags": []
   },
   "outputs": [],
   "source": [
    "api_key = 'ob-p-_KnPccpVFOwKvS5u_SpKixHjKKq6H1JvrzwjxISOfPiNKKZ56_EeE5ORVJOGGtx0d_k'"
   ]
  },
  {
   "cell_type": "code",
   "execution_count": 3,
   "id": "5fd0ab2c",
   "metadata": {
    "execution": {
     "iopub.execute_input": "2022-05-13T16:22:26.844180Z",
     "iopub.status.busy": "2022-05-13T16:22:26.843356Z",
     "iopub.status.idle": "2022-05-13T16:22:26.848246Z",
     "shell.execute_reply": "2022-05-13T16:22:26.847722Z",
     "shell.execute_reply.started": "2022-05-04T01:29:08.893873Z"
    },
    "papermill": {
     "duration": 0.095438,
     "end_time": "2022-05-13T16:22:26.848389",
     "exception": false,
     "start_time": "2022-05-13T16:22:26.752951",
     "status": "completed"
    },
    "tags": []
   },
   "outputs": [],
   "source": [
    "client = RtemClient(api_key=api_key)"
   ]
  },
  {
   "cell_type": "markdown",
   "id": "a9cc1816",
   "metadata": {
    "papermill": {
     "duration": 0.088361,
     "end_time": "2022-05-13T16:22:27.024529",
     "exception": false,
     "start_time": "2022-05-13T16:22:26.936168",
     "status": "completed"
    },
    "tags": []
   },
   "source": [
    "# Load & filter data"
   ]
  },
  {
   "cell_type": "markdown",
   "id": "990136b2",
   "metadata": {
    "papermill": {
     "duration": 0.086231,
     "end_time": "2022-05-13T16:22:27.197739",
     "exception": false,
     "start_time": "2022-05-13T16:22:27.111508",
     "status": "completed"
    },
    "tags": []
   },
   "source": [
    "We will be using the metadata file we obtained from Onboard API in the previous notebook. Of course you can query these points again, but let's learn how to load and filter the data using *pandas*:"
   ]
  },
  {
   "cell_type": "code",
   "execution_count": 4,
   "id": "977b7d91",
   "metadata": {
    "execution": {
     "iopub.execute_input": "2022-05-13T16:22:27.378162Z",
     "iopub.status.busy": "2022-05-13T16:22:27.377526Z",
     "iopub.status.idle": "2022-05-13T16:22:27.859725Z",
     "shell.execute_reply": "2022-05-13T16:22:27.860215Z",
     "shell.execute_reply.started": "2022-05-04T01:30:24.572709Z"
    },
    "papermill": {
     "duration": 0.575997,
     "end_time": "2022-05-13T16:22:27.860423",
     "exception": false,
     "start_time": "2022-05-13T16:22:27.284426",
     "status": "completed"
    },
    "tags": []
   },
   "outputs": [],
   "source": [
    "metadata = pd.read_csv(\"./rtem_all_points_metadata.csv\")"
   ]
  },
  {
   "cell_type": "markdown",
   "id": "d473a82b",
   "metadata": {
    "papermill": {
     "duration": 0.086013,
     "end_time": "2022-05-13T16:22:28.033894",
     "exception": false,
     "start_time": "2022-05-13T16:22:27.947881",
     "status": "completed"
    },
    "tags": []
   },
   "source": [
    "Let's check the data types:"
   ]
  },
  {
   "cell_type": "code",
   "execution_count": 5,
   "id": "ce2b219e",
   "metadata": {
    "execution": {
     "iopub.execute_input": "2022-05-13T16:22:28.219997Z",
     "iopub.status.busy": "2022-05-13T16:22:28.218982Z",
     "iopub.status.idle": "2022-05-13T16:22:28.290668Z",
     "shell.execute_reply": "2022-05-13T16:22:28.291377Z",
     "shell.execute_reply.started": "2022-05-04T01:30:27.006363Z"
    },
    "papermill": {
     "duration": 0.168678,
     "end_time": "2022-05-13T16:22:28.291630",
     "exception": false,
     "start_time": "2022-05-13T16:22:28.122952",
     "status": "completed"
    },
    "tags": []
   },
   "outputs": [
    {
     "name": "stdout",
     "output_type": "stream",
     "text": [
      "<class 'pandas.core.frame.DataFrame'>\n",
      "RangeIndex: 44390 entries, 0 to 44389\n",
      "Data columns (total 24 columns):\n",
      " #   Column            Non-Null Count  Dtype  \n",
      "---  ------            --------------  -----  \n",
      " 0   id_point          44390 non-null  int64  \n",
      " 1   building_id       44390 non-null  int64  \n",
      " 2   last_updated      44342 non-null  float64\n",
      " 3   first_updated     44342 non-null  float64\n",
      " 4   device            0 non-null      float64\n",
      " 5   objectId          0 non-null      float64\n",
      " 6   name_point        14658 non-null  object \n",
      " 7   description       31843 non-null  object \n",
      " 8   units             31687 non-null  object \n",
      " 9   tagged_units      14654 non-null  object \n",
      " 10  raw_unit_id       44390 non-null  int64  \n",
      " 11  value             44274 non-null  object \n",
      " 12  type              44390 non-null  object \n",
      " 13  point_type_id     44390 non-null  int64  \n",
      " 14  measurement_id    44390 non-null  int64  \n",
      " 15  datasource_hash   44390 non-null  object \n",
      " 16  topic             44390 non-null  object \n",
      " 17  equip_id          44390 non-null  int64  \n",
      " 18  id_bdg            44390 non-null  int64  \n",
      " 19  name_bdg          44390 non-null  int64  \n",
      " 20  equip_type_abbr   44390 non-null  object \n",
      " 21  equip_type_name   44390 non-null  object \n",
      " 22  area_served_desc  0 non-null      float64\n",
      " 23  tags              44390 non-null  object \n",
      "dtypes: float64(5), int64(8), object(11)\n",
      "memory usage: 8.1+ MB\n"
     ]
    }
   ],
   "source": [
    "metadata.info()"
   ]
  },
  {
   "cell_type": "code",
   "execution_count": 6,
   "id": "55b9e1f9",
   "metadata": {
    "execution": {
     "iopub.execute_input": "2022-05-13T16:22:28.472523Z",
     "iopub.status.busy": "2022-05-13T16:22:28.470051Z",
     "iopub.status.idle": "2022-05-13T16:22:28.507993Z",
     "shell.execute_reply": "2022-05-13T16:22:28.508549Z",
     "shell.execute_reply.started": "2022-05-04T01:30:46.750421Z"
    },
    "papermill": {
     "duration": 0.1292,
     "end_time": "2022-05-13T16:22:28.508729",
     "exception": false,
     "start_time": "2022-05-13T16:22:28.379529",
     "status": "completed"
    },
    "tags": []
   },
   "outputs": [
    {
     "data": {
      "text/html": [
       "<div>\n",
       "<style scoped>\n",
       "    .dataframe tbody tr th:only-of-type {\n",
       "        vertical-align: middle;\n",
       "    }\n",
       "\n",
       "    .dataframe tbody tr th {\n",
       "        vertical-align: top;\n",
       "    }\n",
       "\n",
       "    .dataframe thead th {\n",
       "        text-align: right;\n",
       "    }\n",
       "</style>\n",
       "<table border=\"1\" class=\"dataframe\">\n",
       "  <thead>\n",
       "    <tr style=\"text-align: right;\">\n",
       "      <th></th>\n",
       "      <th>id_point</th>\n",
       "      <th>building_id</th>\n",
       "      <th>last_updated</th>\n",
       "      <th>first_updated</th>\n",
       "      <th>device</th>\n",
       "      <th>objectId</th>\n",
       "      <th>name_point</th>\n",
       "      <th>description</th>\n",
       "      <th>units</th>\n",
       "      <th>tagged_units</th>\n",
       "      <th>...</th>\n",
       "      <th>measurement_id</th>\n",
       "      <th>datasource_hash</th>\n",
       "      <th>topic</th>\n",
       "      <th>equip_id</th>\n",
       "      <th>id_bdg</th>\n",
       "      <th>name_bdg</th>\n",
       "      <th>equip_type_abbr</th>\n",
       "      <th>equip_type_name</th>\n",
       "      <th>area_served_desc</th>\n",
       "      <th>tags</th>\n",
       "    </tr>\n",
       "  </thead>\n",
       "  <tbody>\n",
       "    <tr>\n",
       "      <th>0</th>\n",
       "      <td>310029</td>\n",
       "      <td>441</td>\n",
       "      <td>1.560571e+12</td>\n",
       "      <td>1.550542e+12</td>\n",
       "      <td>NaN</td>\n",
       "      <td>NaN</td>\n",
       "      <td>245 E 149th St. Boiler-1 Fault Code</td>\n",
       "      <td>NaN</td>\n",
       "      <td>?</td>\n",
       "      <td>?</td>\n",
       "      <td>...</td>\n",
       "      <td>18</td>\n",
       "      <td>b115b5053493748f7076ad09f69c4456</td>\n",
       "      <td>nyserda+0000088737+boiler-1+245 E 149th St. Bo...</td>\n",
       "      <td>28797</td>\n",
       "      <td>441</td>\n",
       "      <td>88737</td>\n",
       "      <td>BLR</td>\n",
       "      <td>Boiler</td>\n",
       "      <td>NaN</td>\n",
       "      <td>['boiler', 'hvac']</td>\n",
       "    </tr>\n",
       "    <tr>\n",
       "      <th>1</th>\n",
       "      <td>310009</td>\n",
       "      <td>441</td>\n",
       "      <td>1.560485e+12</td>\n",
       "      <td>1.550701e+12</td>\n",
       "      <td>NaN</td>\n",
       "      <td>NaN</td>\n",
       "      <td>225 E 149th St. Boiler-1 Exhaust Temp</td>\n",
       "      <td>NaN</td>\n",
       "      <td>F</td>\n",
       "      <td>f</td>\n",
       "      <td>...</td>\n",
       "      <td>1</td>\n",
       "      <td>4a1a11502acee3078352da312c40c262</td>\n",
       "      <td>nyserda+0000088737+boiler-1+225 E 149th St. Bo...</td>\n",
       "      <td>28797</td>\n",
       "      <td>441</td>\n",
       "      <td>88737</td>\n",
       "      <td>BLR</td>\n",
       "      <td>Boiler</td>\n",
       "      <td>NaN</td>\n",
       "      <td>['boiler', 'hvac']</td>\n",
       "    </tr>\n",
       "    <tr>\n",
       "      <th>2</th>\n",
       "      <td>310010</td>\n",
       "      <td>441</td>\n",
       "      <td>1.560571e+12</td>\n",
       "      <td>1.550504e+12</td>\n",
       "      <td>NaN</td>\n",
       "      <td>NaN</td>\n",
       "      <td>225 E 149th St. Boiler-1 Fault Code</td>\n",
       "      <td>NaN</td>\n",
       "      <td>?</td>\n",
       "      <td>?</td>\n",
       "      <td>...</td>\n",
       "      <td>18</td>\n",
       "      <td>55882633fe8fb5aac7dac643c99b1af5</td>\n",
       "      <td>nyserda+0000088737+boiler-1+225 E 149th St. Bo...</td>\n",
       "      <td>28797</td>\n",
       "      <td>441</td>\n",
       "      <td>88737</td>\n",
       "      <td>BLR</td>\n",
       "      <td>Boiler</td>\n",
       "      <td>NaN</td>\n",
       "      <td>['boiler', 'hvac']</td>\n",
       "    </tr>\n",
       "    <tr>\n",
       "      <th>3</th>\n",
       "      <td>310011</td>\n",
       "      <td>441</td>\n",
       "      <td>1.560485e+12</td>\n",
       "      <td>1.550504e+12</td>\n",
       "      <td>NaN</td>\n",
       "      <td>NaN</td>\n",
       "      <td>225 E 149th St. Boiler-1 FFWD Temp</td>\n",
       "      <td>NaN</td>\n",
       "      <td>?</td>\n",
       "      <td>?</td>\n",
       "      <td>...</td>\n",
       "      <td>18</td>\n",
       "      <td>831a8df09b848f53e807fa0204c45eaa</td>\n",
       "      <td>nyserda+0000088737+boiler-1+225 E 149th St. Bo...</td>\n",
       "      <td>28797</td>\n",
       "      <td>441</td>\n",
       "      <td>88737</td>\n",
       "      <td>BLR</td>\n",
       "      <td>Boiler</td>\n",
       "      <td>NaN</td>\n",
       "      <td>['boiler', 'hvac']</td>\n",
       "    </tr>\n",
       "    <tr>\n",
       "      <th>4</th>\n",
       "      <td>310012</td>\n",
       "      <td>441</td>\n",
       "      <td>1.560485e+12</td>\n",
       "      <td>1.550504e+12</td>\n",
       "      <td>NaN</td>\n",
       "      <td>NaN</td>\n",
       "      <td>225 E 149th St. Boiler-1 Fire Rate In</td>\n",
       "      <td>NaN</td>\n",
       "      <td>?</td>\n",
       "      <td>?</td>\n",
       "      <td>...</td>\n",
       "      <td>18</td>\n",
       "      <td>aa147c829c7ed55b6e93cdbbb8b43d55</td>\n",
       "      <td>nyserda+0000088737+boiler-1+225 E 149th St. Bo...</td>\n",
       "      <td>28797</td>\n",
       "      <td>441</td>\n",
       "      <td>88737</td>\n",
       "      <td>BLR</td>\n",
       "      <td>Boiler</td>\n",
       "      <td>NaN</td>\n",
       "      <td>['boiler', 'hvac']</td>\n",
       "    </tr>\n",
       "  </tbody>\n",
       "</table>\n",
       "<p>5 rows × 24 columns</p>\n",
       "</div>"
      ],
      "text/plain": [
       "   id_point  building_id  last_updated  first_updated  device  objectId  \\\n",
       "0    310029          441  1.560571e+12   1.550542e+12     NaN       NaN   \n",
       "1    310009          441  1.560485e+12   1.550701e+12     NaN       NaN   \n",
       "2    310010          441  1.560571e+12   1.550504e+12     NaN       NaN   \n",
       "3    310011          441  1.560485e+12   1.550504e+12     NaN       NaN   \n",
       "4    310012          441  1.560485e+12   1.550504e+12     NaN       NaN   \n",
       "\n",
       "                              name_point description units tagged_units  ...  \\\n",
       "0    245 E 149th St. Boiler-1 Fault Code         NaN     ?            ?  ...   \n",
       "1  225 E 149th St. Boiler-1 Exhaust Temp         NaN     F            f  ...   \n",
       "2    225 E 149th St. Boiler-1 Fault Code         NaN     ?            ?  ...   \n",
       "3     225 E 149th St. Boiler-1 FFWD Temp         NaN     ?            ?  ...   \n",
       "4  225 E 149th St. Boiler-1 Fire Rate In         NaN     ?            ?  ...   \n",
       "\n",
       "   measurement_id                   datasource_hash  \\\n",
       "0              18  b115b5053493748f7076ad09f69c4456   \n",
       "1               1  4a1a11502acee3078352da312c40c262   \n",
       "2              18  55882633fe8fb5aac7dac643c99b1af5   \n",
       "3              18  831a8df09b848f53e807fa0204c45eaa   \n",
       "4              18  aa147c829c7ed55b6e93cdbbb8b43d55   \n",
       "\n",
       "                                               topic  equip_id  id_bdg  \\\n",
       "0  nyserda+0000088737+boiler-1+245 E 149th St. Bo...     28797     441   \n",
       "1  nyserda+0000088737+boiler-1+225 E 149th St. Bo...     28797     441   \n",
       "2  nyserda+0000088737+boiler-1+225 E 149th St. Bo...     28797     441   \n",
       "3  nyserda+0000088737+boiler-1+225 E 149th St. Bo...     28797     441   \n",
       "4  nyserda+0000088737+boiler-1+225 E 149th St. Bo...     28797     441   \n",
       "\n",
       "  name_bdg equip_type_abbr  equip_type_name  area_served_desc  \\\n",
       "0    88737             BLR           Boiler               NaN   \n",
       "1    88737             BLR           Boiler               NaN   \n",
       "2    88737             BLR           Boiler               NaN   \n",
       "3    88737             BLR           Boiler               NaN   \n",
       "4    88737             BLR           Boiler               NaN   \n",
       "\n",
       "                 tags  \n",
       "0  ['boiler', 'hvac']  \n",
       "1  ['boiler', 'hvac']  \n",
       "2  ['boiler', 'hvac']  \n",
       "3  ['boiler', 'hvac']  \n",
       "4  ['boiler', 'hvac']  \n",
       "\n",
       "[5 rows x 24 columns]"
      ]
     },
     "execution_count": 6,
     "metadata": {},
     "output_type": "execute_result"
    }
   ],
   "source": [
    "metadata.head()"
   ]
  },
  {
   "cell_type": "markdown",
   "id": "39ac30c3",
   "metadata": {
    "papermill": {
     "duration": 0.088525,
     "end_time": "2022-05-13T16:22:28.686552",
     "exception": false,
     "start_time": "2022-05-13T16:22:28.598027",
     "status": "completed"
    },
    "tags": []
   },
   "source": [
    "We have a lot of points here:"
   ]
  },
  {
   "cell_type": "code",
   "execution_count": 7,
   "id": "c954bd97",
   "metadata": {
    "execution": {
     "iopub.execute_input": "2022-05-13T16:22:28.869339Z",
     "iopub.status.busy": "2022-05-13T16:22:28.868279Z",
     "iopub.status.idle": "2022-05-13T16:22:28.872357Z",
     "shell.execute_reply": "2022-05-13T16:22:28.871813Z",
     "shell.execute_reply.started": "2022-05-04T01:31:10.656197Z"
    },
    "papermill": {
     "duration": 0.096718,
     "end_time": "2022-05-13T16:22:28.872557",
     "exception": false,
     "start_time": "2022-05-13T16:22:28.775839",
     "status": "completed"
    },
    "tags": []
   },
   "outputs": [
    {
     "data": {
      "text/plain": [
       "44390"
      ]
     },
     "execution_count": 7,
     "metadata": {},
     "output_type": "execute_result"
    }
   ],
   "source": [
    "len(metadata.id_point)"
   ]
  },
  {
   "cell_type": "markdown",
   "id": "bfb105d6",
   "metadata": {
    "papermill": {
     "duration": 0.089319,
     "end_time": "2022-05-13T16:22:29.049750",
     "exception": false,
     "start_time": "2022-05-13T16:22:28.960431",
     "status": "completed"
    },
    "tags": []
   },
   "source": [
    "Let's filter out only the Zone Temperature sensors -that's the `type_id` 77, you can confirm this querying the ontology data, like we did in the previous notebook ;)- and that are Fan Coil Units:"
   ]
  },
  {
   "cell_type": "code",
   "execution_count": 8,
   "id": "bebc0b8b",
   "metadata": {
    "execution": {
     "iopub.execute_input": "2022-05-13T16:22:29.231313Z",
     "iopub.status.busy": "2022-05-13T16:22:29.230324Z",
     "iopub.status.idle": "2022-05-13T16:22:29.245501Z",
     "shell.execute_reply": "2022-05-13T16:22:29.246015Z",
     "shell.execute_reply.started": "2022-05-04T01:32:03.014508Z"
    },
    "papermill": {
     "duration": 0.108664,
     "end_time": "2022-05-13T16:22:29.246189",
     "exception": false,
     "start_time": "2022-05-13T16:22:29.137525",
     "status": "completed"
    },
    "tags": []
   },
   "outputs": [],
   "source": [
    "# boiler_data = metadata[(metadata.equip_type_name == \"Boiler\")]\n",
    "# pump_data = metadata[(metadata.equip_type_name == \"Pump\")]\n",
    "# hws_data = metadata[(metadata.equip_type_name == \"Hot Water Plant\")]"
   ]
  },
  {
   "cell_type": "code",
   "execution_count": 9,
   "id": "5524aa55",
   "metadata": {},
   "outputs": [],
   "source": [
    "ahu_data = metadata[(metadata.equip_type_name == \"Air Handling Unit\")]"
   ]
  },
  {
   "cell_type": "code",
   "execution_count": 10,
   "id": "672ab288",
   "metadata": {},
   "outputs": [],
   "source": [
    "ahu_data.head()\n",
    "ahu_data.to_csv('sample.csv')"
   ]
  },
  {
   "cell_type": "code",
   "execution_count": 11,
   "id": "66709598",
   "metadata": {},
   "outputs": [
    {
     "data": {
      "text/plain": [
       "array([18092, 18093, 18094, ..., 22747, 32352, 32353], dtype=int64)"
      ]
     },
     "execution_count": 11,
     "metadata": {},
     "output_type": "execute_result"
    }
   ],
   "source": [
    "ahu_data['equip_id'].unique()"
   ]
  },
  {
   "cell_type": "code",
   "execution_count": 12,
   "id": "cdfe69c8",
   "metadata": {
    "scrolled": true
   },
   "outputs": [
    {
     "data": {
      "text/html": [
       "<div>\n",
       "<style scoped>\n",
       "    .dataframe tbody tr th:only-of-type {\n",
       "        vertical-align: middle;\n",
       "    }\n",
       "\n",
       "    .dataframe tbody tr th {\n",
       "        vertical-align: top;\n",
       "    }\n",
       "\n",
       "    .dataframe thead th {\n",
       "        text-align: right;\n",
       "    }\n",
       "</style>\n",
       "<table border=\"1\" class=\"dataframe\">\n",
       "  <thead>\n",
       "    <tr style=\"text-align: right;\">\n",
       "      <th></th>\n",
       "      <th>id_point</th>\n",
       "      <th>building_id</th>\n",
       "      <th>last_updated</th>\n",
       "      <th>first_updated</th>\n",
       "      <th>device</th>\n",
       "      <th>objectId</th>\n",
       "      <th>name_point</th>\n",
       "      <th>description</th>\n",
       "      <th>units</th>\n",
       "      <th>tagged_units</th>\n",
       "      <th>...</th>\n",
       "      <th>measurement_id</th>\n",
       "      <th>datasource_hash</th>\n",
       "      <th>topic</th>\n",
       "      <th>equip_id</th>\n",
       "      <th>id_bdg</th>\n",
       "      <th>name_bdg</th>\n",
       "      <th>equip_type_abbr</th>\n",
       "      <th>equip_type_name</th>\n",
       "      <th>area_served_desc</th>\n",
       "      <th>tags</th>\n",
       "    </tr>\n",
       "  </thead>\n",
       "  <tbody>\n",
       "    <tr>\n",
       "      <th>1299</th>\n",
       "      <td>198161</td>\n",
       "      <td>140</td>\n",
       "      <td>1.551416e+12</td>\n",
       "      <td>1.546319e+12</td>\n",
       "      <td>NaN</td>\n",
       "      <td>NaN</td>\n",
       "      <td>NaN</td>\n",
       "      <td>UPCM-1 AH-1 Gallery_Supply Air Temp Setpoint</td>\n",
       "      <td>F</td>\n",
       "      <td>NaN</td>\n",
       "      <td>...</td>\n",
       "      <td>1</td>\n",
       "      <td>2f3e73e20430990e1b08249fd50130fe</td>\n",
       "      <td>nyserda+0000083483+ahu1-gallery+UPCM-1 AH-1 Ga...</td>\n",
       "      <td>18092</td>\n",
       "      <td>140</td>\n",
       "      <td>83483</td>\n",
       "      <td>AHU</td>\n",
       "      <td>Air Handling Unit</td>\n",
       "      <td>NaN</td>\n",
       "      <td>['ahu', 'hvac']</td>\n",
       "    </tr>\n",
       "    <tr>\n",
       "      <th>1349</th>\n",
       "      <td>198199</td>\n",
       "      <td>140</td>\n",
       "      <td>1.551416e+12</td>\n",
       "      <td>1.509509e+12</td>\n",
       "      <td>NaN</td>\n",
       "      <td>NaN</td>\n",
       "      <td>NaN</td>\n",
       "      <td>AH-1 Lobby_Supply Air Temp Setpoint</td>\n",
       "      <td>F</td>\n",
       "      <td>NaN</td>\n",
       "      <td>...</td>\n",
       "      <td>1</td>\n",
       "      <td>d186863edb7da71e6f32c62b4a745003</td>\n",
       "      <td>nyserda+0000083483+ahu1-lobby+AH-1 Lobby_Suppl...</td>\n",
       "      <td>18093</td>\n",
       "      <td>140</td>\n",
       "      <td>83483</td>\n",
       "      <td>AHU</td>\n",
       "      <td>Air Handling Unit</td>\n",
       "      <td>NaN</td>\n",
       "      <td>['ahu', 'hvac']</td>\n",
       "    </tr>\n",
       "    <tr>\n",
       "      <th>1406</th>\n",
       "      <td>198249</td>\n",
       "      <td>140</td>\n",
       "      <td>1.551416e+12</td>\n",
       "      <td>1.536258e+12</td>\n",
       "      <td>NaN</td>\n",
       "      <td>NaN</td>\n",
       "      <td>NaN</td>\n",
       "      <td>UPCM-2 AH-2 2nd Floor_Supply Air Temp Setpoint</td>\n",
       "      <td>F</td>\n",
       "      <td>NaN</td>\n",
       "      <td>...</td>\n",
       "      <td>1</td>\n",
       "      <td>fa697155ce3f5d6ef808b138048b114c</td>\n",
       "      <td>nyserda+0000083483+ahu2-floor2+UPCM-2 AH-2 2nd...</td>\n",
       "      <td>18094</td>\n",
       "      <td>140</td>\n",
       "      <td>83483</td>\n",
       "      <td>AHU</td>\n",
       "      <td>Air Handling Unit</td>\n",
       "      <td>NaN</td>\n",
       "      <td>['ahu', 'hvac']</td>\n",
       "    </tr>\n",
       "    <tr>\n",
       "      <th>1438</th>\n",
       "      <td>198287</td>\n",
       "      <td>140</td>\n",
       "      <td>1.551416e+12</td>\n",
       "      <td>1.536592e+12</td>\n",
       "      <td>NaN</td>\n",
       "      <td>NaN</td>\n",
       "      <td>NaN</td>\n",
       "      <td>AHU-2-6TH-FLR_Supply Air Temp Setpoint</td>\n",
       "      <td>F</td>\n",
       "      <td>NaN</td>\n",
       "      <td>...</td>\n",
       "      <td>1</td>\n",
       "      <td>cc3a8ad4c93f7e262f376e17e6fa1ca1</td>\n",
       "      <td>nyserda+0000083483+ahu2-floor6+AHU-2-6TH-FLR_S...</td>\n",
       "      <td>18095</td>\n",
       "      <td>140</td>\n",
       "      <td>83483</td>\n",
       "      <td>AHU</td>\n",
       "      <td>Air Handling Unit</td>\n",
       "      <td>NaN</td>\n",
       "      <td>['ahu', 'hvac']</td>\n",
       "    </tr>\n",
       "    <tr>\n",
       "      <th>1947</th>\n",
       "      <td>210916</td>\n",
       "      <td>271</td>\n",
       "      <td>1.551416e+12</td>\n",
       "      <td>1.527826e+12</td>\n",
       "      <td>NaN</td>\n",
       "      <td>NaN</td>\n",
       "      <td>NaN</td>\n",
       "      <td>3RD FL CSC_Supply Air Temp Setpoint</td>\n",
       "      <td>F</td>\n",
       "      <td>NaN</td>\n",
       "      <td>...</td>\n",
       "      <td>1</td>\n",
       "      <td>eeda1eb6df92ae94d094aaaf04116479</td>\n",
       "      <td>nyserda+0000080324+csc3+3RD FL CSC_Supply Air ...</td>\n",
       "      <td>20109</td>\n",
       "      <td>271</td>\n",
       "      <td>80324</td>\n",
       "      <td>AHU</td>\n",
       "      <td>Air Handling Unit</td>\n",
       "      <td>NaN</td>\n",
       "      <td>['ahu', 'hvac']</td>\n",
       "    </tr>\n",
       "    <tr>\n",
       "      <th>...</th>\n",
       "      <td>...</td>\n",
       "      <td>...</td>\n",
       "      <td>...</td>\n",
       "      <td>...</td>\n",
       "      <td>...</td>\n",
       "      <td>...</td>\n",
       "      <td>...</td>\n",
       "      <td>...</td>\n",
       "      <td>...</td>\n",
       "      <td>...</td>\n",
       "      <td>...</td>\n",
       "      <td>...</td>\n",
       "      <td>...</td>\n",
       "      <td>...</td>\n",
       "      <td>...</td>\n",
       "      <td>...</td>\n",
       "      <td>...</td>\n",
       "      <td>...</td>\n",
       "      <td>...</td>\n",
       "      <td>...</td>\n",
       "      <td>...</td>\n",
       "    </tr>\n",
       "    <tr>\n",
       "      <th>44281</th>\n",
       "      <td>231050</td>\n",
       "      <td>398</td>\n",
       "      <td>1.577768e+12</td>\n",
       "      <td>1.554845e+12</td>\n",
       "      <td>NaN</td>\n",
       "      <td>NaN</td>\n",
       "      <td>NaN</td>\n",
       "      <td>AC-9-1_SaTmpRstSptHiLmt</td>\n",
       "      <td>F</td>\n",
       "      <td>NaN</td>\n",
       "      <td>...</td>\n",
       "      <td>1</td>\n",
       "      <td>bcc97cc43d66460f7c96c8d2b18f268d</td>\n",
       "      <td>nyserda+0000109188+ac9-1+AC-9-1_SaTmpRstSptHiLmt</td>\n",
       "      <td>22736</td>\n",
       "      <td>398</td>\n",
       "      <td>109188</td>\n",
       "      <td>AHU</td>\n",
       "      <td>Air Handling Unit</td>\n",
       "      <td>NaN</td>\n",
       "      <td>['ahu', 'hvac']</td>\n",
       "    </tr>\n",
       "    <tr>\n",
       "      <th>44312</th>\n",
       "      <td>231062</td>\n",
       "      <td>398</td>\n",
       "      <td>1.577768e+12</td>\n",
       "      <td>1.571890e+12</td>\n",
       "      <td>NaN</td>\n",
       "      <td>NaN</td>\n",
       "      <td>NaN</td>\n",
       "      <td>AHU_26_02_SaTmpSpt</td>\n",
       "      <td>F</td>\n",
       "      <td>NaN</td>\n",
       "      <td>...</td>\n",
       "      <td>1</td>\n",
       "      <td>7e0987d04c164804b2511221e75e4c64</td>\n",
       "      <td>nyserda+0000109188+ahu26-02+AHU_26_02_SaTmpSpt</td>\n",
       "      <td>22737</td>\n",
       "      <td>398</td>\n",
       "      <td>109188</td>\n",
       "      <td>AHU</td>\n",
       "      <td>Air Handling Unit</td>\n",
       "      <td>NaN</td>\n",
       "      <td>['ahu', 'hvac']</td>\n",
       "    </tr>\n",
       "    <tr>\n",
       "      <th>44317</th>\n",
       "      <td>231072</td>\n",
       "      <td>398</td>\n",
       "      <td>1.577768e+12</td>\n",
       "      <td>1.571890e+12</td>\n",
       "      <td>NaN</td>\n",
       "      <td>NaN</td>\n",
       "      <td>NaN</td>\n",
       "      <td>AHU_27_02_SaTmpSpt</td>\n",
       "      <td>F</td>\n",
       "      <td>NaN</td>\n",
       "      <td>...</td>\n",
       "      <td>1</td>\n",
       "      <td>37c8b39c91ed6ebd8ef54ed1b410aeed</td>\n",
       "      <td>nyserda+0000109188+ahu27-02+AHU_27_02_SaTmpSpt</td>\n",
       "      <td>22738</td>\n",
       "      <td>398</td>\n",
       "      <td>109188</td>\n",
       "      <td>AHU</td>\n",
       "      <td>Air Handling Unit</td>\n",
       "      <td>NaN</td>\n",
       "      <td>['ahu', 'hvac']</td>\n",
       "    </tr>\n",
       "    <tr>\n",
       "      <th>44351</th>\n",
       "      <td>231105</td>\n",
       "      <td>398</td>\n",
       "      <td>1.577768e+12</td>\n",
       "      <td>1.571890e+12</td>\n",
       "      <td>NaN</td>\n",
       "      <td>NaN</td>\n",
       "      <td>NaN</td>\n",
       "      <td>CRAC-23-1_Discharge Air Temperature Low Limit ...</td>\n",
       "      <td>F</td>\n",
       "      <td>NaN</td>\n",
       "      <td>...</td>\n",
       "      <td>1</td>\n",
       "      <td>917690b8b8adb41a9d0835adfe5e1af1</td>\n",
       "      <td>nyserda+0000109188+crac23-1+CRAC-23-1_Discharg...</td>\n",
       "      <td>22746</td>\n",
       "      <td>398</td>\n",
       "      <td>109188</td>\n",
       "      <td>AHU</td>\n",
       "      <td>Air Handling Unit</td>\n",
       "      <td>NaN</td>\n",
       "      <td>['ahu', 'hvac']</td>\n",
       "    </tr>\n",
       "    <tr>\n",
       "      <th>44364</th>\n",
       "      <td>231113</td>\n",
       "      <td>398</td>\n",
       "      <td>1.577768e+12</td>\n",
       "      <td>1.571890e+12</td>\n",
       "      <td>NaN</td>\n",
       "      <td>NaN</td>\n",
       "      <td>NaN</td>\n",
       "      <td>CRAC 5-1_Discharge Air Temperature Low Limit S...</td>\n",
       "      <td>F</td>\n",
       "      <td>NaN</td>\n",
       "      <td>...</td>\n",
       "      <td>1</td>\n",
       "      <td>6196344200e34e84134019e4e753e6a8</td>\n",
       "      <td>nyserda+0000109188+crac5-1+CRAC 5-1_Discharge ...</td>\n",
       "      <td>22747</td>\n",
       "      <td>398</td>\n",
       "      <td>109188</td>\n",
       "      <td>AHU</td>\n",
       "      <td>Air Handling Unit</td>\n",
       "      <td>NaN</td>\n",
       "      <td>['ahu', 'hvac']</td>\n",
       "    </tr>\n",
       "  </tbody>\n",
       "</table>\n",
       "<p>349 rows × 24 columns</p>\n",
       "</div>"
      ],
      "text/plain": [
       "       id_point  building_id  last_updated  first_updated  device  objectId  \\\n",
       "1299     198161          140  1.551416e+12   1.546319e+12     NaN       NaN   \n",
       "1349     198199          140  1.551416e+12   1.509509e+12     NaN       NaN   \n",
       "1406     198249          140  1.551416e+12   1.536258e+12     NaN       NaN   \n",
       "1438     198287          140  1.551416e+12   1.536592e+12     NaN       NaN   \n",
       "1947     210916          271  1.551416e+12   1.527826e+12     NaN       NaN   \n",
       "...         ...          ...           ...            ...     ...       ...   \n",
       "44281    231050          398  1.577768e+12   1.554845e+12     NaN       NaN   \n",
       "44312    231062          398  1.577768e+12   1.571890e+12     NaN       NaN   \n",
       "44317    231072          398  1.577768e+12   1.571890e+12     NaN       NaN   \n",
       "44351    231105          398  1.577768e+12   1.571890e+12     NaN       NaN   \n",
       "44364    231113          398  1.577768e+12   1.571890e+12     NaN       NaN   \n",
       "\n",
       "      name_point                                        description units  \\\n",
       "1299         NaN       UPCM-1 AH-1 Gallery_Supply Air Temp Setpoint     F   \n",
       "1349         NaN                AH-1 Lobby_Supply Air Temp Setpoint     F   \n",
       "1406         NaN     UPCM-2 AH-2 2nd Floor_Supply Air Temp Setpoint     F   \n",
       "1438         NaN             AHU-2-6TH-FLR_Supply Air Temp Setpoint     F   \n",
       "1947         NaN                3RD FL CSC_Supply Air Temp Setpoint     F   \n",
       "...          ...                                                ...   ...   \n",
       "44281        NaN                            AC-9-1_SaTmpRstSptHiLmt     F   \n",
       "44312        NaN                                 AHU_26_02_SaTmpSpt     F   \n",
       "44317        NaN                                 AHU_27_02_SaTmpSpt     F   \n",
       "44351        NaN  CRAC-23-1_Discharge Air Temperature Low Limit ...     F   \n",
       "44364        NaN  CRAC 5-1_Discharge Air Temperature Low Limit S...     F   \n",
       "\n",
       "      tagged_units  ...  measurement_id                   datasource_hash  \\\n",
       "1299           NaN  ...               1  2f3e73e20430990e1b08249fd50130fe   \n",
       "1349           NaN  ...               1  d186863edb7da71e6f32c62b4a745003   \n",
       "1406           NaN  ...               1  fa697155ce3f5d6ef808b138048b114c   \n",
       "1438           NaN  ...               1  cc3a8ad4c93f7e262f376e17e6fa1ca1   \n",
       "1947           NaN  ...               1  eeda1eb6df92ae94d094aaaf04116479   \n",
       "...            ...  ...             ...                               ...   \n",
       "44281          NaN  ...               1  bcc97cc43d66460f7c96c8d2b18f268d   \n",
       "44312          NaN  ...               1  7e0987d04c164804b2511221e75e4c64   \n",
       "44317          NaN  ...               1  37c8b39c91ed6ebd8ef54ed1b410aeed   \n",
       "44351          NaN  ...               1  917690b8b8adb41a9d0835adfe5e1af1   \n",
       "44364          NaN  ...               1  6196344200e34e84134019e4e753e6a8   \n",
       "\n",
       "                                                   topic  equip_id  id_bdg  \\\n",
       "1299   nyserda+0000083483+ahu1-gallery+UPCM-1 AH-1 Ga...     18092     140   \n",
       "1349   nyserda+0000083483+ahu1-lobby+AH-1 Lobby_Suppl...     18093     140   \n",
       "1406   nyserda+0000083483+ahu2-floor2+UPCM-2 AH-2 2nd...     18094     140   \n",
       "1438   nyserda+0000083483+ahu2-floor6+AHU-2-6TH-FLR_S...     18095     140   \n",
       "1947   nyserda+0000080324+csc3+3RD FL CSC_Supply Air ...     20109     271   \n",
       "...                                                  ...       ...     ...   \n",
       "44281   nyserda+0000109188+ac9-1+AC-9-1_SaTmpRstSptHiLmt     22736     398   \n",
       "44312     nyserda+0000109188+ahu26-02+AHU_26_02_SaTmpSpt     22737     398   \n",
       "44317     nyserda+0000109188+ahu27-02+AHU_27_02_SaTmpSpt     22738     398   \n",
       "44351  nyserda+0000109188+crac23-1+CRAC-23-1_Discharg...     22746     398   \n",
       "44364  nyserda+0000109188+crac5-1+CRAC 5-1_Discharge ...     22747     398   \n",
       "\n",
       "      name_bdg equip_type_abbr    equip_type_name  area_served_desc  \\\n",
       "1299     83483             AHU  Air Handling Unit               NaN   \n",
       "1349     83483             AHU  Air Handling Unit               NaN   \n",
       "1406     83483             AHU  Air Handling Unit               NaN   \n",
       "1438     83483             AHU  Air Handling Unit               NaN   \n",
       "1947     80324             AHU  Air Handling Unit               NaN   \n",
       "...        ...             ...                ...               ...   \n",
       "44281   109188             AHU  Air Handling Unit               NaN   \n",
       "44312   109188             AHU  Air Handling Unit               NaN   \n",
       "44317   109188             AHU  Air Handling Unit               NaN   \n",
       "44351   109188             AHU  Air Handling Unit               NaN   \n",
       "44364   109188             AHU  Air Handling Unit               NaN   \n",
       "\n",
       "                  tags  \n",
       "1299   ['ahu', 'hvac']  \n",
       "1349   ['ahu', 'hvac']  \n",
       "1406   ['ahu', 'hvac']  \n",
       "1438   ['ahu', 'hvac']  \n",
       "1947   ['ahu', 'hvac']  \n",
       "...                ...  \n",
       "44281  ['ahu', 'hvac']  \n",
       "44312  ['ahu', 'hvac']  \n",
       "44317  ['ahu', 'hvac']  \n",
       "44351  ['ahu', 'hvac']  \n",
       "44364  ['ahu', 'hvac']  \n",
       "\n",
       "[349 rows x 24 columns]"
      ]
     },
     "execution_count": 12,
     "metadata": {},
     "output_type": "execute_result"
    }
   ],
   "source": [
    "ahu_sp_data = ahu_data[(ahu_data.type == \"Supply Air Temperature Setpoint\")]\n",
    "ahu_sp_data"
   ]
  },
  {
   "cell_type": "code",
   "execution_count": 13,
   "id": "440ee81d",
   "metadata": {
    "scrolled": true
   },
   "outputs": [
    {
     "data": {
      "text/html": [
       "<div>\n",
       "<style scoped>\n",
       "    .dataframe tbody tr th:only-of-type {\n",
       "        vertical-align: middle;\n",
       "    }\n",
       "\n",
       "    .dataframe tbody tr th {\n",
       "        vertical-align: top;\n",
       "    }\n",
       "\n",
       "    .dataframe thead th {\n",
       "        text-align: right;\n",
       "    }\n",
       "</style>\n",
       "<table border=\"1\" class=\"dataframe\">\n",
       "  <thead>\n",
       "    <tr style=\"text-align: right;\">\n",
       "      <th></th>\n",
       "      <th>id_point</th>\n",
       "      <th>building_id</th>\n",
       "      <th>last_updated</th>\n",
       "      <th>first_updated</th>\n",
       "      <th>device</th>\n",
       "      <th>objectId</th>\n",
       "      <th>name_point</th>\n",
       "      <th>description</th>\n",
       "      <th>units</th>\n",
       "      <th>tagged_units</th>\n",
       "      <th>...</th>\n",
       "      <th>measurement_id</th>\n",
       "      <th>datasource_hash</th>\n",
       "      <th>topic</th>\n",
       "      <th>equip_id</th>\n",
       "      <th>id_bdg</th>\n",
       "      <th>name_bdg</th>\n",
       "      <th>equip_type_abbr</th>\n",
       "      <th>equip_type_name</th>\n",
       "      <th>area_served_desc</th>\n",
       "      <th>tags</th>\n",
       "    </tr>\n",
       "  </thead>\n",
       "  <tbody>\n",
       "    <tr>\n",
       "      <th>1302</th>\n",
       "      <td>198159</td>\n",
       "      <td>140</td>\n",
       "      <td>1.551416e+12</td>\n",
       "      <td>1.518575e+12</td>\n",
       "      <td>NaN</td>\n",
       "      <td>NaN</td>\n",
       "      <td>NaN</td>\n",
       "      <td>UPCM-1 AH-1 Gallery_Supply Air Temp</td>\n",
       "      <td>F</td>\n",
       "      <td>NaN</td>\n",
       "      <td>...</td>\n",
       "      <td>1</td>\n",
       "      <td>987bcb47ca9e78bea7aeca833cecef8b</td>\n",
       "      <td>nyserda+0000083483+ahu1-gallery+UPCM-1 AH-1 Ga...</td>\n",
       "      <td>18092</td>\n",
       "      <td>140</td>\n",
       "      <td>83483</td>\n",
       "      <td>AHU</td>\n",
       "      <td>Air Handling Unit</td>\n",
       "      <td>NaN</td>\n",
       "      <td>['ahu', 'hvac']</td>\n",
       "    </tr>\n",
       "    <tr>\n",
       "      <th>1352</th>\n",
       "      <td>198197</td>\n",
       "      <td>140</td>\n",
       "      <td>1.551416e+12</td>\n",
       "      <td>1.509509e+12</td>\n",
       "      <td>NaN</td>\n",
       "      <td>NaN</td>\n",
       "      <td>NaN</td>\n",
       "      <td>AH-1 Lobby_Supply Air Temp</td>\n",
       "      <td>F</td>\n",
       "      <td>NaN</td>\n",
       "      <td>...</td>\n",
       "      <td>1</td>\n",
       "      <td>f399cb123ef54820ca9de858f3fca923</td>\n",
       "      <td>nyserda+0000083483+ahu1-lobby+AH-1 Lobby_Suppl...</td>\n",
       "      <td>18093</td>\n",
       "      <td>140</td>\n",
       "      <td>83483</td>\n",
       "      <td>AHU</td>\n",
       "      <td>Air Handling Unit</td>\n",
       "      <td>NaN</td>\n",
       "      <td>['ahu', 'hvac']</td>\n",
       "    </tr>\n",
       "    <tr>\n",
       "      <th>1405</th>\n",
       "      <td>198247</td>\n",
       "      <td>140</td>\n",
       "      <td>1.551416e+12</td>\n",
       "      <td>1.518620e+12</td>\n",
       "      <td>NaN</td>\n",
       "      <td>NaN</td>\n",
       "      <td>NaN</td>\n",
       "      <td>UPCM-2 AH-2 2nd Floor_Supply Air Temp</td>\n",
       "      <td>F</td>\n",
       "      <td>NaN</td>\n",
       "      <td>...</td>\n",
       "      <td>1</td>\n",
       "      <td>4bb044197e0865b5aece28acbfd566d1</td>\n",
       "      <td>nyserda+0000083483+ahu2-floor2+UPCM-2 AH-2 2nd...</td>\n",
       "      <td>18094</td>\n",
       "      <td>140</td>\n",
       "      <td>83483</td>\n",
       "      <td>AHU</td>\n",
       "      <td>Air Handling Unit</td>\n",
       "      <td>NaN</td>\n",
       "      <td>['ahu', 'hvac']</td>\n",
       "    </tr>\n",
       "    <tr>\n",
       "      <th>1443</th>\n",
       "      <td>198285</td>\n",
       "      <td>140</td>\n",
       "      <td>1.551416e+12</td>\n",
       "      <td>1.536592e+12</td>\n",
       "      <td>NaN</td>\n",
       "      <td>NaN</td>\n",
       "      <td>NaN</td>\n",
       "      <td>AHU-2-6TH-FLR_Supply Air Temp</td>\n",
       "      <td>F</td>\n",
       "      <td>NaN</td>\n",
       "      <td>...</td>\n",
       "      <td>1</td>\n",
       "      <td>2a80e4185f7b244e78726e0911df7387</td>\n",
       "      <td>nyserda+0000083483+ahu2-floor6+AHU-2-6TH-FLR_S...</td>\n",
       "      <td>18095</td>\n",
       "      <td>140</td>\n",
       "      <td>83483</td>\n",
       "      <td>AHU</td>\n",
       "      <td>Air Handling Unit</td>\n",
       "      <td>NaN</td>\n",
       "      <td>['ahu', 'hvac']</td>\n",
       "    </tr>\n",
       "    <tr>\n",
       "      <th>1654</th>\n",
       "      <td>203561</td>\n",
       "      <td>191</td>\n",
       "      <td>1.562119e+12</td>\n",
       "      <td>1.530562e+12</td>\n",
       "      <td>NaN</td>\n",
       "      <td>NaN</td>\n",
       "      <td>NaN</td>\n",
       "      <td>RTU-1 Front Supply</td>\n",
       "      <td>F</td>\n",
       "      <td>NaN</td>\n",
       "      <td>...</td>\n",
       "      <td>1</td>\n",
       "      <td>4b60eff756d5f4fdb378969a106d9bad</td>\n",
       "      <td>nyserda+0000094414+rtu1+RTU-1 Front Supply</td>\n",
       "      <td>18921</td>\n",
       "      <td>191</td>\n",
       "      <td>94414</td>\n",
       "      <td>AHU</td>\n",
       "      <td>Air Handling Unit</td>\n",
       "      <td>NaN</td>\n",
       "      <td>['ahu', 'hvac', 'rtu']</td>\n",
       "    </tr>\n",
       "    <tr>\n",
       "      <th>...</th>\n",
       "      <td>...</td>\n",
       "      <td>...</td>\n",
       "      <td>...</td>\n",
       "      <td>...</td>\n",
       "      <td>...</td>\n",
       "      <td>...</td>\n",
       "      <td>...</td>\n",
       "      <td>...</td>\n",
       "      <td>...</td>\n",
       "      <td>...</td>\n",
       "      <td>...</td>\n",
       "      <td>...</td>\n",
       "      <td>...</td>\n",
       "      <td>...</td>\n",
       "      <td>...</td>\n",
       "      <td>...</td>\n",
       "      <td>...</td>\n",
       "      <td>...</td>\n",
       "      <td>...</td>\n",
       "      <td>...</td>\n",
       "      <td>...</td>\n",
       "    </tr>\n",
       "    <tr>\n",
       "      <th>44318</th>\n",
       "      <td>231071</td>\n",
       "      <td>398</td>\n",
       "      <td>1.577768e+12</td>\n",
       "      <td>1.571890e+12</td>\n",
       "      <td>NaN</td>\n",
       "      <td>NaN</td>\n",
       "      <td>NaN</td>\n",
       "      <td>AHU_27_02_SATmp</td>\n",
       "      <td>F</td>\n",
       "      <td>NaN</td>\n",
       "      <td>...</td>\n",
       "      <td>1</td>\n",
       "      <td>d261378623a38bdc52e1972dc0b408a2</td>\n",
       "      <td>nyserda+0000109188+ahu27-02+AHU_27_02_SATmp</td>\n",
       "      <td>22738</td>\n",
       "      <td>398</td>\n",
       "      <td>109188</td>\n",
       "      <td>AHU</td>\n",
       "      <td>Air Handling Unit</td>\n",
       "      <td>NaN</td>\n",
       "      <td>['ahu', 'hvac']</td>\n",
       "    </tr>\n",
       "    <tr>\n",
       "      <th>44354</th>\n",
       "      <td>231104</td>\n",
       "      <td>398</td>\n",
       "      <td>1.577768e+12</td>\n",
       "      <td>1.571890e+12</td>\n",
       "      <td>NaN</td>\n",
       "      <td>NaN</td>\n",
       "      <td>NaN</td>\n",
       "      <td>CRAC-23-1_Discharge Air Temperature</td>\n",
       "      <td>F</td>\n",
       "      <td>NaN</td>\n",
       "      <td>...</td>\n",
       "      <td>1</td>\n",
       "      <td>7e2b7c496f2959369a125070ee443bab</td>\n",
       "      <td>nyserda+0000109188+crac23-1+CRAC-23-1_Discharg...</td>\n",
       "      <td>22746</td>\n",
       "      <td>398</td>\n",
       "      <td>109188</td>\n",
       "      <td>AHU</td>\n",
       "      <td>Air Handling Unit</td>\n",
       "      <td>NaN</td>\n",
       "      <td>['ahu', 'hvac']</td>\n",
       "    </tr>\n",
       "    <tr>\n",
       "      <th>44362</th>\n",
       "      <td>231112</td>\n",
       "      <td>398</td>\n",
       "      <td>1.577768e+12</td>\n",
       "      <td>1.571890e+12</td>\n",
       "      <td>NaN</td>\n",
       "      <td>NaN</td>\n",
       "      <td>NaN</td>\n",
       "      <td>CRAC 5-1_Discharge Air Temperature</td>\n",
       "      <td>F</td>\n",
       "      <td>NaN</td>\n",
       "      <td>...</td>\n",
       "      <td>1</td>\n",
       "      <td>afc0b54922060467673b7e2fbb600ed9</td>\n",
       "      <td>nyserda+0000109188+crac5-1+CRAC 5-1_Discharge ...</td>\n",
       "      <td>22747</td>\n",
       "      <td>398</td>\n",
       "      <td>109188</td>\n",
       "      <td>AHU</td>\n",
       "      <td>Air Handling Unit</td>\n",
       "      <td>NaN</td>\n",
       "      <td>['ahu', 'hvac']</td>\n",
       "    </tr>\n",
       "    <tr>\n",
       "      <th>44372</th>\n",
       "      <td>231121</td>\n",
       "      <td>399</td>\n",
       "      <td>1.596254e+12</td>\n",
       "      <td>1.527826e+12</td>\n",
       "      <td>NaN</td>\n",
       "      <td>NaN</td>\n",
       "      <td>AC_S1_DAT_value</td>\n",
       "      <td>AC_S1_DAT_value</td>\n",
       "      <td>F</td>\n",
       "      <td>f</td>\n",
       "      <td>...</td>\n",
       "      <td>1</td>\n",
       "      <td>2911795ee7842d6a496d517e3a89a248</td>\n",
       "      <td>nyserda+0000097151+ac-fan1-supply+AC_S1_DAT_value</td>\n",
       "      <td>32352</td>\n",
       "      <td>399</td>\n",
       "      <td>97151</td>\n",
       "      <td>AHU</td>\n",
       "      <td>Air Handling Unit</td>\n",
       "      <td>NaN</td>\n",
       "      <td>['ahu', 'hvac']</td>\n",
       "    </tr>\n",
       "    <tr>\n",
       "      <th>44374</th>\n",
       "      <td>231123</td>\n",
       "      <td>399</td>\n",
       "      <td>1.596254e+12</td>\n",
       "      <td>1.527826e+12</td>\n",
       "      <td>NaN</td>\n",
       "      <td>NaN</td>\n",
       "      <td>AC_S2_DAT_value</td>\n",
       "      <td>AC_S2_DAT_value</td>\n",
       "      <td>F</td>\n",
       "      <td>f</td>\n",
       "      <td>...</td>\n",
       "      <td>1</td>\n",
       "      <td>7f1fdfdc2e8fedef51359bda0ea41558</td>\n",
       "      <td>nyserda+0000097151+ac-fan2-supply+AC_S2_DAT_value</td>\n",
       "      <td>32353</td>\n",
       "      <td>399</td>\n",
       "      <td>97151</td>\n",
       "      <td>AHU</td>\n",
       "      <td>Air Handling Unit</td>\n",
       "      <td>NaN</td>\n",
       "      <td>['ahu', 'hvac']</td>\n",
       "    </tr>\n",
       "  </tbody>\n",
       "</table>\n",
       "<p>620 rows × 24 columns</p>\n",
       "</div>"
      ],
      "text/plain": [
       "       id_point  building_id  last_updated  first_updated  device  objectId  \\\n",
       "1302     198159          140  1.551416e+12   1.518575e+12     NaN       NaN   \n",
       "1352     198197          140  1.551416e+12   1.509509e+12     NaN       NaN   \n",
       "1405     198247          140  1.551416e+12   1.518620e+12     NaN       NaN   \n",
       "1443     198285          140  1.551416e+12   1.536592e+12     NaN       NaN   \n",
       "1654     203561          191  1.562119e+12   1.530562e+12     NaN       NaN   \n",
       "...         ...          ...           ...            ...     ...       ...   \n",
       "44318    231071          398  1.577768e+12   1.571890e+12     NaN       NaN   \n",
       "44354    231104          398  1.577768e+12   1.571890e+12     NaN       NaN   \n",
       "44362    231112          398  1.577768e+12   1.571890e+12     NaN       NaN   \n",
       "44372    231121          399  1.596254e+12   1.527826e+12     NaN       NaN   \n",
       "44374    231123          399  1.596254e+12   1.527826e+12     NaN       NaN   \n",
       "\n",
       "            name_point                            description units  \\\n",
       "1302               NaN    UPCM-1 AH-1 Gallery_Supply Air Temp     F   \n",
       "1352               NaN             AH-1 Lobby_Supply Air Temp     F   \n",
       "1405               NaN  UPCM-2 AH-2 2nd Floor_Supply Air Temp     F   \n",
       "1443               NaN          AHU-2-6TH-FLR_Supply Air Temp     F   \n",
       "1654               NaN                     RTU-1 Front Supply     F   \n",
       "...                ...                                    ...   ...   \n",
       "44318              NaN                        AHU_27_02_SATmp     F   \n",
       "44354              NaN    CRAC-23-1_Discharge Air Temperature     F   \n",
       "44362              NaN     CRAC 5-1_Discharge Air Temperature     F   \n",
       "44372  AC_S1_DAT_value                        AC_S1_DAT_value     F   \n",
       "44374  AC_S2_DAT_value                        AC_S2_DAT_value     F   \n",
       "\n",
       "      tagged_units  ...  measurement_id                   datasource_hash  \\\n",
       "1302           NaN  ...               1  987bcb47ca9e78bea7aeca833cecef8b   \n",
       "1352           NaN  ...               1  f399cb123ef54820ca9de858f3fca923   \n",
       "1405           NaN  ...               1  4bb044197e0865b5aece28acbfd566d1   \n",
       "1443           NaN  ...               1  2a80e4185f7b244e78726e0911df7387   \n",
       "1654           NaN  ...               1  4b60eff756d5f4fdb378969a106d9bad   \n",
       "...            ...  ...             ...                               ...   \n",
       "44318          NaN  ...               1  d261378623a38bdc52e1972dc0b408a2   \n",
       "44354          NaN  ...               1  7e2b7c496f2959369a125070ee443bab   \n",
       "44362          NaN  ...               1  afc0b54922060467673b7e2fbb600ed9   \n",
       "44372            f  ...               1  2911795ee7842d6a496d517e3a89a248   \n",
       "44374            f  ...               1  7f1fdfdc2e8fedef51359bda0ea41558   \n",
       "\n",
       "                                                   topic  equip_id  id_bdg  \\\n",
       "1302   nyserda+0000083483+ahu1-gallery+UPCM-1 AH-1 Ga...     18092     140   \n",
       "1352   nyserda+0000083483+ahu1-lobby+AH-1 Lobby_Suppl...     18093     140   \n",
       "1405   nyserda+0000083483+ahu2-floor2+UPCM-2 AH-2 2nd...     18094     140   \n",
       "1443   nyserda+0000083483+ahu2-floor6+AHU-2-6TH-FLR_S...     18095     140   \n",
       "1654          nyserda+0000094414+rtu1+RTU-1 Front Supply     18921     191   \n",
       "...                                                  ...       ...     ...   \n",
       "44318        nyserda+0000109188+ahu27-02+AHU_27_02_SATmp     22738     398   \n",
       "44354  nyserda+0000109188+crac23-1+CRAC-23-1_Discharg...     22746     398   \n",
       "44362  nyserda+0000109188+crac5-1+CRAC 5-1_Discharge ...     22747     398   \n",
       "44372  nyserda+0000097151+ac-fan1-supply+AC_S1_DAT_value     32352     399   \n",
       "44374  nyserda+0000097151+ac-fan2-supply+AC_S2_DAT_value     32353     399   \n",
       "\n",
       "      name_bdg equip_type_abbr    equip_type_name  area_served_desc  \\\n",
       "1302     83483             AHU  Air Handling Unit               NaN   \n",
       "1352     83483             AHU  Air Handling Unit               NaN   \n",
       "1405     83483             AHU  Air Handling Unit               NaN   \n",
       "1443     83483             AHU  Air Handling Unit               NaN   \n",
       "1654     94414             AHU  Air Handling Unit               NaN   \n",
       "...        ...             ...                ...               ...   \n",
       "44318   109188             AHU  Air Handling Unit               NaN   \n",
       "44354   109188             AHU  Air Handling Unit               NaN   \n",
       "44362   109188             AHU  Air Handling Unit               NaN   \n",
       "44372    97151             AHU  Air Handling Unit               NaN   \n",
       "44374    97151             AHU  Air Handling Unit               NaN   \n",
       "\n",
       "                         tags  \n",
       "1302          ['ahu', 'hvac']  \n",
       "1352          ['ahu', 'hvac']  \n",
       "1405          ['ahu', 'hvac']  \n",
       "1443          ['ahu', 'hvac']  \n",
       "1654   ['ahu', 'hvac', 'rtu']  \n",
       "...                       ...  \n",
       "44318         ['ahu', 'hvac']  \n",
       "44354         ['ahu', 'hvac']  \n",
       "44362         ['ahu', 'hvac']  \n",
       "44372         ['ahu', 'hvac']  \n",
       "44374         ['ahu', 'hvac']  \n",
       "\n",
       "[620 rows x 24 columns]"
      ]
     },
     "execution_count": 13,
     "metadata": {},
     "output_type": "execute_result"
    }
   ],
   "source": [
    "ahu_sat_data = ahu_data[(ahu_data.type == \"Supply Air Temperature\")]\n",
    "ahu_sat_data"
   ]
  },
  {
   "cell_type": "code",
   "execution_count": 14,
   "id": "044c4475",
   "metadata": {},
   "outputs": [
    {
     "data": {
      "text/html": [
       "<div>\n",
       "<style scoped>\n",
       "    .dataframe tbody tr th:only-of-type {\n",
       "        vertical-align: middle;\n",
       "    }\n",
       "\n",
       "    .dataframe tbody tr th {\n",
       "        vertical-align: top;\n",
       "    }\n",
       "\n",
       "    .dataframe thead th {\n",
       "        text-align: right;\n",
       "    }\n",
       "</style>\n",
       "<table border=\"1\" class=\"dataframe\">\n",
       "  <thead>\n",
       "    <tr style=\"text-align: right;\">\n",
       "      <th></th>\n",
       "      <th>id_point</th>\n",
       "      <th>building_id</th>\n",
       "      <th>last_updated</th>\n",
       "      <th>first_updated</th>\n",
       "      <th>device</th>\n",
       "      <th>objectId</th>\n",
       "      <th>name_point</th>\n",
       "      <th>description</th>\n",
       "      <th>units</th>\n",
       "      <th>tagged_units</th>\n",
       "      <th>...</th>\n",
       "      <th>measurement_id</th>\n",
       "      <th>datasource_hash</th>\n",
       "      <th>topic</th>\n",
       "      <th>equip_id</th>\n",
       "      <th>id_bdg</th>\n",
       "      <th>name_bdg</th>\n",
       "      <th>equip_type_abbr</th>\n",
       "      <th>equip_type_name</th>\n",
       "      <th>area_served_desc</th>\n",
       "      <th>tags</th>\n",
       "    </tr>\n",
       "  </thead>\n",
       "  <tbody>\n",
       "    <tr>\n",
       "      <th>2769</th>\n",
       "      <td>356292</td>\n",
       "      <td>470</td>\n",
       "      <td>1.635532e+12</td>\n",
       "      <td>1.604203e+12</td>\n",
       "      <td>NaN</td>\n",
       "      <td>NaN</td>\n",
       "      <td>AHU-02_Heating Coil Valve Command_A02PV</td>\n",
       "      <td>NaN</td>\n",
       "      <td>NaN</td>\n",
       "      <td>%</td>\n",
       "      <td>...</td>\n",
       "      <td>7</td>\n",
       "      <td>6a858fd7b5a57726bb9294f682c8298e</td>\n",
       "      <td>nyserda+0000164423+ahu-2+AHU-02_Heating Coil V...</td>\n",
       "      <td>31252</td>\n",
       "      <td>470</td>\n",
       "      <td>164423</td>\n",
       "      <td>AHU</td>\n",
       "      <td>Air Handling Unit</td>\n",
       "      <td>NaN</td>\n",
       "      <td>['ahu', 'hvac']</td>\n",
       "    </tr>\n",
       "    <tr>\n",
       "      <th>2788</th>\n",
       "      <td>356227</td>\n",
       "      <td>470</td>\n",
       "      <td>1.635530e+12</td>\n",
       "      <td>1.604203e+12</td>\n",
       "      <td>NaN</td>\n",
       "      <td>NaN</td>\n",
       "      <td>AHU-01_Heating Coil Valve Command_A01PV</td>\n",
       "      <td>NaN</td>\n",
       "      <td>NaN</td>\n",
       "      <td>%</td>\n",
       "      <td>...</td>\n",
       "      <td>7</td>\n",
       "      <td>d2b1eb83c94147cdf989e6441d44b65f</td>\n",
       "      <td>nyserda+0000164423+ahu-1+AHU-01_Heating Coil V...</td>\n",
       "      <td>31253</td>\n",
       "      <td>470</td>\n",
       "      <td>164423</td>\n",
       "      <td>AHU</td>\n",
       "      <td>Air Handling Unit</td>\n",
       "      <td>NaN</td>\n",
       "      <td>['ahu', 'hvac']</td>\n",
       "    </tr>\n",
       "    <tr>\n",
       "      <th>2808</th>\n",
       "      <td>356177</td>\n",
       "      <td>470</td>\n",
       "      <td>1.635537e+12</td>\n",
       "      <td>1.604203e+12</td>\n",
       "      <td>NaN</td>\n",
       "      <td>NaN</td>\n",
       "      <td>AHU-17_Heating Coil Valve Command_A17PV</td>\n",
       "      <td>NaN</td>\n",
       "      <td>NaN</td>\n",
       "      <td>%</td>\n",
       "      <td>...</td>\n",
       "      <td>7</td>\n",
       "      <td>8766695d64e23720dfdf87ce6d4147d9</td>\n",
       "      <td>nyserda+0000164423+ahu-17+AHU-17_Heating Coil ...</td>\n",
       "      <td>31254</td>\n",
       "      <td>470</td>\n",
       "      <td>164423</td>\n",
       "      <td>AHU</td>\n",
       "      <td>Air Handling Unit</td>\n",
       "      <td>NaN</td>\n",
       "      <td>['ahu', 'hvac']</td>\n",
       "    </tr>\n",
       "    <tr>\n",
       "      <th>2846</th>\n",
       "      <td>356200</td>\n",
       "      <td>470</td>\n",
       "      <td>1.635536e+12</td>\n",
       "      <td>1.604203e+12</td>\n",
       "      <td>NaN</td>\n",
       "      <td>NaN</td>\n",
       "      <td>AHU-18_Heating Coil Valve Command_A18PV</td>\n",
       "      <td>NaN</td>\n",
       "      <td>NaN</td>\n",
       "      <td>%</td>\n",
       "      <td>...</td>\n",
       "      <td>7</td>\n",
       "      <td>db896bc29faffb7e299e6fc87c65652e</td>\n",
       "      <td>nyserda+0000164423+ahu-18+AHU-18_Heating Coil ...</td>\n",
       "      <td>31255</td>\n",
       "      <td>470</td>\n",
       "      <td>164423</td>\n",
       "      <td>AHU</td>\n",
       "      <td>Air Handling Unit</td>\n",
       "      <td>NaN</td>\n",
       "      <td>['ahu', 'hvac']</td>\n",
       "    </tr>\n",
       "    <tr>\n",
       "      <th>2871</th>\n",
       "      <td>356245</td>\n",
       "      <td>470</td>\n",
       "      <td>1.635533e+12</td>\n",
       "      <td>1.604203e+12</td>\n",
       "      <td>NaN</td>\n",
       "      <td>NaN</td>\n",
       "      <td>AHU-21_Heating Coil Valve Command_A21PV</td>\n",
       "      <td>NaN</td>\n",
       "      <td>NaN</td>\n",
       "      <td>%</td>\n",
       "      <td>...</td>\n",
       "      <td>7</td>\n",
       "      <td>b95518b0a932bcc487f61c1025dabbee</td>\n",
       "      <td>nyserda+0000164423+ahu-21+AHU-21_Heating Coil ...</td>\n",
       "      <td>31256</td>\n",
       "      <td>470</td>\n",
       "      <td>164423</td>\n",
       "      <td>AHU</td>\n",
       "      <td>Air Handling Unit</td>\n",
       "      <td>NaN</td>\n",
       "      <td>['ahu', 'hvac']</td>\n",
       "    </tr>\n",
       "    <tr>\n",
       "      <th>...</th>\n",
       "      <td>...</td>\n",
       "      <td>...</td>\n",
       "      <td>...</td>\n",
       "      <td>...</td>\n",
       "      <td>...</td>\n",
       "      <td>...</td>\n",
       "      <td>...</td>\n",
       "      <td>...</td>\n",
       "      <td>...</td>\n",
       "      <td>...</td>\n",
       "      <td>...</td>\n",
       "      <td>...</td>\n",
       "      <td>...</td>\n",
       "      <td>...</td>\n",
       "      <td>...</td>\n",
       "      <td>...</td>\n",
       "      <td>...</td>\n",
       "      <td>...</td>\n",
       "      <td>...</td>\n",
       "      <td>...</td>\n",
       "      <td>...</td>\n",
       "    </tr>\n",
       "    <tr>\n",
       "      <th>22278</th>\n",
       "      <td>380154</td>\n",
       "      <td>492</td>\n",
       "      <td>1.641513e+12</td>\n",
       "      <td>1.596465e+12</td>\n",
       "      <td>NaN</td>\n",
       "      <td>NaN</td>\n",
       "      <td>ACS 02 Heating Coil Valve Command 1_A02VP1.V</td>\n",
       "      <td>NaN</td>\n",
       "      <td>NaN</td>\n",
       "      <td>%</td>\n",
       "      <td>...</td>\n",
       "      <td>7</td>\n",
       "      <td>f9fdfb84740dfc2cd183bb4e5169386c</td>\n",
       "      <td>nyserda+0000122607+ahu-2+ACS 02 Heating Coil V...</td>\n",
       "      <td>33275</td>\n",
       "      <td>492</td>\n",
       "      <td>122607</td>\n",
       "      <td>AHU</td>\n",
       "      <td>Air Handling Unit</td>\n",
       "      <td>NaN</td>\n",
       "      <td>['ahu', 'hvac']</td>\n",
       "    </tr>\n",
       "    <tr>\n",
       "      <th>30283</th>\n",
       "      <td>201659</td>\n",
       "      <td>185</td>\n",
       "      <td>1.572494e+12</td>\n",
       "      <td>1.559362e+12</td>\n",
       "      <td>NaN</td>\n",
       "      <td>NaN</td>\n",
       "      <td>AC_47B_HtgVlv</td>\n",
       "      <td>AC_47B_HtgVlv</td>\n",
       "      <td>%</td>\n",
       "      <td>%</td>\n",
       "      <td>...</td>\n",
       "      <td>7</td>\n",
       "      <td>0f3fcf3af5f33d7fac9c6c02f33d2430</td>\n",
       "      <td>nyserda+0000108594+ac-47b+AC_47B_HtgVlv</td>\n",
       "      <td>34967</td>\n",
       "      <td>185</td>\n",
       "      <td>108594</td>\n",
       "      <td>AHU</td>\n",
       "      <td>Air Handling Unit</td>\n",
       "      <td>NaN</td>\n",
       "      <td>['ahu', 'hvac']</td>\n",
       "    </tr>\n",
       "    <tr>\n",
       "      <th>44229</th>\n",
       "      <td>230968</td>\n",
       "      <td>398</td>\n",
       "      <td>1.577768e+12</td>\n",
       "      <td>1.554845e+12</td>\n",
       "      <td>NaN</td>\n",
       "      <td>NaN</td>\n",
       "      <td>NaN</td>\n",
       "      <td>AC-25-1_HtgVlvPos</td>\n",
       "      <td>%</td>\n",
       "      <td>NaN</td>\n",
       "      <td>...</td>\n",
       "      <td>7</td>\n",
       "      <td>1dab3aad8b30be11d46de8c2d8da7855</td>\n",
       "      <td>nyserda+0000109188+ac25-1+AC-25-1_HtgVlvPos</td>\n",
       "      <td>22734</td>\n",
       "      <td>398</td>\n",
       "      <td>109188</td>\n",
       "      <td>AHU</td>\n",
       "      <td>Air Handling Unit</td>\n",
       "      <td>NaN</td>\n",
       "      <td>['ahu', 'hvac']</td>\n",
       "    </tr>\n",
       "    <tr>\n",
       "      <th>44262</th>\n",
       "      <td>230999</td>\n",
       "      <td>398</td>\n",
       "      <td>1.577768e+12</td>\n",
       "      <td>1.554845e+12</td>\n",
       "      <td>NaN</td>\n",
       "      <td>NaN</td>\n",
       "      <td>NaN</td>\n",
       "      <td>AC-4-1_HtgVlvPos</td>\n",
       "      <td>%</td>\n",
       "      <td>NaN</td>\n",
       "      <td>...</td>\n",
       "      <td>7</td>\n",
       "      <td>f063272fa934bc125ce66468a7966c78</td>\n",
       "      <td>nyserda+0000109188+ac4-1+AC-4-1_HtgVlvPos</td>\n",
       "      <td>22735</td>\n",
       "      <td>398</td>\n",
       "      <td>109188</td>\n",
       "      <td>AHU</td>\n",
       "      <td>Air Handling Unit</td>\n",
       "      <td>NaN</td>\n",
       "      <td>['ahu', 'hvac']</td>\n",
       "    </tr>\n",
       "    <tr>\n",
       "      <th>44296</th>\n",
       "      <td>231029</td>\n",
       "      <td>398</td>\n",
       "      <td>1.577768e+12</td>\n",
       "      <td>1.554845e+12</td>\n",
       "      <td>NaN</td>\n",
       "      <td>NaN</td>\n",
       "      <td>NaN</td>\n",
       "      <td>AC-9-1_HtgVlvPos</td>\n",
       "      <td>%</td>\n",
       "      <td>NaN</td>\n",
       "      <td>...</td>\n",
       "      <td>7</td>\n",
       "      <td>ae5363107fc48841033b2608dbeddd13</td>\n",
       "      <td>nyserda+0000109188+ac9-1+AC-9-1_HtgVlvPos</td>\n",
       "      <td>22736</td>\n",
       "      <td>398</td>\n",
       "      <td>109188</td>\n",
       "      <td>AHU</td>\n",
       "      <td>Air Handling Unit</td>\n",
       "      <td>NaN</td>\n",
       "      <td>['ahu', 'hvac']</td>\n",
       "    </tr>\n",
       "  </tbody>\n",
       "</table>\n",
       "<p>249 rows × 24 columns</p>\n",
       "</div>"
      ],
      "text/plain": [
       "       id_point  building_id  last_updated  first_updated  device  objectId  \\\n",
       "2769     356292          470  1.635532e+12   1.604203e+12     NaN       NaN   \n",
       "2788     356227          470  1.635530e+12   1.604203e+12     NaN       NaN   \n",
       "2808     356177          470  1.635537e+12   1.604203e+12     NaN       NaN   \n",
       "2846     356200          470  1.635536e+12   1.604203e+12     NaN       NaN   \n",
       "2871     356245          470  1.635533e+12   1.604203e+12     NaN       NaN   \n",
       "...         ...          ...           ...            ...     ...       ...   \n",
       "22278    380154          492  1.641513e+12   1.596465e+12     NaN       NaN   \n",
       "30283    201659          185  1.572494e+12   1.559362e+12     NaN       NaN   \n",
       "44229    230968          398  1.577768e+12   1.554845e+12     NaN       NaN   \n",
       "44262    230999          398  1.577768e+12   1.554845e+12     NaN       NaN   \n",
       "44296    231029          398  1.577768e+12   1.554845e+12     NaN       NaN   \n",
       "\n",
       "                                         name_point        description units  \\\n",
       "2769        AHU-02_Heating Coil Valve Command_A02PV                NaN   NaN   \n",
       "2788        AHU-01_Heating Coil Valve Command_A01PV                NaN   NaN   \n",
       "2808        AHU-17_Heating Coil Valve Command_A17PV                NaN   NaN   \n",
       "2846        AHU-18_Heating Coil Valve Command_A18PV                NaN   NaN   \n",
       "2871        AHU-21_Heating Coil Valve Command_A21PV                NaN   NaN   \n",
       "...                                             ...                ...   ...   \n",
       "22278  ACS 02 Heating Coil Valve Command 1_A02VP1.V                NaN   NaN   \n",
       "30283                                 AC_47B_HtgVlv      AC_47B_HtgVlv     %   \n",
       "44229                                           NaN  AC-25-1_HtgVlvPos     %   \n",
       "44262                                           NaN   AC-4-1_HtgVlvPos     %   \n",
       "44296                                           NaN   AC-9-1_HtgVlvPos     %   \n",
       "\n",
       "      tagged_units  ...  measurement_id                   datasource_hash  \\\n",
       "2769             %  ...               7  6a858fd7b5a57726bb9294f682c8298e   \n",
       "2788             %  ...               7  d2b1eb83c94147cdf989e6441d44b65f   \n",
       "2808             %  ...               7  8766695d64e23720dfdf87ce6d4147d9   \n",
       "2846             %  ...               7  db896bc29faffb7e299e6fc87c65652e   \n",
       "2871             %  ...               7  b95518b0a932bcc487f61c1025dabbee   \n",
       "...            ...  ...             ...                               ...   \n",
       "22278            %  ...               7  f9fdfb84740dfc2cd183bb4e5169386c   \n",
       "30283            %  ...               7  0f3fcf3af5f33d7fac9c6c02f33d2430   \n",
       "44229          NaN  ...               7  1dab3aad8b30be11d46de8c2d8da7855   \n",
       "44262          NaN  ...               7  f063272fa934bc125ce66468a7966c78   \n",
       "44296          NaN  ...               7  ae5363107fc48841033b2608dbeddd13   \n",
       "\n",
       "                                                   topic  equip_id  id_bdg  \\\n",
       "2769   nyserda+0000164423+ahu-2+AHU-02_Heating Coil V...     31252     470   \n",
       "2788   nyserda+0000164423+ahu-1+AHU-01_Heating Coil V...     31253     470   \n",
       "2808   nyserda+0000164423+ahu-17+AHU-17_Heating Coil ...     31254     470   \n",
       "2846   nyserda+0000164423+ahu-18+AHU-18_Heating Coil ...     31255     470   \n",
       "2871   nyserda+0000164423+ahu-21+AHU-21_Heating Coil ...     31256     470   \n",
       "...                                                  ...       ...     ...   \n",
       "22278  nyserda+0000122607+ahu-2+ACS 02 Heating Coil V...     33275     492   \n",
       "30283            nyserda+0000108594+ac-47b+AC_47B_HtgVlv     34967     185   \n",
       "44229        nyserda+0000109188+ac25-1+AC-25-1_HtgVlvPos     22734     398   \n",
       "44262          nyserda+0000109188+ac4-1+AC-4-1_HtgVlvPos     22735     398   \n",
       "44296          nyserda+0000109188+ac9-1+AC-9-1_HtgVlvPos     22736     398   \n",
       "\n",
       "      name_bdg equip_type_abbr    equip_type_name  area_served_desc  \\\n",
       "2769    164423             AHU  Air Handling Unit               NaN   \n",
       "2788    164423             AHU  Air Handling Unit               NaN   \n",
       "2808    164423             AHU  Air Handling Unit               NaN   \n",
       "2846    164423             AHU  Air Handling Unit               NaN   \n",
       "2871    164423             AHU  Air Handling Unit               NaN   \n",
       "...        ...             ...                ...               ...   \n",
       "22278   122607             AHU  Air Handling Unit               NaN   \n",
       "30283   108594             AHU  Air Handling Unit               NaN   \n",
       "44229   109188             AHU  Air Handling Unit               NaN   \n",
       "44262   109188             AHU  Air Handling Unit               NaN   \n",
       "44296   109188             AHU  Air Handling Unit               NaN   \n",
       "\n",
       "                  tags  \n",
       "2769   ['ahu', 'hvac']  \n",
       "2788   ['ahu', 'hvac']  \n",
       "2808   ['ahu', 'hvac']  \n",
       "2846   ['ahu', 'hvac']  \n",
       "2871   ['ahu', 'hvac']  \n",
       "...                ...  \n",
       "22278  ['ahu', 'hvac']  \n",
       "30283  ['ahu', 'hvac']  \n",
       "44229  ['ahu', 'hvac']  \n",
       "44262  ['ahu', 'hvac']  \n",
       "44296  ['ahu', 'hvac']  \n",
       "\n",
       "[249 rows x 24 columns]"
      ]
     },
     "execution_count": 14,
     "metadata": {},
     "output_type": "execute_result"
    }
   ],
   "source": [
    "ahu_hc_data = ahu_data[(ahu_data.type == \"Heating Coil Valve Position\")]\n",
    "ahu_hc_data"
   ]
  },
  {
   "cell_type": "code",
   "execution_count": 15,
   "id": "aabffbdc",
   "metadata": {},
   "outputs": [],
   "source": [
    "shared_ahu_data = pd.merge(ahu_sp_data,ahu_sat_data, on = \"equip_id\")\n",
    "shared_ahu_data = pd.merge(shared_ahu_data,ahu_hc_data, on = \"equip_id\")"
   ]
  },
  {
   "cell_type": "code",
   "execution_count": 16,
   "id": "385dbafe",
   "metadata": {},
   "outputs": [
    {
     "data": {
      "text/html": [
       "<div>\n",
       "<style scoped>\n",
       "    .dataframe tbody tr th:only-of-type {\n",
       "        vertical-align: middle;\n",
       "    }\n",
       "\n",
       "    .dataframe tbody tr th {\n",
       "        vertical-align: top;\n",
       "    }\n",
       "\n",
       "    .dataframe thead th {\n",
       "        text-align: right;\n",
       "    }\n",
       "</style>\n",
       "<table border=\"1\" class=\"dataframe\">\n",
       "  <thead>\n",
       "    <tr style=\"text-align: right;\">\n",
       "      <th></th>\n",
       "      <th>id_point_x</th>\n",
       "      <th>building_id_x</th>\n",
       "      <th>last_updated_x</th>\n",
       "      <th>first_updated_x</th>\n",
       "      <th>device_x</th>\n",
       "      <th>objectId_x</th>\n",
       "      <th>name_point_x</th>\n",
       "      <th>description_x</th>\n",
       "      <th>units_x</th>\n",
       "      <th>tagged_units_x</th>\n",
       "      <th>...</th>\n",
       "      <th>point_type_id</th>\n",
       "      <th>measurement_id</th>\n",
       "      <th>datasource_hash</th>\n",
       "      <th>topic</th>\n",
       "      <th>id_bdg</th>\n",
       "      <th>name_bdg</th>\n",
       "      <th>equip_type_abbr</th>\n",
       "      <th>equip_type_name</th>\n",
       "      <th>area_served_desc</th>\n",
       "      <th>tags</th>\n",
       "    </tr>\n",
       "  </thead>\n",
       "  <tbody>\n",
       "    <tr>\n",
       "      <th>0</th>\n",
       "      <td>356305</td>\n",
       "      <td>470</td>\n",
       "      <td>1.635529e+12</td>\n",
       "      <td>1.604203e+12</td>\n",
       "      <td>NaN</td>\n",
       "      <td>NaN</td>\n",
       "      <td>AHU-02_Supply Air Temperature Setpoint_A02FSP</td>\n",
       "      <td>NaN</td>\n",
       "      <td>NaN</td>\n",
       "      <td>f</td>\n",
       "      <td>...</td>\n",
       "      <td>258</td>\n",
       "      <td>7</td>\n",
       "      <td>6a858fd7b5a57726bb9294f682c8298e</td>\n",
       "      <td>nyserda+0000164423+ahu-2+AHU-02_Heating Coil V...</td>\n",
       "      <td>470</td>\n",
       "      <td>164423</td>\n",
       "      <td>AHU</td>\n",
       "      <td>Air Handling Unit</td>\n",
       "      <td>NaN</td>\n",
       "      <td>['ahu', 'hvac']</td>\n",
       "    </tr>\n",
       "    <tr>\n",
       "      <th>1</th>\n",
       "      <td>356239</td>\n",
       "      <td>470</td>\n",
       "      <td>1.635534e+12</td>\n",
       "      <td>1.604203e+12</td>\n",
       "      <td>NaN</td>\n",
       "      <td>NaN</td>\n",
       "      <td>AHU-01_Supply Air Temperature Setpoint_A01FSP</td>\n",
       "      <td>NaN</td>\n",
       "      <td>NaN</td>\n",
       "      <td>f</td>\n",
       "      <td>...</td>\n",
       "      <td>258</td>\n",
       "      <td>7</td>\n",
       "      <td>d2b1eb83c94147cdf989e6441d44b65f</td>\n",
       "      <td>nyserda+0000164423+ahu-1+AHU-01_Heating Coil V...</td>\n",
       "      <td>470</td>\n",
       "      <td>164423</td>\n",
       "      <td>AHU</td>\n",
       "      <td>Air Handling Unit</td>\n",
       "      <td>NaN</td>\n",
       "      <td>['ahu', 'hvac']</td>\n",
       "    </tr>\n",
       "    <tr>\n",
       "      <th>2</th>\n",
       "      <td>356194</td>\n",
       "      <td>470</td>\n",
       "      <td>1.635532e+12</td>\n",
       "      <td>1.604203e+12</td>\n",
       "      <td>NaN</td>\n",
       "      <td>NaN</td>\n",
       "      <td>AHU-17_Supply Air Temperature Setpoint_A17FSP</td>\n",
       "      <td>NaN</td>\n",
       "      <td>NaN</td>\n",
       "      <td>f</td>\n",
       "      <td>...</td>\n",
       "      <td>258</td>\n",
       "      <td>7</td>\n",
       "      <td>8766695d64e23720dfdf87ce6d4147d9</td>\n",
       "      <td>nyserda+0000164423+ahu-17+AHU-17_Heating Coil ...</td>\n",
       "      <td>470</td>\n",
       "      <td>164423</td>\n",
       "      <td>AHU</td>\n",
       "      <td>Air Handling Unit</td>\n",
       "      <td>NaN</td>\n",
       "      <td>['ahu', 'hvac']</td>\n",
       "    </tr>\n",
       "    <tr>\n",
       "      <th>3</th>\n",
       "      <td>356201</td>\n",
       "      <td>470</td>\n",
       "      <td>1.635539e+12</td>\n",
       "      <td>1.604203e+12</td>\n",
       "      <td>NaN</td>\n",
       "      <td>NaN</td>\n",
       "      <td>AHU-18_High Supply Air Temperature Setpoint_A1...</td>\n",
       "      <td>NaN</td>\n",
       "      <td>NaN</td>\n",
       "      <td>f</td>\n",
       "      <td>...</td>\n",
       "      <td>258</td>\n",
       "      <td>7</td>\n",
       "      <td>db896bc29faffb7e299e6fc87c65652e</td>\n",
       "      <td>nyserda+0000164423+ahu-18+AHU-18_Heating Coil ...</td>\n",
       "      <td>470</td>\n",
       "      <td>164423</td>\n",
       "      <td>AHU</td>\n",
       "      <td>Air Handling Unit</td>\n",
       "      <td>NaN</td>\n",
       "      <td>['ahu', 'hvac']</td>\n",
       "    </tr>\n",
       "    <tr>\n",
       "      <th>4</th>\n",
       "      <td>356220</td>\n",
       "      <td>470</td>\n",
       "      <td>1.635540e+12</td>\n",
       "      <td>1.604203e+12</td>\n",
       "      <td>NaN</td>\n",
       "      <td>NaN</td>\n",
       "      <td>AHU-18_Supply Air Temperature Setpoint_A18FSP</td>\n",
       "      <td>NaN</td>\n",
       "      <td>NaN</td>\n",
       "      <td>f</td>\n",
       "      <td>...</td>\n",
       "      <td>258</td>\n",
       "      <td>7</td>\n",
       "      <td>db896bc29faffb7e299e6fc87c65652e</td>\n",
       "      <td>nyserda+0000164423+ahu-18+AHU-18_Heating Coil ...</td>\n",
       "      <td>470</td>\n",
       "      <td>164423</td>\n",
       "      <td>AHU</td>\n",
       "      <td>Air Handling Unit</td>\n",
       "      <td>NaN</td>\n",
       "      <td>['ahu', 'hvac']</td>\n",
       "    </tr>\n",
       "    <tr>\n",
       "      <th>...</th>\n",
       "      <td>...</td>\n",
       "      <td>...</td>\n",
       "      <td>...</td>\n",
       "      <td>...</td>\n",
       "      <td>...</td>\n",
       "      <td>...</td>\n",
       "      <td>...</td>\n",
       "      <td>...</td>\n",
       "      <td>...</td>\n",
       "      <td>...</td>\n",
       "      <td>...</td>\n",
       "      <td>...</td>\n",
       "      <td>...</td>\n",
       "      <td>...</td>\n",
       "      <td>...</td>\n",
       "      <td>...</td>\n",
       "      <td>...</td>\n",
       "      <td>...</td>\n",
       "      <td>...</td>\n",
       "      <td>...</td>\n",
       "      <td>...</td>\n",
       "    </tr>\n",
       "    <tr>\n",
       "      <th>214</th>\n",
       "      <td>231019</td>\n",
       "      <td>398</td>\n",
       "      <td>1.577768e+12</td>\n",
       "      <td>1.554845e+12</td>\n",
       "      <td>NaN</td>\n",
       "      <td>NaN</td>\n",
       "      <td>NaN</td>\n",
       "      <td>AC-4-1_SaTmpRstSptHiLmt</td>\n",
       "      <td>F</td>\n",
       "      <td>NaN</td>\n",
       "      <td>...</td>\n",
       "      <td>258</td>\n",
       "      <td>7</td>\n",
       "      <td>f063272fa934bc125ce66468a7966c78</td>\n",
       "      <td>nyserda+0000109188+ac4-1+AC-4-1_HtgVlvPos</td>\n",
       "      <td>398</td>\n",
       "      <td>109188</td>\n",
       "      <td>AHU</td>\n",
       "      <td>Air Handling Unit</td>\n",
       "      <td>NaN</td>\n",
       "      <td>['ahu', 'hvac']</td>\n",
       "    </tr>\n",
       "    <tr>\n",
       "      <th>215</th>\n",
       "      <td>231020</td>\n",
       "      <td>398</td>\n",
       "      <td>1.577768e+12</td>\n",
       "      <td>1.554845e+12</td>\n",
       "      <td>NaN</td>\n",
       "      <td>NaN</td>\n",
       "      <td>NaN</td>\n",
       "      <td>AC-4-1_SaTmpRstSptLoLmt</td>\n",
       "      <td>F</td>\n",
       "      <td>NaN</td>\n",
       "      <td>...</td>\n",
       "      <td>258</td>\n",
       "      <td>7</td>\n",
       "      <td>f063272fa934bc125ce66468a7966c78</td>\n",
       "      <td>nyserda+0000109188+ac4-1+AC-4-1_HtgVlvPos</td>\n",
       "      <td>398</td>\n",
       "      <td>109188</td>\n",
       "      <td>AHU</td>\n",
       "      <td>Air Handling Unit</td>\n",
       "      <td>NaN</td>\n",
       "      <td>['ahu', 'hvac']</td>\n",
       "    </tr>\n",
       "    <tr>\n",
       "      <th>216</th>\n",
       "      <td>231052</td>\n",
       "      <td>398</td>\n",
       "      <td>1.577768e+12</td>\n",
       "      <td>1.554845e+12</td>\n",
       "      <td>NaN</td>\n",
       "      <td>NaN</td>\n",
       "      <td>NaN</td>\n",
       "      <td>AC-9-1_SaTmpSpt</td>\n",
       "      <td>F</td>\n",
       "      <td>NaN</td>\n",
       "      <td>...</td>\n",
       "      <td>258</td>\n",
       "      <td>7</td>\n",
       "      <td>ae5363107fc48841033b2608dbeddd13</td>\n",
       "      <td>nyserda+0000109188+ac9-1+AC-9-1_HtgVlvPos</td>\n",
       "      <td>398</td>\n",
       "      <td>109188</td>\n",
       "      <td>AHU</td>\n",
       "      <td>Air Handling Unit</td>\n",
       "      <td>NaN</td>\n",
       "      <td>['ahu', 'hvac']</td>\n",
       "    </tr>\n",
       "    <tr>\n",
       "      <th>217</th>\n",
       "      <td>231051</td>\n",
       "      <td>398</td>\n",
       "      <td>1.577768e+12</td>\n",
       "      <td>1.554845e+12</td>\n",
       "      <td>NaN</td>\n",
       "      <td>NaN</td>\n",
       "      <td>NaN</td>\n",
       "      <td>AC-9-1_SaTmpRstSptLoLmt</td>\n",
       "      <td>F</td>\n",
       "      <td>NaN</td>\n",
       "      <td>...</td>\n",
       "      <td>258</td>\n",
       "      <td>7</td>\n",
       "      <td>ae5363107fc48841033b2608dbeddd13</td>\n",
       "      <td>nyserda+0000109188+ac9-1+AC-9-1_HtgVlvPos</td>\n",
       "      <td>398</td>\n",
       "      <td>109188</td>\n",
       "      <td>AHU</td>\n",
       "      <td>Air Handling Unit</td>\n",
       "      <td>NaN</td>\n",
       "      <td>['ahu', 'hvac']</td>\n",
       "    </tr>\n",
       "    <tr>\n",
       "      <th>218</th>\n",
       "      <td>231050</td>\n",
       "      <td>398</td>\n",
       "      <td>1.577768e+12</td>\n",
       "      <td>1.554845e+12</td>\n",
       "      <td>NaN</td>\n",
       "      <td>NaN</td>\n",
       "      <td>NaN</td>\n",
       "      <td>AC-9-1_SaTmpRstSptHiLmt</td>\n",
       "      <td>F</td>\n",
       "      <td>NaN</td>\n",
       "      <td>...</td>\n",
       "      <td>258</td>\n",
       "      <td>7</td>\n",
       "      <td>ae5363107fc48841033b2608dbeddd13</td>\n",
       "      <td>nyserda+0000109188+ac9-1+AC-9-1_HtgVlvPos</td>\n",
       "      <td>398</td>\n",
       "      <td>109188</td>\n",
       "      <td>AHU</td>\n",
       "      <td>Air Handling Unit</td>\n",
       "      <td>NaN</td>\n",
       "      <td>['ahu', 'hvac']</td>\n",
       "    </tr>\n",
       "  </tbody>\n",
       "</table>\n",
       "<p>219 rows × 70 columns</p>\n",
       "</div>"
      ],
      "text/plain": [
       "     id_point_x  building_id_x  last_updated_x  first_updated_x  device_x  \\\n",
       "0        356305            470    1.635529e+12     1.604203e+12       NaN   \n",
       "1        356239            470    1.635534e+12     1.604203e+12       NaN   \n",
       "2        356194            470    1.635532e+12     1.604203e+12       NaN   \n",
       "3        356201            470    1.635539e+12     1.604203e+12       NaN   \n",
       "4        356220            470    1.635540e+12     1.604203e+12       NaN   \n",
       "..          ...            ...             ...              ...       ...   \n",
       "214      231019            398    1.577768e+12     1.554845e+12       NaN   \n",
       "215      231020            398    1.577768e+12     1.554845e+12       NaN   \n",
       "216      231052            398    1.577768e+12     1.554845e+12       NaN   \n",
       "217      231051            398    1.577768e+12     1.554845e+12       NaN   \n",
       "218      231050            398    1.577768e+12     1.554845e+12       NaN   \n",
       "\n",
       "     objectId_x                                       name_point_x  \\\n",
       "0           NaN      AHU-02_Supply Air Temperature Setpoint_A02FSP   \n",
       "1           NaN      AHU-01_Supply Air Temperature Setpoint_A01FSP   \n",
       "2           NaN      AHU-17_Supply Air Temperature Setpoint_A17FSP   \n",
       "3           NaN  AHU-18_High Supply Air Temperature Setpoint_A1...   \n",
       "4           NaN      AHU-18_Supply Air Temperature Setpoint_A18FSP   \n",
       "..          ...                                                ...   \n",
       "214         NaN                                                NaN   \n",
       "215         NaN                                                NaN   \n",
       "216         NaN                                                NaN   \n",
       "217         NaN                                                NaN   \n",
       "218         NaN                                                NaN   \n",
       "\n",
       "               description_x units_x tagged_units_x  ...  point_type_id  \\\n",
       "0                        NaN     NaN              f  ...            258   \n",
       "1                        NaN     NaN              f  ...            258   \n",
       "2                        NaN     NaN              f  ...            258   \n",
       "3                        NaN     NaN              f  ...            258   \n",
       "4                        NaN     NaN              f  ...            258   \n",
       "..                       ...     ...            ...  ...            ...   \n",
       "214  AC-4-1_SaTmpRstSptHiLmt       F            NaN  ...            258   \n",
       "215  AC-4-1_SaTmpRstSptLoLmt       F            NaN  ...            258   \n",
       "216          AC-9-1_SaTmpSpt       F            NaN  ...            258   \n",
       "217  AC-9-1_SaTmpRstSptLoLmt       F            NaN  ...            258   \n",
       "218  AC-9-1_SaTmpRstSptHiLmt       F            NaN  ...            258   \n",
       "\n",
       "    measurement_id                   datasource_hash  \\\n",
       "0                7  6a858fd7b5a57726bb9294f682c8298e   \n",
       "1                7  d2b1eb83c94147cdf989e6441d44b65f   \n",
       "2                7  8766695d64e23720dfdf87ce6d4147d9   \n",
       "3                7  db896bc29faffb7e299e6fc87c65652e   \n",
       "4                7  db896bc29faffb7e299e6fc87c65652e   \n",
       "..             ...                               ...   \n",
       "214              7  f063272fa934bc125ce66468a7966c78   \n",
       "215              7  f063272fa934bc125ce66468a7966c78   \n",
       "216              7  ae5363107fc48841033b2608dbeddd13   \n",
       "217              7  ae5363107fc48841033b2608dbeddd13   \n",
       "218              7  ae5363107fc48841033b2608dbeddd13   \n",
       "\n",
       "                                                 topic  id_bdg name_bdg  \\\n",
       "0    nyserda+0000164423+ahu-2+AHU-02_Heating Coil V...     470   164423   \n",
       "1    nyserda+0000164423+ahu-1+AHU-01_Heating Coil V...     470   164423   \n",
       "2    nyserda+0000164423+ahu-17+AHU-17_Heating Coil ...     470   164423   \n",
       "3    nyserda+0000164423+ahu-18+AHU-18_Heating Coil ...     470   164423   \n",
       "4    nyserda+0000164423+ahu-18+AHU-18_Heating Coil ...     470   164423   \n",
       "..                                                 ...     ...      ...   \n",
       "214          nyserda+0000109188+ac4-1+AC-4-1_HtgVlvPos     398   109188   \n",
       "215          nyserda+0000109188+ac4-1+AC-4-1_HtgVlvPos     398   109188   \n",
       "216          nyserda+0000109188+ac9-1+AC-9-1_HtgVlvPos     398   109188   \n",
       "217          nyserda+0000109188+ac9-1+AC-9-1_HtgVlvPos     398   109188   \n",
       "218          nyserda+0000109188+ac9-1+AC-9-1_HtgVlvPos     398   109188   \n",
       "\n",
       "    equip_type_abbr    equip_type_name  area_served_desc             tags  \n",
       "0               AHU  Air Handling Unit               NaN  ['ahu', 'hvac']  \n",
       "1               AHU  Air Handling Unit               NaN  ['ahu', 'hvac']  \n",
       "2               AHU  Air Handling Unit               NaN  ['ahu', 'hvac']  \n",
       "3               AHU  Air Handling Unit               NaN  ['ahu', 'hvac']  \n",
       "4               AHU  Air Handling Unit               NaN  ['ahu', 'hvac']  \n",
       "..              ...                ...               ...              ...  \n",
       "214             AHU  Air Handling Unit               NaN  ['ahu', 'hvac']  \n",
       "215             AHU  Air Handling Unit               NaN  ['ahu', 'hvac']  \n",
       "216             AHU  Air Handling Unit               NaN  ['ahu', 'hvac']  \n",
       "217             AHU  Air Handling Unit               NaN  ['ahu', 'hvac']  \n",
       "218             AHU  Air Handling Unit               NaN  ['ahu', 'hvac']  \n",
       "\n",
       "[219 rows x 70 columns]"
      ]
     },
     "execution_count": 16,
     "metadata": {},
     "output_type": "execute_result"
    }
   ],
   "source": [
    "shared_ahu_data"
   ]
  },
  {
   "cell_type": "code",
   "execution_count": 17,
   "id": "90361fa1",
   "metadata": {},
   "outputs": [],
   "source": [
    "shared_ahu_data.to_csv(\"./shared_sat_sp_hc_data.csv\")"
   ]
  },
  {
   "cell_type": "markdown",
   "id": "13fc5e9d",
   "metadata": {
    "papermill": {
     "duration": 0.087721,
     "end_time": "2022-05-13T16:22:29.421858",
     "exception": false,
     "start_time": "2022-05-13T16:22:29.334137",
     "status": "completed"
    },
    "tags": []
   },
   "source": [
    "# Querying time-series: Boiler Heating Hot Water Supply Temp"
   ]
  },
  {
   "cell_type": "markdown",
   "id": "c11b9410",
   "metadata": {
    "papermill": {
     "duration": 0.08799,
     "end_time": "2022-05-13T16:22:29.599446",
     "exception": false,
     "start_time": "2022-05-13T16:22:29.511456",
     "status": "completed"
    },
    "tags": []
   },
   "source": [
    "Now that we have our metadata filtered it's time to get the time-series of those points. Let's import the libraries we will be using:"
   ]
  },
  {
   "cell_type": "code",
   "execution_count": 18,
   "id": "c1d39205",
   "metadata": {
    "execution": {
     "iopub.execute_input": "2022-05-13T16:22:29.784517Z",
     "iopub.status.busy": "2022-05-13T16:22:29.783430Z",
     "iopub.status.idle": "2022-05-13T16:22:29.788331Z",
     "shell.execute_reply": "2022-05-13T16:22:29.788835Z",
     "shell.execute_reply.started": "2022-05-04T01:32:27.810457Z"
    },
    "papermill": {
     "duration": 0.096793,
     "end_time": "2022-05-13T16:22:29.789024",
     "exception": false,
     "start_time": "2022-05-13T16:22:29.692231",
     "status": "completed"
    },
    "tags": []
   },
   "outputs": [],
   "source": [
    "from datetime import datetime, timezone, timedelta\n",
    "import pytz\n",
    "from onboard.client.models import TimeseriesQuery, PointData\n",
    "from onboard.client.dataframes import points_df_from_streaming_timeseries"
   ]
  },
  {
   "cell_type": "markdown",
   "id": "30e0da54",
   "metadata": {
    "papermill": {
     "duration": 0.08761,
     "end_time": "2022-05-13T16:22:29.967108",
     "exception": false,
     "start_time": "2022-05-13T16:22:29.879498",
     "status": "completed"
    },
    "tags": []
   },
   "source": [
    "First, create a list with the points to query. We already filtered our dataset, so it's all the points there:"
   ]
  },
  {
   "cell_type": "code",
   "execution_count": 19,
   "id": "29eeef7e",
   "metadata": {
    "execution": {
     "iopub.execute_input": "2022-05-13T16:22:30.148855Z",
     "iopub.status.busy": "2022-05-13T16:22:30.147823Z",
     "iopub.status.idle": "2022-05-13T16:22:30.152485Z",
     "shell.execute_reply": "2022-05-13T16:22:30.153072Z",
     "shell.execute_reply.started": "2022-05-04T01:32:42.550368Z"
    },
    "papermill": {
     "duration": 0.096957,
     "end_time": "2022-05-13T16:22:30.153249",
     "exception": false,
     "start_time": "2022-05-13T16:22:30.056292",
     "status": "completed"
    },
    "tags": []
   },
   "outputs": [],
   "source": [
    "ahu_sp_points = list(ahu_sp_data.id_point)\n",
    "ahu_sat_points = list(ahu_sat_data.id_point)\n",
    "ahu_hc_points = list(ahu_hc_data.id_point)"
   ]
  },
  {
   "cell_type": "code",
   "execution_count": 20,
   "id": "2e6fb1ad",
   "metadata": {},
   "outputs": [
    {
     "data": {
      "text/plain": [
       "[198161,\n",
       " 198199,\n",
       " 198249,\n",
       " 198287,\n",
       " 210916,\n",
       " 210938,\n",
       " 210961,\n",
       " 267585,\n",
       " 356171,\n",
       " 356151,\n",
       " 356168,\n",
       " 356305,\n",
       " 356239,\n",
       " 356194,\n",
       " 356201,\n",
       " 356220,\n",
       " 356261,\n",
       " 356246,\n",
       " 356270,\n",
       " 356285,\n",
       " 356325,\n",
       " 356349,\n",
       " 356334,\n",
       " 356357,\n",
       " 356372,\n",
       " 356395,\n",
       " 356380,\n",
       " 356402,\n",
       " 356417,\n",
       " 344004,\n",
       " 266685,\n",
       " 266704,\n",
       " 266723,\n",
       " 266748,\n",
       " 266784,\n",
       " 266787,\n",
       " 266818,\n",
       " 266848,\n",
       " 266878,\n",
       " 266894,\n",
       " 266930,\n",
       " 266958,\n",
       " 357608,\n",
       " 357626,\n",
       " 357619,\n",
       " 357637,\n",
       " 357647,\n",
       " 357657,\n",
       " 358190,\n",
       " 358228,\n",
       " 358208,\n",
       " 358247,\n",
       " 358267,\n",
       " 358287,\n",
       " 320503,\n",
       " 320502,\n",
       " 320535,\n",
       " 320544,\n",
       " 308010,\n",
       " 307609,\n",
       " 307622,\n",
       " 307635,\n",
       " 307655,\n",
       " 307674,\n",
       " 307693,\n",
       " 307710,\n",
       " 307716,\n",
       " 307733,\n",
       " 307748,\n",
       " 307753,\n",
       " 307822,\n",
       " 307774,\n",
       " 307790,\n",
       " 307796,\n",
       " 307801,\n",
       " 307844,\n",
       " 307867,\n",
       " 307889,\n",
       " 307905,\n",
       " 307925,\n",
       " 307941,\n",
       " 307957,\n",
       " 307972,\n",
       " 307990,\n",
       " 307996,\n",
       " 308001,\n",
       " 308005,\n",
       " 308016,\n",
       " 308032,\n",
       " 308047,\n",
       " 308061,\n",
       " 308079,\n",
       " 308174,\n",
       " 308155,\n",
       " 308096,\n",
       " 308114,\n",
       " 308131,\n",
       " 308137,\n",
       " 308192,\n",
       " 308211,\n",
       " 308218,\n",
       " 308228,\n",
       " 308260,\n",
       " 308244,\n",
       " 308277,\n",
       " 308284,\n",
       " 308302,\n",
       " 308317,\n",
       " 308340,\n",
       " 308327,\n",
       " 308351,\n",
       " 308372,\n",
       " 308362,\n",
       " 308383,\n",
       " 308394,\n",
       " 308405,\n",
       " 308418,\n",
       " 308430,\n",
       " 308441,\n",
       " 358559,\n",
       " 358574,\n",
       " 358600,\n",
       " 358546,\n",
       " 358626,\n",
       " 358652,\n",
       " 358678,\n",
       " 358697,\n",
       " 358706,\n",
       " 358728,\n",
       " 358751,\n",
       " 358768,\n",
       " 357712,\n",
       " 357724,\n",
       " 357741,\n",
       " 357760,\n",
       " 357777,\n",
       " 357788,\n",
       " 379489,\n",
       " 379500,\n",
       " 379513,\n",
       " 379530,\n",
       " 379554,\n",
       " 379580,\n",
       " 379605,\n",
       " 379626,\n",
       " 379634,\n",
       " 379656,\n",
       " 379679,\n",
       " 379696,\n",
       " 379225,\n",
       " 379251,\n",
       " 379280,\n",
       " 379298,\n",
       " 379325,\n",
       " 378950,\n",
       " 378975,\n",
       " 379000,\n",
       " 379023,\n",
       " 378922,\n",
       " 379048,\n",
       " 379073,\n",
       " 379098,\n",
       " 379123,\n",
       " 379148,\n",
       " 379173,\n",
       " 379199,\n",
       " 358890,\n",
       " 358815,\n",
       " 358831,\n",
       " 358846,\n",
       " 358862,\n",
       " 358878,\n",
       " 358911,\n",
       " 358923,\n",
       " 358935,\n",
       " 358946,\n",
       " 358966,\n",
       " 358979,\n",
       " 358995,\n",
       " 357846,\n",
       " 357886,\n",
       " 357913,\n",
       " 357953,\n",
       " 357966,\n",
       " 197474,\n",
       " 197502,\n",
       " 380316,\n",
       " 380328,\n",
       " 267892,\n",
       " 267986,\n",
       " 268086,\n",
       " 268188,\n",
       " 268272,\n",
       " 358021,\n",
       " 358044,\n",
       " 358068,\n",
       " 358091,\n",
       " 358113,\n",
       " 357333,\n",
       " 357358,\n",
       " 357390,\n",
       " 357407,\n",
       " 357434,\n",
       " 357460,\n",
       " 357476,\n",
       " 357503,\n",
       " 357502,\n",
       " 357528,\n",
       " 357527,\n",
       " 357540,\n",
       " 359114,\n",
       " 359146,\n",
       " 359179,\n",
       " 191342,\n",
       " 191379,\n",
       " 192565,\n",
       " 380135,\n",
       " 380147,\n",
       " 380164,\n",
       " 380183,\n",
       " 380193,\n",
       " 380198,\n",
       " 380205,\n",
       " 380214,\n",
       " 380223,\n",
       " 196696,\n",
       " 196712,\n",
       " 196726,\n",
       " 196745,\n",
       " 196759,\n",
       " 344744,\n",
       " 344517,\n",
       " 344555,\n",
       " 344784,\n",
       " 344824,\n",
       " 197882,\n",
       " 197899,\n",
       " 197916,\n",
       " 197934,\n",
       " 197952,\n",
       " 199365,\n",
       " 199393,\n",
       " 199449,\n",
       " 199474,\n",
       " 199498,\n",
       " 201171,\n",
       " 201182,\n",
       " 414583,\n",
       " 201640,\n",
       " 201678,\n",
       " 203885,\n",
       " 203927,\n",
       " 203972,\n",
       " 204018,\n",
       " 204122,\n",
       " 208998,\n",
       " 209029,\n",
       " 209059,\n",
       " 209089,\n",
       " 209119,\n",
       " 209150,\n",
       " 209176,\n",
       " 209202,\n",
       " 212906,\n",
       " 212931,\n",
       " 212957,\n",
       " 212985,\n",
       " 212999,\n",
       " 213013,\n",
       " 213027,\n",
       " 213049,\n",
       " 213074,\n",
       " 213099,\n",
       " 213124,\n",
       " 214130,\n",
       " 214171,\n",
       " 214212,\n",
       " 215721,\n",
       " 215734,\n",
       " 215747,\n",
       " 215759,\n",
       " 215769,\n",
       " 215781,\n",
       " 414693,\n",
       " 216824,\n",
       " 216842,\n",
       " 414665,\n",
       " 414675,\n",
       " 414712,\n",
       " 414720,\n",
       " 216894,\n",
       " 219380,\n",
       " 219406,\n",
       " 219432,\n",
       " 219541,\n",
       " 222166,\n",
       " 222190,\n",
       " 222214,\n",
       " 222241,\n",
       " 222267,\n",
       " 222293,\n",
       " 222317,\n",
       " 222344,\n",
       " 222368,\n",
       " 222395,\n",
       " 222410,\n",
       " 222435,\n",
       " 222453,\n",
       " 222474,\n",
       " 222504,\n",
       " 222515,\n",
       " 222545,\n",
       " 222560,\n",
       " 222577,\n",
       " 222598,\n",
       " 222615,\n",
       " 222637,\n",
       " 222654,\n",
       " 222675,\n",
       " 222696,\n",
       " 222717,\n",
       " 222738,\n",
       " 223329,\n",
       " 223341,\n",
       " 223370,\n",
       " 230572,\n",
       " 230626,\n",
       " 230678,\n",
       " 229823,\n",
       " 229878,\n",
       " 230102,\n",
       " 228176,\n",
       " 228124,\n",
       " 230950,\n",
       " 230951,\n",
       " 230952,\n",
       " 230991,\n",
       " 230990,\n",
       " 230989,\n",
       " 231021,\n",
       " 231019,\n",
       " 231020,\n",
       " 231052,\n",
       " 231051,\n",
       " 231050,\n",
       " 231062,\n",
       " 231072,\n",
       " 231105,\n",
       " 231113]"
      ]
     },
     "execution_count": 20,
     "metadata": {},
     "output_type": "execute_result"
    }
   ],
   "source": [
    "ahu_sp_points"
   ]
  },
  {
   "cell_type": "markdown",
   "id": "848e94f6",
   "metadata": {
    "papermill": {
     "duration": 0.088116,
     "end_time": "2022-05-13T16:22:30.330071",
     "exception": false,
     "start_time": "2022-05-13T16:22:30.241955",
     "status": "completed"
    },
    "tags": []
   },
   "source": [
    "Let's inspect the datetime period we are working with; we have to convert the `first_updated` and `last_updated` from unix timestamp to a datetime (like we learned in a previous notebook)."
   ]
  },
  {
   "cell_type": "code",
   "execution_count": 21,
   "id": "84ec415d",
   "metadata": {
    "execution": {
     "iopub.execute_input": "2022-05-13T16:22:30.510209Z",
     "iopub.status.busy": "2022-05-13T16:22:30.509144Z",
     "iopub.status.idle": "2022-05-13T16:22:30.518609Z",
     "shell.execute_reply": "2022-05-13T16:22:30.517950Z",
     "shell.execute_reply.started": "2022-05-04T01:32:48.752452Z"
    },
    "papermill": {
     "duration": 0.100533,
     "end_time": "2022-05-13T16:22:30.518747",
     "exception": false,
     "start_time": "2022-05-13T16:22:30.418214",
     "status": "completed"
    },
    "tags": []
   },
   "outputs": [
    {
     "name": "stdout",
     "output_type": "stream",
     "text": [
      "2017-08-01 04:00:00+00:00\n",
      "2018-06-05 03:45:00+00:00\n"
     ]
    }
   ],
   "source": [
    "print(ahu_sp_data.first_updated.apply(lambda x: datetime.fromtimestamp(x/1000, timezone.utc)).min())\n",
    "print(ahu_sp_data.last_updated.apply(lambda x: datetime.fromtimestamp(x/1000, timezone.utc)).min())"
   ]
  },
  {
   "cell_type": "code",
   "execution_count": 22,
   "id": "78eda676",
   "metadata": {},
   "outputs": [
    {
     "name": "stdout",
     "output_type": "stream",
     "text": [
      "2017-03-23 19:00:00+00:00\n",
      "2017-05-02 03:00:00+00:00\n"
     ]
    }
   ],
   "source": [
    "print(ahu_sat_data.first_updated.apply(lambda x: datetime.fromtimestamp(x/1000, timezone.utc)).min())\n",
    "print(ahu_sat_data.last_updated.apply(lambda x: datetime.fromtimestamp(x/1000, timezone.utc)).min())"
   ]
  },
  {
   "cell_type": "code",
   "execution_count": 23,
   "id": "90941010",
   "metadata": {},
   "outputs": [
    {
     "name": "stdout",
     "output_type": "stream",
     "text": [
      "2018-10-16 04:00:00+00:00\n",
      "2019-05-15 03:55:00+00:00\n"
     ]
    }
   ],
   "source": [
    "print(ahu_hc_data.first_updated.apply(lambda x: datetime.fromtimestamp(x/1000, timezone.utc)).min())\n",
    "print(ahu_hc_data.last_updated.apply(lambda x: datetime.fromtimestamp(x/1000, timezone.utc)).min())"
   ]
  },
  {
   "cell_type": "markdown",
   "id": "4a0126d3",
   "metadata": {
    "papermill": {
     "duration": 0.091199,
     "end_time": "2022-05-13T16:22:30.891162",
     "exception": false,
     "start_time": "2022-05-13T16:22:30.799963",
     "status": "completed"
    },
    "tags": []
   },
   "source": [
    "Ok, 2017-2018. Let's select a year of data; we are using the [python library datetime](https://docs.python.org/3/library/datetime.html) to create datetime objects. Remember that all the data from the API is in UTC, you have to localize all your datetimes using [PyTZ](https://pythonhosted.org/pytz/) a library designed for that purpose."
   ]
  },
  {
   "cell_type": "code",
   "execution_count": 24,
   "id": "f1f51f27",
   "metadata": {
    "execution": {
     "iopub.execute_input": "2022-05-13T16:22:31.076544Z",
     "iopub.status.busy": "2022-05-13T16:22:31.075775Z",
     "iopub.status.idle": "2022-05-13T16:22:31.082643Z",
     "shell.execute_reply": "2022-05-13T16:22:31.083636Z",
     "shell.execute_reply.started": "2022-05-04T01:33:22.341521Z"
    },
    "papermill": {
     "duration": 0.102717,
     "end_time": "2022-05-13T16:22:31.083985",
     "exception": false,
     "start_time": "2022-05-13T16:22:30.981268",
     "status": "completed"
    },
    "tags": []
   },
   "outputs": [
    {
     "name": "stdout",
     "output_type": "stream",
     "text": [
      "from 2018-12-01 00:00:00+00:00 to 2019-03-01 00:00:00+00:00\n"
     ]
    }
   ],
   "source": [
    "# Select your timezone\n",
    "tz = pytz.timezone('UTC')\n",
    "\n",
    "# Select your date and time (time is optional)\n",
    "start = datetime(2018,12,1,0,0,0).replace(tzinfo=tz)\n",
    "end = datetime(2019,3,1,0,0,0).replace(tzinfo=tz)\n",
    "\n",
    "print(f\"from {start} to {end}\")"
   ]
  },
  {
   "cell_type": "markdown",
   "id": "c90c97e0",
   "metadata": {
    "papermill": {
     "duration": 0.089405,
     "end_time": "2022-05-13T16:22:31.265656",
     "exception": false,
     "start_time": "2022-05-13T16:22:31.176251",
     "status": "completed"
    },
    "tags": []
   },
   "source": [
    "And create the query with all the parameters. Here we are saying \"give me the readings fron 20 january 2017 to 20 january 2018 of the points in `points`\":"
   ]
  },
  {
   "cell_type": "markdown",
   "id": "250a3215",
   "metadata": {
    "papermill": {
     "duration": 0.08897,
     "end_time": "2022-05-13T16:22:31.634531",
     "exception": false,
     "start_time": "2022-05-13T16:22:31.545561",
     "status": "completed"
    },
    "tags": []
   },
   "source": [
    "Time to get the data!"
   ]
  },
  {
   "cell_type": "code",
   "execution_count": 25,
   "id": "83f936a6",
   "metadata": {
    "execution": {
     "iopub.execute_input": "2022-05-13T16:22:31.449380Z",
     "iopub.status.busy": "2022-05-13T16:22:31.448551Z",
     "iopub.status.idle": "2022-05-13T16:22:31.453317Z",
     "shell.execute_reply": "2022-05-13T16:22:31.453879Z",
     "shell.execute_reply.started": "2022-05-04T01:33:43.379341Z"
    },
    "papermill": {
     "duration": 0.09829,
     "end_time": "2022-05-13T16:22:31.454060",
     "exception": false,
     "start_time": "2022-05-13T16:22:31.355770",
     "status": "completed"
    },
    "tags": []
   },
   "outputs": [],
   "source": [
    "i = 29\n",
    "sp_point = shared_ahu_data['id_point_x'][i]\n",
    "sat_point = shared_ahu_data['id_point_y'][i]\n",
    "hc_point = shared_ahu_data['id_point'][i]\n",
    "\n",
    "timeseries_query_sp = TimeseriesQuery(point_ids = [sp_point], start = start, end = end)\n",
    "timeseries_query_sat = TimeseriesQuery(point_ids = [sat_point], start = start, end = end)\n",
    "timeseries_query_hc = TimeseriesQuery(point_ids = [hc_point], start = start, end = end)"
   ]
  },
  {
   "cell_type": "code",
   "execution_count": null,
   "id": "a6ec8ef0",
   "metadata": {
    "execution": {
     "iopub.execute_input": "2022-05-13T16:22:31.817208Z",
     "iopub.status.busy": "2022-05-13T16:22:31.816312Z",
     "iopub.status.idle": "2022-05-13T16:22:50.173935Z",
     "shell.execute_reply": "2022-05-13T16:22:50.174465Z",
     "shell.execute_reply.started": "2022-05-04T01:33:46.696507Z"
    },
    "papermill": {
     "duration": 18.44967,
     "end_time": "2022-05-13T16:22:50.174664",
     "exception": false,
     "start_time": "2022-05-13T16:22:31.724994",
     "status": "completed"
    },
    "tags": []
   },
   "outputs": [],
   "source": [
    "# Exceute query (will return and object)\n",
    "query_results_sp = client.stream_point_timeseries(timeseries_query_sp)\n",
    "query_results_sat = client.stream_point_timeseries(timeseries_query_sat)\n",
    "query_results_hc = client.stream_point_timeseries(timeseries_query_hc)\n",
    "\n",
    "# Convert to dataframe\n",
    "data_sp = points_df_from_streaming_timeseries(query_results_sp)\n",
    "data_sat = points_df_from_streaming_timeseries(query_results_sat)\n",
    "data_hc = points_df_from_streaming_timeseries(query_results_hc)"
   ]
  },
  {
   "cell_type": "code",
   "execution_count": null,
   "id": "1063d6b3",
   "metadata": {},
   "outputs": [],
   "source": [
    "data_sp"
   ]
  },
  {
   "cell_type": "code",
   "execution_count": null,
   "id": "cb937e86",
   "metadata": {},
   "outputs": [],
   "source": [
    "data_sat"
   ]
  },
  {
   "cell_type": "code",
   "execution_count": null,
   "id": "a35dffb2",
   "metadata": {},
   "outputs": [],
   "source": [
    "data_hc"
   ]
  },
  {
   "cell_type": "code",
   "execution_count": null,
   "id": "ea9c5c17",
   "metadata": {},
   "outputs": [],
   "source": [
    "shared_ahu_equip = pd.merge(data_sp,data_sat, on = \"timestamp\")\n",
    "shared_ahu_equip = pd.merge(shared_ahu_equip,data_hc, on = \"timestamp\")"
   ]
  },
  {
   "cell_type": "markdown",
   "id": "effaacde",
   "metadata": {
    "papermill": {
     "duration": 0.08998,
     "end_time": "2022-05-13T16:22:50.575165",
     "exception": false,
     "start_time": "2022-05-13T16:22:50.485185",
     "status": "completed"
    },
    "tags": []
   },
   "source": [
    "Took some time to retreive that data, is a big dataset. Let's export the csv:"
   ]
  },
  {
   "cell_type": "code",
   "execution_count": null,
   "id": "a26dd645",
   "metadata": {
    "execution": {
     "iopub.execute_input": "2022-05-13T16:22:50.764838Z",
     "iopub.status.busy": "2022-05-13T16:22:50.763792Z",
     "iopub.status.idle": "2022-05-13T16:22:52.310847Z",
     "shell.execute_reply": "2022-05-13T16:22:52.311365Z"
    },
    "papermill": {
     "duration": 1.644652,
     "end_time": "2022-05-13T16:22:52.311606",
     "exception": false,
     "start_time": "2022-05-13T16:22:50.666954",
     "status": "completed"
    },
    "tags": []
   },
   "outputs": [],
   "source": [
    "shared_ahu_equip.to_csv(\"./rtem_ahu_sat_sp_hc_time_series.csv\", index=False)"
   ]
  },
  {
   "cell_type": "code",
   "execution_count": null,
   "id": "1d4aad02",
   "metadata": {},
   "outputs": [],
   "source": [
    "print(sp_point)\n",
    "print(sat_point)\n",
    "print(hc_point)"
   ]
  },
  {
   "cell_type": "markdown",
   "id": "6b8fae9b",
   "metadata": {
    "papermill": {
     "duration": 0.089739,
     "end_time": "2022-05-13T16:22:52.492245",
     "exception": false,
     "start_time": "2022-05-13T16:22:52.402506",
     "status": "completed"
    },
    "tags": []
   },
   "source": [
    "# Resampling"
   ]
  },
  {
   "cell_type": "markdown",
   "id": "4a854c75",
   "metadata": {
    "papermill": {
     "duration": 0.089832,
     "end_time": "2022-05-13T16:22:52.672179",
     "exception": false,
     "start_time": "2022-05-13T16:22:52.582347",
     "status": "completed"
    },
    "tags": []
   },
   "source": [
    "Let's load the dataset we just exported just to learn one more trick:"
   ]
  },
  {
   "cell_type": "code",
   "execution_count": null,
   "id": "8ce44ba2",
   "metadata": {
    "execution": {
     "iopub.execute_input": "2022-05-13T16:22:52.858894Z",
     "iopub.status.busy": "2022-05-13T16:22:52.858158Z",
     "iopub.status.idle": "2022-05-13T16:22:53.108303Z",
     "shell.execute_reply": "2022-05-13T16:22:53.107734Z",
     "shell.execute_reply.started": "2022-05-04T01:38:08.710206Z"
    },
    "papermill": {
     "duration": 0.34455,
     "end_time": "2022-05-13T16:22:53.108482",
     "exception": false,
     "start_time": "2022-05-13T16:22:52.763932",
     "status": "completed"
    },
    "tags": []
   },
   "outputs": [],
   "source": [
    "data = pd.read_csv(\"./rtem_ahu_sat_sp_time_series.csv\")\n",
    "data.rename(columns={'210916':'sp', '210915': 'sat'}, inplace=True)\n",
    "data.head()"
   ]
  },
  {
   "cell_type": "code",
   "execution_count": null,
   "id": "225d88c3",
   "metadata": {
    "execution": {
     "iopub.execute_input": "2022-05-13T16:22:53.309664Z",
     "iopub.status.busy": "2022-05-13T16:22:53.308936Z",
     "iopub.status.idle": "2022-05-13T16:22:53.313993Z",
     "shell.execute_reply": "2022-05-13T16:22:53.314787Z",
     "shell.execute_reply.started": "2022-05-04T01:38:23.506105Z"
    },
    "papermill": {
     "duration": 0.11281,
     "end_time": "2022-05-13T16:22:53.315116",
     "exception": false,
     "start_time": "2022-05-13T16:22:53.202306",
     "status": "completed"
    },
    "tags": []
   },
   "outputs": [],
   "source": [
    "data.info()"
   ]
  },
  {
   "cell_type": "markdown",
   "id": "6e38eebc",
   "metadata": {
    "papermill": {
     "duration": 0.093344,
     "end_time": "2022-05-13T16:22:53.501137",
     "exception": false,
     "start_time": "2022-05-13T16:22:53.407793",
     "status": "completed"
    },
    "tags": []
   },
   "source": [
    "The timestamp there is not a datetime object yet. We could have parsed it as date [using the parameter `parse_dates` while reading](https://pandas.pydata.org/docs/reference/api/pandas.read_csv.html) the csv or we can do the following:"
   ]
  },
  {
   "cell_type": "code",
   "execution_count": null,
   "id": "9fcf338b",
   "metadata": {
    "execution": {
     "iopub.execute_input": "2022-05-13T16:22:53.692577Z",
     "iopub.status.busy": "2022-05-13T16:22:53.691600Z",
     "iopub.status.idle": "2022-05-13T16:22:53.706505Z",
     "shell.execute_reply": "2022-05-13T16:22:53.706989Z",
     "shell.execute_reply.started": "2022-05-04T01:38:51.996573Z"
    },
    "papermill": {
     "duration": 0.115101,
     "end_time": "2022-05-13T16:22:53.707177",
     "exception": false,
     "start_time": "2022-05-13T16:22:53.592076",
     "status": "completed"
    },
    "tags": []
   },
   "outputs": [],
   "source": [
    "data[\"timestamp\"] = pd.to_datetime(data['timestamp'], format='%Y-%m-%dT%H:%M:%S.%f')"
   ]
  },
  {
   "cell_type": "code",
   "execution_count": null,
   "id": "0374d764",
   "metadata": {
    "execution": {
     "iopub.execute_input": "2022-05-13T16:22:53.894687Z",
     "iopub.status.busy": "2022-05-13T16:22:53.892149Z",
     "iopub.status.idle": "2022-05-13T16:22:53.897132Z",
     "shell.execute_reply": "2022-05-13T16:22:53.897647Z",
     "shell.execute_reply.started": "2022-05-04T01:39:01.235452Z"
    },
    "papermill": {
     "duration": 0.099556,
     "end_time": "2022-05-13T16:22:53.897816",
     "exception": false,
     "start_time": "2022-05-13T16:22:53.798260",
     "status": "completed"
    },
    "tags": []
   },
   "outputs": [],
   "source": [
    "type(data.timestamp[0])"
   ]
  },
  {
   "cell_type": "code",
   "execution_count": null,
   "id": "80d98440",
   "metadata": {},
   "outputs": [],
   "source": [
    "data.set_index('timestamp', inplace = True)"
   ]
  },
  {
   "cell_type": "markdown",
   "id": "9d06589e",
   "metadata": {
    "papermill": {
     "duration": 0.093945,
     "end_time": "2022-05-13T16:22:54.083031",
     "exception": false,
     "start_time": "2022-05-13T16:22:53.989086",
     "status": "completed"
    },
    "tags": []
   },
   "source": [
    "See? now is a datetime object located in UTC timezone.\n",
    "\n",
    "One important thing when working with time-series data is knowing how to resample it. Let's inspect our data:"
   ]
  },
  {
   "cell_type": "code",
   "execution_count": null,
   "id": "8fb3bc0e",
   "metadata": {
    "execution": {
     "iopub.execute_input": "2022-05-13T16:22:54.273413Z",
     "iopub.status.busy": "2022-05-13T16:22:54.272778Z",
     "iopub.status.idle": "2022-05-13T16:22:54.300674Z",
     "shell.execute_reply": "2022-05-13T16:22:54.301168Z",
     "shell.execute_reply.started": "2022-05-04T01:39:11.78404Z"
    },
    "papermill": {
     "duration": 0.123662,
     "end_time": "2022-05-13T16:22:54.301337",
     "exception": false,
     "start_time": "2022-05-13T16:22:54.177675",
     "status": "completed"
    },
    "tags": []
   },
   "outputs": [],
   "source": [
    "data.head(10)"
   ]
  },
  {
   "cell_type": "code",
   "execution_count": null,
   "id": "89369bfb",
   "metadata": {},
   "outputs": [],
   "source": [
    "rtem_temps_avg = data.rolling(window = 5).mean()\n",
    "# rtem_temps_avg = data\n",
    "\n",
    "rtem_temps_avg.head()"
   ]
  },
  {
   "cell_type": "code",
   "execution_count": null,
   "id": "ee15a021",
   "metadata": {},
   "outputs": [],
   "source": [
    "rtem_temps_avg.describe()"
   ]
  },
  {
   "cell_type": "code",
   "execution_count": null,
   "id": "61b5f931",
   "metadata": {},
   "outputs": [],
   "source": [
    "rtem_temps_avg.plot(figsize=(25,8), subplots=True, title='RTEM TEMPS FOR FAULT CONDITION 3 MEASURE')"
   ]
  },
  {
   "cell_type": "code",
   "execution_count": null,
   "id": "88d4ca9c",
   "metadata": {},
   "outputs": [],
   "source": [
    "supply_fan_delta_degf = 2.\n",
    "oat_rat_delta_degf_min = 10.\n",
    "supply_degf_err_thres = 2.\n",
    "return_degf_err_thres = 2.\n",
    "mix_degf_err_thres = 5.\n",
    "outdoor_degf_err_thres = 5. # local OAT options Vs global OAT sensor\n",
    "air_flow_percent_thres = .3\n",
    "vfd_speed_percent_err_thres = .05\n",
    "vfd_speed_percent_max = .99\n",
    "duct_static_inches_err_thres = .1\n",
    "delta_os_max = 7.\n",
    "mode_delay = 30.\n",
    "alarm_dely = 30.\n",
    "test_mode_delay = 120."
   ]
  },
  {
   "cell_type": "code",
   "execution_count": null,
   "id": "74d09a53",
   "metadata": {},
   "outputs": [],
   "source": [
    "# make an entire column out of these params in the Pandas Dataframe\n",
    "rtem_temps_avg['supply_degf_err_thres'] = supply_degf_err_thres"
   ]
  },
  {
   "cell_type": "code",
   "execution_count": null,
   "id": "bf90183c",
   "metadata": {},
   "outputs": [],
   "source": [
    "rtem_temps_avg.columns"
   ]
  },
  {
   "cell_type": "code",
   "execution_count": null,
   "id": "8ff0d51a",
   "metadata": {},
   "outputs": [],
   "source": [
    "# Create a debug dataframe for later\n",
    "rtem_temps_debug =  rtem_temps_avg.copy()"
   ]
  },
  {
   "cell_type": "code",
   "execution_count": null,
   "id": "7b1ea91e",
   "metadata": {},
   "outputs": [],
   "source": [
    "def fault_condition_three_(dataframe):\n",
    "    return (dataframe.mat - dataframe.mix_degf_err_thres > np.maximum((dataframe.rat + dataframe.return_degf_err_thres) , (dataframe.oat + dataframe.outdoor_degf_err_thres)))"
   ]
  },
  {
   "cell_type": "code",
   "execution_count": null,
   "id": "a56ce4ee",
   "metadata": {},
   "outputs": [],
   "source": [
    "def fault_condition_five_(dataframe):\n",
    "    return ((dataframe.sat + dataframe.supply_degf_err_thres) <= (dataframe.mat - dataframe.mix_degf_err_thres + supply_fan_delta_degf))"
   ]
  },
  {
   "cell_type": "code",
   "execution_count": null,
   "id": "f4f2e8c1",
   "metadata": {},
   "outputs": [],
   "source": [
    "def fault_condition_seven_(dataframe):\n",
    "    return ((dataframe.sat < (dataframe.sp - dataframe.supply_degf_err_thres) & (dataframe.hc >= 99))"
   ]
  },
  {
   "cell_type": "code",
   "execution_count": null,
   "id": "3f76c175",
   "metadata": {},
   "outputs": [],
   "source": [
    "import numpy as np\n",
    "\n",
    "rtem_temps_avg['fc7_flag'] = fault_condition_seven_(rtem_temps_avg)"
   ]
  },
  {
   "cell_type": "code",
   "execution_count": null,
   "id": "44881024",
   "metadata": {},
   "outputs": [],
   "source": [
    "rtem_temps_avg['fc7_flag'].value_counts()"
   ]
  },
  {
   "cell_type": "code",
   "execution_count": null,
   "id": "bf36fd46",
   "metadata": {},
   "outputs": [],
   "source": [
    "rtem_temps_avg.columns"
   ]
  },
  {
   "cell_type": "code",
   "execution_count": null,
   "id": "9eab31be",
   "metadata": {},
   "outputs": [],
   "source": [
    "# change boolean column to int for plots\n",
    "\n",
    "rtem_temps_avg['fc7_flag'] = rtem_temps_avg['fc7_flag'].astype(int)\n",
    "\n",
    "# drop params column for better plot\n",
    "rtem_temps_avg = rtem_temps_avg.drop(['supply_degf_err_thres'],axis=1)"
   ]
  },
  {
   "cell_type": "code",
   "execution_count": null,
   "id": "768bdfe0",
   "metadata": {},
   "outputs": [],
   "source": [
    "fdd_plot = rtem_temps_avg"
   ]
  },
  {
   "cell_type": "code",
   "execution_count": null,
   "id": "4d47aa95",
   "metadata": {},
   "outputs": [],
   "source": [
    "fdd_plot.columns"
   ]
  },
  {
   "cell_type": "code",
   "execution_count": null,
   "id": "0052268e",
   "metadata": {},
   "outputs": [],
   "source": [
    "import matplotlib.pyplot as plt\n",
    "\n",
    "fig, ax = plt.subplots(figsize=(25,8))\n",
    "\n",
    "plot1a = fdd_plot.mat.plot(ax=ax)\n",
    "plot1b = fdd_plot.sat.plot(ax=ax)\n",
    "plot1d = fdd_plot.fc5_flag.plot(ax=ax, color='k', secondary_y=True)\n",
    "\n",
    "ax.set_ylabel('Temperatures')\n",
    "ax.right_ax.set_ylim(0,1)\n",
    "plt.ylabel('FDD FLAG')\n",
    "\n",
    "ax.set_title(\"RTEM Temp Sensors and FDD 5 Flag\")\n",
    "fig.legend(['sp','sat','hc','fc7_flag'],bbox_to_anchor=(.95, .9))\n",
    "\n",
    "# defining display layout\n",
    "plt.tight_layout()\n",
    "\n",
    "# show plot\n",
    "plt.show()"
   ]
  },
  {
   "cell_type": "markdown",
   "id": "d72576f0",
   "metadata": {
    "papermill": {
     "duration": 0.094943,
     "end_time": "2022-05-13T16:22:55.581466",
     "exception": false,
     "start_time": "2022-05-13T16:22:55.486523",
     "status": "completed"
    },
    "tags": []
   },
   "source": [
    "# Plotting"
   ]
  },
  {
   "cell_type": "markdown",
   "id": "5f11d0dd",
   "metadata": {
    "papermill": {
     "duration": 0.095185,
     "end_time": "2022-05-13T16:22:55.771249",
     "exception": false,
     "start_time": "2022-05-13T16:22:55.676064",
     "status": "completed"
    },
    "tags": []
   },
   "source": [
    "## Lineplots"
   ]
  },
  {
   "cell_type": "markdown",
   "id": "31c857e5",
   "metadata": {
    "papermill": {
     "duration": 0.09358,
     "end_time": "2022-05-13T16:22:55.959764",
     "exception": false,
     "start_time": "2022-05-13T16:22:55.866184",
     "status": "completed"
    },
    "tags": []
   },
   "source": [
    "We are going to explore our sensors data with some simple lineplots. We are going to use [*Seaborn*](https://seaborn.pydata.org/) which works on [*Matplotlib*](https://matplotlib.org/stable/users/index.html). Let's import them:"
   ]
  },
  {
   "cell_type": "code",
   "execution_count": null,
   "id": "42624bd6",
   "metadata": {
    "execution": {
     "iopub.execute_input": "2022-05-13T16:22:56.153675Z",
     "iopub.status.busy": "2022-05-13T16:22:56.152975Z",
     "iopub.status.idle": "2022-05-13T16:22:57.248874Z",
     "shell.execute_reply": "2022-05-13T16:22:57.248223Z",
     "shell.execute_reply.started": "2022-05-04T01:42:32.937647Z"
    },
    "papermill": {
     "duration": 1.193547,
     "end_time": "2022-05-13T16:22:57.249024",
     "exception": false,
     "start_time": "2022-05-13T16:22:56.055477",
     "status": "completed"
    },
    "tags": []
   },
   "outputs": [],
   "source": [
    "import matplotlib.pyplot as plt\n",
    "import seaborn as sns\n",
    "\n",
    "# This is for the visual stype, I like \"ggplot\"\n",
    "plt.style.use('ggplot')\n",
    "\n",
    "# This for the figure size\n",
    "plt.rcParams[\"figure.figsize\"] = (20,9)"
   ]
  },
  {
   "cell_type": "markdown",
   "id": "186dff6d",
   "metadata": {
    "papermill": {
     "duration": 0.09379,
     "end_time": "2022-05-13T16:22:57.437838",
     "exception": false,
     "start_time": "2022-05-13T16:22:57.344048",
     "status": "completed"
    },
    "tags": []
   },
   "source": [
    "Let's plot the raw data of our sensors:"
   ]
  },
  {
   "cell_type": "code",
   "execution_count": null,
   "id": "3be68d59",
   "metadata": {
    "execution": {
     "iopub.execute_input": "2022-05-13T16:22:57.631622Z",
     "iopub.status.busy": "2022-05-13T16:22:57.630939Z",
     "iopub.status.idle": "2022-05-13T16:22:57.634422Z",
     "shell.execute_reply": "2022-05-13T16:22:57.634896Z",
     "shell.execute_reply.started": "2022-05-04T01:42:36.073616Z"
    },
    "papermill": {
     "duration": 0.103375,
     "end_time": "2022-05-13T16:22:57.635075",
     "exception": false,
     "start_time": "2022-05-13T16:22:57.531700",
     "status": "completed"
    },
    "tags": []
   },
   "outputs": [],
   "source": [
    "# These are the sensors, one per column (first one is the timestamp)\n",
    "cols = data.columns[1:]\n",
    "cols"
   ]
  },
  {
   "cell_type": "code",
   "execution_count": null,
   "id": "1aa8f914",
   "metadata": {
    "execution": {
     "iopub.execute_input": "2022-05-13T16:22:57.833471Z",
     "iopub.status.busy": "2022-05-13T16:22:57.831674Z",
     "iopub.status.idle": "2022-05-13T16:23:51.611801Z",
     "shell.execute_reply": "2022-05-13T16:23:51.612321Z",
     "shell.execute_reply.started": "2022-05-04T01:42:52.660512Z"
    },
    "papermill": {
     "duration": 53.881976,
     "end_time": "2022-05-13T16:23:51.612519",
     "exception": false,
     "start_time": "2022-05-13T16:22:57.730543",
     "status": "completed"
    },
    "tags": []
   },
   "outputs": [],
   "source": [
    "for col in cols:\n",
    "    plt.figure()\n",
    "    sns.lineplot(data=data, x=\"timestamp\", y=col)"
   ]
  },
  {
   "cell_type": "markdown",
   "id": "0158507c",
   "metadata": {
    "papermill": {
     "duration": 0.102889,
     "end_time": "2022-05-13T16:23:51.816830",
     "exception": false,
     "start_time": "2022-05-13T16:23:51.713941",
     "status": "completed"
    },
    "tags": []
   },
   "source": [
    "We have a huge gap with no data and the rest it's noisy and difficult to see. Let's filter data from september 1st 2017:"
   ]
  },
  {
   "cell_type": "code",
   "execution_count": null,
   "id": "a63c1f2e",
   "metadata": {
    "execution": {
     "iopub.execute_input": "2022-05-13T16:23:52.026173Z",
     "iopub.status.busy": "2022-05-13T16:23:52.024830Z",
     "iopub.status.idle": "2022-05-13T16:23:52.035859Z",
     "shell.execute_reply": "2022-05-13T16:23:52.035257Z",
     "shell.execute_reply.started": "2022-05-04T01:45:24.249887Z"
    },
    "papermill": {
     "duration": 0.119209,
     "end_time": "2022-05-13T16:23:52.036007",
     "exception": false,
     "start_time": "2022-05-13T16:23:51.916798",
     "status": "completed"
    },
    "tags": []
   },
   "outputs": [],
   "source": [
    "data = data[data.timestamp >= \"2017-09-01\"]"
   ]
  },
  {
   "cell_type": "markdown",
   "id": "fb1a6670",
   "metadata": {
    "papermill": {
     "duration": 0.098121,
     "end_time": "2022-05-13T16:23:52.237013",
     "exception": false,
     "start_time": "2022-05-13T16:23:52.138892",
     "status": "completed"
    },
    "tags": []
   },
   "source": [
    "One useful technique to deal with noisy data is to resample it by hour (or a longer time frequency) aggregating by the mean: this way we can visualize the hourly/daily behaviour more smoothed.\n",
    "\n",
    "But first, let's go deeper into our `timestamp` column. This is a datetime column, meaning that we have some functions to handle the dates better. With [this pandas method](https://pandas.pydata.org/docs/reference/api/pandas.Series.dt.html) we can access our date: we can get the date, the weekday, the hour, the seconds, the minutes; all the information in our date can be obtained.\n",
    "\n",
    "Let's try an example. This is our raw timestamp:"
   ]
  },
  {
   "cell_type": "code",
   "execution_count": null,
   "id": "40f82d7e",
   "metadata": {
    "execution": {
     "iopub.execute_input": "2022-05-13T16:23:52.437067Z",
     "iopub.status.busy": "2022-05-13T16:23:52.436161Z",
     "iopub.status.idle": "2022-05-13T16:23:52.443114Z",
     "shell.execute_reply": "2022-05-13T16:23:52.443676Z",
     "shell.execute_reply.started": "2022-05-04T01:45:26.983864Z"
    },
    "papermill": {
     "duration": 0.109081,
     "end_time": "2022-05-13T16:23:52.443855",
     "exception": false,
     "start_time": "2022-05-13T16:23:52.334774",
     "status": "completed"
    },
    "tags": []
   },
   "outputs": [],
   "source": [
    "data.timestamp"
   ]
  },
  {
   "cell_type": "markdown",
   "id": "8c9e18cb",
   "metadata": {
    "papermill": {
     "duration": 0.099134,
     "end_time": "2022-05-13T16:23:52.642493",
     "exception": false,
     "start_time": "2022-05-13T16:23:52.543359",
     "status": "completed"
    },
    "tags": []
   },
   "source": [
    "We can get the date:"
   ]
  },
  {
   "cell_type": "code",
   "execution_count": null,
   "id": "0b529af8",
   "metadata": {
    "execution": {
     "iopub.execute_input": "2022-05-13T16:23:52.848468Z",
     "iopub.status.busy": "2022-05-13T16:23:52.847689Z",
     "iopub.status.idle": "2022-05-13T16:23:52.863160Z",
     "shell.execute_reply": "2022-05-13T16:23:52.863681Z",
     "shell.execute_reply.started": "2022-05-04T01:45:37.420565Z"
    },
    "papermill": {
     "duration": 0.121296,
     "end_time": "2022-05-13T16:23:52.863872",
     "exception": false,
     "start_time": "2022-05-13T16:23:52.742576",
     "status": "completed"
    },
    "tags": []
   },
   "outputs": [],
   "source": [
    "data.timestamp.dt.date"
   ]
  },
  {
   "cell_type": "markdown",
   "id": "cee66502",
   "metadata": {
    "papermill": {
     "duration": 0.100561,
     "end_time": "2022-05-13T16:23:53.064695",
     "exception": false,
     "start_time": "2022-05-13T16:23:52.964134",
     "status": "completed"
    },
    "tags": []
   },
   "source": [
    "Even the he day of the week (with Monday=0, Sunday=6)"
   ]
  },
  {
   "cell_type": "code",
   "execution_count": null,
   "id": "30983de3",
   "metadata": {
    "execution": {
     "iopub.execute_input": "2022-05-13T16:23:53.269188Z",
     "iopub.status.busy": "2022-05-13T16:23:53.268172Z",
     "iopub.status.idle": "2022-05-13T16:23:53.277062Z",
     "shell.execute_reply": "2022-05-13T16:23:53.277580Z",
     "shell.execute_reply.started": "2022-05-04T01:45:59.585197Z"
    },
    "papermill": {
     "duration": 0.111731,
     "end_time": "2022-05-13T16:23:53.277774",
     "exception": false,
     "start_time": "2022-05-13T16:23:53.166043",
     "status": "completed"
    },
    "tags": []
   },
   "outputs": [],
   "source": [
    "data.timestamp.dt.weekday"
   ]
  },
  {
   "cell_type": "markdown",
   "id": "78bfca8b",
   "metadata": {
    "papermill": {
     "duration": 0.100451,
     "end_time": "2022-05-13T16:23:53.482270",
     "exception": false,
     "start_time": "2022-05-13T16:23:53.381819",
     "status": "completed"
    },
    "tags": []
   },
   "source": [
    "The hour"
   ]
  },
  {
   "cell_type": "code",
   "execution_count": null,
   "id": "4b5e6d38",
   "metadata": {
    "execution": {
     "iopub.execute_input": "2022-05-13T16:23:53.688312Z",
     "iopub.status.busy": "2022-05-13T16:23:53.687301Z",
     "iopub.status.idle": "2022-05-13T16:23:53.696649Z",
     "shell.execute_reply": "2022-05-13T16:23:53.697196Z",
     "shell.execute_reply.started": "2022-05-04T01:46:22.066125Z"
    },
    "papermill": {
     "duration": 0.114989,
     "end_time": "2022-05-13T16:23:53.697368",
     "exception": false,
     "start_time": "2022-05-13T16:23:53.582379",
     "status": "completed"
    },
    "tags": []
   },
   "outputs": [],
   "source": [
    "data.timestamp.dt.hour"
   ]
  },
  {
   "cell_type": "markdown",
   "id": "109a1ce6",
   "metadata": {
    "papermill": {
     "duration": 0.100088,
     "end_time": "2022-05-13T16:23:53.899185",
     "exception": false,
     "start_time": "2022-05-13T16:23:53.799097",
     "status": "completed"
    },
    "tags": []
   },
   "source": [
    "Or the minutes"
   ]
  },
  {
   "cell_type": "code",
   "execution_count": null,
   "id": "5bdb8fbf",
   "metadata": {
    "execution": {
     "iopub.execute_input": "2022-05-13T16:23:54.113142Z",
     "iopub.status.busy": "2022-05-13T16:23:54.111993Z",
     "iopub.status.idle": "2022-05-13T16:23:54.119958Z",
     "shell.execute_reply": "2022-05-13T16:23:54.119265Z",
     "shell.execute_reply.started": "2022-05-04T01:46:36.803123Z"
    },
    "papermill": {
     "duration": 0.115875,
     "end_time": "2022-05-13T16:23:54.120164",
     "exception": false,
     "start_time": "2022-05-13T16:23:54.004289",
     "status": "completed"
    },
    "tags": []
   },
   "outputs": [],
   "source": [
    "data.timestamp.dt.minute"
   ]
  },
  {
   "cell_type": "markdown",
   "id": "d3b483fd",
   "metadata": {
    "papermill": {
     "duration": 0.105539,
     "end_time": "2022-05-13T16:23:54.328201",
     "exception": false,
     "start_time": "2022-05-13T16:23:54.222662",
     "status": "completed"
    },
    "tags": []
   },
   "source": [
    "Pretty simple! You have all the datetime information handy.\n",
    "\n",
    "Now let's smooth the data to plot it!"
   ]
  },
  {
   "cell_type": "code",
   "execution_count": null,
   "id": "20fa8c8f",
   "metadata": {
    "execution": {
     "iopub.execute_input": "2022-05-13T16:23:54.545345Z",
     "iopub.status.busy": "2022-05-13T16:23:54.544295Z",
     "iopub.status.idle": "2022-05-13T16:23:54.584472Z",
     "shell.execute_reply": "2022-05-13T16:23:54.584954Z",
     "shell.execute_reply.started": "2022-05-04T01:46:45.366001Z"
    },
    "papermill": {
     "duration": 0.153491,
     "end_time": "2022-05-13T16:23:54.585138",
     "exception": false,
     "start_time": "2022-05-13T16:23:54.431647",
     "status": "completed"
    },
    "tags": []
   },
   "outputs": [],
   "source": [
    "data_hour = data.resample('1H', on=\"timestamp\").mean()\n",
    "data_hour.head()"
   ]
  },
  {
   "cell_type": "markdown",
   "id": "44a27cc9",
   "metadata": {
    "papermill": {
     "duration": 0.107788,
     "end_time": "2022-05-13T16:23:54.797703",
     "exception": false,
     "start_time": "2022-05-13T16:23:54.689915",
     "status": "completed"
    },
    "tags": []
   },
   "source": [
    "And we have the mean temperature by hour! Plotting it is simple with this data set:"
   ]
  },
  {
   "cell_type": "code",
   "execution_count": null,
   "id": "579c35c0",
   "metadata": {
    "execution": {
     "iopub.execute_input": "2022-05-13T16:23:55.014142Z",
     "iopub.status.busy": "2022-05-13T16:23:55.013448Z",
     "iopub.status.idle": "2022-05-13T16:24:10.539974Z",
     "shell.execute_reply": "2022-05-13T16:24:10.540820Z",
     "shell.execute_reply.started": "2022-05-04T01:47:09.071507Z"
    },
    "papermill": {
     "duration": 15.639283,
     "end_time": "2022-05-13T16:24:10.541081",
     "exception": false,
     "start_time": "2022-05-13T16:23:54.901798",
     "status": "completed"
    },
    "tags": []
   },
   "outputs": [],
   "source": [
    "fig = sns.lineplot(data=data_hour)\n",
    "\n",
    "# This is just for hiding the legend for now, there are a lot of labels and is difficult to see the plot\n",
    "plt.legend([],[], frameon=False)"
   ]
  },
  {
   "cell_type": "markdown",
   "id": "fb73cef3",
   "metadata": {
    "papermill": {
     "duration": 0.118541,
     "end_time": "2022-05-13T16:24:10.785441",
     "exception": false,
     "start_time": "2022-05-13T16:24:10.666900",
     "status": "completed"
    },
    "tags": []
   },
   "source": [
    "Let's do it again but daily:"
   ]
  },
  {
   "cell_type": "code",
   "execution_count": null,
   "id": "4139ee50",
   "metadata": {
    "execution": {
     "iopub.execute_input": "2022-05-13T16:24:11.012957Z",
     "iopub.status.busy": "2022-05-13T16:24:11.012259Z",
     "iopub.status.idle": "2022-05-13T16:24:11.051923Z",
     "shell.execute_reply": "2022-05-13T16:24:11.052733Z",
     "shell.execute_reply.started": "2022-05-04T01:47:53.44803Z"
    },
    "papermill": {
     "duration": 0.155209,
     "end_time": "2022-05-13T16:24:11.052979",
     "exception": false,
     "start_time": "2022-05-13T16:24:10.897770",
     "status": "completed"
    },
    "tags": []
   },
   "outputs": [],
   "source": [
    "data_day = data.resample('24H', on=\"timestamp\").mean()\n",
    "data_day.head()"
   ]
  },
  {
   "cell_type": "code",
   "execution_count": null,
   "id": "987f6cd6",
   "metadata": {
    "execution": {
     "iopub.execute_input": "2022-05-13T16:24:11.291854Z",
     "iopub.status.busy": "2022-05-13T16:24:11.290903Z",
     "iopub.status.idle": "2022-05-13T16:24:14.588688Z",
     "shell.execute_reply": "2022-05-13T16:24:14.589221Z",
     "shell.execute_reply.started": "2022-05-04T01:48:02.057968Z"
    },
    "papermill": {
     "duration": 3.418508,
     "end_time": "2022-05-13T16:24:14.589412",
     "exception": false,
     "start_time": "2022-05-13T16:24:11.170904",
     "status": "completed"
    },
    "tags": []
   },
   "outputs": [],
   "source": [
    "sns.lineplot(data=data_day)\n",
    "\n",
    "# This is just for hiding the legend for now, there are a lot of labels and is difficult to see the plot\n",
    "plt.legend([],[], frameon=False)"
   ]
  },
  {
   "cell_type": "markdown",
   "id": "c2598008",
   "metadata": {
    "papermill": {
     "duration": 0.119232,
     "end_time": "2022-05-13T16:24:14.830894",
     "exception": false,
     "start_time": "2022-05-13T16:24:14.711662",
     "status": "completed"
    },
    "tags": []
   },
   "source": [
    "## Heatmaps"
   ]
  },
  {
   "cell_type": "markdown",
   "id": "9a12694f",
   "metadata": {
    "papermill": {
     "duration": 0.120552,
     "end_time": "2022-05-13T16:24:15.076749",
     "exception": false,
     "start_time": "2022-05-13T16:24:14.956197",
     "status": "completed"
    },
    "tags": []
   },
   "source": [
    "Lineplots are easy but still pretty diffcult to visualize. Instead, we can use [heatmaps](https://seaborn.pydata.org/generated/seaborn.heatmap.html), it's also really easy. Remember you can transpose your data to change the axis, like this:"
   ]
  },
  {
   "cell_type": "code",
   "execution_count": null,
   "id": "487a1e3c",
   "metadata": {
    "execution": {
     "iopub.execute_input": "2022-05-13T16:24:15.327069Z",
     "iopub.status.busy": "2022-05-13T16:24:15.326304Z",
     "iopub.status.idle": "2022-05-13T16:24:15.360740Z",
     "shell.execute_reply": "2022-05-13T16:24:15.361246Z",
     "shell.execute_reply.started": "2022-05-04T01:51:19.784602Z"
    },
    "papermill": {
     "duration": 0.163361,
     "end_time": "2022-05-13T16:24:15.361437",
     "exception": false,
     "start_time": "2022-05-13T16:24:15.198076",
     "status": "completed"
    },
    "tags": []
   },
   "outputs": [],
   "source": [
    "data_hour.T"
   ]
  },
  {
   "cell_type": "markdown",
   "id": "07098ec4",
   "metadata": {
    "papermill": {
     "duration": 0.119451,
     "end_time": "2022-05-13T16:24:15.603660",
     "exception": false,
     "start_time": "2022-05-13T16:24:15.484209",
     "status": "completed"
    },
    "tags": []
   },
   "source": [
    "And super-easy to plot:"
   ]
  },
  {
   "cell_type": "code",
   "execution_count": null,
   "id": "f3e0e486",
   "metadata": {
    "execution": {
     "iopub.execute_input": "2022-05-13T16:24:15.849547Z",
     "iopub.status.busy": "2022-05-13T16:24:15.848889Z",
     "iopub.status.idle": "2022-05-13T16:24:19.789280Z",
     "shell.execute_reply": "2022-05-13T16:24:19.789844Z",
     "shell.execute_reply.started": "2022-05-04T01:51:43.026816Z"
    },
    "papermill": {
     "duration": 4.06554,
     "end_time": "2022-05-13T16:24:19.790038",
     "exception": false,
     "start_time": "2022-05-13T16:24:15.724498",
     "status": "completed"
    },
    "tags": []
   },
   "outputs": [],
   "source": [
    "sns.heatmap(data_hour.T, cmap=\"hot_r\")"
   ]
  },
  {
   "cell_type": "code",
   "execution_count": null,
   "id": "0f2882b2",
   "metadata": {
    "execution": {
     "iopub.execute_input": "2022-05-13T16:24:20.046438Z",
     "iopub.status.busy": "2022-05-13T16:24:20.045747Z",
     "iopub.status.idle": "2022-05-13T16:24:22.643904Z",
     "shell.execute_reply": "2022-05-13T16:24:22.644433Z",
     "shell.execute_reply.started": "2022-05-04T01:53:48.544385Z"
    },
    "papermill": {
     "duration": 2.726684,
     "end_time": "2022-05-13T16:24:22.644628",
     "exception": false,
     "start_time": "2022-05-13T16:24:19.917944",
     "status": "completed"
    },
    "tags": []
   },
   "outputs": [],
   "source": [
    "sns.heatmap(data_day.T, cmap=\"hot_r\")"
   ]
  },
  {
   "cell_type": "markdown",
   "id": "86239d7d",
   "metadata": {
    "papermill": {
     "duration": 0.132556,
     "end_time": "2022-05-13T16:24:22.906661",
     "exception": false,
     "start_time": "2022-05-13T16:24:22.774105",
     "status": "completed"
    },
    "tags": []
   },
   "source": [
    "With this kind of plot is pretty evident where we have gaps with no-readings."
   ]
  },
  {
   "cell_type": "markdown",
   "id": "debe5bac",
   "metadata": {
    "papermill": {
     "duration": 0.128796,
     "end_time": "2022-05-13T16:24:23.166686",
     "exception": false,
     "start_time": "2022-05-13T16:24:23.037890",
     "status": "completed"
    },
    "tags": []
   },
   "source": [
    "# Summary stats"
   ]
  },
  {
   "cell_type": "markdown",
   "id": "7678990b",
   "metadata": {
    "papermill": {
     "duration": 0.12757,
     "end_time": "2022-05-13T16:24:23.422493",
     "exception": false,
     "start_time": "2022-05-13T16:24:23.294923",
     "status": "completed"
    },
    "tags": []
   },
   "source": [
    "Usually is useful to get some summary stats from our data. Fortunately, pandas has a simple method to obtain them:"
   ]
  },
  {
   "cell_type": "code",
   "execution_count": null,
   "id": "711c3767",
   "metadata": {
    "execution": {
     "iopub.execute_input": "2022-05-13T16:24:23.686716Z",
     "iopub.status.busy": "2022-05-13T16:24:23.686013Z",
     "iopub.status.idle": "2022-05-13T16:24:24.056233Z",
     "shell.execute_reply": "2022-05-13T16:24:24.055696Z",
     "shell.execute_reply.started": "2022-05-04T01:54:39.538689Z"
    },
    "papermill": {
     "duration": 0.505705,
     "end_time": "2022-05-13T16:24:24.056385",
     "exception": false,
     "start_time": "2022-05-13T16:24:23.550680",
     "status": "completed"
    },
    "tags": []
   },
   "outputs": [],
   "source": [
    "data.describe()"
   ]
  },
  {
   "cell_type": "markdown",
   "id": "7674569f",
   "metadata": {
    "papermill": {
     "duration": 0.130054,
     "end_time": "2022-05-13T16:24:24.318266",
     "exception": false,
     "start_time": "2022-05-13T16:24:24.188212",
     "status": "completed"
    },
    "tags": []
   },
   "source": [
    "These stats are usually visualizes in boxplot and histograms; these two plots can be easily obtained with the plotting libraries we are using. But first I suggest processing a little the dataframe to be able to plot all sensors in the same figure. We are using the pandas method [melt](https://pandas.pydata.org/docs/reference/api/pandas.melt.html). We have the data in this way right now:"
   ]
  },
  {
   "cell_type": "code",
   "execution_count": null,
   "id": "d06efb4e",
   "metadata": {
    "execution": {
     "iopub.execute_input": "2022-05-13T16:24:24.582940Z",
     "iopub.status.busy": "2022-05-13T16:24:24.582227Z",
     "iopub.status.idle": "2022-05-13T16:24:24.606731Z",
     "shell.execute_reply": "2022-05-13T16:24:24.607274Z",
     "shell.execute_reply.started": "2022-05-04T01:55:19.525786Z"
    },
    "papermill": {
     "duration": 0.15958,
     "end_time": "2022-05-13T16:24:24.607471",
     "exception": false,
     "start_time": "2022-05-13T16:24:24.447891",
     "status": "completed"
    },
    "tags": []
   },
   "outputs": [],
   "source": [
    "data.head()"
   ]
  },
  {
   "cell_type": "markdown",
   "id": "e98ac053",
   "metadata": {
    "papermill": {
     "duration": 0.130869,
     "end_time": "2022-05-13T16:24:24.871540",
     "exception": false,
     "start_time": "2022-05-13T16:24:24.740671",
     "status": "completed"
    },
    "tags": []
   },
   "source": [
    "If we use the `melt` method we can convert our columns in rows, creating a new one that indicates which column it was. Is easier seeing the results, check it out:"
   ]
  },
  {
   "cell_type": "code",
   "execution_count": null,
   "id": "e77b8ba8",
   "metadata": {
    "execution": {
     "iopub.execute_input": "2022-05-13T16:24:25.139143Z",
     "iopub.status.busy": "2022-05-13T16:24:25.138481Z",
     "iopub.status.idle": "2022-05-13T16:24:35.571505Z",
     "shell.execute_reply": "2022-05-13T16:24:35.570820Z",
     "shell.execute_reply.started": "2022-05-04T01:55:50.435545Z"
    },
    "papermill": {
     "duration": 10.567508,
     "end_time": "2022-05-13T16:24:35.571660",
     "exception": false,
     "start_time": "2022-05-13T16:24:25.004152",
     "status": "completed"
    },
    "tags": []
   },
   "outputs": [],
   "source": [
    "melted_data = data.melt(id_vars=\"timestamp\", var_name=\"sensor\", value_name=\"temperature\")\n",
    "melted_data"
   ]
  },
  {
   "cell_type": "markdown",
   "id": "1522a20f",
   "metadata": {
    "papermill": {
     "duration": 0.130796,
     "end_time": "2022-05-13T16:24:35.833365",
     "exception": false,
     "start_time": "2022-05-13T16:24:35.702569",
     "status": "completed"
    },
    "tags": []
   },
   "source": [
    "And now that we have the data in this shape, is easy to get a boxplot:"
   ]
  },
  {
   "cell_type": "code",
   "execution_count": null,
   "id": "5ac16d61",
   "metadata": {
    "execution": {
     "iopub.execute_input": "2022-05-13T16:24:36.340290Z",
     "iopub.status.busy": "2022-05-13T16:24:36.339291Z",
     "iopub.status.idle": "2022-05-13T16:24:41.855129Z",
     "shell.execute_reply": "2022-05-13T16:24:41.855774Z",
     "shell.execute_reply.started": "2022-05-04T01:56:22.503705Z"
    },
    "papermill": {
     "duration": 5.889257,
     "end_time": "2022-05-13T16:24:41.855958",
     "exception": false,
     "start_time": "2022-05-13T16:24:35.966701",
     "status": "completed"
    },
    "tags": []
   },
   "outputs": [],
   "source": [
    "fig = sns.boxplot(y=\"temperature\", x=\"sensor\", data=melted_data)\n",
    "labels = plt.xticks(rotation=90)"
   ]
  },
  {
   "cell_type": "markdown",
   "id": "59bf973c",
   "metadata": {
    "papermill": {
     "duration": 0.135023,
     "end_time": "2022-05-13T16:24:42.128133",
     "exception": false,
     "start_time": "2022-05-13T16:24:41.993110",
     "status": "completed"
    },
    "tags": []
   },
   "source": [
    "We can also plot an histogram, but with this number of sensors a boxplot is cleaner:"
   ]
  },
  {
   "cell_type": "code",
   "execution_count": null,
   "id": "39fbc026",
   "metadata": {
    "execution": {
     "iopub.execute_input": "2022-05-13T16:24:42.400907Z",
     "iopub.status.busy": "2022-05-13T16:24:42.400213Z",
     "iopub.status.idle": "2022-05-13T16:25:00.947158Z",
     "shell.execute_reply": "2022-05-13T16:25:00.947704Z",
     "shell.execute_reply.started": "2022-05-04T01:56:49.510428Z"
    },
    "papermill": {
     "duration": 18.683849,
     "end_time": "2022-05-13T16:25:00.947881",
     "exception": false,
     "start_time": "2022-05-13T16:24:42.264032",
     "status": "completed"
    },
    "tags": []
   },
   "outputs": [],
   "source": [
    "fig = sns.histplot(data=melted_data, x=\"temperature\", hue=\"sensor\", bins=20, kde=True, palette=\"Dark2\")\n",
    "\n",
    "# This is just for hiding the legend for now, there are a lot of labels and is difficult to see the plot\n",
    "plt.legend([],[], frameon=False)"
   ]
  },
  {
   "cell_type": "markdown",
   "id": "200a7a6a",
   "metadata": {
    "papermill": {
     "duration": 0.135031,
     "end_time": "2022-05-13T16:25:01.222304",
     "exception": false,
     "start_time": "2022-05-13T16:25:01.087273",
     "status": "completed"
    },
    "tags": []
   },
   "source": [
    "Finally, let's create a dataset with the stats. "
   ]
  },
  {
   "cell_type": "code",
   "execution_count": null,
   "id": "ab43c162",
   "metadata": {
    "execution": {
     "iopub.execute_input": "2022-05-13T16:25:01.499604Z",
     "iopub.status.busy": "2022-05-13T16:25:01.498021Z",
     "iopub.status.idle": "2022-05-13T16:25:01.842311Z",
     "shell.execute_reply": "2022-05-13T16:25:01.842828Z",
     "shell.execute_reply.started": "2022-05-04T01:57:51.951746Z"
    },
    "papermill": {
     "duration": 0.483777,
     "end_time": "2022-05-13T16:25:01.843016",
     "exception": false,
     "start_time": "2022-05-13T16:25:01.359239",
     "status": "completed"
    },
    "tags": []
   },
   "outputs": [],
   "source": [
    "stats_data = data.describe()\n",
    "stats_data"
   ]
  },
  {
   "cell_type": "markdown",
   "id": "b89ffaeb",
   "metadata": {
    "papermill": {
     "duration": 0.137247,
     "end_time": "2022-05-13T16:25:02.121023",
     "exception": false,
     "start_time": "2022-05-13T16:25:01.983776",
     "status": "completed"
    },
    "tags": []
   },
   "source": [
    "We are transposing it and reseting the index to keep a column with the point id (was the name of the column):"
   ]
  },
  {
   "cell_type": "code",
   "execution_count": null,
   "id": "13ac2358",
   "metadata": {
    "execution": {
     "iopub.execute_input": "2022-05-13T16:25:02.401029Z",
     "iopub.status.busy": "2022-05-13T16:25:02.400339Z",
     "iopub.status.idle": "2022-05-13T16:25:02.423015Z",
     "shell.execute_reply": "2022-05-13T16:25:02.423549Z",
     "shell.execute_reply.started": "2022-05-04T01:58:02.364351Z"
    },
    "papermill": {
     "duration": 0.164742,
     "end_time": "2022-05-13T16:25:02.423728",
     "exception": false,
     "start_time": "2022-05-13T16:25:02.258986",
     "status": "completed"
    },
    "tags": []
   },
   "outputs": [],
   "source": [
    "stats_data = stats_data.T.reset_index().rename(columns={\"index\":\"id_point\"})\n",
    "stats_data"
   ]
  },
  {
   "cell_type": "markdown",
   "id": "b5f80447",
   "metadata": {
    "papermill": {
     "duration": 0.140063,
     "end_time": "2022-05-13T16:25:02.701179",
     "exception": false,
     "start_time": "2022-05-13T16:25:02.561116",
     "status": "completed"
    },
    "tags": []
   },
   "source": [
    "And now let's convert the `id_point` column in our metadata set to string (is an int right now) so we are able to merge with `stats_data`:"
   ]
  },
  {
   "cell_type": "code",
   "execution_count": null,
   "id": "42ea0595",
   "metadata": {
    "execution": {
     "iopub.execute_input": "2022-05-13T16:25:02.983945Z",
     "iopub.status.busy": "2022-05-13T16:25:02.983224Z",
     "iopub.status.idle": "2022-05-13T16:25:02.987806Z",
     "shell.execute_reply": "2022-05-13T16:25:02.988251Z",
     "shell.execute_reply.started": "2022-05-04T01:58:08.636223Z"
    },
    "papermill": {
     "duration": 0.148447,
     "end_time": "2022-05-13T16:25:02.988449",
     "exception": false,
     "start_time": "2022-05-13T16:25:02.840002",
     "status": "completed"
    },
    "tags": []
   },
   "outputs": [],
   "source": [
    "metadata['id_point'] = metadata['id_point'].astype(str)"
   ]
  },
  {
   "cell_type": "markdown",
   "id": "896e768c",
   "metadata": {
    "papermill": {
     "duration": 0.136543,
     "end_time": "2022-05-13T16:25:03.261648",
     "exception": false,
     "start_time": "2022-05-13T16:25:03.125105",
     "status": "completed"
    },
    "tags": []
   },
   "source": [
    "And merge!"
   ]
  },
  {
   "cell_type": "code",
   "execution_count": null,
   "id": "5536fd20",
   "metadata": {
    "execution": {
     "iopub.execute_input": "2022-05-13T16:25:03.539069Z",
     "iopub.status.busy": "2022-05-13T16:25:03.538357Z",
     "iopub.status.idle": "2022-05-13T16:25:03.573207Z",
     "shell.execute_reply": "2022-05-13T16:25:03.573718Z",
     "shell.execute_reply.started": "2022-05-04T01:58:26.144368Z"
    },
    "papermill": {
     "duration": 0.17522,
     "end_time": "2022-05-13T16:25:03.573908",
     "exception": false,
     "start_time": "2022-05-13T16:25:03.398688",
     "status": "completed"
    },
    "tags": []
   },
   "outputs": [],
   "source": [
    "stats_merged = pd.merge(stats_data, metadata, how=\"left\", on=\"id_point\")\n",
    "stats_merged.head()"
   ]
  },
  {
   "cell_type": "code",
   "execution_count": null,
   "id": "14604ad0",
   "metadata": {
    "execution": {
     "iopub.execute_input": "2022-05-13T16:25:03.864835Z",
     "iopub.status.busy": "2022-05-13T16:25:03.855266Z",
     "iopub.status.idle": "2022-05-13T16:25:03.904103Z",
     "shell.execute_reply": "2022-05-13T16:25:03.904640Z",
     "shell.execute_reply.started": "2022-05-04T01:58:32.54441Z"
    },
    "papermill": {
     "duration": 0.192931,
     "end_time": "2022-05-13T16:25:03.904817",
     "exception": false,
     "start_time": "2022-05-13T16:25:03.711886",
     "status": "completed"
    },
    "tags": []
   },
   "outputs": [],
   "source": [
    "metadata.T"
   ]
  },
  {
   "cell_type": "markdown",
   "id": "9767327f",
   "metadata": {
    "papermill": {
     "duration": 0.139882,
     "end_time": "2022-05-13T16:25:04.190025",
     "exception": false,
     "start_time": "2022-05-13T16:25:04.050143",
     "status": "completed"
    },
    "tags": []
   },
   "source": [
    "Finally, plot! we want to visualize the mean temperature of the points, colored by the building name."
   ]
  },
  {
   "cell_type": "code",
   "execution_count": null,
   "id": "d249be6f",
   "metadata": {
    "execution": {
     "iopub.execute_input": "2022-05-13T16:25:04.486049Z",
     "iopub.status.busy": "2022-05-13T16:25:04.485295Z",
     "iopub.status.idle": "2022-05-13T16:25:11.219728Z",
     "shell.execute_reply": "2022-05-13T16:25:11.220241Z",
     "shell.execute_reply.started": "2022-05-04T01:58:45.196447Z"
    },
    "papermill": {
     "duration": 6.890633,
     "end_time": "2022-05-13T16:25:11.220439",
     "exception": false,
     "start_time": "2022-05-13T16:25:04.329806",
     "status": "completed"
    },
    "tags": []
   },
   "outputs": [],
   "source": [
    "fig = sns.barplot(data=stats_merged, x=\"id_point\", y=\"mean\", hue=\"name_bdg\", dodge=False)\n",
    "labels = plt.xticks(rotation=90)"
   ]
  },
  {
   "cell_type": "code",
   "execution_count": null,
   "id": "cbb8e7db",
   "metadata": {
    "papermill": {
     "duration": 0.143408,
     "end_time": "2022-05-13T16:25:11.511388",
     "exception": false,
     "start_time": "2022-05-13T16:25:11.367980",
     "status": "completed"
    },
    "tags": []
   },
   "outputs": [],
   "source": []
  }
 ],
 "metadata": {
  "kernelspec": {
   "display_name": "Python 3 (ipykernel)",
   "language": "python",
   "name": "python3"
  },
  "language_info": {
   "codemirror_mode": {
    "name": "ipython",
    "version": 3
   },
   "file_extension": ".py",
   "mimetype": "text/x-python",
   "name": "python",
   "nbconvert_exporter": "python",
   "pygments_lexer": "ipython3",
   "version": "3.8.5"
  },
  "papermill": {
   "default_parameters": {},
   "duration": 192.25275,
   "end_time": "2022-05-13T16:25:13.067333",
   "environment_variables": {},
   "exception": null,
   "input_path": "__notebook__.ipynb",
   "output_path": "__notebook__.ipynb",
   "parameters": {},
   "start_time": "2022-05-13T16:22:00.814583",
   "version": "2.3.3"
  }
 },
 "nbformat": 4,
 "nbformat_minor": 5
}
