{
 "cells": [
  {
   "cell_type": "markdown",
   "id": "76cc80fa",
   "metadata": {
    "papermill": {
     "duration": 0.082603,
     "end_time": "2022-05-13T16:22:11.477159",
     "exception": false,
     "start_time": "2022-05-13T16:22:11.394556",
     "status": "completed"
    },
    "tags": []
   },
   "source": [
    "# Time Series Analysis Examples\n",
    "In this notebook we will be transforming and exploring time-series data from Onboard API. Make sure to run the following chunk of code first in order to install it.\n",
    "\n",
    "How to query time-series from data points, process and visually explore them. This notebook is outlined in several YouTube videos that discuss:\n",
    "- how [to load and filter time-series data](https://youtu.be/KDThdyes8kc) from sensors\n",
    "- [resample and transform time-series data](https://youtu.be/VlQNGwiSSKM)\n",
    "- and [create heat maps and boxplots of data](https://youtu.be/QMr0y9LOlr8) for exploration"
   ]
  },
  {
   "cell_type": "code",
   "execution_count": 1,
   "id": "adf956fa",
   "metadata": {
    "execution": {
     "iopub.execute_input": "2022-05-13T16:22:25.248391Z",
     "iopub.status.busy": "2022-05-13T16:22:25.247721Z",
     "iopub.status.idle": "2022-05-13T16:22:25.387229Z",
     "shell.execute_reply": "2022-05-13T16:22:25.388051Z",
     "shell.execute_reply.started": "2022-05-04T01:29:00.25444Z"
    },
    "papermill": {
     "duration": 0.23365,
     "end_time": "2022-05-13T16:22:25.388267",
     "exception": false,
     "start_time": "2022-05-13T16:22:25.154617",
     "status": "completed"
    },
    "tags": []
   },
   "outputs": [],
   "source": [
    "import pandas as pd\n",
    "from onboard.client import RtemClient"
   ]
  },
  {
   "cell_type": "markdown",
   "id": "08993eea",
   "metadata": {
    "papermill": {
     "duration": 0.087019,
     "end_time": "2022-05-13T16:22:25.562206",
     "exception": false,
     "start_time": "2022-05-13T16:22:25.475187",
     "status": "completed"
    },
    "tags": []
   },
   "source": [
    "# Create the client"
   ]
  },
  {
   "cell_type": "markdown",
   "id": "922eea5e",
   "metadata": {
    "papermill": {
     "duration": 0.085554,
     "end_time": "2022-05-13T16:22:25.736877",
     "exception": false,
     "start_time": "2022-05-13T16:22:25.651323",
     "status": "completed"
    },
    "tags": []
   },
   "source": [
    "For this notebook, you need to use the API Key with acces to the general scope and building:read scope. Let's create the client:"
   ]
  },
  {
   "cell_type": "code",
   "execution_count": 2,
   "id": "0d7c70d2",
   "metadata": {
    "execution": {
     "iopub.execute_input": "2022-05-13T16:22:25.913818Z",
     "iopub.status.busy": "2022-05-13T16:22:25.913100Z",
     "iopub.status.idle": "2022-05-13T16:22:25.915977Z",
     "shell.execute_reply": "2022-05-13T16:22:25.916657Z",
     "shell.execute_reply.started": "2022-05-04T01:29:05.439395Z"
    },
    "papermill": {
     "duration": 0.093458,
     "end_time": "2022-05-13T16:22:25.916844",
     "exception": false,
     "start_time": "2022-05-13T16:22:25.823386",
     "status": "completed"
    },
    "tags": []
   },
   "outputs": [],
   "source": [
    "api_key = 'ob-p-_KnPccpVFOwKvS5u_SpKixHjKKq6H1JvrzwjxISOfPiNKKZ56_EeE5ORVJOGGtx0d_k'"
   ]
  },
  {
   "cell_type": "code",
   "execution_count": 3,
   "id": "2293751b",
   "metadata": {
    "execution": {
     "iopub.execute_input": "2022-05-13T16:22:26.844180Z",
     "iopub.status.busy": "2022-05-13T16:22:26.843356Z",
     "iopub.status.idle": "2022-05-13T16:22:26.848246Z",
     "shell.execute_reply": "2022-05-13T16:22:26.847722Z",
     "shell.execute_reply.started": "2022-05-04T01:29:08.893873Z"
    },
    "papermill": {
     "duration": 0.095438,
     "end_time": "2022-05-13T16:22:26.848389",
     "exception": false,
     "start_time": "2022-05-13T16:22:26.752951",
     "status": "completed"
    },
    "tags": []
   },
   "outputs": [],
   "source": [
    "client = RtemClient(api_key=api_key)"
   ]
  },
  {
   "cell_type": "markdown",
   "id": "67366ba7",
   "metadata": {
    "papermill": {
     "duration": 0.088361,
     "end_time": "2022-05-13T16:22:27.024529",
     "exception": false,
     "start_time": "2022-05-13T16:22:26.936168",
     "status": "completed"
    },
    "tags": []
   },
   "source": [
    "# Load & filter data"
   ]
  },
  {
   "cell_type": "markdown",
   "id": "24dc1042",
   "metadata": {
    "papermill": {
     "duration": 0.086231,
     "end_time": "2022-05-13T16:22:27.197739",
     "exception": false,
     "start_time": "2022-05-13T16:22:27.111508",
     "status": "completed"
    },
    "tags": []
   },
   "source": [
    "We will be using the metadata file we obtained from Onboard API in the previous notebook. Of course you can query these points again, but let's learn how to load and filter the data using *pandas*:"
   ]
  },
  {
   "cell_type": "code",
   "execution_count": 4,
   "id": "2c9d386b",
   "metadata": {
    "execution": {
     "iopub.execute_input": "2022-05-13T16:22:27.378162Z",
     "iopub.status.busy": "2022-05-13T16:22:27.377526Z",
     "iopub.status.idle": "2022-05-13T16:22:27.859725Z",
     "shell.execute_reply": "2022-05-13T16:22:27.860215Z",
     "shell.execute_reply.started": "2022-05-04T01:30:24.572709Z"
    },
    "papermill": {
     "duration": 0.575997,
     "end_time": "2022-05-13T16:22:27.860423",
     "exception": false,
     "start_time": "2022-05-13T16:22:27.284426",
     "status": "completed"
    },
    "tags": []
   },
   "outputs": [],
   "source": [
    "metadata = pd.read_csv(\"./rtem_all_points_metadata.csv\")"
   ]
  },
  {
   "cell_type": "markdown",
   "id": "2be238a6",
   "metadata": {
    "papermill": {
     "duration": 0.086013,
     "end_time": "2022-05-13T16:22:28.033894",
     "exception": false,
     "start_time": "2022-05-13T16:22:27.947881",
     "status": "completed"
    },
    "tags": []
   },
   "source": [
    "Let's check the data types:"
   ]
  },
  {
   "cell_type": "code",
   "execution_count": 5,
   "id": "f2cdae24",
   "metadata": {
    "execution": {
     "iopub.execute_input": "2022-05-13T16:22:28.219997Z",
     "iopub.status.busy": "2022-05-13T16:22:28.218982Z",
     "iopub.status.idle": "2022-05-13T16:22:28.290668Z",
     "shell.execute_reply": "2022-05-13T16:22:28.291377Z",
     "shell.execute_reply.started": "2022-05-04T01:30:27.006363Z"
    },
    "papermill": {
     "duration": 0.168678,
     "end_time": "2022-05-13T16:22:28.291630",
     "exception": false,
     "start_time": "2022-05-13T16:22:28.122952",
     "status": "completed"
    },
    "tags": []
   },
   "outputs": [
    {
     "name": "stdout",
     "output_type": "stream",
     "text": [
      "<class 'pandas.core.frame.DataFrame'>\n",
      "RangeIndex: 44390 entries, 0 to 44389\n",
      "Data columns (total 24 columns):\n",
      " #   Column            Non-Null Count  Dtype  \n",
      "---  ------            --------------  -----  \n",
      " 0   id_point          44390 non-null  int64  \n",
      " 1   building_id       44390 non-null  int64  \n",
      " 2   last_updated      44342 non-null  float64\n",
      " 3   first_updated     44342 non-null  float64\n",
      " 4   device            0 non-null      float64\n",
      " 5   objectId          0 non-null      float64\n",
      " 6   name_point        14658 non-null  object \n",
      " 7   description       31843 non-null  object \n",
      " 8   units             31687 non-null  object \n",
      " 9   tagged_units      14654 non-null  object \n",
      " 10  raw_unit_id       44390 non-null  int64  \n",
      " 11  value             44274 non-null  object \n",
      " 12  type              44390 non-null  object \n",
      " 13  point_type_id     44390 non-null  int64  \n",
      " 14  measurement_id    44390 non-null  int64  \n",
      " 15  datasource_hash   44390 non-null  object \n",
      " 16  topic             44390 non-null  object \n",
      " 17  equip_id          44390 non-null  int64  \n",
      " 18  id_bdg            44390 non-null  int64  \n",
      " 19  name_bdg          44390 non-null  int64  \n",
      " 20  equip_type_abbr   44390 non-null  object \n",
      " 21  equip_type_name   44390 non-null  object \n",
      " 22  area_served_desc  0 non-null      float64\n",
      " 23  tags              44390 non-null  object \n",
      "dtypes: float64(5), int64(8), object(11)\n",
      "memory usage: 8.1+ MB\n"
     ]
    }
   ],
   "source": [
    "metadata.info()"
   ]
  },
  {
   "cell_type": "code",
   "execution_count": 6,
   "id": "df38d637",
   "metadata": {
    "execution": {
     "iopub.execute_input": "2022-05-13T16:22:28.472523Z",
     "iopub.status.busy": "2022-05-13T16:22:28.470051Z",
     "iopub.status.idle": "2022-05-13T16:22:28.507993Z",
     "shell.execute_reply": "2022-05-13T16:22:28.508549Z",
     "shell.execute_reply.started": "2022-05-04T01:30:46.750421Z"
    },
    "papermill": {
     "duration": 0.1292,
     "end_time": "2022-05-13T16:22:28.508729",
     "exception": false,
     "start_time": "2022-05-13T16:22:28.379529",
     "status": "completed"
    },
    "tags": []
   },
   "outputs": [
    {
     "data": {
      "text/html": [
       "<div>\n",
       "<style scoped>\n",
       "    .dataframe tbody tr th:only-of-type {\n",
       "        vertical-align: middle;\n",
       "    }\n",
       "\n",
       "    .dataframe tbody tr th {\n",
       "        vertical-align: top;\n",
       "    }\n",
       "\n",
       "    .dataframe thead th {\n",
       "        text-align: right;\n",
       "    }\n",
       "</style>\n",
       "<table border=\"1\" class=\"dataframe\">\n",
       "  <thead>\n",
       "    <tr style=\"text-align: right;\">\n",
       "      <th></th>\n",
       "      <th>id_point</th>\n",
       "      <th>building_id</th>\n",
       "      <th>last_updated</th>\n",
       "      <th>first_updated</th>\n",
       "      <th>device</th>\n",
       "      <th>objectId</th>\n",
       "      <th>name_point</th>\n",
       "      <th>description</th>\n",
       "      <th>units</th>\n",
       "      <th>tagged_units</th>\n",
       "      <th>...</th>\n",
       "      <th>measurement_id</th>\n",
       "      <th>datasource_hash</th>\n",
       "      <th>topic</th>\n",
       "      <th>equip_id</th>\n",
       "      <th>id_bdg</th>\n",
       "      <th>name_bdg</th>\n",
       "      <th>equip_type_abbr</th>\n",
       "      <th>equip_type_name</th>\n",
       "      <th>area_served_desc</th>\n",
       "      <th>tags</th>\n",
       "    </tr>\n",
       "  </thead>\n",
       "  <tbody>\n",
       "    <tr>\n",
       "      <th>0</th>\n",
       "      <td>310029</td>\n",
       "      <td>441</td>\n",
       "      <td>1.560571e+12</td>\n",
       "      <td>1.550542e+12</td>\n",
       "      <td>NaN</td>\n",
       "      <td>NaN</td>\n",
       "      <td>245 E 149th St. Boiler-1 Fault Code</td>\n",
       "      <td>NaN</td>\n",
       "      <td>?</td>\n",
       "      <td>?</td>\n",
       "      <td>...</td>\n",
       "      <td>18</td>\n",
       "      <td>b115b5053493748f7076ad09f69c4456</td>\n",
       "      <td>nyserda+0000088737+boiler-1+245 E 149th St. Bo...</td>\n",
       "      <td>28797</td>\n",
       "      <td>441</td>\n",
       "      <td>88737</td>\n",
       "      <td>BLR</td>\n",
       "      <td>Boiler</td>\n",
       "      <td>NaN</td>\n",
       "      <td>['boiler', 'hvac']</td>\n",
       "    </tr>\n",
       "    <tr>\n",
       "      <th>1</th>\n",
       "      <td>310009</td>\n",
       "      <td>441</td>\n",
       "      <td>1.560485e+12</td>\n",
       "      <td>1.550701e+12</td>\n",
       "      <td>NaN</td>\n",
       "      <td>NaN</td>\n",
       "      <td>225 E 149th St. Boiler-1 Exhaust Temp</td>\n",
       "      <td>NaN</td>\n",
       "      <td>F</td>\n",
       "      <td>f</td>\n",
       "      <td>...</td>\n",
       "      <td>1</td>\n",
       "      <td>4a1a11502acee3078352da312c40c262</td>\n",
       "      <td>nyserda+0000088737+boiler-1+225 E 149th St. Bo...</td>\n",
       "      <td>28797</td>\n",
       "      <td>441</td>\n",
       "      <td>88737</td>\n",
       "      <td>BLR</td>\n",
       "      <td>Boiler</td>\n",
       "      <td>NaN</td>\n",
       "      <td>['boiler', 'hvac']</td>\n",
       "    </tr>\n",
       "    <tr>\n",
       "      <th>2</th>\n",
       "      <td>310010</td>\n",
       "      <td>441</td>\n",
       "      <td>1.560571e+12</td>\n",
       "      <td>1.550504e+12</td>\n",
       "      <td>NaN</td>\n",
       "      <td>NaN</td>\n",
       "      <td>225 E 149th St. Boiler-1 Fault Code</td>\n",
       "      <td>NaN</td>\n",
       "      <td>?</td>\n",
       "      <td>?</td>\n",
       "      <td>...</td>\n",
       "      <td>18</td>\n",
       "      <td>55882633fe8fb5aac7dac643c99b1af5</td>\n",
       "      <td>nyserda+0000088737+boiler-1+225 E 149th St. Bo...</td>\n",
       "      <td>28797</td>\n",
       "      <td>441</td>\n",
       "      <td>88737</td>\n",
       "      <td>BLR</td>\n",
       "      <td>Boiler</td>\n",
       "      <td>NaN</td>\n",
       "      <td>['boiler', 'hvac']</td>\n",
       "    </tr>\n",
       "    <tr>\n",
       "      <th>3</th>\n",
       "      <td>310011</td>\n",
       "      <td>441</td>\n",
       "      <td>1.560485e+12</td>\n",
       "      <td>1.550504e+12</td>\n",
       "      <td>NaN</td>\n",
       "      <td>NaN</td>\n",
       "      <td>225 E 149th St. Boiler-1 FFWD Temp</td>\n",
       "      <td>NaN</td>\n",
       "      <td>?</td>\n",
       "      <td>?</td>\n",
       "      <td>...</td>\n",
       "      <td>18</td>\n",
       "      <td>831a8df09b848f53e807fa0204c45eaa</td>\n",
       "      <td>nyserda+0000088737+boiler-1+225 E 149th St. Bo...</td>\n",
       "      <td>28797</td>\n",
       "      <td>441</td>\n",
       "      <td>88737</td>\n",
       "      <td>BLR</td>\n",
       "      <td>Boiler</td>\n",
       "      <td>NaN</td>\n",
       "      <td>['boiler', 'hvac']</td>\n",
       "    </tr>\n",
       "    <tr>\n",
       "      <th>4</th>\n",
       "      <td>310012</td>\n",
       "      <td>441</td>\n",
       "      <td>1.560485e+12</td>\n",
       "      <td>1.550504e+12</td>\n",
       "      <td>NaN</td>\n",
       "      <td>NaN</td>\n",
       "      <td>225 E 149th St. Boiler-1 Fire Rate In</td>\n",
       "      <td>NaN</td>\n",
       "      <td>?</td>\n",
       "      <td>?</td>\n",
       "      <td>...</td>\n",
       "      <td>18</td>\n",
       "      <td>aa147c829c7ed55b6e93cdbbb8b43d55</td>\n",
       "      <td>nyserda+0000088737+boiler-1+225 E 149th St. Bo...</td>\n",
       "      <td>28797</td>\n",
       "      <td>441</td>\n",
       "      <td>88737</td>\n",
       "      <td>BLR</td>\n",
       "      <td>Boiler</td>\n",
       "      <td>NaN</td>\n",
       "      <td>['boiler', 'hvac']</td>\n",
       "    </tr>\n",
       "  </tbody>\n",
       "</table>\n",
       "<p>5 rows × 24 columns</p>\n",
       "</div>"
      ],
      "text/plain": [
       "   id_point  building_id  last_updated  first_updated  device  objectId  \\\n",
       "0    310029          441  1.560571e+12   1.550542e+12     NaN       NaN   \n",
       "1    310009          441  1.560485e+12   1.550701e+12     NaN       NaN   \n",
       "2    310010          441  1.560571e+12   1.550504e+12     NaN       NaN   \n",
       "3    310011          441  1.560485e+12   1.550504e+12     NaN       NaN   \n",
       "4    310012          441  1.560485e+12   1.550504e+12     NaN       NaN   \n",
       "\n",
       "                              name_point description units tagged_units  ...  \\\n",
       "0    245 E 149th St. Boiler-1 Fault Code         NaN     ?            ?  ...   \n",
       "1  225 E 149th St. Boiler-1 Exhaust Temp         NaN     F            f  ...   \n",
       "2    225 E 149th St. Boiler-1 Fault Code         NaN     ?            ?  ...   \n",
       "3     225 E 149th St. Boiler-1 FFWD Temp         NaN     ?            ?  ...   \n",
       "4  225 E 149th St. Boiler-1 Fire Rate In         NaN     ?            ?  ...   \n",
       "\n",
       "   measurement_id                   datasource_hash  \\\n",
       "0              18  b115b5053493748f7076ad09f69c4456   \n",
       "1               1  4a1a11502acee3078352da312c40c262   \n",
       "2              18  55882633fe8fb5aac7dac643c99b1af5   \n",
       "3              18  831a8df09b848f53e807fa0204c45eaa   \n",
       "4              18  aa147c829c7ed55b6e93cdbbb8b43d55   \n",
       "\n",
       "                                               topic  equip_id  id_bdg  \\\n",
       "0  nyserda+0000088737+boiler-1+245 E 149th St. Bo...     28797     441   \n",
       "1  nyserda+0000088737+boiler-1+225 E 149th St. Bo...     28797     441   \n",
       "2  nyserda+0000088737+boiler-1+225 E 149th St. Bo...     28797     441   \n",
       "3  nyserda+0000088737+boiler-1+225 E 149th St. Bo...     28797     441   \n",
       "4  nyserda+0000088737+boiler-1+225 E 149th St. Bo...     28797     441   \n",
       "\n",
       "  name_bdg equip_type_abbr  equip_type_name  area_served_desc  \\\n",
       "0    88737             BLR           Boiler               NaN   \n",
       "1    88737             BLR           Boiler               NaN   \n",
       "2    88737             BLR           Boiler               NaN   \n",
       "3    88737             BLR           Boiler               NaN   \n",
       "4    88737             BLR           Boiler               NaN   \n",
       "\n",
       "                 tags  \n",
       "0  ['boiler', 'hvac']  \n",
       "1  ['boiler', 'hvac']  \n",
       "2  ['boiler', 'hvac']  \n",
       "3  ['boiler', 'hvac']  \n",
       "4  ['boiler', 'hvac']  \n",
       "\n",
       "[5 rows x 24 columns]"
      ]
     },
     "execution_count": 6,
     "metadata": {},
     "output_type": "execute_result"
    }
   ],
   "source": [
    "metadata.head()"
   ]
  },
  {
   "cell_type": "markdown",
   "id": "7d3f668f",
   "metadata": {
    "papermill": {
     "duration": 0.088525,
     "end_time": "2022-05-13T16:22:28.686552",
     "exception": false,
     "start_time": "2022-05-13T16:22:28.598027",
     "status": "completed"
    },
    "tags": []
   },
   "source": [
    "We have a lot of points here:"
   ]
  },
  {
   "cell_type": "code",
   "execution_count": 7,
   "id": "4cee78e3",
   "metadata": {
    "execution": {
     "iopub.execute_input": "2022-05-13T16:22:28.869339Z",
     "iopub.status.busy": "2022-05-13T16:22:28.868279Z",
     "iopub.status.idle": "2022-05-13T16:22:28.872357Z",
     "shell.execute_reply": "2022-05-13T16:22:28.871813Z",
     "shell.execute_reply.started": "2022-05-04T01:31:10.656197Z"
    },
    "papermill": {
     "duration": 0.096718,
     "end_time": "2022-05-13T16:22:28.872557",
     "exception": false,
     "start_time": "2022-05-13T16:22:28.775839",
     "status": "completed"
    },
    "tags": []
   },
   "outputs": [
    {
     "data": {
      "text/plain": [
       "44390"
      ]
     },
     "execution_count": 7,
     "metadata": {},
     "output_type": "execute_result"
    }
   ],
   "source": [
    "len(metadata.id_point)"
   ]
  },
  {
   "cell_type": "markdown",
   "id": "88da2117",
   "metadata": {
    "papermill": {
     "duration": 0.089319,
     "end_time": "2022-05-13T16:22:29.049750",
     "exception": false,
     "start_time": "2022-05-13T16:22:28.960431",
     "status": "completed"
    },
    "tags": []
   },
   "source": [
    "Let's filter out only the Zone Temperature sensors -that's the `type_id` 77, you can confirm this querying the ontology data, like we did in the previous notebook ;)- and that are Fan Coil Units:"
   ]
  },
  {
   "cell_type": "code",
   "execution_count": 8,
   "id": "5c5f7991",
   "metadata": {
    "execution": {
     "iopub.execute_input": "2022-05-13T16:22:29.231313Z",
     "iopub.status.busy": "2022-05-13T16:22:29.230324Z",
     "iopub.status.idle": "2022-05-13T16:22:29.245501Z",
     "shell.execute_reply": "2022-05-13T16:22:29.246015Z",
     "shell.execute_reply.started": "2022-05-04T01:32:03.014508Z"
    },
    "papermill": {
     "duration": 0.108664,
     "end_time": "2022-05-13T16:22:29.246189",
     "exception": false,
     "start_time": "2022-05-13T16:22:29.137525",
     "status": "completed"
    },
    "tags": []
   },
   "outputs": [],
   "source": [
    "# boiler_data = metadata[(metadata.equip_type_name == \"Boiler\")]\n",
    "# pump_data = metadata[(metadata.equip_type_name == \"Pump\")]\n",
    "# hws_data = metadata[(metadata.equip_type_name == \"Hot Water Plant\")]"
   ]
  },
  {
   "cell_type": "code",
   "execution_count": 5,
   "id": "054239f3",
   "metadata": {},
   "outputs": [],
   "source": [
    "ahu_data = metadata[(metadata.equip_type_name == \"Air Handling Unit\")]"
   ]
  },
  {
   "cell_type": "code",
   "execution_count": 10,
   "id": "0439a6b7",
   "metadata": {},
   "outputs": [],
   "source": [
    "ahu_data.head()\n",
    "ahu_data.to_csv('sample.csv')"
   ]
  },
  {
   "cell_type": "code",
   "execution_count": 7,
   "id": "80604525",
   "metadata": {},
   "outputs": [
    {
     "data": {
      "text/plain": [
       "array([140, 191, 434, 271, 285, 297, 322, 419, 470, 314, 455, 105, 107,\n",
       "       417, 472, 118, 477, 443, 438, 478, 485, 418, 450, 473, 452, 489,\n",
       "        99, 479, 474, 134, 130, 420, 475, 103, 142, 503, 385, 471, 108,\n",
       "       279, 481, 101, 492, 258, 119, 121, 120, 122, 110, 151, 115, 125,\n",
       "       126, 486, 465, 132, 137, 147, 146, 162, 165, 168, 172, 173, 167,\n",
       "       160, 174, 175, 164, 179, 139, 177, 185, 187, 188, 201, 202, 205,\n",
       "       210, 220, 225, 226, 236, 234, 246, 252, 259, 242, 264, 274, 277,\n",
       "       282, 265, 286, 288, 294, 302, 307, 311, 324, 327, 350, 354, 361,\n",
       "       372, 378, 380, 396, 386, 387, 389, 390, 391, 394, 393, 123, 155,\n",
       "       157, 158, 166, 260, 316, 353, 383, 398, 399])"
      ]
     },
     "execution_count": 7,
     "metadata": {},
     "output_type": "execute_result"
    }
   ],
   "source": [
    "ahu_data['building_id'].unique()"
   ]
  },
  {
   "cell_type": "code",
   "execution_count": 6,
   "id": "3bab30ab",
   "metadata": {},
   "outputs": [
    {
     "data": {
      "text/plain": [
       "array([18092, 18093, 18094, ..., 22747, 32352, 32353])"
      ]
     },
     "execution_count": 6,
     "metadata": {},
     "output_type": "execute_result"
    }
   ],
   "source": [
    "ahu_data['equip_id'].unique()"
   ]
  },
  {
   "cell_type": "code",
   "execution_count": 12,
   "id": "ee0d4aa9",
   "metadata": {
    "scrolled": true
   },
   "outputs": [
    {
     "data": {
      "text/html": [
       "<div>\n",
       "<style scoped>\n",
       "    .dataframe tbody tr th:only-of-type {\n",
       "        vertical-align: middle;\n",
       "    }\n",
       "\n",
       "    .dataframe tbody tr th {\n",
       "        vertical-align: top;\n",
       "    }\n",
       "\n",
       "    .dataframe thead th {\n",
       "        text-align: right;\n",
       "    }\n",
       "</style>\n",
       "<table border=\"1\" class=\"dataframe\">\n",
       "  <thead>\n",
       "    <tr style=\"text-align: right;\">\n",
       "      <th></th>\n",
       "      <th>id_point</th>\n",
       "      <th>building_id</th>\n",
       "      <th>last_updated</th>\n",
       "      <th>first_updated</th>\n",
       "      <th>device</th>\n",
       "      <th>objectId</th>\n",
       "      <th>name_point</th>\n",
       "      <th>description</th>\n",
       "      <th>units</th>\n",
       "      <th>tagged_units</th>\n",
       "      <th>...</th>\n",
       "      <th>measurement_id</th>\n",
       "      <th>datasource_hash</th>\n",
       "      <th>topic</th>\n",
       "      <th>equip_id</th>\n",
       "      <th>id_bdg</th>\n",
       "      <th>name_bdg</th>\n",
       "      <th>equip_type_abbr</th>\n",
       "      <th>equip_type_name</th>\n",
       "      <th>area_served_desc</th>\n",
       "      <th>tags</th>\n",
       "    </tr>\n",
       "  </thead>\n",
       "  <tbody>\n",
       "    <tr>\n",
       "      <th>1326</th>\n",
       "      <td>198131</td>\n",
       "      <td>140</td>\n",
       "      <td>1.551416e+12</td>\n",
       "      <td>1.509509e+12</td>\n",
       "      <td>NaN</td>\n",
       "      <td>NaN</td>\n",
       "      <td>NaN</td>\n",
       "      <td>UPCM-1 AH-1 Gallery_Mixed Air Temp</td>\n",
       "      <td>F</td>\n",
       "      <td>NaN</td>\n",
       "      <td>...</td>\n",
       "      <td>1</td>\n",
       "      <td>603cdedfc8c6efd774c2ebe9a62b33a8</td>\n",
       "      <td>nyserda+0000083483+ahu1-gallery+UPCM-1 AH-1 Ga...</td>\n",
       "      <td>18092</td>\n",
       "      <td>140</td>\n",
       "      <td>83483</td>\n",
       "      <td>AHU</td>\n",
       "      <td>Air Handling Unit</td>\n",
       "      <td>NaN</td>\n",
       "      <td>['ahu', 'hvac']</td>\n",
       "    </tr>\n",
       "    <tr>\n",
       "      <th>1397</th>\n",
       "      <td>198220</td>\n",
       "      <td>140</td>\n",
       "      <td>1.551416e+12</td>\n",
       "      <td>1.509509e+12</td>\n",
       "      <td>NaN</td>\n",
       "      <td>NaN</td>\n",
       "      <td>NaN</td>\n",
       "      <td>UPCM-2 AH-2 2nd Floor_Mixed Air Temp</td>\n",
       "      <td>F</td>\n",
       "      <td>NaN</td>\n",
       "      <td>...</td>\n",
       "      <td>1</td>\n",
       "      <td>3e9a73baa2a23bb6d2512641a0deda36</td>\n",
       "      <td>nyserda+0000083483+ahu2-floor2+UPCM-2 AH-2 2nd...</td>\n",
       "      <td>18094</td>\n",
       "      <td>140</td>\n",
       "      <td>83483</td>\n",
       "      <td>AHU</td>\n",
       "      <td>Air Handling Unit</td>\n",
       "      <td>NaN</td>\n",
       "      <td>['ahu', 'hvac']</td>\n",
       "    </tr>\n",
       "    <tr>\n",
       "      <th>2213</th>\n",
       "      <td>267505</td>\n",
       "      <td>419</td>\n",
       "      <td>1.567915e+12</td>\n",
       "      <td>1.551967e+12</td>\n",
       "      <td>NaN</td>\n",
       "      <td>NaN</td>\n",
       "      <td>NaN</td>\n",
       "      <td>221 E 71st St Mechanical Room Marymount  AHU-1...</td>\n",
       "      <td>F</td>\n",
       "      <td>NaN</td>\n",
       "      <td>...</td>\n",
       "      <td>1</td>\n",
       "      <td>9cb7b76801c0073bedf1d5fea96b8110</td>\n",
       "      <td>nyserda+0000116399+ahu-1+221 E 71st St Mechani...</td>\n",
       "      <td>25962</td>\n",
       "      <td>419</td>\n",
       "      <td>116399</td>\n",
       "      <td>AHU</td>\n",
       "      <td>Air Handling Unit</td>\n",
       "      <td>NaN</td>\n",
       "      <td>['ahu', 'hvac']</td>\n",
       "    </tr>\n",
       "    <tr>\n",
       "      <th>2227</th>\n",
       "      <td>267522</td>\n",
       "      <td>419</td>\n",
       "      <td>1.567916e+12</td>\n",
       "      <td>1.551967e+12</td>\n",
       "      <td>NaN</td>\n",
       "      <td>NaN</td>\n",
       "      <td>NaN</td>\n",
       "      <td>221 E 71st St AHU-10 Mixed Air Temp</td>\n",
       "      <td>F</td>\n",
       "      <td>NaN</td>\n",
       "      <td>...</td>\n",
       "      <td>1</td>\n",
       "      <td>273ce8975e94a7567937781e039e695a</td>\n",
       "      <td>nyserda+0000116399+ahu-10+221 E 71st St AHU-10...</td>\n",
       "      <td>25963</td>\n",
       "      <td>419</td>\n",
       "      <td>116399</td>\n",
       "      <td>AHU</td>\n",
       "      <td>Air Handling Unit</td>\n",
       "      <td>NaN</td>\n",
       "      <td>['ahu', 'hvac']</td>\n",
       "    </tr>\n",
       "    <tr>\n",
       "      <th>2244</th>\n",
       "      <td>267544</td>\n",
       "      <td>419</td>\n",
       "      <td>1.567916e+12</td>\n",
       "      <td>1.551967e+12</td>\n",
       "      <td>NaN</td>\n",
       "      <td>NaN</td>\n",
       "      <td>NaN</td>\n",
       "      <td>221 E 71st St AHU-2 Mixed Air Temp</td>\n",
       "      <td>F</td>\n",
       "      <td>NaN</td>\n",
       "      <td>...</td>\n",
       "      <td>1</td>\n",
       "      <td>cb3f889c867ebee5f0e305ebe6442dc1</td>\n",
       "      <td>nyserda+0000116399+ahu-2+221 E 71st St AHU-2 M...</td>\n",
       "      <td>25964</td>\n",
       "      <td>419</td>\n",
       "      <td>116399</td>\n",
       "      <td>AHU</td>\n",
       "      <td>Air Handling Unit</td>\n",
       "      <td>NaN</td>\n",
       "      <td>['ahu', 'hvac']</td>\n",
       "    </tr>\n",
       "    <tr>\n",
       "      <th>...</th>\n",
       "      <td>...</td>\n",
       "      <td>...</td>\n",
       "      <td>...</td>\n",
       "      <td>...</td>\n",
       "      <td>...</td>\n",
       "      <td>...</td>\n",
       "      <td>...</td>\n",
       "      <td>...</td>\n",
       "      <td>...</td>\n",
       "      <td>...</td>\n",
       "      <td>...</td>\n",
       "      <td>...</td>\n",
       "      <td>...</td>\n",
       "      <td>...</td>\n",
       "      <td>...</td>\n",
       "      <td>...</td>\n",
       "      <td>...</td>\n",
       "      <td>...</td>\n",
       "      <td>...</td>\n",
       "      <td>...</td>\n",
       "      <td>...</td>\n",
       "    </tr>\n",
       "    <tr>\n",
       "      <th>42550</th>\n",
       "      <td>229883</td>\n",
       "      <td>391</td>\n",
       "      <td>1.577768e+12</td>\n",
       "      <td>1.560782e+12</td>\n",
       "      <td>NaN</td>\n",
       "      <td>NaN</td>\n",
       "      <td>NaN</td>\n",
       "      <td>L_AH3_MAT</td>\n",
       "      <td>F</td>\n",
       "      <td>NaN</td>\n",
       "      <td>...</td>\n",
       "      <td>1</td>\n",
       "      <td>8a695e4671ceebec5a84c3b0dec1506d</td>\n",
       "      <td>nyserda+0000123698+ahu3+L_AH3_MAT</td>\n",
       "      <td>22589</td>\n",
       "      <td>391</td>\n",
       "      <td>123698</td>\n",
       "      <td>AHU</td>\n",
       "      <td>Air Handling Unit</td>\n",
       "      <td>NaN</td>\n",
       "      <td>['ahu', 'hvac']</td>\n",
       "    </tr>\n",
       "    <tr>\n",
       "      <th>42769</th>\n",
       "      <td>230095</td>\n",
       "      <td>394</td>\n",
       "      <td>1.546318e+12</td>\n",
       "      <td>1.514783e+12</td>\n",
       "      <td>NaN</td>\n",
       "      <td>NaN</td>\n",
       "      <td>NaN</td>\n",
       "      <td>HVAC AC1 MAT</td>\n",
       "      <td>F</td>\n",
       "      <td>NaN</td>\n",
       "      <td>...</td>\n",
       "      <td>1</td>\n",
       "      <td>ffd8a42e22442211f2742cb5a42325da</td>\n",
       "      <td>nyserda+0000080880+ac1+HVAC AC1 MAT</td>\n",
       "      <td>22630</td>\n",
       "      <td>394</td>\n",
       "      <td>80880</td>\n",
       "      <td>AHU</td>\n",
       "      <td>Air Handling Unit</td>\n",
       "      <td>NaN</td>\n",
       "      <td>['ahu', 'hvac']</td>\n",
       "    </tr>\n",
       "    <tr>\n",
       "      <th>44243</th>\n",
       "      <td>230969</td>\n",
       "      <td>398</td>\n",
       "      <td>1.577768e+12</td>\n",
       "      <td>1.554845e+12</td>\n",
       "      <td>NaN</td>\n",
       "      <td>NaN</td>\n",
       "      <td>NaN</td>\n",
       "      <td>AC-25-1_MaTmp</td>\n",
       "      <td>F</td>\n",
       "      <td>NaN</td>\n",
       "      <td>...</td>\n",
       "      <td>1</td>\n",
       "      <td>0333f2263b2291bdb6e8d511e8ae47da</td>\n",
       "      <td>nyserda+0000109188+ac25-1+AC-25-1_MaTmp</td>\n",
       "      <td>22734</td>\n",
       "      <td>398</td>\n",
       "      <td>109188</td>\n",
       "      <td>AHU</td>\n",
       "      <td>Air Handling Unit</td>\n",
       "      <td>NaN</td>\n",
       "      <td>['ahu', 'hvac']</td>\n",
       "    </tr>\n",
       "    <tr>\n",
       "      <th>44260</th>\n",
       "      <td>231000</td>\n",
       "      <td>398</td>\n",
       "      <td>1.577768e+12</td>\n",
       "      <td>1.554845e+12</td>\n",
       "      <td>NaN</td>\n",
       "      <td>NaN</td>\n",
       "      <td>NaN</td>\n",
       "      <td>AC-4-1_MaTmp</td>\n",
       "      <td>F</td>\n",
       "      <td>NaN</td>\n",
       "      <td>...</td>\n",
       "      <td>1</td>\n",
       "      <td>5bc07319ee8a1f22dec9f34ad698d934</td>\n",
       "      <td>nyserda+0000109188+ac4-1+AC-4-1_MaTmp</td>\n",
       "      <td>22735</td>\n",
       "      <td>398</td>\n",
       "      <td>109188</td>\n",
       "      <td>AHU</td>\n",
       "      <td>Air Handling Unit</td>\n",
       "      <td>NaN</td>\n",
       "      <td>['ahu', 'hvac']</td>\n",
       "    </tr>\n",
       "    <tr>\n",
       "      <th>44295</th>\n",
       "      <td>231030</td>\n",
       "      <td>398</td>\n",
       "      <td>1.577768e+12</td>\n",
       "      <td>1.554845e+12</td>\n",
       "      <td>NaN</td>\n",
       "      <td>NaN</td>\n",
       "      <td>NaN</td>\n",
       "      <td>AC-9-1_MaTmp</td>\n",
       "      <td>F</td>\n",
       "      <td>NaN</td>\n",
       "      <td>...</td>\n",
       "      <td>1</td>\n",
       "      <td>2e7b9cb55b578177e7e896e484b1ced7</td>\n",
       "      <td>nyserda+0000109188+ac9-1+AC-9-1_MaTmp</td>\n",
       "      <td>22736</td>\n",
       "      <td>398</td>\n",
       "      <td>109188</td>\n",
       "      <td>AHU</td>\n",
       "      <td>Air Handling Unit</td>\n",
       "      <td>NaN</td>\n",
       "      <td>['ahu', 'hvac']</td>\n",
       "    </tr>\n",
       "  </tbody>\n",
       "</table>\n",
       "<p>232 rows × 24 columns</p>\n",
       "</div>"
      ],
      "text/plain": [
       "       id_point  building_id  last_updated  first_updated  device  objectId  \\\n",
       "1326     198131          140  1.551416e+12   1.509509e+12     NaN       NaN   \n",
       "1397     198220          140  1.551416e+12   1.509509e+12     NaN       NaN   \n",
       "2213     267505          419  1.567915e+12   1.551967e+12     NaN       NaN   \n",
       "2227     267522          419  1.567916e+12   1.551967e+12     NaN       NaN   \n",
       "2244     267544          419  1.567916e+12   1.551967e+12     NaN       NaN   \n",
       "...         ...          ...           ...            ...     ...       ...   \n",
       "42550    229883          391  1.577768e+12   1.560782e+12     NaN       NaN   \n",
       "42769    230095          394  1.546318e+12   1.514783e+12     NaN       NaN   \n",
       "44243    230969          398  1.577768e+12   1.554845e+12     NaN       NaN   \n",
       "44260    231000          398  1.577768e+12   1.554845e+12     NaN       NaN   \n",
       "44295    231030          398  1.577768e+12   1.554845e+12     NaN       NaN   \n",
       "\n",
       "      name_point                                        description units  \\\n",
       "1326         NaN                 UPCM-1 AH-1 Gallery_Mixed Air Temp     F   \n",
       "1397         NaN               UPCM-2 AH-2 2nd Floor_Mixed Air Temp     F   \n",
       "2213         NaN  221 E 71st St Mechanical Room Marymount  AHU-1...     F   \n",
       "2227         NaN                221 E 71st St AHU-10 Mixed Air Temp     F   \n",
       "2244         NaN                 221 E 71st St AHU-2 Mixed Air Temp     F   \n",
       "...          ...                                                ...   ...   \n",
       "42550        NaN                                          L_AH3_MAT     F   \n",
       "42769        NaN                                       HVAC AC1 MAT     F   \n",
       "44243        NaN                                      AC-25-1_MaTmp     F   \n",
       "44260        NaN                                       AC-4-1_MaTmp     F   \n",
       "44295        NaN                                       AC-9-1_MaTmp     F   \n",
       "\n",
       "      tagged_units  ...  measurement_id                   datasource_hash  \\\n",
       "1326           NaN  ...               1  603cdedfc8c6efd774c2ebe9a62b33a8   \n",
       "1397           NaN  ...               1  3e9a73baa2a23bb6d2512641a0deda36   \n",
       "2213           NaN  ...               1  9cb7b76801c0073bedf1d5fea96b8110   \n",
       "2227           NaN  ...               1  273ce8975e94a7567937781e039e695a   \n",
       "2244           NaN  ...               1  cb3f889c867ebee5f0e305ebe6442dc1   \n",
       "...            ...  ...             ...                               ...   \n",
       "42550          NaN  ...               1  8a695e4671ceebec5a84c3b0dec1506d   \n",
       "42769          NaN  ...               1  ffd8a42e22442211f2742cb5a42325da   \n",
       "44243          NaN  ...               1  0333f2263b2291bdb6e8d511e8ae47da   \n",
       "44260          NaN  ...               1  5bc07319ee8a1f22dec9f34ad698d934   \n",
       "44295          NaN  ...               1  2e7b9cb55b578177e7e896e484b1ced7   \n",
       "\n",
       "                                                   topic  equip_id  id_bdg  \\\n",
       "1326   nyserda+0000083483+ahu1-gallery+UPCM-1 AH-1 Ga...     18092     140   \n",
       "1397   nyserda+0000083483+ahu2-floor2+UPCM-2 AH-2 2nd...     18094     140   \n",
       "2213   nyserda+0000116399+ahu-1+221 E 71st St Mechani...     25962     419   \n",
       "2227   nyserda+0000116399+ahu-10+221 E 71st St AHU-10...     25963     419   \n",
       "2244   nyserda+0000116399+ahu-2+221 E 71st St AHU-2 M...     25964     419   \n",
       "...                                                  ...       ...     ...   \n",
       "42550                  nyserda+0000123698+ahu3+L_AH3_MAT     22589     391   \n",
       "42769                nyserda+0000080880+ac1+HVAC AC1 MAT     22630     394   \n",
       "44243            nyserda+0000109188+ac25-1+AC-25-1_MaTmp     22734     398   \n",
       "44260              nyserda+0000109188+ac4-1+AC-4-1_MaTmp     22735     398   \n",
       "44295              nyserda+0000109188+ac9-1+AC-9-1_MaTmp     22736     398   \n",
       "\n",
       "      name_bdg equip_type_abbr    equip_type_name  area_served_desc  \\\n",
       "1326     83483             AHU  Air Handling Unit               NaN   \n",
       "1397     83483             AHU  Air Handling Unit               NaN   \n",
       "2213    116399             AHU  Air Handling Unit               NaN   \n",
       "2227    116399             AHU  Air Handling Unit               NaN   \n",
       "2244    116399             AHU  Air Handling Unit               NaN   \n",
       "...        ...             ...                ...               ...   \n",
       "42550   123698             AHU  Air Handling Unit               NaN   \n",
       "42769    80880             AHU  Air Handling Unit               NaN   \n",
       "44243   109188             AHU  Air Handling Unit               NaN   \n",
       "44260   109188             AHU  Air Handling Unit               NaN   \n",
       "44295   109188             AHU  Air Handling Unit               NaN   \n",
       "\n",
       "                  tags  \n",
       "1326   ['ahu', 'hvac']  \n",
       "1397   ['ahu', 'hvac']  \n",
       "2213   ['ahu', 'hvac']  \n",
       "2227   ['ahu', 'hvac']  \n",
       "2244   ['ahu', 'hvac']  \n",
       "...                ...  \n",
       "42550  ['ahu', 'hvac']  \n",
       "42769  ['ahu', 'hvac']  \n",
       "44243  ['ahu', 'hvac']  \n",
       "44260  ['ahu', 'hvac']  \n",
       "44295  ['ahu', 'hvac']  \n",
       "\n",
       "[232 rows x 24 columns]"
      ]
     },
     "execution_count": 12,
     "metadata": {},
     "output_type": "execute_result"
    }
   ],
   "source": [
    "ahu_mat_data = ahu_data[(ahu_data.type == \"Mixed Air Temperature\")]\n",
    "ahu_mat_data"
   ]
  },
  {
   "cell_type": "code",
   "execution_count": 13,
   "id": "d3a13057",
   "metadata": {},
   "outputs": [
    {
     "data": {
      "text/html": [
       "<div>\n",
       "<style scoped>\n",
       "    .dataframe tbody tr th:only-of-type {\n",
       "        vertical-align: middle;\n",
       "    }\n",
       "\n",
       "    .dataframe tbody tr th {\n",
       "        vertical-align: top;\n",
       "    }\n",
       "\n",
       "    .dataframe thead th {\n",
       "        text-align: right;\n",
       "    }\n",
       "</style>\n",
       "<table border=\"1\" class=\"dataframe\">\n",
       "  <thead>\n",
       "    <tr style=\"text-align: right;\">\n",
       "      <th></th>\n",
       "      <th>id_point</th>\n",
       "      <th>building_id</th>\n",
       "      <th>last_updated</th>\n",
       "      <th>first_updated</th>\n",
       "      <th>device</th>\n",
       "      <th>objectId</th>\n",
       "      <th>name_point</th>\n",
       "      <th>description</th>\n",
       "      <th>units</th>\n",
       "      <th>tagged_units</th>\n",
       "      <th>...</th>\n",
       "      <th>measurement_id</th>\n",
       "      <th>datasource_hash</th>\n",
       "      <th>topic</th>\n",
       "      <th>equip_id</th>\n",
       "      <th>id_bdg</th>\n",
       "      <th>name_bdg</th>\n",
       "      <th>equip_type_abbr</th>\n",
       "      <th>equip_type_name</th>\n",
       "      <th>area_served_desc</th>\n",
       "      <th>tags</th>\n",
       "    </tr>\n",
       "  </thead>\n",
       "  <tbody>\n",
       "    <tr>\n",
       "      <th>1302</th>\n",
       "      <td>198159</td>\n",
       "      <td>140</td>\n",
       "      <td>1.551416e+12</td>\n",
       "      <td>1.518575e+12</td>\n",
       "      <td>NaN</td>\n",
       "      <td>NaN</td>\n",
       "      <td>NaN</td>\n",
       "      <td>UPCM-1 AH-1 Gallery_Supply Air Temp</td>\n",
       "      <td>F</td>\n",
       "      <td>NaN</td>\n",
       "      <td>...</td>\n",
       "      <td>1</td>\n",
       "      <td>987bcb47ca9e78bea7aeca833cecef8b</td>\n",
       "      <td>nyserda+0000083483+ahu1-gallery+UPCM-1 AH-1 Ga...</td>\n",
       "      <td>18092</td>\n",
       "      <td>140</td>\n",
       "      <td>83483</td>\n",
       "      <td>AHU</td>\n",
       "      <td>Air Handling Unit</td>\n",
       "      <td>NaN</td>\n",
       "      <td>['ahu', 'hvac']</td>\n",
       "    </tr>\n",
       "    <tr>\n",
       "      <th>1352</th>\n",
       "      <td>198197</td>\n",
       "      <td>140</td>\n",
       "      <td>1.551416e+12</td>\n",
       "      <td>1.509509e+12</td>\n",
       "      <td>NaN</td>\n",
       "      <td>NaN</td>\n",
       "      <td>NaN</td>\n",
       "      <td>AH-1 Lobby_Supply Air Temp</td>\n",
       "      <td>F</td>\n",
       "      <td>NaN</td>\n",
       "      <td>...</td>\n",
       "      <td>1</td>\n",
       "      <td>f399cb123ef54820ca9de858f3fca923</td>\n",
       "      <td>nyserda+0000083483+ahu1-lobby+AH-1 Lobby_Suppl...</td>\n",
       "      <td>18093</td>\n",
       "      <td>140</td>\n",
       "      <td>83483</td>\n",
       "      <td>AHU</td>\n",
       "      <td>Air Handling Unit</td>\n",
       "      <td>NaN</td>\n",
       "      <td>['ahu', 'hvac']</td>\n",
       "    </tr>\n",
       "    <tr>\n",
       "      <th>1405</th>\n",
       "      <td>198247</td>\n",
       "      <td>140</td>\n",
       "      <td>1.551416e+12</td>\n",
       "      <td>1.518620e+12</td>\n",
       "      <td>NaN</td>\n",
       "      <td>NaN</td>\n",
       "      <td>NaN</td>\n",
       "      <td>UPCM-2 AH-2 2nd Floor_Supply Air Temp</td>\n",
       "      <td>F</td>\n",
       "      <td>NaN</td>\n",
       "      <td>...</td>\n",
       "      <td>1</td>\n",
       "      <td>4bb044197e0865b5aece28acbfd566d1</td>\n",
       "      <td>nyserda+0000083483+ahu2-floor2+UPCM-2 AH-2 2nd...</td>\n",
       "      <td>18094</td>\n",
       "      <td>140</td>\n",
       "      <td>83483</td>\n",
       "      <td>AHU</td>\n",
       "      <td>Air Handling Unit</td>\n",
       "      <td>NaN</td>\n",
       "      <td>['ahu', 'hvac']</td>\n",
       "    </tr>\n",
       "    <tr>\n",
       "      <th>1443</th>\n",
       "      <td>198285</td>\n",
       "      <td>140</td>\n",
       "      <td>1.551416e+12</td>\n",
       "      <td>1.536592e+12</td>\n",
       "      <td>NaN</td>\n",
       "      <td>NaN</td>\n",
       "      <td>NaN</td>\n",
       "      <td>AHU-2-6TH-FLR_Supply Air Temp</td>\n",
       "      <td>F</td>\n",
       "      <td>NaN</td>\n",
       "      <td>...</td>\n",
       "      <td>1</td>\n",
       "      <td>2a80e4185f7b244e78726e0911df7387</td>\n",
       "      <td>nyserda+0000083483+ahu2-floor6+AHU-2-6TH-FLR_S...</td>\n",
       "      <td>18095</td>\n",
       "      <td>140</td>\n",
       "      <td>83483</td>\n",
       "      <td>AHU</td>\n",
       "      <td>Air Handling Unit</td>\n",
       "      <td>NaN</td>\n",
       "      <td>['ahu', 'hvac']</td>\n",
       "    </tr>\n",
       "    <tr>\n",
       "      <th>1654</th>\n",
       "      <td>203561</td>\n",
       "      <td>191</td>\n",
       "      <td>1.562119e+12</td>\n",
       "      <td>1.530562e+12</td>\n",
       "      <td>NaN</td>\n",
       "      <td>NaN</td>\n",
       "      <td>NaN</td>\n",
       "      <td>RTU-1 Front Supply</td>\n",
       "      <td>F</td>\n",
       "      <td>NaN</td>\n",
       "      <td>...</td>\n",
       "      <td>1</td>\n",
       "      <td>4b60eff756d5f4fdb378969a106d9bad</td>\n",
       "      <td>nyserda+0000094414+rtu1+RTU-1 Front Supply</td>\n",
       "      <td>18921</td>\n",
       "      <td>191</td>\n",
       "      <td>94414</td>\n",
       "      <td>AHU</td>\n",
       "      <td>Air Handling Unit</td>\n",
       "      <td>NaN</td>\n",
       "      <td>['ahu', 'hvac', 'rtu']</td>\n",
       "    </tr>\n",
       "    <tr>\n",
       "      <th>...</th>\n",
       "      <td>...</td>\n",
       "      <td>...</td>\n",
       "      <td>...</td>\n",
       "      <td>...</td>\n",
       "      <td>...</td>\n",
       "      <td>...</td>\n",
       "      <td>...</td>\n",
       "      <td>...</td>\n",
       "      <td>...</td>\n",
       "      <td>...</td>\n",
       "      <td>...</td>\n",
       "      <td>...</td>\n",
       "      <td>...</td>\n",
       "      <td>...</td>\n",
       "      <td>...</td>\n",
       "      <td>...</td>\n",
       "      <td>...</td>\n",
       "      <td>...</td>\n",
       "      <td>...</td>\n",
       "      <td>...</td>\n",
       "      <td>...</td>\n",
       "    </tr>\n",
       "    <tr>\n",
       "      <th>44318</th>\n",
       "      <td>231071</td>\n",
       "      <td>398</td>\n",
       "      <td>1.577768e+12</td>\n",
       "      <td>1.571890e+12</td>\n",
       "      <td>NaN</td>\n",
       "      <td>NaN</td>\n",
       "      <td>NaN</td>\n",
       "      <td>AHU_27_02_SATmp</td>\n",
       "      <td>F</td>\n",
       "      <td>NaN</td>\n",
       "      <td>...</td>\n",
       "      <td>1</td>\n",
       "      <td>d261378623a38bdc52e1972dc0b408a2</td>\n",
       "      <td>nyserda+0000109188+ahu27-02+AHU_27_02_SATmp</td>\n",
       "      <td>22738</td>\n",
       "      <td>398</td>\n",
       "      <td>109188</td>\n",
       "      <td>AHU</td>\n",
       "      <td>Air Handling Unit</td>\n",
       "      <td>NaN</td>\n",
       "      <td>['ahu', 'hvac']</td>\n",
       "    </tr>\n",
       "    <tr>\n",
       "      <th>44354</th>\n",
       "      <td>231104</td>\n",
       "      <td>398</td>\n",
       "      <td>1.577768e+12</td>\n",
       "      <td>1.571890e+12</td>\n",
       "      <td>NaN</td>\n",
       "      <td>NaN</td>\n",
       "      <td>NaN</td>\n",
       "      <td>CRAC-23-1_Discharge Air Temperature</td>\n",
       "      <td>F</td>\n",
       "      <td>NaN</td>\n",
       "      <td>...</td>\n",
       "      <td>1</td>\n",
       "      <td>7e2b7c496f2959369a125070ee443bab</td>\n",
       "      <td>nyserda+0000109188+crac23-1+CRAC-23-1_Discharg...</td>\n",
       "      <td>22746</td>\n",
       "      <td>398</td>\n",
       "      <td>109188</td>\n",
       "      <td>AHU</td>\n",
       "      <td>Air Handling Unit</td>\n",
       "      <td>NaN</td>\n",
       "      <td>['ahu', 'hvac']</td>\n",
       "    </tr>\n",
       "    <tr>\n",
       "      <th>44362</th>\n",
       "      <td>231112</td>\n",
       "      <td>398</td>\n",
       "      <td>1.577768e+12</td>\n",
       "      <td>1.571890e+12</td>\n",
       "      <td>NaN</td>\n",
       "      <td>NaN</td>\n",
       "      <td>NaN</td>\n",
       "      <td>CRAC 5-1_Discharge Air Temperature</td>\n",
       "      <td>F</td>\n",
       "      <td>NaN</td>\n",
       "      <td>...</td>\n",
       "      <td>1</td>\n",
       "      <td>afc0b54922060467673b7e2fbb600ed9</td>\n",
       "      <td>nyserda+0000109188+crac5-1+CRAC 5-1_Discharge ...</td>\n",
       "      <td>22747</td>\n",
       "      <td>398</td>\n",
       "      <td>109188</td>\n",
       "      <td>AHU</td>\n",
       "      <td>Air Handling Unit</td>\n",
       "      <td>NaN</td>\n",
       "      <td>['ahu', 'hvac']</td>\n",
       "    </tr>\n",
       "    <tr>\n",
       "      <th>44372</th>\n",
       "      <td>231121</td>\n",
       "      <td>399</td>\n",
       "      <td>1.596254e+12</td>\n",
       "      <td>1.527826e+12</td>\n",
       "      <td>NaN</td>\n",
       "      <td>NaN</td>\n",
       "      <td>AC_S1_DAT_value</td>\n",
       "      <td>AC_S1_DAT_value</td>\n",
       "      <td>F</td>\n",
       "      <td>f</td>\n",
       "      <td>...</td>\n",
       "      <td>1</td>\n",
       "      <td>2911795ee7842d6a496d517e3a89a248</td>\n",
       "      <td>nyserda+0000097151+ac-fan1-supply+AC_S1_DAT_value</td>\n",
       "      <td>32352</td>\n",
       "      <td>399</td>\n",
       "      <td>97151</td>\n",
       "      <td>AHU</td>\n",
       "      <td>Air Handling Unit</td>\n",
       "      <td>NaN</td>\n",
       "      <td>['ahu', 'hvac']</td>\n",
       "    </tr>\n",
       "    <tr>\n",
       "      <th>44374</th>\n",
       "      <td>231123</td>\n",
       "      <td>399</td>\n",
       "      <td>1.596254e+12</td>\n",
       "      <td>1.527826e+12</td>\n",
       "      <td>NaN</td>\n",
       "      <td>NaN</td>\n",
       "      <td>AC_S2_DAT_value</td>\n",
       "      <td>AC_S2_DAT_value</td>\n",
       "      <td>F</td>\n",
       "      <td>f</td>\n",
       "      <td>...</td>\n",
       "      <td>1</td>\n",
       "      <td>7f1fdfdc2e8fedef51359bda0ea41558</td>\n",
       "      <td>nyserda+0000097151+ac-fan2-supply+AC_S2_DAT_value</td>\n",
       "      <td>32353</td>\n",
       "      <td>399</td>\n",
       "      <td>97151</td>\n",
       "      <td>AHU</td>\n",
       "      <td>Air Handling Unit</td>\n",
       "      <td>NaN</td>\n",
       "      <td>['ahu', 'hvac']</td>\n",
       "    </tr>\n",
       "  </tbody>\n",
       "</table>\n",
       "<p>620 rows × 24 columns</p>\n",
       "</div>"
      ],
      "text/plain": [
       "       id_point  building_id  last_updated  first_updated  device  objectId  \\\n",
       "1302     198159          140  1.551416e+12   1.518575e+12     NaN       NaN   \n",
       "1352     198197          140  1.551416e+12   1.509509e+12     NaN       NaN   \n",
       "1405     198247          140  1.551416e+12   1.518620e+12     NaN       NaN   \n",
       "1443     198285          140  1.551416e+12   1.536592e+12     NaN       NaN   \n",
       "1654     203561          191  1.562119e+12   1.530562e+12     NaN       NaN   \n",
       "...         ...          ...           ...            ...     ...       ...   \n",
       "44318    231071          398  1.577768e+12   1.571890e+12     NaN       NaN   \n",
       "44354    231104          398  1.577768e+12   1.571890e+12     NaN       NaN   \n",
       "44362    231112          398  1.577768e+12   1.571890e+12     NaN       NaN   \n",
       "44372    231121          399  1.596254e+12   1.527826e+12     NaN       NaN   \n",
       "44374    231123          399  1.596254e+12   1.527826e+12     NaN       NaN   \n",
       "\n",
       "            name_point                            description units  \\\n",
       "1302               NaN    UPCM-1 AH-1 Gallery_Supply Air Temp     F   \n",
       "1352               NaN             AH-1 Lobby_Supply Air Temp     F   \n",
       "1405               NaN  UPCM-2 AH-2 2nd Floor_Supply Air Temp     F   \n",
       "1443               NaN          AHU-2-6TH-FLR_Supply Air Temp     F   \n",
       "1654               NaN                     RTU-1 Front Supply     F   \n",
       "...                ...                                    ...   ...   \n",
       "44318              NaN                        AHU_27_02_SATmp     F   \n",
       "44354              NaN    CRAC-23-1_Discharge Air Temperature     F   \n",
       "44362              NaN     CRAC 5-1_Discharge Air Temperature     F   \n",
       "44372  AC_S1_DAT_value                        AC_S1_DAT_value     F   \n",
       "44374  AC_S2_DAT_value                        AC_S2_DAT_value     F   \n",
       "\n",
       "      tagged_units  ...  measurement_id                   datasource_hash  \\\n",
       "1302           NaN  ...               1  987bcb47ca9e78bea7aeca833cecef8b   \n",
       "1352           NaN  ...               1  f399cb123ef54820ca9de858f3fca923   \n",
       "1405           NaN  ...               1  4bb044197e0865b5aece28acbfd566d1   \n",
       "1443           NaN  ...               1  2a80e4185f7b244e78726e0911df7387   \n",
       "1654           NaN  ...               1  4b60eff756d5f4fdb378969a106d9bad   \n",
       "...            ...  ...             ...                               ...   \n",
       "44318          NaN  ...               1  d261378623a38bdc52e1972dc0b408a2   \n",
       "44354          NaN  ...               1  7e2b7c496f2959369a125070ee443bab   \n",
       "44362          NaN  ...               1  afc0b54922060467673b7e2fbb600ed9   \n",
       "44372            f  ...               1  2911795ee7842d6a496d517e3a89a248   \n",
       "44374            f  ...               1  7f1fdfdc2e8fedef51359bda0ea41558   \n",
       "\n",
       "                                                   topic  equip_id  id_bdg  \\\n",
       "1302   nyserda+0000083483+ahu1-gallery+UPCM-1 AH-1 Ga...     18092     140   \n",
       "1352   nyserda+0000083483+ahu1-lobby+AH-1 Lobby_Suppl...     18093     140   \n",
       "1405   nyserda+0000083483+ahu2-floor2+UPCM-2 AH-2 2nd...     18094     140   \n",
       "1443   nyserda+0000083483+ahu2-floor6+AHU-2-6TH-FLR_S...     18095     140   \n",
       "1654          nyserda+0000094414+rtu1+RTU-1 Front Supply     18921     191   \n",
       "...                                                  ...       ...     ...   \n",
       "44318        nyserda+0000109188+ahu27-02+AHU_27_02_SATmp     22738     398   \n",
       "44354  nyserda+0000109188+crac23-1+CRAC-23-1_Discharg...     22746     398   \n",
       "44362  nyserda+0000109188+crac5-1+CRAC 5-1_Discharge ...     22747     398   \n",
       "44372  nyserda+0000097151+ac-fan1-supply+AC_S1_DAT_value     32352     399   \n",
       "44374  nyserda+0000097151+ac-fan2-supply+AC_S2_DAT_value     32353     399   \n",
       "\n",
       "      name_bdg equip_type_abbr    equip_type_name  area_served_desc  \\\n",
       "1302     83483             AHU  Air Handling Unit               NaN   \n",
       "1352     83483             AHU  Air Handling Unit               NaN   \n",
       "1405     83483             AHU  Air Handling Unit               NaN   \n",
       "1443     83483             AHU  Air Handling Unit               NaN   \n",
       "1654     94414             AHU  Air Handling Unit               NaN   \n",
       "...        ...             ...                ...               ...   \n",
       "44318   109188             AHU  Air Handling Unit               NaN   \n",
       "44354   109188             AHU  Air Handling Unit               NaN   \n",
       "44362   109188             AHU  Air Handling Unit               NaN   \n",
       "44372    97151             AHU  Air Handling Unit               NaN   \n",
       "44374    97151             AHU  Air Handling Unit               NaN   \n",
       "\n",
       "                         tags  \n",
       "1302          ['ahu', 'hvac']  \n",
       "1352          ['ahu', 'hvac']  \n",
       "1405          ['ahu', 'hvac']  \n",
       "1443          ['ahu', 'hvac']  \n",
       "1654   ['ahu', 'hvac', 'rtu']  \n",
       "...                       ...  \n",
       "44318         ['ahu', 'hvac']  \n",
       "44354         ['ahu', 'hvac']  \n",
       "44362         ['ahu', 'hvac']  \n",
       "44372         ['ahu', 'hvac']  \n",
       "44374         ['ahu', 'hvac']  \n",
       "\n",
       "[620 rows x 24 columns]"
      ]
     },
     "execution_count": 13,
     "metadata": {},
     "output_type": "execute_result"
    }
   ],
   "source": [
    "ahu_sat_data = ahu_data[(ahu_data.type == \"Supply Air Temperature\")]\n",
    "ahu_sat_data"
   ]
  },
  {
   "cell_type": "code",
   "execution_count": 14,
   "id": "c089039f",
   "metadata": {},
   "outputs": [],
   "source": [
    "shared_sat_mat_data = pd.merge(ahu_mat_data,ahu_sat_data, on = \"equip_id\")"
   ]
  },
  {
   "cell_type": "code",
   "execution_count": 15,
   "id": "e4435967",
   "metadata": {},
   "outputs": [
    {
     "data": {
      "text/html": [
       "<div>\n",
       "<style scoped>\n",
       "    .dataframe tbody tr th:only-of-type {\n",
       "        vertical-align: middle;\n",
       "    }\n",
       "\n",
       "    .dataframe tbody tr th {\n",
       "        vertical-align: top;\n",
       "    }\n",
       "\n",
       "    .dataframe thead th {\n",
       "        text-align: right;\n",
       "    }\n",
       "</style>\n",
       "<table border=\"1\" class=\"dataframe\">\n",
       "  <thead>\n",
       "    <tr style=\"text-align: right;\">\n",
       "      <th></th>\n",
       "      <th>id_point_x</th>\n",
       "      <th>building_id_x</th>\n",
       "      <th>last_updated_x</th>\n",
       "      <th>first_updated_x</th>\n",
       "      <th>device_x</th>\n",
       "      <th>objectId_x</th>\n",
       "      <th>name_point_x</th>\n",
       "      <th>description_x</th>\n",
       "      <th>units_x</th>\n",
       "      <th>tagged_units_x</th>\n",
       "      <th>...</th>\n",
       "      <th>point_type_id_y</th>\n",
       "      <th>measurement_id_y</th>\n",
       "      <th>datasource_hash_y</th>\n",
       "      <th>topic_y</th>\n",
       "      <th>id_bdg_y</th>\n",
       "      <th>name_bdg_y</th>\n",
       "      <th>equip_type_abbr_y</th>\n",
       "      <th>equip_type_name_y</th>\n",
       "      <th>area_served_desc_y</th>\n",
       "      <th>tags_y</th>\n",
       "    </tr>\n",
       "  </thead>\n",
       "  <tbody>\n",
       "    <tr>\n",
       "      <th>0</th>\n",
       "      <td>198131</td>\n",
       "      <td>140</td>\n",
       "      <td>1.551416e+12</td>\n",
       "      <td>1.509509e+12</td>\n",
       "      <td>NaN</td>\n",
       "      <td>NaN</td>\n",
       "      <td>NaN</td>\n",
       "      <td>UPCM-1 AH-1 Gallery_Mixed Air Temp</td>\n",
       "      <td>F</td>\n",
       "      <td>NaN</td>\n",
       "      <td>...</td>\n",
       "      <td>425</td>\n",
       "      <td>1</td>\n",
       "      <td>987bcb47ca9e78bea7aeca833cecef8b</td>\n",
       "      <td>nyserda+0000083483+ahu1-gallery+UPCM-1 AH-1 Ga...</td>\n",
       "      <td>140</td>\n",
       "      <td>83483</td>\n",
       "      <td>AHU</td>\n",
       "      <td>Air Handling Unit</td>\n",
       "      <td>NaN</td>\n",
       "      <td>['ahu', 'hvac']</td>\n",
       "    </tr>\n",
       "    <tr>\n",
       "      <th>1</th>\n",
       "      <td>198220</td>\n",
       "      <td>140</td>\n",
       "      <td>1.551416e+12</td>\n",
       "      <td>1.509509e+12</td>\n",
       "      <td>NaN</td>\n",
       "      <td>NaN</td>\n",
       "      <td>NaN</td>\n",
       "      <td>UPCM-2 AH-2 2nd Floor_Mixed Air Temp</td>\n",
       "      <td>F</td>\n",
       "      <td>NaN</td>\n",
       "      <td>...</td>\n",
       "      <td>425</td>\n",
       "      <td>1</td>\n",
       "      <td>4bb044197e0865b5aece28acbfd566d1</td>\n",
       "      <td>nyserda+0000083483+ahu2-floor2+UPCM-2 AH-2 2nd...</td>\n",
       "      <td>140</td>\n",
       "      <td>83483</td>\n",
       "      <td>AHU</td>\n",
       "      <td>Air Handling Unit</td>\n",
       "      <td>NaN</td>\n",
       "      <td>['ahu', 'hvac']</td>\n",
       "    </tr>\n",
       "    <tr>\n",
       "      <th>2</th>\n",
       "      <td>267505</td>\n",
       "      <td>419</td>\n",
       "      <td>1.567915e+12</td>\n",
       "      <td>1.551967e+12</td>\n",
       "      <td>NaN</td>\n",
       "      <td>NaN</td>\n",
       "      <td>NaN</td>\n",
       "      <td>221 E 71st St Mechanical Room Marymount  AHU-1...</td>\n",
       "      <td>F</td>\n",
       "      <td>NaN</td>\n",
       "      <td>...</td>\n",
       "      <td>425</td>\n",
       "      <td>1</td>\n",
       "      <td>bed8a4d5484ab169329d1966fed4658b</td>\n",
       "      <td>nyserda+0000116399+ahu-1+221 E 71st St Mechani...</td>\n",
       "      <td>419</td>\n",
       "      <td>116399</td>\n",
       "      <td>AHU</td>\n",
       "      <td>Air Handling Unit</td>\n",
       "      <td>NaN</td>\n",
       "      <td>['ahu', 'hvac']</td>\n",
       "    </tr>\n",
       "    <tr>\n",
       "      <th>3</th>\n",
       "      <td>267522</td>\n",
       "      <td>419</td>\n",
       "      <td>1.567916e+12</td>\n",
       "      <td>1.551967e+12</td>\n",
       "      <td>NaN</td>\n",
       "      <td>NaN</td>\n",
       "      <td>NaN</td>\n",
       "      <td>221 E 71st St AHU-10 Mixed Air Temp</td>\n",
       "      <td>F</td>\n",
       "      <td>NaN</td>\n",
       "      <td>...</td>\n",
       "      <td>425</td>\n",
       "      <td>1</td>\n",
       "      <td>0ba3da107b5639a2d071e2dfb1f73445</td>\n",
       "      <td>nyserda+0000116399+ahu-10+221 E 71st St AHU-10...</td>\n",
       "      <td>419</td>\n",
       "      <td>116399</td>\n",
       "      <td>AHU</td>\n",
       "      <td>Air Handling Unit</td>\n",
       "      <td>NaN</td>\n",
       "      <td>['ahu', 'hvac']</td>\n",
       "    </tr>\n",
       "    <tr>\n",
       "      <th>4</th>\n",
       "      <td>267544</td>\n",
       "      <td>419</td>\n",
       "      <td>1.567916e+12</td>\n",
       "      <td>1.551967e+12</td>\n",
       "      <td>NaN</td>\n",
       "      <td>NaN</td>\n",
       "      <td>NaN</td>\n",
       "      <td>221 E 71st St AHU-2 Mixed Air Temp</td>\n",
       "      <td>F</td>\n",
       "      <td>NaN</td>\n",
       "      <td>...</td>\n",
       "      <td>425</td>\n",
       "      <td>1</td>\n",
       "      <td>2b923e41a0e3b21dd7874fa4b9cb4403</td>\n",
       "      <td>nyserda+0000116399+ahu-2+221 E 71st St AHU-2 3...</td>\n",
       "      <td>419</td>\n",
       "      <td>116399</td>\n",
       "      <td>AHU</td>\n",
       "      <td>Air Handling Unit</td>\n",
       "      <td>NaN</td>\n",
       "      <td>['ahu', 'hvac']</td>\n",
       "    </tr>\n",
       "    <tr>\n",
       "      <th>...</th>\n",
       "      <td>...</td>\n",
       "      <td>...</td>\n",
       "      <td>...</td>\n",
       "      <td>...</td>\n",
       "      <td>...</td>\n",
       "      <td>...</td>\n",
       "      <td>...</td>\n",
       "      <td>...</td>\n",
       "      <td>...</td>\n",
       "      <td>...</td>\n",
       "      <td>...</td>\n",
       "      <td>...</td>\n",
       "      <td>...</td>\n",
       "      <td>...</td>\n",
       "      <td>...</td>\n",
       "      <td>...</td>\n",
       "      <td>...</td>\n",
       "      <td>...</td>\n",
       "      <td>...</td>\n",
       "      <td>...</td>\n",
       "      <td>...</td>\n",
       "    </tr>\n",
       "    <tr>\n",
       "      <th>225</th>\n",
       "      <td>229883</td>\n",
       "      <td>391</td>\n",
       "      <td>1.577768e+12</td>\n",
       "      <td>1.560782e+12</td>\n",
       "      <td>NaN</td>\n",
       "      <td>NaN</td>\n",
       "      <td>NaN</td>\n",
       "      <td>L_AH3_MAT</td>\n",
       "      <td>F</td>\n",
       "      <td>NaN</td>\n",
       "      <td>...</td>\n",
       "      <td>425</td>\n",
       "      <td>1</td>\n",
       "      <td>11c420640b3dfa8e897bab2f6596297f</td>\n",
       "      <td>nyserda+0000123698+ahu3+L_AH3_DAT</td>\n",
       "      <td>391</td>\n",
       "      <td>123698</td>\n",
       "      <td>AHU</td>\n",
       "      <td>Air Handling Unit</td>\n",
       "      <td>NaN</td>\n",
       "      <td>['ahu', 'hvac']</td>\n",
       "    </tr>\n",
       "    <tr>\n",
       "      <th>226</th>\n",
       "      <td>230095</td>\n",
       "      <td>394</td>\n",
       "      <td>1.546318e+12</td>\n",
       "      <td>1.514783e+12</td>\n",
       "      <td>NaN</td>\n",
       "      <td>NaN</td>\n",
       "      <td>NaN</td>\n",
       "      <td>HVAC AC1 MAT</td>\n",
       "      <td>F</td>\n",
       "      <td>NaN</td>\n",
       "      <td>...</td>\n",
       "      <td>425</td>\n",
       "      <td>1</td>\n",
       "      <td>09555309ff2692ec8c8503b7e7b5f94c</td>\n",
       "      <td>nyserda+0000080880+ac1+HVAC AC1 SATemp</td>\n",
       "      <td>394</td>\n",
       "      <td>80880</td>\n",
       "      <td>AHU</td>\n",
       "      <td>Air Handling Unit</td>\n",
       "      <td>NaN</td>\n",
       "      <td>['ahu', 'hvac']</td>\n",
       "    </tr>\n",
       "    <tr>\n",
       "      <th>227</th>\n",
       "      <td>230969</td>\n",
       "      <td>398</td>\n",
       "      <td>1.577768e+12</td>\n",
       "      <td>1.554845e+12</td>\n",
       "      <td>NaN</td>\n",
       "      <td>NaN</td>\n",
       "      <td>NaN</td>\n",
       "      <td>AC-25-1_MaTmp</td>\n",
       "      <td>F</td>\n",
       "      <td>NaN</td>\n",
       "      <td>...</td>\n",
       "      <td>425</td>\n",
       "      <td>1</td>\n",
       "      <td>1eca6ad2b22d669431c91a1299a23b4c</td>\n",
       "      <td>nyserda+0000109188+ac25-1+AC-25-1_SaTmp</td>\n",
       "      <td>398</td>\n",
       "      <td>109188</td>\n",
       "      <td>AHU</td>\n",
       "      <td>Air Handling Unit</td>\n",
       "      <td>NaN</td>\n",
       "      <td>['ahu', 'hvac']</td>\n",
       "    </tr>\n",
       "    <tr>\n",
       "      <th>228</th>\n",
       "      <td>231000</td>\n",
       "      <td>398</td>\n",
       "      <td>1.577768e+12</td>\n",
       "      <td>1.554845e+12</td>\n",
       "      <td>NaN</td>\n",
       "      <td>NaN</td>\n",
       "      <td>NaN</td>\n",
       "      <td>AC-4-1_MaTmp</td>\n",
       "      <td>F</td>\n",
       "      <td>NaN</td>\n",
       "      <td>...</td>\n",
       "      <td>425</td>\n",
       "      <td>1</td>\n",
       "      <td>a9a15bd33b126e846f86c11033e17dd9</td>\n",
       "      <td>nyserda+0000109188+ac4-1+AC-4-1_SaTmp</td>\n",
       "      <td>398</td>\n",
       "      <td>109188</td>\n",
       "      <td>AHU</td>\n",
       "      <td>Air Handling Unit</td>\n",
       "      <td>NaN</td>\n",
       "      <td>['ahu', 'hvac']</td>\n",
       "    </tr>\n",
       "    <tr>\n",
       "      <th>229</th>\n",
       "      <td>231030</td>\n",
       "      <td>398</td>\n",
       "      <td>1.577768e+12</td>\n",
       "      <td>1.554845e+12</td>\n",
       "      <td>NaN</td>\n",
       "      <td>NaN</td>\n",
       "      <td>NaN</td>\n",
       "      <td>AC-9-1_MaTmp</td>\n",
       "      <td>F</td>\n",
       "      <td>NaN</td>\n",
       "      <td>...</td>\n",
       "      <td>425</td>\n",
       "      <td>1</td>\n",
       "      <td>eb59c842a6267b7863a46ca9bf75749a</td>\n",
       "      <td>nyserda+0000109188+ac9-1+AC-9-1_SaTmp</td>\n",
       "      <td>398</td>\n",
       "      <td>109188</td>\n",
       "      <td>AHU</td>\n",
       "      <td>Air Handling Unit</td>\n",
       "      <td>NaN</td>\n",
       "      <td>['ahu', 'hvac']</td>\n",
       "    </tr>\n",
       "  </tbody>\n",
       "</table>\n",
       "<p>230 rows × 47 columns</p>\n",
       "</div>"
      ],
      "text/plain": [
       "     id_point_x  building_id_x  last_updated_x  first_updated_x  device_x  \\\n",
       "0        198131            140    1.551416e+12     1.509509e+12       NaN   \n",
       "1        198220            140    1.551416e+12     1.509509e+12       NaN   \n",
       "2        267505            419    1.567915e+12     1.551967e+12       NaN   \n",
       "3        267522            419    1.567916e+12     1.551967e+12       NaN   \n",
       "4        267544            419    1.567916e+12     1.551967e+12       NaN   \n",
       "..          ...            ...             ...              ...       ...   \n",
       "225      229883            391    1.577768e+12     1.560782e+12       NaN   \n",
       "226      230095            394    1.546318e+12     1.514783e+12       NaN   \n",
       "227      230969            398    1.577768e+12     1.554845e+12       NaN   \n",
       "228      231000            398    1.577768e+12     1.554845e+12       NaN   \n",
       "229      231030            398    1.577768e+12     1.554845e+12       NaN   \n",
       "\n",
       "     objectId_x name_point_x  \\\n",
       "0           NaN          NaN   \n",
       "1           NaN          NaN   \n",
       "2           NaN          NaN   \n",
       "3           NaN          NaN   \n",
       "4           NaN          NaN   \n",
       "..          ...          ...   \n",
       "225         NaN          NaN   \n",
       "226         NaN          NaN   \n",
       "227         NaN          NaN   \n",
       "228         NaN          NaN   \n",
       "229         NaN          NaN   \n",
       "\n",
       "                                         description_x units_x tagged_units_x  \\\n",
       "0                   UPCM-1 AH-1 Gallery_Mixed Air Temp       F            NaN   \n",
       "1                 UPCM-2 AH-2 2nd Floor_Mixed Air Temp       F            NaN   \n",
       "2    221 E 71st St Mechanical Room Marymount  AHU-1...       F            NaN   \n",
       "3                  221 E 71st St AHU-10 Mixed Air Temp       F            NaN   \n",
       "4                   221 E 71st St AHU-2 Mixed Air Temp       F            NaN   \n",
       "..                                                 ...     ...            ...   \n",
       "225                                          L_AH3_MAT       F            NaN   \n",
       "226                                       HVAC AC1 MAT       F            NaN   \n",
       "227                                      AC-25-1_MaTmp       F            NaN   \n",
       "228                                       AC-4-1_MaTmp       F            NaN   \n",
       "229                                       AC-9-1_MaTmp       F            NaN   \n",
       "\n",
       "     ...  point_type_id_y measurement_id_y                 datasource_hash_y  \\\n",
       "0    ...              425                1  987bcb47ca9e78bea7aeca833cecef8b   \n",
       "1    ...              425                1  4bb044197e0865b5aece28acbfd566d1   \n",
       "2    ...              425                1  bed8a4d5484ab169329d1966fed4658b   \n",
       "3    ...              425                1  0ba3da107b5639a2d071e2dfb1f73445   \n",
       "4    ...              425                1  2b923e41a0e3b21dd7874fa4b9cb4403   \n",
       "..   ...              ...              ...                               ...   \n",
       "225  ...              425                1  11c420640b3dfa8e897bab2f6596297f   \n",
       "226  ...              425                1  09555309ff2692ec8c8503b7e7b5f94c   \n",
       "227  ...              425                1  1eca6ad2b22d669431c91a1299a23b4c   \n",
       "228  ...              425                1  a9a15bd33b126e846f86c11033e17dd9   \n",
       "229  ...              425                1  eb59c842a6267b7863a46ca9bf75749a   \n",
       "\n",
       "                                               topic_y  id_bdg_y name_bdg_y  \\\n",
       "0    nyserda+0000083483+ahu1-gallery+UPCM-1 AH-1 Ga...       140      83483   \n",
       "1    nyserda+0000083483+ahu2-floor2+UPCM-2 AH-2 2nd...       140      83483   \n",
       "2    nyserda+0000116399+ahu-1+221 E 71st St Mechani...       419     116399   \n",
       "3    nyserda+0000116399+ahu-10+221 E 71st St AHU-10...       419     116399   \n",
       "4    nyserda+0000116399+ahu-2+221 E 71st St AHU-2 3...       419     116399   \n",
       "..                                                 ...       ...        ...   \n",
       "225                  nyserda+0000123698+ahu3+L_AH3_DAT       391     123698   \n",
       "226             nyserda+0000080880+ac1+HVAC AC1 SATemp       394      80880   \n",
       "227            nyserda+0000109188+ac25-1+AC-25-1_SaTmp       398     109188   \n",
       "228              nyserda+0000109188+ac4-1+AC-4-1_SaTmp       398     109188   \n",
       "229              nyserda+0000109188+ac9-1+AC-9-1_SaTmp       398     109188   \n",
       "\n",
       "    equip_type_abbr_y  equip_type_name_y  area_served_desc_y           tags_y  \n",
       "0                 AHU  Air Handling Unit                 NaN  ['ahu', 'hvac']  \n",
       "1                 AHU  Air Handling Unit                 NaN  ['ahu', 'hvac']  \n",
       "2                 AHU  Air Handling Unit                 NaN  ['ahu', 'hvac']  \n",
       "3                 AHU  Air Handling Unit                 NaN  ['ahu', 'hvac']  \n",
       "4                 AHU  Air Handling Unit                 NaN  ['ahu', 'hvac']  \n",
       "..                ...                ...                 ...              ...  \n",
       "225               AHU  Air Handling Unit                 NaN  ['ahu', 'hvac']  \n",
       "226               AHU  Air Handling Unit                 NaN  ['ahu', 'hvac']  \n",
       "227               AHU  Air Handling Unit                 NaN  ['ahu', 'hvac']  \n",
       "228               AHU  Air Handling Unit                 NaN  ['ahu', 'hvac']  \n",
       "229               AHU  Air Handling Unit                 NaN  ['ahu', 'hvac']  \n",
       "\n",
       "[230 rows x 47 columns]"
      ]
     },
     "execution_count": 15,
     "metadata": {},
     "output_type": "execute_result"
    }
   ],
   "source": [
    "shared_sat_mat_data"
   ]
  },
  {
   "cell_type": "code",
   "execution_count": 16,
   "id": "6587e3bf",
   "metadata": {},
   "outputs": [],
   "source": [
    "shared_sat_mat_data.to_csv(\"./shared_sat_mat_data.csv\")"
   ]
  },
  {
   "cell_type": "markdown",
   "id": "9ff0fbef",
   "metadata": {
    "papermill": {
     "duration": 0.087721,
     "end_time": "2022-05-13T16:22:29.421858",
     "exception": false,
     "start_time": "2022-05-13T16:22:29.334137",
     "status": "completed"
    },
    "tags": []
   },
   "source": [
    "# Querying time-series: Boiler Heating Hot Water Supply Temp"
   ]
  },
  {
   "cell_type": "markdown",
   "id": "df161911",
   "metadata": {
    "papermill": {
     "duration": 0.08799,
     "end_time": "2022-05-13T16:22:29.599446",
     "exception": false,
     "start_time": "2022-05-13T16:22:29.511456",
     "status": "completed"
    },
    "tags": []
   },
   "source": [
    "Now that we have our metadata filtered it's time to get the time-series of those points. Let's import the libraries we will be using:"
   ]
  },
  {
   "cell_type": "code",
   "execution_count": 17,
   "id": "3e50683a",
   "metadata": {
    "execution": {
     "iopub.execute_input": "2022-05-13T16:22:29.784517Z",
     "iopub.status.busy": "2022-05-13T16:22:29.783430Z",
     "iopub.status.idle": "2022-05-13T16:22:29.788331Z",
     "shell.execute_reply": "2022-05-13T16:22:29.788835Z",
     "shell.execute_reply.started": "2022-05-04T01:32:27.810457Z"
    },
    "papermill": {
     "duration": 0.096793,
     "end_time": "2022-05-13T16:22:29.789024",
     "exception": false,
     "start_time": "2022-05-13T16:22:29.692231",
     "status": "completed"
    },
    "tags": []
   },
   "outputs": [],
   "source": [
    "from datetime import datetime, timezone, timedelta\n",
    "import pytz\n",
    "from onboard.client.models import TimeseriesQuery, PointData\n",
    "from onboard.client.dataframes import points_df_from_streaming_timeseries"
   ]
  },
  {
   "cell_type": "markdown",
   "id": "f9059470",
   "metadata": {
    "papermill": {
     "duration": 0.08761,
     "end_time": "2022-05-13T16:22:29.967108",
     "exception": false,
     "start_time": "2022-05-13T16:22:29.879498",
     "status": "completed"
    },
    "tags": []
   },
   "source": [
    "First, create a list with the points to query. We already filtered our dataset, so it's all the points there:"
   ]
  },
  {
   "cell_type": "code",
   "execution_count": 18,
   "id": "69140c4f",
   "metadata": {
    "execution": {
     "iopub.execute_input": "2022-05-13T16:22:30.148855Z",
     "iopub.status.busy": "2022-05-13T16:22:30.147823Z",
     "iopub.status.idle": "2022-05-13T16:22:30.152485Z",
     "shell.execute_reply": "2022-05-13T16:22:30.153072Z",
     "shell.execute_reply.started": "2022-05-04T01:32:42.550368Z"
    },
    "papermill": {
     "duration": 0.096957,
     "end_time": "2022-05-13T16:22:30.153249",
     "exception": false,
     "start_time": "2022-05-13T16:22:30.056292",
     "status": "completed"
    },
    "tags": []
   },
   "outputs": [],
   "source": [
    "ahu_mat_points = list(ahu_mat_data.id_point)\n",
    "ahu_sat_points = list(ahu_sat_data.id_point)"
   ]
  },
  {
   "cell_type": "code",
   "execution_count": 19,
   "id": "f97aa343",
   "metadata": {},
   "outputs": [
    {
     "data": {
      "text/plain": [
       "[198131,\n",
       " 198220,\n",
       " 267505,\n",
       " 267522,\n",
       " 267544,\n",
       " 267559,\n",
       " 267575,\n",
       " 267592,\n",
       " 267607,\n",
       " 267623,\n",
       " 267635,\n",
       " 267647,\n",
       " 356295,\n",
       " 356230,\n",
       " 356181,\n",
       " 356203,\n",
       " 356248,\n",
       " 356272,\n",
       " 356313,\n",
       " 356336,\n",
       " 356359,\n",
       " 356382,\n",
       " 356404,\n",
       " 357614,\n",
       " 357654,\n",
       " 358173,\n",
       " 358183,\n",
       " 320552,\n",
       " 307603,\n",
       " 307616,\n",
       " 307629,\n",
       " 307645,\n",
       " 307664,\n",
       " 307683,\n",
       " 307724,\n",
       " 307810,\n",
       " 307762,\n",
       " 307832,\n",
       " 307855,\n",
       " 307877,\n",
       " 307915,\n",
       " 307980,\n",
       " 308023,\n",
       " 308068,\n",
       " 308145,\n",
       " 308164,\n",
       " 308086,\n",
       " 308104,\n",
       " 308124,\n",
       " 308182,\n",
       " 308201,\n",
       " 308251,\n",
       " 308235,\n",
       " 308268,\n",
       " 308292,\n",
       " 358552,\n",
       " 358562,\n",
       " 358588,\n",
       " 358539,\n",
       " 358614,\n",
       " 358640,\n",
       " 358666,\n",
       " 358689,\n",
       " 358716,\n",
       " 358739,\n",
       " 358760,\n",
       " 357705,\n",
       " 357717,\n",
       " 357734,\n",
       " 357757,\n",
       " 357749,\n",
       " 357769,\n",
       " 357781,\n",
       " 379479,\n",
       " 379495,\n",
       " 379508,\n",
       " 379518,\n",
       " 379546,\n",
       " 379570,\n",
       " 379596,\n",
       " 379620,\n",
       " 379646,\n",
       " 379669,\n",
       " 379690,\n",
       " 379220,\n",
       " 379246,\n",
       " 379273,\n",
       " 379291,\n",
       " 379320,\n",
       " 378945,\n",
       " 378970,\n",
       " 378996,\n",
       " 379019,\n",
       " 378916,\n",
       " 379043,\n",
       " 379068,\n",
       " 379093,\n",
       " 379118,\n",
       " 379143,\n",
       " 379168,\n",
       " 379194,\n",
       " 358883,\n",
       " 358802,\n",
       " 358820,\n",
       " 358836,\n",
       " 358851,\n",
       " 358869,\n",
       " 358895,\n",
       " 358905,\n",
       " 358916,\n",
       " 358928,\n",
       " 358940,\n",
       " 358955,\n",
       " 358970,\n",
       " 358984,\n",
       " 357828,\n",
       " 357868,\n",
       " 357898,\n",
       " 357934,\n",
       " 358007,\n",
       " 358027,\n",
       " 358050,\n",
       " 358074,\n",
       " 358098,\n",
       " 357296,\n",
       " 357314,\n",
       " 357338,\n",
       " 357376,\n",
       " 357396,\n",
       " 357418,\n",
       " 357444,\n",
       " 357480,\n",
       " 357513,\n",
       " 357531,\n",
       " 212189,\n",
       " 212226,\n",
       " 212264,\n",
       " 212307,\n",
       " 212353,\n",
       " 212398,\n",
       " 212445,\n",
       " 212491,\n",
       " 212527,\n",
       " 359092,\n",
       " 359125,\n",
       " 359158,\n",
       " 191320,\n",
       " 191357,\n",
       " 192585,\n",
       " 380128,\n",
       " 380160,\n",
       " 196698,\n",
       " 196714,\n",
       " 196727,\n",
       " 196746,\n",
       " 196760,\n",
       " 199347,\n",
       " 199431,\n",
       " 414548,\n",
       " 414547,\n",
       " 201616,\n",
       " 201663,\n",
       " 201662,\n",
       " 203857,\n",
       " 203903,\n",
       " 203944,\n",
       " 203990,\n",
       " 204042,\n",
       " 204069,\n",
       " 204395,\n",
       " 204489,\n",
       " 208241,\n",
       " 208240,\n",
       " 208978,\n",
       " 209008,\n",
       " 209039,\n",
       " 209069,\n",
       " 209099,\n",
       " 209129,\n",
       " 209159,\n",
       " 209185,\n",
       " 214112,\n",
       " 214153,\n",
       " 214189,\n",
       " 219473,\n",
       " 219502,\n",
       " 219558,\n",
       " 219609,\n",
       " 222151,\n",
       " 222177,\n",
       " 222201,\n",
       " 222226,\n",
       " 222253,\n",
       " 222279,\n",
       " 222304,\n",
       " 222329,\n",
       " 222355,\n",
       " 222380,\n",
       " 222402,\n",
       " 222424,\n",
       " 222445,\n",
       " 222466,\n",
       " 222491,\n",
       " 222532,\n",
       " 222552,\n",
       " 222590,\n",
       " 222629,\n",
       " 222667,\n",
       " 222688,\n",
       " 222709,\n",
       " 222730,\n",
       " 223358,\n",
       " 227446,\n",
       " 227471,\n",
       " 227496,\n",
       " 227523,\n",
       " 227551,\n",
       " 227578,\n",
       " 227606,\n",
       " 227632,\n",
       " 227674,\n",
       " 227701,\n",
       " 227728,\n",
       " 230542,\n",
       " 230593,\n",
       " 230647,\n",
       " 229827,\n",
       " 229883,\n",
       " 230095,\n",
       " 230969,\n",
       " 231000,\n",
       " 231030]"
      ]
     },
     "execution_count": 19,
     "metadata": {},
     "output_type": "execute_result"
    }
   ],
   "source": [
    "ahu_mat_points"
   ]
  },
  {
   "cell_type": "markdown",
   "id": "cb056cdb",
   "metadata": {
    "papermill": {
     "duration": 0.088116,
     "end_time": "2022-05-13T16:22:30.330071",
     "exception": false,
     "start_time": "2022-05-13T16:22:30.241955",
     "status": "completed"
    },
    "tags": []
   },
   "source": [
    "Let's inspect the datetime period we are working with; we have to convert the `first_updated` and `last_updated` from unix timestamp to a datetime (like we learned in a previous notebook)."
   ]
  },
  {
   "cell_type": "code",
   "execution_count": 20,
   "id": "639e4699",
   "metadata": {
    "execution": {
     "iopub.execute_input": "2022-05-13T16:22:30.510209Z",
     "iopub.status.busy": "2022-05-13T16:22:30.509144Z",
     "iopub.status.idle": "2022-05-13T16:22:30.518609Z",
     "shell.execute_reply": "2022-05-13T16:22:30.517950Z",
     "shell.execute_reply.started": "2022-05-04T01:32:48.752452Z"
    },
    "papermill": {
     "duration": 0.100533,
     "end_time": "2022-05-13T16:22:30.518747",
     "exception": false,
     "start_time": "2022-05-13T16:22:30.418214",
     "status": "completed"
    },
    "tags": []
   },
   "outputs": [
    {
     "name": "stdout",
     "output_type": "stream",
     "text": [
      "2017-06-05 14:30:00+00:00\n",
      "2022-01-06 23:45:00+00:00\n"
     ]
    }
   ],
   "source": [
    "print(ahu_mat_data.first_updated.apply(lambda x: datetime.fromtimestamp(x/1000, timezone.utc)).min())\n",
    "print(ahu_mat_data.last_updated.apply(lambda x: datetime.fromtimestamp(x/1000, timezone.utc)).max())"
   ]
  },
  {
   "cell_type": "code",
   "execution_count": 21,
   "id": "efeebc30",
   "metadata": {},
   "outputs": [
    {
     "name": "stdout",
     "output_type": "stream",
     "text": [
      "2017-03-23 19:00:00+00:00\n",
      "2022-01-06 23:45:00+00:00\n"
     ]
    }
   ],
   "source": [
    "print(ahu_sat_data.first_updated.apply(lambda x: datetime.fromtimestamp(x/1000, timezone.utc)).min())\n",
    "print(ahu_sat_data.last_updated.apply(lambda x: datetime.fromtimestamp(x/1000, timezone.utc)).max())"
   ]
  },
  {
   "cell_type": "markdown",
   "id": "f9ed402e",
   "metadata": {
    "papermill": {
     "duration": 0.091199,
     "end_time": "2022-05-13T16:22:30.891162",
     "exception": false,
     "start_time": "2022-05-13T16:22:30.799963",
     "status": "completed"
    },
    "tags": []
   },
   "source": [
    "Ok, 2017-2018. Let's select a year of data; we are using the [python library datetime](https://docs.python.org/3/library/datetime.html) to create datetime objects. Remember that all the data from the API is in UTC, you have to localize all your datetimes using [PyTZ](https://pythonhosted.org/pytz/) a library designed for that purpose."
   ]
  },
  {
   "cell_type": "code",
   "execution_count": 22,
   "id": "859cfc25",
   "metadata": {
    "execution": {
     "iopub.execute_input": "2022-05-13T16:22:31.076544Z",
     "iopub.status.busy": "2022-05-13T16:22:31.075775Z",
     "iopub.status.idle": "2022-05-13T16:22:31.082643Z",
     "shell.execute_reply": "2022-05-13T16:22:31.083636Z",
     "shell.execute_reply.started": "2022-05-04T01:33:22.341521Z"
    },
    "papermill": {
     "duration": 0.102717,
     "end_time": "2022-05-13T16:22:31.083985",
     "exception": false,
     "start_time": "2022-05-13T16:22:30.981268",
     "status": "completed"
    },
    "tags": []
   },
   "outputs": [
    {
     "name": "stdout",
     "output_type": "stream",
     "text": [
      "from 2018-12-01 00:00:00+00:00 to 2019-03-01 00:00:00+00:00\n"
     ]
    }
   ],
   "source": [
    "# Select your timezone\n",
    "tz = pytz.timezone('UTC')\n",
    "\n",
    "# Select your date and time (time is optional)\n",
    "start = datetime(2018,12,1,0,0,0).replace(tzinfo=tz)\n",
    "end = datetime(2019,3,1,0,0,0).replace(tzinfo=tz)\n",
    "\n",
    "print(f\"from {start} to {end}\")"
   ]
  },
  {
   "cell_type": "markdown",
   "id": "ae0a85ac",
   "metadata": {
    "papermill": {
     "duration": 0.089405,
     "end_time": "2022-05-13T16:22:31.265656",
     "exception": false,
     "start_time": "2022-05-13T16:22:31.176251",
     "status": "completed"
    },
    "tags": []
   },
   "source": [
    "And create the query with all the parameters. Here we are saying \"give me the readings fron 20 january 2017 to 20 january 2018 of the points in `points`\":"
   ]
  },
  {
   "cell_type": "markdown",
   "id": "e8df46c3",
   "metadata": {
    "papermill": {
     "duration": 0.08897,
     "end_time": "2022-05-13T16:22:31.634531",
     "exception": false,
     "start_time": "2022-05-13T16:22:31.545561",
     "status": "completed"
    },
    "tags": []
   },
   "source": [
    "Time to get the data!"
   ]
  },
  {
   "cell_type": "code",
   "execution_count": 23,
   "id": "d7a98a73",
   "metadata": {
    "execution": {
     "iopub.execute_input": "2022-05-13T16:22:31.449380Z",
     "iopub.status.busy": "2022-05-13T16:22:31.448551Z",
     "iopub.status.idle": "2022-05-13T16:22:31.453317Z",
     "shell.execute_reply": "2022-05-13T16:22:31.453879Z",
     "shell.execute_reply.started": "2022-05-04T01:33:43.379341Z"
    },
    "papermill": {
     "duration": 0.09829,
     "end_time": "2022-05-13T16:22:31.454060",
     "exception": false,
     "start_time": "2022-05-13T16:22:31.355770",
     "status": "completed"
    },
    "tags": []
   },
   "outputs": [],
   "source": [
    "i = 165\n",
    "mat_point = shared_sat_mat_data['id_point_x'][i]\n",
    "sat_point = shared_sat_mat_data['id_point_y'][i]\n",
    "\n",
    "timeseries_query_mat = TimeseriesQuery(point_ids = [mat_point], start = start, end = end)\n",
    "timeseries_query_sat = TimeseriesQuery(point_ids = [sat_point], start = start, end = end)"
   ]
  },
  {
   "cell_type": "code",
   "execution_count": 24,
   "id": "66ff7ac9",
   "metadata": {
    "execution": {
     "iopub.execute_input": "2022-05-13T16:22:31.817208Z",
     "iopub.status.busy": "2022-05-13T16:22:31.816312Z",
     "iopub.status.idle": "2022-05-13T16:22:50.173935Z",
     "shell.execute_reply": "2022-05-13T16:22:50.174465Z",
     "shell.execute_reply.started": "2022-05-04T01:33:46.696507Z"
    },
    "papermill": {
     "duration": 18.44967,
     "end_time": "2022-05-13T16:22:50.174664",
     "exception": false,
     "start_time": "2022-05-13T16:22:31.724994",
     "status": "completed"
    },
    "tags": []
   },
   "outputs": [],
   "source": [
    "# Exceute query (will return and object)\n",
    "query_results_mat = client.stream_point_timeseries(timeseries_query_mat)\n",
    "query_results_sat = client.stream_point_timeseries(timeseries_query_sat)\n",
    "\n",
    "# Convert to dataframe\n",
    "data_mat = points_df_from_streaming_timeseries(query_results_mat)\n",
    "data_sat = points_df_from_streaming_timeseries(query_results_sat)"
   ]
  },
  {
   "cell_type": "code",
   "execution_count": 25,
   "id": "18a271c7",
   "metadata": {},
   "outputs": [
    {
     "data": {
      "text/html": [
       "<div>\n",
       "<style scoped>\n",
       "    .dataframe tbody tr th:only-of-type {\n",
       "        vertical-align: middle;\n",
       "    }\n",
       "\n",
       "    .dataframe tbody tr th {\n",
       "        vertical-align: top;\n",
       "    }\n",
       "\n",
       "    .dataframe thead th {\n",
       "        text-align: right;\n",
       "    }\n",
       "</style>\n",
       "<table border=\"1\" class=\"dataframe\">\n",
       "  <thead>\n",
       "    <tr style=\"text-align: right;\">\n",
       "      <th></th>\n",
       "      <th>timestamp</th>\n",
       "      <th>203857</th>\n",
       "    </tr>\n",
       "  </thead>\n",
       "  <tbody>\n",
       "    <tr>\n",
       "      <th>0</th>\n",
       "      <td>2018-12-01T00:15:00Z</td>\n",
       "      <td>63.0</td>\n",
       "    </tr>\n",
       "    <tr>\n",
       "      <th>1</th>\n",
       "      <td>2018-12-01T00:30:00Z</td>\n",
       "      <td>63.0</td>\n",
       "    </tr>\n",
       "    <tr>\n",
       "      <th>2</th>\n",
       "      <td>2018-12-01T00:45:00Z</td>\n",
       "      <td>63.0</td>\n",
       "    </tr>\n",
       "    <tr>\n",
       "      <th>3</th>\n",
       "      <td>2018-12-01T01:00:00Z</td>\n",
       "      <td>63.0</td>\n",
       "    </tr>\n",
       "    <tr>\n",
       "      <th>4</th>\n",
       "      <td>2018-12-01T01:15:00Z</td>\n",
       "      <td>63.0</td>\n",
       "    </tr>\n",
       "    <tr>\n",
       "      <th>...</th>\n",
       "      <td>...</td>\n",
       "      <td>...</td>\n",
       "    </tr>\n",
       "    <tr>\n",
       "      <th>8620</th>\n",
       "      <td>2019-02-28T22:45:00Z</td>\n",
       "      <td>63.2</td>\n",
       "    </tr>\n",
       "    <tr>\n",
       "      <th>8621</th>\n",
       "      <td>2019-02-28T23:00:00Z</td>\n",
       "      <td>63.0</td>\n",
       "    </tr>\n",
       "    <tr>\n",
       "      <th>8622</th>\n",
       "      <td>2019-02-28T23:15:00Z</td>\n",
       "      <td>62.6</td>\n",
       "    </tr>\n",
       "    <tr>\n",
       "      <th>8623</th>\n",
       "      <td>2019-02-28T23:30:00Z</td>\n",
       "      <td>62.3</td>\n",
       "    </tr>\n",
       "    <tr>\n",
       "      <th>8624</th>\n",
       "      <td>2019-02-28T23:45:00Z</td>\n",
       "      <td>62.1</td>\n",
       "    </tr>\n",
       "  </tbody>\n",
       "</table>\n",
       "<p>8625 rows × 2 columns</p>\n",
       "</div>"
      ],
      "text/plain": [
       "                 timestamp  203857\n",
       "0     2018-12-01T00:15:00Z    63.0\n",
       "1     2018-12-01T00:30:00Z    63.0\n",
       "2     2018-12-01T00:45:00Z    63.0\n",
       "3     2018-12-01T01:00:00Z    63.0\n",
       "4     2018-12-01T01:15:00Z    63.0\n",
       "...                    ...     ...\n",
       "8620  2019-02-28T22:45:00Z    63.2\n",
       "8621  2019-02-28T23:00:00Z    63.0\n",
       "8622  2019-02-28T23:15:00Z    62.6\n",
       "8623  2019-02-28T23:30:00Z    62.3\n",
       "8624  2019-02-28T23:45:00Z    62.1\n",
       "\n",
       "[8625 rows x 2 columns]"
      ]
     },
     "execution_count": 25,
     "metadata": {},
     "output_type": "execute_result"
    }
   ],
   "source": [
    "data_mat"
   ]
  },
  {
   "cell_type": "code",
   "execution_count": 26,
   "id": "b8349717",
   "metadata": {},
   "outputs": [
    {
     "data": {
      "text/html": [
       "<div>\n",
       "<style scoped>\n",
       "    .dataframe tbody tr th:only-of-type {\n",
       "        vertical-align: middle;\n",
       "    }\n",
       "\n",
       "    .dataframe tbody tr th {\n",
       "        vertical-align: top;\n",
       "    }\n",
       "\n",
       "    .dataframe thead th {\n",
       "        text-align: right;\n",
       "    }\n",
       "</style>\n",
       "<table border=\"1\" class=\"dataframe\">\n",
       "  <thead>\n",
       "    <tr style=\"text-align: right;\">\n",
       "      <th></th>\n",
       "      <th>timestamp</th>\n",
       "      <th>203883</th>\n",
       "    </tr>\n",
       "  </thead>\n",
       "  <tbody>\n",
       "    <tr>\n",
       "      <th>0</th>\n",
       "      <td>2018-12-01T00:15:00Z</td>\n",
       "      <td>59.7</td>\n",
       "    </tr>\n",
       "    <tr>\n",
       "      <th>1</th>\n",
       "      <td>2018-12-01T00:30:00Z</td>\n",
       "      <td>59.7</td>\n",
       "    </tr>\n",
       "    <tr>\n",
       "      <th>2</th>\n",
       "      <td>2018-12-01T00:45:00Z</td>\n",
       "      <td>59.7</td>\n",
       "    </tr>\n",
       "    <tr>\n",
       "      <th>3</th>\n",
       "      <td>2018-12-01T01:00:00Z</td>\n",
       "      <td>59.7</td>\n",
       "    </tr>\n",
       "    <tr>\n",
       "      <th>4</th>\n",
       "      <td>2018-12-01T01:15:00Z</td>\n",
       "      <td>59.7</td>\n",
       "    </tr>\n",
       "    <tr>\n",
       "      <th>...</th>\n",
       "      <td>...</td>\n",
       "      <td>...</td>\n",
       "    </tr>\n",
       "    <tr>\n",
       "      <th>8620</th>\n",
       "      <td>2019-02-28T22:45:00Z</td>\n",
       "      <td>78.6</td>\n",
       "    </tr>\n",
       "    <tr>\n",
       "      <th>8621</th>\n",
       "      <td>2019-02-28T23:00:00Z</td>\n",
       "      <td>59.7</td>\n",
       "    </tr>\n",
       "    <tr>\n",
       "      <th>8622</th>\n",
       "      <td>2019-02-28T23:15:00Z</td>\n",
       "      <td>57.1</td>\n",
       "    </tr>\n",
       "    <tr>\n",
       "      <th>8623</th>\n",
       "      <td>2019-02-28T23:30:00Z</td>\n",
       "      <td>56.6</td>\n",
       "    </tr>\n",
       "    <tr>\n",
       "      <th>8624</th>\n",
       "      <td>2019-02-28T23:45:00Z</td>\n",
       "      <td>56.4</td>\n",
       "    </tr>\n",
       "  </tbody>\n",
       "</table>\n",
       "<p>8625 rows × 2 columns</p>\n",
       "</div>"
      ],
      "text/plain": [
       "                 timestamp  203883\n",
       "0     2018-12-01T00:15:00Z    59.7\n",
       "1     2018-12-01T00:30:00Z    59.7\n",
       "2     2018-12-01T00:45:00Z    59.7\n",
       "3     2018-12-01T01:00:00Z    59.7\n",
       "4     2018-12-01T01:15:00Z    59.7\n",
       "...                    ...     ...\n",
       "8620  2019-02-28T22:45:00Z    78.6\n",
       "8621  2019-02-28T23:00:00Z    59.7\n",
       "8622  2019-02-28T23:15:00Z    57.1\n",
       "8623  2019-02-28T23:30:00Z    56.6\n",
       "8624  2019-02-28T23:45:00Z    56.4\n",
       "\n",
       "[8625 rows x 2 columns]"
      ]
     },
     "execution_count": 26,
     "metadata": {},
     "output_type": "execute_result"
    }
   ],
   "source": [
    "data_sat"
   ]
  },
  {
   "cell_type": "code",
   "execution_count": 27,
   "id": "e30c9f34",
   "metadata": {},
   "outputs": [],
   "source": [
    "shared_ahu_equip = pd.merge(data_mat,data_sat, on = \"timestamp\")"
   ]
  },
  {
   "cell_type": "markdown",
   "id": "7e2550b3",
   "metadata": {
    "papermill": {
     "duration": 0.08998,
     "end_time": "2022-05-13T16:22:50.575165",
     "exception": false,
     "start_time": "2022-05-13T16:22:50.485185",
     "status": "completed"
    },
    "tags": []
   },
   "source": [
    "Took some time to retreive that data, is a big dataset. Let's export the csv:"
   ]
  },
  {
   "cell_type": "code",
   "execution_count": 28,
   "id": "609c7fed",
   "metadata": {
    "execution": {
     "iopub.execute_input": "2022-05-13T16:22:50.764838Z",
     "iopub.status.busy": "2022-05-13T16:22:50.763792Z",
     "iopub.status.idle": "2022-05-13T16:22:52.310847Z",
     "shell.execute_reply": "2022-05-13T16:22:52.311365Z"
    },
    "papermill": {
     "duration": 1.644652,
     "end_time": "2022-05-13T16:22:52.311606",
     "exception": false,
     "start_time": "2022-05-13T16:22:50.666954",
     "status": "completed"
    },
    "tags": []
   },
   "outputs": [],
   "source": [
    "shared_ahu_equip.to_csv(\"./rtem_ahu_sat_mat_time_series.csv\", index=False)"
   ]
  },
  {
   "cell_type": "code",
   "execution_count": 29,
   "id": "bc38bca6",
   "metadata": {},
   "outputs": [
    {
     "name": "stdout",
     "output_type": "stream",
     "text": [
      "203857\n",
      "203883\n"
     ]
    }
   ],
   "source": [
    "print(mat_point)\n",
    "print(sat_point)"
   ]
  },
  {
   "cell_type": "markdown",
   "id": "22ad916e",
   "metadata": {
    "papermill": {
     "duration": 0.089739,
     "end_time": "2022-05-13T16:22:52.492245",
     "exception": false,
     "start_time": "2022-05-13T16:22:52.402506",
     "status": "completed"
    },
    "tags": []
   },
   "source": [
    "# Resampling"
   ]
  },
  {
   "cell_type": "markdown",
   "id": "d8be6df5",
   "metadata": {
    "papermill": {
     "duration": 0.089832,
     "end_time": "2022-05-13T16:22:52.672179",
     "exception": false,
     "start_time": "2022-05-13T16:22:52.582347",
     "status": "completed"
    },
    "tags": []
   },
   "source": [
    "Let's load the dataset we just exported just to learn one more trick:"
   ]
  },
  {
   "cell_type": "code",
   "execution_count": 30,
   "id": "eddbb6e7",
   "metadata": {
    "execution": {
     "iopub.execute_input": "2022-05-13T16:22:52.858894Z",
     "iopub.status.busy": "2022-05-13T16:22:52.858158Z",
     "iopub.status.idle": "2022-05-13T16:22:53.108303Z",
     "shell.execute_reply": "2022-05-13T16:22:53.107734Z",
     "shell.execute_reply.started": "2022-05-04T01:38:08.710206Z"
    },
    "papermill": {
     "duration": 0.34455,
     "end_time": "2022-05-13T16:22:53.108482",
     "exception": false,
     "start_time": "2022-05-13T16:22:52.763932",
     "status": "completed"
    },
    "tags": []
   },
   "outputs": [
    {
     "data": {
      "text/html": [
       "<div>\n",
       "<style scoped>\n",
       "    .dataframe tbody tr th:only-of-type {\n",
       "        vertical-align: middle;\n",
       "    }\n",
       "\n",
       "    .dataframe tbody tr th {\n",
       "        vertical-align: top;\n",
       "    }\n",
       "\n",
       "    .dataframe thead th {\n",
       "        text-align: right;\n",
       "    }\n",
       "</style>\n",
       "<table border=\"1\" class=\"dataframe\">\n",
       "  <thead>\n",
       "    <tr style=\"text-align: right;\">\n",
       "      <th></th>\n",
       "      <th>timestamp</th>\n",
       "      <th>mat</th>\n",
       "      <th>sat</th>\n",
       "    </tr>\n",
       "  </thead>\n",
       "  <tbody>\n",
       "    <tr>\n",
       "      <th>0</th>\n",
       "      <td>2018-12-01T00:15:00Z</td>\n",
       "      <td>63.0</td>\n",
       "      <td>59.7</td>\n",
       "    </tr>\n",
       "    <tr>\n",
       "      <th>1</th>\n",
       "      <td>2018-12-01T00:30:00Z</td>\n",
       "      <td>63.0</td>\n",
       "      <td>59.7</td>\n",
       "    </tr>\n",
       "    <tr>\n",
       "      <th>2</th>\n",
       "      <td>2018-12-01T00:45:00Z</td>\n",
       "      <td>63.0</td>\n",
       "      <td>59.7</td>\n",
       "    </tr>\n",
       "    <tr>\n",
       "      <th>3</th>\n",
       "      <td>2018-12-01T01:00:00Z</td>\n",
       "      <td>63.0</td>\n",
       "      <td>59.7</td>\n",
       "    </tr>\n",
       "    <tr>\n",
       "      <th>4</th>\n",
       "      <td>2018-12-01T01:15:00Z</td>\n",
       "      <td>63.0</td>\n",
       "      <td>59.7</td>\n",
       "    </tr>\n",
       "  </tbody>\n",
       "</table>\n",
       "</div>"
      ],
      "text/plain": [
       "              timestamp   mat   sat\n",
       "0  2018-12-01T00:15:00Z  63.0  59.7\n",
       "1  2018-12-01T00:30:00Z  63.0  59.7\n",
       "2  2018-12-01T00:45:00Z  63.0  59.7\n",
       "3  2018-12-01T01:00:00Z  63.0  59.7\n",
       "4  2018-12-01T01:15:00Z  63.0  59.7"
      ]
     },
     "execution_count": 30,
     "metadata": {},
     "output_type": "execute_result"
    }
   ],
   "source": [
    "data = pd.read_csv(\"./rtem_ahu_sat_mat_time_series.csv\")\n",
    "data.rename(columns={'203857':'mat', '203883': 'sat'}, inplace=True)\n",
    "data.head()"
   ]
  },
  {
   "cell_type": "code",
   "execution_count": 31,
   "id": "be79b8e8",
   "metadata": {
    "execution": {
     "iopub.execute_input": "2022-05-13T16:22:53.309664Z",
     "iopub.status.busy": "2022-05-13T16:22:53.308936Z",
     "iopub.status.idle": "2022-05-13T16:22:53.313993Z",
     "shell.execute_reply": "2022-05-13T16:22:53.314787Z",
     "shell.execute_reply.started": "2022-05-04T01:38:23.506105Z"
    },
    "papermill": {
     "duration": 0.11281,
     "end_time": "2022-05-13T16:22:53.315116",
     "exception": false,
     "start_time": "2022-05-13T16:22:53.202306",
     "status": "completed"
    },
    "tags": []
   },
   "outputs": [
    {
     "name": "stdout",
     "output_type": "stream",
     "text": [
      "<class 'pandas.core.frame.DataFrame'>\n",
      "RangeIndex: 8625 entries, 0 to 8624\n",
      "Data columns (total 3 columns):\n",
      " #   Column     Non-Null Count  Dtype  \n",
      "---  ------     --------------  -----  \n",
      " 0   timestamp  8625 non-null   object \n",
      " 1   mat        8625 non-null   float64\n",
      " 2   sat        8625 non-null   float64\n",
      "dtypes: float64(2), object(1)\n",
      "memory usage: 202.3+ KB\n"
     ]
    }
   ],
   "source": [
    "data.info()"
   ]
  },
  {
   "cell_type": "markdown",
   "id": "1b2c9798",
   "metadata": {
    "papermill": {
     "duration": 0.093344,
     "end_time": "2022-05-13T16:22:53.501137",
     "exception": false,
     "start_time": "2022-05-13T16:22:53.407793",
     "status": "completed"
    },
    "tags": []
   },
   "source": [
    "The timestamp there is not a datetime object yet. We could have parsed it as date [using the parameter `parse_dates` while reading](https://pandas.pydata.org/docs/reference/api/pandas.read_csv.html) the csv or we can do the following:"
   ]
  },
  {
   "cell_type": "code",
   "execution_count": 32,
   "id": "262ac60c",
   "metadata": {
    "execution": {
     "iopub.execute_input": "2022-05-13T16:22:53.692577Z",
     "iopub.status.busy": "2022-05-13T16:22:53.691600Z",
     "iopub.status.idle": "2022-05-13T16:22:53.706505Z",
     "shell.execute_reply": "2022-05-13T16:22:53.706989Z",
     "shell.execute_reply.started": "2022-05-04T01:38:51.996573Z"
    },
    "papermill": {
     "duration": 0.115101,
     "end_time": "2022-05-13T16:22:53.707177",
     "exception": false,
     "start_time": "2022-05-13T16:22:53.592076",
     "status": "completed"
    },
    "tags": []
   },
   "outputs": [],
   "source": [
    "data[\"timestamp\"] = pd.to_datetime(data['timestamp'], format='%Y-%m-%dT%H:%M:%S.%f')"
   ]
  },
  {
   "cell_type": "code",
   "execution_count": 33,
   "id": "278908c3",
   "metadata": {
    "execution": {
     "iopub.execute_input": "2022-05-13T16:22:53.894687Z",
     "iopub.status.busy": "2022-05-13T16:22:53.892149Z",
     "iopub.status.idle": "2022-05-13T16:22:53.897132Z",
     "shell.execute_reply": "2022-05-13T16:22:53.897647Z",
     "shell.execute_reply.started": "2022-05-04T01:39:01.235452Z"
    },
    "papermill": {
     "duration": 0.099556,
     "end_time": "2022-05-13T16:22:53.897816",
     "exception": false,
     "start_time": "2022-05-13T16:22:53.798260",
     "status": "completed"
    },
    "tags": []
   },
   "outputs": [
    {
     "data": {
      "text/plain": [
       "pandas._libs.tslibs.timestamps.Timestamp"
      ]
     },
     "execution_count": 33,
     "metadata": {},
     "output_type": "execute_result"
    }
   ],
   "source": [
    "type(data.timestamp[0])"
   ]
  },
  {
   "cell_type": "code",
   "execution_count": 34,
   "id": "d41abee6",
   "metadata": {},
   "outputs": [],
   "source": [
    "data.set_index('timestamp', inplace = True)"
   ]
  },
  {
   "cell_type": "markdown",
   "id": "2a46369a",
   "metadata": {
    "papermill": {
     "duration": 0.093945,
     "end_time": "2022-05-13T16:22:54.083031",
     "exception": false,
     "start_time": "2022-05-13T16:22:53.989086",
     "status": "completed"
    },
    "tags": []
   },
   "source": [
    "See? now is a datetime object located in UTC timezone.\n",
    "\n",
    "One important thing when working with time-series data is knowing how to resample it. Let's inspect our data:"
   ]
  },
  {
   "cell_type": "code",
   "execution_count": 35,
   "id": "3eccf6c5",
   "metadata": {
    "execution": {
     "iopub.execute_input": "2022-05-13T16:22:54.273413Z",
     "iopub.status.busy": "2022-05-13T16:22:54.272778Z",
     "iopub.status.idle": "2022-05-13T16:22:54.300674Z",
     "shell.execute_reply": "2022-05-13T16:22:54.301168Z",
     "shell.execute_reply.started": "2022-05-04T01:39:11.78404Z"
    },
    "papermill": {
     "duration": 0.123662,
     "end_time": "2022-05-13T16:22:54.301337",
     "exception": false,
     "start_time": "2022-05-13T16:22:54.177675",
     "status": "completed"
    },
    "tags": []
   },
   "outputs": [
    {
     "data": {
      "text/html": [
       "<div>\n",
       "<style scoped>\n",
       "    .dataframe tbody tr th:only-of-type {\n",
       "        vertical-align: middle;\n",
       "    }\n",
       "\n",
       "    .dataframe tbody tr th {\n",
       "        vertical-align: top;\n",
       "    }\n",
       "\n",
       "    .dataframe thead th {\n",
       "        text-align: right;\n",
       "    }\n",
       "</style>\n",
       "<table border=\"1\" class=\"dataframe\">\n",
       "  <thead>\n",
       "    <tr style=\"text-align: right;\">\n",
       "      <th></th>\n",
       "      <th>mat</th>\n",
       "      <th>sat</th>\n",
       "    </tr>\n",
       "    <tr>\n",
       "      <th>timestamp</th>\n",
       "      <th></th>\n",
       "      <th></th>\n",
       "    </tr>\n",
       "  </thead>\n",
       "  <tbody>\n",
       "    <tr>\n",
       "      <th>2018-12-01 00:15:00+00:00</th>\n",
       "      <td>63.0</td>\n",
       "      <td>59.7</td>\n",
       "    </tr>\n",
       "    <tr>\n",
       "      <th>2018-12-01 00:30:00+00:00</th>\n",
       "      <td>63.0</td>\n",
       "      <td>59.7</td>\n",
       "    </tr>\n",
       "    <tr>\n",
       "      <th>2018-12-01 00:45:00+00:00</th>\n",
       "      <td>63.0</td>\n",
       "      <td>59.7</td>\n",
       "    </tr>\n",
       "    <tr>\n",
       "      <th>2018-12-01 01:00:00+00:00</th>\n",
       "      <td>63.0</td>\n",
       "      <td>59.7</td>\n",
       "    </tr>\n",
       "    <tr>\n",
       "      <th>2018-12-01 01:15:00+00:00</th>\n",
       "      <td>63.0</td>\n",
       "      <td>59.7</td>\n",
       "    </tr>\n",
       "    <tr>\n",
       "      <th>2018-12-01 01:30:00+00:00</th>\n",
       "      <td>63.0</td>\n",
       "      <td>59.7</td>\n",
       "    </tr>\n",
       "    <tr>\n",
       "      <th>2018-12-01 01:45:00+00:00</th>\n",
       "      <td>63.0</td>\n",
       "      <td>59.7</td>\n",
       "    </tr>\n",
       "    <tr>\n",
       "      <th>2018-12-01 02:00:00+00:00</th>\n",
       "      <td>63.0</td>\n",
       "      <td>59.7</td>\n",
       "    </tr>\n",
       "    <tr>\n",
       "      <th>2018-12-01 02:15:00+00:00</th>\n",
       "      <td>63.0</td>\n",
       "      <td>59.7</td>\n",
       "    </tr>\n",
       "    <tr>\n",
       "      <th>2018-12-01 02:30:00+00:00</th>\n",
       "      <td>63.0</td>\n",
       "      <td>59.7</td>\n",
       "    </tr>\n",
       "  </tbody>\n",
       "</table>\n",
       "</div>"
      ],
      "text/plain": [
       "                            mat   sat\n",
       "timestamp                            \n",
       "2018-12-01 00:15:00+00:00  63.0  59.7\n",
       "2018-12-01 00:30:00+00:00  63.0  59.7\n",
       "2018-12-01 00:45:00+00:00  63.0  59.7\n",
       "2018-12-01 01:00:00+00:00  63.0  59.7\n",
       "2018-12-01 01:15:00+00:00  63.0  59.7\n",
       "2018-12-01 01:30:00+00:00  63.0  59.7\n",
       "2018-12-01 01:45:00+00:00  63.0  59.7\n",
       "2018-12-01 02:00:00+00:00  63.0  59.7\n",
       "2018-12-01 02:15:00+00:00  63.0  59.7\n",
       "2018-12-01 02:30:00+00:00  63.0  59.7"
      ]
     },
     "execution_count": 35,
     "metadata": {},
     "output_type": "execute_result"
    }
   ],
   "source": [
    "data.head(10)"
   ]
  },
  {
   "cell_type": "code",
   "execution_count": 36,
   "id": "0f74dd36",
   "metadata": {},
   "outputs": [
    {
     "data": {
      "text/html": [
       "<div>\n",
       "<style scoped>\n",
       "    .dataframe tbody tr th:only-of-type {\n",
       "        vertical-align: middle;\n",
       "    }\n",
       "\n",
       "    .dataframe tbody tr th {\n",
       "        vertical-align: top;\n",
       "    }\n",
       "\n",
       "    .dataframe thead th {\n",
       "        text-align: right;\n",
       "    }\n",
       "</style>\n",
       "<table border=\"1\" class=\"dataframe\">\n",
       "  <thead>\n",
       "    <tr style=\"text-align: right;\">\n",
       "      <th></th>\n",
       "      <th>mat</th>\n",
       "      <th>sat</th>\n",
       "    </tr>\n",
       "    <tr>\n",
       "      <th>timestamp</th>\n",
       "      <th></th>\n",
       "      <th></th>\n",
       "    </tr>\n",
       "  </thead>\n",
       "  <tbody>\n",
       "    <tr>\n",
       "      <th>2018-12-01 00:15:00+00:00</th>\n",
       "      <td>NaN</td>\n",
       "      <td>NaN</td>\n",
       "    </tr>\n",
       "    <tr>\n",
       "      <th>2018-12-01 00:30:00+00:00</th>\n",
       "      <td>NaN</td>\n",
       "      <td>NaN</td>\n",
       "    </tr>\n",
       "    <tr>\n",
       "      <th>2018-12-01 00:45:00+00:00</th>\n",
       "      <td>NaN</td>\n",
       "      <td>NaN</td>\n",
       "    </tr>\n",
       "    <tr>\n",
       "      <th>2018-12-01 01:00:00+00:00</th>\n",
       "      <td>NaN</td>\n",
       "      <td>NaN</td>\n",
       "    </tr>\n",
       "    <tr>\n",
       "      <th>2018-12-01 01:15:00+00:00</th>\n",
       "      <td>63.0</td>\n",
       "      <td>59.7</td>\n",
       "    </tr>\n",
       "  </tbody>\n",
       "</table>\n",
       "</div>"
      ],
      "text/plain": [
       "                            mat   sat\n",
       "timestamp                            \n",
       "2018-12-01 00:15:00+00:00   NaN   NaN\n",
       "2018-12-01 00:30:00+00:00   NaN   NaN\n",
       "2018-12-01 00:45:00+00:00   NaN   NaN\n",
       "2018-12-01 01:00:00+00:00   NaN   NaN\n",
       "2018-12-01 01:15:00+00:00  63.0  59.7"
      ]
     },
     "execution_count": 36,
     "metadata": {},
     "output_type": "execute_result"
    }
   ],
   "source": [
    "rtem_temps_avg = data.rolling(window = 5).mean()\n",
    "# rtem_temps_avg = data\n",
    "\n",
    "rtem_temps_avg.head()"
   ]
  },
  {
   "cell_type": "code",
   "execution_count": 37,
   "id": "5a57ce46",
   "metadata": {},
   "outputs": [
    {
     "data": {
      "text/html": [
       "<div>\n",
       "<style scoped>\n",
       "    .dataframe tbody tr th:only-of-type {\n",
       "        vertical-align: middle;\n",
       "    }\n",
       "\n",
       "    .dataframe tbody tr th {\n",
       "        vertical-align: top;\n",
       "    }\n",
       "\n",
       "    .dataframe thead th {\n",
       "        text-align: right;\n",
       "    }\n",
       "</style>\n",
       "<table border=\"1\" class=\"dataframe\">\n",
       "  <thead>\n",
       "    <tr style=\"text-align: right;\">\n",
       "      <th></th>\n",
       "      <th>mat</th>\n",
       "      <th>sat</th>\n",
       "    </tr>\n",
       "  </thead>\n",
       "  <tbody>\n",
       "    <tr>\n",
       "      <th>count</th>\n",
       "      <td>8621.000000</td>\n",
       "      <td>8621.000000</td>\n",
       "    </tr>\n",
       "    <tr>\n",
       "      <th>mean</th>\n",
       "      <td>60.918571</td>\n",
       "      <td>66.916812</td>\n",
       "    </tr>\n",
       "    <tr>\n",
       "      <th>std</th>\n",
       "      <td>6.972201</td>\n",
       "      <td>18.227900</td>\n",
       "    </tr>\n",
       "    <tr>\n",
       "      <th>min</th>\n",
       "      <td>39.880000</td>\n",
       "      <td>38.700000</td>\n",
       "    </tr>\n",
       "    <tr>\n",
       "      <th>25%</th>\n",
       "      <td>58.820000</td>\n",
       "      <td>56.800000</td>\n",
       "    </tr>\n",
       "    <tr>\n",
       "      <th>50%</th>\n",
       "      <td>63.000000</td>\n",
       "      <td>60.040000</td>\n",
       "    </tr>\n",
       "    <tr>\n",
       "      <th>75%</th>\n",
       "      <td>65.080000</td>\n",
       "      <td>76.660000</td>\n",
       "    </tr>\n",
       "    <tr>\n",
       "      <th>max</th>\n",
       "      <td>73.800000</td>\n",
       "      <td>103.220000</td>\n",
       "    </tr>\n",
       "  </tbody>\n",
       "</table>\n",
       "</div>"
      ],
      "text/plain": [
       "               mat          sat\n",
       "count  8621.000000  8621.000000\n",
       "mean     60.918571    66.916812\n",
       "std       6.972201    18.227900\n",
       "min      39.880000    38.700000\n",
       "25%      58.820000    56.800000\n",
       "50%      63.000000    60.040000\n",
       "75%      65.080000    76.660000\n",
       "max      73.800000   103.220000"
      ]
     },
     "execution_count": 37,
     "metadata": {},
     "output_type": "execute_result"
    }
   ],
   "source": [
    "rtem_temps_avg.describe()"
   ]
  },
  {
   "cell_type": "code",
   "execution_count": 38,
   "id": "2e7ad95e",
   "metadata": {},
   "outputs": [
    {
     "data": {
      "text/plain": [
       "array([<AxesSubplot:xlabel='timestamp'>, <AxesSubplot:xlabel='timestamp'>],\n",
       "      dtype=object)"
      ]
     },
     "execution_count": 38,
     "metadata": {},
     "output_type": "execute_result"
    },
    {
     "data": {
      "image/png": "[encoded data removed]",
      "text/plain": [
       "<Figure size 1800x576 with 2 Axes>"
      ]
     },
     "metadata": {
      "needs_background": "light"
     },
     "output_type": "display_data"
    }
   ],
   "source": [
    "rtem_temps_avg.plot(figsize=(25,8), subplots=True, title='RTEM TEMPS FOR FAULT CONDITION 3 MEASURE')"
   ]
  },
  {
   "cell_type": "code",
   "execution_count": 39,
   "id": "9d21759a",
   "metadata": {},
   "outputs": [],
   "source": [
    "supply_fan_delta_degf = 2.\n",
    "oat_rat_delta_degf_min = 10.\n",
    "supply_degf_err_thres = 2.\n",
    "return_degf_err_thres = 2.\n",
    "mix_degf_err_thres = 5.\n",
    "outdoor_degf_err_thres = 5. # local OAT options Vs global OAT sensor\n",
    "air_flow_percent_thres = .3\n",
    "vfd_speed_percent_err_thres = .05\n",
    "vfd_speed_percent_max = .99\n",
    "duct_static_inches_err_thres = .1\n",
    "delta_os_max = 7.\n",
    "mode_delay = 30.\n",
    "alarm_dely = 30.\n",
    "test_mode_delay = 120."
   ]
  },
  {
   "cell_type": "code",
   "execution_count": 40,
   "id": "9a1f1023",
   "metadata": {},
   "outputs": [],
   "source": [
    "# make an entire column out of these params in the Pandas Dataframe\n",
    "rtem_temps_avg['mix_degf_err_thres'] = mix_degf_err_thres\n",
    "rtem_temps_avg['supply_degf_err_thres'] = supply_degf_err_thres"
   ]
  },
  {
   "cell_type": "code",
   "execution_count": 41,
   "id": "a13ae811",
   "metadata": {},
   "outputs": [
    {
     "data": {
      "text/plain": [
       "Index(['mat', 'sat', 'mix_degf_err_thres', 'supply_degf_err_thres'], dtype='object')"
      ]
     },
     "execution_count": 41,
     "metadata": {},
     "output_type": "execute_result"
    }
   ],
   "source": [
    "rtem_temps_avg.columns"
   ]
  },
  {
   "cell_type": "code",
   "execution_count": 42,
   "id": "47f8bab5",
   "metadata": {},
   "outputs": [],
   "source": [
    "# Create a debug dataframe for later\n",
    "rtem_temps_debug =  rtem_temps_avg.copy()"
   ]
  },
  {
   "cell_type": "code",
   "execution_count": 43,
   "id": "4d8a7932",
   "metadata": {},
   "outputs": [],
   "source": [
    "def fault_condition_three_(dataframe):\n",
    "    return (dataframe.mat - dataframe.mix_degf_err_thres > np.maximum((dataframe.rat + dataframe.return_degf_err_thres) , (dataframe.oat + dataframe.outdoor_degf_err_thres)))"
   ]
  },
  {
   "cell_type": "code",
   "execution_count": 44,
   "id": "07d7f6bb",
   "metadata": {},
   "outputs": [],
   "source": [
    "def fault_condition_five_(dataframe):\n",
    "    return ((dataframe.sat + dataframe.supply_degf_err_thres) <= (dataframe.mat - dataframe.mix_degf_err_thres + supply_fan_delta_degf))"
   ]
  },
  {
   "cell_type": "code",
   "execution_count": 45,
   "id": "0bb83774",
   "metadata": {},
   "outputs": [],
   "source": [
    "import numpy as np\n",
    "\n",
    "rtem_temps_avg['fc5_flag'] = fault_condition_five_(rtem_temps_avg)"
   ]
  },
  {
   "cell_type": "code",
   "execution_count": 46,
   "id": "eb900687",
   "metadata": {},
   "outputs": [
    {
     "data": {
      "text/plain": [
       "False    8046\n",
       "True      579\n",
       "Name: fc5_flag, dtype: int64"
      ]
     },
     "execution_count": 46,
     "metadata": {},
     "output_type": "execute_result"
    }
   ],
   "source": [
    "rtem_temps_avg['fc5_flag'].value_counts()"
   ]
  },
  {
   "cell_type": "code",
   "execution_count": 47,
   "id": "7ce49e91",
   "metadata": {},
   "outputs": [
    {
     "data": {
      "text/plain": [
       "Index(['mat', 'sat', 'mix_degf_err_thres', 'supply_degf_err_thres',\n",
       "       'fc5_flag'],\n",
       "      dtype='object')"
      ]
     },
     "execution_count": 47,
     "metadata": {},
     "output_type": "execute_result"
    }
   ],
   "source": [
    "rtem_temps_avg.columns"
   ]
  },
  {
   "cell_type": "code",
   "execution_count": 48,
   "id": "8f5a4ae5",
   "metadata": {},
   "outputs": [],
   "source": [
    "# change boolean column to int for plots\n",
    "\n",
    "rtem_temps_avg['fc5_flag'] = rtem_temps_avg['fc5_flag'].astype(int)\n",
    "\n",
    "# drop params column for better plot\n",
    "rtem_temps_avg = rtem_temps_avg.drop(['supply_degf_err_thres',\n",
    "                  'mix_degf_err_thres'],axis=1)"
   ]
  },
  {
   "cell_type": "code",
   "execution_count": 49,
   "id": "992080e1",
   "metadata": {},
   "outputs": [],
   "source": [
    "fdd_plot = rtem_temps_avg"
   ]
  },
  {
   "cell_type": "code",
   "execution_count": 50,
   "id": "51e04225",
   "metadata": {},
   "outputs": [
    {
     "data": {
      "text/plain": [
       "Index(['mat', 'sat', 'fc5_flag'], dtype='object')"
      ]
     },
     "execution_count": 50,
     "metadata": {},
     "output_type": "execute_result"
    }
   ],
   "source": [
    "fdd_plot.columns"
   ]
  },
  {
   "cell_type": "code",
   "execution_count": 51,
   "id": "fd221778",
   "metadata": {},
   "outputs": [
    {
     "data": {
      "image/png": "[encoded data removed]",
      "text/plain": [
       "<Figure size 1800x576 with 2 Axes>"
      ]
     },
     "metadata": {
      "needs_background": "light"
     },
     "output_type": "display_data"
    }
   ],
   "source": [
    "import matplotlib.pyplot as plt\n",
    "\n",
    "fig, ax = plt.subplots(figsize=(25,8))\n",
    "\n",
    "plot1a = fdd_plot.mat.plot(ax=ax)\n",
    "plot1b = fdd_plot.sat.plot(ax=ax)\n",
    "plot1d = fdd_plot.fc5_flag.plot(ax=ax, color='k', secondary_y=True)\n",
    "\n",
    "ax.set_ylabel('Temperatures')\n",
    "ax.right_ax.set_ylim(0,1)\n",
    "plt.ylabel('FDD FLAG')\n",
    "\n",
    "ax.set_title(\"RTEM Temp Sensors and FDD 5 Flag\")\n",
    "fig.legend(['mat','sat','fc5_flag'],bbox_to_anchor=(.95, .9))\n",
    "\n",
    "# defining display layout\n",
    "plt.tight_layout()\n",
    "\n",
    "# show plot\n",
    "plt.show()"
   ]
  },
  {
   "cell_type": "markdown",
   "id": "ab9f5c65",
   "metadata": {
    "papermill": {
     "duration": 0.094943,
     "end_time": "2022-05-13T16:22:55.581466",
     "exception": false,
     "start_time": "2022-05-13T16:22:55.486523",
     "status": "completed"
    },
    "tags": []
   },
   "source": [
    "# Plotting"
   ]
  },
  {
   "cell_type": "markdown",
   "id": "bff0c204",
   "metadata": {
    "papermill": {
     "duration": 0.095185,
     "end_time": "2022-05-13T16:22:55.771249",
     "exception": false,
     "start_time": "2022-05-13T16:22:55.676064",
     "status": "completed"
    },
    "tags": []
   },
   "source": [
    "## Lineplots"
   ]
  },
  {
   "cell_type": "markdown",
   "id": "9d77b92d",
   "metadata": {
    "papermill": {
     "duration": 0.09358,
     "end_time": "2022-05-13T16:22:55.959764",
     "exception": false,
     "start_time": "2022-05-13T16:22:55.866184",
     "status": "completed"
    },
    "tags": []
   },
   "source": [
    "We are going to explore our sensors data with some simple lineplots. We are going to use [*Seaborn*](https://seaborn.pydata.org/) which works on [*Matplotlib*](https://matplotlib.org/stable/users/index.html). Let's import them:"
   ]
  },
  {
   "cell_type": "code",
   "execution_count": null,
   "id": "03e836ec",
   "metadata": {
    "execution": {
     "iopub.execute_input": "2022-05-13T16:22:56.153675Z",
     "iopub.status.busy": "2022-05-13T16:22:56.152975Z",
     "iopub.status.idle": "2022-05-13T16:22:57.248874Z",
     "shell.execute_reply": "2022-05-13T16:22:57.248223Z",
     "shell.execute_reply.started": "2022-05-04T01:42:32.937647Z"
    },
    "papermill": {
     "duration": 1.193547,
     "end_time": "2022-05-13T16:22:57.249024",
     "exception": false,
     "start_time": "2022-05-13T16:22:56.055477",
     "status": "completed"
    },
    "tags": []
   },
   "outputs": [],
   "source": [
    "import matplotlib.pyplot as plt\n",
    "import seaborn as sns\n",
    "\n",
    "# This is for the visual stype, I like \"ggplot\"\n",
    "plt.style.use('ggplot')\n",
    "\n",
    "# This for the figure size\n",
    "plt.rcParams[\"figure.figsize\"] = (20,9)"
   ]
  },
  {
   "cell_type": "markdown",
   "id": "923d3995",
   "metadata": {
    "papermill": {
     "duration": 0.09379,
     "end_time": "2022-05-13T16:22:57.437838",
     "exception": false,
     "start_time": "2022-05-13T16:22:57.344048",
     "status": "completed"
    },
    "tags": []
   },
   "source": [
    "Let's plot the raw data of our sensors:"
   ]
  },
  {
   "cell_type": "code",
   "execution_count": null,
   "id": "f8627ca8",
   "metadata": {
    "execution": {
     "iopub.execute_input": "2022-05-13T16:22:57.631622Z",
     "iopub.status.busy": "2022-05-13T16:22:57.630939Z",
     "iopub.status.idle": "2022-05-13T16:22:57.634422Z",
     "shell.execute_reply": "2022-05-13T16:22:57.634896Z",
     "shell.execute_reply.started": "2022-05-04T01:42:36.073616Z"
    },
    "papermill": {
     "duration": 0.103375,
     "end_time": "2022-05-13T16:22:57.635075",
     "exception": false,
     "start_time": "2022-05-13T16:22:57.531700",
     "status": "completed"
    },
    "tags": []
   },
   "outputs": [],
   "source": [
    "# These are the sensors, one per column (first one is the timestamp)\n",
    "cols = data.columns[1:]\n",
    "cols"
   ]
  },
  {
   "cell_type": "code",
   "execution_count": null,
   "id": "4be3b2fc",
   "metadata": {
    "execution": {
     "iopub.execute_input": "2022-05-13T16:22:57.833471Z",
     "iopub.status.busy": "2022-05-13T16:22:57.831674Z",
     "iopub.status.idle": "2022-05-13T16:23:51.611801Z",
     "shell.execute_reply": "2022-05-13T16:23:51.612321Z",
     "shell.execute_reply.started": "2022-05-04T01:42:52.660512Z"
    },
    "papermill": {
     "duration": 53.881976,
     "end_time": "2022-05-13T16:23:51.612519",
     "exception": false,
     "start_time": "2022-05-13T16:22:57.730543",
     "status": "completed"
    },
    "tags": []
   },
   "outputs": [],
   "source": [
    "for col in cols:\n",
    "    plt.figure()\n",
    "    sns.lineplot(data=data, x=\"timestamp\", y=col)"
   ]
  },
  {
   "cell_type": "markdown",
   "id": "6e7e23aa",
   "metadata": {
    "papermill": {
     "duration": 0.102889,
     "end_time": "2022-05-13T16:23:51.816830",
     "exception": false,
     "start_time": "2022-05-13T16:23:51.713941",
     "status": "completed"
    },
    "tags": []
   },
   "source": [
    "We have a huge gap with no data and the rest it's noisy and difficult to see. Let's filter data from september 1st 2017:"
   ]
  },
  {
   "cell_type": "code",
   "execution_count": null,
   "id": "3c78ad98",
   "metadata": {
    "execution": {
     "iopub.execute_input": "2022-05-13T16:23:52.026173Z",
     "iopub.status.busy": "2022-05-13T16:23:52.024830Z",
     "iopub.status.idle": "2022-05-13T16:23:52.035859Z",
     "shell.execute_reply": "2022-05-13T16:23:52.035257Z",
     "shell.execute_reply.started": "2022-05-04T01:45:24.249887Z"
    },
    "papermill": {
     "duration": 0.119209,
     "end_time": "2022-05-13T16:23:52.036007",
     "exception": false,
     "start_time": "2022-05-13T16:23:51.916798",
     "status": "completed"
    },
    "tags": []
   },
   "outputs": [],
   "source": [
    "data = data[data.timestamp >= \"2017-09-01\"]"
   ]
  },
  {
   "cell_type": "markdown",
   "id": "1a57f769",
   "metadata": {
    "papermill": {
     "duration": 0.098121,
     "end_time": "2022-05-13T16:23:52.237013",
     "exception": false,
     "start_time": "2022-05-13T16:23:52.138892",
     "status": "completed"
    },
    "tags": []
   },
   "source": [
    "One useful technique to deal with noisy data is to resample it by hour (or a longer time frequency) aggregating by the mean: this way we can visualize the hourly/daily behaviour more smoothed.\n",
    "\n",
    "But first, let's go deeper into our `timestamp` column. This is a datetime column, meaning that we have some functions to handle the dates better. With [this pandas method](https://pandas.pydata.org/docs/reference/api/pandas.Series.dt.html) we can access our date: we can get the date, the weekday, the hour, the seconds, the minutes; all the information in our date can be obtained.\n",
    "\n",
    "Let's try an example. This is our raw timestamp:"
   ]
  },
  {
   "cell_type": "code",
   "execution_count": null,
   "id": "5af9568c",
   "metadata": {
    "execution": {
     "iopub.execute_input": "2022-05-13T16:23:52.437067Z",
     "iopub.status.busy": "2022-05-13T16:23:52.436161Z",
     "iopub.status.idle": "2022-05-13T16:23:52.443114Z",
     "shell.execute_reply": "2022-05-13T16:23:52.443676Z",
     "shell.execute_reply.started": "2022-05-04T01:45:26.983864Z"
    },
    "papermill": {
     "duration": 0.109081,
     "end_time": "2022-05-13T16:23:52.443855",
     "exception": false,
     "start_time": "2022-05-13T16:23:52.334774",
     "status": "completed"
    },
    "tags": []
   },
   "outputs": [],
   "source": [
    "data.timestamp"
   ]
  },
  {
   "cell_type": "markdown",
   "id": "703828d1",
   "metadata": {
    "papermill": {
     "duration": 0.099134,
     "end_time": "2022-05-13T16:23:52.642493",
     "exception": false,
     "start_time": "2022-05-13T16:23:52.543359",
     "status": "completed"
    },
    "tags": []
   },
   "source": [
    "We can get the date:"
   ]
  },
  {
   "cell_type": "code",
   "execution_count": null,
   "id": "c7df0a3d",
   "metadata": {
    "execution": {
     "iopub.execute_input": "2022-05-13T16:23:52.848468Z",
     "iopub.status.busy": "2022-05-13T16:23:52.847689Z",
     "iopub.status.idle": "2022-05-13T16:23:52.863160Z",
     "shell.execute_reply": "2022-05-13T16:23:52.863681Z",
     "shell.execute_reply.started": "2022-05-04T01:45:37.420565Z"
    },
    "papermill": {
     "duration": 0.121296,
     "end_time": "2022-05-13T16:23:52.863872",
     "exception": false,
     "start_time": "2022-05-13T16:23:52.742576",
     "status": "completed"
    },
    "tags": []
   },
   "outputs": [],
   "source": [
    "data.timestamp.dt.date"
   ]
  },
  {
   "cell_type": "markdown",
   "id": "c9f64425",
   "metadata": {
    "papermill": {
     "duration": 0.100561,
     "end_time": "2022-05-13T16:23:53.064695",
     "exception": false,
     "start_time": "2022-05-13T16:23:52.964134",
     "status": "completed"
    },
    "tags": []
   },
   "source": [
    "Even the he day of the week (with Monday=0, Sunday=6)"
   ]
  },
  {
   "cell_type": "code",
   "execution_count": null,
   "id": "445d0cd3",
   "metadata": {
    "execution": {
     "iopub.execute_input": "2022-05-13T16:23:53.269188Z",
     "iopub.status.busy": "2022-05-13T16:23:53.268172Z",
     "iopub.status.idle": "2022-05-13T16:23:53.277062Z",
     "shell.execute_reply": "2022-05-13T16:23:53.277580Z",
     "shell.execute_reply.started": "2022-05-04T01:45:59.585197Z"
    },
    "papermill": {
     "duration": 0.111731,
     "end_time": "2022-05-13T16:23:53.277774",
     "exception": false,
     "start_time": "2022-05-13T16:23:53.166043",
     "status": "completed"
    },
    "tags": []
   },
   "outputs": [],
   "source": [
    "data.timestamp.dt.weekday"
   ]
  },
  {
   "cell_type": "markdown",
   "id": "def3539e",
   "metadata": {
    "papermill": {
     "duration": 0.100451,
     "end_time": "2022-05-13T16:23:53.482270",
     "exception": false,
     "start_time": "2022-05-13T16:23:53.381819",
     "status": "completed"
    },
    "tags": []
   },
   "source": [
    "The hour"
   ]
  },
  {
   "cell_type": "code",
   "execution_count": null,
   "id": "a94d1c4f",
   "metadata": {
    "execution": {
     "iopub.execute_input": "2022-05-13T16:23:53.688312Z",
     "iopub.status.busy": "2022-05-13T16:23:53.687301Z",
     "iopub.status.idle": "2022-05-13T16:23:53.696649Z",
     "shell.execute_reply": "2022-05-13T16:23:53.697196Z",
     "shell.execute_reply.started": "2022-05-04T01:46:22.066125Z"
    },
    "papermill": {
     "duration": 0.114989,
     "end_time": "2022-05-13T16:23:53.697368",
     "exception": false,
     "start_time": "2022-05-13T16:23:53.582379",
     "status": "completed"
    },
    "tags": []
   },
   "outputs": [],
   "source": [
    "data.timestamp.dt.hour"
   ]
  },
  {
   "cell_type": "markdown",
   "id": "c4872ad0",
   "metadata": {
    "papermill": {
     "duration": 0.100088,
     "end_time": "2022-05-13T16:23:53.899185",
     "exception": false,
     "start_time": "2022-05-13T16:23:53.799097",
     "status": "completed"
    },
    "tags": []
   },
   "source": [
    "Or the minutes"
   ]
  },
  {
   "cell_type": "code",
   "execution_count": null,
   "id": "637817ca",
   "metadata": {
    "execution": {
     "iopub.execute_input": "2022-05-13T16:23:54.113142Z",
     "iopub.status.busy": "2022-05-13T16:23:54.111993Z",
     "iopub.status.idle": "2022-05-13T16:23:54.119958Z",
     "shell.execute_reply": "2022-05-13T16:23:54.119265Z",
     "shell.execute_reply.started": "2022-05-04T01:46:36.803123Z"
    },
    "papermill": {
     "duration": 0.115875,
     "end_time": "2022-05-13T16:23:54.120164",
     "exception": false,
     "start_time": "2022-05-13T16:23:54.004289",
     "status": "completed"
    },
    "tags": []
   },
   "outputs": [],
   "source": [
    "data.timestamp.dt.minute"
   ]
  },
  {
   "cell_type": "markdown",
   "id": "4a6d73f1",
   "metadata": {
    "papermill": {
     "duration": 0.105539,
     "end_time": "2022-05-13T16:23:54.328201",
     "exception": false,
     "start_time": "2022-05-13T16:23:54.222662",
     "status": "completed"
    },
    "tags": []
   },
   "source": [
    "Pretty simple! You have all the datetime information handy.\n",
    "\n",
    "Now let's smooth the data to plot it!"
   ]
  },
  {
   "cell_type": "code",
   "execution_count": null,
   "id": "35c5cd35",
   "metadata": {
    "execution": {
     "iopub.execute_input": "2022-05-13T16:23:54.545345Z",
     "iopub.status.busy": "2022-05-13T16:23:54.544295Z",
     "iopub.status.idle": "2022-05-13T16:23:54.584472Z",
     "shell.execute_reply": "2022-05-13T16:23:54.584954Z",
     "shell.execute_reply.started": "2022-05-04T01:46:45.366001Z"
    },
    "papermill": {
     "duration": 0.153491,
     "end_time": "2022-05-13T16:23:54.585138",
     "exception": false,
     "start_time": "2022-05-13T16:23:54.431647",
     "status": "completed"
    },
    "tags": []
   },
   "outputs": [],
   "source": [
    "data_hour = data.resample('1H', on=\"timestamp\").mean()\n",
    "data_hour.head()"
   ]
  },
  {
   "cell_type": "markdown",
   "id": "56b7b0f8",
   "metadata": {
    "papermill": {
     "duration": 0.107788,
     "end_time": "2022-05-13T16:23:54.797703",
     "exception": false,
     "start_time": "2022-05-13T16:23:54.689915",
     "status": "completed"
    },
    "tags": []
   },
   "source": [
    "And we have the mean temperature by hour! Plotting it is simple with this data set:"
   ]
  },
  {
   "cell_type": "code",
   "execution_count": null,
   "id": "73065104",
   "metadata": {
    "execution": {
     "iopub.execute_input": "2022-05-13T16:23:55.014142Z",
     "iopub.status.busy": "2022-05-13T16:23:55.013448Z",
     "iopub.status.idle": "2022-05-13T16:24:10.539974Z",
     "shell.execute_reply": "2022-05-13T16:24:10.540820Z",
     "shell.execute_reply.started": "2022-05-04T01:47:09.071507Z"
    },
    "papermill": {
     "duration": 15.639283,
     "end_time": "2022-05-13T16:24:10.541081",
     "exception": false,
     "start_time": "2022-05-13T16:23:54.901798",
     "status": "completed"
    },
    "tags": []
   },
   "outputs": [],
   "source": [
    "fig = sns.lineplot(data=data_hour)\n",
    "\n",
    "# This is just for hiding the legend for now, there are a lot of labels and is difficult to see the plot\n",
    "plt.legend([],[], frameon=False)"
   ]
  },
  {
   "cell_type": "markdown",
   "id": "cd646eb8",
   "metadata": {
    "papermill": {
     "duration": 0.118541,
     "end_time": "2022-05-13T16:24:10.785441",
     "exception": false,
     "start_time": "2022-05-13T16:24:10.666900",
     "status": "completed"
    },
    "tags": []
   },
   "source": [
    "Let's do it again but daily:"
   ]
  },
  {
   "cell_type": "code",
   "execution_count": null,
   "id": "0e788b54",
   "metadata": {
    "execution": {
     "iopub.execute_input": "2022-05-13T16:24:11.012957Z",
     "iopub.status.busy": "2022-05-13T16:24:11.012259Z",
     "iopub.status.idle": "2022-05-13T16:24:11.051923Z",
     "shell.execute_reply": "2022-05-13T16:24:11.052733Z",
     "shell.execute_reply.started": "2022-05-04T01:47:53.44803Z"
    },
    "papermill": {
     "duration": 0.155209,
     "end_time": "2022-05-13T16:24:11.052979",
     "exception": false,
     "start_time": "2022-05-13T16:24:10.897770",
     "status": "completed"
    },
    "tags": []
   },
   "outputs": [],
   "source": [
    "data_day = data.resample('24H', on=\"timestamp\").mean()\n",
    "data_day.head()"
   ]
  },
  {
   "cell_type": "code",
   "execution_count": null,
   "id": "0e01f323",
   "metadata": {
    "execution": {
     "iopub.execute_input": "2022-05-13T16:24:11.291854Z",
     "iopub.status.busy": "2022-05-13T16:24:11.290903Z",
     "iopub.status.idle": "2022-05-13T16:24:14.588688Z",
     "shell.execute_reply": "2022-05-13T16:24:14.589221Z",
     "shell.execute_reply.started": "2022-05-04T01:48:02.057968Z"
    },
    "papermill": {
     "duration": 3.418508,
     "end_time": "2022-05-13T16:24:14.589412",
     "exception": false,
     "start_time": "2022-05-13T16:24:11.170904",
     "status": "completed"
    },
    "tags": []
   },
   "outputs": [],
   "source": [
    "sns.lineplot(data=data_day)\n",
    "\n",
    "# This is just for hiding the legend for now, there are a lot of labels and is difficult to see the plot\n",
    "plt.legend([],[], frameon=False)"
   ]
  },
  {
   "cell_type": "markdown",
   "id": "d01f6cbd",
   "metadata": {
    "papermill": {
     "duration": 0.119232,
     "end_time": "2022-05-13T16:24:14.830894",
     "exception": false,
     "start_time": "2022-05-13T16:24:14.711662",
     "status": "completed"
    },
    "tags": []
   },
   "source": [
    "## Heatmaps"
   ]
  },
  {
   "cell_type": "markdown",
   "id": "96230cae",
   "metadata": {
    "papermill": {
     "duration": 0.120552,
     "end_time": "2022-05-13T16:24:15.076749",
     "exception": false,
     "start_time": "2022-05-13T16:24:14.956197",
     "status": "completed"
    },
    "tags": []
   },
   "source": [
    "Lineplots are easy but still pretty diffcult to visualize. Instead, we can use [heatmaps](https://seaborn.pydata.org/generated/seaborn.heatmap.html), it's also really easy. Remember you can transpose your data to change the axis, like this:"
   ]
  },
  {
   "cell_type": "code",
   "execution_count": null,
   "id": "b9987f0e",
   "metadata": {
    "execution": {
     "iopub.execute_input": "2022-05-13T16:24:15.327069Z",
     "iopub.status.busy": "2022-05-13T16:24:15.326304Z",
     "iopub.status.idle": "2022-05-13T16:24:15.360740Z",
     "shell.execute_reply": "2022-05-13T16:24:15.361246Z",
     "shell.execute_reply.started": "2022-05-04T01:51:19.784602Z"
    },
    "papermill": {
     "duration": 0.163361,
     "end_time": "2022-05-13T16:24:15.361437",
     "exception": false,
     "start_time": "2022-05-13T16:24:15.198076",
     "status": "completed"
    },
    "tags": []
   },
   "outputs": [],
   "source": [
    "data_hour.T"
   ]
  },
  {
   "cell_type": "markdown",
   "id": "a1dd2983",
   "metadata": {
    "papermill": {
     "duration": 0.119451,
     "end_time": "2022-05-13T16:24:15.603660",
     "exception": false,
     "start_time": "2022-05-13T16:24:15.484209",
     "status": "completed"
    },
    "tags": []
   },
   "source": [
    "And super-easy to plot:"
   ]
  },
  {
   "cell_type": "code",
   "execution_count": null,
   "id": "57ab29a1",
   "metadata": {
    "execution": {
     "iopub.execute_input": "2022-05-13T16:24:15.849547Z",
     "iopub.status.busy": "2022-05-13T16:24:15.848889Z",
     "iopub.status.idle": "2022-05-13T16:24:19.789280Z",
     "shell.execute_reply": "2022-05-13T16:24:19.789844Z",
     "shell.execute_reply.started": "2022-05-04T01:51:43.026816Z"
    },
    "papermill": {
     "duration": 4.06554,
     "end_time": "2022-05-13T16:24:19.790038",
     "exception": false,
     "start_time": "2022-05-13T16:24:15.724498",
     "status": "completed"
    },
    "tags": []
   },
   "outputs": [],
   "source": [
    "sns.heatmap(data_hour.T, cmap=\"hot_r\")"
   ]
  },
  {
   "cell_type": "code",
   "execution_count": null,
   "id": "8d45f8dd",
   "metadata": {
    "execution": {
     "iopub.execute_input": "2022-05-13T16:24:20.046438Z",
     "iopub.status.busy": "2022-05-13T16:24:20.045747Z",
     "iopub.status.idle": "2022-05-13T16:24:22.643904Z",
     "shell.execute_reply": "2022-05-13T16:24:22.644433Z",
     "shell.execute_reply.started": "2022-05-04T01:53:48.544385Z"
    },
    "papermill": {
     "duration": 2.726684,
     "end_time": "2022-05-13T16:24:22.644628",
     "exception": false,
     "start_time": "2022-05-13T16:24:19.917944",
     "status": "completed"
    },
    "tags": []
   },
   "outputs": [],
   "source": [
    "sns.heatmap(data_day.T, cmap=\"hot_r\")"
   ]
  },
  {
   "cell_type": "markdown",
   "id": "0d39d7d9",
   "metadata": {
    "papermill": {
     "duration": 0.132556,
     "end_time": "2022-05-13T16:24:22.906661",
     "exception": false,
     "start_time": "2022-05-13T16:24:22.774105",
     "status": "completed"
    },
    "tags": []
   },
   "source": [
    "With this kind of plot is pretty evident where we have gaps with no-readings."
   ]
  },
  {
   "cell_type": "markdown",
   "id": "8ce8bedd",
   "metadata": {
    "papermill": {
     "duration": 0.128796,
     "end_time": "2022-05-13T16:24:23.166686",
     "exception": false,
     "start_time": "2022-05-13T16:24:23.037890",
     "status": "completed"
    },
    "tags": []
   },
   "source": [
    "# Summary stats"
   ]
  },
  {
   "cell_type": "markdown",
   "id": "290f72f9",
   "metadata": {
    "papermill": {
     "duration": 0.12757,
     "end_time": "2022-05-13T16:24:23.422493",
     "exception": false,
     "start_time": "2022-05-13T16:24:23.294923",
     "status": "completed"
    },
    "tags": []
   },
   "source": [
    "Usually is useful to get some summary stats from our data. Fortunately, pandas has a simple method to obtain them:"
   ]
  },
  {
   "cell_type": "code",
   "execution_count": null,
   "id": "7dee074b",
   "metadata": {
    "execution": {
     "iopub.execute_input": "2022-05-13T16:24:23.686716Z",
     "iopub.status.busy": "2022-05-13T16:24:23.686013Z",
     "iopub.status.idle": "2022-05-13T16:24:24.056233Z",
     "shell.execute_reply": "2022-05-13T16:24:24.055696Z",
     "shell.execute_reply.started": "2022-05-04T01:54:39.538689Z"
    },
    "papermill": {
     "duration": 0.505705,
     "end_time": "2022-05-13T16:24:24.056385",
     "exception": false,
     "start_time": "2022-05-13T16:24:23.550680",
     "status": "completed"
    },
    "tags": []
   },
   "outputs": [],
   "source": [
    "data.describe()"
   ]
  },
  {
   "cell_type": "markdown",
   "id": "82b79b85",
   "metadata": {
    "papermill": {
     "duration": 0.130054,
     "end_time": "2022-05-13T16:24:24.318266",
     "exception": false,
     "start_time": "2022-05-13T16:24:24.188212",
     "status": "completed"
    },
    "tags": []
   },
   "source": [
    "These stats are usually visualizes in boxplot and histograms; these two plots can be easily obtained with the plotting libraries we are using. But first I suggest processing a little the dataframe to be able to plot all sensors in the same figure. We are using the pandas method [melt](https://pandas.pydata.org/docs/reference/api/pandas.melt.html). We have the data in this way right now:"
   ]
  },
  {
   "cell_type": "code",
   "execution_count": null,
   "id": "4fd494b2",
   "metadata": {
    "execution": {
     "iopub.execute_input": "2022-05-13T16:24:24.582940Z",
     "iopub.status.busy": "2022-05-13T16:24:24.582227Z",
     "iopub.status.idle": "2022-05-13T16:24:24.606731Z",
     "shell.execute_reply": "2022-05-13T16:24:24.607274Z",
     "shell.execute_reply.started": "2022-05-04T01:55:19.525786Z"
    },
    "papermill": {
     "duration": 0.15958,
     "end_time": "2022-05-13T16:24:24.607471",
     "exception": false,
     "start_time": "2022-05-13T16:24:24.447891",
     "status": "completed"
    },
    "tags": []
   },
   "outputs": [],
   "source": [
    "data.head()"
   ]
  },
  {
   "cell_type": "markdown",
   "id": "3a552f52",
   "metadata": {
    "papermill": {
     "duration": 0.130869,
     "end_time": "2022-05-13T16:24:24.871540",
     "exception": false,
     "start_time": "2022-05-13T16:24:24.740671",
     "status": "completed"
    },
    "tags": []
   },
   "source": [
    "If we use the `melt` method we can convert our columns in rows, creating a new one that indicates which column it was. Is easier seeing the results, check it out:"
   ]
  },
  {
   "cell_type": "code",
   "execution_count": null,
   "id": "d16467cd",
   "metadata": {
    "execution": {
     "iopub.execute_input": "2022-05-13T16:24:25.139143Z",
     "iopub.status.busy": "2022-05-13T16:24:25.138481Z",
     "iopub.status.idle": "2022-05-13T16:24:35.571505Z",
     "shell.execute_reply": "2022-05-13T16:24:35.570820Z",
     "shell.execute_reply.started": "2022-05-04T01:55:50.435545Z"
    },
    "papermill": {
     "duration": 10.567508,
     "end_time": "2022-05-13T16:24:35.571660",
     "exception": false,
     "start_time": "2022-05-13T16:24:25.004152",
     "status": "completed"
    },
    "tags": []
   },
   "outputs": [],
   "source": [
    "melted_data = data.melt(id_vars=\"timestamp\", var_name=\"sensor\", value_name=\"temperature\")\n",
    "melted_data"
   ]
  },
  {
   "cell_type": "markdown",
   "id": "475558d4",
   "metadata": {
    "papermill": {
     "duration": 0.130796,
     "end_time": "2022-05-13T16:24:35.833365",
     "exception": false,
     "start_time": "2022-05-13T16:24:35.702569",
     "status": "completed"
    },
    "tags": []
   },
   "source": [
    "And now that we have the data in this shape, is easy to get a boxplot:"
   ]
  },
  {
   "cell_type": "code",
   "execution_count": null,
   "id": "0c77b980",
   "metadata": {
    "execution": {
     "iopub.execute_input": "2022-05-13T16:24:36.340290Z",
     "iopub.status.busy": "2022-05-13T16:24:36.339291Z",
     "iopub.status.idle": "2022-05-13T16:24:41.855129Z",
     "shell.execute_reply": "2022-05-13T16:24:41.855774Z",
     "shell.execute_reply.started": "2022-05-04T01:56:22.503705Z"
    },
    "papermill": {
     "duration": 5.889257,
     "end_time": "2022-05-13T16:24:41.855958",
     "exception": false,
     "start_time": "2022-05-13T16:24:35.966701",
     "status": "completed"
    },
    "tags": []
   },
   "outputs": [],
   "source": [
    "fig = sns.boxplot(y=\"temperature\", x=\"sensor\", data=melted_data)\n",
    "labels = plt.xticks(rotation=90)"
   ]
  },
  {
   "cell_type": "markdown",
   "id": "c5bc2180",
   "metadata": {
    "papermill": {
     "duration": 0.135023,
     "end_time": "2022-05-13T16:24:42.128133",
     "exception": false,
     "start_time": "2022-05-13T16:24:41.993110",
     "status": "completed"
    },
    "tags": []
   },
   "source": [
    "We can also plot an histogram, but with this number of sensors a boxplot is cleaner:"
   ]
  },
  {
   "cell_type": "code",
   "execution_count": null,
   "id": "5e3444b7",
   "metadata": {
    "execution": {
     "iopub.execute_input": "2022-05-13T16:24:42.400907Z",
     "iopub.status.busy": "2022-05-13T16:24:42.400213Z",
     "iopub.status.idle": "2022-05-13T16:25:00.947158Z",
     "shell.execute_reply": "2022-05-13T16:25:00.947704Z",
     "shell.execute_reply.started": "2022-05-04T01:56:49.510428Z"
    },
    "papermill": {
     "duration": 18.683849,
     "end_time": "2022-05-13T16:25:00.947881",
     "exception": false,
     "start_time": "2022-05-13T16:24:42.264032",
     "status": "completed"
    },
    "tags": []
   },
   "outputs": [],
   "source": [
    "fig = sns.histplot(data=melted_data, x=\"temperature\", hue=\"sensor\", bins=20, kde=True, palette=\"Dark2\")\n",
    "\n",
    "# This is just for hiding the legend for now, there are a lot of labels and is difficult to see the plot\n",
    "plt.legend([],[], frameon=False)"
   ]
  },
  {
   "cell_type": "markdown",
   "id": "8c1ba6d6",
   "metadata": {
    "papermill": {
     "duration": 0.135031,
     "end_time": "2022-05-13T16:25:01.222304",
     "exception": false,
     "start_time": "2022-05-13T16:25:01.087273",
     "status": "completed"
    },
    "tags": []
   },
   "source": [
    "Finally, let's create a dataset with the stats. "
   ]
  },
  {
   "cell_type": "code",
   "execution_count": null,
   "id": "742e439b",
   "metadata": {
    "execution": {
     "iopub.execute_input": "2022-05-13T16:25:01.499604Z",
     "iopub.status.busy": "2022-05-13T16:25:01.498021Z",
     "iopub.status.idle": "2022-05-13T16:25:01.842311Z",
     "shell.execute_reply": "2022-05-13T16:25:01.842828Z",
     "shell.execute_reply.started": "2022-05-04T01:57:51.951746Z"
    },
    "papermill": {
     "duration": 0.483777,
     "end_time": "2022-05-13T16:25:01.843016",
     "exception": false,
     "start_time": "2022-05-13T16:25:01.359239",
     "status": "completed"
    },
    "tags": []
   },
   "outputs": [],
   "source": [
    "stats_data = data.describe()\n",
    "stats_data"
   ]
  },
  {
   "cell_type": "markdown",
   "id": "804e02aa",
   "metadata": {
    "papermill": {
     "duration": 0.137247,
     "end_time": "2022-05-13T16:25:02.121023",
     "exception": false,
     "start_time": "2022-05-13T16:25:01.983776",
     "status": "completed"
    },
    "tags": []
   },
   "source": [
    "We are transposing it and reseting the index to keep a column with the point id (was the name of the column):"
   ]
  },
  {
   "cell_type": "code",
   "execution_count": null,
   "id": "f592eb4c",
   "metadata": {
    "execution": {
     "iopub.execute_input": "2022-05-13T16:25:02.401029Z",
     "iopub.status.busy": "2022-05-13T16:25:02.400339Z",
     "iopub.status.idle": "2022-05-13T16:25:02.423015Z",
     "shell.execute_reply": "2022-05-13T16:25:02.423549Z",
     "shell.execute_reply.started": "2022-05-04T01:58:02.364351Z"
    },
    "papermill": {
     "duration": 0.164742,
     "end_time": "2022-05-13T16:25:02.423728",
     "exception": false,
     "start_time": "2022-05-13T16:25:02.258986",
     "status": "completed"
    },
    "tags": []
   },
   "outputs": [],
   "source": [
    "stats_data = stats_data.T.reset_index().rename(columns={\"index\":\"id_point\"})\n",
    "stats_data"
   ]
  },
  {
   "cell_type": "markdown",
   "id": "e405110f",
   "metadata": {
    "papermill": {
     "duration": 0.140063,
     "end_time": "2022-05-13T16:25:02.701179",
     "exception": false,
     "start_time": "2022-05-13T16:25:02.561116",
     "status": "completed"
    },
    "tags": []
   },
   "source": [
    "And now let's convert the `id_point` column in our metadata set to string (is an int right now) so we are able to merge with `stats_data`:"
   ]
  },
  {
   "cell_type": "code",
   "execution_count": null,
   "id": "fefd7e6f",
   "metadata": {
    "execution": {
     "iopub.execute_input": "2022-05-13T16:25:02.983945Z",
     "iopub.status.busy": "2022-05-13T16:25:02.983224Z",
     "iopub.status.idle": "2022-05-13T16:25:02.987806Z",
     "shell.execute_reply": "2022-05-13T16:25:02.988251Z",
     "shell.execute_reply.started": "2022-05-04T01:58:08.636223Z"
    },
    "papermill": {
     "duration": 0.148447,
     "end_time": "2022-05-13T16:25:02.988449",
     "exception": false,
     "start_time": "2022-05-13T16:25:02.840002",
     "status": "completed"
    },
    "tags": []
   },
   "outputs": [],
   "source": [
    "metadata['id_point'] = metadata['id_point'].astype(str)"
   ]
  },
  {
   "cell_type": "markdown",
   "id": "b1684fd1",
   "metadata": {
    "papermill": {
     "duration": 0.136543,
     "end_time": "2022-05-13T16:25:03.261648",
     "exception": false,
     "start_time": "2022-05-13T16:25:03.125105",
     "status": "completed"
    },
    "tags": []
   },
   "source": [
    "And merge!"
   ]
  },
  {
   "cell_type": "code",
   "execution_count": null,
   "id": "4f5f1071",
   "metadata": {
    "execution": {
     "iopub.execute_input": "2022-05-13T16:25:03.539069Z",
     "iopub.status.busy": "2022-05-13T16:25:03.538357Z",
     "iopub.status.idle": "2022-05-13T16:25:03.573207Z",
     "shell.execute_reply": "2022-05-13T16:25:03.573718Z",
     "shell.execute_reply.started": "2022-05-04T01:58:26.144368Z"
    },
    "papermill": {
     "duration": 0.17522,
     "end_time": "2022-05-13T16:25:03.573908",
     "exception": false,
     "start_time": "2022-05-13T16:25:03.398688",
     "status": "completed"
    },
    "tags": []
   },
   "outputs": [],
   "source": [
    "stats_merged = pd.merge(stats_data, metadata, how=\"left\", on=\"id_point\")\n",
    "stats_merged.head()"
   ]
  },
  {
   "cell_type": "code",
   "execution_count": null,
   "id": "7a4df7eb",
   "metadata": {
    "execution": {
     "iopub.execute_input": "2022-05-13T16:25:03.864835Z",
     "iopub.status.busy": "2022-05-13T16:25:03.855266Z",
     "iopub.status.idle": "2022-05-13T16:25:03.904103Z",
     "shell.execute_reply": "2022-05-13T16:25:03.904640Z",
     "shell.execute_reply.started": "2022-05-04T01:58:32.54441Z"
    },
    "papermill": {
     "duration": 0.192931,
     "end_time": "2022-05-13T16:25:03.904817",
     "exception": false,
     "start_time": "2022-05-13T16:25:03.711886",
     "status": "completed"
    },
    "tags": []
   },
   "outputs": [],
   "source": [
    "metadata.T"
   ]
  },
  {
   "cell_type": "markdown",
   "id": "e9c54a9c",
   "metadata": {
    "papermill": {
     "duration": 0.139882,
     "end_time": "2022-05-13T16:25:04.190025",
     "exception": false,
     "start_time": "2022-05-13T16:25:04.050143",
     "status": "completed"
    },
    "tags": []
   },
   "source": [
    "Finally, plot! we want to visualize the mean temperature of the points, colored by the building name."
   ]
  },
  {
   "cell_type": "code",
   "execution_count": null,
   "id": "1f1ef7c0",
   "metadata": {
    "execution": {
     "iopub.execute_input": "2022-05-13T16:25:04.486049Z",
     "iopub.status.busy": "2022-05-13T16:25:04.485295Z",
     "iopub.status.idle": "2022-05-13T16:25:11.219728Z",
     "shell.execute_reply": "2022-05-13T16:25:11.220241Z",
     "shell.execute_reply.started": "2022-05-04T01:58:45.196447Z"
    },
    "papermill": {
     "duration": 6.890633,
     "end_time": "2022-05-13T16:25:11.220439",
     "exception": false,
     "start_time": "2022-05-13T16:25:04.329806",
     "status": "completed"
    },
    "tags": []
   },
   "outputs": [],
   "source": [
    "fig = sns.barplot(data=stats_merged, x=\"id_point\", y=\"mean\", hue=\"name_bdg\", dodge=False)\n",
    "labels = plt.xticks(rotation=90)"
   ]
  },
  {
   "cell_type": "code",
   "execution_count": null,
   "id": "85fa0142",
   "metadata": {
    "papermill": {
     "duration": 0.143408,
     "end_time": "2022-05-13T16:25:11.511388",
     "exception": false,
     "start_time": "2022-05-13T16:25:11.367980",
     "status": "completed"
    },
    "tags": []
   },
   "outputs": [],
   "source": []
  }
 ],
 "metadata": {
  "kernelspec": {
   "display_name": "Python 3 (ipykernel)",
   "language": "python",
   "name": "python3"
  },
  "language_info": {
   "codemirror_mode": {
    "name": "ipython",
    "version": 3
   },
   "file_extension": ".py",
   "mimetype": "text/x-python",
   "name": "python",
   "nbconvert_exporter": "python",
   "pygments_lexer": "ipython3",
   "version": "3.9.12"
  },
  "papermill": {
   "default_parameters": {},
   "duration": 192.25275,
   "end_time": "2022-05-13T16:25:13.067333",
   "environment_variables": {},
   "exception": null,
   "input_path": "__notebook__.ipynb",
   "output_path": "__notebook__.ipynb",
   "parameters": {},
   "start_time": "2022-05-13T16:22:00.814583",
   "version": "2.3.3"
  }
 },
 "nbformat": 4,
 "nbformat_minor": 5
}
